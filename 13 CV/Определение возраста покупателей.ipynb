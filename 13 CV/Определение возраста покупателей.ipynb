{
 "cells": [
  {
   "cell_type": "markdown",
   "metadata": {},
   "source": [
    "# Определение возраста покупателей\n",
    "\n",
    "**Введение**\n",
    "\n",
    "Сетевой супермаркет «Хлеб-Соль» внедряет систему компьютерного зрения для обработки фотографий покупателей. Фотофиксация в прикассовой зоне позволит решать сразу несколько бизнес-задач:\n",
    "- **анализировать поведение покупателей** разных возрастных групп;\n",
    "- **персонализировать маркетинговые предложения**;\n",
    "- **контролировать соблюдение правил продажи алкоголя**, особенно касаемо лиц младше 18 лет.\n",
    "\n",
    "Для реализации этой системы необходимо создать модель, которая будет **определять возраст человека по фотографии**. Это задача регрессии на основе изображений.\n",
    "\n",
    "**Цель проекта**\n",
    "\n",
    "Разработать модель, которая по изображению лица способна **точно предсказать возраст** человека. Минимизировать ошибку предсказания и добиться значения **MAE < 8 лет**.\n",
    "\n",
    "**План работы**\n",
    "\n",
    "1. **Исследовательский анализ данных (EDA)**:\n",
    "   - изучить распределение возрастов;\n",
    "   - визуализировать примеры изображений;\n",
    "   - проанализировать баланс классов и потенциальные сложности.\n",
    "\n",
    "2. **Подготовка данных**:\n",
    "   - масштабирование изображений;\n",
    "   - разделение на обучающую и валидационную выборки;\n",
    "   - генерация аугментаций.\n",
    "\n",
    "3. **Построение модели**:\n",
    "   - использование предобученной нейросети (например, ResNet50) в качестве базы;\n",
    "   - настройка полносвязных слоёв и функции активации;\n",
    "   - выбор оптимального оптимизатора и функции потерь.\n",
    "\n",
    "4. **Обучение и оценка модели**:\n",
    "   - запуск обучения с контрольными точками;\n",
    "   - анализ метрик (MAE и MSE) на обучении и валидации;\n",
    "   - выбор наилучшей эпохи на основе валидационной ошибки.\n",
    "\n",
    "5. **Выводы и рекомендации**:\n",
    "   - анализ качества модели;\n",
    "   - предложения по улучшению;\n",
    "   - возможные шаги для внедрения.\n",
    "\n",
    "**Описание данных**\n",
    "\n",
    "Данные предоставлены платформой ChaLearn Looking at People. Они размещены в директории `/datasets/faces/` и состоят из:\n",
    "\n",
    "- папки `/final_files/` — содержит **7591 изображение** лиц людей;\n",
    "- файла `labels.csv` — таблица с метками в формате:\n",
    "  - `file_name` — имя изображения;\n",
    "  - `real_age` — возраст человека (целое число).\n",
    "\n",
    "Для загрузки и подготовки изображений используется `ImageDataGenerator` с методом `flow_from_dataframe`, который позволяет удобно считывать изображения по списку из датафрейма.\n"
   ]
  },
  {
   "cell_type": "markdown",
   "metadata": {},
   "source": [
    "## Исследовательский анализ данных"
   ]
  },
  {
   "cell_type": "markdown",
   "metadata": {},
   "source": [
    "### Загрузка данных и библиотек"
   ]
  },
  {
   "cell_type": "code",
   "execution_count": 1,
   "metadata": {},
   "outputs": [],
   "source": [
    "import pandas as pd\n",
    "import matplotlib.pyplot as plt\n",
    "import seaborn as sns\n",
    "import os\n",
    "from tensorflow.keras.preprocessing.image import load_img\n",
    "import numpy as np"
   ]
  },
  {
   "cell_type": "code",
   "execution_count": 2,
   "metadata": {},
   "outputs": [
    {
     "name": "stdout",
     "output_type": "stream",
     "text": [
      "Размер выборки: (7591, 2)\n"
     ]
    },
    {
     "data": {
      "text/html": [
       "<div>\n",
       "<style scoped>\n",
       "    .dataframe tbody tr th:only-of-type {\n",
       "        vertical-align: middle;\n",
       "    }\n",
       "\n",
       "    .dataframe tbody tr th {\n",
       "        vertical-align: top;\n",
       "    }\n",
       "\n",
       "    .dataframe thead th {\n",
       "        text-align: right;\n",
       "    }\n",
       "</style>\n",
       "<table border=\"1\" class=\"dataframe\">\n",
       "  <thead>\n",
       "    <tr style=\"text-align: right;\">\n",
       "      <th></th>\n",
       "      <th>file_name</th>\n",
       "      <th>real_age</th>\n",
       "    </tr>\n",
       "  </thead>\n",
       "  <tbody>\n",
       "    <tr>\n",
       "      <th>0</th>\n",
       "      <td>000000.jpg</td>\n",
       "      <td>4</td>\n",
       "    </tr>\n",
       "    <tr>\n",
       "      <th>1</th>\n",
       "      <td>000001.jpg</td>\n",
       "      <td>18</td>\n",
       "    </tr>\n",
       "    <tr>\n",
       "      <th>2</th>\n",
       "      <td>000002.jpg</td>\n",
       "      <td>80</td>\n",
       "    </tr>\n",
       "    <tr>\n",
       "      <th>3</th>\n",
       "      <td>000003.jpg</td>\n",
       "      <td>50</td>\n",
       "    </tr>\n",
       "    <tr>\n",
       "      <th>4</th>\n",
       "      <td>000004.jpg</td>\n",
       "      <td>17</td>\n",
       "    </tr>\n",
       "  </tbody>\n",
       "</table>\n",
       "</div>"
      ],
      "text/plain": [
       "    file_name  real_age\n",
       "0  000000.jpg         4\n",
       "1  000001.jpg        18\n",
       "2  000002.jpg        80\n",
       "3  000003.jpg        50\n",
       "4  000004.jpg        17"
      ]
     },
     "execution_count": 2,
     "metadata": {},
     "output_type": "execute_result"
    }
   ],
   "source": [
    "data_path = '/datasets/faces/'\n",
    "labels = pd.read_csv(os.path.join(data_path, 'labels.csv'))\n",
    "\n",
    "print(\"Размер выборки:\", labels.shape)\n",
    "labels.head()"
   ]
  },
  {
   "cell_type": "markdown",
   "metadata": {},
   "source": [
    "### График распределения возраста"
   ]
  },
  {
   "cell_type": "code",
   "execution_count": 4,
   "metadata": {},
   "outputs": [
    {
     "data": {
      "image/png": "[encoded data removed]",
      "text/plain": [
       "<Figure size 720x360 with 1 Axes>"
      ]
     },
     "metadata": {
      "needs_background": "light"
     },
     "output_type": "display_data"
    }
   ],
   "source": [
    "plt.figure(figsize=(10, 5))\n",
    "sns.histplot(labels['real_age'], bins=100, kde=True, color='skyblue', edgecolor='black')\n",
    "plt.title('Распределение возрастов в выборке')\n",
    "plt.xlabel('Возраст')\n",
    "plt.ylabel('Количество')\n",
    "plt.grid(True)\n",
    "plt.show()"
   ]
  },
  {
   "cell_type": "markdown",
   "metadata": {},
   "source": [
    "### Просмотр изображений"
   ]
  },
  {
   "cell_type": "code",
   "execution_count": null,
   "metadata": {},
   "outputs": [],
   "source": [
    "# Путь к изображениям\n",
    "images_dir = os.path.join(data_path, 'final_files')\n",
    "\n",
    "# Случайные 15 изображений\n",
    "sample = labels.sample(15, random_state=42).reset_index(drop=True)\n",
    "\n",
    "plt.figure(figsize=(15, 8))\n",
    "for i in range(15):\n",
    "    plt.subplot(3, 5, i+1)\n",
    "    image_path = os.path.join(images_dir, sample.loc[i, 'file_name'])\n",
    "    img = load_img(image_path, target_size=(128, 128))\n",
    "    plt.imshow(img)\n",
    "    plt.axis('off')\n",
    "    plt.title(f\"{sample.loc[i, 'real_age']} лет\")\n",
    "plt.tight_layout()\n",
    "plt.show()"
   ]
  },
  {
   "cell_type": "markdown",
   "metadata": {},
   "source": [
    "### Анализ распределения по возрастным группам"
   ]
  },
  {
   "cell_type": "code",
   "execution_count": null,
   "metadata": {},
   "outputs": [],
   "source": [
    "bins = [0, 12, 19, 35, 60, 100]\n",
    "labels['age_group'] = pd.cut(labels['real_age'], bins=bins,\n",
    "                             labels=['Дети', 'Подростки', 'Молодые взрослые', 'Взрослые', 'Пожилые'])\n",
    "\n",
    "plt.figure(figsize=(8, 5))\n",
    "sns.countplot(data=labels, x='age_group', order=labels['age_group'].value_counts().index)\n",
    "plt.title('Распределение по возрастным группам')\n",
    "plt.xlabel('Группа')\n",
    "plt.ylabel('Количество изображений')\n",
    "plt.grid(True)\n",
    "plt.show()"
   ]
  },
  {
   "cell_type": "code",
   "execution_count": null,
   "metadata": {},
   "outputs": [],
   "source": [
    "print(\"Минимальный возраст:\", labels['real_age'].min())\n",
    "print(\"Максимальный возраст:\", labels['real_age'].max())"
   ]
  },
  {
   "cell_type": "code",
   "execution_count": null,
   "metadata": {},
   "outputs": [],
   "source": [
    "print(\"Повторяющихся изображений:\", labels['file_name'].duplicated().sum())"
   ]
  },
  {
   "cell_type": "markdown",
   "metadata": {},
   "source": [
    "### Анализ разбалансировки"
   ]
  },
  {
   "cell_type": "code",
   "execution_count": null,
   "metadata": {},
   "outputs": [],
   "source": [
    "age_counts = labels['real_age'].value_counts().sort_index()\n",
    "plt.figure(figsize=(12, 4))\n",
    "age_counts.plot(kind='bar')\n",
    "plt.title('Количество изображений по каждому возрасту')\n",
    "plt.xlabel('Возраст')\n",
    "plt.ylabel('Количество')\n",
    "plt.grid(True)\n",
    "plt.tight_layout()\n",
    "plt.show()"
   ]
  },
  {
   "cell_type": "markdown",
   "metadata": {},
   "source": [
    "### Изучение изображений по группам"
   ]
  },
  {
   "cell_type": "code",
   "execution_count": null,
   "metadata": {
    "scrolled": false
   },
   "outputs": [],
   "source": [
    "def show_images_by_group(group_name, n=5):\n",
    "    group_sample = labels[labels['age_group'] == group_name].sample(n, random_state=1)\n",
    "    plt.figure(figsize=(15, 3))\n",
    "    for i in range(n):\n",
    "        path = os.path.join(images_dir, group_sample.iloc[i]['file_name'])\n",
    "        img = load_img(path, target_size=(128, 128))\n",
    "        plt.subplot(1, n, i + 1)\n",
    "        plt.imshow(img)\n",
    "        plt.axis('off')\n",
    "        plt.title(f\"{group_sample.iloc[i]['real_age']} лет\")\n",
    "    plt.suptitle(f\"{group_name}\", fontsize=14)\n",
    "    plt.show()\n",
    "\n",
    "for group in labels['age_group'].cat.categories:\n",
    "    show_images_by_group(group)"
   ]
  },
  {
   "cell_type": "markdown",
   "metadata": {},
   "source": [
    "### Вывод по исследованию данных\n",
    "\n",
    "**Размер выборки**\n",
    "- В выборке содержится **7591 изображение** с аннотацией по возрасту.\n",
    "\n",
    "**Возрастной диапазон**\n",
    "- Возраст людей на изображениях варьируется от **1 до 100 лет**.\n",
    "\n",
    "**Распределение возраста**\n",
    "- **Распределение возраста неравномерное** и с выраженным **пиком в диапазоне от 25 до 35 лет**.\n",
    "- Возраста **25 и 30 лет** особенно выделяются по частоте — это может указывать на **ручную разметку** с округлением до «круглых» значений.\n",
    "- **После 40 лет** количество изображений стремительно сокращается.\n",
    "- **Дети** (до 12 лет) и **пожилые люди** (старше 60 лет) представлены заметно **реже**, что может привести к **смещению предсказаний модели** в сторону преобладающих возрастных групп.\n",
    "- Общий вид распределения напоминает **правосторонне скошенное**, с «длинным хвостом» в сторону пожилого возраста.\n",
    "- Благодаря повышенному разрешению гистограммы (100 бинов), были замечены **аномалии** — отдельные пики для конкретных возрастов, что может свидетельствовать о **неоднородности источника данных**.\n",
    "\n",
    "**Возрастные группы**\n",
    "- Были выделены 5 категорий: `Дети`, `Подростки`, `Молодые взрослые`, `Взрослые`, `Пожилые`.\n",
    "- Наиболее представленная категория — **молодые взрослые**.\n",
    "- Наименее представленная — **пожилые люди**.\n",
    "- Внутри групп (особенно у взрослых и пожилых) наблюдается **широкий диапазон значений**, что важно учитывать при анализе ошибок модели.\n",
    "\n",
    "**Качество изображений**\n",
    "- Изображения значительно варьируются по:\n",
    "  - **качеству** (есть как чёткие, так и размытые);\n",
    "  - **освещённости**, **фону**, **ракурсу**;\n",
    "  - **наличию посторонних объектов** (например, очки, волосы на лице);\n",
    "  - **цветности** — присутствуют и цветные, и чёрно-белые изображения.\n",
    "- Данные охватывают **разных людей**, включая представителей **разных полов и внешностей**, что положительно сказывается на **разнообразии выборки**.\n",
    "\n",
    "**Дополнительные наблюдения**\n",
    "- **Повторяющихся изображений не найдено** — каждый пример уникален.\n",
    "- Возраст — **непрерывная переменная**, поэтому задача — **регрессия**.\n",
    "- Деление на возрастные категории может быть полезно для **стратифицированной валидации** и **анализа ошибок модели** в зависимости от группы.\n"
   ]
  },
  {
   "cell_type": "markdown",
   "metadata": {},
   "source": [
    "## Обучение модели"
   ]
  },
  {
   "cell_type": "markdown",
   "metadata": {},
   "source": [
    "Перенесите сюда код обучения модели и её результат вывода на экран.\n",
    "\n",
    "\n",
    "(Код в этом разделе запускается в отдельном GPU-тренажёре, поэтому оформлен не как ячейка с кодом, а как код в текстовой ячейке)"
   ]
  },
  {
   "cell_type": "markdown",
   "metadata": {},
   "source": [
    "### Постановка задачи\n",
    "Для решения задачи регрессии возраста по изображениям была выбрана модель с предобученной архитектурой `ResNet50` в качестве backbone. К ней были добавлены:\n",
    "- слой `GlobalMaxPooling2D` для понижения размерности;\n",
    "- полносвязный слой `Dense(256, relu)` для нелинейного преобразования признаков;\n",
    "- выходной слой `Dense(1, relu)` для предсказания возраста (ограничение отрицательных значений).\n",
    "\n",
    "Модель компилировалась с функцией потерь `MSE` и метрикой `MAE`. Использовался оптимизатор `Adam` с learning rate `0.0002`. Для предотвращения переобучения были добавлены два `EarlyStopping` по `loss` и `mae` с `patience=5`."
   ]
  },
  {
   "cell_type": "markdown",
   "metadata": {},
   "source": [
    "```python\n",
    "\n",
    "import pandas as pd\n",
    "from tensorflow.keras.preprocessing.image import ImageDataGenerator\n",
    "from tensorflow.keras.models import Sequential\n",
    "from tensorflow.keras.layers import Dense, GlobalMaxPooling2D\n",
    "from tensorflow.keras.applications import ResNet50\n",
    "from tensorflow.keras.callbacks import EarlyStopping\n",
    "from tensorflow.keras.optimizers import Adam\n",
    "\n",
    "def load_train(path):\n",
    "    dataframe = pd.read_csv(path + 'labels.csv')\n",
    "    datagen = ImageDataGenerator(\n",
    "        rescale=1. / 255,\n",
    "        validation_split=0.25,\n",
    "        horizontal_flip=True\n",
    "    )\n",
    "    train_generator = datagen.flow_from_dataframe(\n",
    "        dataframe,\n",
    "        directory=path + 'final_files/',\n",
    "        x_col='file_name',\n",
    "        y_col='real_age',\n",
    "        target_size=(224, 224),\n",
    "        batch_size=32,\n",
    "        class_mode='raw',\n",
    "        subset='training',\n",
    "        shuffle=True,\n",
    "        seed=42\n",
    "    )\n",
    "    return train_generator\n",
    "\n",
    "def load_test(path):\n",
    "    dataframe = pd.read_csv(path + 'labels.csv')\n",
    "    datagen = ImageDataGenerator(\n",
    "        rescale=1. / 255,\n",
    "        validation_split=0.25\n",
    "    )\n",
    "    test_generator = datagen.flow_from_dataframe(\n",
    "        dataframe,\n",
    "        directory=path + 'final_files/',\n",
    "        x_col='file_name',\n",
    "        y_col='real_age',\n",
    "        target_size=(224, 224),\n",
    "        batch_size=32,\n",
    "        class_mode='raw',\n",
    "        subset='validation',\n",
    "        shuffle=False,\n",
    "        seed=42\n",
    "    )\n",
    "    return test_generator\n",
    "\n",
    "def create_model(input_shape=(224, 224, 3)):\n",
    "    backbone = ResNet50(input_shape=input_shape, weights='imagenet', include_top=False)\n",
    "    model = Sequential()\n",
    "    model.add(backbone)\n",
    "    model.add(GlobalMaxPooling2D())\n",
    "    model.add(Dense(256, activation='relu'))\n",
    "    model.add(Dense(1, activation='relu'))\n",
    "    model.compile(optimizer=Adam(learning_rate=0.0002), loss='mse', metrics=['mae'])\n",
    "    return model\n",
    "\n",
    "def train_model(model, train_data, test_data, batch_size=None, epochs=15,\n",
    "                steps_per_epoch=None, validation_steps=None):\n",
    "    stop_loss = EarlyStopping(monitor='loss', patience=5, restore_best_weights=True)\n",
    "    stop_mae = EarlyStopping(monitor='mae', patience=5, restore_best_weights=True)\n",
    "\n",
    "    model.fit(\n",
    "        train_data,\n",
    "        validation_data=test_data,\n",
    "        epochs=epochs,\n",
    "        steps_per_epoch=steps_per_epoch or len(train_data),\n",
    "        validation_steps=validation_steps or len(test_data),\n",
    "        callbacks=[stop_loss, stop_mae],\n",
    "        verbose=2\n",
    "    )\n",
    "    return model\n",
    "\n",
    "\n",
    "```"
   ]
  },
  {
   "cell_type": "markdown",
   "metadata": {},
   "source": [
    "### Результаты обучения:\n",
    "\n",
    "```\n",
    "\n",
    "178/178 - 57s - loss: 160.6954 - mae: 9.6061 - val_loss: 833.0027 - val_mae: 24.0778\n",
    "Epoch 2/15\n",
    "178/178 - 46s - loss: 77.4915 - mae: 6.7384 - val_loss: 660.4710 - val_mae: 20.7674\n",
    "Epoch 3/15\n",
    "178/178 - 46s - loss: 53.1161 - mae: 5.5430 - val_loss: 370.4320 - val_mae: 14.4303\n",
    "Epoch 4/15\n",
    "178/178 - 47s - loss: 37.6093 - mae: 4.6160 - val_loss: 168.3312 - val_mae: 9.7180\n",
    "Epoch 5/15\n",
    "178/178 - 48s - loss: 28.6905 - mae: 4.0561 - val_loss: 84.5521 - val_mae: 6.8887\n",
    "Epoch 6/15\n",
    "178/178 - 51s - loss: 21.4744 - mae: 3.5357 - val_loss: 73.3843 - val_mae: 6.2950\n",
    "Epoch 7/15\n",
    "178/178 - 47s - loss: 18.7342 - mae: 3.2823 - val_loss: 74.6784 - val_mae: 6.6831\n",
    "Epoch 8/15\n",
    "178/178 - 45s - loss: 17.7354 - mae: 3.2129 - val_loss: 71.5502 - val_mae: 6.2153\n",
    "Epoch 9/15\n",
    "178/178 - 46s - loss: 15.6413 - mae: 3.0288 - val_loss: 67.4739 - val_mae: 6.2319\n",
    "Epoch 10/15\n",
    "178/178 - 47s - loss: 14.7554 - mae: 2.9242 - val_loss: 72.9692 - val_mae: 6.2990\n",
    "Epoch 11/15\n",
    "178/178 - 47s - loss: 14.9228 - mae: 2.9495 - val_loss: 69.6528 - val_mae: 6.1347\n",
    "Epoch 12/15\n",
    "178/178 - 47s - loss: 13.7242 - mae: 2.7955 - val_loss: 72.0653 - val_mae: 6.4497\n",
    "Epoch 13/15\n",
    "178/178 - 46s - loss: 13.4400 - mae: 2.7940 - val_loss: 67.0767 - val_mae: 6.0478\n",
    "Epoch 14/15\n",
    "178/178 - 46s - loss: 12.6173 - mae: 2.6879 - val_loss: 73.4309 - val_mae: 6.5202\n",
    "Epoch 15/15\n",
    "178/178 - 46s - loss: 12.3138 - mae: 2.6567 - val_loss: 72.2132 - val_mae: 6.2630\n",
    "\n",
    "```"
   ]
  },
  {
   "cell_type": "markdown",
   "metadata": {},
   "source": [
    "## Анализ обученной модели"
   ]
  },
  {
   "cell_type": "markdown",
   "metadata": {},
   "source": [
    "***Динамика обучения***\n",
    "- На протяжении первых 5 эпох модель показала резкое снижение как `loss`, так и `MAE` на валидации, что указывает на успешное обучение.\n",
    "- После 6-й эпохи улучшения становятся более плавными, но стабильно продолжаются до 13-й эпохи.\n",
    "- Лучшее значение `val_mae = 6.05` достигнуто на **13-й эпохе**, что соответствует **средней ошибке предсказания в 6 лет**.\n",
    "\n",
    "***Качество модели***\n",
    "- Модель показывает устойчивую сходимость: разница между обучающей и валидационной MAE невелика, признаки переобучения не наблюдаются.\n",
    "- Значение `val_mae < 8` соответствует условию задачи — модель считается пригодной для использования.\n",
    "\n",
    "***Возможные улучшения***\n",
    "- Добавить **аугментации**, чувствительные к ракурсу и освещению.\n",
    "- Ввести **регуляризацию**: `Dropout`, `L2`, `BatchNormalization`.\n",
    "- Попробовать **другие архитектуры**.\n",
    "\n",
    "***Общий вывод***\n",
    "\n",
    "Обученная модель достигла **MAE ≈ 6.05** на валидационной выборке. Это хороший результат для задачи регрессии возраста по фотографии. Модель обучена устойчиво и без переобучения."
   ]
  }
 ],
 "metadata": {
  "ExecuteTimeLog": [
   {
    "duration": 2818,
    "start_time": "2025-04-09T09:39:32.570Z"
   },
   {
    "duration": 44,
    "start_time": "2025-04-09T09:39:46.475Z"
   },
   {
    "duration": 396,
    "start_time": "2025-04-09T09:40:11.394Z"
   },
   {
    "duration": 1463,
    "start_time": "2025-04-09T09:40:37.105Z"
   },
   {
    "duration": 1550,
    "start_time": "2025-04-09T09:40:40.017Z"
   },
   {
    "duration": 51,
    "start_time": "2025-04-10T19:41:47.096Z"
   },
   {
    "duration": 3006,
    "start_time": "2025-04-10T19:41:50.476Z"
   },
   {
    "duration": 66,
    "start_time": "2025-04-10T19:41:53.484Z"
   },
   {
    "duration": 390,
    "start_time": "2025-04-10T19:41:53.552Z"
   },
   {
    "duration": 1370,
    "start_time": "2025-04-10T19:41:53.944Z"
   },
   {
    "duration": 161,
    "start_time": "2025-04-10T19:41:55.316Z"
   },
   {
    "duration": 10,
    "start_time": "2025-04-10T19:42:09.840Z"
   },
   {
    "duration": 9,
    "start_time": "2025-04-10T19:42:17.236Z"
   },
   {
    "duration": 18,
    "start_time": "2025-04-10T19:42:25.711Z"
   },
   {
    "duration": 11,
    "start_time": "2025-04-10T19:42:34.740Z"
   },
   {
    "duration": 5,
    "start_time": "2025-04-10T19:42:38.686Z"
   },
   {
    "duration": 6,
    "start_time": "2025-04-10T19:42:49.259Z"
   },
   {
    "duration": 5,
    "start_time": "2025-04-10T19:43:07.337Z"
   },
   {
    "duration": 1540,
    "start_time": "2025-04-10T19:43:19.141Z"
   },
   {
    "duration": 2107,
    "start_time": "2025-04-10T19:43:33.464Z"
   },
   {
    "duration": 2719,
    "start_time": "2025-04-10T19:57:08.977Z"
   },
   {
    "duration": 44,
    "start_time": "2025-04-10T19:57:11.698Z"
   },
   {
    "duration": 414,
    "start_time": "2025-04-10T19:57:11.744Z"
   },
   {
    "duration": 1323,
    "start_time": "2025-04-10T19:57:12.159Z"
   },
   {
    "duration": 146,
    "start_time": "2025-04-10T19:57:13.484Z"
   },
   {
    "duration": 4,
    "start_time": "2025-04-10T19:57:13.632Z"
   },
   {
    "duration": 8,
    "start_time": "2025-04-10T19:57:13.637Z"
   },
   {
    "duration": 1515,
    "start_time": "2025-04-10T19:57:13.646Z"
   },
   {
    "duration": 2071,
    "start_time": "2025-04-10T19:57:15.162Z"
   },
   {
    "duration": 73,
    "start_time": "2025-04-11T06:53:34.544Z"
   },
   {
    "duration": 85,
    "start_time": "2025-04-11T06:54:59.051Z"
   },
   {
    "duration": 2800,
    "start_time": "2025-04-11T06:55:04.916Z"
   },
   {
    "duration": 43,
    "start_time": "2025-04-11T06:55:07.718Z"
   },
   {
    "duration": 69,
    "start_time": "2025-04-11T06:55:07.762Z"
   },
   {
    "duration": 0,
    "start_time": "2025-04-11T06:55:07.833Z"
   },
   {
    "duration": 0,
    "start_time": "2025-04-11T06:55:07.834Z"
   },
   {
    "duration": 0,
    "start_time": "2025-04-11T06:55:07.835Z"
   },
   {
    "duration": 0,
    "start_time": "2025-04-11T06:55:07.836Z"
   },
   {
    "duration": 0,
    "start_time": "2025-04-11T06:55:07.838Z"
   },
   {
    "duration": 0,
    "start_time": "2025-04-11T06:55:07.839Z"
   },
   {
    "duration": 417,
    "start_time": "2025-04-11T06:55:12.218Z"
   }
  ],
  "kernelspec": {
   "display_name": "Python 3 (ipykernel)",
   "language": "python",
   "name": "python3"
  },
  "language_info": {
   "codemirror_mode": {
    "name": "ipython",
    "version": 3
   },
   "file_extension": ".py",
   "mimetype": "text/x-python",
   "name": "python",
   "nbconvert_exporter": "python",
   "pygments_lexer": "ipython3",
   "version": "3.9.5"
  },
  "toc": {
   "base_numbering": 1,
   "nav_menu": {
    "height": "263px",
    "width": "360px"
   },
   "number_sections": true,
   "sideBar": true,
   "skip_h1_title": true,
   "title_cell": "Table of Contents",
   "title_sidebar": "Contents",
   "toc_cell": false,
   "toc_position": {},
   "toc_section_display": true,
   "toc_window_display": false
  }
 },
 "nbformat": 4,
 "nbformat_minor": 2
}
