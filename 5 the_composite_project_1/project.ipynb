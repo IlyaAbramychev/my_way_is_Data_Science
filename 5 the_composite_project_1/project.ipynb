{
 "cells": [
  {
   "cell_type": "markdown",
   "metadata": {},
   "source": [
    "# Сборный проект №1: Анализ факторов успеха видеоигр: прогноз популярности и планирование рекламных кампаний на 2017 год\n",
    "# Описание данных\n",
    "\n",
    "    Из открытых источников доступны исторические данные о продажах игр, оценки пользователей и экспертов, жанры и платформы (например, Xbox или PlayStation). Нужно выявить определяющие успешность игры закономерности. Это позволит сделать ставку на потенциально популярный продукт и спланировать рекламные кампании.\n",
    "    Перед нами данные до 2016 года. Представим, что сейчас декабрь 2016 г., и мы планируем кампанию на 2017-й. Нужно отработать принцип работы с данными.\n",
    "    В наборе данных попадается аббревиатура ESRB (Entertainment Software Rating Board) — это ассоциация, определяющая возрастной рейтинг компьютерных игр. ESRB оценивает игровой контент и присваивает ему подходящую возрастную категорию, например, «Для взрослых», «Для детей младшего возраста» или «Для подростков».\n",
    "\n",
    "***Инструкция по выполнению проекта***\n",
    "1. ***Шаг 1.*** Откройте файл с данными и изучите общую информацию.\n",
    "\n",
    "2. ***Шаг 2.*** Подготовьте данные.\n",
    "- Замените названия столбцов (приведите к нижнему регистру);\n",
    "- Преобразуйте данные в нужные типы. Опишите, в каких столбцах заменили тип данных и почему;\n",
    "- Обработайте пропуски при необходимости:\n",
    "    - Объясните, почему заполнили пропуски определённым образом или почему не стали это делать;\n",
    "    - Опишите причины, которые могли привести к пропускам;\n",
    "    - Обратите внимание на аббревиатуру 'tbd' в столбце с оценкой пользователей. Отдельно разберите это значение и опишите, как его обработать;\n",
    "- Посчитайте суммарные продажи во всех регионах и запишите их в отдельный столбец.\n",
    "\n",
    "3. ***Шаг 3.*** Проведите исследовательский анализ данных.\n",
    "- Посмотрите, сколько игр выпускалось в разные годы. Важны ли данные за все периоды?\n",
    "- Посмотрите, как менялись продажи по платформам. Выберите платформы с наибольшими суммарными продажами и постройте распределение по годам. За какой характерный срок появляются новые и исчезают старые платформы?\n",
    "- Возьмите данные за соответствующий актуальный период. Актуальный период определите самостоятельно в результате исследования предыдущих вопросов. Основной фактор — эти данные помогут построить прогноз на 2017 год.\n",
    "- Не учитывайте в работе данные за предыдущие годы.\n",
    "- Какие платформы лидируют по продажам, растут или падают? Выберите несколько потенциально прибыльных платформ.\n",
    "- Постройте график «ящик с усами» по глобальным продажам игр в разбивке по платформам. Опишите результат.\n",
    "- Посмотрите, как влияют на продажи внутри одной популярной платформы отзывы пользователей и критиков. Постройте диаграмму рассеяния и посчитайте корреляцию между отзывами и продажами. Сформулируйте выводы.\n",
    "- Соотнесите выводы с продажами игр на других платформах.\n",
    "- Посмотрите на общее распределение игр по жанрам. Что можно сказать о самых прибыльных жанрах? Выделяются ли жанры с высокими и низкими продажами?\n",
    "\n",
    "4. ***Шаг 4.*** Составьте портрет пользователя каждого региона.\n",
    "- Определите для пользователя каждого региона (NA, EU, JP):\n",
    "- Самые популярные платформы (топ-5). Опишите различия в долях продаж.\n",
    "- Самые популярные жанры (топ-5). Поясните разницу.\n",
    "- Влияет ли рейтинг ESRB на продажи в отдельном регионе?\n",
    "\n",
    "5. ***Шаг 5.*** Проверьте гипотезы\n",
    "- Средние пользовательские рейтинги платформ Xbox One и PC одинаковые;\n",
    "- Средние пользовательские рейтинги жанров Action (англ. «действие», экшен-игры) и Sports (англ. «спортивные соревнования») разные.\n",
    "- Задайте самостоятельно пороговое значение alpha.\n",
    "    Поясните:\n",
    "    - Как вы сформулировали нулевую и альтернативную гипотезы;\n",
    "    - Какой критерий применили для проверки гипотез и почему.\n",
    "    \n",
    "6. ***Шаг 6.*** Напишите общий вывод.\n",
    "- Оформление: Выполните задание в Jupyter Notebook. Заполните программный код в ячейках типа code, текстовые пояснения — в ячейках типа markdown. Примените форматирование и заголовки.\n",
    "\n",
    "***Описание данных***\n",
    "- `Name` — название игры;\n",
    "- `Platform` — платформа;\n",
    "- `Year_of_Release` — год выпуска;\n",
    "- `Genre` — жанр игры;\n",
    "- `NA_sales` — продажи в Северной Америке (миллионы проданных копий);\n",
    "- `EU_sales` — продажи в Европе (миллионы проданных копий);\n",
    "- `JP_sales` — продажи в Японии (миллионы проданных копий);\n",
    "- `Other_sales` — продажи в других странах (миллионы проданных копий);\n",
    "- `Critic_Score` — оценка критиков (максимум 100);\n",
    "- `User_Score` — оценка пользователей (максимум 10);\n",
    "- `Rating` — рейтинг от организации ESRB (англ. Entertainment Software Rating Board). Эта ассоциация определяет рейтинг компьютерных игр и присваивает им подходящую возрастную категорию.\n",
    "Данные за 2016 год могут быть неполными."
   ]
  },
  {
   "cell_type": "markdown",
   "metadata": {},
   "source": [
    "#### Шаг 1. Откройте файл с данными и изучите общую информацию."
   ]
  },
  {
   "cell_type": "code",
   "execution_count": 1,
   "metadata": {},
   "outputs": [],
   "source": [
    "import pandas as pd\n",
    "import matplotlib.pyplot as plt\n",
    "import seaborn as sns\n",
    "import numpy as np\n",
    "from scipy import stats as st"
   ]
  },
  {
   "cell_type": "code",
   "execution_count": 2,
   "metadata": {},
   "outputs": [],
   "source": [
    "try:\n",
    "    data = pd.read_csv('/datasets/games.csv')\n",
    "except:\n",
    "    data = pd.read_csv('./games.csv')"
   ]
  },
  {
   "cell_type": "code",
   "execution_count": 3,
   "metadata": {},
   "outputs": [
    {
     "name": "stdout",
     "output_type": "stream",
     "text": [
      "<class 'pandas.core.frame.DataFrame'>\n",
      "RangeIndex: 16715 entries, 0 to 16714\n",
      "Data columns (total 11 columns):\n",
      " #   Column           Non-Null Count  Dtype  \n",
      "---  ------           --------------  -----  \n",
      " 0   Name             16713 non-null  object \n",
      " 1   Platform         16715 non-null  object \n",
      " 2   Year_of_Release  16446 non-null  float64\n",
      " 3   Genre            16713 non-null  object \n",
      " 4   NA_sales         16715 non-null  float64\n",
      " 5   EU_sales         16715 non-null  float64\n",
      " 6   JP_sales         16715 non-null  float64\n",
      " 7   Other_sales      16715 non-null  float64\n",
      " 8   Critic_Score     8137 non-null   float64\n",
      " 9   User_Score       10014 non-null  object \n",
      " 10  Rating           9949 non-null   object \n",
      "dtypes: float64(6), object(5)\n",
      "memory usage: 1.4+ MB\n"
     ]
    },
    {
     "data": {
      "text/html": [
       "<div>\n",
       "<style scoped>\n",
       "    .dataframe tbody tr th:only-of-type {\n",
       "        vertical-align: middle;\n",
       "    }\n",
       "\n",
       "    .dataframe tbody tr th {\n",
       "        vertical-align: top;\n",
       "    }\n",
       "\n",
       "    .dataframe thead th {\n",
       "        text-align: right;\n",
       "    }\n",
       "</style>\n",
       "<table border=\"1\" class=\"dataframe\">\n",
       "  <thead>\n",
       "    <tr style=\"text-align: right;\">\n",
       "      <th></th>\n",
       "      <th>Name</th>\n",
       "      <th>Platform</th>\n",
       "      <th>Year_of_Release</th>\n",
       "      <th>Genre</th>\n",
       "      <th>NA_sales</th>\n",
       "      <th>EU_sales</th>\n",
       "      <th>JP_sales</th>\n",
       "      <th>Other_sales</th>\n",
       "      <th>Critic_Score</th>\n",
       "      <th>User_Score</th>\n",
       "      <th>Rating</th>\n",
       "    </tr>\n",
       "  </thead>\n",
       "  <tbody>\n",
       "    <tr>\n",
       "      <th>0</th>\n",
       "      <td>Wii Sports</td>\n",
       "      <td>Wii</td>\n",
       "      <td>2006.0</td>\n",
       "      <td>Sports</td>\n",
       "      <td>41.36</td>\n",
       "      <td>28.96</td>\n",
       "      <td>3.77</td>\n",
       "      <td>8.45</td>\n",
       "      <td>76.0</td>\n",
       "      <td>8</td>\n",
       "      <td>E</td>\n",
       "    </tr>\n",
       "    <tr>\n",
       "      <th>1</th>\n",
       "      <td>Super Mario Bros.</td>\n",
       "      <td>NES</td>\n",
       "      <td>1985.0</td>\n",
       "      <td>Platform</td>\n",
       "      <td>29.08</td>\n",
       "      <td>3.58</td>\n",
       "      <td>6.81</td>\n",
       "      <td>0.77</td>\n",
       "      <td>NaN</td>\n",
       "      <td>NaN</td>\n",
       "      <td>NaN</td>\n",
       "    </tr>\n",
       "    <tr>\n",
       "      <th>2</th>\n",
       "      <td>Mario Kart Wii</td>\n",
       "      <td>Wii</td>\n",
       "      <td>2008.0</td>\n",
       "      <td>Racing</td>\n",
       "      <td>15.68</td>\n",
       "      <td>12.76</td>\n",
       "      <td>3.79</td>\n",
       "      <td>3.29</td>\n",
       "      <td>82.0</td>\n",
       "      <td>8.3</td>\n",
       "      <td>E</td>\n",
       "    </tr>\n",
       "    <tr>\n",
       "      <th>3</th>\n",
       "      <td>Wii Sports Resort</td>\n",
       "      <td>Wii</td>\n",
       "      <td>2009.0</td>\n",
       "      <td>Sports</td>\n",
       "      <td>15.61</td>\n",
       "      <td>10.93</td>\n",
       "      <td>3.28</td>\n",
       "      <td>2.95</td>\n",
       "      <td>80.0</td>\n",
       "      <td>8</td>\n",
       "      <td>E</td>\n",
       "    </tr>\n",
       "    <tr>\n",
       "      <th>4</th>\n",
       "      <td>Pokemon Red/Pokemon Blue</td>\n",
       "      <td>GB</td>\n",
       "      <td>1996.0</td>\n",
       "      <td>Role-Playing</td>\n",
       "      <td>11.27</td>\n",
       "      <td>8.89</td>\n",
       "      <td>10.22</td>\n",
       "      <td>1.00</td>\n",
       "      <td>NaN</td>\n",
       "      <td>NaN</td>\n",
       "      <td>NaN</td>\n",
       "    </tr>\n",
       "  </tbody>\n",
       "</table>\n",
       "</div>"
      ],
      "text/plain": [
       "                       Name Platform  Year_of_Release         Genre  NA_sales  \\\n",
       "0                Wii Sports      Wii           2006.0        Sports     41.36   \n",
       "1         Super Mario Bros.      NES           1985.0      Platform     29.08   \n",
       "2            Mario Kart Wii      Wii           2008.0        Racing     15.68   \n",
       "3         Wii Sports Resort      Wii           2009.0        Sports     15.61   \n",
       "4  Pokemon Red/Pokemon Blue       GB           1996.0  Role-Playing     11.27   \n",
       "\n",
       "   EU_sales  JP_sales  Other_sales  Critic_Score User_Score Rating  \n",
       "0     28.96      3.77         8.45          76.0          8      E  \n",
       "1      3.58      6.81         0.77           NaN        NaN    NaN  \n",
       "2     12.76      3.79         3.29          82.0        8.3      E  \n",
       "3     10.93      3.28         2.95          80.0          8      E  \n",
       "4      8.89     10.22         1.00           NaN        NaN    NaN  "
      ]
     },
     "metadata": {},
     "output_type": "display_data"
    }
   ],
   "source": [
    "data.info()\n",
    "display(data.head())"
   ]
  },
  {
   "cell_type": "markdown",
   "metadata": {},
   "source": [
    "***Вывод:***\n",
    "\n",
    "1. В наборе данных присутствуют пропущенные значения в нескольких столбцах. Например, в колонке `Year_of_Release` не хватает данных для 269 записей, что может повлиять на анализ временных тенденций. Столбцы `Critic_Score`, `User_Score`, и `Rating` содержат значительное количество пропусков, что также нужно учитывать при анализе оценок игр.\n",
    "\n",
    "2. Примерно половина игр не имеет оценок критиков `Critic_Score`, а в столбце `User_Score` пропущено более `40%` данных. Это может ограничивать возможность детального анализа влияния оценок на успешность игры, и требует дополнительной обработки."
   ]
  },
  {
   "cell_type": "markdown",
   "metadata": {},
   "source": [
    "#### Шаг 2. Подготовьте данные."
   ]
  },
  {
   "cell_type": "markdown",
   "metadata": {},
   "source": [
    "*Замена названий столбцов*"
   ]
  },
  {
   "cell_type": "code",
   "execution_count": 4,
   "metadata": {},
   "outputs": [
    {
     "data": {
      "text/html": [
       "<div>\n",
       "<style scoped>\n",
       "    .dataframe tbody tr th:only-of-type {\n",
       "        vertical-align: middle;\n",
       "    }\n",
       "\n",
       "    .dataframe tbody tr th {\n",
       "        vertical-align: top;\n",
       "    }\n",
       "\n",
       "    .dataframe thead th {\n",
       "        text-align: right;\n",
       "    }\n",
       "</style>\n",
       "<table border=\"1\" class=\"dataframe\">\n",
       "  <thead>\n",
       "    <tr style=\"text-align: right;\">\n",
       "      <th></th>\n",
       "      <th>name</th>\n",
       "      <th>platform</th>\n",
       "      <th>year_of_release</th>\n",
       "      <th>genre</th>\n",
       "      <th>na_sales</th>\n",
       "      <th>eu_sales</th>\n",
       "      <th>jp_sales</th>\n",
       "      <th>other_sales</th>\n",
       "      <th>critic_score</th>\n",
       "      <th>user_score</th>\n",
       "      <th>rating</th>\n",
       "    </tr>\n",
       "  </thead>\n",
       "  <tbody>\n",
       "    <tr>\n",
       "      <th>0</th>\n",
       "      <td>Wii Sports</td>\n",
       "      <td>Wii</td>\n",
       "      <td>2006.0</td>\n",
       "      <td>Sports</td>\n",
       "      <td>41.36</td>\n",
       "      <td>28.96</td>\n",
       "      <td>3.77</td>\n",
       "      <td>8.45</td>\n",
       "      <td>76.0</td>\n",
       "      <td>8</td>\n",
       "      <td>E</td>\n",
       "    </tr>\n",
       "    <tr>\n",
       "      <th>1</th>\n",
       "      <td>Super Mario Bros.</td>\n",
       "      <td>NES</td>\n",
       "      <td>1985.0</td>\n",
       "      <td>Platform</td>\n",
       "      <td>29.08</td>\n",
       "      <td>3.58</td>\n",
       "      <td>6.81</td>\n",
       "      <td>0.77</td>\n",
       "      <td>NaN</td>\n",
       "      <td>NaN</td>\n",
       "      <td>NaN</td>\n",
       "    </tr>\n",
       "    <tr>\n",
       "      <th>2</th>\n",
       "      <td>Mario Kart Wii</td>\n",
       "      <td>Wii</td>\n",
       "      <td>2008.0</td>\n",
       "      <td>Racing</td>\n",
       "      <td>15.68</td>\n",
       "      <td>12.76</td>\n",
       "      <td>3.79</td>\n",
       "      <td>3.29</td>\n",
       "      <td>82.0</td>\n",
       "      <td>8.3</td>\n",
       "      <td>E</td>\n",
       "    </tr>\n",
       "    <tr>\n",
       "      <th>3</th>\n",
       "      <td>Wii Sports Resort</td>\n",
       "      <td>Wii</td>\n",
       "      <td>2009.0</td>\n",
       "      <td>Sports</td>\n",
       "      <td>15.61</td>\n",
       "      <td>10.93</td>\n",
       "      <td>3.28</td>\n",
       "      <td>2.95</td>\n",
       "      <td>80.0</td>\n",
       "      <td>8</td>\n",
       "      <td>E</td>\n",
       "    </tr>\n",
       "    <tr>\n",
       "      <th>4</th>\n",
       "      <td>Pokemon Red/Pokemon Blue</td>\n",
       "      <td>GB</td>\n",
       "      <td>1996.0</td>\n",
       "      <td>Role-Playing</td>\n",
       "      <td>11.27</td>\n",
       "      <td>8.89</td>\n",
       "      <td>10.22</td>\n",
       "      <td>1.00</td>\n",
       "      <td>NaN</td>\n",
       "      <td>NaN</td>\n",
       "      <td>NaN</td>\n",
       "    </tr>\n",
       "  </tbody>\n",
       "</table>\n",
       "</div>"
      ],
      "text/plain": [
       "                       name platform  year_of_release         genre  na_sales  \\\n",
       "0                Wii Sports      Wii           2006.0        Sports     41.36   \n",
       "1         Super Mario Bros.      NES           1985.0      Platform     29.08   \n",
       "2            Mario Kart Wii      Wii           2008.0        Racing     15.68   \n",
       "3         Wii Sports Resort      Wii           2009.0        Sports     15.61   \n",
       "4  Pokemon Red/Pokemon Blue       GB           1996.0  Role-Playing     11.27   \n",
       "\n",
       "   eu_sales  jp_sales  other_sales  critic_score user_score rating  \n",
       "0     28.96      3.77         8.45          76.0          8      E  \n",
       "1      3.58      6.81         0.77           NaN        NaN    NaN  \n",
       "2     12.76      3.79         3.29          82.0        8.3      E  \n",
       "3     10.93      3.28         2.95          80.0          8      E  \n",
       "4      8.89     10.22         1.00           NaN        NaN    NaN  "
      ]
     },
     "execution_count": 4,
     "metadata": {},
     "output_type": "execute_result"
    }
   ],
   "source": [
    "data = data.rename(columns = {'Name': 'name',\n",
    "                'Platform': 'platform',\n",
    "                'Year_of_Release': 'year_of_release',\n",
    "                'Genre': 'genre',\n",
    "                'NA_sales': 'na_sales',\n",
    "                'EU_sales': 'eu_sales',\n",
    "                'JP_sales': 'jp_sales',\n",
    "                'Other_sales': 'other_sales',\n",
    "                'Critic_Score': 'critic_score',\n",
    "                'User_Score': 'user_score',\n",
    "                'Rating': 'rating'})\n",
    "\n",
    "data.head()"
   ]
  },
  {
   "cell_type": "markdown",
   "metadata": {},
   "source": [
    "- Обработайте пропуски при необходимости:\n",
    "    - Объясните, почему заполнили пропуски определённым образом или почему не стали это делать;\n",
    "    - Опишите причины, которые могли привести к пропускам;\n",
    "    - Обратите внимание на аббревиатуру 'tbd' в столбце с оценкой пользователей. Отдельно разберите это значение и опишите, как его обработать;"
   ]
  },
  {
   "cell_type": "code",
   "execution_count": 5,
   "metadata": {},
   "outputs": [
    {
     "data": {
      "text/html": [
       "<div>\n",
       "<style scoped>\n",
       "    .dataframe tbody tr th:only-of-type {\n",
       "        vertical-align: middle;\n",
       "    }\n",
       "\n",
       "    .dataframe tbody tr th {\n",
       "        vertical-align: top;\n",
       "    }\n",
       "\n",
       "    .dataframe thead th {\n",
       "        text-align: right;\n",
       "    }\n",
       "</style>\n",
       "<table border=\"1\" class=\"dataframe\">\n",
       "  <thead>\n",
       "    <tr style=\"text-align: right;\">\n",
       "      <th></th>\n",
       "      <th>name</th>\n",
       "      <th>platform</th>\n",
       "      <th>year_of_release</th>\n",
       "      <th>genre</th>\n",
       "      <th>na_sales</th>\n",
       "      <th>eu_sales</th>\n",
       "      <th>jp_sales</th>\n",
       "      <th>other_sales</th>\n",
       "      <th>critic_score</th>\n",
       "      <th>user_score</th>\n",
       "      <th>rating</th>\n",
       "    </tr>\n",
       "  </thead>\n",
       "  <tbody>\n",
       "    <tr>\n",
       "      <th>659</th>\n",
       "      <td>NaN</td>\n",
       "      <td>GEN</td>\n",
       "      <td>1993.0</td>\n",
       "      <td>NaN</td>\n",
       "      <td>1.78</td>\n",
       "      <td>0.53</td>\n",
       "      <td>0.00</td>\n",
       "      <td>0.08</td>\n",
       "      <td>NaN</td>\n",
       "      <td>NaN</td>\n",
       "      <td>NaN</td>\n",
       "    </tr>\n",
       "    <tr>\n",
       "      <th>14244</th>\n",
       "      <td>NaN</td>\n",
       "      <td>GEN</td>\n",
       "      <td>1993.0</td>\n",
       "      <td>NaN</td>\n",
       "      <td>0.00</td>\n",
       "      <td>0.00</td>\n",
       "      <td>0.03</td>\n",
       "      <td>0.00</td>\n",
       "      <td>NaN</td>\n",
       "      <td>NaN</td>\n",
       "      <td>NaN</td>\n",
       "    </tr>\n",
       "  </tbody>\n",
       "</table>\n",
       "</div>"
      ],
      "text/plain": [
       "      name platform  year_of_release genre  na_sales  eu_sales  jp_sales  \\\n",
       "659    NaN      GEN           1993.0   NaN      1.78      0.53      0.00   \n",
       "14244  NaN      GEN           1993.0   NaN      0.00      0.00      0.03   \n",
       "\n",
       "       other_sales  critic_score user_score rating  \n",
       "659           0.08           NaN        NaN    NaN  \n",
       "14244         0.00           NaN        NaN    NaN  "
      ]
     },
     "execution_count": 5,
     "metadata": {},
     "output_type": "execute_result"
    }
   ],
   "source": [
    "data[data['name'].isna()]"
   ]
  },
  {
   "cell_type": "markdown",
   "metadata": {},
   "source": [
    "В столбце «name» есть две пустые ячейки. После анализа данных было решено удалить эти ячейки, так как в них нет информации, которая могла бы помочь восстановить данные."
   ]
  },
  {
   "cell_type": "code",
   "execution_count": 6,
   "metadata": {},
   "outputs": [
    {
     "name": "stdout",
     "output_type": "stream",
     "text": [
      "<class 'pandas.core.frame.DataFrame'>\n",
      "RangeIndex: 16713 entries, 0 to 16712\n",
      "Data columns (total 11 columns):\n",
      " #   Column           Non-Null Count  Dtype  \n",
      "---  ------           --------------  -----  \n",
      " 0   name             16713 non-null  object \n",
      " 1   platform         16713 non-null  object \n",
      " 2   year_of_release  16444 non-null  float64\n",
      " 3   genre            16713 non-null  object \n",
      " 4   na_sales         16713 non-null  float64\n",
      " 5   eu_sales         16713 non-null  float64\n",
      " 6   jp_sales         16713 non-null  float64\n",
      " 7   other_sales      16713 non-null  float64\n",
      " 8   critic_score     8137 non-null   float64\n",
      " 9   user_score       10014 non-null  object \n",
      " 10  rating           9949 non-null   object \n",
      "dtypes: float64(6), object(5)\n",
      "memory usage: 1.4+ MB\n"
     ]
    },
    {
     "data": {
      "text/plain": [
       "None"
      ]
     },
     "metadata": {},
     "output_type": "display_data"
    },
    {
     "data": {
      "text/html": [
       "<div>\n",
       "<style scoped>\n",
       "    .dataframe tbody tr th:only-of-type {\n",
       "        vertical-align: middle;\n",
       "    }\n",
       "\n",
       "    .dataframe tbody tr th {\n",
       "        vertical-align: top;\n",
       "    }\n",
       "\n",
       "    .dataframe thead th {\n",
       "        text-align: right;\n",
       "    }\n",
       "</style>\n",
       "<table border=\"1\" class=\"dataframe\">\n",
       "  <thead>\n",
       "    <tr style=\"text-align: right;\">\n",
       "      <th></th>\n",
       "      <th>name</th>\n",
       "      <th>platform</th>\n",
       "      <th>year_of_release</th>\n",
       "      <th>genre</th>\n",
       "      <th>na_sales</th>\n",
       "      <th>eu_sales</th>\n",
       "      <th>jp_sales</th>\n",
       "      <th>other_sales</th>\n",
       "      <th>critic_score</th>\n",
       "      <th>user_score</th>\n",
       "      <th>rating</th>\n",
       "    </tr>\n",
       "  </thead>\n",
       "  <tbody>\n",
       "    <tr>\n",
       "      <th>0</th>\n",
       "      <td>Wii Sports</td>\n",
       "      <td>Wii</td>\n",
       "      <td>2006.0</td>\n",
       "      <td>Sports</td>\n",
       "      <td>41.36</td>\n",
       "      <td>28.96</td>\n",
       "      <td>3.77</td>\n",
       "      <td>8.45</td>\n",
       "      <td>76.0</td>\n",
       "      <td>8</td>\n",
       "      <td>E</td>\n",
       "    </tr>\n",
       "    <tr>\n",
       "      <th>1</th>\n",
       "      <td>Super Mario Bros.</td>\n",
       "      <td>NES</td>\n",
       "      <td>1985.0</td>\n",
       "      <td>Platform</td>\n",
       "      <td>29.08</td>\n",
       "      <td>3.58</td>\n",
       "      <td>6.81</td>\n",
       "      <td>0.77</td>\n",
       "      <td>NaN</td>\n",
       "      <td>NaN</td>\n",
       "      <td>NaN</td>\n",
       "    </tr>\n",
       "    <tr>\n",
       "      <th>2</th>\n",
       "      <td>Mario Kart Wii</td>\n",
       "      <td>Wii</td>\n",
       "      <td>2008.0</td>\n",
       "      <td>Racing</td>\n",
       "      <td>15.68</td>\n",
       "      <td>12.76</td>\n",
       "      <td>3.79</td>\n",
       "      <td>3.29</td>\n",
       "      <td>82.0</td>\n",
       "      <td>8.3</td>\n",
       "      <td>E</td>\n",
       "    </tr>\n",
       "    <tr>\n",
       "      <th>3</th>\n",
       "      <td>Wii Sports Resort</td>\n",
       "      <td>Wii</td>\n",
       "      <td>2009.0</td>\n",
       "      <td>Sports</td>\n",
       "      <td>15.61</td>\n",
       "      <td>10.93</td>\n",
       "      <td>3.28</td>\n",
       "      <td>2.95</td>\n",
       "      <td>80.0</td>\n",
       "      <td>8</td>\n",
       "      <td>E</td>\n",
       "    </tr>\n",
       "    <tr>\n",
       "      <th>4</th>\n",
       "      <td>Pokemon Red/Pokemon Blue</td>\n",
       "      <td>GB</td>\n",
       "      <td>1996.0</td>\n",
       "      <td>Role-Playing</td>\n",
       "      <td>11.27</td>\n",
       "      <td>8.89</td>\n",
       "      <td>10.22</td>\n",
       "      <td>1.00</td>\n",
       "      <td>NaN</td>\n",
       "      <td>NaN</td>\n",
       "      <td>NaN</td>\n",
       "    </tr>\n",
       "  </tbody>\n",
       "</table>\n",
       "</div>"
      ],
      "text/plain": [
       "                       name platform  year_of_release         genre  na_sales  \\\n",
       "0                Wii Sports      Wii           2006.0        Sports     41.36   \n",
       "1         Super Mario Bros.      NES           1985.0      Platform     29.08   \n",
       "2            Mario Kart Wii      Wii           2008.0        Racing     15.68   \n",
       "3         Wii Sports Resort      Wii           2009.0        Sports     15.61   \n",
       "4  Pokemon Red/Pokemon Blue       GB           1996.0  Role-Playing     11.27   \n",
       "\n",
       "   eu_sales  jp_sales  other_sales  critic_score user_score rating  \n",
       "0     28.96      3.77         8.45          76.0          8      E  \n",
       "1      3.58      6.81         0.77           NaN        NaN    NaN  \n",
       "2     12.76      3.79         3.29          82.0        8.3      E  \n",
       "3     10.93      3.28         2.95          80.0          8      E  \n",
       "4      8.89     10.22         1.00           NaN        NaN    NaN  "
      ]
     },
     "metadata": {},
     "output_type": "display_data"
    }
   ],
   "source": [
    "data = data[data['name'].notna()].reset_index(drop = True)\n",
    "display(data.info())\n",
    "display(data.head())"
   ]
  },
  {
   "cell_type": "code",
   "execution_count": 7,
   "metadata": {},
   "outputs": [],
   "source": [
    "#data['year_of_release'] = data['year_of_release'].fillna(data['year_of_release'].median())\n",
    "data = data.dropna(subset=['year_of_release'])"
   ]
  },
  {
   "cell_type": "code",
   "execution_count": 8,
   "metadata": {
    "scrolled": true
   },
   "outputs": [
    {
     "data": {
      "text/html": [
       "<div>\n",
       "<style scoped>\n",
       "    .dataframe tbody tr th:only-of-type {\n",
       "        vertical-align: middle;\n",
       "    }\n",
       "\n",
       "    .dataframe tbody tr th {\n",
       "        vertical-align: top;\n",
       "    }\n",
       "\n",
       "    .dataframe thead th {\n",
       "        text-align: right;\n",
       "    }\n",
       "</style>\n",
       "<table border=\"1\" class=\"dataframe\">\n",
       "  <thead>\n",
       "    <tr style=\"text-align: right;\">\n",
       "      <th></th>\n",
       "      <th>name</th>\n",
       "      <th>platform</th>\n",
       "      <th>year_of_release</th>\n",
       "      <th>genre</th>\n",
       "      <th>na_sales</th>\n",
       "      <th>eu_sales</th>\n",
       "      <th>jp_sales</th>\n",
       "      <th>other_sales</th>\n",
       "      <th>critic_score</th>\n",
       "      <th>user_score</th>\n",
       "      <th>rating</th>\n",
       "    </tr>\n",
       "  </thead>\n",
       "  <tbody>\n",
       "    <tr>\n",
       "      <th>0</th>\n",
       "      <td>Wii Sports</td>\n",
       "      <td>Wii</td>\n",
       "      <td>2006</td>\n",
       "      <td>Sports</td>\n",
       "      <td>41.36</td>\n",
       "      <td>28.96</td>\n",
       "      <td>3.77</td>\n",
       "      <td>8.45</td>\n",
       "      <td>76.0</td>\n",
       "      <td>8</td>\n",
       "      <td>E</td>\n",
       "    </tr>\n",
       "    <tr>\n",
       "      <th>1</th>\n",
       "      <td>Super Mario Bros.</td>\n",
       "      <td>NES</td>\n",
       "      <td>1985</td>\n",
       "      <td>Platform</td>\n",
       "      <td>29.08</td>\n",
       "      <td>3.58</td>\n",
       "      <td>6.81</td>\n",
       "      <td>0.77</td>\n",
       "      <td>NaN</td>\n",
       "      <td>NaN</td>\n",
       "      <td>NaN</td>\n",
       "    </tr>\n",
       "    <tr>\n",
       "      <th>2</th>\n",
       "      <td>Mario Kart Wii</td>\n",
       "      <td>Wii</td>\n",
       "      <td>2008</td>\n",
       "      <td>Racing</td>\n",
       "      <td>15.68</td>\n",
       "      <td>12.76</td>\n",
       "      <td>3.79</td>\n",
       "      <td>3.29</td>\n",
       "      <td>82.0</td>\n",
       "      <td>8.3</td>\n",
       "      <td>E</td>\n",
       "    </tr>\n",
       "    <tr>\n",
       "      <th>3</th>\n",
       "      <td>Wii Sports Resort</td>\n",
       "      <td>Wii</td>\n",
       "      <td>2009</td>\n",
       "      <td>Sports</td>\n",
       "      <td>15.61</td>\n",
       "      <td>10.93</td>\n",
       "      <td>3.28</td>\n",
       "      <td>2.95</td>\n",
       "      <td>80.0</td>\n",
       "      <td>8</td>\n",
       "      <td>E</td>\n",
       "    </tr>\n",
       "    <tr>\n",
       "      <th>4</th>\n",
       "      <td>Pokemon Red/Pokemon Blue</td>\n",
       "      <td>GB</td>\n",
       "      <td>1996</td>\n",
       "      <td>Role-Playing</td>\n",
       "      <td>11.27</td>\n",
       "      <td>8.89</td>\n",
       "      <td>10.22</td>\n",
       "      <td>1.00</td>\n",
       "      <td>NaN</td>\n",
       "      <td>NaN</td>\n",
       "      <td>NaN</td>\n",
       "    </tr>\n",
       "  </tbody>\n",
       "</table>\n",
       "</div>"
      ],
      "text/plain": [
       "                       name platform  year_of_release         genre  na_sales  \\\n",
       "0                Wii Sports      Wii             2006        Sports     41.36   \n",
       "1         Super Mario Bros.      NES             1985      Platform     29.08   \n",
       "2            Mario Kart Wii      Wii             2008        Racing     15.68   \n",
       "3         Wii Sports Resort      Wii             2009        Sports     15.61   \n",
       "4  Pokemon Red/Pokemon Blue       GB             1996  Role-Playing     11.27   \n",
       "\n",
       "   eu_sales  jp_sales  other_sales  critic_score user_score rating  \n",
       "0     28.96      3.77         8.45          76.0          8      E  \n",
       "1      3.58      6.81         0.77           NaN        NaN    NaN  \n",
       "2     12.76      3.79         3.29          82.0        8.3      E  \n",
       "3     10.93      3.28         2.95          80.0          8      E  \n",
       "4      8.89     10.22         1.00           NaN        NaN    NaN  "
      ]
     },
     "metadata": {},
     "output_type": "display_data"
    }
   ],
   "source": [
    "data['year_of_release'] = data['year_of_release'].astype(int)\n",
    "#data['year_of_release'] = pd.to_datetime(data['year_of_release'], format = '%Y')\n",
    "display(data.head())"
   ]
  },
  {
   "cell_type": "code",
   "execution_count": 9,
   "metadata": {},
   "outputs": [],
   "source": [
    "data['critic_score'] = pd.to_numeric(data['critic_score'], errors='coerce')\n",
    "data['user_score'] = data['user_score'].replace('tbd', np.nan)\n",
    "data['user_score'] = pd.to_numeric(data['user_score'], errors='coerce')\n",
    "#data['rating'] = data['rating'].fillna('unknown')"
   ]
  },
  {
   "cell_type": "code",
   "execution_count": 10,
   "metadata": {},
   "outputs": [
    {
     "data": {
      "text/plain": [
       "6676"
      ]
     },
     "execution_count": 10,
     "metadata": {},
     "output_type": "execute_result"
    }
   ],
   "source": [
    "data['rating'].isna().sum()"
   ]
  },
  {
   "cell_type": "markdown",
   "metadata": {},
   "source": [
    "После анализа колонок `critic_score`, `user_score` и `rating` были проведены следующие изменения:\n",
    "- `critic_score` - пропущенные значения оставленны как NaN, чтобы учитывать только реальные оценки. При дальнейшем анализе появится необходимость строить графики, а с текстовым значением `unknown` появятся проблемы.\n",
    "- `user_score` - значение `tbd` означает, что оценка не определена. Также при замене этого значения на `unknown` возникнут трудности с анализом, поэтому они заменены на NaN. Пропущенные значения тоже принято не заменять, чтобы не исказить анализ.\n",
    "- `rating` - пропущенные значения оставленны, чтобы не исказить анализ."
   ]
  },
  {
   "cell_type": "code",
   "execution_count": 11,
   "metadata": {},
   "outputs": [
    {
     "name": "stdout",
     "output_type": "stream",
     "text": [
      "<class 'pandas.core.frame.DataFrame'>\n",
      "Int64Index: 16444 entries, 0 to 16712\n",
      "Data columns (total 11 columns):\n",
      " #   Column           Non-Null Count  Dtype  \n",
      "---  ------           --------------  -----  \n",
      " 0   name             16444 non-null  object \n",
      " 1   platform         16444 non-null  object \n",
      " 2   year_of_release  16444 non-null  int64  \n",
      " 3   genre            16444 non-null  object \n",
      " 4   na_sales         16444 non-null  float64\n",
      " 5   eu_sales         16444 non-null  float64\n",
      " 6   jp_sales         16444 non-null  float64\n",
      " 7   other_sales      16444 non-null  float64\n",
      " 8   critic_score     7983 non-null   float64\n",
      " 9   user_score       7463 non-null   float64\n",
      " 10  rating           9768 non-null   object \n",
      "dtypes: float64(6), int64(1), object(4)\n",
      "memory usage: 1.5+ MB\n"
     ]
    },
    {
     "data": {
      "text/plain": [
       "None"
      ]
     },
     "metadata": {},
     "output_type": "display_data"
    },
    {
     "data": {
      "text/html": [
       "<div>\n",
       "<style scoped>\n",
       "    .dataframe tbody tr th:only-of-type {\n",
       "        vertical-align: middle;\n",
       "    }\n",
       "\n",
       "    .dataframe tbody tr th {\n",
       "        vertical-align: top;\n",
       "    }\n",
       "\n",
       "    .dataframe thead th {\n",
       "        text-align: right;\n",
       "    }\n",
       "</style>\n",
       "<table border=\"1\" class=\"dataframe\">\n",
       "  <thead>\n",
       "    <tr style=\"text-align: right;\">\n",
       "      <th></th>\n",
       "      <th>name</th>\n",
       "      <th>platform</th>\n",
       "      <th>year_of_release</th>\n",
       "      <th>genre</th>\n",
       "      <th>na_sales</th>\n",
       "      <th>eu_sales</th>\n",
       "      <th>jp_sales</th>\n",
       "      <th>other_sales</th>\n",
       "      <th>critic_score</th>\n",
       "      <th>user_score</th>\n",
       "      <th>rating</th>\n",
       "    </tr>\n",
       "  </thead>\n",
       "  <tbody>\n",
       "    <tr>\n",
       "      <th>0</th>\n",
       "      <td>Wii Sports</td>\n",
       "      <td>Wii</td>\n",
       "      <td>2006</td>\n",
       "      <td>Sports</td>\n",
       "      <td>41.36</td>\n",
       "      <td>28.96</td>\n",
       "      <td>3.77</td>\n",
       "      <td>8.45</td>\n",
       "      <td>76.0</td>\n",
       "      <td>8.0</td>\n",
       "      <td>E</td>\n",
       "    </tr>\n",
       "    <tr>\n",
       "      <th>1</th>\n",
       "      <td>Super Mario Bros.</td>\n",
       "      <td>NES</td>\n",
       "      <td>1985</td>\n",
       "      <td>Platform</td>\n",
       "      <td>29.08</td>\n",
       "      <td>3.58</td>\n",
       "      <td>6.81</td>\n",
       "      <td>0.77</td>\n",
       "      <td>NaN</td>\n",
       "      <td>NaN</td>\n",
       "      <td>NaN</td>\n",
       "    </tr>\n",
       "    <tr>\n",
       "      <th>2</th>\n",
       "      <td>Mario Kart Wii</td>\n",
       "      <td>Wii</td>\n",
       "      <td>2008</td>\n",
       "      <td>Racing</td>\n",
       "      <td>15.68</td>\n",
       "      <td>12.76</td>\n",
       "      <td>3.79</td>\n",
       "      <td>3.29</td>\n",
       "      <td>82.0</td>\n",
       "      <td>8.3</td>\n",
       "      <td>E</td>\n",
       "    </tr>\n",
       "    <tr>\n",
       "      <th>3</th>\n",
       "      <td>Wii Sports Resort</td>\n",
       "      <td>Wii</td>\n",
       "      <td>2009</td>\n",
       "      <td>Sports</td>\n",
       "      <td>15.61</td>\n",
       "      <td>10.93</td>\n",
       "      <td>3.28</td>\n",
       "      <td>2.95</td>\n",
       "      <td>80.0</td>\n",
       "      <td>8.0</td>\n",
       "      <td>E</td>\n",
       "    </tr>\n",
       "    <tr>\n",
       "      <th>4</th>\n",
       "      <td>Pokemon Red/Pokemon Blue</td>\n",
       "      <td>GB</td>\n",
       "      <td>1996</td>\n",
       "      <td>Role-Playing</td>\n",
       "      <td>11.27</td>\n",
       "      <td>8.89</td>\n",
       "      <td>10.22</td>\n",
       "      <td>1.00</td>\n",
       "      <td>NaN</td>\n",
       "      <td>NaN</td>\n",
       "      <td>NaN</td>\n",
       "    </tr>\n",
       "  </tbody>\n",
       "</table>\n",
       "</div>"
      ],
      "text/plain": [
       "                       name platform  year_of_release         genre  na_sales  \\\n",
       "0                Wii Sports      Wii             2006        Sports     41.36   \n",
       "1         Super Mario Bros.      NES             1985      Platform     29.08   \n",
       "2            Mario Kart Wii      Wii             2008        Racing     15.68   \n",
       "3         Wii Sports Resort      Wii             2009        Sports     15.61   \n",
       "4  Pokemon Red/Pokemon Blue       GB             1996  Role-Playing     11.27   \n",
       "\n",
       "   eu_sales  jp_sales  other_sales  critic_score  user_score rating  \n",
       "0     28.96      3.77         8.45          76.0         8.0      E  \n",
       "1      3.58      6.81         0.77           NaN         NaN    NaN  \n",
       "2     12.76      3.79         3.29          82.0         8.3      E  \n",
       "3     10.93      3.28         2.95          80.0         8.0      E  \n",
       "4      8.89     10.22         1.00           NaN         NaN    NaN  "
      ]
     },
     "metadata": {},
     "output_type": "display_data"
    }
   ],
   "source": [
    "display(data.info())\n",
    "display(data.head())"
   ]
  },
  {
   "cell_type": "raw",
   "metadata": {},
   "source": [
    "data.duplicated().sum()"
   ]
  },
  {
   "cell_type": "markdown",
   "metadata": {},
   "source": [
    "Явных дубликатов не выявлено."
   ]
  },
  {
   "cell_type": "code",
   "execution_count": 12,
   "metadata": {},
   "outputs": [
    {
     "data": {
      "text/plain": [
       "Int64Index([604, 16228], dtype='int64')"
      ]
     },
     "execution_count": 12,
     "metadata": {},
     "output_type": "execute_result"
    }
   ],
   "source": [
    "explict_duplicated = data[data.duplicated(subset = ['name', 'platform', 'year_of_release'], keep = False)].index\n",
    "explict_duplicated"
   ]
  },
  {
   "cell_type": "code",
   "execution_count": 13,
   "metadata": {},
   "outputs": [],
   "source": [
    "data_clean = data.drop(index = explict_duplicated)"
   ]
  },
  {
   "cell_type": "markdown",
   "metadata": {},
   "source": [
    "Выявлено два дубликата. Они были удалены и перезаписаны очищенные данные в новый датафрейм `data_clean`."
   ]
  },
  {
   "cell_type": "code",
   "execution_count": 14,
   "metadata": {},
   "outputs": [
    {
     "data": {
      "text/html": [
       "<div>\n",
       "<style scoped>\n",
       "    .dataframe tbody tr th:only-of-type {\n",
       "        vertical-align: middle;\n",
       "    }\n",
       "\n",
       "    .dataframe tbody tr th {\n",
       "        vertical-align: top;\n",
       "    }\n",
       "\n",
       "    .dataframe thead th {\n",
       "        text-align: right;\n",
       "    }\n",
       "</style>\n",
       "<table border=\"1\" class=\"dataframe\">\n",
       "  <thead>\n",
       "    <tr style=\"text-align: right;\">\n",
       "      <th></th>\n",
       "      <th>name</th>\n",
       "      <th>platform</th>\n",
       "      <th>year_of_release</th>\n",
       "      <th>genre</th>\n",
       "      <th>na_sales</th>\n",
       "      <th>eu_sales</th>\n",
       "      <th>jp_sales</th>\n",
       "      <th>other_sales</th>\n",
       "      <th>critic_score</th>\n",
       "      <th>user_score</th>\n",
       "      <th>rating</th>\n",
       "      <th>total_sales</th>\n",
       "    </tr>\n",
       "  </thead>\n",
       "  <tbody>\n",
       "    <tr>\n",
       "      <th>0</th>\n",
       "      <td>Wii Sports</td>\n",
       "      <td>Wii</td>\n",
       "      <td>2006</td>\n",
       "      <td>Sports</td>\n",
       "      <td>41.36</td>\n",
       "      <td>28.96</td>\n",
       "      <td>3.77</td>\n",
       "      <td>8.45</td>\n",
       "      <td>76.0</td>\n",
       "      <td>8.0</td>\n",
       "      <td>E</td>\n",
       "      <td>82.54</td>\n",
       "    </tr>\n",
       "    <tr>\n",
       "      <th>1</th>\n",
       "      <td>Super Mario Bros.</td>\n",
       "      <td>NES</td>\n",
       "      <td>1985</td>\n",
       "      <td>Platform</td>\n",
       "      <td>29.08</td>\n",
       "      <td>3.58</td>\n",
       "      <td>6.81</td>\n",
       "      <td>0.77</td>\n",
       "      <td>NaN</td>\n",
       "      <td>NaN</td>\n",
       "      <td>NaN</td>\n",
       "      <td>40.24</td>\n",
       "    </tr>\n",
       "    <tr>\n",
       "      <th>2</th>\n",
       "      <td>Mario Kart Wii</td>\n",
       "      <td>Wii</td>\n",
       "      <td>2008</td>\n",
       "      <td>Racing</td>\n",
       "      <td>15.68</td>\n",
       "      <td>12.76</td>\n",
       "      <td>3.79</td>\n",
       "      <td>3.29</td>\n",
       "      <td>82.0</td>\n",
       "      <td>8.3</td>\n",
       "      <td>E</td>\n",
       "      <td>35.52</td>\n",
       "    </tr>\n",
       "    <tr>\n",
       "      <th>3</th>\n",
       "      <td>Wii Sports Resort</td>\n",
       "      <td>Wii</td>\n",
       "      <td>2009</td>\n",
       "      <td>Sports</td>\n",
       "      <td>15.61</td>\n",
       "      <td>10.93</td>\n",
       "      <td>3.28</td>\n",
       "      <td>2.95</td>\n",
       "      <td>80.0</td>\n",
       "      <td>8.0</td>\n",
       "      <td>E</td>\n",
       "      <td>32.77</td>\n",
       "    </tr>\n",
       "    <tr>\n",
       "      <th>4</th>\n",
       "      <td>Pokemon Red/Pokemon Blue</td>\n",
       "      <td>GB</td>\n",
       "      <td>1996</td>\n",
       "      <td>Role-Playing</td>\n",
       "      <td>11.27</td>\n",
       "      <td>8.89</td>\n",
       "      <td>10.22</td>\n",
       "      <td>1.00</td>\n",
       "      <td>NaN</td>\n",
       "      <td>NaN</td>\n",
       "      <td>NaN</td>\n",
       "      <td>31.38</td>\n",
       "    </tr>\n",
       "  </tbody>\n",
       "</table>\n",
       "</div>"
      ],
      "text/plain": [
       "                       name platform  year_of_release         genre  na_sales  \\\n",
       "0                Wii Sports      Wii             2006        Sports     41.36   \n",
       "1         Super Mario Bros.      NES             1985      Platform     29.08   \n",
       "2            Mario Kart Wii      Wii             2008        Racing     15.68   \n",
       "3         Wii Sports Resort      Wii             2009        Sports     15.61   \n",
       "4  Pokemon Red/Pokemon Blue       GB             1996  Role-Playing     11.27   \n",
       "\n",
       "   eu_sales  jp_sales  other_sales  critic_score  user_score rating  \\\n",
       "0     28.96      3.77         8.45          76.0         8.0      E   \n",
       "1      3.58      6.81         0.77           NaN         NaN    NaN   \n",
       "2     12.76      3.79         3.29          82.0         8.3      E   \n",
       "3     10.93      3.28         2.95          80.0         8.0      E   \n",
       "4      8.89     10.22         1.00           NaN         NaN    NaN   \n",
       "\n",
       "   total_sales  \n",
       "0        82.54  \n",
       "1        40.24  \n",
       "2        35.52  \n",
       "3        32.77  \n",
       "4        31.38  "
      ]
     },
     "metadata": {},
     "output_type": "display_data"
    }
   ],
   "source": [
    "data_clean['total_sales'] = data_clean['na_sales'] + data_clean['eu_sales'] + data_clean['jp_sales'] + data_clean['other_sales']\n",
    "display(data_clean.head())"
   ]
  },
  {
   "cell_type": "markdown",
   "metadata": {},
   "source": [
    "***Вывод***\n",
    "\n",
    "В процессе подготовки данных были выполнены следующие шаги:\n",
    "1. Заменены названия столбцов(приведены к нижнему регистру);\n",
    "2. Обработаны пропуски:\n",
    "    - В столбце name были удалены 2 пропуска, потому что строки не содержали информации, которые способствовали восстановлению данных;\n",
    "    - year_of_release - приведен к типу int, пропущенные значения удалены.\n",
    "    - critic_score - пропущенные значения оставленны как NaN, чтобы учитывать только реальные оценки. При дальнейшем анализе появится необходимость строить графики, а с текстовым значением unknown появятся проблемы.\n",
    "    - user_score - значение tbd означает, что оценка не определена. Также при замене этого значения на unknown возникнут трудности с анализом, поэтому они заменены на NaN. Пропущенные значения тоже принято не заменять, чтобы не исказить анализ.\n",
    "    - rating - пропущенные значения оставленны, чтобы не исказить анализ.\n",
    "    \n",
    "3. Добавлен столбец `total_sales` с суммарными продажами во всех регионах."
   ]
  },
  {
   "cell_type": "markdown",
   "metadata": {},
   "source": [
    "Уважаемый ревьюер! Я решил разбить работу на части, чтобы выполнять её качественно и постепенно."
   ]
  },
  {
   "cell_type": "markdown",
   "metadata": {},
   "source": [
    "#### Шаг 3. Проведите исследовательский анализ данных."
   ]
  },
  {
   "cell_type": "markdown",
   "metadata": {},
   "source": [
    "***Посмотрите, сколько игр выпускалось в разные годы. Важны ли данные за все периоды?***"
   ]
  },
  {
   "cell_type": "code",
   "execution_count": 15,
   "metadata": {
    "scrolled": false
   },
   "outputs": [
    {
     "data": {
      "image/png": "[encoded data removed]",
      "text/plain": [
       "<Figure size 1296x576 with 1 Axes>"
      ]
     },
     "metadata": {
      "needs_background": "light"
     },
     "output_type": "display_data"
    }
   ],
   "source": [
    "count_game = pd.pivot_table(data = data_clean, values = 'name', index = 'year_of_release', aggfunc = 'count').reset_index()\n",
    "plt.figure(figsize=(18, 8))\n",
    "sns.barplot(data = count_game, x = 'year_of_release', y = 'name')\n",
    "plt.xticks(rotation=45)\n",
    "plt.title('Количество игр, выпущенных по годам')\n",
    "plt.xlabel('Год выпуска')\n",
    "plt.ylabel('Количество игр')\n",
    "plt.show()"
   ]
  },
  {
   "cell_type": "markdown",
   "metadata": {},
   "source": [
    "На графике видно, что наибольшее количество игр было выпущено в период с 2002 по 2013 годы, с пиком в 2008 и 2009 годах. После 2010 года наблюдается спад в количестве выпускаемых игр. Данные за весь период (до 2000 года) имеют значительно меньший объём игр, что делает их менее актуальными для анализа современных тенденций. Поэтому для дальнейшего анализа можно сосредоточиться на данных с 2000 года, так как они лучше отражают современные рыночные реалии."
   ]
  },
  {
   "cell_type": "code",
   "execution_count": 16,
   "metadata": {},
   "outputs": [
    {
     "data": {
      "text/html": [
       "<div>\n",
       "<style scoped>\n",
       "    .dataframe tbody tr th:only-of-type {\n",
       "        vertical-align: middle;\n",
       "    }\n",
       "\n",
       "    .dataframe tbody tr th {\n",
       "        vertical-align: top;\n",
       "    }\n",
       "\n",
       "    .dataframe thead th {\n",
       "        text-align: right;\n",
       "    }\n",
       "</style>\n",
       "<table border=\"1\" class=\"dataframe\">\n",
       "  <thead>\n",
       "    <tr style=\"text-align: right;\">\n",
       "      <th></th>\n",
       "      <th>name</th>\n",
       "      <th>platform</th>\n",
       "      <th>year_of_release</th>\n",
       "      <th>genre</th>\n",
       "      <th>na_sales</th>\n",
       "      <th>eu_sales</th>\n",
       "      <th>jp_sales</th>\n",
       "      <th>other_sales</th>\n",
       "      <th>critic_score</th>\n",
       "      <th>user_score</th>\n",
       "      <th>rating</th>\n",
       "      <th>total_sales</th>\n",
       "    </tr>\n",
       "  </thead>\n",
       "  <tbody>\n",
       "    <tr>\n",
       "      <th>31</th>\n",
       "      <td>Call of Duty: Black Ops 3</td>\n",
       "      <td>PS4</td>\n",
       "      <td>2015</td>\n",
       "      <td>Shooter</td>\n",
       "      <td>6.03</td>\n",
       "      <td>5.86</td>\n",
       "      <td>0.36</td>\n",
       "      <td>2.38</td>\n",
       "      <td>NaN</td>\n",
       "      <td>NaN</td>\n",
       "      <td>NaN</td>\n",
       "      <td>14.63</td>\n",
       "    </tr>\n",
       "    <tr>\n",
       "      <th>42</th>\n",
       "      <td>Grand Theft Auto V</td>\n",
       "      <td>PS4</td>\n",
       "      <td>2014</td>\n",
       "      <td>Action</td>\n",
       "      <td>3.96</td>\n",
       "      <td>6.31</td>\n",
       "      <td>0.38</td>\n",
       "      <td>1.97</td>\n",
       "      <td>97.0</td>\n",
       "      <td>8.3</td>\n",
       "      <td>M</td>\n",
       "      <td>12.62</td>\n",
       "    </tr>\n",
       "    <tr>\n",
       "      <th>47</th>\n",
       "      <td>Pokemon Omega Ruby/Pokemon Alpha Sapphire</td>\n",
       "      <td>3DS</td>\n",
       "      <td>2014</td>\n",
       "      <td>Role-Playing</td>\n",
       "      <td>4.35</td>\n",
       "      <td>3.49</td>\n",
       "      <td>3.10</td>\n",
       "      <td>0.74</td>\n",
       "      <td>NaN</td>\n",
       "      <td>NaN</td>\n",
       "      <td>NaN</td>\n",
       "      <td>11.68</td>\n",
       "    </tr>\n",
       "    <tr>\n",
       "      <th>77</th>\n",
       "      <td>FIFA 16</td>\n",
       "      <td>PS4</td>\n",
       "      <td>2015</td>\n",
       "      <td>Sports</td>\n",
       "      <td>1.12</td>\n",
       "      <td>6.12</td>\n",
       "      <td>0.06</td>\n",
       "      <td>1.28</td>\n",
       "      <td>82.0</td>\n",
       "      <td>4.3</td>\n",
       "      <td>E</td>\n",
       "      <td>8.58</td>\n",
       "    </tr>\n",
       "    <tr>\n",
       "      <th>87</th>\n",
       "      <td>Star Wars Battlefront (2015)</td>\n",
       "      <td>PS4</td>\n",
       "      <td>2015</td>\n",
       "      <td>Shooter</td>\n",
       "      <td>2.99</td>\n",
       "      <td>3.49</td>\n",
       "      <td>0.22</td>\n",
       "      <td>1.28</td>\n",
       "      <td>NaN</td>\n",
       "      <td>NaN</td>\n",
       "      <td>NaN</td>\n",
       "      <td>7.98</td>\n",
       "    </tr>\n",
       "  </tbody>\n",
       "</table>\n",
       "</div>"
      ],
      "text/plain": [
       "                                         name platform  year_of_release  \\\n",
       "31                  Call of Duty: Black Ops 3      PS4             2015   \n",
       "42                         Grand Theft Auto V      PS4             2014   \n",
       "47  Pokemon Omega Ruby/Pokemon Alpha Sapphire      3DS             2014   \n",
       "77                                    FIFA 16      PS4             2015   \n",
       "87               Star Wars Battlefront (2015)      PS4             2015   \n",
       "\n",
       "           genre  na_sales  eu_sales  jp_sales  other_sales  critic_score  \\\n",
       "31       Shooter      6.03      5.86      0.36         2.38           NaN   \n",
       "42        Action      3.96      6.31      0.38         1.97          97.0   \n",
       "47  Role-Playing      4.35      3.49      3.10         0.74           NaN   \n",
       "77        Sports      1.12      6.12      0.06         1.28          82.0   \n",
       "87       Shooter      2.99      3.49      0.22         1.28           NaN   \n",
       "\n",
       "    user_score rating  total_sales  \n",
       "31         NaN    NaN        14.63  \n",
       "42         8.3      M        12.62  \n",
       "47         NaN    NaN        11.68  \n",
       "77         4.3      E         8.58  \n",
       "87         NaN    NaN         7.98  "
      ]
     },
     "execution_count": 16,
     "metadata": {},
     "output_type": "execute_result"
    }
   ],
   "source": [
    "data_after_2014 = data_clean[data_clean['year_of_release'] >= 2014]\n",
    "data_after_2014.head()"
   ]
  },
  {
   "cell_type": "markdown",
   "metadata": {},
   "source": [
    "***Посмотрите, как менялись продажи по платформам. Выберите платформы с наибольшими суммарными продажами и постройте распределение по годам. За какой характерный срок появляются новые и исчезают старые платформы?***"
   ]
  },
  {
   "cell_type": "code",
   "execution_count": 17,
   "metadata": {},
   "outputs": [
    {
     "data": {
      "image/png": "[encoded data removed]",
      "text/plain": [
       "<Figure size 1080x576 with 1 Axes>"
      ]
     },
     "metadata": {
      "needs_background": "light"
     },
     "output_type": "display_data"
    }
   ],
   "source": [
    "big_sales = pd.pivot_table(data=data_after_2014, values='total_sales', index='year_of_release', columns='platform', aggfunc='sum', fill_value=0)\n",
    "\n",
    "top_platforms = big_sales.sum().nlargest(5).index\n",
    "\n",
    "top_platform_sales = big_sales[top_platforms]\n",
    "\n",
    "top_platform_sales = top_platform_sales.reset_index()\n",
    "\n",
    "top_platform_sales_melted = top_platform_sales.melt(id_vars='year_of_release', var_name='platform', value_name='total_sales')\n",
    "\n",
    "plt.figure(figsize=(15, 8))\n",
    "sns.barplot(data=top_platform_sales_melted, x='year_of_release', y='total_sales', hue='platform')\n",
    "plt.title('Распределение продаж по платформам (Топ-5) по годам')\n",
    "plt.xlabel('Год выпуска')\n",
    "plt.ylabel('Суммарные продажи (в миллионах)')\n",
    "plt.xticks(rotation=45)\n",
    "plt.legend(title='Платформа')\n",
    "plt.tight_layout()\n",
    "plt.show()"
   ]
  },
  {
   "cell_type": "markdown",
   "metadata": {},
   "source": [
    "1. На графике видно, что платформа `PS4` является лидером продаж на протяжении всего периода с 2014 по 2016 год. Пик продаж `PS4` приходится на 2015 год (более 120 миллионов копий), а затем наблюдается постепенное снижение в 2016 году.\n",
    "\n",
    "2. Платформа `Xbox One` также показала значительные результаты, занимая второе место по продажам на протяжении всех трех лет. Продажи Xbox One достигли своего пика в 2015 году и начали снижаться в 2016 году.\n",
    "\n",
    "3. Платформы `3DS`, `PS3` и `X360` уже находились в финальной стадии жизненного цикла и продемонстрировали умеренные продажи. Продажи платформы `PS3` и `X360` значительно снизились к 2016 году, что указывает на завершение их жизненного цикла. Платформа `3DS` также показала постепенное снижение продаж в течение анализируемого периода.\n",
    "\n",
    "На основании анализа можно сделать вывод, что новые платформы достигают своего пика продаж через `2–3 года` после появления на рынке. После достижения пика продажи начинают снижаться, и платформы постепенно становятся менее актуальными через `5–6 лет` после выпуска. Это позволяет сделать вывод о высокой динамичности рынка консолей: платформы, которые недавно вышли на рынок, могут оставаться актуальными в течение `5–6 лет`, после чего начинают устаревать."
   ]
  },
  {
   "cell_type": "markdown",
   "metadata": {},
   "source": [
    "***Возьмите данные за соответствующий актуальный период. Актуальный период определите самостоятельно в результате исследования предыдущих вопросов. Основной фактор — эти данные помогут построить прогноз на 2017 год.***"
   ]
  },
  {
   "cell_type": "markdown",
   "metadata": {},
   "source": [
    "За актуальный период были выбраны данные с 2014 года по 2016 год.Такой период позволяет учитывать только те платформы, которые находятся на стадии активного роста или недавно вышли на рынок. Это поможет более точно спрогнозировать, какие платформы будут успешными в 2017 году и на какие платформы следует направить рекламные усилия."
   ]
  },
  {
   "cell_type": "markdown",
   "metadata": {},
   "source": [
    "***Какие платформы лидируют по продажам, растут или падают? Выберите несколько потенциально прибыльных платформ.***"
   ]
  },
  {
   "cell_type": "code",
   "execution_count": 18,
   "metadata": {},
   "outputs": [
    {
     "data": {
      "image/png": "[encoded data removed]",
      "text/plain": [
       "<Figure size 1080x576 with 1 Axes>"
      ]
     },
     "metadata": {
      "needs_background": "light"
     },
     "output_type": "display_data"
    }
   ],
   "source": [
    "plt.figure(figsize=(15, 8))\n",
    "sns.barplot(data=top_platform_sales_melted, x='year_of_release', y='total_sales', hue='platform')\n",
    "plt.title('Распределение продаж по платформам (Топ-5) по годам')\n",
    "plt.xlabel('Год выпуска')\n",
    "plt.ylabel('Суммарные продажи (в миллионах)')\n",
    "plt.xticks(rotation=45)\n",
    "plt.legend(title='Платформа')\n",
    "plt.tight_layout()\n",
    "plt.show()"
   ]
  },
  {
   "cell_type": "markdown",
   "metadata": {},
   "source": [
    "***По этому графику можно сделать вывод, что:***\n",
    "\n",
    "1. По продажам лидируют такие платформы, как:\n",
    "    1. PS4;\n",
    "    2. XOne;\n",
    "    3. PS3;\n",
    "    4. X360;\n",
    "    5. 3DS.\n",
    "2. Суммарные продажи платформы `PS4` резко вырастают и занимают первое место продаж среди 5-ки лидеров платформ, продажи падают в 2016 году.\n",
    "\n",
    "    Платформа `XOne` имеет стабильные продажи, но в 2016 году начинает падать в продажах.\n",
    "    \n",
    "    Наименьшим показателем продаж с 2014 по 2016 год является `PS3` и `X360`. Вероятно это связано с выходом новой серии платформ.\n",
    "    \n",
    "3. Потенциально прибыльне платформы:\n",
    "    1. PS4;\n",
    "    2. XOne;"
   ]
  },
  {
   "cell_type": "markdown",
   "metadata": {},
   "source": [
    "***Постройте график «ящик с усами» по глобальным продажам игр в разбивке по платформам. Опишите результат.***"
   ]
  },
  {
   "cell_type": "code",
   "execution_count": 19,
   "metadata": {},
   "outputs": [
    {
     "data": {
      "image/png": "[encoded data removed]",
      "text/plain": [
       "<Figure size 1040x800 with 1 Axes>"
      ]
     },
     "metadata": {
      "needs_background": "light"
     },
     "output_type": "display_data"
    }
   ],
   "source": [
    "plt.figure(figsize=(13,10), dpi= 80)\n",
    "ax = sns.boxplot(x=data_after_2014[\"platform\"], y=data_after_2014[\"total_sales\"], showfliers=False)\n",
    "\n",
    "plt.title(\"Распределение глобальных продаж игр по платформам (ящик с усами)\")\n",
    "plt.xlabel(\"Платформа\")\n",
    "plt.ylabel(\"Глобальные продажи (в миллионах)\")\n",
    "plt.xticks(rotation=45)\n",
    "plt.tight_layout()\n",
    "\n",
    "plt.show()"
   ]
  },
  {
   "cell_type": "markdown",
   "metadata": {},
   "source": [
    "***На графике отображено распределение глобальных продаж игр в разбивке по платформам:***\n",
    "\n",
    "- `PS4`, `XOne`, и `WiiU` имеют наибольшие медианные продажи среди платформ на графике, что свидетельствует о популярности отдельных игр на этих консолях и о значительном количестве успешных проектов.\n",
    "\n",
    "- `3DS`, `PS3`, и `X360` также показывают хорошие медианные продажи, но их медианы ниже по сравнению с `PS4` и `XOne`. Тем не менее, у них наблюдаются длинные усы, что говорит о наличии отдельных игр, которые достигли высоких продаж.\n",
    "\n",
    "- Платформы `PC`, `PSV`, и `PSP` имеют более низкие медианные продажи. Это указывает на ограниченную популярность игр на этих платформах или на отсутствие массово успешных проектов.\n",
    "\n",
    "Видно, что у платформ, таких как `X360` и `WiiU`, наблюдаются длинные верхние усы и это говорит о том, что на этих платформах есть игры, которые достигли значительных продаж, несмотря на относительно невысокие медианные значения."
   ]
  },
  {
   "cell_type": "markdown",
   "metadata": {},
   "source": [
    "***Посмотрите, как влияют на продажи внутри одной популярной платформы отзывы пользователей и критиков. Постройте диаграмму рассеяния и посчитайте корреляцию между отзывами и продажами. Сформулируйте выводы.***"
   ]
  },
  {
   "cell_type": "code",
   "execution_count": 20,
   "metadata": {},
   "outputs": [],
   "source": [
    "def plot_correlation(dataframe, platform, score_column, sales_column, title):\n",
    "    platform_data = dataframe[dataframe['platform'] == platform]\n",
    "    \n",
    "    plt.figure(figsize=(14, 6))\n",
    "    sns.scatterplot(x=platform_data[score_column], y=platform_data[sales_column])\n",
    "    plt.title(f'Зависимость продаж от {title} {platform}')\n",
    "    plt.xlabel(title)\n",
    "    plt.ylabel('Суммарные продажи (в миллионах)')\n",
    "    plt.show()\n",
    "    \n",
    "    correlation = platform_data[score_column].corr(platform_data[sales_column])\n",
    "    print(f\"Корреляция между {title.lower()} и продажами: {correlation:.2f}\")"
   ]
  },
  {
   "cell_type": "code",
   "execution_count": 21,
   "metadata": {},
   "outputs": [
    {
     "data": {
      "image/png": "[encoded data removed]",
      "text/plain": [
       "<Figure size 1008x432 with 1 Axes>"
      ]
     },
     "metadata": {
      "needs_background": "light"
     },
     "output_type": "display_data"
    },
    {
     "name": "stdout",
     "output_type": "stream",
     "text": [
      "Корреляция между оценок критиков и продажами: 0.40\n"
     ]
    },
    {
     "data": {
      "image/png": "[encoded data removed]",
      "text/plain": [
       "<Figure size 1008x432 with 1 Axes>"
      ]
     },
     "metadata": {
      "needs_background": "light"
     },
     "output_type": "display_data"
    },
    {
     "name": "stdout",
     "output_type": "stream",
     "text": [
      "Корреляция между оценок пользователей и продажами: -0.04\n"
     ]
    }
   ],
   "source": [
    "platform_ps4 = data_after_2014[data_after_2014['platform'] == 'PS4']\n",
    "\n",
    "plot_correlation(data_after_2014, 'PS4', 'critic_score', 'total_sales', 'оценок критиков')\n",
    "\n",
    "plot_correlation(data_after_2014, 'PS4', 'user_score', 'total_sales', 'оценок пользователей')"
   ]
  },
  {
   "cell_type": "markdown",
   "metadata": {},
   "source": [
    "***Промежуточный вывод:***\n",
    "\n",
    "1. Корреляция между отзывами критиков и продажами: Значение корреляции составляет 0.40, что указывает на умеренную положительную связь между оценками критиков и продажами. Это означает, что высокие оценки критиков могут быть связаны с более высокими продажами, хотя данная зависимость не является сильной.\n",
    "\n",
    "2. Корреляция между отзывами пользователей и продажами: Значение корреляции равно -0.04, что указывает на практически отсутствие связи между оценками пользователей и продажами. Это значит, что пользовательские оценки не оказывают существенного влияния на уровень продаж игр на платформе PS4."
   ]
  },
  {
   "cell_type": "code",
   "execution_count": 22,
   "metadata": {},
   "outputs": [
    {
     "data": {
      "image/png": "[encoded data removed]",
      "text/plain": [
       "<Figure size 1008x432 with 1 Axes>"
      ]
     },
     "metadata": {
      "needs_background": "light"
     },
     "output_type": "display_data"
    },
    {
     "name": "stdout",
     "output_type": "stream",
     "text": [
      "Корреляция между оценок критиков и продажами: 0.43\n"
     ]
    },
    {
     "data": {
      "image/png": "[encoded data removed]",
      "text/plain": [
       "<Figure size 1008x432 with 1 Axes>"
      ]
     },
     "metadata": {
      "needs_background": "light"
     },
     "output_type": "display_data"
    },
    {
     "name": "stdout",
     "output_type": "stream",
     "text": [
      "Корреляция между оценок пользователей и продажами: -0.07\n"
     ]
    }
   ],
   "source": [
    "platform_xone = data_after_2014[data_after_2014['platform'] == 'XOne']\n",
    "\n",
    "plot_correlation(data_after_2014, 'XOne', 'critic_score', 'total_sales', 'оценок критиков')\n",
    "\n",
    "plot_correlation(data_after_2014, 'XOne', 'user_score', 'total_sales', 'оценок пользователей')"
   ]
  },
  {
   "cell_type": "markdown",
   "metadata": {},
   "source": [
    "***Промежуточный вывод:***\n",
    "\n",
    "1. Корреляция между отзывами критиков и продажами: Значение корреляции составляет 0.43, что указывает на умеренную положительную связь между оценками критиков и продажами. Это подтверждает, что высокие оценки критиков могут способствовать увеличению продаж игр на платформе Xbox One.\n",
    "\n",
    "2. Корреляция между отзывами пользователей и продажами: Значение корреляции равно -0.07, что указывает на практически отсутствие связи между оценками пользователей и продажами. Это означает, что оценки пользователей не являются фактором, влияющим на продажи игр для Xbox One."
   ]
  },
  {
   "cell_type": "code",
   "execution_count": 23,
   "metadata": {
    "scrolled": false
   },
   "outputs": [
    {
     "data": {
      "image/png": "[encoded data removed]",
      "text/plain": [
       "<Figure size 1008x432 with 1 Axes>"
      ]
     },
     "metadata": {
      "needs_background": "light"
     },
     "output_type": "display_data"
    },
    {
     "name": "stdout",
     "output_type": "stream",
     "text": [
      "Корреляция между оценок критиков и продажами: 0.45\n"
     ]
    },
    {
     "data": {
      "image/png": "[encoded data removed]",
      "text/plain": [
       "<Figure size 1008x432 with 1 Axes>"
      ]
     },
     "metadata": {
      "needs_background": "light"
     },
     "output_type": "display_data"
    },
    {
     "name": "stdout",
     "output_type": "stream",
     "text": [
      "Корреляция между оценок пользователей и продажами: -0.17\n"
     ]
    }
   ],
   "source": [
    "platform_ps3 = data_after_2014[data_after_2014['platform'] == 'PS3']\n",
    "\n",
    "plot_correlation(data_after_2014, 'PS3', 'critic_score', 'total_sales', 'оценок критиков')\n",
    "\n",
    "plot_correlation(data_after_2014, 'PS3', 'user_score', 'total_sales', 'оценок пользователей')"
   ]
  },
  {
   "cell_type": "markdown",
   "metadata": {},
   "source": [
    "***Промежуточный вывод:***\n",
    "\n",
    "1. Корреляция между отзывами критиков и продажами: Значение корреляции составляет 0.45, что указывает на умеренную положительную связь между оценками критиков и продажами игр на платформе PS3. Это означает, что высокие оценки критиков могут способствовать более высоким продажам.\n",
    "\n",
    "2. Корреляция между отзывами пользователей и продажами: Значение корреляции составляет -0.17, что указывает на слабую отрицательную связь между оценками пользователей и продажами. Это значит, что оценки пользователей не оказывают положительного влияния на продажи игр на платформе PS3."
   ]
  },
  {
   "cell_type": "code",
   "execution_count": 24,
   "metadata": {},
   "outputs": [
    {
     "data": {
      "image/png": "[encoded data removed]",
      "text/plain": [
       "<Figure size 1008x432 with 1 Axes>"
      ]
     },
     "metadata": {
      "needs_background": "light"
     },
     "output_type": "display_data"
    },
    {
     "name": "stdout",
     "output_type": "stream",
     "text": [
      "Корреляция между оценок критиков и продажами: 0.53\n"
     ]
    },
    {
     "data": {
      "image/png": "[encoded data removed]",
      "text/plain": [
       "<Figure size 1008x432 with 1 Axes>"
      ]
     },
     "metadata": {
      "needs_background": "light"
     },
     "output_type": "display_data"
    },
    {
     "name": "stdout",
     "output_type": "stream",
     "text": [
      "Корреляция между оценок пользователей и продажами: -0.14\n"
     ]
    }
   ],
   "source": [
    "platform_x360 = data_after_2014[data_after_2014['platform'] == 'X360']\n",
    "\n",
    "plot_correlation(data_after_2014, 'X360', 'critic_score', 'total_sales', 'оценок критиков')\n",
    "\n",
    "plot_correlation(data_after_2014, 'X360', 'user_score', 'total_sales', 'оценок пользователей')"
   ]
  },
  {
   "cell_type": "markdown",
   "metadata": {},
   "source": [
    "***Промежуточный вывод:***\n",
    "\n",
    "1. Корреляция между отзывами критиков и продажами: Значение корреляции составляет 0.53, что указывает на умеренно сильную положительную связь между оценками критиков и продажами игр на платформе X360. Это значит, что высокие оценки критиков положительно влияют на уровень продаж и чем выше оценка критиков, тем больше вероятность успеха игры.\n",
    "\n",
    "2. Корреляция между отзывами пользователей и продажами: Значение корреляции равно -0.14, что указывает на слабую отрицательную связь между оценками пользователей и продажами. Это означает, что оценки пользователей не имеют значительного влияния на уровень продаж."
   ]
  },
  {
   "cell_type": "code",
   "execution_count": 25,
   "metadata": {},
   "outputs": [
    {
     "data": {
      "image/png": "[encoded data removed]",
      "text/plain": [
       "<Figure size 1008x432 with 1 Axes>"
      ]
     },
     "metadata": {
      "needs_background": "light"
     },
     "output_type": "display_data"
    },
    {
     "name": "stdout",
     "output_type": "stream",
     "text": [
      "Корреляция между оценок критиков и продажами: 0.31\n"
     ]
    },
    {
     "data": {
      "image/png": "[encoded data removed]",
      "text/plain": [
       "<Figure size 1008x432 with 1 Axes>"
      ]
     },
     "metadata": {
      "needs_background": "light"
     },
     "output_type": "display_data"
    },
    {
     "name": "stdout",
     "output_type": "stream",
     "text": [
      "Корреляция между оценок пользователей и продажами: 0.22\n"
     ]
    }
   ],
   "source": [
    "platform_3ds = data_after_2014[data_after_2014['platform'] == '3DS']\n",
    "\n",
    "plot_correlation(data_after_2014, '3DS', 'critic_score', 'total_sales', 'оценок критиков')\n",
    "\n",
    "plot_correlation(data_after_2014, '3DS', 'user_score', 'total_sales', 'оценок пользователей')"
   ]
  },
  {
   "cell_type": "markdown",
   "metadata": {},
   "source": [
    "***Промежуточный вывод:***\n",
    "\n",
    "1. Корреляция между отзывами критиков и продажами: Значение корреляции составляет 0.31, что указывает на слабую положительную связь между оценками критиков и продажами игр на платформе 3DS. Это означает, что высокие оценки критиков могут умеренно способствовать увеличению продаж игр, но эта связь не является сильной.\n",
    "\n",
    "2. Корреляция между отзывами пользователей и продажами: Значение корреляции составляет 0.22, что также указывает на слабую положительную связь между оценками пользователей и продажами игр. Эта связь слабее по сравнению с влиянием критиков, но тем не менее пользовательские оценки могут в некоторой степени способствовать повышению уровня продаж."
   ]
  },
  {
   "cell_type": "markdown",
   "metadata": {},
   "source": [
    "***Вывод***"
   ]
  },
  {
   "cell_type": "markdown",
   "metadata": {},
   "source": [
    "***Корреляция между отзывами критиков и продажами:***\n",
    "\n",
    "- `PS4`: 0.40 — Умеренная положительная связь. Продажи игр на PS4 значительно зависели от высоких оценок критиков, что говорит о важности рецензий для успеха игры на этой платформе.\n",
    "- `XOne`: 0.43 — Умеренная положительная связь. Игроки Xbox One также учитывали рецензии критиков при выборе игр, что подтверждает значимость оценок критиков для успеха платформы.\n",
    "- `PS3`: 0.45 — Умеренная связь, самая высокая среди рассмотренных платформ. Оценки критиков играли важную роль при выборе игр для PS3, что говорит о серьезном подходе аудитории к качеству контента.\n",
    "- `X360`: 0.53 — Сильная положительная связь, наибольшая среди платформ. Игроки Xbox 360 явно ориентировались на оценки критиков, и их рецензии играли важную роль в формировании успеха игр.\n",
    "- `3DS`: 0.31 — Слабая положительная связь. Хотя критики оказывали некоторое влияние на продажи, оно не было таким значительным, как на других платформах.\n",
    "\n",
    "***Корреляция между отзывами пользователей и продажами:***\n",
    "\n",
    "- `PS4`: -0.04 — Практически отсутствует связь. Пользовательские оценки на PS4 не оказывали существенного влияния на продажи игр.\n",
    "- `XOne`: -0.07 — Очень слабая отрицательная связь. Отзывы пользователей Xbox One практически не влияли на продажи, возможно, из-за меньшего доверия к пользовательским мнениям.\n",
    "- `PS3`: -0.17 — Слабая отрицательная связь. Пользовательские оценки на PS3 оказали небольшое отрицательное влияние на продажи.\n",
    "- `X360`: -0.14 — Слабая отрицательная связь. Пользователи Xbox 360, меньше полагались на пользовательские отзывы при выборе игр.\n",
    "- `3DS`: 0.22 — Слабая положительная связь. Игроки 3DS частично учитывали отзывы пользователей, но влияние этих оценок на продажи было небольшим."
   ]
  },
  {
   "cell_type": "markdown",
   "metadata": {},
   "source": [
    "***Посмотрите на общее распределение игр по жанрам. Что можно сказать о самых прибыльных жанрах? Выделяются ли жанры с высокими и низкими продажами?***"
   ]
  },
  {
   "cell_type": "code",
   "execution_count": 26,
   "metadata": {},
   "outputs": [],
   "source": [
    "genre_sales = data_after_2014.groupby('genre').agg(total_sales=('total_sales', 'sum'), count=('total_sales', 'count')).reset_index()"
   ]
  },
  {
   "cell_type": "code",
   "execution_count": 27,
   "metadata": {},
   "outputs": [],
   "source": [
    "genre_sales['median_sales'] = data_after_2014.groupby('genre')['total_sales'].median().values\n",
    "\n",
    "genre_sales = genre_sales.sort_values(by='total_sales', ascending=False)"
   ]
  },
  {
   "cell_type": "code",
   "execution_count": 28,
   "metadata": {},
   "outputs": [
    {
     "data": {
      "image/png": "[encoded data removed]",
      "text/plain": [
       "<Figure size 864x432 with 1 Axes>"
      ]
     },
     "metadata": {
      "needs_background": "light"
     },
     "output_type": "display_data"
    }
   ],
   "source": [
    "plt.figure(figsize=(12, 6))\n",
    "sns.barplot(data=genre_sales, x='genre', y='total_sales', palette='viridis')\n",
    "plt.title('Общее распределение продаж игр по жанрам')\n",
    "plt.xlabel('Жанр')\n",
    "plt.ylabel('Суммарные продажи (в миллионах)')\n",
    "plt.xticks(rotation=45)\n",
    "plt.tight_layout()\n",
    "plt.show()"
   ]
  },
  {
   "cell_type": "code",
   "execution_count": 29,
   "metadata": {},
   "outputs": [
    {
     "data": {
      "image/png": "[encoded data removed]",
      "text/plain": [
       "<Figure size 864x432 with 1 Axes>"
      ]
     },
     "metadata": {
      "needs_background": "light"
     },
     "output_type": "display_data"
    }
   ],
   "source": [
    "plt.figure(figsize=(12, 6))\n",
    "sns.barplot(data=genre_sales, x='genre', y='median_sales', palette='viridis')\n",
    "plt.title('Распределение медианных продаж игр по жанрам')\n",
    "plt.xlabel('Жанр')\n",
    "plt.ylabel('Медианные продажи (в миллионах)')\n",
    "plt.xticks(rotation=45)\n",
    "plt.tight_layout()\n",
    "plt.show()"
   ]
  },
  {
   "cell_type": "markdown",
   "metadata": {},
   "source": [
    "***Вывод***\n",
    "\n",
    "Жанр `Action` выделяется по суммарным продажам как самый прибыльный, что подтверждает его популярность среди игроков. Однако, медианные продажи для этого жанра ниже по сравнению с `Shooter`, что говорит о том, что успешность игр в этом жанре больше зависит от единичных хитов, чем от стабильных продаж каждой игры.\n",
    "\n",
    "`Shooter` показывает не только высокие суммарные продажи, но и наивысшие медианные значения, что говорит о стабильности продаж для большинства игр этого жанра. Это делает жанр `Shooter` одним из самых прибыльных и надежных для издателей.\n",
    "\n",
    "`Sports` также является прибыльным жанром, с хорошими суммарными и медианными продажами. В отличие от `Action`, жанр `Sports` показывает большую стабильность успеха игр.\n",
    "\n",
    "Жанры с низкими продажами, такие как `Puzzle`, `Strategy` и `Simulation`, имеют как низкие суммарные, так и медианные продажи, что указывает на их менее широкую аудиторию. Это может быть связано с тем, что эти жанры ориентированы на более узкие сегменты игроков, который привлекает ограниченное число пользователей."
   ]
  },
  {
   "cell_type": "markdown",
   "metadata": {},
   "source": [
    "***Общий вывод***\n",
    "\n",
    "`1. Продажи игр на различных платформах`:\n",
    "\n",
    "- Периоды роста и спада: Анализ продаж платформ, таких как PS4, XOne, PS3, X360 и 3DS, показал, что платформы обычно достигают пика продаж через 2–4 года после выхода, а затем начинают снижаться. Это подтверждает короткий жизненный цикл современных игровых консолей, который составляет около 4-5 лет.\n",
    "- Влияние отзывов: Для современных платформ, таких как PS4 и XOne, обнаружена умеренная положительная связь между отзывами критиков и продажами, с корреляцией до 0.43. При этом отзывы пользователей оказывали слабое влияние на продажи, часто с корреляцией около 0.1 или даже отрицательной.\n",
    "\n",
    "\n",
    "`2. Влияние оценок критиков и пользователей на продажи`:\n",
    "\n",
    "- Отзывы критиков: Отзывы критиков играют важную роль в продажах игр. Платформы, такие как PS4, PS3, и XOne, демонстрируют значительную корреляцию между оценками критиков и продажами, от 0.4 до 0.53. Это говорит о том, что игроки ориентируются на мнение профессионалов при принятии решения о покупке игр.\n",
    "- Отзывы пользователей: Влияние оценок пользователей на продажи оказалось слабым или даже отрицательным для всех платформ, включая PS3, X360 и PS4. Это означает, что игроки меньше полагаются на мнение других пользователей и больше учитывают профессиональные обзоры.\n",
    "\n",
    "\n",
    "`3. Распределение по жанрам и самые прибыльные жанры`:\n",
    "\n",
    "- Action и Shooter: Жанры Action и Shooter остаются самыми прибыльными жанрами, благодаря динамичному и захватывающему геймплею. Они обладают высокой суммарной продажей и стабильными медианными продажами, что делает их привлекательными для разработчиков и издателей.\n",
    "- Sports: Жанр Sports также показывает высокие суммарные продажи, но медианные продажи ниже, что указывает на успех отдельных игр, таких как FIFA.\n",
    "- Низкие продажи: Жанры, такие как Puzzle, Strategy и Simulation, имеют низкие как суммарные, так и медианные продажи. Они ориентированы на узкие группы игроков и не так популярны на массовом рынке."
   ]
  },
  {
   "cell_type": "markdown",
   "metadata": {},
   "source": [
    "#### Шаг 4. Составьте портрет пользователя каждого региона"
   ]
  },
  {
   "cell_type": "markdown",
   "metadata": {},
   "source": [
    "###### Определите для пользователя каждого региона (NA, EU, JP):"
   ]
  },
  {
   "cell_type": "markdown",
   "metadata": {},
   "source": [
    "***Самые популярные платформы (топ-5). Опишите различия в долях продаж.***"
   ]
  },
  {
   "cell_type": "code",
   "execution_count": 30,
   "metadata": {},
   "outputs": [],
   "source": [
    "na_platform_sales = data_after_2014.groupby('platform')['na_sales'].sum().reset_index().sort_values(by='na_sales', ascending=False)\n",
    "eu_platform_sales = data_after_2014.groupby('platform')['eu_sales'].sum().reset_index().sort_values(by='eu_sales', ascending=False)\n",
    "jp_platform_sales = data_after_2014.groupby('platform')['jp_sales'].sum().reset_index().sort_values(by='jp_sales', ascending=False)\n",
    "\n",
    "total_na_sales = na_platform_sales['na_sales'].sum()\n",
    "total_eu_sales = eu_platform_sales['eu_sales'].sum()\n",
    "total_jp_sales = jp_platform_sales['jp_sales'].sum()"
   ]
  },
  {
   "cell_type": "code",
   "execution_count": 31,
   "metadata": {},
   "outputs": [],
   "source": [
    "top_5_na = na_platform_sales.head(5)\n",
    "others_na = total_na_sales - top_5_na['na_sales'].sum()\n",
    "top_5_na = top_5_na.append({'platform': 'Other', 'na_sales': others_na}, ignore_index=True)\n",
    "\n",
    "top_5_eu = eu_platform_sales.head(5)\n",
    "others_eu = total_eu_sales - top_5_eu['eu_sales'].sum()\n",
    "top_5_eu = top_5_eu.append({'platform': 'Other', 'eu_sales': others_eu}, ignore_index=True)\n",
    "\n",
    "top_5_jp = jp_platform_sales.head(5)\n",
    "others_jp = total_jp_sales - top_5_jp['jp_sales'].sum()\n",
    "top_5_jp = top_5_jp.append({'platform': 'Other', 'jp_sales': others_jp}, ignore_index=True)"
   ]
  },
  {
   "cell_type": "code",
   "execution_count": 32,
   "metadata": {},
   "outputs": [
    {
     "data": {
      "image/png": "[encoded data removed]",
      "text/plain": [
       "<Figure size 1296x432 with 3 Axes>"
      ]
     },
     "metadata": {},
     "output_type": "display_data"
    }
   ],
   "source": [
    "plt.figure(figsize=(18, 6))\n",
    "\n",
    "plt.subplot(1, 3, 1)\n",
    "plt.pie(top_5_na['na_sales'], labels=top_5_na['platform'], autopct='%1.1f%%', startangle=140)\n",
    "plt.title('Доли продаж платформ (Топ-5) в Северной Америке')\n",
    "\n",
    "plt.subplot(1, 3, 2)\n",
    "plt.pie(top_5_eu['eu_sales'], labels=top_5_eu['platform'], autopct='%1.1f%%', startangle=140)\n",
    "plt.title('Доли продаж платформ (Топ-5) в Европе')\n",
    "\n",
    "plt.subplot(1, 3, 3)\n",
    "plt.pie(top_5_jp['jp_sales'], labels=top_5_jp['platform'], autopct='%1.1f%%', startangle=140)\n",
    "plt.title('Доли продаж платформ (Топ-5) в Японии')\n",
    "\n",
    "plt.tight_layout()\n",
    "plt.show()"
   ]
  },
  {
   "cell_type": "markdown",
   "metadata": {},
   "source": [
    "***Вывод:***\n",
    "\n",
    "1. Северная Америка (NA):\n",
    "\n",
    "Платформа PS4 занимает наибольшую долю продаж в Северной Америке (34.7%). Следующей по популярности является Xbox One, которая занимает 28.6%.\n",
    "Платформы X360 и 3DS занимают третье и четвертое места с долями в 10% и 11%, соответственно. PS3 также попадает в топ-5 с долей продаж в 8%.\n",
    "В Северной Америке конкуренция сосредоточена в основном между Sony и Microsoft, причем PS4 и Xbox One значительно выделяются на фоне остальных.\n",
    "\n",
    "\n",
    "2. Европа (EU):\n",
    "\n",
    "В Европе PS4 значительно доминирует, занимая 48% продаж. Xbox One занимает второе место с 17.1% долей продаж.\n",
    "За ними следуют PC (6.6%) и PS3 (9.4%). Платформа 3DS занимает пятую позицию с долей в 6%.\n",
    "В Европе PS4 значительно превосходит остальные платформы по продажам, что свидетельствует о её огромной популярности среди европейских геймеров.\n",
    "\n",
    "\n",
    "3. Япония (JP):\n",
    "\n",
    "В Японии 3DS занимает лидирующую позицию с долей продаж в 47.5%. Следующими идут PSV (15.6%) и PS4 (16.1%).\n",
    "PS3 и WiiU занимают следующие позиции с долями 12.1% и 7.9%, соответственно.\n",
    "В отличие от Северной Америки и Европы, в Японии значительно большее внимание уделяется портативным консолям, что подтверждается доминирующей долей 3DS и значительной долей PSV."
   ]
  },
  {
   "cell_type": "markdown",
   "metadata": {},
   "source": [
    "***Самые популярные жанры (топ-5). Поясните разницу.***"
   ]
  },
  {
   "cell_type": "code",
   "execution_count": 33,
   "metadata": {},
   "outputs": [
    {
     "data": {
      "text/html": [
       "<div>\n",
       "<style scoped>\n",
       "    .dataframe tbody tr th:only-of-type {\n",
       "        vertical-align: middle;\n",
       "    }\n",
       "\n",
       "    .dataframe tbody tr th {\n",
       "        vertical-align: top;\n",
       "    }\n",
       "\n",
       "    .dataframe thead th {\n",
       "        text-align: right;\n",
       "    }\n",
       "</style>\n",
       "<table border=\"1\" class=\"dataframe\">\n",
       "  <thead>\n",
       "    <tr style=\"text-align: right;\">\n",
       "      <th></th>\n",
       "      <th>genre</th>\n",
       "      <th>na_sales</th>\n",
       "    </tr>\n",
       "  </thead>\n",
       "  <tbody>\n",
       "    <tr>\n",
       "      <th>8</th>\n",
       "      <td>Shooter</td>\n",
       "      <td>79.02</td>\n",
       "    </tr>\n",
       "    <tr>\n",
       "      <th>0</th>\n",
       "      <td>Action</td>\n",
       "      <td>72.53</td>\n",
       "    </tr>\n",
       "    <tr>\n",
       "      <th>10</th>\n",
       "      <td>Sports</td>\n",
       "      <td>46.13</td>\n",
       "    </tr>\n",
       "    <tr>\n",
       "      <th>7</th>\n",
       "      <td>Role-Playing</td>\n",
       "      <td>33.47</td>\n",
       "    </tr>\n",
       "    <tr>\n",
       "      <th>3</th>\n",
       "      <td>Misc</td>\n",
       "      <td>15.05</td>\n",
       "    </tr>\n",
       "  </tbody>\n",
       "</table>\n",
       "</div>"
      ],
      "text/plain": [
       "           genre  na_sales\n",
       "8        Shooter     79.02\n",
       "0         Action     72.53\n",
       "10        Sports     46.13\n",
       "7   Role-Playing     33.47\n",
       "3           Misc     15.05"
      ]
     },
     "metadata": {},
     "output_type": "display_data"
    },
    {
     "data": {
      "text/html": [
       "<div>\n",
       "<style scoped>\n",
       "    .dataframe tbody tr th:only-of-type {\n",
       "        vertical-align: middle;\n",
       "    }\n",
       "\n",
       "    .dataframe tbody tr th {\n",
       "        vertical-align: top;\n",
       "    }\n",
       "\n",
       "    .dataframe thead th {\n",
       "        text-align: right;\n",
       "    }\n",
       "</style>\n",
       "<table border=\"1\" class=\"dataframe\">\n",
       "  <thead>\n",
       "    <tr style=\"text-align: right;\">\n",
       "      <th></th>\n",
       "      <th>genre</th>\n",
       "      <th>eu_sales</th>\n",
       "    </tr>\n",
       "  </thead>\n",
       "  <tbody>\n",
       "    <tr>\n",
       "      <th>0</th>\n",
       "      <td>Action</td>\n",
       "      <td>74.68</td>\n",
       "    </tr>\n",
       "    <tr>\n",
       "      <th>8</th>\n",
       "      <td>Shooter</td>\n",
       "      <td>65.52</td>\n",
       "    </tr>\n",
       "    <tr>\n",
       "      <th>10</th>\n",
       "      <td>Sports</td>\n",
       "      <td>45.73</td>\n",
       "    </tr>\n",
       "    <tr>\n",
       "      <th>7</th>\n",
       "      <td>Role-Playing</td>\n",
       "      <td>28.17</td>\n",
       "    </tr>\n",
       "    <tr>\n",
       "      <th>6</th>\n",
       "      <td>Racing</td>\n",
       "      <td>14.13</td>\n",
       "    </tr>\n",
       "  </tbody>\n",
       "</table>\n",
       "</div>"
      ],
      "text/plain": [
       "           genre  eu_sales\n",
       "0         Action     74.68\n",
       "8        Shooter     65.52\n",
       "10        Sports     45.73\n",
       "7   Role-Playing     28.17\n",
       "6         Racing     14.13"
      ]
     },
     "metadata": {},
     "output_type": "display_data"
    },
    {
     "data": {
      "text/html": [
       "<div>\n",
       "<style scoped>\n",
       "    .dataframe tbody tr th:only-of-type {\n",
       "        vertical-align: middle;\n",
       "    }\n",
       "\n",
       "    .dataframe tbody tr th {\n",
       "        vertical-align: top;\n",
       "    }\n",
       "\n",
       "    .dataframe thead th {\n",
       "        text-align: right;\n",
       "    }\n",
       "</style>\n",
       "<table border=\"1\" class=\"dataframe\">\n",
       "  <thead>\n",
       "    <tr style=\"text-align: right;\">\n",
       "      <th></th>\n",
       "      <th>genre</th>\n",
       "      <th>jp_sales</th>\n",
       "    </tr>\n",
       "  </thead>\n",
       "  <tbody>\n",
       "    <tr>\n",
       "      <th>7</th>\n",
       "      <td>Role-Playing</td>\n",
       "      <td>31.16</td>\n",
       "    </tr>\n",
       "    <tr>\n",
       "      <th>0</th>\n",
       "      <td>Action</td>\n",
       "      <td>29.58</td>\n",
       "    </tr>\n",
       "    <tr>\n",
       "      <th>2</th>\n",
       "      <td>Fighting</td>\n",
       "      <td>6.37</td>\n",
       "    </tr>\n",
       "    <tr>\n",
       "      <th>3</th>\n",
       "      <td>Misc</td>\n",
       "      <td>5.61</td>\n",
       "    </tr>\n",
       "    <tr>\n",
       "      <th>8</th>\n",
       "      <td>Shooter</td>\n",
       "      <td>4.87</td>\n",
       "    </tr>\n",
       "  </tbody>\n",
       "</table>\n",
       "</div>"
      ],
      "text/plain": [
       "          genre  jp_sales\n",
       "7  Role-Playing     31.16\n",
       "0        Action     29.58\n",
       "2      Fighting      6.37\n",
       "3          Misc      5.61\n",
       "8       Shooter      4.87"
      ]
     },
     "metadata": {},
     "output_type": "display_data"
    }
   ],
   "source": [
    "na_genre_sales = data_after_2014.groupby('genre')['na_sales'].sum().reset_index().sort_values(by='na_sales', ascending=False)\n",
    "eu_genre_sales = data_after_2014.groupby('genre')['eu_sales'].sum().reset_index().sort_values(by='eu_sales', ascending=False)\n",
    "jp_genre_sales = data_after_2014.groupby('genre')['jp_sales'].sum().reset_index().sort_values(by='jp_sales', ascending=False)\n",
    "\n",
    "na_genre_sales_top5 = na_genre_sales.head(5)\n",
    "eu_genre_sales_top5 = eu_genre_sales.head(5)\n",
    "jp_genre_sales_top5 = jp_genre_sales.head(5)\n",
    "\n",
    "display(na_genre_sales_top5)\n",
    "display(eu_genre_sales_top5)\n",
    "display(jp_genre_sales_top5)"
   ]
  },
  {
   "cell_type": "code",
   "execution_count": 34,
   "metadata": {},
   "outputs": [
    {
     "data": {
      "image/png": "[encoded data removed]",
      "text/plain": [
       "<Figure size 1296x432 with 3 Axes>"
      ]
     },
     "metadata": {
      "needs_background": "light"
     },
     "output_type": "display_data"
    }
   ],
   "source": [
    "plt.figure(figsize=(18, 6))\n",
    "\n",
    "plt.subplot(1, 3, 1)\n",
    "sns.barplot(data=na_genre_sales_top5, x='genre', y='na_sales')\n",
    "plt.title('Топ-5 жанров по продажам в Северной Америке')\n",
    "plt.xlabel('Жанр')\n",
    "plt.xticks(rotation=90)\n",
    "plt.ylabel('Продажи (в миллионах)')\n",
    "\n",
    "plt.subplot(1, 3, 2)\n",
    "sns.barplot(data=eu_genre_sales_top5, x='genre', y='eu_sales')\n",
    "plt.title('Топ-5 жанров по продажам в Европе')\n",
    "plt.xlabel('Жанр')\n",
    "plt.xticks(rotation=90)\n",
    "plt.ylabel('Продажи (в миллионах)')\n",
    "\n",
    "plt.subplot(1, 3, 3)\n",
    "sns.barplot(data=jp_genre_sales_top5, x='genre', y='jp_sales')\n",
    "plt.title('Топ-5 жанров по продажам в Японии')\n",
    "plt.xlabel('Жанр')\n",
    "plt.xticks(rotation=90)\n",
    "plt.ylabel('Продажи (в миллионах)')\n",
    "\n",
    "plt.tight_layout()\n",
    "plt.show()"
   ]
  },
  {
   "cell_type": "markdown",
   "metadata": {},
   "source": [
    "1. Северная Америка (NA):\n",
    "\n",
    "- Топ-5 жанров: Shooter, Action, Sports, Role-Playing, Misc.\n",
    "- Жанр Shooter лидирует по продажам, занимая около 70 миллионов копий. Это подтверждает популярность динамичных игр среди североамериканских игроков.\n",
    "- Action и Sports занимают второе и третье места, также показывая высокие объемы продаж в регионе. Action отличается насыщенным геймплеем, а Sports популярны благодаря множеству спортивных игр.\n",
    "- Role-Playing и Misc занимают четвертое и пятое места, хотя их доли значительно меньше по сравнению с лидерами.\n",
    "\n",
    "2. Европа (EU):\n",
    "\n",
    "- Топ-5 жанров: Action, Shooter, Sports, Role-Playing, Racing.\n",
    "- В Европе Action лидирует с продажами более 70 миллионов копий. Это подтверждает высокую востребованность игр с динамичным геймплеем.\n",
    "- Shooter и Sports занимают второе и третье места соответственно. Игры жанра Sports также популярны, что свидетельствует о важной роли спортивных франшиз.\n",
    "- Role-Playing и Racing дополняют топ-5, что указывает на любовь европейских игроков к гоночным и ролевым играм.\n",
    "\n",
    "3. Япония (JP):\n",
    "\n",
    "- Топ-5 жанров: Role-Playing, Action, Fighting, Misc, Shooter.\n",
    "- Role-Playing (RPG) доминирует в Японии с суммарными продажами более 30 миллионов копий.\n",
    "- Action занимает второе место, что подтверждает популярность игр с активным геймплеем, но его продажи заметно ниже, чем у RPG.\n",
    "- Fighting, Misc, и Shooter занимают оставшиеся места в топ-5, что подчеркивает интерес японских игроков к разным типам геймплея."
   ]
  },
  {
   "cell_type": "markdown",
   "metadata": {},
   "source": [
    "В Северной Америке и Европе доминируют жанры ***Shooter, Action, и Sports***, что подчеркивает любовь к динамичным и соревновательным играм. \n",
    "\n",
    "В Японии же жанр ***RPG*** явно выделяется на фоне других, что указывает на предпочтение японских игроков к сюжетным и ролевым играм."
   ]
  },
  {
   "cell_type": "markdown",
   "metadata": {},
   "source": [
    "***Влияет ли рейтинг ESRB на продажи в отдельном регионе?***"
   ]
  },
  {
   "cell_type": "code",
   "execution_count": 35,
   "metadata": {},
   "outputs": [],
   "source": [
    "na_esrb_sales = data_after_2014.groupby('rating')['na_sales'].sum().reset_index().sort_values(by='na_sales', ascending=False)\n",
    "eu_esrb_sales = data_after_2014.groupby('rating')['eu_sales'].sum().reset_index().sort_values(by='eu_sales', ascending=False)\n",
    "jp_esrb_sales = data_after_2014.groupby('rating')['jp_sales'].sum().reset_index().sort_values(by='jp_sales', ascending=False)"
   ]
  },
  {
   "cell_type": "code",
   "execution_count": 36,
   "metadata": {},
   "outputs": [
    {
     "data": {
      "image/png": "[encoded data removed]",
      "text/plain": [
       "<Figure size 1296x432 with 3 Axes>"
      ]
     },
     "metadata": {
      "needs_background": "light"
     },
     "output_type": "display_data"
    }
   ],
   "source": [
    "plt.figure(figsize=(18, 6))\n",
    "\n",
    "plt.subplot(1, 3, 1)\n",
    "sns.barplot(data=na_esrb_sales, x='rating', y='na_sales')\n",
    "plt.title('Влияние рейтинга ESRB на продажи в Северной Америке')\n",
    "plt.xlabel('Рейтинг ESRB')\n",
    "plt.ylabel('Продажи (в миллионах)')\n",
    "\n",
    "plt.subplot(1, 3, 2)\n",
    "sns.barplot(data=eu_esrb_sales, x='rating', y='eu_sales')\n",
    "plt.title('Влияние рейтинга ESRB на продажи в Европе')\n",
    "plt.xlabel('Рейтинг ESRB')\n",
    "plt.ylabel('Продажи (в миллионах)')\n",
    "\n",
    "plt.subplot(1, 3, 3)\n",
    "sns.barplot(data=jp_esrb_sales, x='rating', y='jp_sales')\n",
    "plt.title('Влияние рейтинга ESRB на продажи в Японии')\n",
    "plt.xlabel('Рейтинг ESRB')\n",
    "plt.ylabel('Продажи (в миллионах)')\n",
    "\n",
    "plt.tight_layout()\n",
    "plt.show()"
   ]
  },
  {
   "cell_type": "code",
   "execution_count": 37,
   "metadata": {},
   "outputs": [],
   "source": [
    "data_unknown_rating = data.copy()\n",
    "data_unknown_rating['rating'] = data_unknown_rating['rating'].fillna('unknown')"
   ]
  },
  {
   "cell_type": "code",
   "execution_count": 38,
   "metadata": {},
   "outputs": [],
   "source": [
    "na_esrb_sales = data_unknown_rating.groupby('rating')['na_sales'].sum().reset_index().sort_values(by='na_sales', ascending=False)\n",
    "eu_esrb_sales = data_unknown_rating.groupby('rating')['eu_sales'].sum().reset_index().sort_values(by='eu_sales', ascending=False)\n",
    "jp_esrb_sales = data_unknown_rating.groupby('rating')['jp_sales'].sum().reset_index().sort_values(by='jp_sales', ascending=False)"
   ]
  },
  {
   "cell_type": "code",
   "execution_count": 39,
   "metadata": {},
   "outputs": [
    {
     "data": {
      "image/png": "[encoded data removed]",
      "text/plain": [
       "<Figure size 1296x432 with 3 Axes>"
      ]
     },
     "metadata": {
      "needs_background": "light"
     },
     "output_type": "display_data"
    }
   ],
   "source": [
    "plt.figure(figsize=(18, 6))\n",
    "\n",
    "plt.subplot(1, 3, 1)\n",
    "sns.barplot(data=na_esrb_sales, x='rating', y='na_sales')\n",
    "plt.title('Влияние рейтинга ESRB на продажи в Северной Америке')\n",
    "plt.xlabel('Рейтинг ESRB')\n",
    "plt.ylabel('Продажи (в миллионах)')\n",
    "\n",
    "plt.subplot(1, 3, 2)\n",
    "sns.barplot(data=eu_esrb_sales, x='rating', y='eu_sales')\n",
    "plt.title('Влияние рейтинга ESRB на продажи в Европе')\n",
    "plt.xlabel('Рейтинг ESRB')\n",
    "plt.ylabel('Продажи (в миллионах)')\n",
    "\n",
    "plt.subplot(1, 3, 3)\n",
    "sns.barplot(data=jp_esrb_sales, x='rating', y='jp_sales')\n",
    "plt.title('Влияние рейтинга ESRB на продажи в Японии')\n",
    "plt.xlabel('Рейтинг ESRB')\n",
    "plt.ylabel('Продажи (в миллионах)')\n",
    "\n",
    "plt.tight_layout()\n",
    "plt.show()"
   ]
  },
  {
   "cell_type": "markdown",
   "metadata": {},
   "source": [
    "***Краткое описание маркировок:***\n",
    "- «E» («Everyone») — «Для всех»: Содержание вполне подходит для всех возрастов (ранее с 6 лет). Такие игры могут понравиться и взрослым. Игры с этим рейтингом могут содержать минимальное насилие, в основном «мультяшного» характера. Первоначально \"K-A\" (\"Kids to Adults\").\n",
    "\n",
    "\n",
    "- «E10+» («Everyone 10 and older») — «Для всех от 10 лет и старше»: Проекты с данным рейтингом могут содержать больше мультипликационного или мягкого насилия, или несколько откровенные сцены, или минимальное количество крови. Рейтинг был принят ESRB 2 марта 2005 года.\n",
    "\n",
    "\n",
    "- «T» («Teen») — «Подросткам»: Игра подходит для лиц от 13 лет. Проекты из данной категории могут содержать насилие, непристойные сцены, грубый юмор, в меру откровенное сексуальное содержимое, кровь или нечастое использование ненормативной лексики.\n",
    "\n",
    "\n",
    "- «M» («Mature») — «Для взрослых»: Материалы игры не подходят для лиц младше 17 лет. Проекты с данным рейтингом могут содержать жестокое насилие, большое количество крови с расчленением, непристойные сексуальные сцены или грубую ненормативную лексику.\n",
    "\n",
    "\n",
    "- «AO» («Adults Only 18+») — «Только для взрослых»: Содержание игры только для взрослых старше 18 лет. Продукты из данной категории могут содержать длительные сцены жестокого насилия и/или очень откровенное сексуальное содержимое.\n",
    "\n",
    "\n",
    "- «RP» («Rating Pending») — «Рейтинг ожидается»: Продукт был отправлен в ESRB и ожидает присвоения рейтинга. Данный логотип используется только на рекламных презентациях и в демо-версиях игр до официальной даты выпуска в продажу.\n",
    "\n",
    "\n",
    "- «EC» («Early childhood») — «Для детей младшего возраста»: Игра подходит для детей от 3 лет и не содержит материалов, которые родители могли бы счесть неподходящими. Продукты, получившие данный рейтинг, изначально разрабатываются для детей и обычно представляют собой развивающие игры. С 1 марта 2018 года этот рейтинг больше не используется и заменяется на Everyone по причине того, что этот рейтинг имели менее 300 игр."
   ]
  },
  {
   "cell_type": "markdown",
   "metadata": {},
   "source": [
    "1. Северная Америка (NA):\n",
    "- Рейтинг M (Mature) занимает лидирующую позицию с общими продажами около 100 миллионов копий. Это говорит о высоком интересе североамериканских игроков к играм, предназначенным для взрослой аудитории.\n",
    "- Рейтинг E (Everyone) находится на втором месте с продажами около 60 миллионов копий, что подтверждает популярность игр для всех возрастов.\n",
    "- Рейтинг T (Teen) занимает третье место с продажами около 40 миллионов копий, что говорит о заметном интересе к играм для подростков.\n",
    "- Рейтинг E10+ имеет самые низкие продажи среди представленных, что указывает на меньший интерес аудитории к играм, ориентированным на детей старше 10 лет.\n",
    "\n",
    "2. Европа (EU):\n",
    "- Рейтинг M также является лидером в Европе, с продажами около 90 миллионов копий. Это подчеркивает интерес европейских игроков к играм для взрослой аудитории.\n",
    "- Рейтинг E занимает второе место с продажами около 70 миллионов копий, что свидетельствует о популярности игр, предназначенных для всей семьи.\n",
    "- Рейтинг T находится на третьем месте с продажами около 50 миллионов копий, что говорит о стабильном интересе к играм для подростков.\n",
    "- Рейтинг E10+ имеет самые низкие продажи, что подтверждает меньший интерес к играм для детей старше 10 лет.\n",
    "\n",
    "3. Япония (JP):\n",
    "- Рейтинг T занимает лидирующую позицию в Японии с продажами около 14 миллионов копий. Это говорит о высоком интересе японской аудитории к играм для подростков.\n",
    "- Рейтинг E занимает второе место с продажами около 10 миллионов копий, что указывает на популярность семейных игр.\n",
    "- Рейтинг M занимает третье место с продажами около 8 миллионов копий, что говорит о некотором интересе к играм для взрослой аудитории.\n",
    "- Рейтинг E10+ имеет самые низкие продажи, что указывает на сравнительно низкий интерес к играм для детей старше 10 лет."
   ]
  },
  {
   "cell_type": "markdown",
   "metadata": {},
   "source": [
    "***Общий вывод***\n",
    "\n",
    "1. ***Северная Америка (NA):***\n",
    "\n",
    "- `Предпочтения по платформам:` В Северной Америке наиболее популярными платформами являются PS4, Xbox One, и X360. PS4 занимает лидирующую позицию, что говорит о большой популярности платформы среди американских геймеров.\n",
    "\n",
    "- `Популярные жанры:` Наиболее популярные жанры в Северной Америке — Shooter, Action, и Sports. Это говорит о предпочтении активного, динамичного игрового процесса, а также о высоком интересе к спортивным играм и шутерам.\n",
    "\n",
    "- `Рейтинг ESRB:` Игры с рейтингом M (Mature) имеют наибольшие продажи, что говорит о высокой популярности игр для взрослой аудитории. Также популярны игры с рейтингами E (Everyone) и T (Teen), что указывает на интерес к играм для всей семьи и подростков.\n",
    "\n",
    "2. ***Европа (EU):***\n",
    "\n",
    "- `Предпочтения по платформам:` В Европе наиболее популярными платформами являются PS4, Xbox One, и PS3. PS4 занимает лидирующую позицию, что свидетельствует о популярности консолей Sony среди европейских геймеров.\n",
    "\n",
    "- `Популярные жанры:` В Европе наибольшую популярность имеют жанры Action, Shooter, и Sports, что совпадает с предпочтениями NA аудитории. Европейские пользователи также ценят активный и соревновательный геймплей.\n",
    "\n",
    "- `Рейтинг ESRB:` Игры с рейтингом M (Mature) также лидируют по продажам, что говорит о популярности игр для взрослой аудитории. В то же время высокие продажи имеют и игры с рейтингами E (Everyone) и T (Teen), что указывает на широкую аудиторию, включая как детей, так и взрослых.\n",
    "\n",
    "3. ***Япония (JP):***\n",
    "\n",
    "- `Предпочтения по платформам:` В Японии наибольшую популярность имеют 3DS, PS4, и PSV. 3DS лидирует по продажам, что свидетельствует о высокой популярности портативных консолей среди японских игроков.\n",
    "\n",
    "- `Популярные жанры:` Жанр Role-Playing (RPG) является самым популярным в Японии, что значительно отличает японских игроков от западных. Это говорит о предпочтении глубоких сюжетных игр. Также популярны жанры Action и Fighting, но их популярность значительно уступает RPG.\n",
    "\n",
    "- `Рейтинг ESRB:` В Японии также лидирует рейтинг T (Teen), что подтверждает популярность игр для подростков. Рейтинг E (Everyone) также занимает значительную долю."
   ]
  },
  {
   "cell_type": "markdown",
   "metadata": {},
   "source": [
    "#### Шаг 5. Проверьте гипотезы"
   ]
  },
  {
   "cell_type": "markdown",
   "metadata": {},
   "source": [
    "***Задайте самостоятельно пороговое значение alpha.***\n",
    "\n",
    "alpha = 0.05\n",
    "\n",
    "Значение 0.05 является стандартным и часто используемым в статистическом анализе."
   ]
  },
  {
   "cell_type": "markdown",
   "metadata": {},
   "source": [
    "***Поясните:***\n",
    "\n",
    "***1. Как вы сформулировали нулевую и альтернативную гипотезы;***\n",
    "\n",
    "***2. Какой критерий применили для проверки гипотез и почему.***"
   ]
  },
  {
   "cell_type": "markdown",
   "metadata": {},
   "source": [
    "***Средние пользовательские рейтинги платформ Xbox One и PC одинаковые;***\n",
    "\n",
    "- H0: Средние пользовательские рейтинги платформ Xbox One и PC одинаковые.\n",
    "- H1: Средние пользовательские рейтинги платформ Xbox One и PC различаются.\n",
    "\n",
    "Для проверки гипотезы будет использован t-тест Стьюдента для независимых выборок. Этот критерий подходит, так как мы сравниваем средние значения двух независимых групп (платформ)."
   ]
  },
  {
   "cell_type": "code",
   "execution_count": 40,
   "metadata": {},
   "outputs": [
    {
     "name": "stdout",
     "output_type": "stream",
     "text": [
      "t-статистика: 1.58\n",
      "p-значение: 0.11601398086668832\n"
     ]
    }
   ],
   "source": [
    "xbox_one_ratings = data_after_2014[(data_after_2014['platform'] == 'XOne') & (data_after_2014['user_score'].notna())]['user_score']\n",
    "pc_ratings = data_after_2014[(data_after_2014['platform'] == 'PC') & (data_after_2014['user_score'].notna())]['user_score']\n",
    "\n",
    "t_stat, p_value = st.ttest_ind(xbox_one_ratings, pc_ratings, equal_var=False)\n",
    "\n",
    "print(f\"t-статистика: {t_stat:.2f}\")\n",
    "print(f\"p-значение: {p_value}\")"
   ]
  },
  {
   "cell_type": "markdown",
   "metadata": {},
   "source": [
    "***Вывод***\n",
    "\n",
    "Поскольку p-значение больше уровня значимости (0.05), то у нас нет достаточных оснований отвергнуть нулевую гипотезу. Это означает, что нет статистически значимых различий между средними пользовательскими рейтингами для платформ Xbox One и PC."
   ]
  },
  {
   "cell_type": "markdown",
   "metadata": {},
   "source": [
    "***Средние пользовательские рейтинги жанров Action (англ. «действие», экшен-игры) и Sports (англ. «спортивные соревнования») разные.***\n",
    "\n",
    "- H0: Средние пользовательские рейтинги жанров Action и Sports одинаковые\n",
    "- H1: Средние пользовательские рейтинги жанров Action и Sports различаются\n",
    "\n",
    "Для проверки гипотезы будет использован t-тест Стьюдента для независимых выборок. Этот критерий подходит, так как мы сравниваем средние значения двух независимых групп (жанров)."
   ]
  },
  {
   "cell_type": "code",
   "execution_count": 41,
   "metadata": {},
   "outputs": [
    {
     "name": "stdout",
     "output_type": "stream",
     "text": [
      "t-статистика: 8.38\n",
      "p-значение: 0.00000000000001182555\n"
     ]
    }
   ],
   "source": [
    "action_ratings = data_after_2014[(data_after_2014['genre'] == 'Action') & (data_after_2014['user_score'].notna())]['user_score']\n",
    "sports_ratings = data_after_2014[(data_after_2014['genre'] == 'Sports') & (data_after_2014['user_score'].notna())]['user_score']\n",
    "\n",
    "t_stat, p_value = st.ttest_ind(action_ratings, sports_ratings, equal_var=False)\n",
    "\n",
    "print(f\"t-статистика: {t_stat:.2f}\")\n",
    "print(f\"p-значение: {p_value:.20f}\")"
   ]
  },
  {
   "cell_type": "markdown",
   "metadata": {},
   "source": [
    "***Вывод***\n",
    "\n",
    "Поскольку p-значение значительно меньше уровня значимости (0.05), у нас есть достаточные основания отвергнуть нулевую гипотезу. Это означает, что средние пользовательские рейтинги для жанров Action и Sports статистически значимо различаются."
   ]
  },
  {
   "cell_type": "markdown",
   "metadata": {},
   "source": [
    "***Общий вывод***\n",
    "\n",
    "1. Гипотеза о средних пользовательских рейтингах платформ Xbox One и PC: Поскольку p-значение больше уровня значимости (0.05), то у нас нет достаточных оснований отвергнуть нулевую гипотезу. Это означает, что нет статистически значимых различий между средними пользовательскими рейтингами для платформ Xbox One и PC.\n",
    "\n",
    "\n",
    "2. Гипотеза о средних пользовательских рейтингах жанров Action и Sports: Поскольку p-значение значительно меньше уровня значимости (0.05), у нас есть достаточные основания отвергнуть нулевую гипотезу. Это означает, что средние пользовательские рейтинги для жанров Action и Sports статистически значимо различаются."
   ]
  },
  {
   "cell_type": "markdown",
   "metadata": {},
   "source": [
    "#### Шаг 6. Напишите общий вывод"
   ]
  },
  {
   "cell_type": "markdown",
   "metadata": {},
   "source": [
    "***Вывод по проделанной работе***\n",
    "\n",
    "   ***Первым шагом работы был проведен анализ полученных данных. ***\n",
    "   В наборе данных присутствовали пропущенные значения в нескольких столбцах. Например, в колонке `Year_of_Release` не хватало данных для `269 записей`, что могло повлиять на анализ временных тенденций. Столбцы `Critic_Score`, `User_Score`, и `Rating` содержали `значительное количество пропусков`, что также нужно учитывать при анализе оценок игр.\n",
    "\n",
    "   Примерно половина игр не имела оценок критиков `Critic_Score`, а в столбце `User_Score` пропущено более `40% данных`. Это может ограничивать возможность детального анализа влияния оценок на успешность игры, и требует дополнительной обработки.\n",
    "\n",
    "   ***В процессе подготовки данных были выполнены следующие шаги:***\n",
    "\n",
    "  - Заменены названия столбцов(приведены к нижнему регистру);\n",
    "\n",
    "  - Обработаны пропуски:\n",
    "\n",
    "  - В столбце `name` были удалены `2 пропуска`, потому что строки не содержали информации, которые способствовали восстановлению данных;\n",
    "  - `year_of_release` - приведен к типу int, пропущенные значения удалены.\n",
    "  - `critic_score` - пропущенные значения оставленны как NaN, чтобы учитывать только реальные оценки. При дальнейшем анализе появится необходимость строить графики, а с текстовым значением unknown появятся проблемы.\n",
    "  - `user_score` - значение tbd означает, что оценка не определена. Также при замене этого значения на unknown возникнут трудности с анализом, поэтому они заменены на NaN. Пропущенные значения тоже принято не заменять, чтобы не исказить анализ.\n",
    "  - `rating` - пропущенные значения оставленны, чтобы не исказить анализ.\n",
    "  - Добавлен столбец `total_sales` с суммарными продажами во всех регионах.\n",
    "\n",
    "***Слудеющим этапом был исследовательский анализ данных, в ходе которого были выявлены следующие особенности:***\n",
    "    \n",
    "   1. ***Продажи игр на различных платформах:***\n",
    "\n",
    "        - Периоды роста и спада: Анализ продаж платформ, таких как PS4, XOne, PS3, X360 и 3DS, показал, что платформы обычно достигают пика продаж через 2–4 года после выхода, а затем начинают снижаться. Это подтверждает короткий жизненный цикл современных игровых консолей, который составляет около 4-5 лет.\n",
    "        - Влияние отзывов: Для современных платформ, таких как PS4 и XOne, обнаружена умеренная положительная связь между отзывами критиков и продажами, с корреляцией до 0.43. При этом отзывы пользователей оказывали слабое влияние на продажи, часто с корреляцией около 0.1 или даже отрицательной.\n",
    "        \n",
    "   2. ***Влияние оценок критиков и пользователей на продажи:***\n",
    "\n",
    "        - Отзывы критиков: Отзывы критиков играют важную роль в продажах игр. Платформы, такие как PS4, PS3, и XOne, демонстрируют значительную корреляцию между оценками критиков и продажами, от 0.4 до 0.53. Это говорит о том, что игроки ориентируются на мнение профессионалов при принятии решения о покупке игр.\n",
    "        - Отзывы пользователей: Влияние оценок пользователей на продажи оказалось слабым или даже отрицательным для всех платформ, включая PS3, X360 и PS4. Это означает, что игроки меньше полагаются на мнение других пользователей и больше учитывают профессиональные обзоры.\n",
    "        \n",
    "   3. ***Распределение по жанрам и самые прибыльные жанры:***\n",
    "\n",
    "        - Action и Shooter: Жанры Action и Shooter остаются самыми прибыльными жанрами, благодаря динамичному и захватывающему геймплею. Они обладают высокой суммарной продажей и стабильными медианными продажами, что делает их привлекательными для разработчиков и издателей.\n",
    "        - Sports: Жанр Sports также показывает высокие суммарные продажи, но медианные продажи ниже, что указывает на успех отдельных игр, таких как FIFA.\n",
    "        - Низкие продажи: Жанры, такие как Puzzle, Strategy и Simulation, имеют низкие как суммарные, так и медианные продажи. Они ориентированы на узкие группы игроков и не так популярны на массовом рынке.\n",
    "\n",
    "***Далее был составлен портрет пользователя каждого региона (NA, EU, JP):***\n",
    "        \n",
    "   1. ***Северная Америка (NA):***\n",
    "\n",
    "        - `Предпочтения по платформам:` В Северной Америке наиболее популярными платформами являются PS4, Xbox One, и X360. PS4 занимает лидирующую позицию, что говорит о большой популярности платформы среди американских геймеров.\n",
    "\n",
    "        - `Популярные жанры:` Наиболее популярные жанры в Северной Америке — Shooter, Action, и Sports. Это говорит о предпочтении активного, динамичного игрового процесса, а также о высоком интересе к спортивным играм и шутерам.\n",
    "\n",
    "        - `Рейтинг ESRB:` Игры с рейтингом M (Mature) имеют наибольшие продажи, что говорит о высокой популярности игр для взрослой аудитории. Также популярны игры с рейтингами E (Everyone) и T (Teen), что указывает на интерес к играм для всей семьи и подростков.\n",
    "\n",
    "   2. ***Европа (EU):***\n",
    "\n",
    "        - `Предпочтения по платформам:` В Европе наиболее популярными платформами являются PS4, Xbox One, и PS3. PS4 занимает лидирующую позицию, что свидетельствует о популярности консолей Sony среди европейских геймеров.\n",
    "\n",
    "        - `Популярные жанры:` В Европе наибольшую популярность имеют жанры Action, Shooter, и Sports, что совпадает с предпочтениями NA аудитории. Европейские пользователи также ценят активный и соревновательный геймплей.\n",
    "\n",
    "        - `Рейтинг ESRB:` Игры с рейтингом M (Mature) также лидируют по продажам, что говорит о популярности игр для взрослой аудитории. В то же время высокие продажи имеют и игры с рейтингами E (Everyone) и T (Teen), что указывает на широкую аудиторию, включая как детей, так и взрослых.\n",
    "\n",
    "   3. ***Япония (JP):***\n",
    "\n",
    "        - `Предпочтения по платформам:` В Японии наибольшую популярность имеют 3DS, PS4, и PSV. 3DS лидирует по продажам, что свидетельствует о высокой популярности портативных консолей среди японских игроков.\n",
    "\n",
    "        - `Популярные жанры:` Жанр Role-Playing (RPG) является самым популярным в Японии, что значительно отличает японских игроков от западных. Это говорит о предпочтении глубоких сюжетных игр. Также популярны жанры Action и Fighting, но их популярность значительно уступает RPG.\n",
    "\n",
    "        - `Рейтинг ESRB:` В Японии также лидирует рейтинг T (Teen), что подтверждает популярность игр для подростков. Рейтинг E (Everyone) также занимает значительную долю.\n",
    "\n",
    "***И последним этапом была проведена проверка гипотез:***\n",
    "        \n",
    "   - Гипотеза о средних пользовательских рейтингах платформ Xbox One и PC: Поскольку p-значение больше уровня значимости (0.05), то у нас нет достаточных оснований отвергнуть нулевую гипотезу. Это означает, что нет статистически значимых различий между средними пользовательскими рейтингами для платформ Xbox One и PC.\n",
    "        \n",
    "   - Гипотеза о средних пользовательских рейтингах жанров Action и Sports: Поскольку p-значение значительно меньше уровня значимости (0.05), у нас есть достаточные основания отвергнуть нулевую гипотезу. Это означает, что средние пользовательские рейтинги для жанров Action и Sports статистически значимо различаются."
   ]
  },
  {
   "cell_type": "markdown",
   "metadata": {},
   "source": [
    "#### Рекомендации\n",
    "\n",
    "- `Учесть различия в предпочтениях пользователей на разных платформах.` Игры, которые популярны на одной платформе, могут не получать такую же поддержку на другой, поэтому необходимо адаптировать контент под каждую платформу.\n",
    "\n",
    "- `Учитывать универсальность жанров.` Это означает, что разработчики могут ориентироваться на оба жанра при выпуске массовых проектов, которые должны быть популярны широкой аудитории.\n",
    "\n",
    "- `Использование рейтингов и продаж для анализа.` Анализ взаимосвязи между рейтингами и продажами показал, что влияние пользовательских оценок на продажи относительно невелик, так как корреляция между ними была слабой.Рекомендуется развивать систему оценок пользователями для улучшения качества игр и для лучшего понимания потребностей аудитории. \n",
    "\n",
    "- `Оптимизация маркетинговых стратегий.` Для повышения продаж на разных платформах необходимо учитывать разницу в пользовательских предпочтениях и адаптировать маркетинговые стратегии в зависимости от региона и платформы."
   ]
  }
 ],
 "metadata": {
  "ExecuteTimeLog": [
   {
    "duration": 1399,
    "start_time": "2024-10-03T06:03:57.012Z"
   },
   {
    "duration": 180,
    "start_time": "2024-10-03T06:13:03.211Z"
   },
   {
    "duration": 35,
    "start_time": "2024-10-03T06:13:20.016Z"
   },
   {
    "duration": 4,
    "start_time": "2024-10-03T06:19:03.382Z"
   },
   {
    "duration": 15,
    "start_time": "2024-10-03T06:19:13.087Z"
   },
   {
    "duration": 377,
    "start_time": "2024-10-03T06:19:54.862Z"
   },
   {
    "duration": 18,
    "start_time": "2024-10-03T06:21:05.211Z"
   },
   {
    "duration": 20,
    "start_time": "2024-10-03T06:39:15.259Z"
   },
   {
    "duration": 49,
    "start_time": "2024-10-03T18:52:37.619Z"
   },
   {
    "duration": 1237,
    "start_time": "2024-10-03T18:52:42.952Z"
   },
   {
    "duration": 215,
    "start_time": "2024-10-03T18:52:44.807Z"
   },
   {
    "duration": 33,
    "start_time": "2024-10-03T18:52:45.520Z"
   },
   {
    "duration": 17,
    "start_time": "2024-10-03T18:52:47.519Z"
   },
   {
    "duration": 6,
    "start_time": "2024-10-03T18:52:49.031Z"
   },
   {
    "duration": 65,
    "start_time": "2024-10-03T18:53:26.807Z"
   },
   {
    "duration": 5,
    "start_time": "2024-10-03T18:55:52.925Z"
   },
   {
    "duration": 15,
    "start_time": "2024-10-03T18:56:03.461Z"
   },
   {
    "duration": 15,
    "start_time": "2024-10-03T18:57:14.908Z"
   },
   {
    "duration": 22,
    "start_time": "2024-10-03T18:57:29.861Z"
   },
   {
    "duration": 2,
    "start_time": "2024-10-03T18:57:35.637Z"
   },
   {
    "duration": 58,
    "start_time": "2024-10-03T18:57:35.956Z"
   },
   {
    "duration": 25,
    "start_time": "2024-10-03T18:57:36.292Z"
   },
   {
    "duration": 21,
    "start_time": "2024-10-03T18:57:39.437Z"
   },
   {
    "duration": 15,
    "start_time": "2024-10-03T18:57:50.741Z"
   },
   {
    "duration": 18,
    "start_time": "2024-10-03T19:01:10.586Z"
   },
   {
    "duration": 13,
    "start_time": "2024-10-03T19:01:28.075Z"
   },
   {
    "duration": 452,
    "start_time": "2024-10-03T19:02:34.594Z"
   },
   {
    "duration": 17,
    "start_time": "2024-10-03T19:02:41.449Z"
   },
   {
    "duration": 522,
    "start_time": "2024-10-03T19:02:45.633Z"
   },
   {
    "duration": 453,
    "start_time": "2024-10-03T19:02:58.370Z"
   },
   {
    "duration": 477,
    "start_time": "2024-10-03T19:03:14.665Z"
   },
   {
    "duration": 447,
    "start_time": "2024-10-03T19:03:36.097Z"
   },
   {
    "duration": 462,
    "start_time": "2024-10-03T19:03:46.609Z"
   },
   {
    "duration": 951,
    "start_time": "2024-10-03T19:03:57.177Z"
   },
   {
    "duration": 245,
    "start_time": "2024-10-03T19:08:34.622Z"
   },
   {
    "duration": 3,
    "start_time": "2024-10-03T19:08:41.502Z"
   },
   {
    "duration": 59,
    "start_time": "2024-10-03T19:08:41.806Z"
   },
   {
    "duration": 26,
    "start_time": "2024-10-03T19:08:42.355Z"
   },
   {
    "duration": 16,
    "start_time": "2024-10-03T19:08:44.062Z"
   },
   {
    "duration": 13,
    "start_time": "2024-10-03T19:08:47.040Z"
   },
   {
    "duration": 12,
    "start_time": "2024-10-03T19:09:13.614Z"
   },
   {
    "duration": 16,
    "start_time": "2024-10-03T19:10:32.294Z"
   },
   {
    "duration": 34,
    "start_time": "2024-10-03T19:10:35.885Z"
   },
   {
    "duration": 5,
    "start_time": "2024-10-03T19:10:58.789Z"
   },
   {
    "duration": 4,
    "start_time": "2024-10-03T19:12:16.524Z"
   },
   {
    "duration": 3,
    "start_time": "2024-10-03T19:12:21.340Z"
   },
   {
    "duration": 5,
    "start_time": "2024-10-03T19:12:48.100Z"
   },
   {
    "duration": 3,
    "start_time": "2024-10-03T19:13:07.653Z"
   },
   {
    "duration": 9,
    "start_time": "2024-10-03T19:17:43.025Z"
   },
   {
    "duration": 9,
    "start_time": "2024-10-03T19:17:52.722Z"
   },
   {
    "duration": 10,
    "start_time": "2024-10-03T19:19:22.224Z"
   },
   {
    "duration": 6,
    "start_time": "2024-10-03T19:23:06.511Z"
   },
   {
    "duration": 7,
    "start_time": "2024-10-03T19:23:15.062Z"
   },
   {
    "duration": 59,
    "start_time": "2024-10-03T19:23:45.078Z"
   },
   {
    "duration": 1103,
    "start_time": "2024-10-03T19:23:49.790Z"
   },
   {
    "duration": 219,
    "start_time": "2024-10-03T19:23:51.694Z"
   },
   {
    "duration": 31,
    "start_time": "2024-10-03T19:23:52.242Z"
   },
   {
    "duration": 16,
    "start_time": "2024-10-03T19:23:54.246Z"
   },
   {
    "duration": 2,
    "start_time": "2024-10-03T19:23:56.446Z"
   },
   {
    "duration": 15,
    "start_time": "2024-10-03T19:23:57.318Z"
   },
   {
    "duration": 5,
    "start_time": "2024-10-03T19:31:56.313Z"
   },
   {
    "duration": 19,
    "start_time": "2024-10-03T19:31:57.826Z"
   },
   {
    "duration": 9,
    "start_time": "2024-10-03T19:32:22.569Z"
   },
   {
    "duration": 20,
    "start_time": "2024-10-03T19:32:23.390Z"
   },
   {
    "duration": 67,
    "start_time": "2024-10-03T19:32:33.512Z"
   },
   {
    "duration": 9,
    "start_time": "2024-10-03T19:32:48.993Z"
   },
   {
    "duration": 21,
    "start_time": "2024-10-03T19:32:52.425Z"
   },
   {
    "duration": 2,
    "start_time": "2024-10-03T19:33:24.353Z"
   },
   {
    "duration": 56,
    "start_time": "2024-10-03T19:33:24.873Z"
   },
   {
    "duration": 25,
    "start_time": "2024-10-03T19:33:25.321Z"
   },
   {
    "duration": 15,
    "start_time": "2024-10-03T19:33:26.857Z"
   },
   {
    "duration": 2,
    "start_time": "2024-10-03T19:33:27.849Z"
   },
   {
    "duration": 14,
    "start_time": "2024-10-03T19:33:28.872Z"
   },
   {
    "duration": 7,
    "start_time": "2024-10-03T19:33:31.800Z"
   },
   {
    "duration": 20,
    "start_time": "2024-10-03T19:33:32.329Z"
   },
   {
    "duration": 19,
    "start_time": "2024-10-03T19:33:47.848Z"
   },
   {
    "duration": 33,
    "start_time": "2024-10-03T19:34:08.352Z"
   },
   {
    "duration": 11,
    "start_time": "2024-10-03T19:36:47.055Z"
   },
   {
    "duration": 15,
    "start_time": "2024-10-03T19:36:52.367Z"
   },
   {
    "duration": 16,
    "start_time": "2024-10-03T19:36:56.847Z"
   },
   {
    "duration": 15,
    "start_time": "2024-10-03T19:37:03.479Z"
   },
   {
    "duration": 5,
    "start_time": "2024-10-03T19:38:33.598Z"
   },
   {
    "duration": 5,
    "start_time": "2024-10-03T19:38:41.965Z"
   },
   {
    "duration": 52,
    "start_time": "2024-10-03T19:39:39.237Z"
   },
   {
    "duration": 5,
    "start_time": "2024-10-03T19:40:01.845Z"
   },
   {
    "duration": 6,
    "start_time": "2024-10-03T19:40:40.501Z"
   },
   {
    "duration": 5,
    "start_time": "2024-10-03T19:45:27.178Z"
   },
   {
    "duration": 5,
    "start_time": "2024-10-03T19:45:45.074Z"
   },
   {
    "duration": 6,
    "start_time": "2024-10-03T19:47:11.234Z"
   },
   {
    "duration": 5,
    "start_time": "2024-10-03T19:47:37.769Z"
   },
   {
    "duration": 4,
    "start_time": "2024-10-03T19:49:07.743Z"
   },
   {
    "duration": 26,
    "start_time": "2024-10-03T19:49:59.577Z"
   },
   {
    "duration": 9,
    "start_time": "2024-10-03T19:54:33.125Z"
   },
   {
    "duration": 29,
    "start_time": "2024-10-03T19:54:57.125Z"
   },
   {
    "duration": 6,
    "start_time": "2024-10-03T19:55:52.052Z"
   },
   {
    "duration": 5,
    "start_time": "2024-10-03T19:55:57.572Z"
   },
   {
    "duration": 45,
    "start_time": "2024-10-03T19:56:04.780Z"
   },
   {
    "duration": 6,
    "start_time": "2024-10-03T19:56:07.724Z"
   },
   {
    "duration": 5,
    "start_time": "2024-10-03T19:56:17.204Z"
   },
   {
    "duration": 55,
    "start_time": "2024-10-03T20:11:55.891Z"
   },
   {
    "duration": 31,
    "start_time": "2024-10-03T20:11:57.243Z"
   },
   {
    "duration": 2,
    "start_time": "2024-10-03T20:12:13.875Z"
   },
   {
    "duration": 58,
    "start_time": "2024-10-03T20:12:14.131Z"
   },
   {
    "duration": 27,
    "start_time": "2024-10-03T20:12:14.434Z"
   },
   {
    "duration": 30,
    "start_time": "2024-10-03T20:12:18.931Z"
   },
   {
    "duration": 17,
    "start_time": "2024-10-03T20:12:21.595Z"
   },
   {
    "duration": 14,
    "start_time": "2024-10-03T20:12:26.066Z"
   },
   {
    "duration": 30,
    "start_time": "2024-10-03T20:12:28.219Z"
   },
   {
    "duration": 5,
    "start_time": "2024-10-03T20:12:32.395Z"
   },
   {
    "duration": 6,
    "start_time": "2024-10-03T20:12:32.730Z"
   },
   {
    "duration": 16,
    "start_time": "2024-10-03T20:12:34.531Z"
   },
   {
    "duration": 10,
    "start_time": "2024-10-03T20:12:37.323Z"
   },
   {
    "duration": 28,
    "start_time": "2024-10-03T20:12:39.746Z"
   },
   {
    "duration": 4,
    "start_time": "2024-10-03T20:14:24.130Z"
   },
   {
    "duration": 26,
    "start_time": "2024-10-03T20:14:25.762Z"
   },
   {
    "duration": 1378,
    "start_time": "2024-10-05T07:51:01.199Z"
   },
   {
    "duration": 210,
    "start_time": "2024-10-05T07:51:03.660Z"
   },
   {
    "duration": 33,
    "start_time": "2024-10-05T07:51:05.000Z"
   },
   {
    "duration": 16,
    "start_time": "2024-10-05T07:51:07.200Z"
   },
   {
    "duration": 3,
    "start_time": "2024-10-05T07:51:09.215Z"
   },
   {
    "duration": 15,
    "start_time": "2024-10-05T07:51:10.292Z"
   },
   {
    "duration": 38,
    "start_time": "2024-10-05T07:51:12.745Z"
   },
   {
    "duration": 7,
    "start_time": "2024-10-05T07:51:14.283Z"
   },
   {
    "duration": 6,
    "start_time": "2024-10-05T07:51:14.618Z"
   },
   {
    "duration": 18,
    "start_time": "2024-10-05T07:51:15.912Z"
   },
   {
    "duration": 10,
    "start_time": "2024-10-05T07:51:16.719Z"
   },
   {
    "duration": 5,
    "start_time": "2024-10-05T07:51:16.999Z"
   },
   {
    "duration": 41,
    "start_time": "2024-10-05T07:51:19.236Z"
   },
   {
    "duration": 18,
    "start_time": "2024-10-05T07:51:23.605Z"
   },
   {
    "duration": 1234,
    "start_time": "2024-10-05T16:15:25.191Z"
   },
   {
    "duration": 183,
    "start_time": "2024-10-05T16:15:26.427Z"
   },
   {
    "duration": 33,
    "start_time": "2024-10-05T16:15:26.611Z"
   },
   {
    "duration": 16,
    "start_time": "2024-10-05T16:15:26.646Z"
   },
   {
    "duration": 15,
    "start_time": "2024-10-05T16:15:26.665Z"
   },
   {
    "duration": 64,
    "start_time": "2024-10-05T16:15:26.681Z"
   },
   {
    "duration": 6,
    "start_time": "2024-10-05T16:15:26.747Z"
   },
   {
    "duration": 49,
    "start_time": "2024-10-05T16:15:26.755Z"
   },
   {
    "duration": 27,
    "start_time": "2024-10-05T16:15:26.806Z"
   },
   {
    "duration": 10,
    "start_time": "2024-10-05T16:15:26.834Z"
   },
   {
    "duration": 20,
    "start_time": "2024-10-05T16:15:26.846Z"
   },
   {
    "duration": 37,
    "start_time": "2024-10-05T16:15:26.868Z"
   },
   {
    "duration": 16,
    "start_time": "2024-10-05T16:15:26.906Z"
   },
   {
    "duration": 1106,
    "start_time": "2024-10-05T16:21:42.194Z"
   },
   {
    "duration": 56,
    "start_time": "2024-10-05T16:21:43.302Z"
   },
   {
    "duration": 28,
    "start_time": "2024-10-05T16:21:43.359Z"
   },
   {
    "duration": 14,
    "start_time": "2024-10-05T16:21:43.388Z"
   },
   {
    "duration": 14,
    "start_time": "2024-10-05T16:21:43.404Z"
   },
   {
    "duration": 68,
    "start_time": "2024-10-05T16:21:43.420Z"
   },
   {
    "duration": 5,
    "start_time": "2024-10-05T16:21:43.490Z"
   },
   {
    "duration": 6,
    "start_time": "2024-10-05T16:21:43.497Z"
   },
   {
    "duration": 16,
    "start_time": "2024-10-05T16:21:43.504Z"
   },
   {
    "duration": 22,
    "start_time": "2024-10-05T16:21:43.521Z"
   },
   {
    "duration": 4,
    "start_time": "2024-10-05T16:21:43.545Z"
   },
   {
    "duration": 27,
    "start_time": "2024-10-05T16:21:43.550Z"
   },
   {
    "duration": 15,
    "start_time": "2024-10-05T16:21:43.579Z"
   },
   {
    "duration": 1381,
    "start_time": "2024-10-05T17:30:30.239Z"
   },
   {
    "duration": 174,
    "start_time": "2024-10-05T17:30:31.622Z"
   },
   {
    "duration": 31,
    "start_time": "2024-10-05T17:30:32.478Z"
   },
   {
    "duration": 16,
    "start_time": "2024-10-05T17:30:36.428Z"
   },
   {
    "duration": 14,
    "start_time": "2024-10-05T17:30:38.915Z"
   },
   {
    "duration": 31,
    "start_time": "2024-10-05T17:30:40.698Z"
   },
   {
    "duration": 7,
    "start_time": "2024-10-05T17:30:42.128Z"
   },
   {
    "duration": 9,
    "start_time": "2024-10-05T17:30:50.847Z"
   },
   {
    "duration": 77,
    "start_time": "2024-10-05T17:31:38.548Z"
   },
   {
    "duration": 13,
    "start_time": "2024-10-05T17:32:14.388Z"
   },
   {
    "duration": 5,
    "start_time": "2024-10-05T17:37:09.088Z"
   },
   {
    "duration": 12,
    "start_time": "2024-10-05T17:37:17.616Z"
   },
   {
    "duration": 5,
    "start_time": "2024-10-05T17:37:19.029Z"
   },
   {
    "duration": 37,
    "start_time": "2024-10-05T17:40:41.416Z"
   },
   {
    "duration": 32,
    "start_time": "2024-10-05T17:43:57.336Z"
   },
   {
    "duration": 36,
    "start_time": "2024-10-05T17:44:03.256Z"
   },
   {
    "duration": 38,
    "start_time": "2024-10-05T17:44:11.506Z"
   },
   {
    "duration": 59,
    "start_time": "2024-10-05T17:44:20.268Z"
   },
   {
    "duration": 48,
    "start_time": "2024-10-05T17:44:28.909Z"
   },
   {
    "duration": 40,
    "start_time": "2024-10-05T17:44:35.147Z"
   },
   {
    "duration": 31,
    "start_time": "2024-10-05T17:44:47.326Z"
   },
   {
    "duration": 32,
    "start_time": "2024-10-05T17:44:52.906Z"
   },
   {
    "duration": 25,
    "start_time": "2024-10-05T17:50:56.378Z"
   },
   {
    "duration": 6,
    "start_time": "2024-10-05T17:54:34.598Z"
   },
   {
    "duration": 21,
    "start_time": "2024-10-05T17:55:10.716Z"
   },
   {
    "duration": 10,
    "start_time": "2024-10-05T17:56:17.491Z"
   },
   {
    "duration": 13,
    "start_time": "2024-10-05T17:56:26.466Z"
   },
   {
    "duration": 16,
    "start_time": "2024-10-05T17:56:35.798Z"
   },
   {
    "duration": 89,
    "start_time": "2024-10-05T17:56:46.718Z"
   },
   {
    "duration": 16,
    "start_time": "2024-10-05T17:57:11.926Z"
   },
   {
    "duration": 103,
    "start_time": "2024-10-05T18:00:57.745Z"
   },
   {
    "duration": 14,
    "start_time": "2024-10-05T18:01:11.317Z"
   },
   {
    "duration": 4,
    "start_time": "2024-10-05T18:01:13.148Z"
   },
   {
    "duration": 16,
    "start_time": "2024-10-05T18:02:03.476Z"
   },
   {
    "duration": 16,
    "start_time": "2024-10-05T18:03:26.167Z"
   },
   {
    "duration": 7,
    "start_time": "2024-10-05T18:04:49.050Z"
   },
   {
    "duration": 60,
    "start_time": "2024-10-05T18:56:29.400Z"
   },
   {
    "duration": 56,
    "start_time": "2024-10-05T18:57:50.489Z"
   },
   {
    "duration": 26,
    "start_time": "2024-10-05T18:57:51.717Z"
   },
   {
    "duration": 15,
    "start_time": "2024-10-05T18:57:54.669Z"
   },
   {
    "duration": 14,
    "start_time": "2024-10-05T18:57:56.278Z"
   },
   {
    "duration": 41,
    "start_time": "2024-10-05T18:57:57.600Z"
   },
   {
    "duration": 8,
    "start_time": "2024-10-05T18:57:59.848Z"
   },
   {
    "duration": 16,
    "start_time": "2024-10-05T18:58:01.065Z"
   },
   {
    "duration": 11,
    "start_time": "2024-10-05T18:58:03.002Z"
   },
   {
    "duration": 12,
    "start_time": "2024-10-05T18:58:03.015Z"
   },
   {
    "duration": 34,
    "start_time": "2024-10-05T18:58:05.638Z"
   },
   {
    "duration": 10,
    "start_time": "2024-10-05T18:58:09.361Z"
   },
   {
    "duration": 5,
    "start_time": "2024-10-05T18:58:09.810Z"
   },
   {
    "duration": 18,
    "start_time": "2024-10-05T18:58:11.611Z"
   },
   {
    "duration": 16,
    "start_time": "2024-10-05T18:59:53.465Z"
   },
   {
    "duration": 1256,
    "start_time": "2024-10-05T19:08:44.463Z"
   },
   {
    "duration": 58,
    "start_time": "2024-10-05T19:08:47.616Z"
   },
   {
    "duration": 30,
    "start_time": "2024-10-05T19:08:48.826Z"
   },
   {
    "duration": 17,
    "start_time": "2024-10-05T19:08:50.169Z"
   },
   {
    "duration": 22,
    "start_time": "2024-10-05T19:08:50.257Z"
   },
   {
    "duration": 34,
    "start_time": "2024-10-05T19:08:50.322Z"
   },
   {
    "duration": 12,
    "start_time": "2024-10-05T19:08:50.359Z"
   },
   {
    "duration": 15,
    "start_time": "2024-10-05T19:08:50.457Z"
   },
   {
    "duration": 10,
    "start_time": "2024-10-05T19:08:50.561Z"
   },
   {
    "duration": 6,
    "start_time": "2024-10-05T19:08:50.584Z"
   },
   {
    "duration": 27,
    "start_time": "2024-10-05T19:08:50.721Z"
   },
   {
    "duration": 14,
    "start_time": "2024-10-05T19:08:50.827Z"
   },
   {
    "duration": 7,
    "start_time": "2024-10-05T19:08:50.854Z"
   },
   {
    "duration": 26,
    "start_time": "2024-10-05T19:08:50.976Z"
   },
   {
    "duration": 141,
    "start_time": "2024-10-05T19:08:51.265Z"
   },
   {
    "duration": 13,
    "start_time": "2024-10-05T19:09:18.481Z"
   },
   {
    "duration": 16,
    "start_time": "2024-10-05T19:10:20.386Z"
   },
   {
    "duration": 24,
    "start_time": "2024-10-05T19:10:24.811Z"
   },
   {
    "duration": 18,
    "start_time": "2024-10-05T19:10:38.746Z"
   },
   {
    "duration": 132,
    "start_time": "2024-10-05T19:10:51.347Z"
   },
   {
    "duration": 19,
    "start_time": "2024-10-05T19:12:08.845Z"
   },
   {
    "duration": 341,
    "start_time": "2024-10-05T19:15:01.369Z"
   },
   {
    "duration": 364,
    "start_time": "2024-10-05T19:15:22.385Z"
   },
   {
    "duration": 376,
    "start_time": "2024-10-05T19:16:42.917Z"
   },
   {
    "duration": 538,
    "start_time": "2024-10-05T19:16:51.906Z"
   },
   {
    "duration": 6,
    "start_time": "2024-10-05T19:28:29.586Z"
   },
   {
    "duration": 12,
    "start_time": "2024-10-05T19:30:32.401Z"
   },
   {
    "duration": 16,
    "start_time": "2024-10-05T19:30:55.400Z"
   },
   {
    "duration": 1192,
    "start_time": "2024-10-05T19:31:24.383Z"
   },
   {
    "duration": 55,
    "start_time": "2024-10-05T19:31:25.577Z"
   },
   {
    "duration": 29,
    "start_time": "2024-10-05T19:31:28.002Z"
   },
   {
    "duration": 26,
    "start_time": "2024-10-05T19:31:32.977Z"
   },
   {
    "duration": 14,
    "start_time": "2024-10-05T19:31:35.416Z"
   },
   {
    "duration": 33,
    "start_time": "2024-10-05T19:31:40.531Z"
   },
   {
    "duration": 8,
    "start_time": "2024-10-05T19:31:42.601Z"
   },
   {
    "duration": 15,
    "start_time": "2024-10-05T19:31:45.211Z"
   },
   {
    "duration": 14,
    "start_time": "2024-10-05T19:31:47.569Z"
   },
   {
    "duration": 6,
    "start_time": "2024-10-05T19:31:49.041Z"
   },
   {
    "duration": 26,
    "start_time": "2024-10-05T19:31:51.823Z"
   },
   {
    "duration": 10,
    "start_time": "2024-10-05T19:31:54.882Z"
   },
   {
    "duration": 5,
    "start_time": "2024-10-05T19:31:55.226Z"
   },
   {
    "duration": 17,
    "start_time": "2024-10-05T19:32:18.729Z"
   },
   {
    "duration": 382,
    "start_time": "2024-10-05T19:32:30.263Z"
   },
   {
    "duration": 523,
    "start_time": "2024-10-05T19:32:37.243Z"
   },
   {
    "duration": 106,
    "start_time": "2024-10-05T19:32:54.736Z"
   },
   {
    "duration": 24,
    "start_time": "2024-10-05T19:33:17.898Z"
   },
   {
    "duration": 20,
    "start_time": "2024-10-05T19:33:31.707Z"
   },
   {
    "duration": 13,
    "start_time": "2024-10-05T19:34:04.337Z"
   },
   {
    "duration": 24,
    "start_time": "2024-10-05T19:34:12.089Z"
   },
   {
    "duration": 24,
    "start_time": "2024-10-05T19:35:01.768Z"
   },
   {
    "duration": 22,
    "start_time": "2024-10-05T19:35:20.524Z"
   },
   {
    "duration": 9,
    "start_time": "2024-10-05T19:38:24.794Z"
   },
   {
    "duration": 50,
    "start_time": "2024-10-05T19:39:28.989Z"
   },
   {
    "duration": 33,
    "start_time": "2024-10-05T19:43:18.063Z"
   },
   {
    "duration": 30,
    "start_time": "2024-10-05T19:44:56.285Z"
   },
   {
    "duration": 30,
    "start_time": "2024-10-05T19:45:06.008Z"
   },
   {
    "duration": 30,
    "start_time": "2024-10-05T19:45:12.940Z"
   },
   {
    "duration": 38,
    "start_time": "2024-10-05T19:47:01.538Z"
   },
   {
    "duration": 795,
    "start_time": "2024-10-05T19:48:59.737Z"
   },
   {
    "duration": 32,
    "start_time": "2024-10-05T19:58:03.916Z"
   },
   {
    "duration": 33,
    "start_time": "2024-10-05T19:58:12.478Z"
   },
   {
    "duration": 30,
    "start_time": "2024-10-05T19:58:16.987Z"
   },
   {
    "duration": 35,
    "start_time": "2024-10-05T19:59:12.559Z"
   },
   {
    "duration": 24,
    "start_time": "2024-10-05T19:59:22.145Z"
   },
   {
    "duration": 38,
    "start_time": "2024-10-05T19:59:54.168Z"
   },
   {
    "duration": 25,
    "start_time": "2024-10-05T20:00:08.898Z"
   },
   {
    "duration": 26,
    "start_time": "2024-10-05T20:01:53.017Z"
   },
   {
    "duration": 31,
    "start_time": "2024-10-05T20:01:59.106Z"
   },
   {
    "duration": 834,
    "start_time": "2024-10-05T20:03:30.488Z"
   },
   {
    "duration": 794,
    "start_time": "2024-10-05T20:04:15.819Z"
   },
   {
    "duration": 864,
    "start_time": "2024-10-05T20:34:30.077Z"
   },
   {
    "duration": 6,
    "start_time": "2024-10-05T20:35:26.986Z"
   },
   {
    "duration": 211,
    "start_time": "2024-10-05T20:46:16.746Z"
   },
   {
    "duration": 13,
    "start_time": "2024-10-05T20:46:53.316Z"
   },
   {
    "duration": 0,
    "start_time": "2024-10-05T20:53:54.614Z"
   },
   {
    "duration": 0,
    "start_time": "2024-10-05T20:53:54.616Z"
   },
   {
    "duration": 0,
    "start_time": "2024-10-05T20:53:54.617Z"
   },
   {
    "duration": 0,
    "start_time": "2024-10-05T20:53:54.619Z"
   },
   {
    "duration": 0,
    "start_time": "2024-10-05T20:53:54.620Z"
   },
   {
    "duration": 0,
    "start_time": "2024-10-05T20:53:54.622Z"
   },
   {
    "duration": 0,
    "start_time": "2024-10-05T20:53:54.623Z"
   },
   {
    "duration": 0,
    "start_time": "2024-10-05T20:53:54.625Z"
   },
   {
    "duration": 0,
    "start_time": "2024-10-05T20:53:54.626Z"
   },
   {
    "duration": 1,
    "start_time": "2024-10-05T20:53:54.627Z"
   },
   {
    "duration": 0,
    "start_time": "2024-10-05T20:53:54.628Z"
   },
   {
    "duration": 0,
    "start_time": "2024-10-05T20:53:54.630Z"
   },
   {
    "duration": 0,
    "start_time": "2024-10-05T20:53:54.631Z"
   },
   {
    "duration": 0,
    "start_time": "2024-10-05T20:53:54.632Z"
   },
   {
    "duration": 0,
    "start_time": "2024-10-05T20:53:54.633Z"
   },
   {
    "duration": 0,
    "start_time": "2024-10-05T20:53:54.634Z"
   },
   {
    "duration": 0,
    "start_time": "2024-10-05T20:53:54.635Z"
   },
   {
    "duration": 0,
    "start_time": "2024-10-05T20:53:54.655Z"
   },
   {
    "duration": 0,
    "start_time": "2024-10-05T20:53:54.656Z"
   },
   {
    "duration": 3,
    "start_time": "2024-10-05T20:54:07.515Z"
   },
   {
    "duration": 55,
    "start_time": "2024-10-05T20:54:08.093Z"
   },
   {
    "duration": 27,
    "start_time": "2024-10-05T20:54:08.955Z"
   },
   {
    "duration": 16,
    "start_time": "2024-10-05T20:54:09.166Z"
   },
   {
    "duration": 15,
    "start_time": "2024-10-05T20:54:09.254Z"
   },
   {
    "duration": 29,
    "start_time": "2024-10-05T20:54:09.326Z"
   },
   {
    "duration": 6,
    "start_time": "2024-10-05T20:54:09.356Z"
   },
   {
    "duration": 15,
    "start_time": "2024-10-05T20:54:09.465Z"
   },
   {
    "duration": 9,
    "start_time": "2024-10-05T20:54:09.548Z"
   },
   {
    "duration": 6,
    "start_time": "2024-10-05T20:54:09.577Z"
   },
   {
    "duration": 25,
    "start_time": "2024-10-05T20:54:09.725Z"
   },
   {
    "duration": 10,
    "start_time": "2024-10-05T20:54:09.814Z"
   },
   {
    "duration": 4,
    "start_time": "2024-10-05T20:54:09.853Z"
   },
   {
    "duration": 25,
    "start_time": "2024-10-05T20:54:10.605Z"
   },
   {
    "duration": 496,
    "start_time": "2024-10-05T20:54:11.993Z"
   },
   {
    "duration": 17,
    "start_time": "2024-10-05T20:54:12.491Z"
   },
   {
    "duration": 770,
    "start_time": "2024-10-05T20:54:12.757Z"
   },
   {
    "duration": 794,
    "start_time": "2024-10-05T20:54:13.593Z"
   },
   {
    "duration": 337,
    "start_time": "2024-10-05T20:54:14.389Z"
   },
   {
    "duration": 1424,
    "start_time": "2024-10-07T09:40:38.948Z"
   },
   {
    "duration": 197,
    "start_time": "2024-10-07T09:40:40.374Z"
   },
   {
    "duration": 30,
    "start_time": "2024-10-07T09:40:40.573Z"
   },
   {
    "duration": 16,
    "start_time": "2024-10-07T09:40:40.606Z"
   },
   {
    "duration": 24,
    "start_time": "2024-10-07T09:40:40.623Z"
   },
   {
    "duration": 34,
    "start_time": "2024-10-07T09:40:40.648Z"
   },
   {
    "duration": 7,
    "start_time": "2024-10-07T09:40:40.684Z"
   },
   {
    "duration": 14,
    "start_time": "2024-10-07T09:40:40.713Z"
   },
   {
    "duration": 11,
    "start_time": "2024-10-07T09:40:40.806Z"
   },
   {
    "duration": 6,
    "start_time": "2024-10-07T09:40:40.853Z"
   },
   {
    "duration": 25,
    "start_time": "2024-10-07T09:40:40.975Z"
   },
   {
    "duration": 10,
    "start_time": "2024-10-07T09:40:41.084Z"
   },
   {
    "duration": 4,
    "start_time": "2024-10-07T09:40:41.115Z"
   },
   {
    "duration": 16,
    "start_time": "2024-10-07T09:40:41.239Z"
   },
   {
    "duration": 348,
    "start_time": "2024-10-07T09:40:41.502Z"
   },
   {
    "duration": 16,
    "start_time": "2024-10-07T09:40:41.890Z"
   },
   {
    "duration": 853,
    "start_time": "2024-10-07T09:40:42.656Z"
   },
   {
    "duration": 775,
    "start_time": "2024-10-07T09:40:45.208Z"
   },
   {
    "duration": 377,
    "start_time": "2024-10-07T09:40:48.841Z"
   },
   {
    "duration": 5,
    "start_time": "2024-10-07T09:45:21.614Z"
   },
   {
    "duration": 1452,
    "start_time": "2024-10-07T09:45:43.718Z"
   },
   {
    "duration": 28,
    "start_time": "2024-10-07T09:46:06.471Z"
   },
   {
    "duration": 6,
    "start_time": "2024-10-07T09:46:09.116Z"
   },
   {
    "duration": 14,
    "start_time": "2024-10-07T09:46:10.587Z"
   },
   {
    "duration": 5,
    "start_time": "2024-10-07T09:46:13.084Z"
   },
   {
    "duration": 5,
    "start_time": "2024-10-07T09:46:14.875Z"
   },
   {
    "duration": 25,
    "start_time": "2024-10-07T09:46:16.747Z"
   },
   {
    "duration": 10,
    "start_time": "2024-10-07T09:46:19.843Z"
   },
   {
    "duration": 4,
    "start_time": "2024-10-07T09:46:20.483Z"
   },
   {
    "duration": 16,
    "start_time": "2024-10-07T09:46:22.803Z"
   },
   {
    "duration": 6,
    "start_time": "2024-10-07T09:46:43.355Z"
   },
   {
    "duration": 187,
    "start_time": "2024-10-07T09:46:44.387Z"
   },
   {
    "duration": 293,
    "start_time": "2024-10-07T09:47:23.642Z"
   },
   {
    "duration": 6,
    "start_time": "2024-10-07T09:47:42.332Z"
   },
   {
    "duration": 4,
    "start_time": "2024-10-07T09:49:40.658Z"
   },
   {
    "duration": 4,
    "start_time": "2024-10-07T09:50:17.897Z"
   },
   {
    "duration": 7,
    "start_time": "2024-10-07T09:55:55.926Z"
   },
   {
    "duration": 186,
    "start_time": "2024-10-07T09:55:56.525Z"
   },
   {
    "duration": 5,
    "start_time": "2024-10-07T09:55:57.734Z"
   },
   {
    "duration": 354,
    "start_time": "2024-10-07T09:55:59.903Z"
   },
   {
    "duration": 4,
    "start_time": "2024-10-07T09:56:03.445Z"
   },
   {
    "duration": 10,
    "start_time": "2024-10-07T09:56:21.949Z"
   },
   {
    "duration": 5,
    "start_time": "2024-10-07T09:56:37.902Z"
   },
   {
    "duration": 200,
    "start_time": "2024-10-07T09:56:59.381Z"
   },
   {
    "duration": 4,
    "start_time": "2024-10-07T09:57:30.221Z"
   },
   {
    "duration": 331,
    "start_time": "2024-10-07T09:57:38.405Z"
   },
   {
    "duration": 4,
    "start_time": "2024-10-07T09:57:57.781Z"
   },
   {
    "duration": 320,
    "start_time": "2024-10-07T09:58:03.405Z"
   },
   {
    "duration": 5,
    "start_time": "2024-10-07T09:59:25.796Z"
   },
   {
    "duration": 5,
    "start_time": "2024-10-07T10:01:41.963Z"
   },
   {
    "duration": 898,
    "start_time": "2024-10-07T10:01:45.371Z"
   },
   {
    "duration": 4,
    "start_time": "2024-10-07T10:01:55.939Z"
   },
   {
    "duration": 207,
    "start_time": "2024-10-07T10:03:39.945Z"
   },
   {
    "duration": 336,
    "start_time": "2024-10-07T10:03:52.313Z"
   },
   {
    "duration": 302,
    "start_time": "2024-10-07T10:04:07.234Z"
   },
   {
    "duration": 402,
    "start_time": "2024-10-07T10:04:26.265Z"
   },
   {
    "duration": 5,
    "start_time": "2024-10-07T10:05:17.592Z"
   },
   {
    "duration": 5,
    "start_time": "2024-10-07T10:06:42.721Z"
   },
   {
    "duration": 173,
    "start_time": "2024-10-07T10:06:51.975Z"
   },
   {
    "duration": 188,
    "start_time": "2024-10-07T10:07:06.856Z"
   },
   {
    "duration": 4,
    "start_time": "2024-10-07T10:07:08.519Z"
   },
   {
    "duration": 364,
    "start_time": "2024-10-07T10:07:44.976Z"
   },
   {
    "duration": 5,
    "start_time": "2024-10-07T10:07:47.999Z"
   },
   {
    "duration": 5,
    "start_time": "2024-10-07T10:08:10.711Z"
   },
   {
    "duration": 196,
    "start_time": "2024-10-07T10:08:35.767Z"
   },
   {
    "duration": 5,
    "start_time": "2024-10-07T10:08:36.774Z"
   },
   {
    "duration": 4,
    "start_time": "2024-10-07T10:09:04.007Z"
   },
   {
    "duration": 364,
    "start_time": "2024-10-07T10:09:04.694Z"
   },
   {
    "duration": 5,
    "start_time": "2024-10-07T10:09:07.414Z"
   },
   {
    "duration": 7,
    "start_time": "2024-10-07T10:25:20.654Z"
   },
   {
    "duration": 393,
    "start_time": "2024-10-07T10:25:31.652Z"
   },
   {
    "duration": 5,
    "start_time": "2024-10-07T10:26:09.046Z"
   },
   {
    "duration": 17,
    "start_time": "2024-10-07T12:10:47.543Z"
   },
   {
    "duration": 28,
    "start_time": "2024-10-07T12:11:31.384Z"
   },
   {
    "duration": 28,
    "start_time": "2024-10-07T12:12:04.960Z"
   },
   {
    "duration": 28,
    "start_time": "2024-10-07T12:12:19.252Z"
   },
   {
    "duration": 1199,
    "start_time": "2024-10-07T12:12:43.803Z"
   },
   {
    "duration": 1093,
    "start_time": "2024-10-07T12:13:09.524Z"
   },
   {
    "duration": 1164,
    "start_time": "2024-10-07T12:13:42.432Z"
   },
   {
    "duration": 1157,
    "start_time": "2024-10-07T12:13:55.323Z"
   },
   {
    "duration": 984,
    "start_time": "2024-10-07T12:47:43.417Z"
   },
   {
    "duration": 983,
    "start_time": "2024-10-07T12:48:29.224Z"
   },
   {
    "duration": 8,
    "start_time": "2024-10-07T12:49:36.695Z"
   },
   {
    "duration": 5,
    "start_time": "2024-10-07T12:49:52.271Z"
   },
   {
    "duration": 7,
    "start_time": "2024-10-07T12:49:52.982Z"
   },
   {
    "duration": 6,
    "start_time": "2024-10-07T12:49:53.767Z"
   },
   {
    "duration": 13,
    "start_time": "2024-10-07T12:51:20.478Z"
   },
   {
    "duration": 6,
    "start_time": "2024-10-07T12:51:34.191Z"
   },
   {
    "duration": 6,
    "start_time": "2024-10-07T12:51:59.557Z"
   },
   {
    "duration": 14,
    "start_time": "2024-10-07T12:54:30.860Z"
   },
   {
    "duration": 25,
    "start_time": "2024-10-07T12:55:06.324Z"
   },
   {
    "duration": 761,
    "start_time": "2024-10-07T12:55:26.220Z"
   },
   {
    "duration": 880,
    "start_time": "2024-10-07T12:55:43.692Z"
   },
   {
    "duration": 14,
    "start_time": "2024-10-07T13:09:02.471Z"
   },
   {
    "duration": 598,
    "start_time": "2024-10-07T13:09:15.773Z"
   },
   {
    "duration": 456,
    "start_time": "2024-10-07T13:32:40.880Z"
   },
   {
    "duration": 441,
    "start_time": "2024-10-07T13:33:07.361Z"
   },
   {
    "duration": 445,
    "start_time": "2024-10-07T13:33:15.983Z"
   },
   {
    "duration": 586,
    "start_time": "2024-10-07T13:33:20.968Z"
   },
   {
    "duration": 459,
    "start_time": "2024-10-07T13:33:25.807Z"
   },
   {
    "duration": 28,
    "start_time": "2024-10-07T13:51:39.982Z"
   },
   {
    "duration": 10,
    "start_time": "2024-10-07T13:51:49.829Z"
   },
   {
    "duration": 1064,
    "start_time": "2024-10-07T13:55:18.466Z"
   },
   {
    "duration": 10,
    "start_time": "2024-10-07T13:55:49.236Z"
   },
   {
    "duration": 31,
    "start_time": "2024-10-07T14:29:27.434Z"
   },
   {
    "duration": 1195,
    "start_time": "2024-10-07T14:29:28.530Z"
   },
   {
    "duration": 768,
    "start_time": "2024-10-07T14:29:39.840Z"
   },
   {
    "duration": 13,
    "start_time": "2024-10-07T14:29:49.423Z"
   },
   {
    "duration": 731,
    "start_time": "2024-10-07T14:29:50.032Z"
   },
   {
    "duration": 779,
    "start_time": "2024-10-07T14:29:53.576Z"
   },
   {
    "duration": 25,
    "start_time": "2024-10-07T14:29:55.397Z"
   },
   {
    "duration": 760,
    "start_time": "2024-10-07T14:29:56.183Z"
   },
   {
    "duration": 233,
    "start_time": "2024-10-07T14:45:16.729Z"
   },
   {
    "duration": 379,
    "start_time": "2024-10-07T14:45:22.968Z"
   },
   {
    "duration": 206,
    "start_time": "2024-10-07T14:45:27.758Z"
   },
   {
    "duration": 427,
    "start_time": "2024-10-07T14:45:30.774Z"
   },
   {
    "duration": 305,
    "start_time": "2024-10-07T14:45:35.766Z"
   },
   {
    "duration": 401,
    "start_time": "2024-10-07T14:45:39.093Z"
   },
   {
    "duration": 209,
    "start_time": "2024-10-07T14:45:44.013Z"
   },
   {
    "duration": 377,
    "start_time": "2024-10-07T14:45:47.014Z"
   },
   {
    "duration": 213,
    "start_time": "2024-10-07T14:45:52.214Z"
   },
   {
    "duration": 366,
    "start_time": "2024-10-07T14:45:55.414Z"
   },
   {
    "duration": 1176,
    "start_time": "2024-10-07T17:18:43.488Z"
   },
   {
    "duration": 185,
    "start_time": "2024-10-07T17:18:44.666Z"
   },
   {
    "duration": 29,
    "start_time": "2024-10-07T17:18:44.852Z"
   },
   {
    "duration": 15,
    "start_time": "2024-10-07T17:18:44.883Z"
   },
   {
    "duration": 17,
    "start_time": "2024-10-07T17:18:44.900Z"
   },
   {
    "duration": 46,
    "start_time": "2024-10-07T17:18:44.919Z"
   },
   {
    "duration": 8,
    "start_time": "2024-10-07T17:18:44.967Z"
   },
   {
    "duration": 13,
    "start_time": "2024-10-07T17:18:44.976Z"
   },
   {
    "duration": 8,
    "start_time": "2024-10-07T17:18:44.991Z"
   },
   {
    "duration": 29,
    "start_time": "2024-10-07T17:18:45.001Z"
   },
   {
    "duration": 80,
    "start_time": "2024-10-07T17:18:45.032Z"
   },
   {
    "duration": 19,
    "start_time": "2024-10-07T17:18:45.114Z"
   },
   {
    "duration": 14,
    "start_time": "2024-10-07T17:18:45.134Z"
   },
   {
    "duration": 51,
    "start_time": "2024-10-07T17:18:45.150Z"
   },
   {
    "duration": 411,
    "start_time": "2024-10-07T17:18:45.203Z"
   },
   {
    "duration": 17,
    "start_time": "2024-10-07T17:18:45.616Z"
   },
   {
    "duration": 776,
    "start_time": "2024-10-07T17:18:45.635Z"
   },
   {
    "duration": 749,
    "start_time": "2024-10-07T17:18:46.413Z"
   },
   {
    "duration": 407,
    "start_time": "2024-10-07T17:18:47.163Z"
   },
   {
    "duration": 6,
    "start_time": "2024-10-07T17:18:47.572Z"
   },
   {
    "duration": 194,
    "start_time": "2024-10-07T17:18:47.580Z"
   },
   {
    "duration": 5,
    "start_time": "2024-10-07T17:18:47.776Z"
   },
   {
    "duration": 249,
    "start_time": "2024-10-07T17:18:47.783Z"
   },
   {
    "duration": 4,
    "start_time": "2024-10-07T17:18:48.034Z"
   },
   {
    "duration": 6,
    "start_time": "2024-10-07T17:18:48.039Z"
   },
   {
    "duration": 187,
    "start_time": "2024-10-07T17:18:48.046Z"
   },
   {
    "duration": 4,
    "start_time": "2024-10-07T17:18:48.235Z"
   },
   {
    "duration": 266,
    "start_time": "2024-10-07T17:18:48.242Z"
   },
   {
    "duration": 5,
    "start_time": "2024-10-07T17:18:48.510Z"
   },
   {
    "duration": 8,
    "start_time": "2024-10-07T17:18:48.516Z"
   },
   {
    "duration": 173,
    "start_time": "2024-10-07T17:18:48.526Z"
   },
   {
    "duration": 4,
    "start_time": "2024-10-07T17:18:48.701Z"
   },
   {
    "duration": 281,
    "start_time": "2024-10-07T17:18:48.707Z"
   },
   {
    "duration": 4,
    "start_time": "2024-10-07T17:18:48.990Z"
   },
   {
    "duration": 6,
    "start_time": "2024-10-07T17:18:48.996Z"
   },
   {
    "duration": 200,
    "start_time": "2024-10-07T17:18:49.003Z"
   },
   {
    "duration": 5,
    "start_time": "2024-10-07T17:18:49.205Z"
   },
   {
    "duration": 283,
    "start_time": "2024-10-07T17:18:49.212Z"
   },
   {
    "duration": 5,
    "start_time": "2024-10-07T17:18:49.496Z"
   },
   {
    "duration": 10,
    "start_time": "2024-10-07T17:18:49.503Z"
   },
   {
    "duration": 193,
    "start_time": "2024-10-07T17:18:49.515Z"
   },
   {
    "duration": 6,
    "start_time": "2024-10-07T17:18:49.709Z"
   },
   {
    "duration": 296,
    "start_time": "2024-10-07T17:18:49.717Z"
   },
   {
    "duration": 5,
    "start_time": "2024-10-07T17:18:50.015Z"
   },
   {
    "duration": 12,
    "start_time": "2024-10-07T17:18:50.021Z"
   },
   {
    "duration": 445,
    "start_time": "2024-10-07T17:18:50.034Z"
   },
   {
    "duration": 25,
    "start_time": "2024-10-07T17:18:50.481Z"
   },
   {
    "duration": 1093,
    "start_time": "2024-10-07T17:18:50.508Z"
   },
   {
    "duration": 26,
    "start_time": "2024-10-07T17:18:51.602Z"
   },
   {
    "duration": 683,
    "start_time": "2024-10-07T17:18:51.629Z"
   },
   {
    "duration": 12,
    "start_time": "2024-10-07T17:18:52.313Z"
   },
   {
    "duration": 623,
    "start_time": "2024-10-07T17:18:52.327Z"
   },
   {
    "duration": 13,
    "start_time": "2024-10-07T17:18:52.952Z"
   },
   {
    "duration": 12,
    "start_time": "2024-10-07T17:18:52.967Z"
   },
   {
    "duration": 12,
    "start_time": "2024-10-07T17:21:07.261Z"
   },
   {
    "duration": 10,
    "start_time": "2024-10-07T17:25:12.241Z"
   },
   {
    "duration": 4,
    "start_time": "2024-10-07T17:25:18.035Z"
   },
   {
    "duration": 1149,
    "start_time": "2024-10-07T17:26:24.984Z"
   },
   {
    "duration": 56,
    "start_time": "2024-10-07T17:26:26.135Z"
   },
   {
    "duration": 30,
    "start_time": "2024-10-07T17:26:26.193Z"
   },
   {
    "duration": 17,
    "start_time": "2024-10-07T17:26:26.225Z"
   },
   {
    "duration": 31,
    "start_time": "2024-10-07T17:26:26.244Z"
   },
   {
    "duration": 30,
    "start_time": "2024-10-07T17:26:26.276Z"
   },
   {
    "duration": 8,
    "start_time": "2024-10-07T17:26:26.307Z"
   },
   {
    "duration": 16,
    "start_time": "2024-10-07T17:26:26.316Z"
   },
   {
    "duration": 40,
    "start_time": "2024-10-07T17:26:26.333Z"
   },
   {
    "duration": 11,
    "start_time": "2024-10-07T17:26:26.375Z"
   },
   {
    "duration": 31,
    "start_time": "2024-10-07T17:26:26.388Z"
   },
   {
    "duration": 9,
    "start_time": "2024-10-07T17:26:26.421Z"
   },
   {
    "duration": 4,
    "start_time": "2024-10-07T17:26:26.432Z"
   },
   {
    "duration": 41,
    "start_time": "2024-10-07T17:26:26.439Z"
   },
   {
    "duration": 454,
    "start_time": "2024-10-07T17:26:26.481Z"
   },
   {
    "duration": 28,
    "start_time": "2024-10-07T17:26:26.938Z"
   },
   {
    "duration": 774,
    "start_time": "2024-10-07T17:26:26.968Z"
   },
   {
    "duration": 720,
    "start_time": "2024-10-07T17:26:27.744Z"
   },
   {
    "duration": 381,
    "start_time": "2024-10-07T17:26:28.466Z"
   },
   {
    "duration": 6,
    "start_time": "2024-10-07T17:26:28.849Z"
   },
   {
    "duration": 202,
    "start_time": "2024-10-07T17:26:28.864Z"
   },
   {
    "duration": 5,
    "start_time": "2024-10-07T17:26:29.067Z"
   },
   {
    "duration": 236,
    "start_time": "2024-10-07T17:26:29.073Z"
   },
   {
    "duration": 5,
    "start_time": "2024-10-07T17:26:29.311Z"
   },
   {
    "duration": 19,
    "start_time": "2024-10-07T17:26:29.317Z"
   },
   {
    "duration": 190,
    "start_time": "2024-10-07T17:26:29.338Z"
   },
   {
    "duration": 5,
    "start_time": "2024-10-07T17:26:29.529Z"
   },
   {
    "duration": 278,
    "start_time": "2024-10-07T17:26:29.535Z"
   },
   {
    "duration": 6,
    "start_time": "2024-10-07T17:26:29.814Z"
   },
   {
    "duration": 6,
    "start_time": "2024-10-07T17:26:29.822Z"
   },
   {
    "duration": 198,
    "start_time": "2024-10-07T17:26:29.831Z"
   },
   {
    "duration": 5,
    "start_time": "2024-10-07T17:26:30.031Z"
   },
   {
    "duration": 278,
    "start_time": "2024-10-07T17:26:30.037Z"
   },
   {
    "duration": 5,
    "start_time": "2024-10-07T17:26:30.317Z"
   },
   {
    "duration": 37,
    "start_time": "2024-10-07T17:26:30.323Z"
   },
   {
    "duration": 213,
    "start_time": "2024-10-07T17:26:30.361Z"
   },
   {
    "duration": 7,
    "start_time": "2024-10-07T17:26:30.576Z"
   },
   {
    "duration": 243,
    "start_time": "2024-10-07T17:26:30.585Z"
   },
   {
    "duration": 4,
    "start_time": "2024-10-07T17:26:30.830Z"
   },
   {
    "duration": 32,
    "start_time": "2024-10-07T17:26:30.836Z"
   },
   {
    "duration": 195,
    "start_time": "2024-10-07T17:26:30.873Z"
   },
   {
    "duration": 5,
    "start_time": "2024-10-07T17:26:31.070Z"
   },
   {
    "duration": 256,
    "start_time": "2024-10-07T17:26:31.077Z"
   },
   {
    "duration": 4,
    "start_time": "2024-10-07T17:26:31.335Z"
   },
   {
    "duration": 7,
    "start_time": "2024-10-07T17:26:31.366Z"
   },
   {
    "duration": 527,
    "start_time": "2024-10-07T17:26:31.374Z"
   },
   {
    "duration": 29,
    "start_time": "2024-10-07T17:26:31.903Z"
   },
   {
    "duration": 1125,
    "start_time": "2024-10-07T17:26:31.934Z"
   },
   {
    "duration": 29,
    "start_time": "2024-10-07T17:26:33.060Z"
   },
   {
    "duration": 685,
    "start_time": "2024-10-07T17:26:33.091Z"
   },
   {
    "duration": 14,
    "start_time": "2024-10-07T17:26:33.778Z"
   },
   {
    "duration": 665,
    "start_time": "2024-10-07T17:26:33.793Z"
   },
   {
    "duration": 13,
    "start_time": "2024-10-07T17:26:34.460Z"
   },
   {
    "duration": 11,
    "start_time": "2024-10-07T17:26:34.476Z"
   },
   {
    "duration": 47,
    "start_time": "2024-10-07T17:38:31.703Z"
   },
   {
    "duration": 1380,
    "start_time": "2024-10-07T17:38:37.420Z"
   },
   {
    "duration": 171,
    "start_time": "2024-10-07T17:38:38.802Z"
   },
   {
    "duration": 29,
    "start_time": "2024-10-07T17:38:38.974Z"
   },
   {
    "duration": 17,
    "start_time": "2024-10-07T17:38:39.005Z"
   },
   {
    "duration": 18,
    "start_time": "2024-10-07T17:38:39.023Z"
   },
   {
    "duration": 29,
    "start_time": "2024-10-07T17:38:39.043Z"
   },
   {
    "duration": 6,
    "start_time": "2024-10-07T17:38:39.074Z"
   },
   {
    "duration": 15,
    "start_time": "2024-10-07T17:38:39.082Z"
   },
   {
    "duration": 11,
    "start_time": "2024-10-07T17:38:39.098Z"
   },
   {
    "duration": 37,
    "start_time": "2024-10-07T17:38:39.142Z"
   },
   {
    "duration": 26,
    "start_time": "2024-10-07T17:38:39.184Z"
   },
   {
    "duration": 10,
    "start_time": "2024-10-07T17:38:39.282Z"
   },
   {
    "duration": 4,
    "start_time": "2024-10-07T17:38:39.318Z"
   },
   {
    "duration": 17,
    "start_time": "2024-10-07T17:38:39.487Z"
   },
   {
    "duration": 452,
    "start_time": "2024-10-07T17:38:39.783Z"
   },
   {
    "duration": 20,
    "start_time": "2024-10-07T17:38:40.236Z"
   },
   {
    "duration": 460,
    "start_time": "2024-10-07T17:38:40.258Z"
   },
   {
    "duration": 406,
    "start_time": "2024-10-07T17:38:40.720Z"
   },
   {
    "duration": 15,
    "start_time": "2024-10-07T17:38:56.881Z"
   },
   {
    "duration": 399,
    "start_time": "2024-10-07T17:38:59.426Z"
   },
   {
    "duration": 376,
    "start_time": "2024-10-07T17:46:37.106Z"
   },
   {
    "duration": 775,
    "start_time": "2024-10-07T17:51:31.379Z"
   },
   {
    "duration": 71,
    "start_time": "2024-10-07T17:52:11.036Z"
   },
   {
    "duration": 44,
    "start_time": "2024-10-07T17:52:21.191Z"
   },
   {
    "duration": 654,
    "start_time": "2024-10-07T17:54:35.218Z"
   },
   {
    "duration": 695,
    "start_time": "2024-10-07T17:55:58.104Z"
   },
   {
    "duration": 82,
    "start_time": "2024-10-07T18:00:20.637Z"
   },
   {
    "duration": 440,
    "start_time": "2024-10-07T18:01:39.068Z"
   },
   {
    "duration": 667,
    "start_time": "2024-10-07T18:01:54.637Z"
   },
   {
    "duration": 7,
    "start_time": "2024-10-07T18:23:41.541Z"
   },
   {
    "duration": 4,
    "start_time": "2024-10-07T18:24:10.323Z"
   },
   {
    "duration": 256,
    "start_time": "2024-10-07T18:24:11.841Z"
   },
   {
    "duration": 4,
    "start_time": "2024-10-07T18:24:28.481Z"
   },
   {
    "duration": 194,
    "start_time": "2024-10-07T18:24:29.752Z"
   },
   {
    "duration": 4,
    "start_time": "2024-10-07T18:25:09.408Z"
   },
   {
    "duration": 172,
    "start_time": "2024-10-07T18:25:45.840Z"
   },
   {
    "duration": 168,
    "start_time": "2024-10-07T18:25:53.920Z"
   },
   {
    "duration": 16,
    "start_time": "2024-10-07T18:26:52.335Z"
   },
   {
    "duration": 395,
    "start_time": "2024-10-07T18:26:55.176Z"
   },
   {
    "duration": 372,
    "start_time": "2024-10-07T18:26:56.855Z"
   },
   {
    "duration": 678,
    "start_time": "2024-10-07T18:26:59.303Z"
   },
   {
    "duration": 4,
    "start_time": "2024-10-07T18:27:05.287Z"
   },
   {
    "duration": 4,
    "start_time": "2024-10-07T18:27:10.224Z"
   },
   {
    "duration": 4,
    "start_time": "2024-10-07T18:27:14.790Z"
   },
   {
    "duration": 172,
    "start_time": "2024-10-07T18:27:18.599Z"
   },
   {
    "duration": 428,
    "start_time": "2024-10-07T18:28:54.022Z"
   },
   {
    "duration": 360,
    "start_time": "2024-10-07T18:29:56.366Z"
   },
   {
    "duration": 312,
    "start_time": "2024-10-07T18:30:51.182Z"
   },
   {
    "duration": 357,
    "start_time": "2024-10-07T18:31:30.702Z"
   },
   {
    "duration": 367,
    "start_time": "2024-10-07T18:31:52.544Z"
   },
   {
    "duration": 353,
    "start_time": "2024-10-07T18:32:10.869Z"
   },
   {
    "duration": 6,
    "start_time": "2024-10-07T18:33:24.876Z"
   },
   {
    "duration": 372,
    "start_time": "2024-10-07T18:33:26.707Z"
   },
   {
    "duration": 455,
    "start_time": "2024-10-07T18:33:27.081Z"
   },
   {
    "duration": 362,
    "start_time": "2024-10-07T18:33:27.543Z"
   },
   {
    "duration": 374,
    "start_time": "2024-10-07T18:33:27.907Z"
   },
   {
    "duration": 383,
    "start_time": "2024-10-07T18:33:28.283Z"
   },
   {
    "duration": 5,
    "start_time": "2024-10-07T18:39:51.203Z"
   },
   {
    "duration": 347,
    "start_time": "2024-10-07T18:39:52.344Z"
   },
   {
    "duration": 331,
    "start_time": "2024-10-07T18:40:20.399Z"
   },
   {
    "duration": 309,
    "start_time": "2024-10-07T18:40:23.119Z"
   },
   {
    "duration": 442,
    "start_time": "2024-10-07T18:40:24.096Z"
   },
   {
    "duration": 367,
    "start_time": "2024-10-07T18:40:25.552Z"
   },
   {
    "duration": 18,
    "start_time": "2024-10-07T18:47:14.805Z"
   },
   {
    "duration": 12,
    "start_time": "2024-10-07T18:47:22.443Z"
   },
   {
    "duration": 11,
    "start_time": "2024-10-07T18:53:49.271Z"
   },
   {
    "duration": 8,
    "start_time": "2024-10-07T18:54:17.496Z"
   },
   {
    "duration": 13,
    "start_time": "2024-10-07T18:54:36.688Z"
   },
   {
    "duration": 11,
    "start_time": "2024-10-07T18:54:54.576Z"
   },
   {
    "duration": 7,
    "start_time": "2024-10-07T18:54:55.265Z"
   },
   {
    "duration": 367,
    "start_time": "2024-10-07T18:54:55.479Z"
   },
   {
    "duration": 344,
    "start_time": "2024-10-07T18:55:12.407Z"
   },
   {
    "duration": 69,
    "start_time": "2024-10-07T19:05:22.490Z"
   },
   {
    "duration": 11,
    "start_time": "2024-10-07T19:07:39.843Z"
   },
   {
    "duration": 18,
    "start_time": "2024-10-07T19:08:02.448Z"
   },
   {
    "duration": 13,
    "start_time": "2024-10-07T19:08:12.225Z"
   },
   {
    "duration": 520,
    "start_time": "2024-10-07T19:09:01.887Z"
   },
   {
    "duration": 10,
    "start_time": "2024-10-07T19:16:56.499Z"
   },
   {
    "duration": 26,
    "start_time": "2024-10-07T19:17:18.219Z"
   },
   {
    "duration": 28,
    "start_time": "2024-10-07T19:17:28.763Z"
   },
   {
    "duration": 26,
    "start_time": "2024-10-07T19:17:31.899Z"
   },
   {
    "duration": 24,
    "start_time": "2024-10-07T19:17:34.491Z"
   },
   {
    "duration": 24,
    "start_time": "2024-10-07T19:17:36.930Z"
   },
   {
    "duration": 495,
    "start_time": "2024-10-07T19:17:55.771Z"
   },
   {
    "duration": 11,
    "start_time": "2024-10-07T19:26:44.613Z"
   },
   {
    "duration": 12,
    "start_time": "2024-10-07T19:27:35.942Z"
   },
   {
    "duration": 624,
    "start_time": "2024-10-07T19:27:36.350Z"
   },
   {
    "duration": 13,
    "start_time": "2024-10-07T19:27:52.405Z"
   },
   {
    "duration": 527,
    "start_time": "2024-10-07T19:27:52.854Z"
   },
   {
    "duration": 497,
    "start_time": "2024-10-07T19:29:42.262Z"
   },
   {
    "duration": 6,
    "start_time": "2024-10-07T19:30:08.595Z"
   },
   {
    "duration": 13,
    "start_time": "2024-10-07T19:30:09.492Z"
   },
   {
    "duration": 613,
    "start_time": "2024-10-07T19:30:10.236Z"
   },
   {
    "duration": 10,
    "start_time": "2024-10-07T19:49:36.410Z"
   },
   {
    "duration": 9,
    "start_time": "2024-10-07T19:49:48.970Z"
   },
   {
    "duration": 9,
    "start_time": "2024-10-07T19:52:20.727Z"
   },
   {
    "duration": 8,
    "start_time": "2024-10-07T19:52:24.984Z"
   },
   {
    "duration": 8,
    "start_time": "2024-10-07T19:54:28.415Z"
   },
   {
    "duration": 1119,
    "start_time": "2024-10-08T06:58:15.551Z"
   },
   {
    "duration": 176,
    "start_time": "2024-10-08T06:58:16.671Z"
   },
   {
    "duration": 29,
    "start_time": "2024-10-08T06:58:16.848Z"
   },
   {
    "duration": 16,
    "start_time": "2024-10-08T06:58:16.879Z"
   },
   {
    "duration": 13,
    "start_time": "2024-10-08T06:58:16.897Z"
   },
   {
    "duration": 86,
    "start_time": "2024-10-08T06:58:16.912Z"
   },
   {
    "duration": 7,
    "start_time": "2024-10-08T06:58:16.999Z"
   },
   {
    "duration": 14,
    "start_time": "2024-10-08T06:58:17.008Z"
   },
   {
    "duration": 9,
    "start_time": "2024-10-08T06:58:17.023Z"
   },
   {
    "duration": 10,
    "start_time": "2024-10-08T06:58:17.035Z"
   },
   {
    "duration": 25,
    "start_time": "2024-10-08T06:58:17.047Z"
   },
   {
    "duration": 10,
    "start_time": "2024-10-08T06:58:17.073Z"
   },
   {
    "duration": 5,
    "start_time": "2024-10-08T06:58:17.085Z"
   },
   {
    "duration": 15,
    "start_time": "2024-10-08T06:58:17.092Z"
   },
   {
    "duration": 446,
    "start_time": "2024-10-08T06:58:17.109Z"
   },
   {
    "duration": 16,
    "start_time": "2024-10-08T06:58:17.556Z"
   },
   {
    "duration": 108,
    "start_time": "2024-10-08T06:58:17.574Z"
   },
   {
    "duration": 0,
    "start_time": "2024-10-08T06:58:17.683Z"
   },
   {
    "duration": 0,
    "start_time": "2024-10-08T06:58:17.685Z"
   },
   {
    "duration": 0,
    "start_time": "2024-10-08T06:58:17.686Z"
   },
   {
    "duration": 0,
    "start_time": "2024-10-08T06:58:17.687Z"
   },
   {
    "duration": 0,
    "start_time": "2024-10-08T06:58:17.688Z"
   },
   {
    "duration": 0,
    "start_time": "2024-10-08T06:58:17.689Z"
   },
   {
    "duration": 0,
    "start_time": "2024-10-08T06:58:17.690Z"
   },
   {
    "duration": 0,
    "start_time": "2024-10-08T06:58:17.691Z"
   },
   {
    "duration": 0,
    "start_time": "2024-10-08T06:58:17.692Z"
   },
   {
    "duration": 0,
    "start_time": "2024-10-08T06:58:17.692Z"
   },
   {
    "duration": 0,
    "start_time": "2024-10-08T06:58:17.693Z"
   },
   {
    "duration": 0,
    "start_time": "2024-10-08T06:58:17.694Z"
   },
   {
    "duration": 0,
    "start_time": "2024-10-08T06:58:17.695Z"
   },
   {
    "duration": 0,
    "start_time": "2024-10-08T06:58:17.696Z"
   },
   {
    "duration": 0,
    "start_time": "2024-10-08T06:58:17.697Z"
   },
   {
    "duration": 0,
    "start_time": "2024-10-08T06:58:17.698Z"
   },
   {
    "duration": 0,
    "start_time": "2024-10-08T06:58:17.699Z"
   },
   {
    "duration": 0,
    "start_time": "2024-10-08T06:58:17.699Z"
   },
   {
    "duration": 0,
    "start_time": "2024-10-08T06:58:17.700Z"
   },
   {
    "duration": 0,
    "start_time": "2024-10-08T06:58:17.702Z"
   },
   {
    "duration": 0,
    "start_time": "2024-10-08T06:58:17.703Z"
   },
   {
    "duration": 0,
    "start_time": "2024-10-08T06:58:17.704Z"
   },
   {
    "duration": 0,
    "start_time": "2024-10-08T06:58:17.705Z"
   },
   {
    "duration": 0,
    "start_time": "2024-10-08T06:58:17.743Z"
   },
   {
    "duration": 1107,
    "start_time": "2024-10-08T06:59:22.264Z"
   },
   {
    "duration": 59,
    "start_time": "2024-10-08T06:59:23.373Z"
   },
   {
    "duration": 29,
    "start_time": "2024-10-08T06:59:23.434Z"
   },
   {
    "duration": 16,
    "start_time": "2024-10-08T06:59:23.466Z"
   },
   {
    "duration": 17,
    "start_time": "2024-10-08T06:59:23.483Z"
   },
   {
    "duration": 42,
    "start_time": "2024-10-08T06:59:23.502Z"
   },
   {
    "duration": 9,
    "start_time": "2024-10-08T06:59:23.545Z"
   },
   {
    "duration": 15,
    "start_time": "2024-10-08T06:59:23.555Z"
   },
   {
    "duration": 11,
    "start_time": "2024-10-08T06:59:23.571Z"
   },
   {
    "duration": 5,
    "start_time": "2024-10-08T06:59:23.584Z"
   },
   {
    "duration": 57,
    "start_time": "2024-10-08T06:59:23.590Z"
   },
   {
    "duration": 44,
    "start_time": "2024-10-08T06:59:23.648Z"
   },
   {
    "duration": 5,
    "start_time": "2024-10-08T06:59:23.694Z"
   },
   {
    "duration": 17,
    "start_time": "2024-10-08T06:59:23.700Z"
   },
   {
    "duration": 396,
    "start_time": "2024-10-08T06:59:23.718Z"
   },
   {
    "duration": 16,
    "start_time": "2024-10-08T06:59:24.116Z"
   },
   {
    "duration": 120,
    "start_time": "2024-10-08T06:59:24.134Z"
   },
   {
    "duration": 0,
    "start_time": "2024-10-08T06:59:24.256Z"
   },
   {
    "duration": 0,
    "start_time": "2024-10-08T06:59:24.258Z"
   },
   {
    "duration": 0,
    "start_time": "2024-10-08T06:59:24.259Z"
   },
   {
    "duration": 0,
    "start_time": "2024-10-08T06:59:24.260Z"
   },
   {
    "duration": 0,
    "start_time": "2024-10-08T06:59:24.261Z"
   },
   {
    "duration": 0,
    "start_time": "2024-10-08T06:59:24.262Z"
   },
   {
    "duration": 0,
    "start_time": "2024-10-08T06:59:24.263Z"
   },
   {
    "duration": 0,
    "start_time": "2024-10-08T06:59:24.265Z"
   },
   {
    "duration": 0,
    "start_time": "2024-10-08T06:59:24.265Z"
   },
   {
    "duration": 0,
    "start_time": "2024-10-08T06:59:24.267Z"
   },
   {
    "duration": 1,
    "start_time": "2024-10-08T06:59:24.267Z"
   },
   {
    "duration": 0,
    "start_time": "2024-10-08T06:59:24.269Z"
   },
   {
    "duration": 0,
    "start_time": "2024-10-08T06:59:24.270Z"
   },
   {
    "duration": 0,
    "start_time": "2024-10-08T06:59:24.271Z"
   },
   {
    "duration": 0,
    "start_time": "2024-10-08T06:59:24.272Z"
   },
   {
    "duration": 0,
    "start_time": "2024-10-08T06:59:24.272Z"
   },
   {
    "duration": 0,
    "start_time": "2024-10-08T06:59:24.273Z"
   },
   {
    "duration": 0,
    "start_time": "2024-10-08T06:59:24.274Z"
   },
   {
    "duration": 0,
    "start_time": "2024-10-08T06:59:24.276Z"
   },
   {
    "duration": 1,
    "start_time": "2024-10-08T06:59:24.276Z"
   },
   {
    "duration": 0,
    "start_time": "2024-10-08T06:59:24.278Z"
   },
   {
    "duration": 0,
    "start_time": "2024-10-08T06:59:24.279Z"
   },
   {
    "duration": 0,
    "start_time": "2024-10-08T06:59:24.280Z"
   },
   {
    "duration": 0,
    "start_time": "2024-10-08T06:59:24.280Z"
   },
   {
    "duration": 52,
    "start_time": "2024-10-08T07:11:27.422Z"
   },
   {
    "duration": 1350,
    "start_time": "2024-10-08T07:11:33.360Z"
   },
   {
    "duration": 188,
    "start_time": "2024-10-08T07:11:34.712Z"
   },
   {
    "duration": 31,
    "start_time": "2024-10-08T07:11:34.901Z"
   },
   {
    "duration": 17,
    "start_time": "2024-10-08T07:11:34.934Z"
   },
   {
    "duration": 26,
    "start_time": "2024-10-08T07:11:34.952Z"
   },
   {
    "duration": 30,
    "start_time": "2024-10-08T07:11:34.979Z"
   },
   {
    "duration": 7,
    "start_time": "2024-10-08T07:11:35.012Z"
   },
   {
    "duration": 16,
    "start_time": "2024-10-08T07:11:35.020Z"
   },
   {
    "duration": 10,
    "start_time": "2024-10-08T07:11:35.064Z"
   },
   {
    "duration": 5,
    "start_time": "2024-10-08T07:11:35.075Z"
   },
   {
    "duration": 28,
    "start_time": "2024-10-08T07:11:35.141Z"
   },
   {
    "duration": 10,
    "start_time": "2024-10-08T07:11:37.120Z"
   },
   {
    "duration": 4,
    "start_time": "2024-10-08T07:11:38.349Z"
   },
   {
    "duration": 17,
    "start_time": "2024-10-08T07:11:39.121Z"
   },
   {
    "duration": 413,
    "start_time": "2024-10-08T07:11:43.990Z"
   },
   {
    "duration": 15,
    "start_time": "2024-10-08T07:11:47.060Z"
   },
   {
    "duration": 479,
    "start_time": "2024-10-08T07:11:49.573Z"
   },
   {
    "duration": 1053,
    "start_time": "2024-10-08T17:53:56.125Z"
   },
   {
    "duration": 169,
    "start_time": "2024-10-08T17:53:57.180Z"
   },
   {
    "duration": 25,
    "start_time": "2024-10-08T17:53:57.351Z"
   },
   {
    "duration": 74,
    "start_time": "2024-10-08T17:53:57.379Z"
   },
   {
    "duration": 11,
    "start_time": "2024-10-08T17:53:57.454Z"
   },
   {
    "duration": 30,
    "start_time": "2024-10-08T17:53:57.466Z"
   },
   {
    "duration": 5,
    "start_time": "2024-10-08T17:53:57.498Z"
   },
   {
    "duration": 90,
    "start_time": "2024-10-08T17:53:57.504Z"
   },
   {
    "duration": 25,
    "start_time": "2024-10-08T17:53:57.595Z"
   },
   {
    "duration": 4,
    "start_time": "2024-10-08T17:53:57.622Z"
   },
   {
    "duration": 29,
    "start_time": "2024-10-08T17:53:57.627Z"
   },
   {
    "duration": 9,
    "start_time": "2024-10-08T17:53:57.657Z"
   },
   {
    "duration": 9,
    "start_time": "2024-10-08T17:53:57.668Z"
   },
   {
    "duration": 13,
    "start_time": "2024-10-08T17:53:57.678Z"
   },
   {
    "duration": 371,
    "start_time": "2024-10-08T17:53:57.692Z"
   },
   {
    "duration": 13,
    "start_time": "2024-10-08T17:53:58.065Z"
   },
   {
    "duration": 391,
    "start_time": "2024-10-08T17:53:58.079Z"
   },
   {
    "duration": 358,
    "start_time": "2024-10-08T17:53:58.471Z"
   },
   {
    "duration": 618,
    "start_time": "2024-10-08T17:53:58.831Z"
   },
   {
    "duration": 4,
    "start_time": "2024-10-08T17:53:59.451Z"
   },
   {
    "duration": 411,
    "start_time": "2024-10-08T17:53:59.456Z"
   },
   {
    "duration": 320,
    "start_time": "2024-10-08T17:53:59.869Z"
   },
   {
    "duration": 318,
    "start_time": "2024-10-08T17:54:00.191Z"
   },
   {
    "duration": 317,
    "start_time": "2024-10-08T17:54:00.510Z"
   },
   {
    "duration": 340,
    "start_time": "2024-10-08T17:54:00.829Z"
   },
   {
    "duration": 12,
    "start_time": "2024-10-08T17:54:01.171Z"
   },
   {
    "duration": 104,
    "start_time": "2024-10-08T17:54:01.184Z"
   },
   {
    "duration": 327,
    "start_time": "2024-10-08T17:54:01.291Z"
   },
   {
    "duration": 332,
    "start_time": "2024-10-08T17:54:01.620Z"
   },
   {
    "duration": 115,
    "start_time": "2024-10-08T17:54:01.954Z"
   },
   {
    "duration": 0,
    "start_time": "2024-10-08T17:54:02.071Z"
   },
   {
    "duration": 0,
    "start_time": "2024-10-08T17:54:02.072Z"
   },
   {
    "duration": 0,
    "start_time": "2024-10-08T17:54:02.073Z"
   },
   {
    "duration": 0,
    "start_time": "2024-10-08T17:54:02.074Z"
   },
   {
    "duration": 0,
    "start_time": "2024-10-08T17:54:02.075Z"
   },
   {
    "duration": 0,
    "start_time": "2024-10-08T17:54:02.076Z"
   },
   {
    "duration": 0,
    "start_time": "2024-10-08T17:54:02.077Z"
   },
   {
    "duration": 0,
    "start_time": "2024-10-08T17:54:02.078Z"
   },
   {
    "duration": 0,
    "start_time": "2024-10-08T17:54:02.079Z"
   },
   {
    "duration": 0,
    "start_time": "2024-10-08T17:54:02.080Z"
   },
   {
    "duration": 0,
    "start_time": "2024-10-08T17:54:02.081Z"
   },
   {
    "duration": 1148,
    "start_time": "2024-10-08T17:57:18.190Z"
   },
   {
    "duration": 52,
    "start_time": "2024-10-08T17:57:19.340Z"
   },
   {
    "duration": 25,
    "start_time": "2024-10-08T17:57:19.393Z"
   },
   {
    "duration": 64,
    "start_time": "2024-10-08T17:57:19.420Z"
   },
   {
    "duration": 31,
    "start_time": "2024-10-08T17:57:19.485Z"
   },
   {
    "duration": 88,
    "start_time": "2024-10-08T17:57:19.518Z"
   },
   {
    "duration": 6,
    "start_time": "2024-10-08T17:57:19.608Z"
   },
   {
    "duration": 19,
    "start_time": "2024-10-08T17:57:19.615Z"
   },
   {
    "duration": 9,
    "start_time": "2024-10-08T17:57:19.635Z"
   },
   {
    "duration": 4,
    "start_time": "2024-10-08T17:57:19.646Z"
   },
   {
    "duration": 30,
    "start_time": "2024-10-08T17:57:19.651Z"
   },
   {
    "duration": 8,
    "start_time": "2024-10-08T17:57:19.682Z"
   },
   {
    "duration": 17,
    "start_time": "2024-10-08T17:57:19.692Z"
   },
   {
    "duration": 18,
    "start_time": "2024-10-08T17:57:19.710Z"
   },
   {
    "duration": 356,
    "start_time": "2024-10-08T17:57:19.729Z"
   },
   {
    "duration": 13,
    "start_time": "2024-10-08T17:57:20.086Z"
   },
   {
    "duration": 402,
    "start_time": "2024-10-08T17:57:20.107Z"
   },
   {
    "duration": 381,
    "start_time": "2024-10-08T17:57:20.510Z"
   },
   {
    "duration": 633,
    "start_time": "2024-10-08T17:57:20.892Z"
   },
   {
    "duration": 4,
    "start_time": "2024-10-08T17:57:21.527Z"
   },
   {
    "duration": 444,
    "start_time": "2024-10-08T17:57:21.532Z"
   },
   {
    "duration": 345,
    "start_time": "2024-10-08T17:57:21.977Z"
   },
   {
    "duration": 327,
    "start_time": "2024-10-08T17:57:22.323Z"
   },
   {
    "duration": 332,
    "start_time": "2024-10-08T17:57:22.652Z"
   },
   {
    "duration": 348,
    "start_time": "2024-10-08T17:57:22.986Z"
   },
   {
    "duration": 10,
    "start_time": "2024-10-08T17:57:23.335Z"
   },
   {
    "duration": 18,
    "start_time": "2024-10-08T17:57:23.346Z"
   },
   {
    "duration": 427,
    "start_time": "2024-10-08T17:57:23.367Z"
   },
   {
    "duration": 344,
    "start_time": "2024-10-08T17:57:23.795Z"
   },
   {
    "duration": 136,
    "start_time": "2024-10-08T17:57:24.140Z"
   },
   {
    "duration": 0,
    "start_time": "2024-10-08T17:57:24.278Z"
   },
   {
    "duration": 0,
    "start_time": "2024-10-08T17:57:24.279Z"
   },
   {
    "duration": 0,
    "start_time": "2024-10-08T17:57:24.281Z"
   },
   {
    "duration": 0,
    "start_time": "2024-10-08T17:57:24.282Z"
   },
   {
    "duration": 0,
    "start_time": "2024-10-08T17:57:24.283Z"
   },
   {
    "duration": 0,
    "start_time": "2024-10-08T17:57:24.284Z"
   },
   {
    "duration": 0,
    "start_time": "2024-10-08T17:57:24.285Z"
   },
   {
    "duration": 0,
    "start_time": "2024-10-08T17:57:24.286Z"
   },
   {
    "duration": 0,
    "start_time": "2024-10-08T17:57:24.287Z"
   },
   {
    "duration": 0,
    "start_time": "2024-10-08T17:57:24.288Z"
   },
   {
    "duration": 0,
    "start_time": "2024-10-08T17:57:24.307Z"
   },
   {
    "duration": 60,
    "start_time": "2024-10-08T18:02:37.662Z"
   },
   {
    "duration": 1451,
    "start_time": "2024-10-08T18:02:43.522Z"
   },
   {
    "duration": 422,
    "start_time": "2024-10-08T18:02:44.975Z"
   },
   {
    "duration": 32,
    "start_time": "2024-10-08T18:02:45.400Z"
   },
   {
    "duration": 26,
    "start_time": "2024-10-08T18:02:45.435Z"
   },
   {
    "duration": 30,
    "start_time": "2024-10-08T18:02:45.463Z"
   },
   {
    "duration": 38,
    "start_time": "2024-10-08T18:02:45.495Z"
   },
   {
    "duration": 11,
    "start_time": "2024-10-08T18:02:45.535Z"
   },
   {
    "duration": 16,
    "start_time": "2024-10-08T18:02:45.547Z"
   },
   {
    "duration": 30,
    "start_time": "2024-10-08T18:02:45.565Z"
   },
   {
    "duration": 6,
    "start_time": "2024-10-08T18:02:45.598Z"
   },
   {
    "duration": 46,
    "start_time": "2024-10-08T18:02:45.605Z"
   },
   {
    "duration": 16,
    "start_time": "2024-10-08T18:02:45.653Z"
   },
   {
    "duration": 6,
    "start_time": "2024-10-08T18:02:45.671Z"
   },
   {
    "duration": 50,
    "start_time": "2024-10-08T18:02:45.679Z"
   },
   {
    "duration": 456,
    "start_time": "2024-10-08T18:02:45.731Z"
   },
   {
    "duration": 18,
    "start_time": "2024-10-08T18:02:46.190Z"
   },
   {
    "duration": 546,
    "start_time": "2024-10-08T18:02:46.210Z"
   },
   {
    "duration": 391,
    "start_time": "2024-10-08T18:02:51.307Z"
   },
   {
    "duration": 219,
    "start_time": "2024-10-08T18:02:53.833Z"
   },
   {
    "duration": 184,
    "start_time": "2024-10-08T18:19:24.853Z"
   },
   {
    "duration": 440,
    "start_time": "2024-10-08T18:19:39.107Z"
   },
   {
    "duration": 14,
    "start_time": "2024-10-08T18:25:04.551Z"
   },
   {
    "duration": 90,
    "start_time": "2024-10-08T18:25:07.557Z"
   },
   {
    "duration": 500,
    "start_time": "2024-10-08T18:25:07.917Z"
   },
   {
    "duration": 28,
    "start_time": "2024-10-08T18:25:22.077Z"
   },
   {
    "duration": 556,
    "start_time": "2024-10-08T18:25:24.774Z"
   },
   {
    "duration": 13,
    "start_time": "2024-10-08T18:27:12.177Z"
   },
   {
    "duration": 9,
    "start_time": "2024-10-08T18:27:17.184Z"
   },
   {
    "duration": 12,
    "start_time": "2024-10-08T18:27:24.435Z"
   },
   {
    "duration": 9,
    "start_time": "2024-10-08T18:27:31.085Z"
   },
   {
    "duration": 1207,
    "start_time": "2024-10-09T07:44:50.485Z"
   },
   {
    "duration": 185,
    "start_time": "2024-10-09T07:44:51.694Z"
   },
   {
    "duration": 30,
    "start_time": "2024-10-09T07:44:51.880Z"
   },
   {
    "duration": 56,
    "start_time": "2024-10-09T07:44:51.913Z"
   },
   {
    "duration": 37,
    "start_time": "2024-10-09T07:44:51.971Z"
   },
   {
    "duration": 62,
    "start_time": "2024-10-09T07:44:52.010Z"
   },
   {
    "duration": 9,
    "start_time": "2024-10-09T07:44:52.074Z"
   },
   {
    "duration": 25,
    "start_time": "2024-10-09T07:44:52.085Z"
   },
   {
    "duration": 9,
    "start_time": "2024-10-09T07:44:52.111Z"
   },
   {
    "duration": 34,
    "start_time": "2024-10-09T07:44:52.123Z"
   },
   {
    "duration": 41,
    "start_time": "2024-10-09T07:44:52.159Z"
   },
   {
    "duration": 18,
    "start_time": "2024-10-09T07:44:52.202Z"
   },
   {
    "duration": 12,
    "start_time": "2024-10-09T07:44:52.222Z"
   },
   {
    "duration": 63,
    "start_time": "2024-10-09T07:44:52.235Z"
   },
   {
    "duration": 419,
    "start_time": "2024-10-09T07:44:52.300Z"
   },
   {
    "duration": 18,
    "start_time": "2024-10-09T07:44:52.721Z"
   },
   {
    "duration": 532,
    "start_time": "2024-10-09T07:44:52.755Z"
   },
   {
    "duration": 423,
    "start_time": "2024-10-09T07:44:53.289Z"
   },
   {
    "duration": 458,
    "start_time": "2024-10-09T07:44:53.714Z"
   },
   {
    "duration": 5,
    "start_time": "2024-10-09T07:44:54.173Z"
   },
   {
    "duration": 387,
    "start_time": "2024-10-09T07:44:54.180Z"
   },
   {
    "duration": 473,
    "start_time": "2024-10-09T07:44:54.568Z"
   },
   {
    "duration": 335,
    "start_time": "2024-10-09T07:44:55.054Z"
   },
   {
    "duration": 368,
    "start_time": "2024-10-09T07:44:55.390Z"
   },
   {
    "duration": 403,
    "start_time": "2024-10-09T07:44:55.759Z"
   },
   {
    "duration": 14,
    "start_time": "2024-10-09T07:44:56.165Z"
   },
   {
    "duration": 55,
    "start_time": "2024-10-09T07:44:56.181Z"
   },
   {
    "duration": 450,
    "start_time": "2024-10-09T07:44:56.241Z"
   },
   {
    "duration": 394,
    "start_time": "2024-10-09T07:44:56.693Z"
   },
   {
    "duration": 12,
    "start_time": "2024-10-09T07:44:57.088Z"
   },
   {
    "duration": 67,
    "start_time": "2024-10-09T07:44:57.101Z"
   },
   {
    "duration": 719,
    "start_time": "2024-10-09T07:44:57.170Z"
   },
   {
    "duration": 28,
    "start_time": "2024-10-09T07:44:57.891Z"
   },
   {
    "duration": 593,
    "start_time": "2024-10-09T07:44:57.921Z"
   },
   {
    "duration": 11,
    "start_time": "2024-10-09T07:44:58.516Z"
   },
   {
    "duration": 545,
    "start_time": "2024-10-09T07:44:58.529Z"
   },
   {
    "duration": 5,
    "start_time": "2024-10-09T07:44:59.075Z"
   },
   {
    "duration": 81,
    "start_time": "2024-10-09T07:44:59.082Z"
   },
   {
    "duration": 655,
    "start_time": "2024-10-09T07:44:59.164Z"
   },
   {
    "duration": 8,
    "start_time": "2024-10-09T07:44:59.821Z"
   },
   {
    "duration": 26,
    "start_time": "2024-10-09T07:44:59.830Z"
   }
  ],
  "kernelspec": {
   "display_name": "Python 3 (ipykernel)",
   "language": "python",
   "name": "python3"
  },
  "language_info": {
   "codemirror_mode": {
    "name": "ipython",
    "version": 3
   },
   "file_extension": ".py",
   "mimetype": "text/x-python",
   "name": "python",
   "nbconvert_exporter": "python",
   "pygments_lexer": "ipython3",
   "version": "3.9.5"
  },
  "toc": {
   "base_numbering": 1,
   "nav_menu": {},
   "number_sections": true,
   "sideBar": true,
   "skip_h1_title": true,
   "title_cell": "Table of Contents",
   "title_sidebar": "Contents",
   "toc_cell": false,
   "toc_position": {},
   "toc_section_display": true,
   "toc_window_display": false
  }
 },
 "nbformat": 4,
 "nbformat_minor": 2
}
