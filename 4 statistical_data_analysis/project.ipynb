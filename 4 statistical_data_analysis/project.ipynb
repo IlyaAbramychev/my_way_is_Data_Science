{
 "cells": [
  {
   "cell_type": "markdown",
   "id": "4bba1603",
   "metadata": {},
   "source": [
    "# Проект: Статистический анализ данных\n",
    "# Описание данных\n",
    "\n",
    "В основных данных есть информация о пользователях, их поездках и подписках.\n",
    "1. Пользователи — `users_go.csv`\n",
    "    - *user_id*\tуникальный идентификатор пользователя\n",
    "    - *name*\tимя пользователя\n",
    "    - *age*\tвозраст\n",
    "    - *city*\tгород\n",
    "    - *subscription_type*\tтип подписки (free, ultra)\n",
    "2. Поездки — `rides_go.csv`\n",
    "    - *user_id*\tуникальный идентификатор пользователя\n",
    "    - *distance*\tрасстояние, которое пользователь проехал в текущей сессии (в метрах)\n",
    "    - *duration*\tпродолжительность сессии (в минутах) — время с того момента, как пользователь нажал кнопку «Начать поездку» до момента, как он нажал кнопку «Завершить поездку»\n",
    "    - *date*\tдата совершения поездки\n",
    "3. Подписки — `subscriptions_go.csv`\n",
    "    - *subscription_type*\tтип подписки\n",
    "    - *minute_price*\tстоимость одной минуты поездки по данной подписке\n",
    "    - *start_ride_price*\tстоимость начала поездки\n",
    "    - *subscription_fee*\tстоимость ежемесячного платежа\n",
    "    \n",
    "# План работы\n",
    "\n",
    "1. Загрузка данных\n",
    "2. Предобработка данных\n",
    "3. Исследовательский анализ данных\n",
    "4. Объединение данных\n",
    "5. Подсчёт выручки\n",
    "6. Проверка гипотез\n",
    "7. Распределения"
   ]
  },
  {
   "cell_type": "markdown",
   "id": "4153dbff",
   "metadata": {},
   "source": [
    "#### Шаг 1. Загрузка данных"
   ]
  },
  {
   "cell_type": "code",
   "execution_count": 1,
   "id": "eada7edc",
   "metadata": {},
   "outputs": [],
   "source": [
    "import numpy as np\n",
    "import pandas as pd\n",
    "from scipy import stats as st\n",
    "from scipy.stats import binom\n",
    "import matplotlib.pyplot as plt"
   ]
  },
  {
   "cell_type": "code",
   "execution_count": 2,
   "id": "07825cc7",
   "metadata": {},
   "outputs": [],
   "source": [
    "try:\n",
    "    df_users = pd.read_csv('./users_go.csv')\n",
    "    df_rides = pd.read_csv('./rides_go.csv')\n",
    "    df_subsc = pd.read_csv('./subscriptions_go.csv')\n",
    "except:\n",
    "    df_users = pd.read_csv('/datasets/users_go.csv')\n",
    "    df_rides = pd.read_csv('/datasets/rides_go.csv')\n",
    "    df_subsc = pd.read_csv('/datasets/subscriptions_go.csv')"
   ]
  },
  {
   "cell_type": "code",
   "execution_count": 3,
   "id": "013fa246",
   "metadata": {},
   "outputs": [
    {
     "name": "stdout",
     "output_type": "stream",
     "text": [
      "Информация о пользователях:\n",
      "<class 'pandas.core.frame.DataFrame'>\n",
      "RangeIndex: 1565 entries, 0 to 1564\n",
      "Data columns (total 5 columns):\n",
      " #   Column             Non-Null Count  Dtype \n",
      "---  ------             --------------  ----- \n",
      " 0   user_id            1565 non-null   int64 \n",
      " 1   name               1565 non-null   object\n",
      " 2   age                1565 non-null   int64 \n",
      " 3   city               1565 non-null   object\n",
      " 4   subscription_type  1565 non-null   object\n",
      "dtypes: int64(2), object(3)\n",
      "memory usage: 61.3+ KB\n"
     ]
    },
    {
     "data": {
      "text/plain": [
       "None"
      ]
     },
     "metadata": {},
     "output_type": "display_data"
    },
    {
     "name": "stdout",
     "output_type": "stream",
     "text": [
      "\n",
      "Первые строки таблицы users_go:\n"
     ]
    },
    {
     "data": {
      "text/html": [
       "<div>\n",
       "<style scoped>\n",
       "    .dataframe tbody tr th:only-of-type {\n",
       "        vertical-align: middle;\n",
       "    }\n",
       "\n",
       "    .dataframe tbody tr th {\n",
       "        vertical-align: top;\n",
       "    }\n",
       "\n",
       "    .dataframe thead th {\n",
       "        text-align: right;\n",
       "    }\n",
       "</style>\n",
       "<table border=\"1\" class=\"dataframe\">\n",
       "  <thead>\n",
       "    <tr style=\"text-align: right;\">\n",
       "      <th></th>\n",
       "      <th>user_id</th>\n",
       "      <th>name</th>\n",
       "      <th>age</th>\n",
       "      <th>city</th>\n",
       "      <th>subscription_type</th>\n",
       "    </tr>\n",
       "  </thead>\n",
       "  <tbody>\n",
       "    <tr>\n",
       "      <th>0</th>\n",
       "      <td>1</td>\n",
       "      <td>Кира</td>\n",
       "      <td>22</td>\n",
       "      <td>Тюмень</td>\n",
       "      <td>ultra</td>\n",
       "    </tr>\n",
       "    <tr>\n",
       "      <th>1</th>\n",
       "      <td>2</td>\n",
       "      <td>Станислав</td>\n",
       "      <td>31</td>\n",
       "      <td>Омск</td>\n",
       "      <td>ultra</td>\n",
       "    </tr>\n",
       "    <tr>\n",
       "      <th>2</th>\n",
       "      <td>3</td>\n",
       "      <td>Алексей</td>\n",
       "      <td>20</td>\n",
       "      <td>Москва</td>\n",
       "      <td>ultra</td>\n",
       "    </tr>\n",
       "    <tr>\n",
       "      <th>3</th>\n",
       "      <td>4</td>\n",
       "      <td>Константин</td>\n",
       "      <td>26</td>\n",
       "      <td>Ростов-на-Дону</td>\n",
       "      <td>ultra</td>\n",
       "    </tr>\n",
       "    <tr>\n",
       "      <th>4</th>\n",
       "      <td>5</td>\n",
       "      <td>Адель</td>\n",
       "      <td>28</td>\n",
       "      <td>Омск</td>\n",
       "      <td>ultra</td>\n",
       "    </tr>\n",
       "  </tbody>\n",
       "</table>\n",
       "</div>"
      ],
      "text/plain": [
       "   user_id        name  age            city subscription_type\n",
       "0        1        Кира   22          Тюмень             ultra\n",
       "1        2   Станислав   31            Омск             ultra\n",
       "2        3     Алексей   20          Москва             ultra\n",
       "3        4  Константин   26  Ростов-на-Дону             ultra\n",
       "4        5       Адель   28            Омск             ultra"
      ]
     },
     "metadata": {},
     "output_type": "display_data"
    }
   ],
   "source": [
    "print(\"Информация о пользователях:\")\n",
    "display(df_users.info())\n",
    "print(\"\\nПервые строки таблицы users_go:\")\n",
    "display(df_users.head())"
   ]
  },
  {
   "cell_type": "code",
   "execution_count": 4,
   "id": "fc4bdc2c",
   "metadata": {},
   "outputs": [
    {
     "name": "stdout",
     "output_type": "stream",
     "text": [
      "\n",
      "Информация о поездках:\n",
      "<class 'pandas.core.frame.DataFrame'>\n",
      "RangeIndex: 18068 entries, 0 to 18067\n",
      "Data columns (total 4 columns):\n",
      " #   Column    Non-Null Count  Dtype  \n",
      "---  ------    --------------  -----  \n",
      " 0   user_id   18068 non-null  int64  \n",
      " 1   distance  18068 non-null  float64\n",
      " 2   duration  18068 non-null  float64\n",
      " 3   date      18068 non-null  object \n",
      "dtypes: float64(2), int64(1), object(1)\n",
      "memory usage: 564.8+ KB\n"
     ]
    },
    {
     "data": {
      "text/plain": [
       "None"
      ]
     },
     "metadata": {},
     "output_type": "display_data"
    },
    {
     "name": "stdout",
     "output_type": "stream",
     "text": [
      "\n",
      "Первые строки таблицы rides_go:\n"
     ]
    },
    {
     "data": {
      "text/html": [
       "<div>\n",
       "<style scoped>\n",
       "    .dataframe tbody tr th:only-of-type {\n",
       "        vertical-align: middle;\n",
       "    }\n",
       "\n",
       "    .dataframe tbody tr th {\n",
       "        vertical-align: top;\n",
       "    }\n",
       "\n",
       "    .dataframe thead th {\n",
       "        text-align: right;\n",
       "    }\n",
       "</style>\n",
       "<table border=\"1\" class=\"dataframe\">\n",
       "  <thead>\n",
       "    <tr style=\"text-align: right;\">\n",
       "      <th></th>\n",
       "      <th>user_id</th>\n",
       "      <th>distance</th>\n",
       "      <th>duration</th>\n",
       "      <th>date</th>\n",
       "    </tr>\n",
       "  </thead>\n",
       "  <tbody>\n",
       "    <tr>\n",
       "      <th>0</th>\n",
       "      <td>1</td>\n",
       "      <td>4409.919140</td>\n",
       "      <td>25.599769</td>\n",
       "      <td>2021-01-01</td>\n",
       "    </tr>\n",
       "    <tr>\n",
       "      <th>1</th>\n",
       "      <td>1</td>\n",
       "      <td>2617.592153</td>\n",
       "      <td>15.816871</td>\n",
       "      <td>2021-01-18</td>\n",
       "    </tr>\n",
       "    <tr>\n",
       "      <th>2</th>\n",
       "      <td>1</td>\n",
       "      <td>754.159807</td>\n",
       "      <td>6.232113</td>\n",
       "      <td>2021-04-20</td>\n",
       "    </tr>\n",
       "    <tr>\n",
       "      <th>3</th>\n",
       "      <td>1</td>\n",
       "      <td>2694.783254</td>\n",
       "      <td>18.511000</td>\n",
       "      <td>2021-08-11</td>\n",
       "    </tr>\n",
       "    <tr>\n",
       "      <th>4</th>\n",
       "      <td>1</td>\n",
       "      <td>4028.687306</td>\n",
       "      <td>26.265803</td>\n",
       "      <td>2021-08-28</td>\n",
       "    </tr>\n",
       "  </tbody>\n",
       "</table>\n",
       "</div>"
      ],
      "text/plain": [
       "   user_id     distance   duration        date\n",
       "0        1  4409.919140  25.599769  2021-01-01\n",
       "1        1  2617.592153  15.816871  2021-01-18\n",
       "2        1   754.159807   6.232113  2021-04-20\n",
       "3        1  2694.783254  18.511000  2021-08-11\n",
       "4        1  4028.687306  26.265803  2021-08-28"
      ]
     },
     "metadata": {},
     "output_type": "display_data"
    }
   ],
   "source": [
    "print(\"\\nИнформация о поездках:\")\n",
    "display(df_rides.info())\n",
    "print(\"\\nПервые строки таблицы rides_go:\")\n",
    "display(df_rides.head())"
   ]
  },
  {
   "cell_type": "code",
   "execution_count": 5,
   "id": "797105ee",
   "metadata": {},
   "outputs": [
    {
     "name": "stdout",
     "output_type": "stream",
     "text": [
      "\n",
      "Информация о подписках:\n",
      "<class 'pandas.core.frame.DataFrame'>\n",
      "RangeIndex: 2 entries, 0 to 1\n",
      "Data columns (total 4 columns):\n",
      " #   Column             Non-Null Count  Dtype \n",
      "---  ------             --------------  ----- \n",
      " 0   subscription_type  2 non-null      object\n",
      " 1   minute_price       2 non-null      int64 \n",
      " 2   start_ride_price   2 non-null      int64 \n",
      " 3   subscription_fee   2 non-null      int64 \n",
      "dtypes: int64(3), object(1)\n",
      "memory usage: 192.0+ bytes\n"
     ]
    },
    {
     "data": {
      "text/plain": [
       "None"
      ]
     },
     "metadata": {},
     "output_type": "display_data"
    },
    {
     "name": "stdout",
     "output_type": "stream",
     "text": [
      "\n",
      "Первые строки таблицы subscriptions_go:\n"
     ]
    },
    {
     "data": {
      "text/html": [
       "<div>\n",
       "<style scoped>\n",
       "    .dataframe tbody tr th:only-of-type {\n",
       "        vertical-align: middle;\n",
       "    }\n",
       "\n",
       "    .dataframe tbody tr th {\n",
       "        vertical-align: top;\n",
       "    }\n",
       "\n",
       "    .dataframe thead th {\n",
       "        text-align: right;\n",
       "    }\n",
       "</style>\n",
       "<table border=\"1\" class=\"dataframe\">\n",
       "  <thead>\n",
       "    <tr style=\"text-align: right;\">\n",
       "      <th></th>\n",
       "      <th>subscription_type</th>\n",
       "      <th>minute_price</th>\n",
       "      <th>start_ride_price</th>\n",
       "      <th>subscription_fee</th>\n",
       "    </tr>\n",
       "  </thead>\n",
       "  <tbody>\n",
       "    <tr>\n",
       "      <th>0</th>\n",
       "      <td>free</td>\n",
       "      <td>8</td>\n",
       "      <td>50</td>\n",
       "      <td>0</td>\n",
       "    </tr>\n",
       "    <tr>\n",
       "      <th>1</th>\n",
       "      <td>ultra</td>\n",
       "      <td>6</td>\n",
       "      <td>0</td>\n",
       "      <td>199</td>\n",
       "    </tr>\n",
       "  </tbody>\n",
       "</table>\n",
       "</div>"
      ],
      "text/plain": [
       "  subscription_type  minute_price  start_ride_price  subscription_fee\n",
       "0              free             8                50                 0\n",
       "1             ultra             6                 0               199"
      ]
     },
     "metadata": {},
     "output_type": "display_data"
    }
   ],
   "source": [
    "print(\"\\nИнформация о подписках:\")\n",
    "display(df_subsc.info())\n",
    "print(\"\\nПервые строки таблицы subscriptions_go:\")\n",
    "display(df_subsc.head())"
   ]
  },
  {
   "cell_type": "markdown",
   "id": "e2ec29db",
   "metadata": {},
   "source": [
    "***Вывод:***\n",
    "\n",
    "В данных:\n",
    "\n",
    "- `users_go` 1565 записи, пропуски отсутствуют.\n",
    "- `rides_go` 18068 записи, пропуски отсутствуют.\n",
    "- `subscriptions_go 2` записи, пропуски отсутствуют.."
   ]
  },
  {
   "cell_type": "markdown",
   "id": "823112cf",
   "metadata": {},
   "source": [
    "#### Шаг 2. Предобработка данных"
   ]
  },
  {
   "cell_type": "markdown",
   "id": "c972b88e",
   "metadata": {},
   "source": [
    "***2.1 Приведите столбец date к типу даты pandas. 2.2 Создайте новый столбец с номером месяца на основе столбца date.***"
   ]
  },
  {
   "cell_type": "code",
   "execution_count": 6,
   "id": "496a555a",
   "metadata": {},
   "outputs": [],
   "source": [
    "df_rides['date'] = pd.to_datetime(df_rides['date'], format='%Y-%m-%d')\n",
    "\n",
    "df_rides['month'] = df_rides['date'].dt.month"
   ]
  },
  {
   "cell_type": "code",
   "execution_count": 7,
   "id": "c9015af8",
   "metadata": {},
   "outputs": [],
   "source": [
    "df_rides['duration'] = np.ceil(df_rides['duration']) "
   ]
  },
  {
   "cell_type": "code",
   "execution_count": 8,
   "id": "5ada33a4",
   "metadata": {},
   "outputs": [
    {
     "name": "stdout",
     "output_type": "stream",
     "text": [
      "Записи с 2021-01-01 00:00:00 по 2021-12-30 00:00:00\n"
     ]
    },
    {
     "data": {
      "text/html": [
       "<div>\n",
       "<style scoped>\n",
       "    .dataframe tbody tr th:only-of-type {\n",
       "        vertical-align: middle;\n",
       "    }\n",
       "\n",
       "    .dataframe tbody tr th {\n",
       "        vertical-align: top;\n",
       "    }\n",
       "\n",
       "    .dataframe thead th {\n",
       "        text-align: right;\n",
       "    }\n",
       "</style>\n",
       "<table border=\"1\" class=\"dataframe\">\n",
       "  <thead>\n",
       "    <tr style=\"text-align: right;\">\n",
       "      <th></th>\n",
       "      <th>user_id</th>\n",
       "      <th>distance</th>\n",
       "      <th>duration</th>\n",
       "      <th>date</th>\n",
       "      <th>month</th>\n",
       "    </tr>\n",
       "  </thead>\n",
       "  <tbody>\n",
       "    <tr>\n",
       "      <th>0</th>\n",
       "      <td>1</td>\n",
       "      <td>4409.919140</td>\n",
       "      <td>26.0</td>\n",
       "      <td>2021-01-01</td>\n",
       "      <td>1</td>\n",
       "    </tr>\n",
       "    <tr>\n",
       "      <th>1</th>\n",
       "      <td>1</td>\n",
       "      <td>2617.592153</td>\n",
       "      <td>16.0</td>\n",
       "      <td>2021-01-18</td>\n",
       "      <td>1</td>\n",
       "    </tr>\n",
       "    <tr>\n",
       "      <th>2</th>\n",
       "      <td>1</td>\n",
       "      <td>754.159807</td>\n",
       "      <td>7.0</td>\n",
       "      <td>2021-04-20</td>\n",
       "      <td>4</td>\n",
       "    </tr>\n",
       "    <tr>\n",
       "      <th>3</th>\n",
       "      <td>1</td>\n",
       "      <td>2694.783254</td>\n",
       "      <td>19.0</td>\n",
       "      <td>2021-08-11</td>\n",
       "      <td>8</td>\n",
       "    </tr>\n",
       "    <tr>\n",
       "      <th>4</th>\n",
       "      <td>1</td>\n",
       "      <td>4028.687306</td>\n",
       "      <td>27.0</td>\n",
       "      <td>2021-08-28</td>\n",
       "      <td>8</td>\n",
       "    </tr>\n",
       "  </tbody>\n",
       "</table>\n",
       "</div>"
      ],
      "text/plain": [
       "   user_id     distance  duration       date  month\n",
       "0        1  4409.919140      26.0 2021-01-01      1\n",
       "1        1  2617.592153      16.0 2021-01-18      1\n",
       "2        1   754.159807       7.0 2021-04-20      4\n",
       "3        1  2694.783254      19.0 2021-08-11      8\n",
       "4        1  4028.687306      27.0 2021-08-28      8"
      ]
     },
     "metadata": {},
     "output_type": "display_data"
    }
   ],
   "source": [
    "print('Записи с', df_rides['date'].min(), 'по', df_rides['date'].max())\n",
    "display(df_rides.head())"
   ]
  },
  {
   "cell_type": "markdown",
   "id": "8c98bd91",
   "metadata": {},
   "source": [
    "***2.3 Проверьте наличие пропущенных значений и дубликатов в датафреймах. Обработайте их, если такие значения присутствуют.***"
   ]
  },
  {
   "cell_type": "code",
   "execution_count": 9,
   "id": "d76a066e",
   "metadata": {},
   "outputs": [
    {
     "name": "stdout",
     "output_type": "stream",
     "text": [
      "Пропущенные значения в df_users:\n"
     ]
    },
    {
     "data": {
      "text/plain": [
       "user_id              0\n",
       "name                 0\n",
       "age                  0\n",
       "city                 0\n",
       "subscription_type    0\n",
       "dtype: int64"
      ]
     },
     "execution_count": 9,
     "metadata": {},
     "output_type": "execute_result"
    }
   ],
   "source": [
    "print(\"Пропущенные значения в df_users:\")\n",
    "df_users.isna().sum()"
   ]
  },
  {
   "cell_type": "code",
   "execution_count": 10,
   "id": "be37e80b",
   "metadata": {},
   "outputs": [
    {
     "name": "stdout",
     "output_type": "stream",
     "text": [
      "Количество явных дубликатов в df_users:\n"
     ]
    },
    {
     "data": {
      "text/plain": [
       "31"
      ]
     },
     "execution_count": 10,
     "metadata": {},
     "output_type": "execute_result"
    }
   ],
   "source": [
    "print(\"Количество явных дубликатов в df_users:\")\n",
    "df_users.duplicated().sum()"
   ]
  },
  {
   "cell_type": "code",
   "execution_count": 11,
   "id": "8dc57e55",
   "metadata": {},
   "outputs": [
    {
     "name": "stdout",
     "output_type": "stream",
     "text": [
      "Количество явных дубликатов после удаления: 0\n"
     ]
    }
   ],
   "source": [
    "df_users = df_users.drop_duplicates()\n",
    "print(\"Количество явных дубликатов после удаления:\", df_users.duplicated().sum())"
   ]
  },
  {
   "cell_type": "code",
   "execution_count": 12,
   "id": "3208a48b",
   "metadata": {},
   "outputs": [
    {
     "name": "stdout",
     "output_type": "stream",
     "text": [
      "Пропущенные значения в df_rides:\n"
     ]
    },
    {
     "data": {
      "text/plain": [
       "user_id     0\n",
       "distance    0\n",
       "duration    0\n",
       "date        0\n",
       "month       0\n",
       "dtype: int64"
      ]
     },
     "execution_count": 12,
     "metadata": {},
     "output_type": "execute_result"
    }
   ],
   "source": [
    "print(\"Пропущенные значения в df_rides:\")\n",
    "df_rides.isna().sum()"
   ]
  },
  {
   "cell_type": "code",
   "execution_count": 13,
   "id": "3d0ad9e9",
   "metadata": {},
   "outputs": [
    {
     "name": "stdout",
     "output_type": "stream",
     "text": [
      "Количество явных дубликатов в df_rides: 0\n"
     ]
    }
   ],
   "source": [
    "print(\"Количество явных дубликатов в df_rides:\", df_rides.duplicated().sum())"
   ]
  },
  {
   "cell_type": "code",
   "execution_count": 14,
   "id": "e9aa290a",
   "metadata": {},
   "outputs": [
    {
     "name": "stdout",
     "output_type": "stream",
     "text": [
      "Пропущенные значения в df_subsc:\n"
     ]
    },
    {
     "data": {
      "text/plain": [
       "subscription_type    0\n",
       "minute_price         0\n",
       "start_ride_price     0\n",
       "subscription_fee     0\n",
       "dtype: int64"
      ]
     },
     "execution_count": 14,
     "metadata": {},
     "output_type": "execute_result"
    }
   ],
   "source": [
    "print(\"Пропущенные значения в df_subsc:\")\n",
    "df_subsc.isna().sum()"
   ]
  },
  {
   "cell_type": "code",
   "execution_count": 15,
   "id": "0026901c",
   "metadata": {},
   "outputs": [
    {
     "name": "stdout",
     "output_type": "stream",
     "text": [
      "Количество явных дубликатов в df_subsc: 0\n"
     ]
    }
   ],
   "source": [
    "print(\"Количество явных дубликатов в df_subsc:\", df_subsc.duplicated().sum())"
   ]
  },
  {
   "cell_type": "markdown",
   "id": "9cba87ce",
   "metadata": {},
   "source": [
    "***Вывод:***\n",
    "\n",
    "В данных:\n",
    "\n",
    "- `users_go` 1565 записи, пропуски отсутствуют, количество явных дубликатов 31.\n",
    "- `rides_go` 18068 записи, пропуски отсутствуют, явных дубликатов нет.\n",
    "- `subscriptions_go 2` записи, пропуски отсутствуют, явных дубликатов нет. Названия столбцов в норме. "
   ]
  },
  {
   "cell_type": "markdown",
   "id": "9fbc4037",
   "metadata": {},
   "source": [
    "***Вывод:***\n",
    "\n",
    "- **`users_go`** - удалили **31** дубликат из датафрейма.\n",
    "- **`rides_go`** -  предобработали такие столбцы как: \n",
    "     - `distance` - округлили до двух значений после запятой, \n",
    "     - `duration` - округлили в большую сторону в соответствии с пунктом 5.2 для дальнейших операций с ними, \n",
    "     - `date` - привели столбец к типу datetime64.\n",
    "- **`rides_go`** - добавили столбец `month`\n",
    "- **`subscriptions_go 2`** - без изменений."
   ]
  },
  {
   "cell_type": "markdown",
   "id": "f180f10d",
   "metadata": {},
   "source": [
    "#### Шаг 3. Исследовательский анализ данных"
   ]
  },
  {
   "cell_type": "markdown",
   "id": "ccbe61c9",
   "metadata": {},
   "source": [
    "##### частота встречаемости городов;"
   ]
  },
  {
   "cell_type": "code",
   "execution_count": 16,
   "id": "19af4dfb",
   "metadata": {},
   "outputs": [
    {
     "data": {
      "image/png": "[encoded data removed]",
      "text/plain": [
       "<Figure size 432x288 with 1 Axes>"
      ]
     },
     "metadata": {
      "needs_background": "light"
     },
     "output_type": "display_data"
    }
   ],
   "source": [
    "users_1 = df_users.groupby('city')['user_id'].count().sort_values(ascending = True).reset_index()\n",
    "\n",
    "plt.barh(users_1['city'], users_1['user_id'])\n",
    "plt.title('Количество пользователей по городам')\n",
    "plt.xlabel('Количество пользователей')\n",
    "plt.ylabel('Города')\n",
    "plt.show()"
   ]
  },
  {
   "cell_type": "markdown",
   "id": "1774a320",
   "metadata": {},
   "source": [
    "***Вывод:***\n",
    "\n",
    "Лидером по количеству пользователей является город Пятигорск, где зарегистрировано более 200 пользователей. Это говорит о том, что сервис особенно популярен в этом городе.\n",
    "\n",
    "За Пятигорском следуют такие города, как Екатеринбург, Ростов-на-Дону и Краснодар, также с высокой долей пользователей.\n",
    "\n",
    "Наименее активно сервисом пользуются жители городов Тюмень и Омск, которые занимают нижние позиции на графике.\n",
    "\n",
    "Москва, несмотря на свой статус крупнейшего города, имеет относительно небольшое количество пользователей по сравнению с лидирующими городами."
   ]
  },
  {
   "cell_type": "markdown",
   "id": "f198b22d",
   "metadata": {},
   "source": [
    "##### соотношение пользователей с подпиской и без подписки;"
   ]
  },
  {
   "cell_type": "code",
   "execution_count": 17,
   "id": "bf4cbca9",
   "metadata": {},
   "outputs": [
    {
     "data": {
      "image/png": "[encoded data removed]",
      "text/plain": [
       "<Figure size 576x576 with 1 Axes>"
      ]
     },
     "metadata": {},
     "output_type": "display_data"
    }
   ],
   "source": [
    "subscription_counts = df_users['subscription_type'].value_counts()\n",
    "\n",
    "subscription_counts.plot.pie(autopct='%1.1f%%', figsize=(8, 8), startangle=90, explode=[0, 0.1])\n",
    "plt.title('Соотношение пользователей с подпиской и без подписки')\n",
    "plt.ylabel('')\n",
    "plt.show()"
   ]
  },
  {
   "cell_type": "markdown",
   "id": "febb3ace",
   "metadata": {},
   "source": [
    "***Вывод:***\n",
    "\n",
    "- Пользователи без подписки составляют 54.4% от общего числа пользователей. \n",
    "\n",
    "- Пользователи с подпиской Ultra составляют 45.6%. "
   ]
  },
  {
   "cell_type": "markdown",
   "id": "8ee96f7d",
   "metadata": {},
   "source": [
    "##### возраст пользователей;"
   ]
  },
  {
   "cell_type": "code",
   "execution_count": 18,
   "id": "940f9314",
   "metadata": {},
   "outputs": [
    {
     "data": {
      "image/png": "[encoded data removed]",
      "text/plain": [
       "<Figure size 432x288 with 1 Axes>"
      ]
     },
     "metadata": {
      "needs_background": "light"
     },
     "output_type": "display_data"
    }
   ],
   "source": [
    "plt.hist(df_users['age'], bins=20, edgecolor='black')\n",
    "plt.title('Распределение возраста пользователей')\n",
    "plt.xlabel('Возраст')\n",
    "plt.ylabel('Количество пользователей')\n",
    "plt.grid(True)\n",
    "plt.show()"
   ]
  },
  {
   "cell_type": "code",
   "execution_count": 19,
   "id": "63a342d9",
   "metadata": {},
   "outputs": [
    {
     "name": "stdout",
     "output_type": "stream",
     "text": [
      "Средний возраст пользователей: 24.90 лет\n"
     ]
    }
   ],
   "source": [
    "average_age = df_users['age'].mean()\n",
    "print(f'Средний возраст пользователей: {average_age:.2f} лет')"
   ]
  },
  {
   "cell_type": "markdown",
   "id": "b29a5f2e",
   "metadata": {},
   "source": [
    "***Вывод:***\n",
    "\n",
    "Графическое отображение количества пользователей в зависимости от их возраста демонстрирует, что средний возраст потребителя услуги подчиняется закону нормального распределения, при этом медиана распределения приходится примерно на `25 лет`. Примечательно, что `средний возраст` и `медиана` в данном случае практически совпадают."
   ]
  },
  {
   "cell_type": "markdown",
   "id": "b201cf66",
   "metadata": {},
   "source": [
    "#####  расстояние, которое пользователь преодолел за одну поездку;"
   ]
  },
  {
   "cell_type": "code",
   "execution_count": 20,
   "id": "841d1b23",
   "metadata": {},
   "outputs": [
    {
     "data": {
      "image/png": "[encoded data removed]",
      "text/plain": [
       "<Figure size 432x288 with 1 Axes>"
      ]
     },
     "metadata": {
      "needs_background": "light"
     },
     "output_type": "display_data"
    }
   ],
   "source": [
    "plt.hist(df_rides['distance'], bins=20, edgecolor='black')\n",
    "plt.title('Распределение расстояний поездок')\n",
    "plt.xlabel('Расстояние (метры)')\n",
    "plt.ylabel('Количество поездок')\n",
    "plt.grid(True)\n",
    "plt.show()"
   ]
  },
  {
   "cell_type": "code",
   "execution_count": 21,
   "id": "d1b1bf11",
   "metadata": {},
   "outputs": [
    {
     "name": "stdout",
     "output_type": "stream",
     "text": [
      "Минимальное расстояние: 0.855682925681208 метров\n",
      "Максимальное расстояние: 7211.007744598519 метров\n",
      "Среднее расстояние: 3070.66 метров\n",
      "Медиана расстояний: 3133.61 метров\n"
     ]
    }
   ],
   "source": [
    "min_distance = df_rides['distance'].min()\n",
    "max_distance = df_rides['distance'].max()\n",
    "mean_distance = df_rides['distance'].mean()\n",
    "median_distance = df_rides['distance'].median()\n",
    "\n",
    "print(f'Минимальное расстояние: {min_distance} метров')\n",
    "print(f'Максимальное расстояние: {max_distance} метров')\n",
    "print(f'Среднее расстояние: {mean_distance:.2f} метров')\n",
    "print(f'Медиана расстояний: {median_distance:.2f} метров')"
   ]
  },
  {
   "cell_type": "markdown",
   "id": "f6603a02",
   "metadata": {},
   "source": [
    "***Вывод***\n",
    "\n",
    "Хвост в диапазоне от 0 до 1000 метров на гистограмме.\n",
    "Это могут быть реальные поездки на очень короткие расстояния, например, когда пользователь взял самокат для перемещения до ближайшего магазина.\n",
    "\n",
    "Большинство поездок укладываются в диапазон `3000–4000` метров, что может говорить о стандартных сценариях использования самокатов для поездок по городу. Однако встречаются и более короткие или длинные поездки, что говорит о разнообразии использования сервиса. Среднее и медианное расстояния близки по значению, что подтверждает симметричное распределение данных."
   ]
  },
  {
   "cell_type": "markdown",
   "id": "a0d3e56b",
   "metadata": {},
   "source": [
    "***3.5 Продолжительность поездок***"
   ]
  },
  {
   "cell_type": "code",
   "execution_count": 22,
   "id": "66b39996",
   "metadata": {},
   "outputs": [
    {
     "data": {
      "image/png": "[encoded data removed]",
      "text/plain": [
       "<Figure size 432x288 with 1 Axes>"
      ]
     },
     "metadata": {
      "needs_background": "light"
     },
     "output_type": "display_data"
    }
   ],
   "source": [
    "plt.hist(df_rides['duration'], bins=20, edgecolor='black')\n",
    "plt.title('Распределение продолжительности поездок')\n",
    "plt.xlabel('Продолжительность (минуты)')\n",
    "plt.ylabel('Количество поездок')\n",
    "plt.grid(True)\n",
    "plt.show()"
   ]
  },
  {
   "cell_type": "code",
   "execution_count": 23,
   "id": "e12dac74",
   "metadata": {},
   "outputs": [
    {
     "name": "stdout",
     "output_type": "stream",
     "text": [
      "Минимальная продолжительность поездки: 1.0 минут\n",
      "Максимальная продолжительность поездки: 41.0 минут\n",
      "Средняя продолжительность поездки: 18.30 минут\n",
      "Медиана продолжительности поездки: 18.00 минут\n"
     ]
    }
   ],
   "source": [
    "min_duration = df_rides['duration'].min()\n",
    "max_duration = df_rides['duration'].max()\n",
    "mean_duration = df_rides['duration'].mean()\n",
    "median_duration = df_rides['duration'].median()\n",
    "\n",
    "print(f'Минимальная продолжительность поездки: {min_duration} минут')\n",
    "print(f'Максимальная продолжительность поездки: {max_duration} минут')\n",
    "print(f'Средняя продолжительность поездки: {mean_duration:.2f} минут')\n",
    "print(f'Медиана продолжительности поездки: {median_duration:.2f} минут')"
   ]
  },
  {
   "cell_type": "markdown",
   "id": "260a2152",
   "metadata": {},
   "source": [
    "***Вывод***\n",
    "\n",
    "- Большинство поездок длится от 15 до 20 минут, что видно по пику на графике.\n",
    "\n",
    "- Минимальная продолжительность поездки — 1 минута, а максимальная — 41 минута. Это означает, что есть как очень короткие, так и более длительные поездки.\n",
    "\n",
    "- Средняя продолжительность поездки составляет около 18.3 минут, а медиана (центральное значение) — 18 минут. Это значит, что большинство поездок длится примерно 18 минут.\n",
    "\n",
    "Таким образом, средняя поездка длится примерно 18 минут, что вполне соответствует времени, которое люди могут тратить на короткие поездки по городу."
   ]
  },
  {
   "cell_type": "markdown",
   "id": "7d531354",
   "metadata": {},
   "source": [
    "#### Шаг 4. Объединение данных"
   ]
  },
  {
   "cell_type": "markdown",
   "id": "0756b44f",
   "metadata": {},
   "source": [
    "***4.1 Объедините данные о пользователях, поездках и подписках в один датафрейм. Для этого воспользуйтесь методом merge().***"
   ]
  },
  {
   "cell_type": "code",
   "execution_count": 24,
   "id": "7e603afb",
   "metadata": {},
   "outputs": [
    {
     "data": {
      "text/html": [
       "<div>\n",
       "<style scoped>\n",
       "    .dataframe tbody tr th:only-of-type {\n",
       "        vertical-align: middle;\n",
       "    }\n",
       "\n",
       "    .dataframe tbody tr th {\n",
       "        vertical-align: top;\n",
       "    }\n",
       "\n",
       "    .dataframe thead th {\n",
       "        text-align: right;\n",
       "    }\n",
       "</style>\n",
       "<table border=\"1\" class=\"dataframe\">\n",
       "  <thead>\n",
       "    <tr style=\"text-align: right;\">\n",
       "      <th></th>\n",
       "      <th>user_id</th>\n",
       "      <th>name</th>\n",
       "      <th>age</th>\n",
       "      <th>city</th>\n",
       "      <th>subscription_type</th>\n",
       "      <th>distance</th>\n",
       "      <th>duration</th>\n",
       "      <th>date</th>\n",
       "      <th>month</th>\n",
       "      <th>minute_price</th>\n",
       "      <th>start_ride_price</th>\n",
       "      <th>subscription_fee</th>\n",
       "    </tr>\n",
       "  </thead>\n",
       "  <tbody>\n",
       "    <tr>\n",
       "      <th>0</th>\n",
       "      <td>1</td>\n",
       "      <td>Кира</td>\n",
       "      <td>22</td>\n",
       "      <td>Тюмень</td>\n",
       "      <td>ultra</td>\n",
       "      <td>4409.919140</td>\n",
       "      <td>26.0</td>\n",
       "      <td>2021-01-01</td>\n",
       "      <td>1</td>\n",
       "      <td>6</td>\n",
       "      <td>0</td>\n",
       "      <td>199</td>\n",
       "    </tr>\n",
       "    <tr>\n",
       "      <th>1</th>\n",
       "      <td>1</td>\n",
       "      <td>Кира</td>\n",
       "      <td>22</td>\n",
       "      <td>Тюмень</td>\n",
       "      <td>ultra</td>\n",
       "      <td>2617.592153</td>\n",
       "      <td>16.0</td>\n",
       "      <td>2021-01-18</td>\n",
       "      <td>1</td>\n",
       "      <td>6</td>\n",
       "      <td>0</td>\n",
       "      <td>199</td>\n",
       "    </tr>\n",
       "    <tr>\n",
       "      <th>2</th>\n",
       "      <td>1</td>\n",
       "      <td>Кира</td>\n",
       "      <td>22</td>\n",
       "      <td>Тюмень</td>\n",
       "      <td>ultra</td>\n",
       "      <td>754.159807</td>\n",
       "      <td>7.0</td>\n",
       "      <td>2021-04-20</td>\n",
       "      <td>4</td>\n",
       "      <td>6</td>\n",
       "      <td>0</td>\n",
       "      <td>199</td>\n",
       "    </tr>\n",
       "    <tr>\n",
       "      <th>3</th>\n",
       "      <td>1</td>\n",
       "      <td>Кира</td>\n",
       "      <td>22</td>\n",
       "      <td>Тюмень</td>\n",
       "      <td>ultra</td>\n",
       "      <td>2694.783254</td>\n",
       "      <td>19.0</td>\n",
       "      <td>2021-08-11</td>\n",
       "      <td>8</td>\n",
       "      <td>6</td>\n",
       "      <td>0</td>\n",
       "      <td>199</td>\n",
       "    </tr>\n",
       "    <tr>\n",
       "      <th>4</th>\n",
       "      <td>1</td>\n",
       "      <td>Кира</td>\n",
       "      <td>22</td>\n",
       "      <td>Тюмень</td>\n",
       "      <td>ultra</td>\n",
       "      <td>4028.687306</td>\n",
       "      <td>27.0</td>\n",
       "      <td>2021-08-28</td>\n",
       "      <td>8</td>\n",
       "      <td>6</td>\n",
       "      <td>0</td>\n",
       "      <td>199</td>\n",
       "    </tr>\n",
       "  </tbody>\n",
       "</table>\n",
       "</div>"
      ],
      "text/plain": [
       "   user_id  name  age    city subscription_type     distance  duration  \\\n",
       "0        1  Кира   22  Тюмень             ultra  4409.919140      26.0   \n",
       "1        1  Кира   22  Тюмень             ultra  2617.592153      16.0   \n",
       "2        1  Кира   22  Тюмень             ultra   754.159807       7.0   \n",
       "3        1  Кира   22  Тюмень             ultra  2694.783254      19.0   \n",
       "4        1  Кира   22  Тюмень             ultra  4028.687306      27.0   \n",
       "\n",
       "        date  month  minute_price  start_ride_price  subscription_fee  \n",
       "0 2021-01-01      1             6                 0               199  \n",
       "1 2021-01-18      1             6                 0               199  \n",
       "2 2021-04-20      4             6                 0               199  \n",
       "3 2021-08-11      8             6                 0               199  \n",
       "4 2021-08-28      8             6                 0               199  "
      ]
     },
     "metadata": {},
     "output_type": "display_data"
    }
   ],
   "source": [
    "user_rides = pd.merge(df_users, df_rides, on='user_id', how='inner')\n",
    "\n",
    "full_data = pd.merge(user_rides, df_subsc, on='subscription_type', how='left')\n",
    "\n",
    "display(full_data.head())"
   ]
  },
  {
   "cell_type": "markdown",
   "id": "bb03c9ba",
   "metadata": {},
   "source": [
    "***4.2 Создайте ещё два датафрейма из датафрейма, созданного на этапе 4.1:***\n",
    "- c данными о пользователях без подписки;\n",
    "- с данными о пользователях с подпиской."
   ]
  },
  {
   "cell_type": "code",
   "execution_count": 25,
   "id": "d035ab3f",
   "metadata": {},
   "outputs": [],
   "source": [
    "non_subscribers = full_data[full_data['subscription_type'] == 'free']"
   ]
  },
  {
   "cell_type": "code",
   "execution_count": 26,
   "id": "abcf7676",
   "metadata": {},
   "outputs": [],
   "source": [
    "subscribers = full_data[full_data['subscription_type'] == 'ultra']"
   ]
  },
  {
   "cell_type": "code",
   "execution_count": 27,
   "id": "84fb7ee7",
   "metadata": {},
   "outputs": [
    {
     "name": "stdout",
     "output_type": "stream",
     "text": [
      "Пользователи без подписки:\n"
     ]
    },
    {
     "data": {
      "text/html": [
       "<div>\n",
       "<style scoped>\n",
       "    .dataframe tbody tr th:only-of-type {\n",
       "        vertical-align: middle;\n",
       "    }\n",
       "\n",
       "    .dataframe tbody tr th {\n",
       "        vertical-align: top;\n",
       "    }\n",
       "\n",
       "    .dataframe thead th {\n",
       "        text-align: right;\n",
       "    }\n",
       "</style>\n",
       "<table border=\"1\" class=\"dataframe\">\n",
       "  <thead>\n",
       "    <tr style=\"text-align: right;\">\n",
       "      <th></th>\n",
       "      <th>user_id</th>\n",
       "      <th>name</th>\n",
       "      <th>age</th>\n",
       "      <th>city</th>\n",
       "      <th>subscription_type</th>\n",
       "      <th>distance</th>\n",
       "      <th>duration</th>\n",
       "      <th>date</th>\n",
       "      <th>month</th>\n",
       "      <th>minute_price</th>\n",
       "      <th>start_ride_price</th>\n",
       "      <th>subscription_fee</th>\n",
       "    </tr>\n",
       "  </thead>\n",
       "  <tbody>\n",
       "    <tr>\n",
       "      <th>6500</th>\n",
       "      <td>700</td>\n",
       "      <td>Айдар</td>\n",
       "      <td>22</td>\n",
       "      <td>Омск</td>\n",
       "      <td>free</td>\n",
       "      <td>2515.690719</td>\n",
       "      <td>15.0</td>\n",
       "      <td>2021-01-02</td>\n",
       "      <td>1</td>\n",
       "      <td>8</td>\n",
       "      <td>50</td>\n",
       "      <td>0</td>\n",
       "    </tr>\n",
       "    <tr>\n",
       "      <th>6501</th>\n",
       "      <td>700</td>\n",
       "      <td>Айдар</td>\n",
       "      <td>22</td>\n",
       "      <td>Омск</td>\n",
       "      <td>free</td>\n",
       "      <td>846.932642</td>\n",
       "      <td>17.0</td>\n",
       "      <td>2021-02-01</td>\n",
       "      <td>2</td>\n",
       "      <td>8</td>\n",
       "      <td>50</td>\n",
       "      <td>0</td>\n",
       "    </tr>\n",
       "    <tr>\n",
       "      <th>6502</th>\n",
       "      <td>700</td>\n",
       "      <td>Айдар</td>\n",
       "      <td>22</td>\n",
       "      <td>Омск</td>\n",
       "      <td>free</td>\n",
       "      <td>4004.434142</td>\n",
       "      <td>21.0</td>\n",
       "      <td>2021-02-04</td>\n",
       "      <td>2</td>\n",
       "      <td>8</td>\n",
       "      <td>50</td>\n",
       "      <td>0</td>\n",
       "    </tr>\n",
       "    <tr>\n",
       "      <th>6503</th>\n",
       "      <td>700</td>\n",
       "      <td>Айдар</td>\n",
       "      <td>22</td>\n",
       "      <td>Омск</td>\n",
       "      <td>free</td>\n",
       "      <td>1205.911290</td>\n",
       "      <td>10.0</td>\n",
       "      <td>2021-02-10</td>\n",
       "      <td>2</td>\n",
       "      <td>8</td>\n",
       "      <td>50</td>\n",
       "      <td>0</td>\n",
       "    </tr>\n",
       "    <tr>\n",
       "      <th>6504</th>\n",
       "      <td>700</td>\n",
       "      <td>Айдар</td>\n",
       "      <td>22</td>\n",
       "      <td>Омск</td>\n",
       "      <td>free</td>\n",
       "      <td>3047.379435</td>\n",
       "      <td>18.0</td>\n",
       "      <td>2021-02-14</td>\n",
       "      <td>2</td>\n",
       "      <td>8</td>\n",
       "      <td>50</td>\n",
       "      <td>0</td>\n",
       "    </tr>\n",
       "  </tbody>\n",
       "</table>\n",
       "</div>"
      ],
      "text/plain": [
       "      user_id   name  age  city subscription_type     distance  duration  \\\n",
       "6500      700  Айдар   22  Омск              free  2515.690719      15.0   \n",
       "6501      700  Айдар   22  Омск              free   846.932642      17.0   \n",
       "6502      700  Айдар   22  Омск              free  4004.434142      21.0   \n",
       "6503      700  Айдар   22  Омск              free  1205.911290      10.0   \n",
       "6504      700  Айдар   22  Омск              free  3047.379435      18.0   \n",
       "\n",
       "           date  month  minute_price  start_ride_price  subscription_fee  \n",
       "6500 2021-01-02      1             8                50                 0  \n",
       "6501 2021-02-01      2             8                50                 0  \n",
       "6502 2021-02-04      2             8                50                 0  \n",
       "6503 2021-02-10      2             8                50                 0  \n",
       "6504 2021-02-14      2             8                50                 0  "
      ]
     },
     "metadata": {},
     "output_type": "display_data"
    }
   ],
   "source": [
    "print(\"Пользователи без подписки:\")\n",
    "display(non_subscribers.head())"
   ]
  },
  {
   "cell_type": "code",
   "execution_count": 28,
   "id": "34c146b2",
   "metadata": {},
   "outputs": [
    {
     "name": "stdout",
     "output_type": "stream",
     "text": [
      "Пользователи с подпиской:\n"
     ]
    },
    {
     "data": {
      "text/html": [
       "<div>\n",
       "<style scoped>\n",
       "    .dataframe tbody tr th:only-of-type {\n",
       "        vertical-align: middle;\n",
       "    }\n",
       "\n",
       "    .dataframe tbody tr th {\n",
       "        vertical-align: top;\n",
       "    }\n",
       "\n",
       "    .dataframe thead th {\n",
       "        text-align: right;\n",
       "    }\n",
       "</style>\n",
       "<table border=\"1\" class=\"dataframe\">\n",
       "  <thead>\n",
       "    <tr style=\"text-align: right;\">\n",
       "      <th></th>\n",
       "      <th>user_id</th>\n",
       "      <th>name</th>\n",
       "      <th>age</th>\n",
       "      <th>city</th>\n",
       "      <th>subscription_type</th>\n",
       "      <th>distance</th>\n",
       "      <th>duration</th>\n",
       "      <th>date</th>\n",
       "      <th>month</th>\n",
       "      <th>minute_price</th>\n",
       "      <th>start_ride_price</th>\n",
       "      <th>subscription_fee</th>\n",
       "    </tr>\n",
       "  </thead>\n",
       "  <tbody>\n",
       "    <tr>\n",
       "      <th>0</th>\n",
       "      <td>1</td>\n",
       "      <td>Кира</td>\n",
       "      <td>22</td>\n",
       "      <td>Тюмень</td>\n",
       "      <td>ultra</td>\n",
       "      <td>4409.919140</td>\n",
       "      <td>26.0</td>\n",
       "      <td>2021-01-01</td>\n",
       "      <td>1</td>\n",
       "      <td>6</td>\n",
       "      <td>0</td>\n",
       "      <td>199</td>\n",
       "    </tr>\n",
       "    <tr>\n",
       "      <th>1</th>\n",
       "      <td>1</td>\n",
       "      <td>Кира</td>\n",
       "      <td>22</td>\n",
       "      <td>Тюмень</td>\n",
       "      <td>ultra</td>\n",
       "      <td>2617.592153</td>\n",
       "      <td>16.0</td>\n",
       "      <td>2021-01-18</td>\n",
       "      <td>1</td>\n",
       "      <td>6</td>\n",
       "      <td>0</td>\n",
       "      <td>199</td>\n",
       "    </tr>\n",
       "    <tr>\n",
       "      <th>2</th>\n",
       "      <td>1</td>\n",
       "      <td>Кира</td>\n",
       "      <td>22</td>\n",
       "      <td>Тюмень</td>\n",
       "      <td>ultra</td>\n",
       "      <td>754.159807</td>\n",
       "      <td>7.0</td>\n",
       "      <td>2021-04-20</td>\n",
       "      <td>4</td>\n",
       "      <td>6</td>\n",
       "      <td>0</td>\n",
       "      <td>199</td>\n",
       "    </tr>\n",
       "    <tr>\n",
       "      <th>3</th>\n",
       "      <td>1</td>\n",
       "      <td>Кира</td>\n",
       "      <td>22</td>\n",
       "      <td>Тюмень</td>\n",
       "      <td>ultra</td>\n",
       "      <td>2694.783254</td>\n",
       "      <td>19.0</td>\n",
       "      <td>2021-08-11</td>\n",
       "      <td>8</td>\n",
       "      <td>6</td>\n",
       "      <td>0</td>\n",
       "      <td>199</td>\n",
       "    </tr>\n",
       "    <tr>\n",
       "      <th>4</th>\n",
       "      <td>1</td>\n",
       "      <td>Кира</td>\n",
       "      <td>22</td>\n",
       "      <td>Тюмень</td>\n",
       "      <td>ultra</td>\n",
       "      <td>4028.687306</td>\n",
       "      <td>27.0</td>\n",
       "      <td>2021-08-28</td>\n",
       "      <td>8</td>\n",
       "      <td>6</td>\n",
       "      <td>0</td>\n",
       "      <td>199</td>\n",
       "    </tr>\n",
       "  </tbody>\n",
       "</table>\n",
       "</div>"
      ],
      "text/plain": [
       "   user_id  name  age    city subscription_type     distance  duration  \\\n",
       "0        1  Кира   22  Тюмень             ultra  4409.919140      26.0   \n",
       "1        1  Кира   22  Тюмень             ultra  2617.592153      16.0   \n",
       "2        1  Кира   22  Тюмень             ultra   754.159807       7.0   \n",
       "3        1  Кира   22  Тюмень             ultra  2694.783254      19.0   \n",
       "4        1  Кира   22  Тюмень             ultra  4028.687306      27.0   \n",
       "\n",
       "        date  month  minute_price  start_ride_price  subscription_fee  \n",
       "0 2021-01-01      1             6                 0               199  \n",
       "1 2021-01-18      1             6                 0               199  \n",
       "2 2021-04-20      4             6                 0               199  \n",
       "3 2021-08-11      8             6                 0               199  \n",
       "4 2021-08-28      8             6                 0               199  "
      ]
     },
     "metadata": {},
     "output_type": "display_data"
    }
   ],
   "source": [
    "print(\"Пользователи с подпиской:\")\n",
    "display(subscribers.head())"
   ]
  },
  {
   "cell_type": "markdown",
   "id": "e7be45f2",
   "metadata": {},
   "source": [
    "***4.3 Визуализируйте информацию о расстоянии и времени поездок для пользователей обеих категорий.***"
   ]
  },
  {
   "cell_type": "code",
   "execution_count": 29,
   "id": "a172fdfd",
   "metadata": {},
   "outputs": [
    {
     "data": {
      "image/png": "[encoded data removed]",
      "text/plain": [
       "<Figure size 432x288 with 1 Axes>"
      ]
     },
     "metadata": {
      "needs_background": "light"
     },
     "output_type": "display_data"
    }
   ],
   "source": [
    "plt.hist(non_subscribers['distance'], bins=20, alpha=0.5, label='Без подписки', edgecolor='black')\n",
    "\n",
    "plt.hist(subscribers['distance'], bins=20, alpha=0.5, label='С подпиской', edgecolor='black')\n",
    "\n",
    "plt.title('Распределение расстояний поездок')\n",
    "plt.xlabel('Расстояние (метры)')\n",
    "plt.ylabel('Количество поездок')\n",
    "plt.legend()\n",
    "plt.grid(True)\n",
    "plt.show()"
   ]
  },
  {
   "cell_type": "code",
   "execution_count": 30,
   "id": "bbab19c9",
   "metadata": {},
   "outputs": [
    {
     "data": {
      "image/png": "[encoded data removed]",
      "text/plain": [
       "<Figure size 432x288 with 1 Axes>"
      ]
     },
     "metadata": {
      "needs_background": "light"
     },
     "output_type": "display_data"
    }
   ],
   "source": [
    "plt.hist(non_subscribers['duration'], bins=20, alpha=0.5, label='Без подписки', edgecolor='black')\n",
    "\n",
    "plt.hist(subscribers['duration'], bins=20, alpha=0.5, label='С подпиской', edgecolor='black')\n",
    "\n",
    "plt.title('Распределение времени поездок')\n",
    "plt.xlabel('Продолжительность (минуты)')\n",
    "plt.ylabel('Количество поездок')\n",
    "plt.legend()\n",
    "plt.grid(True)\n",
    "plt.show()"
   ]
  },
  {
   "cell_type": "markdown",
   "id": "8cd8682b",
   "metadata": {},
   "source": [
    "***Вывод***\n",
    "\n",
    "Мы объединили данные о пользователях, поездках и подписках в один датафрейм.\n",
    "Разделили пользователей на две группы: с подпиской и без.\n",
    "Построили графики для анализа расстояний и времени поездок для обеих групп. Эти визуализации помогут сравнить поведение пользователей с подпиской и без."
   ]
  },
  {
   "cell_type": "markdown",
   "id": "02a2739a",
   "metadata": {},
   "source": [
    "#### Шаг 5. Подсчёт выручки"
   ]
  },
  {
   "cell_type": "markdown",
   "id": "e6232de1",
   "metadata": {},
   "source": [
    "***5.1 Создайте датафрейм с агрегированными данными о поездках на основе датафрейма с объединёнными данными из шага 4: найдите суммарное расстояние, количество поездок и суммарное время для каждого пользователя за каждый месяц.***"
   ]
  },
  {
   "cell_type": "code",
   "execution_count": 31,
   "id": "3204c38a",
   "metadata": {},
   "outputs": [
    {
     "data": {
      "text/html": [
       "<div>\n",
       "<style scoped>\n",
       "    .dataframe tbody tr th:only-of-type {\n",
       "        vertical-align: middle;\n",
       "    }\n",
       "\n",
       "    .dataframe tbody tr th {\n",
       "        vertical-align: top;\n",
       "    }\n",
       "\n",
       "    .dataframe thead th {\n",
       "        text-align: right;\n",
       "    }\n",
       "</style>\n",
       "<table border=\"1\" class=\"dataframe\">\n",
       "  <thead>\n",
       "    <tr style=\"text-align: right;\">\n",
       "      <th></th>\n",
       "      <th>month</th>\n",
       "      <th>subscription_type</th>\n",
       "      <th>distance</th>\n",
       "      <th>duration</th>\n",
       "      <th>trip_count</th>\n",
       "      <th>minute_price</th>\n",
       "      <th>start_ride_price</th>\n",
       "      <th>subscription_fee</th>\n",
       "    </tr>\n",
       "  </thead>\n",
       "  <tbody>\n",
       "    <tr>\n",
       "      <th>0</th>\n",
       "      <td>1</td>\n",
       "      <td>ultra</td>\n",
       "      <td>7027.511294</td>\n",
       "      <td>42.0</td>\n",
       "      <td>2</td>\n",
       "      <td>6</td>\n",
       "      <td>0</td>\n",
       "      <td>199</td>\n",
       "    </tr>\n",
       "    <tr>\n",
       "      <th>1</th>\n",
       "      <td>4</td>\n",
       "      <td>ultra</td>\n",
       "      <td>754.159807</td>\n",
       "      <td>7.0</td>\n",
       "      <td>1</td>\n",
       "      <td>6</td>\n",
       "      <td>0</td>\n",
       "      <td>199</td>\n",
       "    </tr>\n",
       "    <tr>\n",
       "      <th>2</th>\n",
       "      <td>8</td>\n",
       "      <td>ultra</td>\n",
       "      <td>6723.470560</td>\n",
       "      <td>46.0</td>\n",
       "      <td>2</td>\n",
       "      <td>6</td>\n",
       "      <td>0</td>\n",
       "      <td>199</td>\n",
       "    </tr>\n",
       "    <tr>\n",
       "      <th>3</th>\n",
       "      <td>10</td>\n",
       "      <td>ultra</td>\n",
       "      <td>5809.911100</td>\n",
       "      <td>32.0</td>\n",
       "      <td>2</td>\n",
       "      <td>6</td>\n",
       "      <td>0</td>\n",
       "      <td>199</td>\n",
       "    </tr>\n",
       "    <tr>\n",
       "      <th>4</th>\n",
       "      <td>11</td>\n",
       "      <td>ultra</td>\n",
       "      <td>7003.499363</td>\n",
       "      <td>56.0</td>\n",
       "      <td>3</td>\n",
       "      <td>6</td>\n",
       "      <td>0</td>\n",
       "      <td>199</td>\n",
       "    </tr>\n",
       "  </tbody>\n",
       "</table>\n",
       "</div>"
      ],
      "text/plain": [
       "   month subscription_type     distance  duration  trip_count  minute_price  \\\n",
       "0      1             ultra  7027.511294      42.0           2             6   \n",
       "1      4             ultra   754.159807       7.0           1             6   \n",
       "2      8             ultra  6723.470560      46.0           2             6   \n",
       "3     10             ultra  5809.911100      32.0           2             6   \n",
       "4     11             ultra  7003.499363      56.0           3             6   \n",
       "\n",
       "   start_ride_price  subscription_fee  \n",
       "0                 0               199  \n",
       "1                 0               199  \n",
       "2                 0               199  \n",
       "3                 0               199  \n",
       "4                 0               199  "
      ]
     },
     "metadata": {},
     "output_type": "display_data"
    }
   ],
   "source": [
    "data = full_data.groupby(['user_id', 'month', 'subscription_type'], as_index=False).agg({\n",
    "    'distance': 'sum',\n",
    "    'duration': 'sum',\n",
    "    'user_id': 'count'\n",
    "}).rename(columns={'user_id': 'trip_count'})\n",
    "\n",
    "# Присоединяем таблицу с тарифами для подписки\n",
    "data = data.merge(df_subsc[['subscription_type', 'minute_price', 'start_ride_price', 'subscription_fee']], \n",
    "                  on='subscription_type', how='left')\n",
    "\n",
    "display(data.head())"
   ]
  },
  {
   "cell_type": "markdown",
   "id": "00087e6a",
   "metadata": {},
   "source": [
    "Добавл информацию о стоимости минуты, старте поездки и абонентской плате из таблицы подписок сразу на этом этапе, чтобы она была доступна в следующем шаге"
   ]
  },
  {
   "cell_type": "markdown",
   "id": "89c1084f",
   "metadata": {},
   "source": [
    "***5.2 В этот же датафрейм добавьте столбец с помесячной выручкой, которую принёс каждый пользователь. Для этого обратитесь к информации об условиях оплаты для подписчиков и тех, у кого нет подписки. Продолжительность каждой поездки в каждой строке исходного датафрейма для подсчёта стоимости округляется до следующего целого числа: например, значения 25.3, 25.5 и 26.0 должны быть преобразованы к 26.***"
   ]
  },
  {
   "cell_type": "code",
   "execution_count": 32,
   "id": "486f0c8d",
   "metadata": {},
   "outputs": [
    {
     "data": {
      "text/html": [
       "<div>\n",
       "<style scoped>\n",
       "    .dataframe tbody tr th:only-of-type {\n",
       "        vertical-align: middle;\n",
       "    }\n",
       "\n",
       "    .dataframe tbody tr th {\n",
       "        vertical-align: top;\n",
       "    }\n",
       "\n",
       "    .dataframe thead th {\n",
       "        text-align: right;\n",
       "    }\n",
       "</style>\n",
       "<table border=\"1\" class=\"dataframe\">\n",
       "  <thead>\n",
       "    <tr style=\"text-align: right;\">\n",
       "      <th></th>\n",
       "      <th>month</th>\n",
       "      <th>subscription_type</th>\n",
       "      <th>distance</th>\n",
       "      <th>duration</th>\n",
       "      <th>trip_count</th>\n",
       "      <th>minute_price</th>\n",
       "      <th>start_ride_price</th>\n",
       "      <th>subscription_fee</th>\n",
       "      <th>revenue</th>\n",
       "    </tr>\n",
       "  </thead>\n",
       "  <tbody>\n",
       "    <tr>\n",
       "      <th>0</th>\n",
       "      <td>1</td>\n",
       "      <td>ultra</td>\n",
       "      <td>7027.511294</td>\n",
       "      <td>42.0</td>\n",
       "      <td>2</td>\n",
       "      <td>6</td>\n",
       "      <td>0</td>\n",
       "      <td>199</td>\n",
       "      <td>451.0</td>\n",
       "    </tr>\n",
       "    <tr>\n",
       "      <th>1</th>\n",
       "      <td>4</td>\n",
       "      <td>ultra</td>\n",
       "      <td>754.159807</td>\n",
       "      <td>7.0</td>\n",
       "      <td>1</td>\n",
       "      <td>6</td>\n",
       "      <td>0</td>\n",
       "      <td>199</td>\n",
       "      <td>241.0</td>\n",
       "    </tr>\n",
       "    <tr>\n",
       "      <th>2</th>\n",
       "      <td>8</td>\n",
       "      <td>ultra</td>\n",
       "      <td>6723.470560</td>\n",
       "      <td>46.0</td>\n",
       "      <td>2</td>\n",
       "      <td>6</td>\n",
       "      <td>0</td>\n",
       "      <td>199</td>\n",
       "      <td>475.0</td>\n",
       "    </tr>\n",
       "    <tr>\n",
       "      <th>3</th>\n",
       "      <td>10</td>\n",
       "      <td>ultra</td>\n",
       "      <td>5809.911100</td>\n",
       "      <td>32.0</td>\n",
       "      <td>2</td>\n",
       "      <td>6</td>\n",
       "      <td>0</td>\n",
       "      <td>199</td>\n",
       "      <td>391.0</td>\n",
       "    </tr>\n",
       "    <tr>\n",
       "      <th>4</th>\n",
       "      <td>11</td>\n",
       "      <td>ultra</td>\n",
       "      <td>7003.499363</td>\n",
       "      <td>56.0</td>\n",
       "      <td>3</td>\n",
       "      <td>6</td>\n",
       "      <td>0</td>\n",
       "      <td>199</td>\n",
       "      <td>535.0</td>\n",
       "    </tr>\n",
       "  </tbody>\n",
       "</table>\n",
       "</div>"
      ],
      "text/plain": [
       "   month subscription_type     distance  duration  trip_count  minute_price  \\\n",
       "0      1             ultra  7027.511294      42.0           2             6   \n",
       "1      4             ultra   754.159807       7.0           1             6   \n",
       "2      8             ultra  6723.470560      46.0           2             6   \n",
       "3     10             ultra  5809.911100      32.0           2             6   \n",
       "4     11             ultra  7003.499363      56.0           3             6   \n",
       "\n",
       "   start_ride_price  subscription_fee  revenue  \n",
       "0                 0               199    451.0  \n",
       "1                 0               199    241.0  \n",
       "2                 0               199    475.0  \n",
       "3                 0               199    391.0  \n",
       "4                 0               199    535.0  "
      ]
     },
     "metadata": {},
     "output_type": "display_data"
    }
   ],
   "source": [
    "data['revenue'] = (data['duration'] * data['minute_price']) + (data['trip_count'] * data['start_ride_price']) + data['subscription_fee'].fillna(0)\n",
    "\n",
    "display(data.head())"
   ]
  },
  {
   "cell_type": "code",
   "execution_count": 33,
   "id": "6ce0e030",
   "metadata": {},
   "outputs": [
    {
     "data": {
      "text/plain": [
       "3878641.0"
      ]
     },
     "execution_count": 33,
     "metadata": {},
     "output_type": "execute_result"
    }
   ],
   "source": [
    "data['revenue'].sum()"
   ]
  },
  {
   "cell_type": "markdown",
   "id": "47ef35df",
   "metadata": {},
   "source": [
    "***Вывод***\n",
    "\n",
    "1. Агрегирование данных:\n",
    "\n",
    "    - Мы создали агрегированный датафрейм, который содержит информацию по каждому пользователю за каждый месяц. Включены данные о суммарном расстоянии, количестве поездок и суммарном времени поездок (в минутах).\n",
    "    - Например, в строках видно, что в первом месяце пользователь с подпиской проехал 7027.51 метров за 42 минуты и совершил 2 поездки.\n",
    "\n",
    "\n",
    "2. Расчёт выручки:\n",
    "\n",
    "    - Умножаем продолжительность поездок `duration` на стоимость минуты `minute_price`.\n",
    "    - Добавляем количество поездок `trip_count`, умноженное на стоимость старта поездки `start_ride_price`.\n",
    "    - Добавляем абонентскую плату `subscription_fee`.\n",
    "    - Используем fillna(0) для пользователей без подписки, так как у них нет ежемесячной платы за нее. И чтобы корректно посичтать ее, заменяем их на 0.\n",
    "\n",
    "\n",
    "3. Общая выручка:\n",
    "\n",
    "    - Суммарная выручка по всем пользователям и месяцам составляет 3878641 рубль, что отражает общий доход, который сервис GoFast получил за выбранный период от пользователей с подпиской."
   ]
  },
  {
   "cell_type": "markdown",
   "id": "221281b9",
   "metadata": {},
   "source": [
    "#### Шаг 6. Проверка гипотез"
   ]
  },
  {
   "cell_type": "markdown",
   "id": "8311f171",
   "metadata": {},
   "source": [
    "***6.1 Важно понять, тратят ли пользователи с подпиской больше времени на поездки? Если да, то пользователи с подпиской могут быть «выгоднее» для компании. Проверьте гипотезу. Используйте исходные данные о продолжительности каждой сессии — отдельно для подписчиков и тех, у кого нет подписки.***"
   ]
  },
  {
   "cell_type": "markdown",
   "id": "78ab14cd",
   "metadata": {},
   "source": [
    "Гипотезы:\n",
    "- Нулевая гипотеза: Среднее время поездок пользователей с подпиской и без подписки одинаково.\n",
    "- Альтернативная гипотеза: Пользователи с подпиской тратят больше времени на поездки."
   ]
  },
  {
   "cell_type": "code",
   "execution_count": 34,
   "id": "305cd9b2",
   "metadata": {},
   "outputs": [
    {
     "name": "stdout",
     "output_type": "stream",
     "text": [
      "T-statistic: 12.624855\n",
      "P-value: 2.3629358507402705e-36\n",
      "Нулевая гипотеза отклонена: пользователи с подпиской тратят больше времени на поездки.\n"
     ]
    }
   ],
   "source": [
    "ultra_duration = subscribers['duration']\n",
    "free_duration = non_subscribers['duration']\n",
    "\n",
    "t_stat, p_value = st.ttest_ind(ultra_duration, free_duration, equal_var=False)\n",
    "\n",
    "print(f\"T-statistic: {t_stat:.6f}\")\n",
    "print(f\"P-value: {p_value}\") # В этой строке не стал применять форматирование строк из-за очень маленького значения\n",
    "\n",
    "if p_value < 0.05:\n",
    "    print(\"Нулевая гипотеза отклонена: пользователи с подпиской тратят больше времени на поездки.\")\n",
    "else:\n",
    "    print(\"Нулевая гипотеза не отклонена: пользователи с подпиской не тратят больше времени на поездки.\")"
   ]
  },
  {
   "cell_type": "markdown",
   "id": "2df943cf",
   "metadata": {},
   "source": [
    "***Вывод:***\n",
    "\n",
    "Пользователи с подпиской действительно тратят больше времени на поездки по сравнению с пользователями без подписки. Это делает их более \"выгодными\" для компании, так как они проводят больше времени, используя сервис."
   ]
  },
  {
   "cell_type": "markdown",
   "id": "3f3563f5",
   "metadata": {},
   "source": [
    "***6.2 Расстояние одной поездки в 3130 метров — оптимальное с точки зрения износа самоката. Можно ли сказать, что среднее расстояние, которое проезжают пользователи с подпиской за одну поездку, не превышает 3130 метров? Проверьте гипотезу и сделайте выводы.***"
   ]
  },
  {
   "cell_type": "markdown",
   "id": "8895db26",
   "metadata": {},
   "source": [
    "Гипотезы:\n",
    "\n",
    "- Нулевая гипотеза: Среднее расстояние пользователей с подпиской меньше или равно 3130 метров.\n",
    "- Альтернативная гипотеза: Среднее расстояние пользователей с подпиской превышает 3130 метров."
   ]
  },
  {
   "cell_type": "code",
   "execution_count": 35,
   "id": "10d402fc",
   "metadata": {},
   "outputs": [
    {
     "name": "stdout",
     "output_type": "stream",
     "text": [
      "T-statistic: -1.402123\n",
      "P-value: 0.919537\n",
      "Нулевая гипотеза не отклонена: среднее расстояние пользователей с подпиской не превышает 3130 метров.\n"
     ]
    }
   ],
   "source": [
    "ultra_distance = subscribers['distance']\n",
    "\n",
    "t_stat, p_value = st.ttest_1samp(ultra_distance, 3130, alternative='greater')\n",
    "\n",
    "print(f\"T-statistic: {t_stat:.6f}\")\n",
    "print(f\"P-value: {p_value:.6f}\")\n",
    "\n",
    "if p_value < 0.05:\n",
    "    print(\"Нулевая гипотеза отклонена: среднее расстояние пользователей с подпиской превышает 3130 метров.\")\n",
    "else:\n",
    "    print(\"Нулевая гипотеза не отклонена: среднее расстояние пользователей с подпиской не превышает 3130 метров.\")"
   ]
  },
  {
   "cell_type": "markdown",
   "id": "7f834354",
   "metadata": {},
   "source": [
    "***Вывод:***\n",
    "\n",
    "На основании полученных данных можно сделать вывод, что среднее расстояние поездки пользователей с подпиской не превышает оптимального значения в 3130 метров. Следовательно, с точки зрения износа самокатов, пользователи с подпиской проезжают расстояния, которые укладываются в допустимые пределы."
   ]
  },
  {
   "cell_type": "markdown",
   "id": "62e0b46f",
   "metadata": {},
   "source": [
    "***6.3 Проверьте гипотезу о том, будет ли помесячная выручка от пользователей с подпиской по месяцам выше, чем выручка от пользователей без подписки. Сделайте вывод.***"
   ]
  },
  {
   "cell_type": "markdown",
   "id": "9ab9f6b7",
   "metadata": {},
   "source": [
    "Гипотезы:\n",
    "\n",
    "- Нулевая гипотеза: Средняя помесячная выручка от пользователей с подпиской не выше выручки от пользователей без подписки.\n",
    "- Альтернативная гипотеза: Средняя помесячная выручка от пользователей с подпиской выше, чем выручка от пользователей без подписки."
   ]
  },
  {
   "cell_type": "code",
   "execution_count": 36,
   "id": "70dcdf4e",
   "metadata": {},
   "outputs": [
    {
     "name": "stdout",
     "output_type": "stream",
     "text": [
      "T-statistic: 13.201755\n",
      "P-value: 8.874140893976874e-40\n",
      "Нулевая гипотеза отклонена: помесячная выручка от пользователей с подпиской выше.\n"
     ]
    }
   ],
   "source": [
    "ultra_revenue = data[data['subscription_type'] == 'ultra']['revenue']\n",
    "free_revenue = data[data['subscription_type'] == 'free']['revenue']\n",
    "\n",
    "t_stat, p_value = st.ttest_ind(ultra_revenue, free_revenue, equal_var=False, alternative='greater')\n",
    "\n",
    "print(f\"T-statistic: {t_stat:.6f}\")\n",
    "print(f\"P-value: {p_value:}\") # В этой строке не стал применять форматирование строк из-за очень маленького значения\n",
    "\n",
    "if p_value < 0.05:\n",
    "    print(\"Нулевая гипотеза отклонена: помесячная выручка от пользователей с подпиской выше.\")\n",
    "else:\n",
    "    print(\"Нулевая гипотеза не отклонена: помесячная выручка от пользователей с подпиской не выше.\")"
   ]
  },
  {
   "cell_type": "markdown",
   "id": "7f5d0ecc",
   "metadata": {},
   "source": [
    "***Вывод:***\n",
    "\n",
    "Помесячная выручка от пользователей с подпиской действительно выше, чем выручка от пользователей без подписки. Этот результат может указывать на выгоду для компании от пользователей, которые оформляют подписку, поскольку они приносят больше дохода за месяц."
   ]
  },
  {
   "cell_type": "markdown",
   "id": "fec50604",
   "metadata": {},
   "source": [
    "***6.4 Представьте такую ситуацию: техническая команда сервиса обновила сервера, с которыми взаимодействует мобильное приложение. Она надеется, что из-за этого количество обращений в техподдержку значимо снизилось. Некоторый файл содержит для каждого пользователя данные о количестве обращений до обновления и после него. Какой тест вам понадобился бы для проверки этой гипотезы?***"
   ]
  },
  {
   "cell_type": "markdown",
   "id": "b1262daf",
   "metadata": {},
   "source": [
    "Гипотезы:\n",
    "\n",
    "- Нулевая гипотеза: Количество обращений в техподдержку после обновления серверов не изменилось или увеличилось.\n",
    "- Альтернативная гипотеза: Количество обращений в техподдержку снизилось после обновления серверов."
   ]
  },
  {
   "cell_type": "markdown",
   "id": "f8621538",
   "metadata": {},
   "source": [
    "Некоторый файл содержит данные о количестве обращений в техподдержку для каждого пользователя до обновления серверов и после обновления. Это парные наблюдения, так как для каждого пользователя есть две величины (до и после обновления).\n",
    "Поскольку мы сравниваем два связанных набора данных (до и после для одного и того же пользователя), используем парный t-тест (`stats.ttest_rel(alternative='greater')`).\n",
    "Мы используем параметр `alternative='greater'`, поскольку предполагаем, что количество обращений снизилось после обновления."
   ]
  },
  {
   "cell_type": "markdown",
   "id": "a251ef3d",
   "metadata": {},
   "source": [
    "***Общий вывод по проекту***\n",
    "\n",
    "***Шаг 1. Загрузка данных***: \n",
    "\n",
    "На первом шаге были загружены данные о пользователях, их поездках и подписках, а также информация о стоимости подписки. Данные были успешно считаны, и их структура проанализирована. Пропуски и дубликаты были обработаны. Это позволило подготовить данные для дальнейшей работы и анализа.\n",
    "\n",
    "***Шаг 2. Предобработка данных***: \n",
    "\n",
    "На этом шаге данные были предобработаны для удобства работы:\n",
    "\n",
    "- Привели столбец с датой поездки к нужному формату.\n",
    "- Создали новый столбец с номером месяца на основе даты поездки.\n",
    "- Округлили продолжительность поездок и расстояния для корректного подсчёта выручки. После обработки данные были очищены от дубликатов, что улучшило их качество.\n",
    "\n",
    "***Шаг 3. Исследовательский анализ данных:***\n",
    "\n",
    "Мы провели исследовательский анализ данных для понимания распределения пользователей и их поведения:\n",
    "\n",
    "- Проанализировали частоту городов: больше всего пользователей сервиса находится в Пятигорске, затем следуют Екатеринбург и Ростов-на-Дону.\n",
    "- Проанализировали соотношение пользователей с подпиской и без подписки: большинство пользователей используют сервис без подписки (54.4%), но доля пользователей с подпиской (45.6%) также значительна.\n",
    "- Исследовали распределение возрастов: большинство пользователей — молодёжь в возрасте от 20 до 30 лет.\n",
    "- Проанализировали расстояния и продолжительность поездок: среднее расстояние и время поездок варьируется, но большинство поездок укладывается в стандартные диапазоны, что помогает понять типичное использование сервиса.\n",
    "\n",
    "***Шаг 4. Объединение данных***: \n",
    "\n",
    "Мы объединили данные о пользователях, поездках и подписках для дальнейшего анализа. Затем разделили пользователей на две группы: с подпиской и без, чтобы изучить поведение каждой категории пользователей. Это позволило построить визуализации для сравнения расстояний и продолжительности поездок.\n",
    "\n",
    "***Шаг 5. Подсчёт выручки***: \n",
    "\n",
    "На этом шаге мы рассчитали выручку для каждого пользователя в зависимости от типа подписки. Пользователи с подпиской платят за поездки по льготным тарифам, а пользователи без подписки — по стандартным более высоким тарифам. \n",
    "\n",
    "Результаты показали:\n",
    "\n",
    "- Пользователи с подпиской приносят более стабильную выручку за счёт ежемесячной абонентской платы.\n",
    "- Выручка от пользователей без подписки зависит от частоты поездок и продолжительности поездок, что может приводить к более высоким доходам при частом использовании сервиса.\n",
    "\n",
    "***Шаг 6. Проверка гипотез***: \n",
    "\n",
    "Мы проверили несколько ключевых гипотез:\n",
    "\n",
    "- Продолжительность поездок: Пользователи с подпиской тратят больше времени на поездки, чем пользователи без подписки. Это делает их более выгодными для компании.\n",
    "- Среднее расстояние поездок: Среднее расстояние, которое проезжают пользователи с подпиской, не превышает 3130 метров, что означает, что они используют самокаты в пределах допустимого износа.\n",
    "- Помесячная выручка: Помесячная выручка от пользователей с подпиской значимо выше, чем выручка от пользователей без подписки. Это указывает на выгоду от подписочной модели.\n",
    "- Снижение количества обращений в техподдержку: Для проверки гипотезы о снижении количества обращений в техподдержку после обновления серверов был предложен парный t-тест(`stats.ttest_rel(alternative='greater')`).\n",
    "\n",
    "\n",
    "***Проведённый анализ показал, что***:\n",
    "\n",
    "1. Подписка делает пользователей более лояльными и активными, увеличивая время поездок и выручку.\n",
    "2. С точки зрения износа самокатов, подписчики используют сервис в пределах допустимых норм.\n",
    "3. Подписочная модель выгодна для компании, поскольку приносит большую и стабильную выручку по сравнению с пользователями, которые оплачивают поездки без подписки."
   ]
  }
 ],
 "metadata": {
  "ExecuteTimeLog": [
   {
    "duration": 578,
    "start_time": "2024-09-28T18:34:55.865Z"
   },
   {
    "duration": 8,
    "start_time": "2024-09-28T18:35:13.644Z"
   },
   {
    "duration": 379,
    "start_time": "2024-09-28T18:35:18.957Z"
   },
   {
    "duration": 493,
    "start_time": "2024-09-28T18:37:38.042Z"
   },
   {
    "duration": 15,
    "start_time": "2024-09-28T18:37:58.443Z"
   },
   {
    "duration": 14,
    "start_time": "2024-09-28T18:38:10.992Z"
   },
   {
    "duration": 11,
    "start_time": "2024-09-28T18:38:18.060Z"
   },
   {
    "duration": 11,
    "start_time": "2024-09-28T18:38:34.044Z"
   },
   {
    "duration": 513,
    "start_time": "2024-09-28T18:40:31.958Z"
   },
   {
    "duration": 112,
    "start_time": "2024-09-28T18:40:34.522Z"
   },
   {
    "duration": 51,
    "start_time": "2024-09-28T18:41:25.145Z"
   },
   {
    "duration": 13,
    "start_time": "2024-09-28T18:41:31.978Z"
   },
   {
    "duration": 12,
    "start_time": "2024-09-28T18:41:50.843Z"
   },
   {
    "duration": 6,
    "start_time": "2024-09-28T18:41:55.737Z"
   },
   {
    "duration": 6,
    "start_time": "2024-09-28T18:42:03.305Z"
   },
   {
    "duration": 6,
    "start_time": "2024-09-28T18:42:24.761Z"
   },
   {
    "duration": 3,
    "start_time": "2024-09-28T18:42:34.017Z"
   },
   {
    "duration": 6,
    "start_time": "2024-09-28T18:43:04.282Z"
   },
   {
    "duration": 6,
    "start_time": "2024-09-28T18:43:22.889Z"
   },
   {
    "duration": 7,
    "start_time": "2024-09-28T18:43:36.376Z"
   },
   {
    "duration": 6,
    "start_time": "2024-09-28T18:44:12.895Z"
   },
   {
    "duration": 7,
    "start_time": "2024-09-28T18:44:29.480Z"
   },
   {
    "duration": 14,
    "start_time": "2024-09-28T18:47:19.151Z"
   },
   {
    "duration": 7,
    "start_time": "2024-09-28T18:48:29.093Z"
   },
   {
    "duration": 10,
    "start_time": "2024-09-28T18:49:57.349Z"
   },
   {
    "duration": 6,
    "start_time": "2024-09-28T18:50:15.204Z"
   },
   {
    "duration": 10,
    "start_time": "2024-09-28T18:52:57.836Z"
   },
   {
    "duration": 9,
    "start_time": "2024-09-28T18:53:13.204Z"
   },
   {
    "duration": 12,
    "start_time": "2024-09-28T18:53:43.708Z"
   },
   {
    "duration": 9,
    "start_time": "2024-09-28T18:53:55.292Z"
   },
   {
    "duration": 9,
    "start_time": "2024-09-28T18:54:11.651Z"
   },
   {
    "duration": 13,
    "start_time": "2024-09-28T18:54:56.922Z"
   },
   {
    "duration": 88,
    "start_time": "2024-09-28T18:55:42.161Z"
   },
   {
    "duration": 10,
    "start_time": "2024-09-28T18:55:45.546Z"
   },
   {
    "duration": 9,
    "start_time": "2024-09-28T18:56:29.523Z"
   },
   {
    "duration": 10,
    "start_time": "2024-09-28T18:56:32.249Z"
   },
   {
    "duration": 12,
    "start_time": "2024-09-28T18:58:35.361Z"
   },
   {
    "duration": 465,
    "start_time": "2024-09-28T18:58:40.431Z"
   },
   {
    "duration": 9,
    "start_time": "2024-09-28T18:59:02.304Z"
   },
   {
    "duration": 6,
    "start_time": "2024-09-28T18:59:05.339Z"
   },
   {
    "duration": 5,
    "start_time": "2024-09-28T18:59:16.328Z"
   },
   {
    "duration": 102,
    "start_time": "2024-09-28T18:59:19.783Z"
   },
   {
    "duration": 10,
    "start_time": "2024-09-28T18:59:23.464Z"
   },
   {
    "duration": 104,
    "start_time": "2024-09-28T18:59:26.960Z"
   },
   {
    "duration": 12,
    "start_time": "2024-09-28T18:59:28.407Z"
   },
   {
    "duration": 6,
    "start_time": "2024-09-28T18:59:29.472Z"
   },
   {
    "duration": 5,
    "start_time": "2024-09-28T18:59:29.840Z"
   },
   {
    "duration": 12,
    "start_time": "2024-09-28T18:59:30.223Z"
   },
   {
    "duration": 7,
    "start_time": "2024-09-28T18:59:30.576Z"
   },
   {
    "duration": 9,
    "start_time": "2024-09-28T18:59:30.871Z"
   },
   {
    "duration": 11,
    "start_time": "2024-09-28T18:59:31.055Z"
   },
   {
    "duration": 5,
    "start_time": "2024-09-28T18:59:31.272Z"
   },
   {
    "duration": 5,
    "start_time": "2024-09-28T18:59:31.504Z"
   },
   {
    "duration": 8,
    "start_time": "2024-09-28T18:59:32.472Z"
   },
   {
    "duration": 8,
    "start_time": "2024-09-28T18:59:33.776Z"
   },
   {
    "duration": 9,
    "start_time": "2024-09-28T18:59:34.176Z"
   },
   {
    "duration": 9,
    "start_time": "2024-09-28T18:59:36.495Z"
   },
   {
    "duration": 9,
    "start_time": "2024-09-28T18:59:39.639Z"
   },
   {
    "duration": 7,
    "start_time": "2024-09-28T19:00:05.849Z"
   },
   {
    "duration": 13,
    "start_time": "2024-09-28T19:00:11.143Z"
   },
   {
    "duration": 17,
    "start_time": "2024-09-28T19:02:29.847Z"
   },
   {
    "duration": 15,
    "start_time": "2024-09-28T19:02:31.501Z"
   },
   {
    "duration": 29,
    "start_time": "2024-09-28T19:05:25.396Z"
   },
   {
    "duration": 16,
    "start_time": "2024-09-28T19:05:28.613Z"
   },
   {
    "duration": 15,
    "start_time": "2024-09-28T19:05:29.492Z"
   },
   {
    "duration": 23,
    "start_time": "2024-09-28T19:06:27.221Z"
   },
   {
    "duration": 18,
    "start_time": "2024-09-28T19:06:41.989Z"
   },
   {
    "duration": 16,
    "start_time": "2024-09-28T19:06:43.579Z"
   },
   {
    "duration": 18,
    "start_time": "2024-09-28T19:06:53.268Z"
   },
   {
    "duration": 20,
    "start_time": "2024-09-28T19:06:54.379Z"
   },
   {
    "duration": 18,
    "start_time": "2024-09-28T19:15:38.286Z"
   },
   {
    "duration": 15,
    "start_time": "2024-09-28T19:15:38.906Z"
   },
   {
    "duration": 10,
    "start_time": "2024-09-28T19:28:21.880Z"
   },
   {
    "duration": 9,
    "start_time": "2024-09-28T19:28:31.656Z"
   },
   {
    "duration": 13,
    "start_time": "2024-09-28T19:30:26.235Z"
   },
   {
    "duration": 9,
    "start_time": "2024-09-28T19:31:39.125Z"
   },
   {
    "duration": 75,
    "start_time": "2024-09-28T19:31:44.781Z"
   },
   {
    "duration": 8,
    "start_time": "2024-09-28T19:33:22.766Z"
   },
   {
    "duration": 16,
    "start_time": "2024-09-28T19:33:44.309Z"
   },
   {
    "duration": 10,
    "start_time": "2024-09-28T19:33:58.781Z"
   },
   {
    "duration": 13,
    "start_time": "2024-09-28T19:34:04.364Z"
   },
   {
    "duration": 222,
    "start_time": "2024-09-28T19:34:26.180Z"
   },
   {
    "duration": 66,
    "start_time": "2024-09-28T19:34:48.244Z"
   },
   {
    "duration": 12,
    "start_time": "2024-09-28T19:35:11.427Z"
   },
   {
    "duration": 8,
    "start_time": "2024-09-28T19:35:47.236Z"
   },
   {
    "duration": 65,
    "start_time": "2024-09-28T19:36:04.971Z"
   },
   {
    "duration": 73,
    "start_time": "2024-09-28T19:36:20.205Z"
   },
   {
    "duration": 9,
    "start_time": "2024-09-28T19:36:25.364Z"
   },
   {
    "duration": 9,
    "start_time": "2024-09-28T19:38:35.050Z"
   },
   {
    "duration": 926,
    "start_time": "2024-09-28T19:39:14.275Z"
   },
   {
    "duration": 9,
    "start_time": "2024-09-28T19:39:41.594Z"
   },
   {
    "duration": 9,
    "start_time": "2024-09-28T19:39:44.154Z"
   },
   {
    "duration": 10,
    "start_time": "2024-09-28T19:40:48.057Z"
   },
   {
    "duration": 11,
    "start_time": "2024-09-28T19:42:02.955Z"
   },
   {
    "duration": 13,
    "start_time": "2024-09-28T19:42:21.889Z"
   },
   {
    "duration": 10,
    "start_time": "2024-09-28T19:43:19.487Z"
   },
   {
    "duration": 10,
    "start_time": "2024-09-28T19:43:28.574Z"
   },
   {
    "duration": 9,
    "start_time": "2024-09-28T19:43:39.304Z"
   },
   {
    "duration": 10,
    "start_time": "2024-09-28T19:43:53.598Z"
   },
   {
    "duration": 11,
    "start_time": "2024-09-28T19:44:21.028Z"
   },
   {
    "duration": 11,
    "start_time": "2024-09-28T19:44:55.734Z"
   },
   {
    "duration": 136,
    "start_time": "2024-09-28T19:45:27.967Z"
   },
   {
    "duration": 12,
    "start_time": "2024-09-28T19:45:33.159Z"
   },
   {
    "duration": 12,
    "start_time": "2024-09-28T19:45:37.607Z"
   },
   {
    "duration": 9,
    "start_time": "2024-09-28T19:45:41.189Z"
   },
   {
    "duration": 9,
    "start_time": "2024-09-28T19:45:47.886Z"
   },
   {
    "duration": 8,
    "start_time": "2024-09-28T19:45:54.575Z"
   },
   {
    "duration": 111,
    "start_time": "2024-09-28T19:46:15.278Z"
   },
   {
    "duration": 12,
    "start_time": "2024-09-28T19:46:31.441Z"
   },
   {
    "duration": 10,
    "start_time": "2024-09-28T19:46:49.996Z"
   },
   {
    "duration": 115,
    "start_time": "2024-09-28T19:47:50.973Z"
   },
   {
    "duration": 15,
    "start_time": "2024-09-28T19:48:32.464Z"
   },
   {
    "duration": 115,
    "start_time": "2024-09-28T19:48:33.689Z"
   },
   {
    "duration": 144,
    "start_time": "2024-09-28T19:51:02.778Z"
   },
   {
    "duration": 14,
    "start_time": "2024-09-28T19:52:13.983Z"
   },
   {
    "duration": 130,
    "start_time": "2024-09-28T19:52:22.322Z"
   },
   {
    "duration": 15,
    "start_time": "2024-09-28T20:05:14.539Z"
   },
   {
    "duration": 270,
    "start_time": "2024-09-28T20:05:33.251Z"
   },
   {
    "duration": 362,
    "start_time": "2024-09-28T20:05:39.963Z"
   },
   {
    "duration": 274,
    "start_time": "2024-09-28T20:05:44.395Z"
   },
   {
    "duration": 258,
    "start_time": "2024-09-28T20:06:26.090Z"
   },
   {
    "duration": 79,
    "start_time": "2024-09-28T20:07:23.730Z"
   },
   {
    "duration": 4,
    "start_time": "2024-09-28T20:07:37.122Z"
   },
   {
    "duration": 11,
    "start_time": "2024-09-28T20:07:51.969Z"
   },
   {
    "duration": 4,
    "start_time": "2024-09-28T20:07:54.858Z"
   },
   {
    "duration": 8,
    "start_time": "2024-09-28T20:10:07.655Z"
   },
   {
    "duration": 5,
    "start_time": "2024-09-28T20:12:08.455Z"
   },
   {
    "duration": 772,
    "start_time": "2024-09-28T20:12:33.661Z"
   },
   {
    "duration": 875,
    "start_time": "2024-09-28T20:12:54.567Z"
   },
   {
    "duration": 4,
    "start_time": "2024-09-28T20:13:23.030Z"
   },
   {
    "duration": 901,
    "start_time": "2024-09-28T20:15:27.774Z"
   },
   {
    "duration": 6,
    "start_time": "2024-09-28T20:18:25.117Z"
   },
   {
    "duration": 5,
    "start_time": "2024-09-28T20:19:12.762Z"
   },
   {
    "duration": 202,
    "start_time": "2024-09-28T20:19:55.730Z"
   },
   {
    "duration": 434,
    "start_time": "2024-09-28T20:20:19.250Z"
   },
   {
    "duration": 449,
    "start_time": "2024-09-28T20:21:00.739Z"
   },
   {
    "duration": 9,
    "start_time": "2024-09-28T20:29:22.934Z"
   },
   {
    "duration": 14,
    "start_time": "2024-09-28T20:29:28.685Z"
   },
   {
    "duration": 77,
    "start_time": "2024-09-28T20:30:18.663Z"
   },
   {
    "duration": 70,
    "start_time": "2024-09-28T20:30:27.878Z"
   },
   {
    "duration": 212,
    "start_time": "2024-09-28T20:30:43.125Z"
   },
   {
    "duration": 170,
    "start_time": "2024-09-28T20:31:05.980Z"
   },
   {
    "duration": 11,
    "start_time": "2024-09-28T20:31:18.287Z"
   },
   {
    "duration": 14,
    "start_time": "2024-09-28T20:31:26.996Z"
   },
   {
    "duration": 13,
    "start_time": "2024-09-28T20:31:30.925Z"
   },
   {
    "duration": 201,
    "start_time": "2024-09-28T20:31:32.940Z"
   },
   {
    "duration": 13,
    "start_time": "2024-09-28T20:40:46.239Z"
   },
   {
    "duration": 14,
    "start_time": "2024-09-28T20:40:59.896Z"
   },
   {
    "duration": 29,
    "start_time": "2024-09-28T20:41:10.847Z"
   },
   {
    "duration": 14,
    "start_time": "2024-09-28T20:41:16.031Z"
   },
   {
    "duration": 18,
    "start_time": "2024-09-28T20:44:04.933Z"
   },
   {
    "duration": 17,
    "start_time": "2024-09-28T20:44:20.973Z"
   },
   {
    "duration": 15,
    "start_time": "2024-09-28T20:45:03.269Z"
   },
   {
    "duration": 17,
    "start_time": "2024-09-28T20:45:10.788Z"
   },
   {
    "duration": 450,
    "start_time": "2024-09-28T20:45:48.548Z"
   },
   {
    "duration": 230,
    "start_time": "2024-09-28T20:45:53.460Z"
   },
   {
    "duration": 19,
    "start_time": "2024-09-28T20:48:00.900Z"
   },
   {
    "duration": 50,
    "start_time": "2024-09-28T20:53:37.136Z"
   },
   {
    "duration": 8,
    "start_time": "2024-09-28T20:53:54.943Z"
   },
   {
    "duration": 6,
    "start_time": "2024-09-28T20:56:27.446Z"
   },
   {
    "duration": 5,
    "start_time": "2024-09-28T20:57:59.838Z"
   },
   {
    "duration": 8,
    "start_time": "2024-09-28T21:00:02.940Z"
   },
   {
    "duration": 8,
    "start_time": "2024-09-28T21:01:56.796Z"
   },
   {
    "duration": 71,
    "start_time": "2024-09-28T21:02:35.634Z"
   },
   {
    "duration": 11,
    "start_time": "2024-09-28T21:02:40.345Z"
   },
   {
    "duration": 8,
    "start_time": "2024-09-28T21:02:44.156Z"
   },
   {
    "duration": 10,
    "start_time": "2024-09-28T21:02:58.641Z"
   },
   {
    "duration": 7,
    "start_time": "2024-09-28T21:03:44.043Z"
   },
   {
    "duration": 11,
    "start_time": "2024-09-28T21:03:53.139Z"
   },
   {
    "duration": 1182,
    "start_time": "2024-09-29T02:24:09.178Z"
   },
   {
    "duration": 389,
    "start_time": "2024-09-29T02:24:10.362Z"
   },
   {
    "duration": 12,
    "start_time": "2024-09-29T02:24:10.753Z"
   },
   {
    "duration": 12,
    "start_time": "2024-09-29T02:24:10.767Z"
   },
   {
    "duration": 7,
    "start_time": "2024-09-29T02:24:10.780Z"
   },
   {
    "duration": 11,
    "start_time": "2024-09-29T02:24:10.788Z"
   },
   {
    "duration": 6,
    "start_time": "2024-09-29T02:24:10.801Z"
   },
   {
    "duration": 19,
    "start_time": "2024-09-29T02:24:10.809Z"
   },
   {
    "duration": 30,
    "start_time": "2024-09-29T02:24:10.830Z"
   },
   {
    "duration": 23,
    "start_time": "2024-09-29T02:24:10.864Z"
   },
   {
    "duration": 6,
    "start_time": "2024-09-29T02:24:10.889Z"
   },
   {
    "duration": 8,
    "start_time": "2024-09-29T02:24:10.897Z"
   },
   {
    "duration": 12,
    "start_time": "2024-09-29T02:24:10.907Z"
   },
   {
    "duration": 96,
    "start_time": "2024-09-29T02:24:10.920Z"
   },
   {
    "duration": 9,
    "start_time": "2024-09-29T02:24:11.017Z"
   },
   {
    "duration": 12,
    "start_time": "2024-09-29T02:24:11.028Z"
   },
   {
    "duration": 13,
    "start_time": "2024-09-29T02:24:11.042Z"
   },
   {
    "duration": 14,
    "start_time": "2024-09-29T02:24:11.056Z"
   },
   {
    "duration": 187,
    "start_time": "2024-09-29T02:24:11.072Z"
   },
   {
    "duration": 13,
    "start_time": "2024-09-29T02:24:11.261Z"
   },
   {
    "duration": 14,
    "start_time": "2024-09-29T02:24:11.276Z"
   },
   {
    "duration": 141,
    "start_time": "2024-09-29T02:24:11.293Z"
   },
   {
    "duration": 18,
    "start_time": "2024-09-29T02:24:11.435Z"
   },
   {
    "duration": 271,
    "start_time": "2024-09-29T02:24:11.454Z"
   },
   {
    "duration": 4,
    "start_time": "2024-09-29T02:24:11.727Z"
   },
   {
    "duration": 7,
    "start_time": "2024-09-29T02:24:11.732Z"
   },
   {
    "duration": 717,
    "start_time": "2024-09-29T02:24:11.753Z"
   },
   {
    "duration": 4,
    "start_time": "2024-09-29T02:24:12.474Z"
   },
   {
    "duration": 291,
    "start_time": "2024-09-29T02:24:12.479Z"
   },
   {
    "duration": 400,
    "start_time": "2024-09-29T02:24:12.771Z"
   },
   {
    "duration": 12,
    "start_time": "2024-09-29T02:24:13.173Z"
   },
   {
    "duration": 14,
    "start_time": "2024-09-29T02:24:13.186Z"
   },
   {
    "duration": 17,
    "start_time": "2024-09-29T02:24:13.201Z"
   },
   {
    "duration": 41,
    "start_time": "2024-09-29T02:24:13.219Z"
   },
   {
    "duration": 256,
    "start_time": "2024-09-29T02:24:13.262Z"
   },
   {
    "duration": 230,
    "start_time": "2024-09-29T02:24:13.519Z"
   },
   {
    "duration": 17,
    "start_time": "2024-09-29T02:24:13.750Z"
   },
   {
    "duration": 44,
    "start_time": "2024-09-29T02:24:13.769Z"
   },
   {
    "duration": 7,
    "start_time": "2024-09-29T02:24:13.814Z"
   },
   {
    "duration": 33,
    "start_time": "2024-09-29T02:24:13.822Z"
   },
   {
    "duration": 47,
    "start_time": "2024-09-29T02:24:13.856Z"
   },
   {
    "duration": 12,
    "start_time": "2024-09-29T02:24:13.905Z"
   },
   {
    "duration": 1038,
    "start_time": "2024-09-29T02:36:49.653Z"
   },
   {
    "duration": 170,
    "start_time": "2024-09-29T02:36:50.692Z"
   },
   {
    "duration": 11,
    "start_time": "2024-09-29T02:36:50.863Z"
   },
   {
    "duration": 36,
    "start_time": "2024-09-29T02:36:50.876Z"
   },
   {
    "duration": 7,
    "start_time": "2024-09-29T02:36:50.915Z"
   },
   {
    "duration": 12,
    "start_time": "2024-09-29T02:36:50.923Z"
   },
   {
    "duration": 8,
    "start_time": "2024-09-29T02:36:50.937Z"
   },
   {
    "duration": 7,
    "start_time": "2024-09-29T02:36:50.947Z"
   },
   {
    "duration": 9,
    "start_time": "2024-09-29T02:36:50.956Z"
   },
   {
    "duration": 4,
    "start_time": "2024-09-29T02:36:50.967Z"
   },
   {
    "duration": 78,
    "start_time": "2024-09-29T02:36:50.972Z"
   },
   {
    "duration": 51,
    "start_time": "2024-09-29T02:36:51.052Z"
   },
   {
    "duration": 11,
    "start_time": "2024-09-29T02:36:51.105Z"
   },
   {
    "duration": 16,
    "start_time": "2024-09-29T02:36:51.119Z"
   },
   {
    "duration": 8,
    "start_time": "2024-09-29T02:36:51.137Z"
   },
   {
    "duration": 13,
    "start_time": "2024-09-29T02:36:51.146Z"
   },
   {
    "duration": 14,
    "start_time": "2024-09-29T02:36:51.160Z"
   },
   {
    "duration": 13,
    "start_time": "2024-09-29T02:36:51.176Z"
   },
   {
    "duration": 192,
    "start_time": "2024-09-29T02:36:51.191Z"
   },
   {
    "duration": 12,
    "start_time": "2024-09-29T02:36:51.385Z"
   },
   {
    "duration": 17,
    "start_time": "2024-09-29T02:36:51.398Z"
   },
   {
    "duration": 136,
    "start_time": "2024-09-29T02:36:51.417Z"
   },
   {
    "duration": 12,
    "start_time": "2024-09-29T02:36:51.555Z"
   },
   {
    "duration": 272,
    "start_time": "2024-09-29T02:36:51.568Z"
   },
   {
    "duration": 3,
    "start_time": "2024-09-29T02:36:51.842Z"
   },
   {
    "duration": 7,
    "start_time": "2024-09-29T02:36:51.852Z"
   },
   {
    "duration": 833,
    "start_time": "2024-09-29T02:36:51.860Z"
   },
   {
    "duration": 4,
    "start_time": "2024-09-29T02:36:52.695Z"
   },
   {
    "duration": 283,
    "start_time": "2024-09-29T02:36:52.700Z"
   },
   {
    "duration": 403,
    "start_time": "2024-09-29T02:36:52.985Z"
   },
   {
    "duration": 14,
    "start_time": "2024-09-29T02:36:53.390Z"
   },
   {
    "duration": 17,
    "start_time": "2024-09-29T02:36:53.406Z"
   },
   {
    "duration": 37,
    "start_time": "2024-09-29T02:36:53.425Z"
   },
   {
    "duration": 16,
    "start_time": "2024-09-29T02:36:53.464Z"
   },
   {
    "duration": 268,
    "start_time": "2024-09-29T02:36:53.481Z"
   },
   {
    "duration": 212,
    "start_time": "2024-09-29T02:36:53.752Z"
   },
   {
    "duration": 16,
    "start_time": "2024-09-29T02:36:53.966Z"
   },
   {
    "duration": 48,
    "start_time": "2024-09-29T02:36:53.983Z"
   },
   {
    "duration": 26,
    "start_time": "2024-09-29T02:36:54.033Z"
   },
   {
    "duration": 6,
    "start_time": "2024-09-29T02:36:54.061Z"
   },
   {
    "duration": 4,
    "start_time": "2024-09-29T02:36:54.071Z"
   },
   {
    "duration": 8,
    "start_time": "2024-09-29T02:36:54.077Z"
   },
   {
    "duration": 1246,
    "start_time": "2024-09-29T07:47:15.444Z"
   },
   {
    "duration": 3,
    "start_time": "2024-09-29T07:48:43.163Z"
   },
   {
    "duration": 333,
    "start_time": "2024-09-29T07:48:44.419Z"
   },
   {
    "duration": 15,
    "start_time": "2024-09-29T07:49:05.403Z"
   },
   {
    "duration": 20,
    "start_time": "2024-09-29T07:49:17.216Z"
   },
   {
    "duration": 27,
    "start_time": "2024-09-29T07:49:27.578Z"
   },
   {
    "duration": 16,
    "start_time": "2024-09-29T07:49:32.771Z"
   },
   {
    "duration": 13,
    "start_time": "2024-09-29T07:49:52.931Z"
   },
   {
    "duration": 7,
    "start_time": "2024-09-29T07:50:15.562Z"
   },
   {
    "duration": 7,
    "start_time": "2024-09-29T07:50:45.177Z"
   },
   {
    "duration": 10,
    "start_time": "2024-09-29T07:50:50.694Z"
   },
   {
    "duration": 13,
    "start_time": "2024-09-29T07:50:54.593Z"
   },
   {
    "duration": 267,
    "start_time": "2024-09-29T07:51:43.465Z"
   },
   {
    "duration": 13,
    "start_time": "2024-09-29T07:51:53.697Z"
   },
   {
    "duration": 164,
    "start_time": "2024-09-29T07:51:56.128Z"
   },
   {
    "duration": 10,
    "start_time": "2024-09-29T07:52:54.058Z"
   },
   {
    "duration": 12,
    "start_time": "2024-09-29T07:53:02.704Z"
   },
   {
    "duration": 19,
    "start_time": "2024-09-29T07:53:03.273Z"
   },
   {
    "duration": 208,
    "start_time": "2024-09-29T07:53:04.904Z"
   },
   {
    "duration": 166,
    "start_time": "2024-09-29T07:53:21.688Z"
   },
   {
    "duration": 10,
    "start_time": "2024-09-29T07:53:52.977Z"
   },
   {
    "duration": 12,
    "start_time": "2024-09-29T07:53:56.760Z"
   },
   {
    "duration": 315,
    "start_time": "2024-09-29T07:53:58.689Z"
   },
   {
    "duration": 274,
    "start_time": "2024-09-29T07:54:07.168Z"
   },
   {
    "duration": 5,
    "start_time": "2024-09-29T07:58:24.415Z"
   },
   {
    "duration": 7,
    "start_time": "2024-09-29T07:58:35.231Z"
   },
   {
    "duration": 475,
    "start_time": "2024-09-29T07:58:41.517Z"
   },
   {
    "duration": 5,
    "start_time": "2024-09-29T08:01:23.178Z"
   },
   {
    "duration": 196,
    "start_time": "2024-09-29T08:01:32.067Z"
   },
   {
    "duration": 444,
    "start_time": "2024-09-29T08:02:52.858Z"
   },
   {
    "duration": 4,
    "start_time": "2024-09-29T08:03:14.062Z"
   },
   {
    "duration": 191,
    "start_time": "2024-09-29T08:03:14.738Z"
   },
   {
    "duration": 452,
    "start_time": "2024-09-29T08:03:16.370Z"
   },
   {
    "duration": 548,
    "start_time": "2024-09-29T08:03:53.226Z"
   },
   {
    "duration": 381,
    "start_time": "2024-09-29T08:05:30.414Z"
   },
   {
    "duration": 28,
    "start_time": "2024-09-29T08:11:43.077Z"
   },
   {
    "duration": 42,
    "start_time": "2024-09-29T08:12:16.974Z"
   },
   {
    "duration": 8,
    "start_time": "2024-09-29T08:12:27.741Z"
   },
   {
    "duration": 7,
    "start_time": "2024-09-29T08:12:36.965Z"
   },
   {
    "duration": 56,
    "start_time": "2024-09-29T08:12:51.331Z"
   },
   {
    "duration": 150,
    "start_time": "2024-09-29T08:13:07.101Z"
   },
   {
    "duration": 165,
    "start_time": "2024-09-29T08:13:16.788Z"
   },
   {
    "duration": 638,
    "start_time": "2024-09-29T08:13:28.166Z"
   },
   {
    "duration": 661,
    "start_time": "2024-09-29T08:13:37.955Z"
   },
   {
    "duration": 19,
    "start_time": "2024-09-29T08:13:55.764Z"
   },
   {
    "duration": 24,
    "start_time": "2024-09-29T08:16:42.708Z"
   },
   {
    "duration": 10,
    "start_time": "2024-09-29T08:16:52.194Z"
   },
   {
    "duration": 13,
    "start_time": "2024-09-29T08:16:52.994Z"
   },
   {
    "duration": 5,
    "start_time": "2024-09-29T08:16:53.595Z"
   },
   {
    "duration": 13,
    "start_time": "2024-09-29T08:16:55.507Z"
   },
   {
    "duration": 16,
    "start_time": "2024-09-29T08:17:03.835Z"
   },
   {
    "duration": 3,
    "start_time": "2024-09-29T08:17:23.698Z"
   },
   {
    "duration": 98,
    "start_time": "2024-09-29T08:17:23.978Z"
   },
   {
    "duration": 28,
    "start_time": "2024-09-29T08:17:24.642Z"
   },
   {
    "duration": 13,
    "start_time": "2024-09-29T08:17:26.939Z"
   },
   {
    "duration": 8,
    "start_time": "2024-09-29T08:17:26.986Z"
   },
   {
    "duration": 6,
    "start_time": "2024-09-29T08:17:28.609Z"
   },
   {
    "duration": 12,
    "start_time": "2024-09-29T08:17:28.890Z"
   },
   {
    "duration": 8,
    "start_time": "2024-09-29T08:17:29.458Z"
   },
   {
    "duration": 8,
    "start_time": "2024-09-29T08:17:31.146Z"
   },
   {
    "duration": 11,
    "start_time": "2024-09-29T08:17:31.474Z"
   },
   {
    "duration": 9,
    "start_time": "2024-09-29T08:17:32.107Z"
   },
   {
    "duration": 5,
    "start_time": "2024-09-29T08:17:32.554Z"
   },
   {
    "duration": 7,
    "start_time": "2024-09-29T08:17:35.753Z"
   },
   {
    "duration": 9,
    "start_time": "2024-09-29T08:20:47.230Z"
   },
   {
    "duration": 8,
    "start_time": "2024-09-29T08:20:48.097Z"
   },
   {
    "duration": 9,
    "start_time": "2024-09-29T08:20:49.527Z"
   },
   {
    "duration": 12,
    "start_time": "2024-09-29T08:20:50.145Z"
   },
   {
    "duration": 6,
    "start_time": "2024-09-29T08:20:52.455Z"
   },
   {
    "duration": 14,
    "start_time": "2024-09-29T08:20:55.263Z"
   },
   {
    "duration": 13,
    "start_time": "2024-09-29T08:20:59.096Z"
   },
   {
    "duration": 176,
    "start_time": "2024-09-29T08:21:00.328Z"
   },
   {
    "duration": 12,
    "start_time": "2024-09-29T08:21:03.183Z"
   },
   {
    "duration": 14,
    "start_time": "2024-09-29T08:21:05.081Z"
   },
   {
    "duration": 183,
    "start_time": "2024-09-29T08:21:05.560Z"
   },
   {
    "duration": 12,
    "start_time": "2024-09-29T08:21:08.623Z"
   },
   {
    "duration": 288,
    "start_time": "2024-09-29T08:21:10.448Z"
   },
   {
    "duration": 4,
    "start_time": "2024-09-29T08:21:12.575Z"
   },
   {
    "duration": 4,
    "start_time": "2024-09-29T08:21:15.064Z"
   },
   {
    "duration": 6,
    "start_time": "2024-09-29T08:21:15.575Z"
   },
   {
    "duration": 392,
    "start_time": "2024-09-29T08:21:16.952Z"
   },
   {
    "duration": 5,
    "start_time": "2024-09-29T08:21:19.433Z"
   },
   {
    "duration": 188,
    "start_time": "2024-09-29T08:21:19.880Z"
   },
   {
    "duration": 375,
    "start_time": "2024-09-29T08:21:21.487Z"
   },
   {
    "duration": 26,
    "start_time": "2024-09-29T08:21:24.591Z"
   },
   {
    "duration": 9,
    "start_time": "2024-09-29T08:21:27.887Z"
   },
   {
    "duration": 7,
    "start_time": "2024-09-29T08:21:28.216Z"
   },
   {
    "duration": 238,
    "start_time": "2024-09-29T08:21:31.337Z"
   },
   {
    "duration": 159,
    "start_time": "2024-09-29T08:21:32.328Z"
   },
   {
    "duration": 693,
    "start_time": "2024-09-29T08:21:33.888Z"
   },
   {
    "duration": 543,
    "start_time": "2024-09-29T08:21:34.583Z"
   },
   {
    "duration": 18,
    "start_time": "2024-09-29T08:21:36.607Z"
   },
   {
    "duration": 42,
    "start_time": "2024-09-29T08:21:40.377Z"
   },
   {
    "duration": 11,
    "start_time": "2024-09-29T08:21:51.656Z"
   },
   {
    "duration": 8,
    "start_time": "2024-09-29T08:22:11.136Z"
   },
   {
    "duration": 172,
    "start_time": "2024-09-29T08:24:03.231Z"
   },
   {
    "duration": 178,
    "start_time": "2024-09-29T08:25:33.501Z"
   },
   {
    "duration": 11,
    "start_time": "2024-09-29T08:29:53.160Z"
   },
   {
    "duration": 9,
    "start_time": "2024-09-29T08:30:04.262Z"
   },
   {
    "duration": 3,
    "start_time": "2024-09-29T08:30:18.108Z"
   },
   {
    "duration": 3,
    "start_time": "2024-09-29T08:30:26.613Z"
   },
   {
    "duration": 5,
    "start_time": "2024-09-29T08:30:37.308Z"
   },
   {
    "duration": 3,
    "start_time": "2024-09-29T08:30:49.029Z"
   },
   {
    "duration": 7,
    "start_time": "2024-09-29T08:31:43.795Z"
   },
   {
    "duration": 4,
    "start_time": "2024-09-29T08:31:53.732Z"
   },
   {
    "duration": 865,
    "start_time": "2024-09-29T08:33:21.043Z"
   },
   {
    "duration": 899,
    "start_time": "2024-09-29T08:34:28.946Z"
   },
   {
    "duration": 8,
    "start_time": "2024-09-29T08:35:08.739Z"
   },
   {
    "duration": 4,
    "start_time": "2024-09-29T08:35:10.698Z"
   },
   {
    "duration": 3,
    "start_time": "2024-09-29T08:35:11.611Z"
   },
   {
    "duration": 7,
    "start_time": "2024-09-29T08:35:14.153Z"
   },
   {
    "duration": 4,
    "start_time": "2024-09-29T08:35:14.658Z"
   },
   {
    "duration": 980,
    "start_time": "2024-09-29T08:35:17.497Z"
   },
   {
    "duration": 3,
    "start_time": "2024-09-29T08:38:19.536Z"
   },
   {
    "duration": 97,
    "start_time": "2024-09-29T08:38:19.810Z"
   },
   {
    "duration": 33,
    "start_time": "2024-09-29T08:38:20.200Z"
   },
   {
    "duration": 11,
    "start_time": "2024-09-29T08:38:21.087Z"
   },
   {
    "duration": 8,
    "start_time": "2024-09-29T08:38:21.229Z"
   },
   {
    "duration": 6,
    "start_time": "2024-09-29T08:38:21.880Z"
   },
   {
    "duration": 14,
    "start_time": "2024-09-29T08:38:21.914Z"
   },
   {
    "duration": 10,
    "start_time": "2024-09-29T08:38:21.941Z"
   },
   {
    "duration": 7,
    "start_time": "2024-09-29T08:38:21.972Z"
   },
   {
    "duration": 9,
    "start_time": "2024-09-29T08:38:22.005Z"
   },
   {
    "duration": 8,
    "start_time": "2024-09-29T08:38:22.033Z"
   },
   {
    "duration": 5,
    "start_time": "2024-09-29T08:38:22.080Z"
   },
   {
    "duration": 7,
    "start_time": "2024-09-29T08:38:22.175Z"
   },
   {
    "duration": 8,
    "start_time": "2024-09-29T08:38:22.206Z"
   },
   {
    "duration": 9,
    "start_time": "2024-09-29T08:38:22.241Z"
   },
   {
    "duration": 33,
    "start_time": "2024-09-29T08:38:22.299Z"
   },
   {
    "duration": 12,
    "start_time": "2024-09-29T08:38:22.343Z"
   },
   {
    "duration": 5,
    "start_time": "2024-09-29T08:38:22.374Z"
   },
   {
    "duration": 14,
    "start_time": "2024-09-29T08:38:22.438Z"
   },
   {
    "duration": 13,
    "start_time": "2024-09-29T08:38:22.595Z"
   },
   {
    "duration": 173,
    "start_time": "2024-09-29T08:38:22.672Z"
   },
   {
    "duration": 12,
    "start_time": "2024-09-29T08:38:23.264Z"
   },
   {
    "duration": 15,
    "start_time": "2024-09-29T08:38:23.511Z"
   },
   {
    "duration": 175,
    "start_time": "2024-09-29T08:38:23.705Z"
   },
   {
    "duration": 16,
    "start_time": "2024-09-29T08:38:24.456Z"
   },
   {
    "duration": 298,
    "start_time": "2024-09-29T08:38:24.585Z"
   },
   {
    "duration": 4,
    "start_time": "2024-09-29T08:38:24.937Z"
   },
   {
    "duration": 4,
    "start_time": "2024-09-29T08:38:25.712Z"
   },
   {
    "duration": 5,
    "start_time": "2024-09-29T08:38:25.865Z"
   },
   {
    "duration": 476,
    "start_time": "2024-09-29T08:38:26.377Z"
   },
   {
    "duration": 6,
    "start_time": "2024-09-29T08:38:26.856Z"
   },
   {
    "duration": 184,
    "start_time": "2024-09-29T08:38:26.992Z"
   },
   {
    "duration": 363,
    "start_time": "2024-09-29T08:38:27.177Z"
   },
   {
    "duration": 24,
    "start_time": "2024-09-29T08:38:28.960Z"
   },
   {
    "duration": 8,
    "start_time": "2024-09-29T08:38:29.407Z"
   },
   {
    "duration": 7,
    "start_time": "2024-09-29T08:38:29.880Z"
   },
   {
    "duration": 142,
    "start_time": "2024-09-29T08:38:30.208Z"
   },
   {
    "duration": 139,
    "start_time": "2024-09-29T08:38:30.472Z"
   },
   {
    "duration": 634,
    "start_time": "2024-09-29T08:38:30.664Z"
   },
   {
    "duration": 634,
    "start_time": "2024-09-29T08:38:31.300Z"
   },
   {
    "duration": 17,
    "start_time": "2024-09-29T08:38:31.935Z"
   },
   {
    "duration": 38,
    "start_time": "2024-09-29T08:38:37.680Z"
   },
   {
    "duration": 9,
    "start_time": "2024-09-29T08:38:38.328Z"
   },
   {
    "duration": 8,
    "start_time": "2024-09-29T08:38:40.679Z"
   },
   {
    "duration": 9,
    "start_time": "2024-09-29T08:38:43.873Z"
   },
   {
    "duration": 5,
    "start_time": "2024-09-29T08:38:44.143Z"
   },
   {
    "duration": 3,
    "start_time": "2024-09-29T08:38:45.560Z"
   },
   {
    "duration": 6,
    "start_time": "2024-09-29T08:39:47.774Z"
   },
   {
    "duration": 3,
    "start_time": "2024-09-29T08:39:48.134Z"
   },
   {
    "duration": 901,
    "start_time": "2024-09-29T08:39:50.214Z"
   },
   {
    "duration": 27,
    "start_time": "2024-09-29T08:50:54.018Z"
   },
   {
    "duration": 8,
    "start_time": "2024-09-29T08:50:58.353Z"
   },
   {
    "duration": 6,
    "start_time": "2024-09-29T08:50:58.618Z"
   },
   {
    "duration": 160,
    "start_time": "2024-09-29T08:50:59.650Z"
   },
   {
    "duration": 169,
    "start_time": "2024-09-29T08:51:02.777Z"
   },
   {
    "duration": 594,
    "start_time": "2024-09-29T08:51:03.018Z"
   },
   {
    "duration": 621,
    "start_time": "2024-09-29T08:51:03.614Z"
   },
   {
    "duration": 18,
    "start_time": "2024-09-29T08:51:04.236Z"
   },
   {
    "duration": 39,
    "start_time": "2024-09-29T08:51:14.496Z"
   },
   {
    "duration": 21,
    "start_time": "2024-09-29T08:54:28.072Z"
   },
   {
    "duration": 19,
    "start_time": "2024-09-29T09:01:11.380Z"
   },
   {
    "duration": 15,
    "start_time": "2024-09-29T09:01:43.819Z"
   },
   {
    "duration": 21,
    "start_time": "2024-09-29T09:04:05.940Z"
   },
   {
    "duration": 6,
    "start_time": "2024-09-29T09:07:55.400Z"
   },
   {
    "duration": 5,
    "start_time": "2024-09-29T09:08:05.911Z"
   },
   {
    "duration": 13,
    "start_time": "2024-09-29T09:08:20.609Z"
   },
   {
    "duration": 279,
    "start_time": "2024-09-29T09:10:02.335Z"
   },
   {
    "duration": 3,
    "start_time": "2024-09-29T09:10:08.544Z"
   },
   {
    "duration": 95,
    "start_time": "2024-09-29T09:10:09.054Z"
   },
   {
    "duration": 28,
    "start_time": "2024-09-29T09:10:09.150Z"
   },
   {
    "duration": 10,
    "start_time": "2024-09-29T09:10:09.212Z"
   },
   {
    "duration": 9,
    "start_time": "2024-09-29T09:10:09.255Z"
   },
   {
    "duration": 6,
    "start_time": "2024-09-29T09:10:09.317Z"
   },
   {
    "duration": 11,
    "start_time": "2024-09-29T09:10:09.350Z"
   },
   {
    "duration": 10,
    "start_time": "2024-09-29T09:10:09.383Z"
   },
   {
    "duration": 10,
    "start_time": "2024-09-29T09:10:09.411Z"
   },
   {
    "duration": 10,
    "start_time": "2024-09-29T09:10:09.443Z"
   },
   {
    "duration": 7,
    "start_time": "2024-09-29T09:10:09.473Z"
   },
   {
    "duration": 5,
    "start_time": "2024-09-29T09:10:09.519Z"
   },
   {
    "duration": 9,
    "start_time": "2024-09-29T09:10:09.612Z"
   },
   {
    "duration": 11,
    "start_time": "2024-09-29T09:10:09.645Z"
   },
   {
    "duration": 10,
    "start_time": "2024-09-29T09:10:09.674Z"
   },
   {
    "duration": 10,
    "start_time": "2024-09-29T09:10:09.735Z"
   },
   {
    "duration": 12,
    "start_time": "2024-09-29T09:10:09.782Z"
   },
   {
    "duration": 5,
    "start_time": "2024-09-29T09:10:09.812Z"
   },
   {
    "duration": 14,
    "start_time": "2024-09-29T09:10:09.875Z"
   },
   {
    "duration": 13,
    "start_time": "2024-09-29T09:10:10.045Z"
   },
   {
    "duration": 171,
    "start_time": "2024-09-29T09:10:10.112Z"
   },
   {
    "duration": 13,
    "start_time": "2024-09-29T09:10:11.127Z"
   },
   {
    "duration": 14,
    "start_time": "2024-09-29T09:10:11.359Z"
   },
   {
    "duration": 177,
    "start_time": "2024-09-29T09:10:11.567Z"
   },
   {
    "duration": 13,
    "start_time": "2024-09-29T09:10:12.806Z"
   },
   {
    "duration": 280,
    "start_time": "2024-09-29T09:10:12.967Z"
   },
   {
    "duration": 3,
    "start_time": "2024-09-29T09:10:13.280Z"
   },
   {
    "duration": 5,
    "start_time": "2024-09-29T09:10:14.082Z"
   },
   {
    "duration": 6,
    "start_time": "2024-09-29T09:10:14.112Z"
   },
   {
    "duration": 478,
    "start_time": "2024-09-29T09:10:14.175Z"
   },
   {
    "duration": 5,
    "start_time": "2024-09-29T09:10:14.656Z"
   },
   {
    "duration": 218,
    "start_time": "2024-09-29T09:10:14.663Z"
   },
   {
    "duration": 380,
    "start_time": "2024-09-29T09:10:14.883Z"
   },
   {
    "duration": 25,
    "start_time": "2024-09-29T09:10:15.265Z"
   },
   {
    "duration": 19,
    "start_time": "2024-09-29T09:10:15.291Z"
   },
   {
    "duration": 33,
    "start_time": "2024-09-29T09:10:15.312Z"
   },
   {
    "duration": 165,
    "start_time": "2024-09-29T09:10:15.347Z"
   },
   {
    "duration": 142,
    "start_time": "2024-09-29T09:10:15.614Z"
   },
   {
    "duration": 675,
    "start_time": "2024-09-29T09:10:16.231Z"
   },
   {
    "duration": 626,
    "start_time": "2024-09-29T09:10:16.907Z"
   },
   {
    "duration": 17,
    "start_time": "2024-09-29T09:10:17.534Z"
   },
   {
    "duration": 38,
    "start_time": "2024-09-29T09:10:23.135Z"
   },
   {
    "duration": 10,
    "start_time": "2024-09-29T09:10:24.375Z"
   },
   {
    "duration": 10,
    "start_time": "2024-09-29T09:10:30.150Z"
   },
   {
    "duration": 10,
    "start_time": "2024-09-29T09:10:32.878Z"
   },
   {
    "duration": 5,
    "start_time": "2024-09-29T09:10:33.191Z"
   },
   {
    "duration": 4,
    "start_time": "2024-09-29T09:10:33.919Z"
   },
   {
    "duration": 6,
    "start_time": "2024-09-29T09:10:36.248Z"
   },
   {
    "duration": 4,
    "start_time": "2024-09-29T09:10:36.550Z"
   },
   {
    "duration": 4,
    "start_time": "2024-09-29T09:10:45.343Z"
   },
   {
    "duration": 9,
    "start_time": "2024-09-29T09:10:48.303Z"
   },
   {
    "duration": 7,
    "start_time": "2024-09-29T09:11:26.215Z"
   },
   {
    "duration": 4,
    "start_time": "2024-09-29T09:11:27.566Z"
   },
   {
    "duration": 8,
    "start_time": "2024-09-29T09:11:41.687Z"
   },
   {
    "duration": 3,
    "start_time": "2024-09-29T09:11:51.534Z"
   },
   {
    "duration": 9,
    "start_time": "2024-09-29T09:21:39.361Z"
   },
   {
    "duration": 1132,
    "start_time": "2024-09-29T11:18:59.559Z"
   },
   {
    "duration": 97,
    "start_time": "2024-09-29T11:19:00.693Z"
   },
   {
    "duration": 30,
    "start_time": "2024-09-29T11:19:00.792Z"
   },
   {
    "duration": 10,
    "start_time": "2024-09-29T11:19:00.824Z"
   },
   {
    "duration": 17,
    "start_time": "2024-09-29T11:19:00.837Z"
   },
   {
    "duration": 5,
    "start_time": "2024-09-29T11:19:00.856Z"
   },
   {
    "duration": 13,
    "start_time": "2024-09-29T11:19:00.862Z"
   },
   {
    "duration": 11,
    "start_time": "2024-09-29T11:19:00.876Z"
   },
   {
    "duration": 38,
    "start_time": "2024-09-29T11:19:00.888Z"
   },
   {
    "duration": 24,
    "start_time": "2024-09-29T11:19:00.927Z"
   },
   {
    "duration": 37,
    "start_time": "2024-09-29T11:19:00.953Z"
   },
   {
    "duration": 6,
    "start_time": "2024-09-29T11:19:00.991Z"
   },
   {
    "duration": 13,
    "start_time": "2024-09-29T11:19:00.999Z"
   },
   {
    "duration": 23,
    "start_time": "2024-09-29T11:19:01.015Z"
   },
   {
    "duration": 124,
    "start_time": "2024-09-29T11:19:01.039Z"
   },
   {
    "duration": 8,
    "start_time": "2024-09-29T11:19:01.164Z"
   },
   {
    "duration": 22,
    "start_time": "2024-09-29T11:19:01.174Z"
   },
   {
    "duration": 4,
    "start_time": "2024-09-29T11:19:01.198Z"
   },
   {
    "duration": 14,
    "start_time": "2024-09-29T11:19:01.203Z"
   },
   {
    "duration": 21,
    "start_time": "2024-09-29T11:19:01.218Z"
   },
   {
    "duration": 196,
    "start_time": "2024-09-29T11:19:01.241Z"
   },
   {
    "duration": 16,
    "start_time": "2024-09-29T11:19:01.438Z"
   },
   {
    "duration": 74,
    "start_time": "2024-09-29T11:19:01.456Z"
   },
   {
    "duration": 181,
    "start_time": "2024-09-29T11:19:01.532Z"
   },
   {
    "duration": 12,
    "start_time": "2024-09-29T11:19:01.714Z"
   },
   {
    "duration": 272,
    "start_time": "2024-09-29T11:19:01.727Z"
   },
   {
    "duration": 3,
    "start_time": "2024-09-29T11:19:02.000Z"
   },
   {
    "duration": 29,
    "start_time": "2024-09-29T11:19:02.005Z"
   },
   {
    "duration": 8,
    "start_time": "2024-09-29T11:19:02.035Z"
   },
   {
    "duration": 340,
    "start_time": "2024-09-29T11:19:02.044Z"
   },
   {
    "duration": 5,
    "start_time": "2024-09-29T11:19:02.387Z"
   },
   {
    "duration": 214,
    "start_time": "2024-09-29T11:19:02.393Z"
   },
   {
    "duration": 103,
    "start_time": "2024-09-29T11:19:02.609Z"
   },
   {
    "duration": 0,
    "start_time": "2024-09-29T11:19:02.714Z"
   },
   {
    "duration": 0,
    "start_time": "2024-09-29T11:19:02.715Z"
   },
   {
    "duration": 0,
    "start_time": "2024-09-29T11:19:02.716Z"
   },
   {
    "duration": 1,
    "start_time": "2024-09-29T11:19:02.716Z"
   },
   {
    "duration": 0,
    "start_time": "2024-09-29T11:19:02.717Z"
   },
   {
    "duration": 0,
    "start_time": "2024-09-29T11:19:02.718Z"
   },
   {
    "duration": 0,
    "start_time": "2024-09-29T11:19:02.720Z"
   },
   {
    "duration": 0,
    "start_time": "2024-09-29T11:19:02.721Z"
   },
   {
    "duration": 0,
    "start_time": "2024-09-29T11:19:02.721Z"
   },
   {
    "duration": 0,
    "start_time": "2024-09-29T11:19:02.723Z"
   },
   {
    "duration": 0,
    "start_time": "2024-09-29T11:19:02.724Z"
   },
   {
    "duration": 0,
    "start_time": "2024-09-29T11:19:02.725Z"
   },
   {
    "duration": 0,
    "start_time": "2024-09-29T11:19:02.725Z"
   },
   {
    "duration": 1,
    "start_time": "2024-09-29T11:19:02.726Z"
   },
   {
    "duration": 0,
    "start_time": "2024-09-29T11:19:02.752Z"
   },
   {
    "duration": 0,
    "start_time": "2024-09-29T11:19:02.754Z"
   },
   {
    "duration": 0,
    "start_time": "2024-09-29T11:19:02.755Z"
   },
   {
    "duration": 0,
    "start_time": "2024-09-29T11:19:02.756Z"
   },
   {
    "duration": 0,
    "start_time": "2024-09-29T11:19:02.757Z"
   },
   {
    "duration": 0,
    "start_time": "2024-09-29T11:19:02.758Z"
   },
   {
    "duration": 1100,
    "start_time": "2024-09-29T11:23:03.407Z"
   },
   {
    "duration": 101,
    "start_time": "2024-09-29T11:23:04.509Z"
   },
   {
    "duration": 32,
    "start_time": "2024-09-29T11:23:04.612Z"
   },
   {
    "duration": 10,
    "start_time": "2024-09-29T11:23:04.646Z"
   },
   {
    "duration": 23,
    "start_time": "2024-09-29T11:23:04.658Z"
   },
   {
    "duration": 5,
    "start_time": "2024-09-29T11:23:04.682Z"
   },
   {
    "duration": 16,
    "start_time": "2024-09-29T11:23:04.689Z"
   },
   {
    "duration": 9,
    "start_time": "2024-09-29T11:23:04.706Z"
   },
   {
    "duration": 24,
    "start_time": "2024-09-29T11:23:04.717Z"
   },
   {
    "duration": 15,
    "start_time": "2024-09-29T11:23:04.743Z"
   },
   {
    "duration": 53,
    "start_time": "2024-09-29T11:23:04.760Z"
   },
   {
    "duration": 22,
    "start_time": "2024-09-29T11:23:04.815Z"
   },
   {
    "duration": 9,
    "start_time": "2024-09-29T11:23:04.838Z"
   },
   {
    "duration": 14,
    "start_time": "2024-09-29T11:23:04.850Z"
   },
   {
    "duration": 31,
    "start_time": "2024-09-29T11:23:04.866Z"
   },
   {
    "duration": 8,
    "start_time": "2024-09-29T11:23:04.899Z"
   },
   {
    "duration": 17,
    "start_time": "2024-09-29T11:23:04.909Z"
   },
   {
    "duration": 4,
    "start_time": "2024-09-29T11:23:04.928Z"
   },
   {
    "duration": 18,
    "start_time": "2024-09-29T11:23:04.934Z"
   },
   {
    "duration": 14,
    "start_time": "2024-09-29T11:23:04.953Z"
   },
   {
    "duration": 192,
    "start_time": "2024-09-29T11:23:04.968Z"
   },
   {
    "duration": 11,
    "start_time": "2024-09-29T11:23:05.162Z"
   },
   {
    "duration": 31,
    "start_time": "2024-09-29T11:23:05.174Z"
   },
   {
    "duration": 169,
    "start_time": "2024-09-29T11:23:05.206Z"
   },
   {
    "duration": 11,
    "start_time": "2024-09-29T11:23:05.376Z"
   },
   {
    "duration": 334,
    "start_time": "2024-09-29T11:23:05.388Z"
   },
   {
    "duration": 4,
    "start_time": "2024-09-29T11:23:05.723Z"
   },
   {
    "duration": 9,
    "start_time": "2024-09-29T11:23:05.728Z"
   },
   {
    "duration": 15,
    "start_time": "2024-09-29T11:23:05.738Z"
   },
   {
    "duration": 379,
    "start_time": "2024-09-29T11:23:05.754Z"
   },
   {
    "duration": 5,
    "start_time": "2024-09-29T11:23:06.135Z"
   },
   {
    "duration": 187,
    "start_time": "2024-09-29T11:23:06.141Z"
   },
   {
    "duration": 106,
    "start_time": "2024-09-29T11:23:06.330Z"
   },
   {
    "duration": 0,
    "start_time": "2024-09-29T11:23:06.438Z"
   },
   {
    "duration": 0,
    "start_time": "2024-09-29T11:23:06.439Z"
   },
   {
    "duration": 0,
    "start_time": "2024-09-29T11:23:06.440Z"
   },
   {
    "duration": 0,
    "start_time": "2024-09-29T11:23:06.441Z"
   },
   {
    "duration": 1,
    "start_time": "2024-09-29T11:23:06.452Z"
   },
   {
    "duration": 1,
    "start_time": "2024-09-29T11:23:06.453Z"
   },
   {
    "duration": 0,
    "start_time": "2024-09-29T11:23:06.455Z"
   },
   {
    "duration": 0,
    "start_time": "2024-09-29T11:23:06.456Z"
   },
   {
    "duration": 0,
    "start_time": "2024-09-29T11:23:06.457Z"
   },
   {
    "duration": 0,
    "start_time": "2024-09-29T11:23:06.458Z"
   },
   {
    "duration": 0,
    "start_time": "2024-09-29T11:23:06.459Z"
   },
   {
    "duration": 0,
    "start_time": "2024-09-29T11:23:06.460Z"
   },
   {
    "duration": 0,
    "start_time": "2024-09-29T11:23:06.461Z"
   },
   {
    "duration": 0,
    "start_time": "2024-09-29T11:23:06.462Z"
   },
   {
    "duration": 0,
    "start_time": "2024-09-29T11:23:06.463Z"
   },
   {
    "duration": 0,
    "start_time": "2024-09-29T11:23:06.464Z"
   },
   {
    "duration": 0,
    "start_time": "2024-09-29T11:23:06.465Z"
   },
   {
    "duration": 0,
    "start_time": "2024-09-29T11:23:06.465Z"
   },
   {
    "duration": 0,
    "start_time": "2024-09-29T11:23:06.467Z"
   },
   {
    "duration": 0,
    "start_time": "2024-09-29T11:23:06.468Z"
   },
   {
    "duration": 1512,
    "start_time": "2024-09-29T13:28:12.629Z"
   },
   {
    "duration": 329,
    "start_time": "2024-09-29T13:28:14.143Z"
   },
   {
    "duration": 34,
    "start_time": "2024-09-29T13:28:14.474Z"
   },
   {
    "duration": 11,
    "start_time": "2024-09-29T13:28:18.732Z"
   },
   {
    "duration": 12,
    "start_time": "2024-09-29T13:28:19.519Z"
   },
   {
    "duration": 7,
    "start_time": "2024-09-29T13:28:22.252Z"
   },
   {
    "duration": 16,
    "start_time": "2024-09-29T13:28:22.515Z"
   },
   {
    "duration": 10,
    "start_time": "2024-09-29T13:28:22.900Z"
   },
   {
    "duration": 8,
    "start_time": "2024-09-29T13:28:24.596Z"
   },
   {
    "duration": 10,
    "start_time": "2024-09-29T13:28:24.811Z"
   },
   {
    "duration": 8,
    "start_time": "2024-09-29T13:28:25.124Z"
   },
   {
    "duration": 5,
    "start_time": "2024-09-29T13:28:25.371Z"
   },
   {
    "duration": 7,
    "start_time": "2024-09-29T13:28:27.811Z"
   },
   {
    "duration": 9,
    "start_time": "2024-09-29T13:28:27.979Z"
   },
   {
    "duration": 8,
    "start_time": "2024-09-29T13:28:28.164Z"
   },
   {
    "duration": 10,
    "start_time": "2024-09-29T13:28:28.619Z"
   },
   {
    "duration": 13,
    "start_time": "2024-09-29T13:28:30.235Z"
   },
   {
    "duration": 5,
    "start_time": "2024-09-29T13:28:30.724Z"
   },
   {
    "duration": 16,
    "start_time": "2024-09-29T13:28:31.994Z"
   },
   {
    "duration": 15,
    "start_time": "2024-09-29T13:28:35.531Z"
   },
   {
    "duration": 195,
    "start_time": "2024-09-29T13:28:36.780Z"
   },
   {
    "duration": 14,
    "start_time": "2024-09-29T13:28:40.139Z"
   },
   {
    "duration": 16,
    "start_time": "2024-09-29T13:28:42.028Z"
   },
   {
    "duration": 187,
    "start_time": "2024-09-29T13:28:42.292Z"
   },
   {
    "duration": 13,
    "start_time": "2024-09-29T13:28:46.628Z"
   },
   {
    "duration": 323,
    "start_time": "2024-09-29T13:28:49.043Z"
   },
   {
    "duration": 4,
    "start_time": "2024-09-29T13:28:52.266Z"
   },
   {
    "duration": 6,
    "start_time": "2024-09-29T13:28:54.850Z"
   },
   {
    "duration": 7,
    "start_time": "2024-09-29T13:28:55.202Z"
   },
   {
    "duration": 410,
    "start_time": "2024-09-29T13:28:57.523Z"
   },
   {
    "duration": 5,
    "start_time": "2024-09-29T13:29:02.659Z"
   },
   {
    "duration": 197,
    "start_time": "2024-09-29T13:29:03.003Z"
   },
   {
    "duration": 103,
    "start_time": "2024-09-29T13:29:04.956Z"
   },
   {
    "duration": 512,
    "start_time": "2024-09-29T13:30:37.891Z"
   },
   {
    "duration": 41,
    "start_time": "2024-09-29T13:31:06.441Z"
   },
   {
    "duration": 7,
    "start_time": "2024-09-29T13:31:09.185Z"
   },
   {
    "duration": 6,
    "start_time": "2024-09-29T13:31:09.442Z"
   },
   {
    "duration": 183,
    "start_time": "2024-09-29T13:31:14.370Z"
   },
   {
    "duration": 154,
    "start_time": "2024-09-29T13:31:16.538Z"
   },
   {
    "duration": 664,
    "start_time": "2024-09-29T13:31:17.017Z"
   },
   {
    "duration": 533,
    "start_time": "2024-09-29T13:31:18.601Z"
   },
   {
    "duration": 19,
    "start_time": "2024-09-29T13:31:19.650Z"
   },
   {
    "duration": 42,
    "start_time": "2024-09-29T13:31:22.858Z"
   },
   {
    "duration": 16,
    "start_time": "2024-09-29T13:31:24.467Z"
   },
   {
    "duration": 9,
    "start_time": "2024-09-29T13:31:26.761Z"
   },
   {
    "duration": 9,
    "start_time": "2024-09-29T13:31:29.481Z"
   },
   {
    "duration": 5,
    "start_time": "2024-09-29T13:31:30.057Z"
   },
   {
    "duration": 4,
    "start_time": "2024-09-29T13:31:31.042Z"
   },
   {
    "duration": 7,
    "start_time": "2024-09-29T13:31:33.395Z"
   },
   {
    "duration": 4,
    "start_time": "2024-09-29T13:31:33.682Z"
   },
   {
    "duration": 5,
    "start_time": "2024-09-29T13:31:37.362Z"
   },
   {
    "duration": 9,
    "start_time": "2024-09-29T13:31:37.953Z"
   },
   {
    "duration": 8,
    "start_time": "2024-09-29T13:31:38.689Z"
   },
   {
    "duration": 4,
    "start_time": "2024-09-29T13:31:39.041Z"
   },
   {
    "duration": 1303,
    "start_time": "2024-09-29T13:36:10.342Z"
   },
   {
    "duration": 105,
    "start_time": "2024-09-29T13:36:11.647Z"
   },
   {
    "duration": 34,
    "start_time": "2024-09-29T13:36:11.753Z"
   },
   {
    "duration": 11,
    "start_time": "2024-09-29T13:36:11.789Z"
   },
   {
    "duration": 11,
    "start_time": "2024-09-29T13:36:11.803Z"
   },
   {
    "duration": 39,
    "start_time": "2024-09-29T13:36:11.816Z"
   },
   {
    "duration": 13,
    "start_time": "2024-09-29T13:36:11.857Z"
   },
   {
    "duration": 15,
    "start_time": "2024-09-29T13:36:11.872Z"
   },
   {
    "duration": 14,
    "start_time": "2024-09-29T13:36:11.889Z"
   },
   {
    "duration": 19,
    "start_time": "2024-09-29T13:36:11.905Z"
   },
   {
    "duration": 13,
    "start_time": "2024-09-29T13:36:11.926Z"
   },
   {
    "duration": 13,
    "start_time": "2024-09-29T13:36:11.956Z"
   },
   {
    "duration": 21,
    "start_time": "2024-09-29T13:36:11.971Z"
   },
   {
    "duration": 13,
    "start_time": "2024-09-29T13:36:11.995Z"
   },
   {
    "duration": 15,
    "start_time": "2024-09-29T13:36:12.011Z"
   },
   {
    "duration": 14,
    "start_time": "2024-09-29T13:36:12.029Z"
   },
   {
    "duration": 16,
    "start_time": "2024-09-29T13:36:12.056Z"
   },
   {
    "duration": 9,
    "start_time": "2024-09-29T13:36:12.074Z"
   },
   {
    "duration": 29,
    "start_time": "2024-09-29T13:36:12.085Z"
   },
   {
    "duration": 38,
    "start_time": "2024-09-29T13:36:12.117Z"
   },
   {
    "duration": 216,
    "start_time": "2024-09-29T13:36:12.157Z"
   },
   {
    "duration": 15,
    "start_time": "2024-09-29T13:36:12.375Z"
   },
   {
    "duration": 20,
    "start_time": "2024-09-29T13:36:12.393Z"
   },
   {
    "duration": 238,
    "start_time": "2024-09-29T13:36:12.414Z"
   },
   {
    "duration": 14,
    "start_time": "2024-09-29T13:36:12.655Z"
   },
   {
    "duration": 317,
    "start_time": "2024-09-29T13:36:12.671Z"
   },
   {
    "duration": 4,
    "start_time": "2024-09-29T13:36:12.991Z"
   },
   {
    "duration": 18,
    "start_time": "2024-09-29T13:36:12.997Z"
   },
   {
    "duration": 7,
    "start_time": "2024-09-29T13:36:13.017Z"
   },
   {
    "duration": 412,
    "start_time": "2024-09-29T13:36:13.026Z"
   },
   {
    "duration": 5,
    "start_time": "2024-09-29T13:36:13.441Z"
   },
   {
    "duration": 216,
    "start_time": "2024-09-29T13:36:13.456Z"
   },
   {
    "duration": 516,
    "start_time": "2024-09-29T13:36:13.675Z"
   },
   {
    "duration": 28,
    "start_time": "2024-09-29T13:36:14.193Z"
   },
   {
    "duration": 9,
    "start_time": "2024-09-29T13:36:14.222Z"
   },
   {
    "duration": 9,
    "start_time": "2024-09-29T13:36:14.256Z"
   },
   {
    "duration": 194,
    "start_time": "2024-09-29T13:36:14.268Z"
   },
   {
    "duration": 164,
    "start_time": "2024-09-29T13:36:14.464Z"
   },
   {
    "duration": 642,
    "start_time": "2024-09-29T13:36:14.630Z"
   },
   {
    "duration": 660,
    "start_time": "2024-09-29T13:36:15.274Z"
   },
   {
    "duration": 29,
    "start_time": "2024-09-29T13:36:15.939Z"
   },
   {
    "duration": 43,
    "start_time": "2024-09-29T13:36:15.970Z"
   },
   {
    "duration": 12,
    "start_time": "2024-09-29T13:36:16.015Z"
   },
   {
    "duration": 33,
    "start_time": "2024-09-29T13:36:16.029Z"
   },
   {
    "duration": 8,
    "start_time": "2024-09-29T13:36:16.064Z"
   },
   {
    "duration": 6,
    "start_time": "2024-09-29T13:36:16.073Z"
   },
   {
    "duration": 19,
    "start_time": "2024-09-29T13:36:16.080Z"
   },
   {
    "duration": 8,
    "start_time": "2024-09-29T13:36:16.100Z"
   },
   {
    "duration": 11,
    "start_time": "2024-09-29T13:36:16.110Z"
   },
   {
    "duration": 4,
    "start_time": "2024-09-29T13:36:16.123Z"
   },
   {
    "duration": 33,
    "start_time": "2024-09-29T13:36:16.129Z"
   },
   {
    "duration": 9,
    "start_time": "2024-09-29T13:36:16.163Z"
   },
   {
    "duration": 3,
    "start_time": "2024-09-29T13:36:16.174Z"
   },
   {
    "duration": 3,
    "start_time": "2024-09-29T13:36:21.975Z"
   },
   {
    "duration": 106,
    "start_time": "2024-09-29T13:36:22.296Z"
   },
   {
    "duration": 32,
    "start_time": "2024-09-29T13:36:22.943Z"
   },
   {
    "duration": 11,
    "start_time": "2024-09-29T13:36:25.369Z"
   },
   {
    "duration": 9,
    "start_time": "2024-09-29T13:36:25.400Z"
   },
   {
    "duration": 7,
    "start_time": "2024-09-29T13:36:25.525Z"
   },
   {
    "duration": 12,
    "start_time": "2024-09-29T13:36:25.558Z"
   },
   {
    "duration": 10,
    "start_time": "2024-09-29T13:36:25.587Z"
   },
   {
    "duration": 12,
    "start_time": "2024-09-29T13:36:25.634Z"
   },
   {
    "duration": 14,
    "start_time": "2024-09-29T13:36:25.665Z"
   },
   {
    "duration": 10,
    "start_time": "2024-09-29T13:36:25.698Z"
   },
   {
    "duration": 5,
    "start_time": "2024-09-29T13:36:25.735Z"
   },
   {
    "duration": 10,
    "start_time": "2024-09-29T13:36:25.823Z"
   },
   {
    "duration": 9,
    "start_time": "2024-09-29T13:36:25.856Z"
   },
   {
    "duration": 10,
    "start_time": "2024-09-29T13:36:25.887Z"
   },
   {
    "duration": 9,
    "start_time": "2024-09-29T13:36:25.951Z"
   },
   {
    "duration": 14,
    "start_time": "2024-09-29T13:36:25.983Z"
   },
   {
    "duration": 6,
    "start_time": "2024-09-29T13:36:26.016Z"
   },
   {
    "duration": 17,
    "start_time": "2024-09-29T13:36:26.158Z"
   },
   {
    "duration": 14,
    "start_time": "2024-09-29T13:36:26.316Z"
   },
   {
    "duration": 191,
    "start_time": "2024-09-29T13:36:26.412Z"
   },
   {
    "duration": 14,
    "start_time": "2024-09-29T13:36:26.616Z"
   },
   {
    "duration": 15,
    "start_time": "2024-09-29T13:36:26.649Z"
   },
   {
    "duration": 186,
    "start_time": "2024-09-29T13:36:26.681Z"
   },
   {
    "duration": 13,
    "start_time": "2024-09-29T13:36:26.917Z"
   },
   {
    "duration": 378,
    "start_time": "2024-09-29T13:36:26.947Z"
   },
   {
    "duration": 4,
    "start_time": "2024-09-29T13:36:27.327Z"
   },
   {
    "duration": 34,
    "start_time": "2024-09-29T13:36:27.333Z"
   },
   {
    "duration": 11,
    "start_time": "2024-09-29T13:36:27.370Z"
   },
   {
    "duration": 554,
    "start_time": "2024-09-29T13:36:27.383Z"
   },
   {
    "duration": 19,
    "start_time": "2024-09-29T13:36:27.939Z"
   },
   {
    "duration": 219,
    "start_time": "2024-09-29T13:36:27.960Z"
   },
   {
    "duration": 447,
    "start_time": "2024-09-29T13:36:28.180Z"
   },
   {
    "duration": 47,
    "start_time": "2024-09-29T13:36:28.629Z"
   },
   {
    "duration": 10,
    "start_time": "2024-09-29T13:36:28.678Z"
   },
   {
    "duration": 7,
    "start_time": "2024-09-29T13:36:28.690Z"
   },
   {
    "duration": 203,
    "start_time": "2024-09-29T13:36:28.699Z"
   },
   {
    "duration": 171,
    "start_time": "2024-09-29T13:36:28.904Z"
   },
   {
    "duration": 653,
    "start_time": "2024-09-29T13:36:29.077Z"
   },
   {
    "duration": 580,
    "start_time": "2024-09-29T13:36:29.732Z"
   },
   {
    "duration": 22,
    "start_time": "2024-09-29T13:36:30.314Z"
   },
   {
    "duration": 77,
    "start_time": "2024-09-29T13:36:30.338Z"
   },
   {
    "duration": 26,
    "start_time": "2024-09-29T13:36:30.417Z"
   },
   {
    "duration": 26,
    "start_time": "2024-09-29T13:36:30.445Z"
   },
   {
    "duration": 34,
    "start_time": "2024-09-29T13:36:30.473Z"
   },
   {
    "duration": 25,
    "start_time": "2024-09-29T13:36:30.509Z"
   },
   {
    "duration": 51,
    "start_time": "2024-09-29T13:36:30.539Z"
   },
   {
    "duration": 23,
    "start_time": "2024-09-29T13:36:30.593Z"
   },
   {
    "duration": 27,
    "start_time": "2024-09-29T13:36:30.617Z"
   },
   {
    "duration": 16,
    "start_time": "2024-09-29T13:36:30.646Z"
   },
   {
    "duration": 28,
    "start_time": "2024-09-29T13:36:30.663Z"
   },
   {
    "duration": 23,
    "start_time": "2024-09-29T13:36:30.693Z"
   },
   {
    "duration": 13,
    "start_time": "2024-09-29T13:36:30.718Z"
   },
   {
    "duration": 1101,
    "start_time": "2024-09-29T17:38:52.888Z"
   },
   {
    "duration": 367,
    "start_time": "2024-09-29T17:38:53.990Z"
   },
   {
    "duration": 28,
    "start_time": "2024-09-29T17:38:54.358Z"
   },
   {
    "duration": 9,
    "start_time": "2024-09-29T17:38:54.387Z"
   },
   {
    "duration": 16,
    "start_time": "2024-09-29T17:38:54.397Z"
   },
   {
    "duration": 5,
    "start_time": "2024-09-29T17:38:54.414Z"
   },
   {
    "duration": 10,
    "start_time": "2024-09-29T17:38:54.420Z"
   },
   {
    "duration": 8,
    "start_time": "2024-09-29T17:38:54.452Z"
   },
   {
    "duration": 11,
    "start_time": "2024-09-29T17:38:54.461Z"
   },
   {
    "duration": 8,
    "start_time": "2024-09-29T17:38:54.474Z"
   },
   {
    "duration": 13,
    "start_time": "2024-09-29T17:38:54.483Z"
   },
   {
    "duration": 4,
    "start_time": "2024-09-29T17:38:54.497Z"
   },
   {
    "duration": 6,
    "start_time": "2024-09-29T17:38:54.503Z"
   },
   {
    "duration": 7,
    "start_time": "2024-09-29T17:38:54.510Z"
   },
   {
    "duration": 35,
    "start_time": "2024-09-29T17:38:54.518Z"
   },
   {
    "duration": 7,
    "start_time": "2024-09-29T17:38:54.554Z"
   },
   {
    "duration": 10,
    "start_time": "2024-09-29T17:38:54.563Z"
   },
   {
    "duration": 31,
    "start_time": "2024-09-29T17:38:54.574Z"
   },
   {
    "duration": 51,
    "start_time": "2024-09-29T17:38:54.607Z"
   },
   {
    "duration": 13,
    "start_time": "2024-09-29T17:38:54.659Z"
   },
   {
    "duration": 180,
    "start_time": "2024-09-29T17:38:54.673Z"
   },
   {
    "duration": 13,
    "start_time": "2024-09-29T17:38:54.860Z"
   },
   {
    "duration": 12,
    "start_time": "2024-09-29T17:38:54.875Z"
   },
   {
    "duration": 177,
    "start_time": "2024-09-29T17:38:54.888Z"
   },
   {
    "duration": 12,
    "start_time": "2024-09-29T17:38:55.066Z"
   },
   {
    "duration": 262,
    "start_time": "2024-09-29T17:38:55.079Z"
   },
   {
    "duration": 10,
    "start_time": "2024-09-29T17:38:55.342Z"
   },
   {
    "duration": 6,
    "start_time": "2024-09-29T17:38:55.357Z"
   },
   {
    "duration": 7,
    "start_time": "2024-09-29T17:38:55.365Z"
   },
   {
    "duration": 368,
    "start_time": "2024-09-29T17:38:55.373Z"
   },
   {
    "duration": 4,
    "start_time": "2024-09-29T17:38:55.743Z"
   },
   {
    "duration": 194,
    "start_time": "2024-09-29T17:38:55.752Z"
   },
   {
    "duration": 427,
    "start_time": "2024-09-29T17:38:55.948Z"
   },
   {
    "duration": 22,
    "start_time": "2024-09-29T17:38:56.377Z"
   },
   {
    "duration": 6,
    "start_time": "2024-09-29T17:38:56.400Z"
   },
   {
    "duration": 5,
    "start_time": "2024-09-29T17:38:56.407Z"
   },
   {
    "duration": 152,
    "start_time": "2024-09-29T17:38:56.414Z"
   },
   {
    "duration": 135,
    "start_time": "2024-09-29T17:38:56.567Z"
   },
   {
    "duration": 580,
    "start_time": "2024-09-29T17:38:56.703Z"
   },
   {
    "duration": 552,
    "start_time": "2024-09-29T17:38:57.285Z"
   },
   {
    "duration": 23,
    "start_time": "2024-09-29T17:38:57.838Z"
   },
   {
    "duration": 36,
    "start_time": "2024-09-29T17:38:57.862Z"
   },
   {
    "duration": 9,
    "start_time": "2024-09-29T17:38:57.900Z"
   },
   {
    "duration": 8,
    "start_time": "2024-09-29T17:38:57.911Z"
   },
   {
    "duration": 32,
    "start_time": "2024-09-29T17:38:57.921Z"
   },
   {
    "duration": 5,
    "start_time": "2024-09-29T17:38:57.955Z"
   },
   {
    "duration": 21,
    "start_time": "2024-09-29T17:38:57.962Z"
   },
   {
    "duration": 36,
    "start_time": "2024-09-29T17:38:57.985Z"
   },
   {
    "duration": 4,
    "start_time": "2024-09-29T17:38:58.022Z"
   },
   {
    "duration": 8,
    "start_time": "2024-09-29T17:38:58.028Z"
   },
   {
    "duration": 22,
    "start_time": "2024-09-29T17:38:58.037Z"
   },
   {
    "duration": 7,
    "start_time": "2024-09-29T17:38:58.061Z"
   },
   {
    "duration": 3,
    "start_time": "2024-09-29T17:38:58.070Z"
   },
   {
    "duration": 96,
    "start_time": "2024-09-29T17:41:31.763Z"
   },
   {
    "duration": 5,
    "start_time": "2024-09-29T17:41:42.596Z"
   },
   {
    "duration": 1071,
    "start_time": "2024-09-29T17:47:26.585Z"
   },
   {
    "duration": 95,
    "start_time": "2024-09-29T17:47:27.658Z"
   },
   {
    "duration": 28,
    "start_time": "2024-09-29T17:47:27.754Z"
   },
   {
    "duration": 9,
    "start_time": "2024-09-29T17:47:27.784Z"
   },
   {
    "duration": 23,
    "start_time": "2024-09-29T17:47:27.795Z"
   },
   {
    "duration": 37,
    "start_time": "2024-09-29T17:47:27.820Z"
   },
   {
    "duration": 10,
    "start_time": "2024-09-29T17:47:27.859Z"
   },
   {
    "duration": 14,
    "start_time": "2024-09-29T17:47:27.870Z"
   },
   {
    "duration": 22,
    "start_time": "2024-09-29T17:47:27.885Z"
   },
   {
    "duration": 9,
    "start_time": "2024-09-29T17:47:27.908Z"
   },
   {
    "duration": 9,
    "start_time": "2024-09-29T17:47:27.918Z"
   },
   {
    "duration": 4,
    "start_time": "2024-09-29T17:47:27.928Z"
   },
   {
    "duration": 19,
    "start_time": "2024-09-29T17:47:27.933Z"
   },
   {
    "duration": 8,
    "start_time": "2024-09-29T17:47:27.955Z"
   },
   {
    "duration": 8,
    "start_time": "2024-09-29T17:47:27.964Z"
   },
   {
    "duration": 8,
    "start_time": "2024-09-29T17:47:27.973Z"
   },
   {
    "duration": 10,
    "start_time": "2024-09-29T17:47:27.983Z"
   },
   {
    "duration": 4,
    "start_time": "2024-09-29T17:47:27.994Z"
   },
   {
    "duration": 20,
    "start_time": "2024-09-29T17:47:27.999Z"
   },
   {
    "duration": 42,
    "start_time": "2024-09-29T17:47:28.020Z"
   },
   {
    "duration": 183,
    "start_time": "2024-09-29T17:47:28.063Z"
   },
   {
    "duration": 12,
    "start_time": "2024-09-29T17:47:28.248Z"
   },
   {
    "duration": 13,
    "start_time": "2024-09-29T17:47:28.262Z"
   },
   {
    "duration": 176,
    "start_time": "2024-09-29T17:47:28.277Z"
   },
   {
    "duration": 12,
    "start_time": "2024-09-29T17:47:28.455Z"
   },
   {
    "duration": 252,
    "start_time": "2024-09-29T17:47:28.469Z"
   },
   {
    "duration": 3,
    "start_time": "2024-09-29T17:47:28.723Z"
   },
   {
    "duration": 14,
    "start_time": "2024-09-29T17:47:28.727Z"
   },
   {
    "duration": 11,
    "start_time": "2024-09-29T17:47:28.742Z"
   },
   {
    "duration": 324,
    "start_time": "2024-09-29T17:47:28.754Z"
   },
   {
    "duration": 4,
    "start_time": "2024-09-29T17:47:29.080Z"
   },
   {
    "duration": 172,
    "start_time": "2024-09-29T17:47:29.085Z"
   },
   {
    "duration": 413,
    "start_time": "2024-09-29T17:47:29.259Z"
   },
   {
    "duration": 22,
    "start_time": "2024-09-29T17:47:29.673Z"
   },
   {
    "duration": 7,
    "start_time": "2024-09-29T17:47:29.696Z"
   },
   {
    "duration": 5,
    "start_time": "2024-09-29T17:47:29.705Z"
   },
   {
    "duration": 152,
    "start_time": "2024-09-29T17:47:29.712Z"
   },
   {
    "duration": 129,
    "start_time": "2024-09-29T17:47:29.866Z"
   },
   {
    "duration": 593,
    "start_time": "2024-09-29T17:47:29.997Z"
   },
   {
    "duration": 536,
    "start_time": "2024-09-29T17:47:30.592Z"
   },
   {
    "duration": 25,
    "start_time": "2024-09-29T17:47:31.133Z"
   },
   {
    "duration": 38,
    "start_time": "2024-09-29T17:47:31.159Z"
   },
   {
    "duration": 10,
    "start_time": "2024-09-29T17:47:31.199Z"
   },
   {
    "duration": 46,
    "start_time": "2024-09-29T17:47:31.211Z"
   },
   {
    "duration": 9,
    "start_time": "2024-09-29T17:47:31.259Z"
   },
   {
    "duration": 80,
    "start_time": "2024-09-29T17:47:31.270Z"
   },
   {
    "duration": 9,
    "start_time": "2024-09-29T17:47:31.352Z"
   },
   {
    "duration": 7,
    "start_time": "2024-09-29T17:47:31.362Z"
   },
   {
    "duration": 5,
    "start_time": "2024-09-29T17:47:31.371Z"
   },
   {
    "duration": 4,
    "start_time": "2024-09-29T17:47:31.377Z"
   },
   {
    "duration": 26,
    "start_time": "2024-09-29T17:47:31.382Z"
   },
   {
    "duration": 16,
    "start_time": "2024-09-29T17:47:31.409Z"
   },
   {
    "duration": 13,
    "start_time": "2024-09-29T17:47:31.426Z"
   },
   {
    "duration": 1363,
    "start_time": "2024-09-29T18:06:21.641Z"
   },
   {
    "duration": 327,
    "start_time": "2024-09-29T18:06:23.006Z"
   },
   {
    "duration": 31,
    "start_time": "2024-09-29T18:06:23.335Z"
   },
   {
    "duration": 9,
    "start_time": "2024-09-29T18:06:23.368Z"
   },
   {
    "duration": 10,
    "start_time": "2024-09-29T18:06:23.378Z"
   },
   {
    "duration": 5,
    "start_time": "2024-09-29T18:06:23.389Z"
   },
   {
    "duration": 9,
    "start_time": "2024-09-29T18:06:23.395Z"
   },
   {
    "duration": 8,
    "start_time": "2024-09-29T18:06:23.405Z"
   },
   {
    "duration": 45,
    "start_time": "2024-09-29T18:06:23.414Z"
   },
   {
    "duration": 9,
    "start_time": "2024-09-29T18:06:23.461Z"
   },
   {
    "duration": 8,
    "start_time": "2024-09-29T18:06:23.471Z"
   },
   {
    "duration": 4,
    "start_time": "2024-09-29T18:06:23.480Z"
   },
   {
    "duration": 6,
    "start_time": "2024-09-29T18:06:23.486Z"
   },
   {
    "duration": 8,
    "start_time": "2024-09-29T18:06:23.493Z"
   },
   {
    "duration": 7,
    "start_time": "2024-09-29T18:06:23.503Z"
   },
   {
    "duration": 43,
    "start_time": "2024-09-29T18:06:23.512Z"
   },
   {
    "duration": 11,
    "start_time": "2024-09-29T18:06:23.557Z"
   },
   {
    "duration": 4,
    "start_time": "2024-09-29T18:06:23.570Z"
   },
   {
    "duration": 13,
    "start_time": "2024-09-29T18:06:23.576Z"
   },
   {
    "duration": 14,
    "start_time": "2024-09-29T18:06:23.591Z"
   },
   {
    "duration": 245,
    "start_time": "2024-09-29T18:06:23.609Z"
   },
   {
    "duration": 14,
    "start_time": "2024-09-29T18:06:23.864Z"
   },
   {
    "duration": 12,
    "start_time": "2024-09-29T18:06:23.880Z"
   },
   {
    "duration": 188,
    "start_time": "2024-09-29T18:06:23.894Z"
   },
   {
    "duration": 12,
    "start_time": "2024-09-29T18:06:24.084Z"
   },
   {
    "duration": 299,
    "start_time": "2024-09-29T18:06:24.098Z"
   },
   {
    "duration": 3,
    "start_time": "2024-09-29T18:06:24.399Z"
   },
   {
    "duration": 5,
    "start_time": "2024-09-29T18:06:24.404Z"
   },
   {
    "duration": 5,
    "start_time": "2024-09-29T18:06:24.410Z"
   },
   {
    "duration": 365,
    "start_time": "2024-09-29T18:06:24.417Z"
   },
   {
    "duration": 5,
    "start_time": "2024-09-29T18:06:25.208Z"
   },
   {
    "duration": 175,
    "start_time": "2024-09-29T18:06:25.393Z"
   },
   {
    "duration": 450,
    "start_time": "2024-09-29T18:06:25.584Z"
   },
   {
    "duration": 25,
    "start_time": "2024-09-29T18:06:26.904Z"
   },
   {
    "duration": 7,
    "start_time": "2024-09-29T18:06:27.432Z"
   },
   {
    "duration": 6,
    "start_time": "2024-09-29T18:06:27.617Z"
   },
   {
    "duration": 143,
    "start_time": "2024-09-29T18:06:28.153Z"
   },
   {
    "duration": 138,
    "start_time": "2024-09-29T18:06:28.465Z"
   },
   {
    "duration": 576,
    "start_time": "2024-09-29T18:06:29.040Z"
   },
   {
    "duration": 546,
    "start_time": "2024-09-29T18:06:29.619Z"
   },
   {
    "duration": 18,
    "start_time": "2024-09-29T18:06:30.167Z"
   },
   {
    "duration": 39,
    "start_time": "2024-09-29T18:06:30.920Z"
   },
   {
    "duration": 10,
    "start_time": "2024-09-29T18:06:31.146Z"
   },
   {
    "duration": 8,
    "start_time": "2024-09-29T18:06:32.800Z"
   },
   {
    "duration": 7,
    "start_time": "2024-09-29T18:06:38.024Z"
   },
   {
    "duration": 5,
    "start_time": "2024-09-29T18:06:38.776Z"
   },
   {
    "duration": 3,
    "start_time": "2024-09-29T18:06:39.993Z"
   },
   {
    "duration": 6,
    "start_time": "2024-09-29T18:06:43.473Z"
   },
   {
    "duration": 4,
    "start_time": "2024-09-29T18:06:46.440Z"
   },
   {
    "duration": 3,
    "start_time": "2024-09-29T18:06:55.496Z"
   },
   {
    "duration": 6,
    "start_time": "2024-09-29T18:07:04.928Z"
   },
   {
    "duration": 3,
    "start_time": "2024-09-29T18:07:09.352Z"
   },
   {
    "duration": 7,
    "start_time": "2024-09-29T18:07:12.111Z"
   },
   {
    "duration": 5,
    "start_time": "2024-09-29T18:07:13.223Z"
   },
   {
    "duration": 7,
    "start_time": "2024-09-29T18:28:00.393Z"
   },
   {
    "duration": 4,
    "start_time": "2024-09-29T18:28:01.739Z"
   },
   {
    "duration": 78,
    "start_time": "2024-09-29T18:38:57.919Z"
   },
   {
    "duration": 1386,
    "start_time": "2024-09-30T14:01:17.620Z"
   },
   {
    "duration": 409,
    "start_time": "2024-09-30T14:01:19.008Z"
   },
   {
    "duration": 34,
    "start_time": "2024-09-30T14:01:19.420Z"
   },
   {
    "duration": 12,
    "start_time": "2024-09-30T14:01:19.457Z"
   },
   {
    "duration": 12,
    "start_time": "2024-09-30T14:01:19.471Z"
   },
   {
    "duration": 5,
    "start_time": "2024-09-30T14:01:19.516Z"
   },
   {
    "duration": 12,
    "start_time": "2024-09-30T14:01:19.523Z"
   },
   {
    "duration": 9,
    "start_time": "2024-09-30T14:01:19.536Z"
   },
   {
    "duration": 9,
    "start_time": "2024-09-30T14:01:19.547Z"
   },
   {
    "duration": 18,
    "start_time": "2024-09-30T14:01:19.559Z"
   },
   {
    "duration": 38,
    "start_time": "2024-09-30T14:01:19.579Z"
   },
   {
    "duration": 13,
    "start_time": "2024-09-30T14:01:19.619Z"
   },
   {
    "duration": 10,
    "start_time": "2024-09-30T14:01:19.633Z"
   },
   {
    "duration": 10,
    "start_time": "2024-09-30T14:01:19.644Z"
   },
   {
    "duration": 12,
    "start_time": "2024-09-30T14:01:19.656Z"
   },
   {
    "duration": 73,
    "start_time": "2024-09-30T14:01:19.670Z"
   },
   {
    "duration": 13,
    "start_time": "2024-09-30T14:01:19.744Z"
   },
   {
    "duration": 16,
    "start_time": "2024-09-30T14:01:19.759Z"
   },
   {
    "duration": 34,
    "start_time": "2024-09-30T14:01:19.777Z"
   },
   {
    "duration": 15,
    "start_time": "2024-09-30T14:01:19.812Z"
   },
   {
    "duration": 199,
    "start_time": "2024-09-30T14:01:19.829Z"
   },
   {
    "duration": 14,
    "start_time": "2024-09-30T14:01:20.030Z"
   },
   {
    "duration": 63,
    "start_time": "2024-09-30T14:01:20.045Z"
   },
   {
    "duration": 185,
    "start_time": "2024-09-30T14:01:20.109Z"
   },
   {
    "duration": 21,
    "start_time": "2024-09-30T14:01:20.296Z"
   },
   {
    "duration": 370,
    "start_time": "2024-09-30T14:01:20.319Z"
   },
   {
    "duration": 4,
    "start_time": "2024-09-30T14:01:20.690Z"
   },
   {
    "duration": 32,
    "start_time": "2024-09-30T14:01:20.697Z"
   },
   {
    "duration": 23,
    "start_time": "2024-09-30T14:01:20.730Z"
   },
   {
    "duration": 385,
    "start_time": "2024-09-30T14:01:20.755Z"
   },
   {
    "duration": 5,
    "start_time": "2024-09-30T14:01:21.141Z"
   },
   {
    "duration": 228,
    "start_time": "2024-09-30T14:01:21.147Z"
   },
   {
    "duration": 498,
    "start_time": "2024-09-30T14:01:21.376Z"
   },
   {
    "duration": 26,
    "start_time": "2024-09-30T14:01:21.875Z"
   },
   {
    "duration": 7,
    "start_time": "2024-09-30T14:01:21.916Z"
   },
   {
    "duration": 6,
    "start_time": "2024-09-30T14:01:21.925Z"
   },
   {
    "duration": 170,
    "start_time": "2024-09-30T14:01:21.932Z"
   },
   {
    "duration": 152,
    "start_time": "2024-09-30T14:01:22.104Z"
   },
   {
    "duration": 696,
    "start_time": "2024-09-30T14:01:22.258Z"
   },
   {
    "duration": 580,
    "start_time": "2024-09-30T14:01:22.955Z"
   },
   {
    "duration": 18,
    "start_time": "2024-09-30T14:01:23.537Z"
   },
   {
    "duration": 40,
    "start_time": "2024-09-30T14:01:23.557Z"
   },
   {
    "duration": 10,
    "start_time": "2024-09-30T14:01:23.616Z"
   },
   {
    "duration": 10,
    "start_time": "2024-09-30T14:01:23.627Z"
   },
   {
    "duration": 8,
    "start_time": "2024-09-30T14:01:23.639Z"
   },
   {
    "duration": 14,
    "start_time": "2024-09-30T14:01:23.648Z"
   },
   {
    "duration": 86,
    "start_time": "2024-09-30T14:01:23.664Z"
   },
   {
    "duration": 9,
    "start_time": "2024-09-30T14:01:23.751Z"
   },
   {
    "duration": 12,
    "start_time": "2024-09-30T14:01:23.762Z"
   },
   {
    "duration": 6,
    "start_time": "2024-09-30T14:01:23.775Z"
   },
   {
    "duration": 16,
    "start_time": "2024-09-30T14:01:23.782Z"
   },
   {
    "duration": 8,
    "start_time": "2024-09-30T14:01:23.799Z"
   },
   {
    "duration": 5,
    "start_time": "2024-09-30T14:01:23.808Z"
   },
   {
    "duration": 1223,
    "start_time": "2024-09-30T14:04:27.058Z"
   },
   {
    "duration": 99,
    "start_time": "2024-09-30T14:04:28.282Z"
   },
   {
    "duration": 32,
    "start_time": "2024-09-30T14:04:28.382Z"
   },
   {
    "duration": 19,
    "start_time": "2024-09-30T14:04:28.416Z"
   },
   {
    "duration": 29,
    "start_time": "2024-09-30T14:04:28.437Z"
   },
   {
    "duration": 24,
    "start_time": "2024-09-30T14:04:28.468Z"
   },
   {
    "duration": 16,
    "start_time": "2024-09-30T14:04:28.494Z"
   },
   {
    "duration": 21,
    "start_time": "2024-09-30T14:04:28.512Z"
   },
   {
    "duration": 31,
    "start_time": "2024-09-30T14:04:28.534Z"
   },
   {
    "duration": 50,
    "start_time": "2024-09-30T14:04:28.568Z"
   },
   {
    "duration": 16,
    "start_time": "2024-09-30T14:04:28.620Z"
   },
   {
    "duration": 47,
    "start_time": "2024-09-30T14:04:28.637Z"
   },
   {
    "duration": 31,
    "start_time": "2024-09-30T14:04:28.686Z"
   },
   {
    "duration": 17,
    "start_time": "2024-09-30T14:04:28.718Z"
   },
   {
    "duration": 36,
    "start_time": "2024-09-30T14:04:28.736Z"
   },
   {
    "duration": 20,
    "start_time": "2024-09-30T14:04:28.774Z"
   },
   {
    "duration": 19,
    "start_time": "2024-09-30T14:04:28.796Z"
   },
   {
    "duration": 6,
    "start_time": "2024-09-30T14:04:28.816Z"
   },
   {
    "duration": 14,
    "start_time": "2024-09-30T14:04:28.823Z"
   },
   {
    "duration": 26,
    "start_time": "2024-09-30T14:04:28.839Z"
   },
   {
    "duration": 194,
    "start_time": "2024-09-30T14:04:28.867Z"
   },
   {
    "duration": 13,
    "start_time": "2024-09-30T14:04:29.063Z"
   },
   {
    "duration": 25,
    "start_time": "2024-09-30T14:04:29.078Z"
   },
   {
    "duration": 184,
    "start_time": "2024-09-30T14:04:29.104Z"
   },
   {
    "duration": 13,
    "start_time": "2024-09-30T14:04:29.289Z"
   },
   {
    "duration": 283,
    "start_time": "2024-09-30T14:04:29.315Z"
   },
   {
    "duration": 4,
    "start_time": "2024-09-30T14:04:29.600Z"
   },
   {
    "duration": 5,
    "start_time": "2024-09-30T14:04:29.615Z"
   },
   {
    "duration": 9,
    "start_time": "2024-09-30T14:04:29.621Z"
   },
   {
    "duration": 383,
    "start_time": "2024-09-30T14:04:29.632Z"
   },
   {
    "duration": 4,
    "start_time": "2024-09-30T14:04:30.017Z"
   },
   {
    "duration": 277,
    "start_time": "2024-09-30T14:04:30.023Z"
   },
   {
    "duration": 493,
    "start_time": "2024-09-30T14:04:30.301Z"
   },
   {
    "duration": 35,
    "start_time": "2024-09-30T14:04:30.796Z"
   },
   {
    "duration": 8,
    "start_time": "2024-09-30T14:04:30.833Z"
   },
   {
    "duration": 11,
    "start_time": "2024-09-30T14:04:30.843Z"
   },
   {
    "duration": 159,
    "start_time": "2024-09-30T14:04:30.856Z"
   },
   {
    "duration": 147,
    "start_time": "2024-09-30T14:04:31.017Z"
   },
   {
    "duration": 621,
    "start_time": "2024-09-30T14:04:31.165Z"
   },
   {
    "duration": 557,
    "start_time": "2024-09-30T14:04:31.788Z"
   },
   {
    "duration": 19,
    "start_time": "2024-09-30T14:04:32.347Z"
   },
   {
    "duration": 109,
    "start_time": "2024-09-30T14:04:32.368Z"
   },
   {
    "duration": 10,
    "start_time": "2024-09-30T14:04:32.479Z"
   },
   {
    "duration": 9,
    "start_time": "2024-09-30T14:04:32.490Z"
   },
   {
    "duration": 12,
    "start_time": "2024-09-30T14:04:32.501Z"
   },
   {
    "duration": 26,
    "start_time": "2024-09-30T14:04:32.514Z"
   },
   {
    "duration": 12,
    "start_time": "2024-09-30T14:04:32.541Z"
   },
   {
    "duration": 27,
    "start_time": "2024-09-30T14:04:32.555Z"
   },
   {
    "duration": 37,
    "start_time": "2024-09-30T14:04:32.584Z"
   },
   {
    "duration": 35,
    "start_time": "2024-09-30T14:04:32.623Z"
   },
   {
    "duration": 34,
    "start_time": "2024-09-30T14:04:32.660Z"
   },
   {
    "duration": 7,
    "start_time": "2024-09-30T14:04:32.697Z"
   },
   {
    "duration": 18,
    "start_time": "2024-09-30T14:04:32.706Z"
   },
   {
    "duration": 52,
    "start_time": "2024-09-30T16:05:37.782Z"
   },
   {
    "duration": 1439,
    "start_time": "2024-09-30T16:05:39.985Z"
   },
   {
    "duration": 302,
    "start_time": "2024-09-30T16:05:41.425Z"
   },
   {
    "duration": 22,
    "start_time": "2024-09-30T16:05:41.729Z"
   },
   {
    "duration": 18,
    "start_time": "2024-09-30T16:05:51.456Z"
   },
   {
    "duration": 17,
    "start_time": "2024-09-30T16:06:00.610Z"
   },
   {
    "duration": 6,
    "start_time": "2024-09-30T16:07:54.016Z"
   },
   {
    "duration": 7,
    "start_time": "2024-09-30T16:08:03.051Z"
   },
   {
    "duration": 7,
    "start_time": "2024-09-30T16:08:17.687Z"
   },
   {
    "duration": 5,
    "start_time": "2024-09-30T16:08:23.127Z"
   },
   {
    "duration": 6,
    "start_time": "2024-09-30T16:08:34.520Z"
   },
   {
    "duration": 8,
    "start_time": "2024-09-30T16:08:52.879Z"
   },
   {
    "duration": 7,
    "start_time": "2024-09-30T16:09:15.846Z"
   },
   {
    "duration": 12,
    "start_time": "2024-09-30T16:09:31.094Z"
   },
   {
    "duration": 6,
    "start_time": "2024-09-30T16:09:47.360Z"
   },
   {
    "duration": 5,
    "start_time": "2024-09-30T16:09:55.958Z"
   },
   {
    "duration": 10,
    "start_time": "2024-09-30T16:10:49.230Z"
   },
   {
    "duration": 11,
    "start_time": "2024-09-30T16:10:56.502Z"
   },
   {
    "duration": 4,
    "start_time": "2024-09-30T16:15:36.451Z"
   },
   {
    "duration": 5,
    "start_time": "2024-09-30T16:15:49.611Z"
   },
   {
    "duration": 9,
    "start_time": "2024-09-30T16:15:53.396Z"
   },
   {
    "duration": 174,
    "start_time": "2024-09-30T16:23:16.792Z"
   },
   {
    "duration": 103,
    "start_time": "2024-09-30T16:23:37.639Z"
   },
   {
    "duration": 151,
    "start_time": "2024-09-30T16:23:56.439Z"
   },
   {
    "duration": 4,
    "start_time": "2024-09-30T16:24:27.078Z"
   },
   {
    "duration": 175,
    "start_time": "2024-09-30T16:24:48.071Z"
   },
   {
    "duration": 7,
    "start_time": "2024-09-30T16:25:02.239Z"
   },
   {
    "duration": 171,
    "start_time": "2024-09-30T16:25:51.782Z"
   },
   {
    "duration": 7,
    "start_time": "2024-09-30T16:26:25.766Z"
   },
   {
    "duration": 238,
    "start_time": "2024-09-30T16:30:51.569Z"
   },
   {
    "duration": 182,
    "start_time": "2024-09-30T16:31:03.043Z"
   },
   {
    "duration": 26,
    "start_time": "2024-09-30T16:39:43.534Z"
   },
   {
    "duration": 9,
    "start_time": "2024-09-30T16:40:28.413Z"
   },
   {
    "duration": 6,
    "start_time": "2024-09-30T16:40:37.725Z"
   },
   {
    "duration": 13,
    "start_time": "2024-09-30T16:40:46.877Z"
   },
   {
    "duration": 14,
    "start_time": "2024-09-30T16:40:57.117Z"
   },
   {
    "duration": 343,
    "start_time": "2024-09-30T16:41:44.125Z"
   },
   {
    "duration": 228,
    "start_time": "2024-09-30T16:41:59.316Z"
   },
   {
    "duration": 18,
    "start_time": "2024-09-30T16:45:14.218Z"
   },
   {
    "duration": 1207,
    "start_time": "2024-09-30T16:45:30.275Z"
   },
   {
    "duration": 24,
    "start_time": "2024-09-30T16:50:41.716Z"
   },
   {
    "duration": 139,
    "start_time": "2024-09-30T16:51:02.386Z"
   },
   {
    "duration": 143,
    "start_time": "2024-09-30T16:51:13.143Z"
   },
   {
    "duration": 20,
    "start_time": "2024-09-30T18:08:39.558Z"
   },
   {
    "duration": 6,
    "start_time": "2024-09-30T18:08:44.139Z"
   },
   {
    "duration": 143,
    "start_time": "2024-09-30T18:12:11.279Z"
   },
   {
    "duration": 158,
    "start_time": "2024-09-30T18:12:38.889Z"
   },
   {
    "duration": 551,
    "start_time": "2024-09-30T18:15:12.758Z"
   },
   {
    "duration": 9,
    "start_time": "2024-09-30T18:19:42.541Z"
   },
   {
    "duration": 7,
    "start_time": "2024-09-30T18:19:47.978Z"
   },
   {
    "duration": 4,
    "start_time": "2024-09-30T18:19:52.812Z"
   },
   {
    "duration": 14,
    "start_time": "2024-09-30T18:19:53.029Z"
   },
   {
    "duration": 7,
    "start_time": "2024-09-30T18:19:53.569Z"
   },
   {
    "duration": 76,
    "start_time": "2024-09-30T18:19:53.602Z"
   },
   {
    "duration": 7,
    "start_time": "2024-09-30T18:19:53.680Z"
   },
   {
    "duration": 7,
    "start_time": "2024-09-30T18:19:53.689Z"
   },
   {
    "duration": 21,
    "start_time": "2024-09-30T18:19:53.697Z"
   },
   {
    "duration": 18,
    "start_time": "2024-09-30T18:19:53.726Z"
   },
   {
    "duration": 5,
    "start_time": "2024-09-30T18:19:53.774Z"
   },
   {
    "duration": 174,
    "start_time": "2024-09-30T18:19:54.628Z"
   },
   {
    "duration": 103,
    "start_time": "2024-09-30T18:19:57.316Z"
   },
   {
    "duration": 167,
    "start_time": "2024-09-30T18:19:58.524Z"
   },
   {
    "duration": 4,
    "start_time": "2024-09-30T18:19:58.693Z"
   },
   {
    "duration": 170,
    "start_time": "2024-09-30T18:19:59.541Z"
   },
   {
    "duration": 7,
    "start_time": "2024-09-30T18:19:59.714Z"
   },
   {
    "duration": 162,
    "start_time": "2024-09-30T18:20:00.300Z"
   },
   {
    "duration": 6,
    "start_time": "2024-09-30T18:20:00.465Z"
   },
   {
    "duration": 29,
    "start_time": "2024-09-30T18:20:01.076Z"
   },
   {
    "duration": 10,
    "start_time": "2024-09-30T18:20:01.388Z"
   },
   {
    "duration": 6,
    "start_time": "2024-09-30T18:20:01.532Z"
   },
   {
    "duration": 13,
    "start_time": "2024-09-30T18:20:01.716Z"
   },
   {
    "duration": 15,
    "start_time": "2024-09-30T18:20:01.909Z"
   },
   {
    "duration": 245,
    "start_time": "2024-09-30T18:20:02.236Z"
   },
   {
    "duration": 351,
    "start_time": "2024-09-30T18:20:02.748Z"
   },
   {
    "duration": 25,
    "start_time": "2024-09-30T18:20:04.781Z"
   },
   {
    "duration": 145,
    "start_time": "2024-09-30T18:20:08.661Z"
   },
   {
    "duration": 6,
    "start_time": "2024-09-30T18:20:09.412Z"
   },
   {
    "duration": 52,
    "start_time": "2024-10-01T11:56:53.687Z"
   },
   {
    "duration": 1296,
    "start_time": "2024-10-01T11:57:06.417Z"
   },
   {
    "duration": 324,
    "start_time": "2024-10-01T11:57:07.715Z"
   },
   {
    "duration": 22,
    "start_time": "2024-10-01T11:57:08.041Z"
   },
   {
    "duration": 17,
    "start_time": "2024-10-01T11:57:08.065Z"
   },
   {
    "duration": 14,
    "start_time": "2024-10-01T11:57:08.084Z"
   },
   {
    "duration": 9,
    "start_time": "2024-10-01T11:57:08.741Z"
   },
   {
    "duration": 4,
    "start_time": "2024-10-01T11:57:08.790Z"
   },
   {
    "duration": 11,
    "start_time": "2024-10-01T11:57:08.812Z"
   },
   {
    "duration": 6,
    "start_time": "2024-10-01T11:57:08.866Z"
   },
   {
    "duration": 6,
    "start_time": "2024-10-01T11:57:08.900Z"
   },
   {
    "duration": 7,
    "start_time": "2024-10-01T11:57:08.948Z"
   },
   {
    "duration": 6,
    "start_time": "2024-10-01T11:57:08.975Z"
   },
   {
    "duration": 7,
    "start_time": "2024-10-01T11:57:09.031Z"
   },
   {
    "duration": 7,
    "start_time": "2024-10-01T11:57:10.620Z"
   },
   {
    "duration": 4,
    "start_time": "2024-10-01T11:57:10.793Z"
   },
   {
    "duration": 163,
    "start_time": "2024-10-01T11:57:16.167Z"
   },
   {
    "duration": 94,
    "start_time": "2024-10-01T11:57:26.725Z"
   },
   {
    "duration": 133,
    "start_time": "2024-10-01T11:57:32.466Z"
   },
   {
    "duration": 133,
    "start_time": "2024-10-01T12:02:43.220Z"
   },
   {
    "duration": 1346,
    "start_time": "2024-10-01T17:11:03.685Z"
   },
   {
    "duration": 325,
    "start_time": "2024-10-01T17:11:05.033Z"
   },
   {
    "duration": 23,
    "start_time": "2024-10-01T17:11:05.359Z"
   },
   {
    "duration": 22,
    "start_time": "2024-10-01T17:11:05.384Z"
   },
   {
    "duration": 16,
    "start_time": "2024-10-01T17:11:05.407Z"
   },
   {
    "duration": 19,
    "start_time": "2024-10-01T17:11:05.424Z"
   },
   {
    "duration": 18,
    "start_time": "2024-10-01T17:11:05.444Z"
   },
   {
    "duration": 19,
    "start_time": "2024-10-01T17:11:05.464Z"
   },
   {
    "duration": 33,
    "start_time": "2024-10-01T17:11:05.485Z"
   },
   {
    "duration": 34,
    "start_time": "2024-10-01T17:11:05.521Z"
   },
   {
    "duration": 26,
    "start_time": "2024-10-01T17:11:05.556Z"
   },
   {
    "duration": 15,
    "start_time": "2024-10-01T17:11:05.584Z"
   },
   {
    "duration": 30,
    "start_time": "2024-10-01T17:11:05.600Z"
   },
   {
    "duration": 30,
    "start_time": "2024-10-01T17:11:05.631Z"
   },
   {
    "duration": 30,
    "start_time": "2024-10-01T17:11:05.662Z"
   },
   {
    "duration": 152,
    "start_time": "2024-10-01T17:11:05.694Z"
   },
   {
    "duration": 103,
    "start_time": "2024-10-01T17:11:05.847Z"
   },
   {
    "duration": 159,
    "start_time": "2024-10-01T17:11:05.951Z"
   },
   {
    "duration": 3,
    "start_time": "2024-10-01T17:11:11.030Z"
   },
   {
    "duration": 157,
    "start_time": "2024-10-01T17:11:12.221Z"
   },
   {
    "duration": 6,
    "start_time": "2024-10-01T17:11:12.380Z"
   },
   {
    "duration": 162,
    "start_time": "2024-10-01T17:11:12.388Z"
   },
   {
    "duration": 6,
    "start_time": "2024-10-01T17:11:12.552Z"
   },
   {
    "duration": 35,
    "start_time": "2024-10-01T17:11:12.560Z"
   },
   {
    "duration": 8,
    "start_time": "2024-10-01T17:11:12.596Z"
   },
   {
    "duration": 96,
    "start_time": "2024-10-01T17:11:12.611Z"
   },
   {
    "duration": 12,
    "start_time": "2024-10-01T17:11:12.709Z"
   },
   {
    "duration": 28,
    "start_time": "2024-10-01T17:11:12.723Z"
   },
   {
    "duration": 223,
    "start_time": "2024-10-01T17:11:13.357Z"
   },
   {
    "duration": 230,
    "start_time": "2024-10-01T17:11:13.582Z"
   },
   {
    "duration": 22,
    "start_time": "2024-10-01T17:11:14.510Z"
   },
   {
    "duration": 139,
    "start_time": "2024-10-01T17:11:14.813Z"
   },
   {
    "duration": 4,
    "start_time": "2024-10-01T17:11:15.125Z"
   },
   {
    "duration": 3,
    "start_time": "2024-10-01T17:13:14.221Z"
   },
   {
    "duration": 22,
    "start_time": "2024-10-01T17:15:25.332Z"
   },
   {
    "duration": 139,
    "start_time": "2024-10-01T17:15:37.468Z"
   },
   {
    "duration": 107,
    "start_time": "2024-10-01T18:10:23.072Z"
   },
   {
    "duration": 16,
    "start_time": "2024-10-01T18:10:34.690Z"
   },
   {
    "duration": 10,
    "start_time": "2024-10-01T18:12:55.606Z"
   },
   {
    "duration": 10,
    "start_time": "2024-10-01T18:12:59.651Z"
   },
   {
    "duration": 12,
    "start_time": "2024-10-01T18:14:34.907Z"
   },
   {
    "duration": 8,
    "start_time": "2024-10-01T18:14:38.401Z"
   },
   {
    "duration": 11,
    "start_time": "2024-10-01T18:14:58.497Z"
   },
   {
    "duration": 10,
    "start_time": "2024-10-01T18:15:04.353Z"
   },
   {
    "duration": 10,
    "start_time": "2024-10-01T18:15:08.025Z"
   },
   {
    "duration": 11,
    "start_time": "2024-10-01T18:15:12.777Z"
   },
   {
    "duration": 10,
    "start_time": "2024-10-01T18:15:15.801Z"
   },
   {
    "duration": 10,
    "start_time": "2024-10-01T18:15:18.777Z"
   },
   {
    "duration": 9,
    "start_time": "2024-10-01T18:18:03.333Z"
   },
   {
    "duration": 10,
    "start_time": "2024-10-01T18:19:25.209Z"
   },
   {
    "duration": 9,
    "start_time": "2024-10-01T18:19:28.704Z"
   },
   {
    "duration": 1239,
    "start_time": "2024-10-02T13:55:26.316Z"
   },
   {
    "duration": 459,
    "start_time": "2024-10-02T13:55:27.558Z"
   },
   {
    "duration": 28,
    "start_time": "2024-10-02T13:55:28.019Z"
   },
   {
    "duration": 22,
    "start_time": "2024-10-02T13:55:28.049Z"
   },
   {
    "duration": 50,
    "start_time": "2024-10-02T13:55:28.074Z"
   },
   {
    "duration": 92,
    "start_time": "2024-10-02T13:55:28.126Z"
   },
   {
    "duration": 15,
    "start_time": "2024-10-02T13:55:28.220Z"
   },
   {
    "duration": 33,
    "start_time": "2024-10-02T13:55:28.237Z"
   },
   {
    "duration": 19,
    "start_time": "2024-10-02T13:55:28.272Z"
   },
   {
    "duration": 7,
    "start_time": "2024-10-02T13:55:28.293Z"
   },
   {
    "duration": 8,
    "start_time": "2024-10-02T13:55:28.302Z"
   },
   {
    "duration": 6,
    "start_time": "2024-10-02T13:55:28.312Z"
   },
   {
    "duration": 8,
    "start_time": "2024-10-02T13:55:28.321Z"
   },
   {
    "duration": 5,
    "start_time": "2024-10-02T13:55:28.333Z"
   },
   {
    "duration": 15,
    "start_time": "2024-10-02T13:55:28.339Z"
   },
   {
    "duration": 156,
    "start_time": "2024-10-02T13:55:28.356Z"
   },
   {
    "duration": 118,
    "start_time": "2024-10-02T13:55:28.514Z"
   },
   {
    "duration": 149,
    "start_time": "2024-10-02T13:55:28.633Z"
   },
   {
    "duration": 3,
    "start_time": "2024-10-02T13:55:28.784Z"
   },
   {
    "duration": 178,
    "start_time": "2024-10-02T13:55:28.789Z"
   },
   {
    "duration": 7,
    "start_time": "2024-10-02T13:55:28.969Z"
   },
   {
    "duration": 180,
    "start_time": "2024-10-02T13:55:28.978Z"
   },
   {
    "duration": 7,
    "start_time": "2024-10-02T13:55:29.160Z"
   },
   {
    "duration": 63,
    "start_time": "2024-10-02T13:55:29.168Z"
   },
   {
    "duration": 8,
    "start_time": "2024-10-02T13:55:29.233Z"
   },
   {
    "duration": 31,
    "start_time": "2024-10-02T13:55:29.242Z"
   },
   {
    "duration": 35,
    "start_time": "2024-10-02T13:55:29.274Z"
   },
   {
    "duration": 32,
    "start_time": "2024-10-02T13:55:29.310Z"
   },
   {
    "duration": 259,
    "start_time": "2024-10-02T13:55:29.343Z"
   },
   {
    "duration": 244,
    "start_time": "2024-10-02T13:55:29.604Z"
   },
   {
    "duration": 23,
    "start_time": "2024-10-02T13:55:29.850Z"
   },
   {
    "duration": 162,
    "start_time": "2024-10-02T13:55:29.875Z"
   },
   {
    "duration": 110,
    "start_time": "2024-10-02T13:55:30.038Z"
   },
   {
    "duration": 0,
    "start_time": "2024-10-02T13:55:30.149Z"
   },
   {
    "duration": 0,
    "start_time": "2024-10-02T13:55:30.151Z"
   },
   {
    "duration": 0,
    "start_time": "2024-10-02T13:55:30.152Z"
   },
   {
    "duration": 9,
    "start_time": "2024-10-02T13:56:13.606Z"
   },
   {
    "duration": 7,
    "start_time": "2024-10-02T13:56:17.291Z"
   },
   {
    "duration": 1114,
    "start_time": "2024-10-02T13:56:24.794Z"
   },
   {
    "duration": 150,
    "start_time": "2024-10-02T13:56:25.910Z"
   },
   {
    "duration": 22,
    "start_time": "2024-10-02T13:56:26.062Z"
   },
   {
    "duration": 21,
    "start_time": "2024-10-02T13:56:26.086Z"
   },
   {
    "duration": 99,
    "start_time": "2024-10-02T13:56:26.110Z"
   },
   {
    "duration": 24,
    "start_time": "2024-10-02T13:56:26.210Z"
   },
   {
    "duration": 4,
    "start_time": "2024-10-02T13:56:26.236Z"
   },
   {
    "duration": 27,
    "start_time": "2024-10-02T13:56:26.241Z"
   },
   {
    "duration": 6,
    "start_time": "2024-10-02T13:56:26.270Z"
   },
   {
    "duration": 6,
    "start_time": "2024-10-02T13:56:26.277Z"
   },
   {
    "duration": 13,
    "start_time": "2024-10-02T13:56:26.285Z"
   },
   {
    "duration": 6,
    "start_time": "2024-10-02T13:56:26.299Z"
   },
   {
    "duration": 19,
    "start_time": "2024-10-02T13:56:26.307Z"
   },
   {
    "duration": 7,
    "start_time": "2024-10-02T13:56:26.329Z"
   },
   {
    "duration": 7,
    "start_time": "2024-10-02T13:56:26.337Z"
   },
   {
    "duration": 162,
    "start_time": "2024-10-02T13:56:26.346Z"
   },
   {
    "duration": 113,
    "start_time": "2024-10-02T13:56:26.510Z"
   },
   {
    "duration": 162,
    "start_time": "2024-10-02T13:56:26.625Z"
   },
   {
    "duration": 4,
    "start_time": "2024-10-02T13:56:26.789Z"
   },
   {
    "duration": 188,
    "start_time": "2024-10-02T13:56:26.795Z"
   },
   {
    "duration": 7,
    "start_time": "2024-10-02T13:56:26.984Z"
   },
   {
    "duration": 193,
    "start_time": "2024-10-02T13:56:26.992Z"
   },
   {
    "duration": 8,
    "start_time": "2024-10-02T13:56:27.186Z"
   },
   {
    "duration": 49,
    "start_time": "2024-10-02T13:56:27.195Z"
   },
   {
    "duration": 12,
    "start_time": "2024-10-02T13:56:27.245Z"
   },
   {
    "duration": 5,
    "start_time": "2024-10-02T13:56:27.259Z"
   },
   {
    "duration": 45,
    "start_time": "2024-10-02T13:56:27.266Z"
   },
   {
    "duration": 24,
    "start_time": "2024-10-02T13:56:27.316Z"
   },
   {
    "duration": 251,
    "start_time": "2024-10-02T13:56:27.342Z"
   },
   {
    "duration": 252,
    "start_time": "2024-10-02T13:56:27.594Z"
   },
   {
    "duration": 24,
    "start_time": "2024-10-02T13:56:27.848Z"
   },
   {
    "duration": 169,
    "start_time": "2024-10-02T13:56:27.874Z"
   },
   {
    "duration": 4,
    "start_time": "2024-10-02T13:56:28.045Z"
   },
   {
    "duration": 29,
    "start_time": "2024-10-02T13:56:28.050Z"
   },
   {
    "duration": 17,
    "start_time": "2024-10-02T13:56:28.080Z"
   },
   {
    "duration": 140,
    "start_time": "2024-10-02T13:56:28.099Z"
   },
   {
    "duration": 7,
    "start_time": "2024-10-02T13:59:18.018Z"
   },
   {
    "duration": 52,
    "start_time": "2024-10-02T16:40:25.267Z"
   },
   {
    "duration": 1267,
    "start_time": "2024-10-02T16:40:31.782Z"
   },
   {
    "duration": 389,
    "start_time": "2024-10-02T16:40:33.051Z"
   },
   {
    "duration": 23,
    "start_time": "2024-10-02T16:40:33.442Z"
   },
   {
    "duration": 43,
    "start_time": "2024-10-02T16:40:33.467Z"
   },
   {
    "duration": 16,
    "start_time": "2024-10-02T16:40:33.511Z"
   },
   {
    "duration": 10,
    "start_time": "2024-10-02T16:40:33.528Z"
   },
   {
    "duration": 34,
    "start_time": "2024-10-02T16:40:33.539Z"
   },
   {
    "duration": 13,
    "start_time": "2024-10-02T16:40:33.575Z"
   },
   {
    "duration": 6,
    "start_time": "2024-10-02T16:40:33.590Z"
   },
   {
    "duration": 6,
    "start_time": "2024-10-02T16:40:33.599Z"
   },
   {
    "duration": 19,
    "start_time": "2024-10-02T16:40:33.607Z"
   },
   {
    "duration": 9,
    "start_time": "2024-10-02T16:40:33.628Z"
   },
   {
    "duration": 30,
    "start_time": "2024-10-02T16:40:33.639Z"
   },
   {
    "duration": 48,
    "start_time": "2024-10-02T16:40:33.671Z"
   },
   {
    "duration": 51,
    "start_time": "2024-10-02T16:40:33.721Z"
   },
   {
    "duration": 151,
    "start_time": "2024-10-02T16:40:33.999Z"
   },
   {
    "duration": 114,
    "start_time": "2024-10-02T16:40:34.263Z"
   },
   {
    "duration": 162,
    "start_time": "2024-10-02T16:40:34.483Z"
   },
   {
    "duration": 4,
    "start_time": "2024-10-02T16:40:34.647Z"
   },
   {
    "duration": 188,
    "start_time": "2024-10-02T16:40:34.716Z"
   },
   {
    "duration": 8,
    "start_time": "2024-10-02T16:40:34.906Z"
   },
   {
    "duration": 179,
    "start_time": "2024-10-02T16:40:34.915Z"
   },
   {
    "duration": 6,
    "start_time": "2024-10-02T16:40:35.096Z"
   },
   {
    "duration": 43,
    "start_time": "2024-10-02T16:40:35.104Z"
   },
   {
    "duration": 9,
    "start_time": "2024-10-02T16:40:35.148Z"
   },
   {
    "duration": 9,
    "start_time": "2024-10-02T16:40:35.165Z"
   },
   {
    "duration": 16,
    "start_time": "2024-10-02T16:40:35.175Z"
   },
   {
    "duration": 15,
    "start_time": "2024-10-02T16:40:35.193Z"
   },
   {
    "duration": 235,
    "start_time": "2024-10-02T16:40:35.246Z"
   },
   {
    "duration": 252,
    "start_time": "2024-10-02T16:40:35.483Z"
   },
   {
    "duration": 37,
    "start_time": "2024-10-02T16:40:35.737Z"
   },
   {
    "duration": 14,
    "start_time": "2024-10-02T16:40:57.090Z"
   },
   {
    "duration": 5,
    "start_time": "2024-10-02T16:42:17.442Z"
   },
   {
    "duration": 8,
    "start_time": "2024-10-02T16:49:20.853Z"
   },
   {
    "duration": 5,
    "start_time": "2024-10-02T16:52:27.085Z"
   },
   {
    "duration": 1172,
    "start_time": "2024-10-03T01:06:37.028Z"
   },
   {
    "duration": 165,
    "start_time": "2024-10-03T01:06:38.202Z"
   },
   {
    "duration": 24,
    "start_time": "2024-10-03T01:06:38.368Z"
   },
   {
    "duration": 49,
    "start_time": "2024-10-03T01:06:38.395Z"
   },
   {
    "duration": 16,
    "start_time": "2024-10-03T01:06:38.446Z"
   },
   {
    "duration": 19,
    "start_time": "2024-10-03T01:06:38.463Z"
   },
   {
    "duration": 8,
    "start_time": "2024-10-03T01:06:38.483Z"
   },
   {
    "duration": 15,
    "start_time": "2024-10-03T01:06:38.492Z"
   },
   {
    "duration": 27,
    "start_time": "2024-10-03T01:06:38.509Z"
   },
   {
    "duration": 21,
    "start_time": "2024-10-03T01:06:38.538Z"
   },
   {
    "duration": 13,
    "start_time": "2024-10-03T01:06:38.561Z"
   },
   {
    "duration": 17,
    "start_time": "2024-10-03T01:06:38.576Z"
   },
   {
    "duration": 14,
    "start_time": "2024-10-03T01:06:38.595Z"
   },
   {
    "duration": 23,
    "start_time": "2024-10-03T01:06:38.613Z"
   },
   {
    "duration": 6,
    "start_time": "2024-10-03T01:06:38.637Z"
   },
   {
    "duration": 199,
    "start_time": "2024-10-03T01:06:38.645Z"
   },
   {
    "duration": 124,
    "start_time": "2024-10-03T01:06:38.846Z"
   },
   {
    "duration": 176,
    "start_time": "2024-10-03T01:06:38.971Z"
   },
   {
    "duration": 4,
    "start_time": "2024-10-03T01:06:39.148Z"
   },
   {
    "duration": 211,
    "start_time": "2024-10-03T01:06:39.154Z"
   },
   {
    "duration": 8,
    "start_time": "2024-10-03T01:06:39.367Z"
   },
   {
    "duration": 195,
    "start_time": "2024-10-03T01:06:39.377Z"
   },
   {
    "duration": 8,
    "start_time": "2024-10-03T01:06:39.574Z"
   },
   {
    "duration": 56,
    "start_time": "2024-10-03T01:06:39.584Z"
   },
   {
    "duration": 10,
    "start_time": "2024-10-03T01:06:39.642Z"
   },
   {
    "duration": 6,
    "start_time": "2024-10-03T01:06:39.653Z"
   },
   {
    "duration": 37,
    "start_time": "2024-10-03T01:06:39.660Z"
   },
   {
    "duration": 15,
    "start_time": "2024-10-03T01:06:39.698Z"
   },
   {
    "duration": 274,
    "start_time": "2024-10-03T01:06:39.720Z"
   },
   {
    "duration": 296,
    "start_time": "2024-10-03T01:06:39.996Z"
   },
   {
    "duration": 48,
    "start_time": "2024-10-03T01:06:40.294Z"
   },
   {
    "duration": 14,
    "start_time": "2024-10-03T01:06:40.344Z"
   },
   {
    "duration": 53,
    "start_time": "2024-10-03T01:06:40.366Z"
   },
   {
    "duration": 16,
    "start_time": "2024-10-03T01:06:40.421Z"
   },
   {
    "duration": 10,
    "start_time": "2024-10-03T01:06:40.438Z"
   },
   {
    "duration": 16,
    "start_time": "2024-10-03T01:06:40.449Z"
   },
   {
    "duration": 9,
    "start_time": "2024-10-03T01:07:24.827Z"
   }
  ],
  "kernelspec": {
   "display_name": "Python 3 (ipykernel)",
   "language": "python",
   "name": "python3"
  },
  "language_info": {
   "codemirror_mode": {
    "name": "ipython",
    "version": 3
   },
   "file_extension": ".py",
   "mimetype": "text/x-python",
   "name": "python",
   "nbconvert_exporter": "python",
   "pygments_lexer": "ipython3",
   "version": "3.9.5"
  },
  "toc": {
   "base_numbering": 1,
   "nav_menu": {},
   "number_sections": true,
   "sideBar": true,
   "skip_h1_title": true,
   "title_cell": "Table of Contents",
   "title_sidebar": "Contents",
   "toc_cell": false,
   "toc_position": {},
   "toc_section_display": true,
   "toc_window_display": false
  }
 },
 "nbformat": 4,
 "nbformat_minor": 5
}
