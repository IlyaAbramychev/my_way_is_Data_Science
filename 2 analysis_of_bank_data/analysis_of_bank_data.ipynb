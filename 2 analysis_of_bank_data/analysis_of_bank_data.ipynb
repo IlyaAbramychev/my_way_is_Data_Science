{
 "cells": [
  {
   "cell_type": "markdown",
   "id": "ee1c79fc",
   "metadata": {
    "deletable": false,
    "editable": false,
    "id": "c81daeeb"
   },
   "source": [
    "# Исследование надежности заемщиков\n"
   ]
  },
  {
   "cell_type": "markdown",
   "id": "f826d9c7",
   "metadata": {
    "deletable": false,
    "editable": false,
    "id": "827c20bf"
   },
   "source": [
    "Во второй части проекта вы выполните шаги 3 и 4. Их вручную проверит ревьюер.\n",
    "Чтобы вам не пришлось писать код заново для шагов 1 и 2, мы добавили авторские решения в ячейки с кодом. \n",
    "\n"
   ]
  },
  {
   "cell_type": "markdown",
   "id": "0ad03380",
   "metadata": {
    "deletable": false,
    "editable": false,
    "id": "744d7639"
   },
   "source": [
    "## Откройте таблицу и изучите общую информацию о данных"
   ]
  },
  {
   "cell_type": "markdown",
   "id": "e8b164b4",
   "metadata": {
    "deletable": false,
    "editable": false,
    "id": "e7a14c31"
   },
   "source": [
    "**Задание 1. Импортируйте библиотеку pandas. Считайте данные из csv-файла в датафрейм и сохраните в переменную `data`. Путь к файлу:**\n",
    "\n",
    "`/datasets/data.csv`"
   ]
  },
  {
   "cell_type": "code",
   "execution_count": 2,
   "id": "27652b57",
   "metadata": {
    "deletable": false,
    "id": "7bcf75c9"
   },
   "outputs": [],
   "source": [
    "import pandas as pd\n",
    "import matplotlib.pyplot as plt\n",
    "\n",
    "try:\n",
    "    data = pd.read_csv('/datasets/data.csv')\n",
    "except:\n",
    "    data = pd.read_csv('https://code.s3.yandex.net/datasets/data.csv')"
   ]
  },
  {
   "cell_type": "markdown",
   "id": "0b107ee1",
   "metadata": {
    "deletable": false,
    "editable": false,
    "id": "b8038fe3"
   },
   "source": [
    "**Задание 2. Выведите первые 20 строчек датафрейма `data` на экран.**"
   ]
  },
  {
   "cell_type": "code",
   "execution_count": 3,
   "id": "5a6ad39e",
   "metadata": {
    "deletable": false,
    "id": "2a7cab99",
    "outputId": "1a8f3ef2-d323-4ec2-ddf7-89670b5944c4"
   },
   "outputs": [
    {
     "data": {
      "text/html": [
       "<div>\n",
       "<style scoped>\n",
       "    .dataframe tbody tr th:only-of-type {\n",
       "        vertical-align: middle;\n",
       "    }\n",
       "\n",
       "    .dataframe tbody tr th {\n",
       "        vertical-align: top;\n",
       "    }\n",
       "\n",
       "    .dataframe thead th {\n",
       "        text-align: right;\n",
       "    }\n",
       "</style>\n",
       "<table border=\"1\" class=\"dataframe\">\n",
       "  <thead>\n",
       "    <tr style=\"text-align: right;\">\n",
       "      <th></th>\n",
       "      <th>children</th>\n",
       "      <th>days_employed</th>\n",
       "      <th>dob_years</th>\n",
       "      <th>education</th>\n",
       "      <th>education_id</th>\n",
       "      <th>family_status</th>\n",
       "      <th>family_status_id</th>\n",
       "      <th>gender</th>\n",
       "      <th>income_type</th>\n",
       "      <th>debt</th>\n",
       "      <th>total_income</th>\n",
       "      <th>purpose</th>\n",
       "    </tr>\n",
       "  </thead>\n",
       "  <tbody>\n",
       "    <tr>\n",
       "      <th>0</th>\n",
       "      <td>1</td>\n",
       "      <td>-8437.673028</td>\n",
       "      <td>42</td>\n",
       "      <td>высшее</td>\n",
       "      <td>0</td>\n",
       "      <td>женат / замужем</td>\n",
       "      <td>0</td>\n",
       "      <td>F</td>\n",
       "      <td>сотрудник</td>\n",
       "      <td>0</td>\n",
       "      <td>253875.639453</td>\n",
       "      <td>покупка жилья</td>\n",
       "    </tr>\n",
       "    <tr>\n",
       "      <th>1</th>\n",
       "      <td>1</td>\n",
       "      <td>-4024.803754</td>\n",
       "      <td>36</td>\n",
       "      <td>среднее</td>\n",
       "      <td>1</td>\n",
       "      <td>женат / замужем</td>\n",
       "      <td>0</td>\n",
       "      <td>F</td>\n",
       "      <td>сотрудник</td>\n",
       "      <td>0</td>\n",
       "      <td>112080.014102</td>\n",
       "      <td>приобретение автомобиля</td>\n",
       "    </tr>\n",
       "    <tr>\n",
       "      <th>2</th>\n",
       "      <td>0</td>\n",
       "      <td>-5623.422610</td>\n",
       "      <td>33</td>\n",
       "      <td>Среднее</td>\n",
       "      <td>1</td>\n",
       "      <td>женат / замужем</td>\n",
       "      <td>0</td>\n",
       "      <td>M</td>\n",
       "      <td>сотрудник</td>\n",
       "      <td>0</td>\n",
       "      <td>145885.952297</td>\n",
       "      <td>покупка жилья</td>\n",
       "    </tr>\n",
       "    <tr>\n",
       "      <th>3</th>\n",
       "      <td>3</td>\n",
       "      <td>-4124.747207</td>\n",
       "      <td>32</td>\n",
       "      <td>среднее</td>\n",
       "      <td>1</td>\n",
       "      <td>женат / замужем</td>\n",
       "      <td>0</td>\n",
       "      <td>M</td>\n",
       "      <td>сотрудник</td>\n",
       "      <td>0</td>\n",
       "      <td>267628.550329</td>\n",
       "      <td>дополнительное образование</td>\n",
       "    </tr>\n",
       "    <tr>\n",
       "      <th>4</th>\n",
       "      <td>0</td>\n",
       "      <td>340266.072047</td>\n",
       "      <td>53</td>\n",
       "      <td>среднее</td>\n",
       "      <td>1</td>\n",
       "      <td>гражданский брак</td>\n",
       "      <td>1</td>\n",
       "      <td>F</td>\n",
       "      <td>пенсионер</td>\n",
       "      <td>0</td>\n",
       "      <td>158616.077870</td>\n",
       "      <td>сыграть свадьбу</td>\n",
       "    </tr>\n",
       "    <tr>\n",
       "      <th>5</th>\n",
       "      <td>0</td>\n",
       "      <td>-926.185831</td>\n",
       "      <td>27</td>\n",
       "      <td>высшее</td>\n",
       "      <td>0</td>\n",
       "      <td>гражданский брак</td>\n",
       "      <td>1</td>\n",
       "      <td>M</td>\n",
       "      <td>компаньон</td>\n",
       "      <td>0</td>\n",
       "      <td>255763.565419</td>\n",
       "      <td>покупка жилья</td>\n",
       "    </tr>\n",
       "    <tr>\n",
       "      <th>6</th>\n",
       "      <td>0</td>\n",
       "      <td>-2879.202052</td>\n",
       "      <td>43</td>\n",
       "      <td>высшее</td>\n",
       "      <td>0</td>\n",
       "      <td>женат / замужем</td>\n",
       "      <td>0</td>\n",
       "      <td>F</td>\n",
       "      <td>компаньон</td>\n",
       "      <td>0</td>\n",
       "      <td>240525.971920</td>\n",
       "      <td>операции с жильем</td>\n",
       "    </tr>\n",
       "    <tr>\n",
       "      <th>7</th>\n",
       "      <td>0</td>\n",
       "      <td>-152.779569</td>\n",
       "      <td>50</td>\n",
       "      <td>СРЕДНЕЕ</td>\n",
       "      <td>1</td>\n",
       "      <td>женат / замужем</td>\n",
       "      <td>0</td>\n",
       "      <td>M</td>\n",
       "      <td>сотрудник</td>\n",
       "      <td>0</td>\n",
       "      <td>135823.934197</td>\n",
       "      <td>образование</td>\n",
       "    </tr>\n",
       "    <tr>\n",
       "      <th>8</th>\n",
       "      <td>2</td>\n",
       "      <td>-6929.865299</td>\n",
       "      <td>35</td>\n",
       "      <td>ВЫСШЕЕ</td>\n",
       "      <td>0</td>\n",
       "      <td>гражданский брак</td>\n",
       "      <td>1</td>\n",
       "      <td>F</td>\n",
       "      <td>сотрудник</td>\n",
       "      <td>0</td>\n",
       "      <td>95856.832424</td>\n",
       "      <td>на проведение свадьбы</td>\n",
       "    </tr>\n",
       "    <tr>\n",
       "      <th>9</th>\n",
       "      <td>0</td>\n",
       "      <td>-2188.756445</td>\n",
       "      <td>41</td>\n",
       "      <td>среднее</td>\n",
       "      <td>1</td>\n",
       "      <td>женат / замужем</td>\n",
       "      <td>0</td>\n",
       "      <td>M</td>\n",
       "      <td>сотрудник</td>\n",
       "      <td>0</td>\n",
       "      <td>144425.938277</td>\n",
       "      <td>покупка жилья для семьи</td>\n",
       "    </tr>\n",
       "    <tr>\n",
       "      <th>10</th>\n",
       "      <td>2</td>\n",
       "      <td>-4171.483647</td>\n",
       "      <td>36</td>\n",
       "      <td>высшее</td>\n",
       "      <td>0</td>\n",
       "      <td>женат / замужем</td>\n",
       "      <td>0</td>\n",
       "      <td>M</td>\n",
       "      <td>компаньон</td>\n",
       "      <td>0</td>\n",
       "      <td>113943.491460</td>\n",
       "      <td>покупка недвижимости</td>\n",
       "    </tr>\n",
       "    <tr>\n",
       "      <th>11</th>\n",
       "      <td>0</td>\n",
       "      <td>-792.701887</td>\n",
       "      <td>40</td>\n",
       "      <td>среднее</td>\n",
       "      <td>1</td>\n",
       "      <td>женат / замужем</td>\n",
       "      <td>0</td>\n",
       "      <td>F</td>\n",
       "      <td>сотрудник</td>\n",
       "      <td>0</td>\n",
       "      <td>77069.234271</td>\n",
       "      <td>покупка коммерческой недвижимости</td>\n",
       "    </tr>\n",
       "    <tr>\n",
       "      <th>12</th>\n",
       "      <td>0</td>\n",
       "      <td>NaN</td>\n",
       "      <td>65</td>\n",
       "      <td>среднее</td>\n",
       "      <td>1</td>\n",
       "      <td>гражданский брак</td>\n",
       "      <td>1</td>\n",
       "      <td>M</td>\n",
       "      <td>пенсионер</td>\n",
       "      <td>0</td>\n",
       "      <td>NaN</td>\n",
       "      <td>сыграть свадьбу</td>\n",
       "    </tr>\n",
       "    <tr>\n",
       "      <th>13</th>\n",
       "      <td>0</td>\n",
       "      <td>-1846.641941</td>\n",
       "      <td>54</td>\n",
       "      <td>неоконченное высшее</td>\n",
       "      <td>2</td>\n",
       "      <td>женат / замужем</td>\n",
       "      <td>0</td>\n",
       "      <td>F</td>\n",
       "      <td>сотрудник</td>\n",
       "      <td>0</td>\n",
       "      <td>130458.228857</td>\n",
       "      <td>приобретение автомобиля</td>\n",
       "    </tr>\n",
       "    <tr>\n",
       "      <th>14</th>\n",
       "      <td>0</td>\n",
       "      <td>-1844.956182</td>\n",
       "      <td>56</td>\n",
       "      <td>высшее</td>\n",
       "      <td>0</td>\n",
       "      <td>гражданский брак</td>\n",
       "      <td>1</td>\n",
       "      <td>F</td>\n",
       "      <td>компаньон</td>\n",
       "      <td>1</td>\n",
       "      <td>165127.911772</td>\n",
       "      <td>покупка жилой недвижимости</td>\n",
       "    </tr>\n",
       "    <tr>\n",
       "      <th>15</th>\n",
       "      <td>1</td>\n",
       "      <td>-972.364419</td>\n",
       "      <td>26</td>\n",
       "      <td>среднее</td>\n",
       "      <td>1</td>\n",
       "      <td>женат / замужем</td>\n",
       "      <td>0</td>\n",
       "      <td>F</td>\n",
       "      <td>сотрудник</td>\n",
       "      <td>0</td>\n",
       "      <td>116820.904450</td>\n",
       "      <td>строительство собственной недвижимости</td>\n",
       "    </tr>\n",
       "    <tr>\n",
       "      <th>16</th>\n",
       "      <td>0</td>\n",
       "      <td>-1719.934226</td>\n",
       "      <td>35</td>\n",
       "      <td>среднее</td>\n",
       "      <td>1</td>\n",
       "      <td>женат / замужем</td>\n",
       "      <td>0</td>\n",
       "      <td>F</td>\n",
       "      <td>сотрудник</td>\n",
       "      <td>0</td>\n",
       "      <td>289202.704229</td>\n",
       "      <td>недвижимость</td>\n",
       "    </tr>\n",
       "    <tr>\n",
       "      <th>17</th>\n",
       "      <td>0</td>\n",
       "      <td>-2369.999720</td>\n",
       "      <td>33</td>\n",
       "      <td>высшее</td>\n",
       "      <td>0</td>\n",
       "      <td>гражданский брак</td>\n",
       "      <td>1</td>\n",
       "      <td>M</td>\n",
       "      <td>сотрудник</td>\n",
       "      <td>0</td>\n",
       "      <td>90410.586745</td>\n",
       "      <td>строительство недвижимости</td>\n",
       "    </tr>\n",
       "    <tr>\n",
       "      <th>18</th>\n",
       "      <td>0</td>\n",
       "      <td>400281.136913</td>\n",
       "      <td>53</td>\n",
       "      <td>среднее</td>\n",
       "      <td>1</td>\n",
       "      <td>вдовец / вдова</td>\n",
       "      <td>2</td>\n",
       "      <td>F</td>\n",
       "      <td>пенсионер</td>\n",
       "      <td>0</td>\n",
       "      <td>56823.777243</td>\n",
       "      <td>на покупку подержанного автомобиля</td>\n",
       "    </tr>\n",
       "    <tr>\n",
       "      <th>19</th>\n",
       "      <td>0</td>\n",
       "      <td>-10038.818549</td>\n",
       "      <td>48</td>\n",
       "      <td>СРЕДНЕЕ</td>\n",
       "      <td>1</td>\n",
       "      <td>в разводе</td>\n",
       "      <td>3</td>\n",
       "      <td>F</td>\n",
       "      <td>сотрудник</td>\n",
       "      <td>0</td>\n",
       "      <td>242831.107982</td>\n",
       "      <td>на покупку своего автомобиля</td>\n",
       "    </tr>\n",
       "  </tbody>\n",
       "</table>\n",
       "</div>"
      ],
      "text/plain": [
       "    children  days_employed  dob_years            education  education_id  \\\n",
       "0          1   -8437.673028         42               высшее             0   \n",
       "1          1   -4024.803754         36              среднее             1   \n",
       "2          0   -5623.422610         33              Среднее             1   \n",
       "3          3   -4124.747207         32              среднее             1   \n",
       "4          0  340266.072047         53              среднее             1   \n",
       "5          0    -926.185831         27               высшее             0   \n",
       "6          0   -2879.202052         43               высшее             0   \n",
       "7          0    -152.779569         50              СРЕДНЕЕ             1   \n",
       "8          2   -6929.865299         35               ВЫСШЕЕ             0   \n",
       "9          0   -2188.756445         41              среднее             1   \n",
       "10         2   -4171.483647         36               высшее             0   \n",
       "11         0    -792.701887         40              среднее             1   \n",
       "12         0            NaN         65              среднее             1   \n",
       "13         0   -1846.641941         54  неоконченное высшее             2   \n",
       "14         0   -1844.956182         56               высшее             0   \n",
       "15         1    -972.364419         26              среднее             1   \n",
       "16         0   -1719.934226         35              среднее             1   \n",
       "17         0   -2369.999720         33               высшее             0   \n",
       "18         0  400281.136913         53              среднее             1   \n",
       "19         0  -10038.818549         48              СРЕДНЕЕ             1   \n",
       "\n",
       "       family_status  family_status_id gender income_type  debt  \\\n",
       "0    женат / замужем                 0      F   сотрудник     0   \n",
       "1    женат / замужем                 0      F   сотрудник     0   \n",
       "2    женат / замужем                 0      M   сотрудник     0   \n",
       "3    женат / замужем                 0      M   сотрудник     0   \n",
       "4   гражданский брак                 1      F   пенсионер     0   \n",
       "5   гражданский брак                 1      M   компаньон     0   \n",
       "6    женат / замужем                 0      F   компаньон     0   \n",
       "7    женат / замужем                 0      M   сотрудник     0   \n",
       "8   гражданский брак                 1      F   сотрудник     0   \n",
       "9    женат / замужем                 0      M   сотрудник     0   \n",
       "10   женат / замужем                 0      M   компаньон     0   \n",
       "11   женат / замужем                 0      F   сотрудник     0   \n",
       "12  гражданский брак                 1      M   пенсионер     0   \n",
       "13   женат / замужем                 0      F   сотрудник     0   \n",
       "14  гражданский брак                 1      F   компаньон     1   \n",
       "15   женат / замужем                 0      F   сотрудник     0   \n",
       "16   женат / замужем                 0      F   сотрудник     0   \n",
       "17  гражданский брак                 1      M   сотрудник     0   \n",
       "18    вдовец / вдова                 2      F   пенсионер     0   \n",
       "19         в разводе                 3      F   сотрудник     0   \n",
       "\n",
       "     total_income                                 purpose  \n",
       "0   253875.639453                           покупка жилья  \n",
       "1   112080.014102                 приобретение автомобиля  \n",
       "2   145885.952297                           покупка жилья  \n",
       "3   267628.550329              дополнительное образование  \n",
       "4   158616.077870                         сыграть свадьбу  \n",
       "5   255763.565419                           покупка жилья  \n",
       "6   240525.971920                       операции с жильем  \n",
       "7   135823.934197                             образование  \n",
       "8    95856.832424                   на проведение свадьбы  \n",
       "9   144425.938277                 покупка жилья для семьи  \n",
       "10  113943.491460                    покупка недвижимости  \n",
       "11   77069.234271       покупка коммерческой недвижимости  \n",
       "12            NaN                         сыграть свадьбу  \n",
       "13  130458.228857                 приобретение автомобиля  \n",
       "14  165127.911772              покупка жилой недвижимости  \n",
       "15  116820.904450  строительство собственной недвижимости  \n",
       "16  289202.704229                            недвижимость  \n",
       "17   90410.586745              строительство недвижимости  \n",
       "18   56823.777243      на покупку подержанного автомобиля  \n",
       "19  242831.107982            на покупку своего автомобиля  "
      ]
     },
     "execution_count": 3,
     "metadata": {},
     "output_type": "execute_result"
    }
   ],
   "source": [
    "data.head(20)"
   ]
  },
  {
   "cell_type": "markdown",
   "id": "37b02cad",
   "metadata": {
    "deletable": false,
    "editable": false,
    "id": "1c12e233"
   },
   "source": [
    "**Задание 3. Выведите основную информацию о датафрейме с помощью метода `info()`.**"
   ]
  },
  {
   "cell_type": "code",
   "execution_count": 4,
   "id": "be7bee91",
   "metadata": {
    "deletable": false,
    "id": "2b757bca",
    "outputId": "15376089-8dad-46c9-b520-c05248d43158"
   },
   "outputs": [
    {
     "name": "stdout",
     "output_type": "stream",
     "text": [
      "<class 'pandas.core.frame.DataFrame'>\n",
      "RangeIndex: 21525 entries, 0 to 21524\n",
      "Data columns (total 12 columns):\n",
      " #   Column            Non-Null Count  Dtype  \n",
      "---  ------            --------------  -----  \n",
      " 0   children          21525 non-null  int64  \n",
      " 1   days_employed     19351 non-null  float64\n",
      " 2   dob_years         21525 non-null  int64  \n",
      " 3   education         21525 non-null  object \n",
      " 4   education_id      21525 non-null  int64  \n",
      " 5   family_status     21525 non-null  object \n",
      " 6   family_status_id  21525 non-null  int64  \n",
      " 7   gender            21525 non-null  object \n",
      " 8   income_type       21525 non-null  object \n",
      " 9   debt              21525 non-null  int64  \n",
      " 10  total_income      19351 non-null  float64\n",
      " 11  purpose           21525 non-null  object \n",
      "dtypes: float64(2), int64(5), object(5)\n",
      "memory usage: 2.0+ MB\n"
     ]
    }
   ],
   "source": [
    "data.info()"
   ]
  },
  {
   "cell_type": "markdown",
   "id": "7ee11593",
   "metadata": {
    "deletable": false,
    "editable": false,
    "id": "333ec665"
   },
   "source": [
    "## Предобработка данных"
   ]
  },
  {
   "cell_type": "markdown",
   "id": "bb677b72",
   "metadata": {
    "deletable": false,
    "editable": false,
    "id": "02d92d53"
   },
   "source": [
    "### Удаление пропусков"
   ]
  },
  {
   "cell_type": "markdown",
   "id": "88a1fd57",
   "metadata": {
    "deletable": false,
    "editable": false,
    "id": "cd84967c"
   },
   "source": [
    "**Задание 4. Выведите количество пропущенных значений для каждого столбца. Используйте комбинацию двух методов.**"
   ]
  },
  {
   "cell_type": "code",
   "execution_count": 5,
   "id": "1bfafaef",
   "metadata": {
    "deletable": false,
    "id": "7f9b2309",
    "outputId": "81f4d817-781c-465c-ed15-91ce4446810d"
   },
   "outputs": [
    {
     "data": {
      "text/plain": [
       "children               0\n",
       "days_employed       2174\n",
       "dob_years              0\n",
       "education              0\n",
       "education_id           0\n",
       "family_status          0\n",
       "family_status_id       0\n",
       "gender                 0\n",
       "income_type            0\n",
       "debt                   0\n",
       "total_income        2174\n",
       "purpose                0\n",
       "dtype: int64"
      ]
     },
     "execution_count": 5,
     "metadata": {},
     "output_type": "execute_result"
    }
   ],
   "source": [
    "data.isna().sum()"
   ]
  },
  {
   "cell_type": "markdown",
   "id": "b079c62e",
   "metadata": {
    "deletable": false,
    "editable": false,
    "id": "db86e27b"
   },
   "source": [
    "**Задание 5. В двух столбцах есть пропущенные значения. Один из них — `days_employed`. Пропуски в этом столбце вы обработаете на следующем этапе. Другой столбец с пропущенными значениями — `total_income` — хранит данные о доходах. На сумму дохода сильнее всего влияет тип занятости, поэтому заполнить пропуски в этом столбце нужно медианным значением по каждому типу из столбца `income_type`. Например, у человека с типом занятости `сотрудник` пропуск в столбце `total_income` должен быть заполнен медианным доходом среди всех записей с тем же типом.**"
   ]
  },
  {
   "cell_type": "code",
   "execution_count": 6,
   "id": "ca22dd0b",
   "metadata": {
    "deletable": false,
    "id": "42006a93"
   },
   "outputs": [],
   "source": [
    "for t in data['income_type'].unique():\n",
    "    data.loc[(data['income_type'] == t) & (data['total_income'].isna()), 'total_income'] = \\\n",
    "    data.loc[(data['income_type'] == t), 'total_income'].median()"
   ]
  },
  {
   "cell_type": "markdown",
   "id": "2e07917e",
   "metadata": {
    "deletable": false,
    "editable": false,
    "id": "89da5ece"
   },
   "source": [
    "### Обработка аномальных значений"
   ]
  },
  {
   "cell_type": "markdown",
   "id": "9ae1d674",
   "metadata": {
    "deletable": false,
    "editable": false,
    "id": "57964554"
   },
   "source": [
    "**Задание 6. В данных могут встречаться артефакты (аномалии) — значения, которые не отражают действительность и появились по какой-то ошибке. таким артефактом будет отрицательное количество дней трудового стажа в столбце `days_employed`. Для реальных данных это нормально. Обработайте значения в этом столбце: замените все отрицательные значения положительными с помощью метода `abs()`.**"
   ]
  },
  {
   "cell_type": "code",
   "execution_count": 7,
   "id": "bc84d2b0",
   "metadata": {
    "deletable": false,
    "id": "f6f055bf"
   },
   "outputs": [],
   "source": [
    "data['days_employed'] = data['days_employed'].abs()"
   ]
  },
  {
   "cell_type": "markdown",
   "id": "24e99bdd",
   "metadata": {
    "deletable": false,
    "editable": false,
    "id": "6107dd2f"
   },
   "source": [
    "**Задание 7. Для каждого типа занятости выведите медианное значение трудового стажа `days_employed` в днях.**"
   ]
  },
  {
   "cell_type": "code",
   "execution_count": 8,
   "id": "0cf7e9ff",
   "metadata": {
    "deletable": false,
    "id": "85a5faf6",
    "outputId": "801ef80e-522b-4668-f34e-565af7432bcf"
   },
   "outputs": [
    {
     "data": {
      "text/plain": [
       "income_type\n",
       "безработный        366413.652744\n",
       "в декрете            3296.759962\n",
       "госслужащий          2689.368353\n",
       "компаньон            1547.382223\n",
       "пенсионер          365213.306266\n",
       "предприниматель       520.848083\n",
       "сотрудник            1574.202821\n",
       "студент               578.751554\n",
       "Name: days_employed, dtype: float64"
      ]
     },
     "execution_count": 8,
     "metadata": {},
     "output_type": "execute_result"
    }
   ],
   "source": [
    "data.groupby('income_type')['days_employed'].agg('median')"
   ]
  },
  {
   "cell_type": "markdown",
   "id": "42ac4a18",
   "metadata": {
    "deletable": false,
    "editable": false,
    "id": "38d1a030"
   },
   "source": [
    "У двух типов (безработные и пенсионеры) получатся аномально большие значения. Исправить такие значения сложно, поэтому оставьте их как есть. Тем более этот столбец не понадобится вам для исследования."
   ]
  },
  {
   "cell_type": "markdown",
   "id": "a8bbebc1",
   "metadata": {
    "deletable": false,
    "editable": false,
    "id": "d8a9f147"
   },
   "source": [
    "**Задание 8. Выведите перечень уникальных значений столбца `children`.**"
   ]
  },
  {
   "cell_type": "code",
   "execution_count": 9,
   "id": "21652fc5",
   "metadata": {
    "deletable": false,
    "id": "ef5056eb",
    "outputId": "6975b15c-7f95-4697-d16d-a0c79b657b03"
   },
   "outputs": [
    {
     "data": {
      "text/plain": [
       "array([ 1,  0,  3,  2, -1,  4, 20,  5])"
      ]
     },
     "execution_count": 9,
     "metadata": {},
     "output_type": "execute_result"
    }
   ],
   "source": [
    "data['children'].unique()"
   ]
  },
  {
   "cell_type": "markdown",
   "id": "ed6b1eb6",
   "metadata": {
    "deletable": false,
    "editable": false,
    "id": "40b9ebf2"
   },
   "source": [
    "**Задание 9. В столбце `children` есть два аномальных значения. Удалите строки, в которых встречаются такие аномальные значения из датафрейма `data`.**"
   ]
  },
  {
   "cell_type": "code",
   "execution_count": 10,
   "id": "e82d340b",
   "metadata": {
    "deletable": false,
    "id": "3ff9801d"
   },
   "outputs": [],
   "source": [
    "data = data[(data['children'] != -1) & (data['children'] != 20)]"
   ]
  },
  {
   "cell_type": "markdown",
   "id": "2aa0a7e5",
   "metadata": {
    "deletable": false,
    "editable": false,
    "id": "bbc4d0ce"
   },
   "source": [
    "**Задание 10. Ещё раз выведите перечень уникальных значений столбца `children`, чтобы убедиться, что артефакты удалены.**"
   ]
  },
  {
   "cell_type": "code",
   "execution_count": 11,
   "id": "85b0af0b",
   "metadata": {
    "deletable": false,
    "id": "ad4fa8b7",
    "outputId": "b2097101-d49d-44d9-901b-32a65c9463d1"
   },
   "outputs": [
    {
     "data": {
      "text/plain": [
       "array([1, 0, 3, 2, 4, 5])"
      ]
     },
     "execution_count": 11,
     "metadata": {},
     "output_type": "execute_result"
    }
   ],
   "source": [
    "data['children'].unique()"
   ]
  },
  {
   "cell_type": "markdown",
   "id": "6de07811",
   "metadata": {
    "deletable": false,
    "editable": false,
    "id": "75440b63"
   },
   "source": [
    "### Удаление пропусков (продолжение)"
   ]
  },
  {
   "cell_type": "markdown",
   "id": "32bcb597",
   "metadata": {
    "deletable": false,
    "editable": false,
    "id": "f4ea573f"
   },
   "source": [
    "**Задание 11. Заполните пропуски в столбце `days_employed` медианными значениями по каждого типа занятости `income_type`.**"
   ]
  },
  {
   "cell_type": "code",
   "execution_count": 12,
   "id": "4142c7a6",
   "metadata": {
    "deletable": false,
    "id": "af6b1a7e"
   },
   "outputs": [],
   "source": [
    "for t in data['income_type'].unique():\n",
    "    data.loc[(data['income_type'] == t) & (data['days_employed'].isna()), 'days_employed'] = \\\n",
    "    data.loc[(data['income_type'] == t), 'days_employed'].median()"
   ]
  },
  {
   "cell_type": "markdown",
   "id": "ebe546d2",
   "metadata": {
    "deletable": false,
    "editable": false,
    "id": "2753f40d"
   },
   "source": [
    "**Задание 12. Убедитесь, что все пропуски заполнены. Проверьте себя и ещё раз выведите количество пропущенных значений для каждого столбца с помощью двух методов.**"
   ]
  },
  {
   "cell_type": "code",
   "execution_count": 13,
   "id": "d55278b5",
   "metadata": {
    "deletable": false,
    "id": "55f78bc2",
    "outputId": "8da1e4e1-358e-4e87-98c9-f261bce0a7b2"
   },
   "outputs": [
    {
     "data": {
      "text/plain": [
       "children            0\n",
       "days_employed       0\n",
       "dob_years           0\n",
       "education           0\n",
       "education_id        0\n",
       "family_status       0\n",
       "family_status_id    0\n",
       "gender              0\n",
       "income_type         0\n",
       "debt                0\n",
       "total_income        0\n",
       "purpose             0\n",
       "dtype: int64"
      ]
     },
     "execution_count": 13,
     "metadata": {},
     "output_type": "execute_result"
    }
   ],
   "source": [
    "data.isna().sum()"
   ]
  },
  {
   "cell_type": "markdown",
   "id": "7eb05a7c",
   "metadata": {
    "deletable": false,
    "editable": false,
    "id": "ddc81e43"
   },
   "source": [
    "### Изменение типов данных"
   ]
  },
  {
   "cell_type": "markdown",
   "id": "7848cf46",
   "metadata": {
    "deletable": false,
    "editable": false,
    "id": "42d19d24"
   },
   "source": [
    "**Задание 13. Замените вещественный тип данных в столбце `total_income` на целочисленный с помощью метода `astype()`.**"
   ]
  },
  {
   "cell_type": "code",
   "execution_count": 14,
   "id": "efcd21a9",
   "metadata": {
    "deletable": false,
    "id": "920b65ad"
   },
   "outputs": [],
   "source": [
    "data['total_income'] = data['total_income'].astype(int)"
   ]
  },
  {
   "cell_type": "markdown",
   "id": "2ef8ff79",
   "metadata": {
    "deletable": false,
    "editable": false,
    "id": "80c420ba"
   },
   "source": [
    "### Обработка дубликатов"
   ]
  },
  {
   "cell_type": "markdown",
   "id": "b81a7562",
   "metadata": {
    "deletable": false,
    "editable": false
   },
   "source": [
    "**Задание 14. Обработайте неявные дубликаты в столбце `education`. В этом столбце есть одни и те же значения, но записанные по-разному: с использованием заглавных и строчных букв. Приведите их к нижнему регистру. Проверьте остальные столбцы.**"
   ]
  },
  {
   "cell_type": "code",
   "execution_count": 15,
   "id": "551ecbab",
   "metadata": {
    "deletable": false
   },
   "outputs": [],
   "source": [
    "data['education'] = data['education'].str.lower()"
   ]
  },
  {
   "cell_type": "markdown",
   "id": "71fc8a6d",
   "metadata": {
    "deletable": false,
    "editable": false,
    "id": "dc587695"
   },
   "source": [
    "**Задание 15. Выведите на экран количество строк-дубликатов в данных. Если такие строки присутствуют, удалите их.**"
   ]
  },
  {
   "cell_type": "code",
   "execution_count": 16,
   "id": "c9f8328f",
   "metadata": {
    "deletable": false,
    "id": "3ee445e4",
    "outputId": "9684deba-1934-42d1-99e1-cda61740f822"
   },
   "outputs": [
    {
     "data": {
      "text/plain": [
       "71"
      ]
     },
     "execution_count": 16,
     "metadata": {},
     "output_type": "execute_result"
    }
   ],
   "source": [
    "data.duplicated().sum()"
   ]
  },
  {
   "cell_type": "code",
   "execution_count": 17,
   "id": "50ad9580",
   "metadata": {
    "deletable": false,
    "id": "8575fe05"
   },
   "outputs": [],
   "source": [
    "data = data.drop_duplicates()"
   ]
  },
  {
   "cell_type": "markdown",
   "id": "9348dd9d",
   "metadata": {
    "deletable": false,
    "editable": false,
    "id": "9904cf55"
   },
   "source": [
    "### Категоризация данных"
   ]
  },
  {
   "cell_type": "markdown",
   "id": "91738392",
   "metadata": {
    "deletable": false,
    "editable": false,
    "id": "72fcc8a2"
   },
   "source": [
    "**Задание 16. На основании диапазонов, указанных ниже, создайте в датафрейме `data` столбец `total_income_category` с категориями:**\n",
    "\n",
    "- 0–30000 — `'E'`;\n",
    "- 30001–50000 — `'D'`;\n",
    "- 50001–200000 — `'C'`;\n",
    "- 200001–1000000 — `'B'`;\n",
    "- 1000001 и выше — `'A'`.\n",
    "\n",
    "\n",
    "**Например, кредитополучателю с доходом 25000 нужно назначить категорию `'E'`, а клиенту, получающему 235000, — `'B'`. Используйте собственную функцию с именем `categorize_income()` и метод `apply()`.**"
   ]
  },
  {
   "cell_type": "code",
   "execution_count": 18,
   "id": "891945cb",
   "metadata": {
    "deletable": false,
    "id": "e1771346"
   },
   "outputs": [],
   "source": [
    "def categorize_income(income):\n",
    "    try:\n",
    "        if 0 <= income <= 30000:\n",
    "            return 'E'\n",
    "        elif 30001 <= income <= 50000:\n",
    "            return 'D'\n",
    "        elif 50001 <= income <= 200000:\n",
    "            return 'C'\n",
    "        elif 200001 <= income <= 1000000:\n",
    "            return 'B'\n",
    "        elif income >= 1000001:\n",
    "            return 'A'\n",
    "    except:\n",
    "        pass"
   ]
  },
  {
   "cell_type": "code",
   "execution_count": 19,
   "id": "93417651",
   "metadata": {
    "deletable": false,
    "id": "d5f3586d"
   },
   "outputs": [],
   "source": [
    "data['total_income_category'] = data['total_income'].apply(categorize_income)"
   ]
  },
  {
   "cell_type": "markdown",
   "id": "e40c089b",
   "metadata": {
    "deletable": false,
    "editable": false,
    "id": "dde49b5c"
   },
   "source": [
    "**Задание 17. Выведите на экран перечень уникальных целей взятия кредита из столбца `purpose`.**"
   ]
  },
  {
   "cell_type": "code",
   "execution_count": 20,
   "id": "2d79a12f",
   "metadata": {
    "deletable": false,
    "id": "f67ce9b3",
    "outputId": "673c12d9-7d7e-4ae0-9812-c622c89dd244"
   },
   "outputs": [
    {
     "data": {
      "text/plain": [
       "array(['покупка жилья', 'приобретение автомобиля',\n",
       "       'дополнительное образование', 'сыграть свадьбу',\n",
       "       'операции с жильем', 'образование', 'на проведение свадьбы',\n",
       "       'покупка жилья для семьи', 'покупка недвижимости',\n",
       "       'покупка коммерческой недвижимости', 'покупка жилой недвижимости',\n",
       "       'строительство собственной недвижимости', 'недвижимость',\n",
       "       'строительство недвижимости', 'на покупку подержанного автомобиля',\n",
       "       'на покупку своего автомобиля',\n",
       "       'операции с коммерческой недвижимостью',\n",
       "       'строительство жилой недвижимости', 'жилье',\n",
       "       'операции со своей недвижимостью', 'автомобили',\n",
       "       'заняться образованием', 'сделка с подержанным автомобилем',\n",
       "       'получение образования', 'автомобиль', 'свадьба',\n",
       "       'получение дополнительного образования', 'покупка своего жилья',\n",
       "       'операции с недвижимостью', 'получение высшего образования',\n",
       "       'свой автомобиль', 'сделка с автомобилем',\n",
       "       'профильное образование', 'высшее образование',\n",
       "       'покупка жилья для сдачи', 'на покупку автомобиля', 'ремонт жилью',\n",
       "       'заняться высшим образованием'], dtype=object)"
      ]
     },
     "execution_count": 20,
     "metadata": {},
     "output_type": "execute_result"
    }
   ],
   "source": [
    "data['purpose'].unique()"
   ]
  },
  {
   "cell_type": "markdown",
   "id": "97f58a8b",
   "metadata": {
    "deletable": false,
    "editable": false,
    "id": "85d0aef0"
   },
   "source": [
    "**Задание 18. Создайте функцию, которая на основании данных из столбца `purpose` сформирует новый столбец `purpose_category`, в который войдут следующие категории:**\n",
    "\n",
    "- `'операции с автомобилем'`,\n",
    "- `'операции с недвижимостью'`,\n",
    "- `'проведение свадьбы'`,\n",
    "- `'получение образования'`.\n",
    "\n",
    "**Например, если в столбце `purpose` находится подстрока `'на покупку автомобиля'`, то в столбце `purpose_category` должна появиться строка `'операции с автомобилем'`.**\n",
    "\n",
    "**Используйте собственную функцию с именем `categorize_purpose()` и метод `apply()`. Изучите данные в столбце `purpose` и определите, какие подстроки помогут вам правильно определить категорию.**"
   ]
  },
  {
   "cell_type": "code",
   "execution_count": 21,
   "id": "0db54d58",
   "metadata": {
    "deletable": false,
    "id": "e149fab4"
   },
   "outputs": [],
   "source": [
    "def categorize_purpose(row):\n",
    "    try:\n",
    "        if 'автом' in row:\n",
    "            return 'операции с автомобилем'\n",
    "        elif 'жил' in row or 'недвиж' in row:\n",
    "            return 'операции с недвижимостью'\n",
    "        elif 'свад' in row:\n",
    "            return 'проведение свадьбы'\n",
    "        elif 'образов' in row:\n",
    "            return 'получение образования'\n",
    "    except:\n",
    "        return 'нет категории'"
   ]
  },
  {
   "cell_type": "code",
   "execution_count": 22,
   "id": "f316a023",
   "metadata": {
    "deletable": false,
    "id": "bf36e69b"
   },
   "outputs": [],
   "source": [
    "data['purpose_category'] = data['purpose'].apply(categorize_purpose)"
   ]
  },
  {
   "cell_type": "markdown",
   "id": "82b6c6e4",
   "metadata": {
    "deletable": false,
    "editable": false,
    "id": "09b242bf"
   },
   "source": [
    "### Шаг 3. Исследуйте данные и ответьте на вопросы"
   ]
  },
  {
   "cell_type": "markdown",
   "id": "d78d6130",
   "metadata": {},
   "source": [
    "***Описание данных***\n",
    "<br>`children` — количество детей в семье</br>\n",
    "<br>`days_employed` — общий трудовой стаж в днях</br>\n",
    "<br>`dob_years` — возраст клиента в годах</br>\n",
    "<br>`education` — уровень образования клиента</br>\n",
    "<br>`education_id` — идентификатор уровня образования</br>\n",
    "<br>`family_status` — семейное положение</br>\n",
    "<br>`family_status_id` — идентификатор семейного положения</br>\n",
    "<br>`gender` — пол клиента</br>\n",
    "<br>`income_type` — тип занятости</br>\n",
    "<br>`debt` — имел ли задолженность по возврату кредитов</br>\n",
    "<br>`total_income` — ежемесячный доход</br>\n",
    "<br>`purpose` — цель получения кредита</br>"
   ]
  },
  {
   "cell_type": "markdown",
   "id": "a68ffbc9",
   "metadata": {
    "deletable": false,
    "editable": false,
    "id": "c5d66278"
   },
   "source": [
    "#### 3.1 Есть ли зависимость между количеством детей и возвратом кредита в срок?"
   ]
  },
  {
   "cell_type": "code",
   "execution_count": 23,
   "id": "0b95eaa1",
   "metadata": {},
   "outputs": [
    {
     "data": {
      "text/html": [
       "<div>\n",
       "<style scoped>\n",
       "    .dataframe tbody tr th:only-of-type {\n",
       "        vertical-align: middle;\n",
       "    }\n",
       "\n",
       "    .dataframe tbody tr th {\n",
       "        vertical-align: top;\n",
       "    }\n",
       "\n",
       "    .dataframe thead th {\n",
       "        text-align: right;\n",
       "    }\n",
       "</style>\n",
       "<table border=\"1\" class=\"dataframe\">\n",
       "  <thead>\n",
       "    <tr style=\"text-align: right;\">\n",
       "      <th></th>\n",
       "      <th>children</th>\n",
       "      <th>days_employed</th>\n",
       "      <th>dob_years</th>\n",
       "      <th>education</th>\n",
       "      <th>education_id</th>\n",
       "      <th>family_status</th>\n",
       "      <th>family_status_id</th>\n",
       "      <th>gender</th>\n",
       "      <th>income_type</th>\n",
       "      <th>debt</th>\n",
       "      <th>total_income</th>\n",
       "      <th>purpose</th>\n",
       "      <th>total_income_category</th>\n",
       "      <th>purpose_category</th>\n",
       "    </tr>\n",
       "  </thead>\n",
       "  <tbody>\n",
       "    <tr>\n",
       "      <th>0</th>\n",
       "      <td>1</td>\n",
       "      <td>8437.673028</td>\n",
       "      <td>42</td>\n",
       "      <td>высшее</td>\n",
       "      <td>0</td>\n",
       "      <td>женат / замужем</td>\n",
       "      <td>0</td>\n",
       "      <td>F</td>\n",
       "      <td>сотрудник</td>\n",
       "      <td>0</td>\n",
       "      <td>253875</td>\n",
       "      <td>покупка жилья</td>\n",
       "      <td>B</td>\n",
       "      <td>операции с недвижимостью</td>\n",
       "    </tr>\n",
       "    <tr>\n",
       "      <th>1</th>\n",
       "      <td>1</td>\n",
       "      <td>4024.803754</td>\n",
       "      <td>36</td>\n",
       "      <td>среднее</td>\n",
       "      <td>1</td>\n",
       "      <td>женат / замужем</td>\n",
       "      <td>0</td>\n",
       "      <td>F</td>\n",
       "      <td>сотрудник</td>\n",
       "      <td>0</td>\n",
       "      <td>112080</td>\n",
       "      <td>приобретение автомобиля</td>\n",
       "      <td>C</td>\n",
       "      <td>операции с автомобилем</td>\n",
       "    </tr>\n",
       "    <tr>\n",
       "      <th>2</th>\n",
       "      <td>0</td>\n",
       "      <td>5623.422610</td>\n",
       "      <td>33</td>\n",
       "      <td>среднее</td>\n",
       "      <td>1</td>\n",
       "      <td>женат / замужем</td>\n",
       "      <td>0</td>\n",
       "      <td>M</td>\n",
       "      <td>сотрудник</td>\n",
       "      <td>0</td>\n",
       "      <td>145885</td>\n",
       "      <td>покупка жилья</td>\n",
       "      <td>C</td>\n",
       "      <td>операции с недвижимостью</td>\n",
       "    </tr>\n",
       "    <tr>\n",
       "      <th>3</th>\n",
       "      <td>3</td>\n",
       "      <td>4124.747207</td>\n",
       "      <td>32</td>\n",
       "      <td>среднее</td>\n",
       "      <td>1</td>\n",
       "      <td>женат / замужем</td>\n",
       "      <td>0</td>\n",
       "      <td>M</td>\n",
       "      <td>сотрудник</td>\n",
       "      <td>0</td>\n",
       "      <td>267628</td>\n",
       "      <td>дополнительное образование</td>\n",
       "      <td>B</td>\n",
       "      <td>получение образования</td>\n",
       "    </tr>\n",
       "    <tr>\n",
       "      <th>4</th>\n",
       "      <td>0</td>\n",
       "      <td>340266.072047</td>\n",
       "      <td>53</td>\n",
       "      <td>среднее</td>\n",
       "      <td>1</td>\n",
       "      <td>гражданский брак</td>\n",
       "      <td>1</td>\n",
       "      <td>F</td>\n",
       "      <td>пенсионер</td>\n",
       "      <td>0</td>\n",
       "      <td>158616</td>\n",
       "      <td>сыграть свадьбу</td>\n",
       "      <td>C</td>\n",
       "      <td>проведение свадьбы</td>\n",
       "    </tr>\n",
       "  </tbody>\n",
       "</table>\n",
       "</div>"
      ],
      "text/plain": [
       "   children  days_employed  dob_years education  education_id  \\\n",
       "0         1    8437.673028         42    высшее             0   \n",
       "1         1    4024.803754         36   среднее             1   \n",
       "2         0    5623.422610         33   среднее             1   \n",
       "3         3    4124.747207         32   среднее             1   \n",
       "4         0  340266.072047         53   среднее             1   \n",
       "\n",
       "      family_status  family_status_id gender income_type  debt  total_income  \\\n",
       "0   женат / замужем                 0      F   сотрудник     0        253875   \n",
       "1   женат / замужем                 0      F   сотрудник     0        112080   \n",
       "2   женат / замужем                 0      M   сотрудник     0        145885   \n",
       "3   женат / замужем                 0      M   сотрудник     0        267628   \n",
       "4  гражданский брак                 1      F   пенсионер     0        158616   \n",
       "\n",
       "                      purpose total_income_category          purpose_category  \n",
       "0               покупка жилья                     B  операции с недвижимостью  \n",
       "1     приобретение автомобиля                     C    операции с автомобилем  \n",
       "2               покупка жилья                     C  операции с недвижимостью  \n",
       "3  дополнительное образование                     B     получение образования  \n",
       "4             сыграть свадьбу                     C        проведение свадьбы  "
      ]
     },
     "execution_count": 23,
     "metadata": {},
     "output_type": "execute_result"
    }
   ],
   "source": [
    "data.head()"
   ]
  },
  {
   "cell_type": "code",
   "execution_count": 24,
   "id": "34de5376",
   "metadata": {
    "deletable": false,
    "id": "2cacfc4a"
   },
   "outputs": [
    {
     "data": {
      "text/html": [
       "<div>\n",
       "<style scoped>\n",
       "    .dataframe tbody tr th:only-of-type {\n",
       "        vertical-align: middle;\n",
       "    }\n",
       "\n",
       "    .dataframe tbody tr th {\n",
       "        vertical-align: top;\n",
       "    }\n",
       "\n",
       "    .dataframe thead th {\n",
       "        text-align: right;\n",
       "    }\n",
       "</style>\n",
       "<table border=\"1\" class=\"dataframe\">\n",
       "  <thead>\n",
       "    <tr style=\"text-align: right;\">\n",
       "      <th></th>\n",
       "      <th>No debt</th>\n",
       "      <th>debt</th>\n",
       "    </tr>\n",
       "    <tr>\n",
       "      <th>children</th>\n",
       "      <th></th>\n",
       "      <th></th>\n",
       "    </tr>\n",
       "  </thead>\n",
       "  <tbody>\n",
       "    <tr>\n",
       "      <th>0</th>\n",
       "      <td>13028</td>\n",
       "      <td>1063</td>\n",
       "    </tr>\n",
       "    <tr>\n",
       "      <th>1</th>\n",
       "      <td>4364</td>\n",
       "      <td>444</td>\n",
       "    </tr>\n",
       "    <tr>\n",
       "      <th>2</th>\n",
       "      <td>1858</td>\n",
       "      <td>194</td>\n",
       "    </tr>\n",
       "    <tr>\n",
       "      <th>3</th>\n",
       "      <td>303</td>\n",
       "      <td>27</td>\n",
       "    </tr>\n",
       "    <tr>\n",
       "      <th>4</th>\n",
       "      <td>37</td>\n",
       "      <td>4</td>\n",
       "    </tr>\n",
       "    <tr>\n",
       "      <th>5</th>\n",
       "      <td>9</td>\n",
       "      <td>0</td>\n",
       "    </tr>\n",
       "  </tbody>\n",
       "</table>\n",
       "</div>"
      ],
      "text/plain": [
       "          No debt  debt\n",
       "children               \n",
       "0           13028  1063\n",
       "1            4364   444\n",
       "2            1858   194\n",
       "3             303    27\n",
       "4              37     4\n",
       "5               9     0"
      ]
     },
     "execution_count": 24,
     "metadata": {},
     "output_type": "execute_result"
    }
   ],
   "source": [
    "# Ваш код будет здесь. Вы можете создавать новые ячейки.\n",
    "data_table_childe = pd.pivot_table(data,\n",
    "                                   index = 'children',\n",
    "                                   columns = 'debt',\n",
    "                                   aggfunc = 'size',\n",
    "                                   fill_value=0)\n",
    "data_table_childe.columns = ['No debt', 'debt']\n",
    "data_table_childe"
   ]
  },
  {
   "cell_type": "code",
   "execution_count": 25,
   "id": "88b45778",
   "metadata": {},
   "outputs": [
    {
     "data": {
      "image/png": "[encoded data removed]",
      "text/plain": [
       "<Figure size 432x288 with 1 Axes>"
      ]
     },
     "metadata": {
      "needs_background": "light"
     },
     "output_type": "display_data"
    }
   ],
   "source": [
    "data_table_childe.plot(kind='bar', stacked=True)\n",
    "plt.title('Распределение задолженности по количеству детей')\n",
    "plt.xlabel('Количество детей')\n",
    "plt.ylabel('Количество клиентов')\n",
    "plt.xticks(rotation=0)\n",
    "plt.legend(title='Задолженность')\n",
    "plt.show()"
   ]
  },
  {
   "cell_type": "code",
   "execution_count": 26,
   "id": "095cef1a",
   "metadata": {},
   "outputs": [
    {
     "data": {
      "text/html": [
       "<div>\n",
       "<style scoped>\n",
       "    .dataframe tbody tr th:only-of-type {\n",
       "        vertical-align: middle;\n",
       "    }\n",
       "\n",
       "    .dataframe tbody tr th {\n",
       "        vertical-align: top;\n",
       "    }\n",
       "\n",
       "    .dataframe thead th {\n",
       "        text-align: right;\n",
       "    }\n",
       "</style>\n",
       "<table border=\"1\" class=\"dataframe\">\n",
       "  <thead>\n",
       "    <tr style=\"text-align: right;\">\n",
       "      <th></th>\n",
       "      <th>No debt</th>\n",
       "      <th>debt</th>\n",
       "      <th>Total</th>\n",
       "      <th>debt %</th>\n",
       "    </tr>\n",
       "    <tr>\n",
       "      <th>children</th>\n",
       "      <th></th>\n",
       "      <th></th>\n",
       "      <th></th>\n",
       "      <th></th>\n",
       "    </tr>\n",
       "  </thead>\n",
       "  <tbody>\n",
       "    <tr>\n",
       "      <th>0</th>\n",
       "      <td>13028</td>\n",
       "      <td>1063</td>\n",
       "      <td>14091</td>\n",
       "      <td>7.543822</td>\n",
       "    </tr>\n",
       "    <tr>\n",
       "      <th>1</th>\n",
       "      <td>4364</td>\n",
       "      <td>444</td>\n",
       "      <td>4808</td>\n",
       "      <td>9.234609</td>\n",
       "    </tr>\n",
       "    <tr>\n",
       "      <th>2</th>\n",
       "      <td>1858</td>\n",
       "      <td>194</td>\n",
       "      <td>2052</td>\n",
       "      <td>9.454191</td>\n",
       "    </tr>\n",
       "    <tr>\n",
       "      <th>3</th>\n",
       "      <td>303</td>\n",
       "      <td>27</td>\n",
       "      <td>330</td>\n",
       "      <td>8.181818</td>\n",
       "    </tr>\n",
       "    <tr>\n",
       "      <th>4</th>\n",
       "      <td>37</td>\n",
       "      <td>4</td>\n",
       "      <td>41</td>\n",
       "      <td>9.756098</td>\n",
       "    </tr>\n",
       "    <tr>\n",
       "      <th>5</th>\n",
       "      <td>9</td>\n",
       "      <td>0</td>\n",
       "      <td>9</td>\n",
       "      <td>0.000000</td>\n",
       "    </tr>\n",
       "  </tbody>\n",
       "</table>\n",
       "</div>"
      ],
      "text/plain": [
       "          No debt  debt  Total    debt %\n",
       "children                                \n",
       "0           13028  1063  14091  7.543822\n",
       "1            4364   444   4808  9.234609\n",
       "2            1858   194   2052  9.454191\n",
       "3             303    27    330  8.181818\n",
       "4              37     4     41  9.756098\n",
       "5               9     0      9  0.000000"
      ]
     },
     "execution_count": 26,
     "metadata": {},
     "output_type": "execute_result"
    }
   ],
   "source": [
    "# Расчет процентов задолженности\n",
    "data_table_childe['Total'] = data_table_childe['No debt'] + data_table_childe['debt']\n",
    "data_table_childe['debt %'] = (data_table_childe['debt'] / data_table_childe['Total']) * 100\n",
    "data_table_childe"
   ]
  },
  {
   "cell_type": "markdown",
   "id": "75bb6c33",
   "metadata": {
    "deletable": false,
    "id": "3a6b99ec"
   },
   "source": [
    "**Вывод:** Анализ сформированной таблицы и столбчатой диаграммы позволяет сделать вывод, что процент просрочки оплаты по кредиту больше у семей, в которых 3 (8.18%) и 4 ребенка (9.75%). Наименьший процент просрочки по кредиту у семей в которых 0 (7.54%) и 5 детей (0%), но стоит обратить внимание на то, что набор данных для семей состоящих из 5 детей маленький, из-за этого  возникает искажение результата. Из вышесказанного можно подтвердить гипотезу, что зависимость между количеством детей и возвратом кредита в срок подтверждается."
   ]
  },
  {
   "cell_type": "markdown",
   "id": "9015745e",
   "metadata": {
    "deletable": false,
    "editable": false,
    "id": "97be82ca"
   },
   "source": [
    "#### 3.2 Есть ли зависимость между семейным положением и возвратом кредита в срок?"
   ]
  },
  {
   "cell_type": "code",
   "execution_count": 27,
   "id": "c57eec7a",
   "metadata": {
    "deletable": false,
    "id": "dc3f7ee8"
   },
   "outputs": [
    {
     "data": {
      "text/html": [
       "<div>\n",
       "<style scoped>\n",
       "    .dataframe tbody tr th:only-of-type {\n",
       "        vertical-align: middle;\n",
       "    }\n",
       "\n",
       "    .dataframe tbody tr th {\n",
       "        vertical-align: top;\n",
       "    }\n",
       "\n",
       "    .dataframe thead th {\n",
       "        text-align: right;\n",
       "    }\n",
       "</style>\n",
       "<table border=\"1\" class=\"dataframe\">\n",
       "  <thead>\n",
       "    <tr style=\"text-align: right;\">\n",
       "      <th></th>\n",
       "      <th>No debt</th>\n",
       "      <th>debt</th>\n",
       "    </tr>\n",
       "    <tr>\n",
       "      <th>family_status</th>\n",
       "      <th></th>\n",
       "      <th></th>\n",
       "    </tr>\n",
       "  </thead>\n",
       "  <tbody>\n",
       "    <tr>\n",
       "      <th>Не женат / не замужем</th>\n",
       "      <td>2523</td>\n",
       "      <td>273</td>\n",
       "    </tr>\n",
       "    <tr>\n",
       "      <th>в разводе</th>\n",
       "      <td>1105</td>\n",
       "      <td>84</td>\n",
       "    </tr>\n",
       "    <tr>\n",
       "      <th>вдовец / вдова</th>\n",
       "      <td>888</td>\n",
       "      <td>63</td>\n",
       "    </tr>\n",
       "    <tr>\n",
       "      <th>гражданский брак</th>\n",
       "      <td>3749</td>\n",
       "      <td>385</td>\n",
       "    </tr>\n",
       "    <tr>\n",
       "      <th>женат / замужем</th>\n",
       "      <td>11334</td>\n",
       "      <td>927</td>\n",
       "    </tr>\n",
       "  </tbody>\n",
       "</table>\n",
       "</div>"
      ],
      "text/plain": [
       "                       No debt  debt\n",
       "family_status                       \n",
       "Не женат / не замужем     2523   273\n",
       "в разводе                 1105    84\n",
       "вдовец / вдова             888    63\n",
       "гражданский брак          3749   385\n",
       "женат / замужем          11334   927"
      ]
     },
     "execution_count": 27,
     "metadata": {},
     "output_type": "execute_result"
    }
   ],
   "source": [
    "# Ваш код будет здесь. Вы можете создавать новые ячейки.\n",
    "data_table_family_status = pd.pivot_table(data,\n",
    "                                   index = 'family_status',\n",
    "                                   columns = 'debt',\n",
    "                                   aggfunc = 'size',\n",
    "                                   fill_value=0)\n",
    "data_table_family_status.columns = ['No debt', 'debt']\n",
    "data_table_family_status"
   ]
  },
  {
   "cell_type": "code",
   "execution_count": 28,
   "id": "44a8eedb",
   "metadata": {},
   "outputs": [
    {
     "data": {
      "image/png": "[encoded data removed]",
      "text/plain": [
       "<Figure size 432x288 with 1 Axes>"
      ]
     },
     "metadata": {
      "needs_background": "light"
     },
     "output_type": "display_data"
    }
   ],
   "source": [
    "data_table_family_status.plot(kind='bar', stacked=True)\n",
    "plt.title('Распределение задолженности по семейному положению')\n",
    "plt.xlabel('Семейное положение')\n",
    "plt.ylabel('Количество клиентов')\n",
    "plt.xticks(rotation=45)\n",
    "plt.legend(title='Задолженность')\n",
    "plt.show()"
   ]
  },
  {
   "cell_type": "code",
   "execution_count": 29,
   "id": "0a903b72",
   "metadata": {},
   "outputs": [
    {
     "data": {
      "text/html": [
       "<div>\n",
       "<style scoped>\n",
       "    .dataframe tbody tr th:only-of-type {\n",
       "        vertical-align: middle;\n",
       "    }\n",
       "\n",
       "    .dataframe tbody tr th {\n",
       "        vertical-align: top;\n",
       "    }\n",
       "\n",
       "    .dataframe thead th {\n",
       "        text-align: right;\n",
       "    }\n",
       "</style>\n",
       "<table border=\"1\" class=\"dataframe\">\n",
       "  <thead>\n",
       "    <tr style=\"text-align: right;\">\n",
       "      <th></th>\n",
       "      <th>No debt</th>\n",
       "      <th>debt</th>\n",
       "      <th>Total</th>\n",
       "      <th>debt %</th>\n",
       "    </tr>\n",
       "    <tr>\n",
       "      <th>family_status</th>\n",
       "      <th></th>\n",
       "      <th></th>\n",
       "      <th></th>\n",
       "      <th></th>\n",
       "    </tr>\n",
       "  </thead>\n",
       "  <tbody>\n",
       "    <tr>\n",
       "      <th>Не женат / не замужем</th>\n",
       "      <td>2523</td>\n",
       "      <td>273</td>\n",
       "      <td>2796</td>\n",
       "      <td>9.763948</td>\n",
       "    </tr>\n",
       "    <tr>\n",
       "      <th>в разводе</th>\n",
       "      <td>1105</td>\n",
       "      <td>84</td>\n",
       "      <td>1189</td>\n",
       "      <td>7.064760</td>\n",
       "    </tr>\n",
       "    <tr>\n",
       "      <th>вдовец / вдова</th>\n",
       "      <td>888</td>\n",
       "      <td>63</td>\n",
       "      <td>951</td>\n",
       "      <td>6.624606</td>\n",
       "    </tr>\n",
       "    <tr>\n",
       "      <th>гражданский брак</th>\n",
       "      <td>3749</td>\n",
       "      <td>385</td>\n",
       "      <td>4134</td>\n",
       "      <td>9.313014</td>\n",
       "    </tr>\n",
       "    <tr>\n",
       "      <th>женат / замужем</th>\n",
       "      <td>11334</td>\n",
       "      <td>927</td>\n",
       "      <td>12261</td>\n",
       "      <td>7.560558</td>\n",
       "    </tr>\n",
       "  </tbody>\n",
       "</table>\n",
       "</div>"
      ],
      "text/plain": [
       "                       No debt  debt  Total    debt %\n",
       "family_status                                        \n",
       "Не женат / не замужем     2523   273   2796  9.763948\n",
       "в разводе                 1105    84   1189  7.064760\n",
       "вдовец / вдова             888    63    951  6.624606\n",
       "гражданский брак          3749   385   4134  9.313014\n",
       "женат / замужем          11334   927  12261  7.560558"
      ]
     },
     "execution_count": 29,
     "metadata": {},
     "output_type": "execute_result"
    }
   ],
   "source": [
    "# Расчет процентов задолженности\n",
    "data_table_family_status['Total'] = data_table_family_status['No debt'] + data_table_family_status['debt']\n",
    "data_table_family_status['debt %'] = (data_table_family_status['debt'] / data_table_family_status['Total']) * 100\n",
    "data_table_family_status"
   ]
  },
  {
   "cell_type": "markdown",
   "id": "4d278639",
   "metadata": {
    "deletable": false,
    "id": "1cef7837"
   },
   "source": [
    "**Вывод:** Из полученной сводной таблицы и столбчатой диаграммы можно сделать вывод, что наибольшая процент просрочки оплаты по кредиту у `не женатых / не замужем` (9.76%) и у людей в `гражданском браке` (9.31%). Наименьший процент задолженности у `вдовец / вдова` (6.62%), `в разводе` (7.06%) и людей `женатых / замужних` (7.56). Существует зависимость между семейным положением и задолженностью по кредиту. Это может быть связано с финансовым положением или жизненными обстоятельствами, что требует более глубокого анализа. "
   ]
  },
  {
   "cell_type": "markdown",
   "id": "6438fd1d",
   "metadata": {
    "deletable": false,
    "editable": false,
    "id": "1e8b2fca"
   },
   "source": [
    "#### 3.3 Есть ли зависимость между уровнем дохода и возвратом кредита в срок?"
   ]
  },
  {
   "cell_type": "code",
   "execution_count": 30,
   "id": "b5b6d81a",
   "metadata": {},
   "outputs": [
    {
     "data": {
      "text/html": [
       "<div>\n",
       "<style scoped>\n",
       "    .dataframe tbody tr th:only-of-type {\n",
       "        vertical-align: middle;\n",
       "    }\n",
       "\n",
       "    .dataframe tbody tr th {\n",
       "        vertical-align: top;\n",
       "    }\n",
       "\n",
       "    .dataframe thead th {\n",
       "        text-align: right;\n",
       "    }\n",
       "</style>\n",
       "<table border=\"1\" class=\"dataframe\">\n",
       "  <thead>\n",
       "    <tr style=\"text-align: right;\">\n",
       "      <th></th>\n",
       "      <th>children</th>\n",
       "      <th>days_employed</th>\n",
       "      <th>dob_years</th>\n",
       "      <th>education</th>\n",
       "      <th>education_id</th>\n",
       "      <th>family_status</th>\n",
       "      <th>family_status_id</th>\n",
       "      <th>gender</th>\n",
       "      <th>income_type</th>\n",
       "      <th>debt</th>\n",
       "      <th>total_income</th>\n",
       "      <th>purpose</th>\n",
       "      <th>total_income_category</th>\n",
       "      <th>purpose_category</th>\n",
       "    </tr>\n",
       "  </thead>\n",
       "  <tbody>\n",
       "    <tr>\n",
       "      <th>0</th>\n",
       "      <td>1</td>\n",
       "      <td>8437.673028</td>\n",
       "      <td>42</td>\n",
       "      <td>высшее</td>\n",
       "      <td>0</td>\n",
       "      <td>женат / замужем</td>\n",
       "      <td>0</td>\n",
       "      <td>F</td>\n",
       "      <td>сотрудник</td>\n",
       "      <td>0</td>\n",
       "      <td>253875</td>\n",
       "      <td>покупка жилья</td>\n",
       "      <td>B</td>\n",
       "      <td>операции с недвижимостью</td>\n",
       "    </tr>\n",
       "    <tr>\n",
       "      <th>1</th>\n",
       "      <td>1</td>\n",
       "      <td>4024.803754</td>\n",
       "      <td>36</td>\n",
       "      <td>среднее</td>\n",
       "      <td>1</td>\n",
       "      <td>женат / замужем</td>\n",
       "      <td>0</td>\n",
       "      <td>F</td>\n",
       "      <td>сотрудник</td>\n",
       "      <td>0</td>\n",
       "      <td>112080</td>\n",
       "      <td>приобретение автомобиля</td>\n",
       "      <td>C</td>\n",
       "      <td>операции с автомобилем</td>\n",
       "    </tr>\n",
       "    <tr>\n",
       "      <th>2</th>\n",
       "      <td>0</td>\n",
       "      <td>5623.422610</td>\n",
       "      <td>33</td>\n",
       "      <td>среднее</td>\n",
       "      <td>1</td>\n",
       "      <td>женат / замужем</td>\n",
       "      <td>0</td>\n",
       "      <td>M</td>\n",
       "      <td>сотрудник</td>\n",
       "      <td>0</td>\n",
       "      <td>145885</td>\n",
       "      <td>покупка жилья</td>\n",
       "      <td>C</td>\n",
       "      <td>операции с недвижимостью</td>\n",
       "    </tr>\n",
       "    <tr>\n",
       "      <th>3</th>\n",
       "      <td>3</td>\n",
       "      <td>4124.747207</td>\n",
       "      <td>32</td>\n",
       "      <td>среднее</td>\n",
       "      <td>1</td>\n",
       "      <td>женат / замужем</td>\n",
       "      <td>0</td>\n",
       "      <td>M</td>\n",
       "      <td>сотрудник</td>\n",
       "      <td>0</td>\n",
       "      <td>267628</td>\n",
       "      <td>дополнительное образование</td>\n",
       "      <td>B</td>\n",
       "      <td>получение образования</td>\n",
       "    </tr>\n",
       "    <tr>\n",
       "      <th>4</th>\n",
       "      <td>0</td>\n",
       "      <td>340266.072047</td>\n",
       "      <td>53</td>\n",
       "      <td>среднее</td>\n",
       "      <td>1</td>\n",
       "      <td>гражданский брак</td>\n",
       "      <td>1</td>\n",
       "      <td>F</td>\n",
       "      <td>пенсионер</td>\n",
       "      <td>0</td>\n",
       "      <td>158616</td>\n",
       "      <td>сыграть свадьбу</td>\n",
       "      <td>C</td>\n",
       "      <td>проведение свадьбы</td>\n",
       "    </tr>\n",
       "  </tbody>\n",
       "</table>\n",
       "</div>"
      ],
      "text/plain": [
       "   children  days_employed  dob_years education  education_id  \\\n",
       "0         1    8437.673028         42    высшее             0   \n",
       "1         1    4024.803754         36   среднее             1   \n",
       "2         0    5623.422610         33   среднее             1   \n",
       "3         3    4124.747207         32   среднее             1   \n",
       "4         0  340266.072047         53   среднее             1   \n",
       "\n",
       "      family_status  family_status_id gender income_type  debt  total_income  \\\n",
       "0   женат / замужем                 0      F   сотрудник     0        253875   \n",
       "1   женат / замужем                 0      F   сотрудник     0        112080   \n",
       "2   женат / замужем                 0      M   сотрудник     0        145885   \n",
       "3   женат / замужем                 0      M   сотрудник     0        267628   \n",
       "4  гражданский брак                 1      F   пенсионер     0        158616   \n",
       "\n",
       "                      purpose total_income_category          purpose_category  \n",
       "0               покупка жилья                     B  операции с недвижимостью  \n",
       "1     приобретение автомобиля                     C    операции с автомобилем  \n",
       "2               покупка жилья                     C  операции с недвижимостью  \n",
       "3  дополнительное образование                     B     получение образования  \n",
       "4             сыграть свадьбу                     C        проведение свадьбы  "
      ]
     },
     "execution_count": 30,
     "metadata": {},
     "output_type": "execute_result"
    }
   ],
   "source": [
    "data.head(5)"
   ]
  },
  {
   "cell_type": "code",
   "execution_count": 31,
   "id": "d2bdea51",
   "metadata": {},
   "outputs": [
    {
     "data": {
      "text/plain": [
       "2265604"
      ]
     },
     "metadata": {},
     "output_type": "display_data"
    },
    {
     "data": {
      "text/plain": [
       "142594.0"
      ]
     },
     "metadata": {},
     "output_type": "display_data"
    },
    {
     "data": {
      "text/plain": [
       "20667"
      ]
     },
     "metadata": {},
     "output_type": "display_data"
    }
   ],
   "source": [
    "display(data['total_income'].max())\n",
    "display(data['total_income'].median())\n",
    "display(data['total_income'].min())"
   ]
  },
  {
   "cell_type": "code",
   "execution_count": 32,
   "id": "cc50133e",
   "metadata": {
    "deletable": false,
    "id": "cd7e3720"
   },
   "outputs": [],
   "source": [
    "# Ваш код будет здесь. Вы можете создавать новые ячейки.\n",
    "def income_level(row):\n",
    "    total_income = row['total_income']\n",
    "    \n",
    "    if total_income <= 0:\n",
    "        return 'Без дохода'\n",
    "    elif total_income <= 45_000:\n",
    "        return 'Очень низкий доход'\n",
    "    elif total_income <= 75_000:\n",
    "        return 'Низкий доход'\n",
    "    elif total_income <= 145_000:\n",
    "        return 'Средний доход'\n",
    "    else:\n",
    "        return 'Высокий доход'\n",
    "    \n",
    "data['calculation_income'] = data.apply(income_level, axis = 1)"
   ]
  },
  {
   "cell_type": "code",
   "execution_count": 33,
   "id": "22441a32",
   "metadata": {},
   "outputs": [
    {
     "data": {
      "text/html": [
       "<div>\n",
       "<style scoped>\n",
       "    .dataframe tbody tr th:only-of-type {\n",
       "        vertical-align: middle;\n",
       "    }\n",
       "\n",
       "    .dataframe tbody tr th {\n",
       "        vertical-align: top;\n",
       "    }\n",
       "\n",
       "    .dataframe thead th {\n",
       "        text-align: right;\n",
       "    }\n",
       "</style>\n",
       "<table border=\"1\" class=\"dataframe\">\n",
       "  <thead>\n",
       "    <tr style=\"text-align: right;\">\n",
       "      <th></th>\n",
       "      <th>No debt</th>\n",
       "      <th>debt</th>\n",
       "    </tr>\n",
       "    <tr>\n",
       "      <th>calculation_income</th>\n",
       "      <th></th>\n",
       "      <th></th>\n",
       "    </tr>\n",
       "  </thead>\n",
       "  <tbody>\n",
       "    <tr>\n",
       "      <th>Высокий доход</th>\n",
       "      <td>9465</td>\n",
       "      <td>799</td>\n",
       "    </tr>\n",
       "    <tr>\n",
       "      <th>Низкий доход</th>\n",
       "      <td>1516</td>\n",
       "      <td>122</td>\n",
       "    </tr>\n",
       "    <tr>\n",
       "      <th>Очень низкий доход</th>\n",
       "      <td>202</td>\n",
       "      <td>14</td>\n",
       "    </tr>\n",
       "    <tr>\n",
       "      <th>Средний доход</th>\n",
       "      <td>8416</td>\n",
       "      <td>797</td>\n",
       "    </tr>\n",
       "  </tbody>\n",
       "</table>\n",
       "</div>"
      ],
      "text/plain": [
       "                    No debt  debt\n",
       "calculation_income               \n",
       "Высокий доход          9465   799\n",
       "Низкий доход           1516   122\n",
       "Очень низкий доход      202    14\n",
       "Средний доход          8416   797"
      ]
     },
     "execution_count": 33,
     "metadata": {},
     "output_type": "execute_result"
    }
   ],
   "source": [
    "data_table_income = pd.pivot_table(data,\n",
    "                                   index = 'calculation_income',\n",
    "                                   columns = 'debt',\n",
    "                                   aggfunc = 'size',\n",
    "                                   fill_value=0)\n",
    "data_table_income.columns = ['No debt', 'debt']\n",
    "data_table_income"
   ]
  },
  {
   "cell_type": "code",
   "execution_count": 34,
   "id": "303c3a6a",
   "metadata": {},
   "outputs": [
    {
     "data": {
      "image/png": "[encoded data removed]",
      "text/plain": [
       "<Figure size 432x288 with 1 Axes>"
      ]
     },
     "metadata": {
      "needs_background": "light"
     },
     "output_type": "display_data"
    }
   ],
   "source": [
    "data_table_income.plot(kind='bar', stacked=True)\n",
    "plt.title('Распределение задолженности по семейному положению')\n",
    "plt.xlabel('Уровень дохода')\n",
    "plt.ylabel('Количество клиентов')\n",
    "plt.xticks(rotation=45)\n",
    "plt.legend(title='Задолженность')\n",
    "plt.show()"
   ]
  },
  {
   "cell_type": "code",
   "execution_count": 35,
   "id": "bae1722f",
   "metadata": {},
   "outputs": [
    {
     "data": {
      "text/html": [
       "<div>\n",
       "<style scoped>\n",
       "    .dataframe tbody tr th:only-of-type {\n",
       "        vertical-align: middle;\n",
       "    }\n",
       "\n",
       "    .dataframe tbody tr th {\n",
       "        vertical-align: top;\n",
       "    }\n",
       "\n",
       "    .dataframe thead th {\n",
       "        text-align: right;\n",
       "    }\n",
       "</style>\n",
       "<table border=\"1\" class=\"dataframe\">\n",
       "  <thead>\n",
       "    <tr style=\"text-align: right;\">\n",
       "      <th></th>\n",
       "      <th>No debt</th>\n",
       "      <th>debt</th>\n",
       "      <th>Total</th>\n",
       "      <th>debt %</th>\n",
       "    </tr>\n",
       "    <tr>\n",
       "      <th>calculation_income</th>\n",
       "      <th></th>\n",
       "      <th></th>\n",
       "      <th></th>\n",
       "      <th></th>\n",
       "    </tr>\n",
       "  </thead>\n",
       "  <tbody>\n",
       "    <tr>\n",
       "      <th>Высокий доход</th>\n",
       "      <td>9465</td>\n",
       "      <td>799</td>\n",
       "      <td>10264</td>\n",
       "      <td>7.784489</td>\n",
       "    </tr>\n",
       "    <tr>\n",
       "      <th>Низкий доход</th>\n",
       "      <td>1516</td>\n",
       "      <td>122</td>\n",
       "      <td>1638</td>\n",
       "      <td>7.448107</td>\n",
       "    </tr>\n",
       "    <tr>\n",
       "      <th>Очень низкий доход</th>\n",
       "      <td>202</td>\n",
       "      <td>14</td>\n",
       "      <td>216</td>\n",
       "      <td>6.481481</td>\n",
       "    </tr>\n",
       "    <tr>\n",
       "      <th>Средний доход</th>\n",
       "      <td>8416</td>\n",
       "      <td>797</td>\n",
       "      <td>9213</td>\n",
       "      <td>8.650819</td>\n",
       "    </tr>\n",
       "  </tbody>\n",
       "</table>\n",
       "</div>"
      ],
      "text/plain": [
       "                    No debt  debt  Total    debt %\n",
       "calculation_income                                \n",
       "Высокий доход          9465   799  10264  7.784489\n",
       "Низкий доход           1516   122   1638  7.448107\n",
       "Очень низкий доход      202    14    216  6.481481\n",
       "Средний доход          8416   797   9213  8.650819"
      ]
     },
     "execution_count": 35,
     "metadata": {},
     "output_type": "execute_result"
    }
   ],
   "source": [
    "data_table_income['Total'] = data_table_income['No debt'] + data_table_income['debt']\n",
    "data_table_income['debt %'] = (data_table_income['debt'] / data_table_income['Total']) * 100\n",
    "data_table_income"
   ]
  },
  {
   "cell_type": "markdown",
   "id": "fe309ba0",
   "metadata": {
    "deletable": false,
    "id": "e8593def"
   },
   "source": [
    "**Вывод:** Анализ сформированной таблицы и столбчатой диаграммы позволяет сделать вывод, что процент просрочки оплаты по кредиту больше у клиентов с `Средний доход\t`(8.65%) и `Высокий доход` (7.78%). Наименьший процент просрочки по кредиту у `Низкий доход` (7.44%) и `Очень низкий доход` (6.48%). Поскольку разница в проценте задолженности между категориями дохода не является сильно выраженной, можно сказать, что зависимость между уровнем дохода и возвратом кредита в срок не является очевидной в этом конкретном анализе."
   ]
  },
  {
   "cell_type": "markdown",
   "id": "7c516ca0",
   "metadata": {
    "deletable": false,
    "editable": false,
    "id": "99ecbd1f"
   },
   "source": [
    "#### 3.4 Как разные цели кредита влияют на его возврат в срок?"
   ]
  },
  {
   "cell_type": "code",
   "execution_count": 36,
   "id": "0ac88a02",
   "metadata": {
    "deletable": false,
    "id": "2b687290"
   },
   "outputs": [
    {
     "data": {
      "text/html": [
       "<div>\n",
       "<style scoped>\n",
       "    .dataframe tbody tr th:only-of-type {\n",
       "        vertical-align: middle;\n",
       "    }\n",
       "\n",
       "    .dataframe tbody tr th {\n",
       "        vertical-align: top;\n",
       "    }\n",
       "\n",
       "    .dataframe thead th {\n",
       "        text-align: right;\n",
       "    }\n",
       "</style>\n",
       "<table border=\"1\" class=\"dataframe\">\n",
       "  <thead>\n",
       "    <tr style=\"text-align: right;\">\n",
       "      <th></th>\n",
       "      <th>No debt</th>\n",
       "      <th>debt</th>\n",
       "    </tr>\n",
       "    <tr>\n",
       "      <th>purpose_category</th>\n",
       "      <th></th>\n",
       "      <th></th>\n",
       "    </tr>\n",
       "  </thead>\n",
       "  <tbody>\n",
       "    <tr>\n",
       "      <th>операции с автомобилем</th>\n",
       "      <td>3879</td>\n",
       "      <td>400</td>\n",
       "    </tr>\n",
       "    <tr>\n",
       "      <th>операции с недвижимостью</th>\n",
       "      <td>9971</td>\n",
       "      <td>780</td>\n",
       "    </tr>\n",
       "    <tr>\n",
       "      <th>получение образования</th>\n",
       "      <td>3619</td>\n",
       "      <td>369</td>\n",
       "    </tr>\n",
       "    <tr>\n",
       "      <th>проведение свадьбы</th>\n",
       "      <td>2130</td>\n",
       "      <td>183</td>\n",
       "    </tr>\n",
       "  </tbody>\n",
       "</table>\n",
       "</div>"
      ],
      "text/plain": [
       "                          No debt  debt\n",
       "purpose_category                       \n",
       "операции с автомобилем       3879   400\n",
       "операции с недвижимостью     9971   780\n",
       "получение образования        3619   369\n",
       "проведение свадьбы           2130   183"
      ]
     },
     "execution_count": 36,
     "metadata": {},
     "output_type": "execute_result"
    }
   ],
   "source": [
    "# Ваш код будет здесь. Вы можете создавать новые ячейки.\n",
    "data_table_purpose = pd.pivot_table(data,\n",
    "                                   index = 'purpose_category',\n",
    "                                   columns = 'debt',\n",
    "                                   aggfunc = 'size',\n",
    "                                   fill_value=0)\n",
    "data_table_purpose.columns = ['No debt', 'debt']\n",
    "data_table_purpose"
   ]
  },
  {
   "cell_type": "code",
   "execution_count": 37,
   "id": "3ea1a602",
   "metadata": {},
   "outputs": [
    {
     "data": {
      "text/html": [
       "<div>\n",
       "<style scoped>\n",
       "    .dataframe tbody tr th:only-of-type {\n",
       "        vertical-align: middle;\n",
       "    }\n",
       "\n",
       "    .dataframe tbody tr th {\n",
       "        vertical-align: top;\n",
       "    }\n",
       "\n",
       "    .dataframe thead th {\n",
       "        text-align: right;\n",
       "    }\n",
       "</style>\n",
       "<table border=\"1\" class=\"dataframe\">\n",
       "  <thead>\n",
       "    <tr style=\"text-align: right;\">\n",
       "      <th></th>\n",
       "      <th>No debt</th>\n",
       "      <th>debt</th>\n",
       "      <th>Total</th>\n",
       "      <th>debt %</th>\n",
       "    </tr>\n",
       "    <tr>\n",
       "      <th>purpose_category</th>\n",
       "      <th></th>\n",
       "      <th></th>\n",
       "      <th></th>\n",
       "      <th></th>\n",
       "    </tr>\n",
       "  </thead>\n",
       "  <tbody>\n",
       "    <tr>\n",
       "      <th>операции с автомобилем</th>\n",
       "      <td>3879</td>\n",
       "      <td>400</td>\n",
       "      <td>4279</td>\n",
       "      <td>9.347978</td>\n",
       "    </tr>\n",
       "    <tr>\n",
       "      <th>операции с недвижимостью</th>\n",
       "      <td>9971</td>\n",
       "      <td>780</td>\n",
       "      <td>10751</td>\n",
       "      <td>7.255139</td>\n",
       "    </tr>\n",
       "    <tr>\n",
       "      <th>получение образования</th>\n",
       "      <td>3619</td>\n",
       "      <td>369</td>\n",
       "      <td>3988</td>\n",
       "      <td>9.252758</td>\n",
       "    </tr>\n",
       "    <tr>\n",
       "      <th>проведение свадьбы</th>\n",
       "      <td>2130</td>\n",
       "      <td>183</td>\n",
       "      <td>2313</td>\n",
       "      <td>7.911803</td>\n",
       "    </tr>\n",
       "  </tbody>\n",
       "</table>\n",
       "</div>"
      ],
      "text/plain": [
       "                          No debt  debt  Total    debt %\n",
       "purpose_category                                        \n",
       "операции с автомобилем       3879   400   4279  9.347978\n",
       "операции с недвижимостью     9971   780  10751  7.255139\n",
       "получение образования        3619   369   3988  9.252758\n",
       "проведение свадьбы           2130   183   2313  7.911803"
      ]
     },
     "execution_count": 37,
     "metadata": {},
     "output_type": "execute_result"
    }
   ],
   "source": [
    "data_table_purpose['Total'] = data_table_purpose['No debt'] + data_table_purpose['debt']\n",
    "data_table_purpose['debt %'] = (data_table_purpose['debt'] / data_table_purpose['Total']) * 100\n",
    "data_table_purpose"
   ]
  },
  {
   "cell_type": "markdown",
   "id": "2e01dc01",
   "metadata": {
    "deletable": false,
    "id": "b4bb2ce6"
   },
   "source": [
    "**Вывод:** Из полученной сводной таблицы можно сделать вывод, что наибольшая процент просрочки оплаты по кредиту у клиентов с целью `операции с автомобилем\t` (9.34%) и `получение образования` (9.25%). Наименьший процент задолженности у клиентов с целью `проведение свадьбы` (7.9%) и `операции с недвижимостью` (7.25%). Существует зависимость между целью получения кредита и задолженностью по кредиту. Это может быть связано с финансовым положением или жизненными обстоятельствами, что требует более глубокого анализа."
   ]
  },
  {
   "cell_type": "markdown",
   "id": "db50487c",
   "metadata": {
    "deletable": false,
    "editable": false,
    "id": "09c3ac4c"
   },
   "source": [
    "#### 3.5 Приведите возможные причины появления пропусков в исходных данных."
   ]
  },
  {
   "cell_type": "markdown",
   "id": "bb398ac3",
   "metadata": {
    "deletable": false,
    "id": "9da2ceda"
   },
   "source": [
    "*Ответ:* Причинами пропусков в исходных данных могут быть:\n",
    "1. Невозможность их получения или обработки;\n",
    "2. Искажение или скрытие информации;\n",
    "3. Неисправности технического оборудования."
   ]
  },
  {
   "cell_type": "markdown",
   "id": "3fccf430",
   "metadata": {
    "deletable": false,
    "editable": false,
    "id": "7b0487d6"
   },
   "source": [
    "#### 3.6 Объясните, почему заполнить пропуски медианным значением — лучшее решение для количественных переменных."
   ]
  },
  {
   "cell_type": "markdown",
   "id": "2486d80c",
   "metadata": {
    "deletable": false,
    "id": "7ecf2b8e"
   },
   "source": [
    "*Ответ:* Заполнить пропуски медианным значением лучше потому что, медианное значение более точно определяет середину выборки, чем среднее, поскольку устойчива к искажению. То есть одна половина не меньше его, а вторая не больше. Так как медианное значение определяет середину выборки - это лучшее решение для количественных переменных."
   ]
  },
  {
   "cell_type": "markdown",
   "id": "62bbccc5",
   "metadata": {
    "deletable": false,
    "editable": false,
    "id": "6db5255a"
   },
   "source": [
    "### Шаг 4: общий вывод."
   ]
  },
  {
   "cell_type": "markdown",
   "id": "c252b92a",
   "metadata": {
    "deletable": false,
    "id": "bad65432"
   },
   "source": [
    "В ходе исследования надежности заемщиков был предоставлен набор данных, содержащих следующие сущности:\n",
    "\n",
    "<br>`children` — количество детей в семье</br>\n",
    "<br>`days_employed` — общий трудовой стаж в днях</br>\n",
    "<br>`dob_years` — возраст клиента в годах</br>\n",
    "<br>`education` — уровень образования клиента</br>\n",
    "<br>`education_id` — идентификатор уровня образования</br>\n",
    "<br>`family_status` — семейное положение</br>\n",
    "<br>`family_status_id` — идентификатор семейного положения</br>\n",
    "<br>`gender` — пол клиента</br>\n",
    "<br>`income_type` — тип занятости</br>\n",
    "<br>`debt` — имел ли задолженность по возврату кредитов</br>\n",
    "<br>`total_income` — ежемесячный доход</br>\n",
    "<br>`purpose` — цель получения кредита</br>\n",
    "\n",
    "   Первым этапом была проведена предобработка данных. В колонке `days_employed` и `total_income` были обнаружены пропущенные значения. На сумму дохода сильнее всего влияет тип занятости, поэтому заполнили пропуски в столбце `total_income` медианным значением по каждому типу из столбца `income_type`. В колонке `days_employed` были обнаружены отрицательные значения, поэтому первоначально обработали их методом abs(), а потом по заполнили пропуски медианным значением по каждому типу из столбца `income_type`. Далее исследовали уникальные значения столбца `children` и обнаружили, что присутствуют аномальные значения -1 и 20. Приняли решение удалить аномальные значения из данных, так как невозможно из исходных данных провести замену.\n",
    "   \n",
    "   Был заменен вещественный тип данных в столбце `total_income` на целочисленный с помощью метода astype(). Обработаны неявные дубликаты в столбце `education`. В этом столбце есть одни и те же значения, но записанные по-разному: с использованием заглавных и строчных букв. Привели их к нижнему регистру. В датасете обнаружены строки-дубликаты (71) и удалены.\n",
    " \n",
    "  Вторым этапом была произведена категоризация данных.\n",
    "  На основании диапазонов, указанных ниже, создали в датафрейме `data` столбец `total_income_category` с категориями. \n",
    "- 0–30000 — `'E'`;\n",
    "- 30001–50000 — `'D'`;\n",
    "- 50001–200000 — `'C'`;\n",
    "- 200001–1000000 — `'B'`;\n",
    "- 1000001 и выше — `'A'`.\n",
    "\n",
    "Использовали собственную функцию с именем `categorize_income()` и метод `apply()`.\n",
    "\n",
    "Создали функцию, которая на основании данных из столбца `purpose` формирует новый столбец `purpose_category`, в который входят следующие категории:\n",
    "\n",
    "- `'операции с автомобилем'`,\n",
    "- `'операции с недвижимостью'`,\n",
    "- `'проведение свадьбы'`,\n",
    "- `'получение образования'`.\n",
    "\n",
    "Использовали собственную функцию с именем `categorize_purpose()` и метод `apply()`.\n",
    "\n",
    "\n",
    "  Исследовали данные и сделали выводы, что \n",
    "  1. процент просрочки оплаты по кредиту больше у семей, в которых `3` (8.18%) и `4 ребенка` (9.75%). Наименьший процент просрочки по кредиту у семей в которых `0` (7.54%) и `5 детей` (0%), но стоит обратить внимание на то, что набор данных для семей состоящих из 5 детей маленький, из-за этого возникает искажение результата. Из вышесказанного можно подтвердить гипотезу, что зависимость между количеством детей и возвратом кредита в срок подтверждается.\n",
    "  2. наибольшая процент просрочки оплаты по кредиту у `не женатых / не замужем` (9.76%) и у людей `в гражданском браке` (9.31%). Наименьший процент задолженности у `вдовец / вдова` (6.62%), в `разводе` (7.06%) и людей `женатых / замужних` (7.56). Существует зависимость между семейным положением и задолженностью по кредиту. Это может быть связано с финансовым положением или жизненными обстоятельствами, что требует более глубокого анализа.\n",
    "  3.  процент просрочки оплаты по кредиту больше у клиентов с `Средний доход\t`(8.65%) и `Высокий доход` (7.78%). Наименьший процент просрочки по кредиту у `Низкий доход` (7.44%) и `Очень низкий доход` (6.48%). Поскольку разница в проценте задолженности между категориями дохода не является сильно выраженной, можно сказать, что зависимость между уровнем дохода и возвратом кредита в срок не является очевидной в этом конкретном анализе.\n",
    "  4. Из полученной сводной таблицы можно сделать вывод, что наибольшая процент просрочки оплаты по кредиту у клиентов с целью `операции с автомобилем` (9.34%) и `получение образования` (9.25%). Наименьший процент задолженности у клиентов с целью `проведение свадьбы` (7.9%) и `операции с недвижимостью` (7.25%). Существует зависимость между целью получения кредита и задолженностью по кредиту. Это может быть связано с финансовым положением или жизненными обстоятельствами, что требует более глубокого анализа.\n",
    "  \n",
    "  **Рекомендации**\n",
    "  1. `Программы поддержки`: Внедрите программы поддержки для клиентов с высокими рисками задолженности, такие как финансовое консультирование или отсрочки платежей. Это может помочь снизить процент просроченных кредитов и улучшить финансовое состояние клиентов.\n",
    "  2. `Улучшение оценки кредитоспособности`: Используйте более комплексные модели оценки кредитоспособности, которые включают анализ целей кредита, дохода и других факторов риска."
   ]
  }
 ],
 "metadata": {
  "ExecuteTimeLog": [
   {
    "duration": 52,
    "start_time": "2024-08-26T12:49:20.321Z"
   },
   {
    "duration": 455,
    "start_time": "2024-08-26T12:49:25.869Z"
   },
   {
    "duration": 22,
    "start_time": "2024-08-26T12:49:27.118Z"
   },
   {
    "duration": 16,
    "start_time": "2024-08-26T12:49:28.508Z"
   },
   {
    "duration": 10,
    "start_time": "2024-08-26T12:49:30.766Z"
   },
   {
    "duration": 35,
    "start_time": "2024-08-26T12:49:32.082Z"
   },
   {
    "duration": 4,
    "start_time": "2024-08-26T12:49:33.192Z"
   },
   {
    "duration": 9,
    "start_time": "2024-08-26T12:49:34.311Z"
   },
   {
    "duration": 4,
    "start_time": "2024-08-26T12:49:35.772Z"
   },
   {
    "duration": 7,
    "start_time": "2024-08-26T12:49:37.280Z"
   },
   {
    "duration": 4,
    "start_time": "2024-08-26T12:49:38.272Z"
   },
   {
    "duration": 36,
    "start_time": "2024-08-26T12:49:40.022Z"
   },
   {
    "duration": 11,
    "start_time": "2024-08-26T12:49:41.054Z"
   },
   {
    "duration": 4,
    "start_time": "2024-08-26T12:49:42.326Z"
   },
   {
    "duration": 12,
    "start_time": "2024-08-26T12:49:43.366Z"
   },
   {
    "duration": 20,
    "start_time": "2024-08-26T12:49:44.395Z"
   },
   {
    "duration": 4,
    "start_time": "2024-08-26T12:49:47.908Z"
   },
   {
    "duration": 10,
    "start_time": "2024-08-26T12:49:49.398Z"
   },
   {
    "duration": 6,
    "start_time": "2024-08-26T12:49:50.913Z"
   },
   {
    "duration": 3,
    "start_time": "2024-08-26T12:49:52.885Z"
   },
   {
    "duration": 8,
    "start_time": "2024-08-26T12:49:53.660Z"
   },
   {
    "duration": 14,
    "start_time": "2024-08-26T12:49:55.589Z"
   },
   {
    "duration": 14,
    "start_time": "2024-08-26T12:56:49.698Z"
   },
   {
    "duration": 45,
    "start_time": "2024-08-26T13:00:53.128Z"
   },
   {
    "duration": 442,
    "start_time": "2024-08-26T13:01:00.050Z"
   },
   {
    "duration": 30,
    "start_time": "2024-08-26T13:01:50.316Z"
   },
   {
    "duration": 7,
    "start_time": "2024-08-26T13:02:00.527Z"
   },
   {
    "duration": 11,
    "start_time": "2024-08-26T13:02:26.963Z"
   },
   {
    "duration": 10,
    "start_time": "2024-08-26T13:05:08.745Z"
   },
   {
    "duration": 35,
    "start_time": "2024-08-26T13:05:15.005Z"
   },
   {
    "duration": 17,
    "start_time": "2024-08-26T13:06:31.895Z"
   },
   {
    "duration": 38,
    "start_time": "2024-08-26T13:06:39.798Z"
   },
   {
    "duration": 29,
    "start_time": "2024-08-26T13:08:24.418Z"
   },
   {
    "duration": 19,
    "start_time": "2024-08-26T13:08:59.627Z"
   },
   {
    "duration": 8,
    "start_time": "2024-08-26T13:09:17.785Z"
   },
   {
    "duration": 19,
    "start_time": "2024-08-26T13:09:21.417Z"
   },
   {
    "duration": 17,
    "start_time": "2024-08-26T13:09:32.133Z"
   },
   {
    "duration": 26,
    "start_time": "2024-08-26T13:09:38.539Z"
   },
   {
    "duration": 34,
    "start_time": "2024-08-26T13:09:46.625Z"
   },
   {
    "duration": 9,
    "start_time": "2024-08-26T13:11:34.766Z"
   },
   {
    "duration": 24,
    "start_time": "2024-08-26T13:11:54.178Z"
   },
   {
    "duration": 15,
    "start_time": "2024-08-26T13:12:07.008Z"
   },
   {
    "duration": 16,
    "start_time": "2024-08-26T13:12:16.053Z"
   },
   {
    "duration": 41,
    "start_time": "2024-08-26T13:12:33.407Z"
   },
   {
    "duration": 11,
    "start_time": "2024-08-26T13:13:14.198Z"
   },
   {
    "duration": 6,
    "start_time": "2024-08-26T13:13:19.938Z"
   },
   {
    "duration": 6,
    "start_time": "2024-08-26T13:13:29.277Z"
   },
   {
    "duration": 8,
    "start_time": "2024-08-26T13:13:31.857Z"
   },
   {
    "duration": 8,
    "start_time": "2024-08-26T13:13:37.348Z"
   },
   {
    "duration": 14,
    "start_time": "2024-08-26T13:15:18.820Z"
   },
   {
    "duration": 17,
    "start_time": "2024-08-26T13:18:57.758Z"
   },
   {
    "duration": 492,
    "start_time": "2024-08-26T13:22:28.100Z"
   },
   {
    "duration": 34,
    "start_time": "2024-08-26T13:22:59.374Z"
   },
   {
    "duration": 3,
    "start_time": "2024-08-26T13:23:02.145Z"
   },
   {
    "duration": 8,
    "start_time": "2024-08-26T13:23:02.845Z"
   },
   {
    "duration": 100,
    "start_time": "2024-08-26T13:23:08.177Z"
   },
   {
    "duration": 168,
    "start_time": "2024-08-26T13:25:32.752Z"
   },
   {
    "duration": 88,
    "start_time": "2024-08-26T13:26:22.621Z"
   },
   {
    "duration": 142,
    "start_time": "2024-08-26T13:26:58.449Z"
   },
   {
    "duration": 5,
    "start_time": "2024-08-26T13:30:10.743Z"
   },
   {
    "duration": 282,
    "start_time": "2024-08-26T13:30:16.105Z"
   },
   {
    "duration": 9,
    "start_time": "2024-08-26T13:31:41.773Z"
   },
   {
    "duration": 18,
    "start_time": "2024-08-26T13:31:52.622Z"
   },
   {
    "duration": 18,
    "start_time": "2024-08-26T13:32:39.144Z"
   },
   {
    "duration": 22,
    "start_time": "2024-08-26T13:33:00.965Z"
   },
   {
    "duration": 23,
    "start_time": "2024-08-26T13:33:15.365Z"
   },
   {
    "duration": 8,
    "start_time": "2024-08-26T13:34:04.362Z"
   },
   {
    "duration": 10,
    "start_time": "2024-08-26T13:41:06.642Z"
   },
   {
    "duration": 12,
    "start_time": "2024-08-26T13:41:10.090Z"
   },
   {
    "duration": 9,
    "start_time": "2024-08-26T13:44:57.913Z"
   },
   {
    "duration": 16,
    "start_time": "2024-08-26T13:45:01.895Z"
   },
   {
    "duration": 25,
    "start_time": "2024-08-26T13:45:24.318Z"
   },
   {
    "duration": 19,
    "start_time": "2024-08-26T13:45:28.009Z"
   },
   {
    "duration": 14,
    "start_time": "2024-08-26T14:02:57.356Z"
   },
   {
    "duration": 108,
    "start_time": "2024-08-26T14:03:02.377Z"
   },
   {
    "duration": 19,
    "start_time": "2024-08-26T14:03:03.442Z"
   },
   {
    "duration": 16,
    "start_time": "2024-08-26T14:03:04.666Z"
   },
   {
    "duration": 10,
    "start_time": "2024-08-26T14:03:07.286Z"
   },
   {
    "duration": 38,
    "start_time": "2024-08-26T14:03:08.956Z"
   },
   {
    "duration": 4,
    "start_time": "2024-08-26T14:03:10.837Z"
   },
   {
    "duration": 8,
    "start_time": "2024-08-26T14:03:11.655Z"
   },
   {
    "duration": 4,
    "start_time": "2024-08-26T14:03:13.556Z"
   },
   {
    "duration": 7,
    "start_time": "2024-08-26T14:03:14.660Z"
   },
   {
    "duration": 5,
    "start_time": "2024-08-26T14:03:15.576Z"
   },
   {
    "duration": 47,
    "start_time": "2024-08-26T14:03:17.932Z"
   },
   {
    "duration": 11,
    "start_time": "2024-08-26T14:03:19.175Z"
   },
   {
    "duration": 10,
    "start_time": "2024-08-26T14:03:20.740Z"
   },
   {
    "duration": 25,
    "start_time": "2024-08-26T14:03:22.635Z"
   },
   {
    "duration": 18,
    "start_time": "2024-08-26T14:03:23.892Z"
   },
   {
    "duration": 19,
    "start_time": "2024-08-26T14:03:26.249Z"
   },
   {
    "duration": 3,
    "start_time": "2024-08-26T14:03:28.416Z"
   },
   {
    "duration": 11,
    "start_time": "2024-08-26T14:03:29.896Z"
   },
   {
    "duration": 6,
    "start_time": "2024-08-26T14:03:31.116Z"
   },
   {
    "duration": 3,
    "start_time": "2024-08-26T14:03:32.689Z"
   },
   {
    "duration": 12,
    "start_time": "2024-08-26T14:03:33.853Z"
   },
   {
    "duration": 25,
    "start_time": "2024-08-26T14:03:36.338Z"
   },
   {
    "duration": 14,
    "start_time": "2024-08-26T14:03:39.686Z"
   },
   {
    "duration": 29,
    "start_time": "2024-08-26T14:03:42.347Z"
   },
   {
    "duration": 46,
    "start_time": "2024-08-26T14:05:03.724Z"
   },
   {
    "duration": 662,
    "start_time": "2024-08-26T17:32:24.603Z"
   },
   {
    "duration": 502,
    "start_time": "2024-08-26T17:32:33.567Z"
   },
   {
    "duration": 20,
    "start_time": "2024-08-26T17:32:36.942Z"
   },
   {
    "duration": 17,
    "start_time": "2024-08-26T17:32:38.479Z"
   },
   {
    "duration": 10,
    "start_time": "2024-08-26T17:32:40.215Z"
   },
   {
    "duration": 37,
    "start_time": "2024-08-26T17:32:41.871Z"
   },
   {
    "duration": 3,
    "start_time": "2024-08-26T17:32:43.263Z"
   },
   {
    "duration": 7,
    "start_time": "2024-08-26T17:32:44.351Z"
   },
   {
    "duration": 5,
    "start_time": "2024-08-26T17:32:46.023Z"
   },
   {
    "duration": 7,
    "start_time": "2024-08-26T17:32:46.927Z"
   },
   {
    "duration": 5,
    "start_time": "2024-08-26T17:32:47.879Z"
   },
   {
    "duration": 37,
    "start_time": "2024-08-26T17:32:48.942Z"
   },
   {
    "duration": 11,
    "start_time": "2024-08-26T17:32:50.518Z"
   },
   {
    "duration": 3,
    "start_time": "2024-08-26T17:32:52.183Z"
   },
   {
    "duration": 12,
    "start_time": "2024-08-26T17:32:53.384Z"
   },
   {
    "duration": 20,
    "start_time": "2024-08-26T17:32:54.262Z"
   },
   {
    "duration": 17,
    "start_time": "2024-08-26T17:32:55.712Z"
   },
   {
    "duration": 3,
    "start_time": "2024-08-26T17:32:57.655Z"
   },
   {
    "duration": 10,
    "start_time": "2024-08-26T17:32:59.534Z"
   },
   {
    "duration": 6,
    "start_time": "2024-08-26T17:33:00.694Z"
   },
   {
    "duration": 3,
    "start_time": "2024-08-26T17:33:02.166Z"
   },
   {
    "duration": 12,
    "start_time": "2024-08-26T17:33:02.918Z"
   },
   {
    "duration": 14,
    "start_time": "2024-08-26T17:33:05.459Z"
   },
   {
    "duration": 13,
    "start_time": "2024-08-26T17:33:15.864Z"
   },
   {
    "duration": 185,
    "start_time": "2024-08-26T17:33:19.966Z"
   },
   {
    "duration": 4,
    "start_time": "2024-08-26T17:35:34.646Z"
   },
   {
    "duration": 7,
    "start_time": "2024-08-26T17:39:25.913Z"
   },
   {
    "duration": 5,
    "start_time": "2024-08-26T17:39:43.469Z"
   },
   {
    "duration": 35,
    "start_time": "2024-08-26T17:39:47.732Z"
   },
   {
    "duration": 12,
    "start_time": "2024-08-26T17:39:58.997Z"
   },
   {
    "duration": 14,
    "start_time": "2024-08-26T17:40:06.809Z"
   },
   {
    "duration": 13,
    "start_time": "2024-08-26T17:40:08.126Z"
   },
   {
    "duration": 173,
    "start_time": "2024-08-26T17:40:10.829Z"
   },
   {
    "duration": 12,
    "start_time": "2024-08-26T17:40:23.884Z"
   },
   {
    "duration": 9,
    "start_time": "2024-08-26T17:41:11.029Z"
   },
   {
    "duration": 14,
    "start_time": "2024-08-26T17:43:02.100Z"
   },
   {
    "duration": 13,
    "start_time": "2024-08-26T17:43:02.803Z"
   },
   {
    "duration": 173,
    "start_time": "2024-08-26T17:43:03.707Z"
   },
   {
    "duration": 977,
    "start_time": "2024-08-26T17:44:23.443Z"
   },
   {
    "duration": 9,
    "start_time": "2024-08-26T17:44:36.755Z"
   },
   {
    "duration": 14,
    "start_time": "2024-08-26T17:55:17.141Z"
   },
   {
    "duration": 164,
    "start_time": "2024-08-26T17:55:53.400Z"
   },
   {
    "duration": 218,
    "start_time": "2024-08-26T17:56:14.880Z"
   },
   {
    "duration": 10,
    "start_time": "2024-08-26T17:58:38.399Z"
   },
   {
    "duration": 3,
    "start_time": "2024-08-26T18:09:06.361Z"
   },
   {
    "duration": 48,
    "start_time": "2024-08-27T12:50:08.580Z"
   },
   {
    "duration": 652,
    "start_time": "2024-08-27T12:50:13.287Z"
   },
   {
    "duration": 23,
    "start_time": "2024-08-27T12:50:14.263Z"
   },
   {
    "duration": 16,
    "start_time": "2024-08-27T12:50:15.548Z"
   },
   {
    "duration": 12,
    "start_time": "2024-08-27T12:50:17.281Z"
   },
   {
    "duration": 37,
    "start_time": "2024-08-27T12:50:18.447Z"
   },
   {
    "duration": 3,
    "start_time": "2024-08-27T12:50:19.500Z"
   },
   {
    "duration": 9,
    "start_time": "2024-08-27T12:50:20.667Z"
   },
   {
    "duration": 5,
    "start_time": "2024-08-27T12:50:22.322Z"
   },
   {
    "duration": 7,
    "start_time": "2024-08-27T12:50:23.455Z"
   },
   {
    "duration": 4,
    "start_time": "2024-08-27T12:50:24.382Z"
   },
   {
    "duration": 34,
    "start_time": "2024-08-27T12:50:26.455Z"
   },
   {
    "duration": 10,
    "start_time": "2024-08-27T12:50:27.365Z"
   },
   {
    "duration": 4,
    "start_time": "2024-08-27T12:50:28.563Z"
   },
   {
    "duration": 11,
    "start_time": "2024-08-27T12:50:29.488Z"
   },
   {
    "duration": 23,
    "start_time": "2024-08-27T12:50:30.459Z"
   },
   {
    "duration": 16,
    "start_time": "2024-08-27T12:50:41.879Z"
   },
   {
    "duration": 17,
    "start_time": "2024-08-27T12:50:42.487Z"
   },
   {
    "duration": 4,
    "start_time": "2024-08-27T12:50:45.090Z"
   },
   {
    "duration": 10,
    "start_time": "2024-08-27T12:50:46.428Z"
   },
   {
    "duration": 5,
    "start_time": "2024-08-27T12:50:48.680Z"
   },
   {
    "duration": 3,
    "start_time": "2024-08-27T12:50:50.924Z"
   },
   {
    "duration": 8,
    "start_time": "2024-08-27T12:50:54.636Z"
   },
   {
    "duration": 398,
    "start_time": "2024-08-27T12:50:58.567Z"
   },
   {
    "duration": 15,
    "start_time": "2024-08-27T12:51:00.366Z"
   },
   {
    "duration": 181,
    "start_time": "2024-08-27T12:51:01.960Z"
   },
   {
    "duration": 14,
    "start_time": "2024-08-27T12:51:05.023Z"
   },
   {
    "duration": 181,
    "start_time": "2024-08-27T12:51:06.515Z"
   },
   {
    "duration": 10,
    "start_time": "2024-08-27T12:51:08.497Z"
   },
   {
    "duration": 14,
    "start_time": "2024-08-27T12:51:16.241Z"
   },
   {
    "duration": 797,
    "start_time": "2024-08-27T12:51:57.717Z"
   },
   {
    "duration": 699,
    "start_time": "2024-08-27T12:52:05.097Z"
   },
   {
    "duration": 77,
    "start_time": "2024-08-27T12:52:36.434Z"
   },
   {
    "duration": 15,
    "start_time": "2024-08-27T12:52:37.360Z"
   },
   {
    "duration": 16,
    "start_time": "2024-08-27T12:52:38.507Z"
   },
   {
    "duration": 11,
    "start_time": "2024-08-27T12:52:40.317Z"
   },
   {
    "duration": 37,
    "start_time": "2024-08-27T12:52:41.498Z"
   },
   {
    "duration": 3,
    "start_time": "2024-08-27T12:52:42.367Z"
   },
   {
    "duration": 9,
    "start_time": "2024-08-27T12:52:43.307Z"
   },
   {
    "duration": 5,
    "start_time": "2024-08-27T12:52:45.457Z"
   },
   {
    "duration": 6,
    "start_time": "2024-08-27T12:52:46.762Z"
   },
   {
    "duration": 4,
    "start_time": "2024-08-27T12:52:49.007Z"
   },
   {
    "duration": 36,
    "start_time": "2024-08-27T12:52:52.569Z"
   },
   {
    "duration": 11,
    "start_time": "2024-08-27T12:52:54.292Z"
   },
   {
    "duration": 4,
    "start_time": "2024-08-27T12:52:55.507Z"
   },
   {
    "duration": 12,
    "start_time": "2024-08-27T12:52:56.428Z"
   },
   {
    "duration": 20,
    "start_time": "2024-08-27T12:52:57.248Z"
   },
   {
    "duration": 17,
    "start_time": "2024-08-27T12:52:58.528Z"
   },
   {
    "duration": 5,
    "start_time": "2024-08-27T12:53:00.197Z"
   },
   {
    "duration": 11,
    "start_time": "2024-08-27T12:53:01.727Z"
   },
   {
    "duration": 6,
    "start_time": "2024-08-27T12:53:05.164Z"
   },
   {
    "duration": 3,
    "start_time": "2024-08-27T12:53:08.597Z"
   },
   {
    "duration": 8,
    "start_time": "2024-08-27T12:53:10.448Z"
   },
   {
    "duration": 13,
    "start_time": "2024-08-27T12:53:13.477Z"
   },
   {
    "duration": 14,
    "start_time": "2024-08-27T12:53:15.014Z"
   },
   {
    "duration": 171,
    "start_time": "2024-08-27T12:53:15.962Z"
   },
   {
    "duration": 10,
    "start_time": "2024-08-27T12:53:17.371Z"
   },
   {
    "duration": 13,
    "start_time": "2024-08-27T12:53:20.098Z"
   },
   {
    "duration": 13,
    "start_time": "2024-08-27T12:53:23.398Z"
   },
   {
    "duration": 179,
    "start_time": "2024-08-27T12:53:25.708Z"
   },
   {
    "duration": 9,
    "start_time": "2024-08-27T12:53:28.691Z"
   },
   {
    "duration": 36,
    "start_time": "2024-08-27T12:54:12.774Z"
   },
   {
    "duration": 15,
    "start_time": "2024-08-27T12:54:19.185Z"
   },
   {
    "duration": 12,
    "start_time": "2024-08-27T12:54:22.105Z"
   },
   {
    "duration": 6,
    "start_time": "2024-08-27T13:11:26.138Z"
   },
   {
    "duration": 5,
    "start_time": "2024-08-27T13:11:45.823Z"
   },
   {
    "duration": 8,
    "start_time": "2024-08-27T13:12:08.834Z"
   },
   {
    "duration": 10,
    "start_time": "2024-08-27T13:12:19.399Z"
   },
   {
    "duration": 11,
    "start_time": "2024-08-27T13:12:26.510Z"
   },
   {
    "duration": 12,
    "start_time": "2024-08-27T13:12:30.727Z"
   },
   {
    "duration": 6,
    "start_time": "2024-08-27T13:12:41.188Z"
   },
   {
    "duration": 12,
    "start_time": "2024-08-27T13:12:47.599Z"
   },
   {
    "duration": 11,
    "start_time": "2024-08-27T13:12:49.838Z"
   },
   {
    "duration": 13,
    "start_time": "2024-08-27T13:15:41.098Z"
   },
   {
    "duration": 175,
    "start_time": "2024-08-27T13:15:49.583Z"
   },
   {
    "duration": 17,
    "start_time": "2024-08-27T13:16:02.300Z"
   },
   {
    "duration": 13,
    "start_time": "2024-08-27T13:16:38.495Z"
   },
   {
    "duration": 148,
    "start_time": "2024-08-27T13:16:51.592Z"
   },
   {
    "duration": 13,
    "start_time": "2024-08-27T13:16:52.188Z"
   },
   {
    "duration": 152,
    "start_time": "2024-08-27T13:17:05.709Z"
   },
   {
    "duration": 13,
    "start_time": "2024-08-27T13:17:06.826Z"
   },
   {
    "duration": 167,
    "start_time": "2024-08-27T13:17:47.289Z"
   },
   {
    "duration": 10,
    "start_time": "2024-08-27T13:18:24.449Z"
   },
   {
    "duration": 81,
    "start_time": "2024-08-27T13:34:12.639Z"
   },
   {
    "duration": 17,
    "start_time": "2024-08-27T13:34:13.918Z"
   },
   {
    "duration": 24,
    "start_time": "2024-08-27T13:34:15.066Z"
   },
   {
    "duration": 11,
    "start_time": "2024-08-27T13:34:16.743Z"
   },
   {
    "duration": 36,
    "start_time": "2024-08-27T13:34:17.968Z"
   },
   {
    "duration": 4,
    "start_time": "2024-08-27T13:34:18.998Z"
   },
   {
    "duration": 9,
    "start_time": "2024-08-27T13:34:19.926Z"
   },
   {
    "duration": 5,
    "start_time": "2024-08-27T13:34:26.277Z"
   },
   {
    "duration": 5,
    "start_time": "2024-08-27T13:34:27.444Z"
   },
   {
    "duration": 36,
    "start_time": "2024-08-27T13:34:29.206Z"
   },
   {
    "duration": 23,
    "start_time": "2024-08-27T13:34:30.127Z"
   },
   {
    "duration": 3,
    "start_time": "2024-08-27T13:34:31.327Z"
   },
   {
    "duration": 18,
    "start_time": "2024-08-27T13:34:36.054Z"
   },
   {
    "duration": 17,
    "start_time": "2024-08-27T13:34:36.407Z"
   },
   {
    "duration": 3,
    "start_time": "2024-08-27T13:34:38.429Z"
   },
   {
    "duration": 10,
    "start_time": "2024-08-27T13:34:39.297Z"
   },
   {
    "duration": 6,
    "start_time": "2024-08-27T13:34:40.608Z"
   },
   {
    "duration": 3,
    "start_time": "2024-08-27T13:34:42.233Z"
   },
   {
    "duration": 8,
    "start_time": "2024-08-27T13:34:42.708Z"
   },
   {
    "duration": 13,
    "start_time": "2024-08-27T13:34:45.880Z"
   },
   {
    "duration": 205,
    "start_time": "2024-08-27T13:34:47.138Z"
   },
   {
    "duration": 10,
    "start_time": "2024-08-27T13:34:47.698Z"
   },
   {
    "duration": 78,
    "start_time": "2024-08-27T13:35:09.917Z"
   },
   {
    "duration": 16,
    "start_time": "2024-08-27T13:35:11.625Z"
   },
   {
    "duration": 25,
    "start_time": "2024-08-27T13:35:12.929Z"
   },
   {
    "duration": 11,
    "start_time": "2024-08-27T13:35:16.999Z"
   },
   {
    "duration": 43,
    "start_time": "2024-08-27T13:35:18.928Z"
   },
   {
    "duration": 4,
    "start_time": "2024-08-27T13:35:21.059Z"
   },
   {
    "duration": 7,
    "start_time": "2024-08-27T13:35:22.004Z"
   },
   {
    "duration": 5,
    "start_time": "2024-08-27T13:35:23.809Z"
   },
   {
    "duration": 6,
    "start_time": "2024-08-27T13:35:24.910Z"
   },
   {
    "duration": 5,
    "start_time": "2024-08-27T13:35:25.688Z"
   },
   {
    "duration": 37,
    "start_time": "2024-08-27T13:35:27.709Z"
   },
   {
    "duration": 12,
    "start_time": "2024-08-27T13:35:28.627Z"
   },
   {
    "duration": 84,
    "start_time": "2024-08-27T13:35:39.396Z"
   },
   {
    "duration": 490,
    "start_time": "2024-08-27T13:36:01.496Z"
   },
   {
    "duration": 22,
    "start_time": "2024-08-27T13:36:03.275Z"
   },
   {
    "duration": 16,
    "start_time": "2024-08-27T13:36:04.849Z"
   },
   {
    "duration": 10,
    "start_time": "2024-08-27T13:36:06.717Z"
   },
   {
    "duration": 36,
    "start_time": "2024-08-27T13:36:08.291Z"
   },
   {
    "duration": 4,
    "start_time": "2024-08-27T13:36:09.376Z"
   },
   {
    "duration": 8,
    "start_time": "2024-08-27T13:36:10.358Z"
   },
   {
    "duration": 4,
    "start_time": "2024-08-27T13:36:12.902Z"
   },
   {
    "duration": 7,
    "start_time": "2024-08-27T13:36:13.967Z"
   },
   {
    "duration": 4,
    "start_time": "2024-08-27T13:36:16.346Z"
   },
   {
    "duration": 36,
    "start_time": "2024-08-27T13:36:17.348Z"
   },
   {
    "duration": 11,
    "start_time": "2024-08-27T13:36:18.947Z"
   },
   {
    "duration": 4,
    "start_time": "2024-08-27T13:36:21.878Z"
   },
   {
    "duration": 12,
    "start_time": "2024-08-27T13:36:22.918Z"
   },
   {
    "duration": 19,
    "start_time": "2024-08-27T13:36:23.703Z"
   },
   {
    "duration": 17,
    "start_time": "2024-08-27T13:36:24.887Z"
   },
   {
    "duration": 4,
    "start_time": "2024-08-27T13:36:27.332Z"
   },
   {
    "duration": 10,
    "start_time": "2024-08-27T13:36:28.089Z"
   },
   {
    "duration": 6,
    "start_time": "2024-08-27T13:36:29.735Z"
   },
   {
    "duration": 3,
    "start_time": "2024-08-27T13:36:32.261Z"
   },
   {
    "duration": 13,
    "start_time": "2024-08-27T13:36:32.817Z"
   },
   {
    "duration": 239,
    "start_time": "2024-08-27T13:36:36.049Z"
   },
   {
    "duration": 13,
    "start_time": "2024-08-27T13:36:37.035Z"
   },
   {
    "duration": 185,
    "start_time": "2024-08-27T13:36:38.468Z"
   },
   {
    "duration": 9,
    "start_time": "2024-08-27T13:36:39.878Z"
   },
   {
    "duration": 14,
    "start_time": "2024-08-27T13:36:44.748Z"
   },
   {
    "duration": 201,
    "start_time": "2024-08-27T13:36:47.327Z"
   },
   {
    "duration": 10,
    "start_time": "2024-08-27T13:36:48.647Z"
   },
   {
    "duration": 12,
    "start_time": "2024-08-27T13:36:51.513Z"
   },
   {
    "duration": 9,
    "start_time": "2024-08-27T13:36:53.077Z"
   },
   {
    "duration": 141,
    "start_time": "2024-08-27T13:36:53.626Z"
   },
   {
    "duration": 13,
    "start_time": "2024-08-27T13:36:55.457Z"
   },
   {
    "duration": 163,
    "start_time": "2024-08-27T13:36:55.861Z"
   },
   {
    "duration": 10,
    "start_time": "2024-08-27T13:37:01.401Z"
   },
   {
    "duration": 23,
    "start_time": "2024-08-27T13:37:05.831Z"
   },
   {
    "duration": 17,
    "start_time": "2024-08-27T13:37:07.429Z"
   },
   {
    "duration": 212,
    "start_time": "2024-08-27T13:37:32.750Z"
   },
   {
    "duration": 609,
    "start_time": "2024-08-27T15:15:02.486Z"
   },
   {
    "duration": 24,
    "start_time": "2024-08-27T15:15:03.097Z"
   },
   {
    "duration": 30,
    "start_time": "2024-08-27T15:15:03.123Z"
   },
   {
    "duration": 13,
    "start_time": "2024-08-27T15:15:03.156Z"
   },
   {
    "duration": 53,
    "start_time": "2024-08-27T15:15:03.172Z"
   },
   {
    "duration": 5,
    "start_time": "2024-08-27T15:15:03.226Z"
   },
   {
    "duration": 16,
    "start_time": "2024-08-27T15:15:03.233Z"
   },
   {
    "duration": 38,
    "start_time": "2024-08-27T15:15:03.251Z"
   },
   {
    "duration": 22,
    "start_time": "2024-08-27T15:15:03.290Z"
   },
   {
    "duration": 5,
    "start_time": "2024-08-27T15:15:03.315Z"
   },
   {
    "duration": 58,
    "start_time": "2024-08-27T15:15:03.322Z"
   },
   {
    "duration": 64,
    "start_time": "2024-08-27T15:15:03.381Z"
   },
   {
    "duration": 17,
    "start_time": "2024-08-27T15:15:03.447Z"
   },
   {
    "duration": 43,
    "start_time": "2024-08-27T15:15:03.465Z"
   },
   {
    "duration": 40,
    "start_time": "2024-08-27T15:15:03.510Z"
   },
   {
    "duration": 18,
    "start_time": "2024-08-27T15:15:03.552Z"
   },
   {
    "duration": 3,
    "start_time": "2024-08-27T15:15:03.572Z"
   },
   {
    "duration": 13,
    "start_time": "2024-08-27T15:15:03.577Z"
   },
   {
    "duration": 25,
    "start_time": "2024-08-27T15:15:03.592Z"
   },
   {
    "duration": 13,
    "start_time": "2024-08-27T15:15:03.619Z"
   },
   {
    "duration": 28,
    "start_time": "2024-08-27T15:15:03.634Z"
   },
   {
    "duration": 478,
    "start_time": "2024-08-27T15:15:03.664Z"
   },
   {
    "duration": 16,
    "start_time": "2024-08-27T15:15:04.144Z"
   },
   {
    "duration": 216,
    "start_time": "2024-08-27T15:15:04.162Z"
   },
   {
    "duration": 10,
    "start_time": "2024-08-27T15:15:04.380Z"
   },
   {
    "duration": 17,
    "start_time": "2024-08-27T15:15:04.404Z"
   },
   {
    "duration": 234,
    "start_time": "2024-08-27T15:15:04.423Z"
   },
   {
    "duration": 10,
    "start_time": "2024-08-27T15:15:04.661Z"
   },
   {
    "duration": 16,
    "start_time": "2024-08-27T15:15:04.672Z"
   },
   {
    "duration": 20,
    "start_time": "2024-08-27T15:15:04.690Z"
   },
   {
    "duration": 161,
    "start_time": "2024-08-27T15:15:04.712Z"
   },
   {
    "duration": 14,
    "start_time": "2024-08-27T15:15:04.875Z"
   },
   {
    "duration": 189,
    "start_time": "2024-08-27T15:15:04.891Z"
   },
   {
    "duration": 10,
    "start_time": "2024-08-27T15:15:05.082Z"
   },
   {
    "duration": 26,
    "start_time": "2024-08-27T15:15:05.093Z"
   },
   {
    "duration": 21,
    "start_time": "2024-08-27T15:15:05.121Z"
   },
   {
    "duration": 48,
    "start_time": "2024-08-27T16:20:20.414Z"
   },
   {
    "duration": 696,
    "start_time": "2024-08-27T16:20:34.451Z"
   },
   {
    "duration": 23,
    "start_time": "2024-08-27T16:20:36.915Z"
   },
   {
    "duration": 15,
    "start_time": "2024-08-27T16:20:38.347Z"
   },
   {
    "duration": 10,
    "start_time": "2024-08-27T16:20:39.843Z"
   },
   {
    "duration": 36,
    "start_time": "2024-08-27T16:20:41.194Z"
   },
   {
    "duration": 4,
    "start_time": "2024-08-27T16:20:42.210Z"
   },
   {
    "duration": 7,
    "start_time": "2024-08-27T16:20:42.875Z"
   },
   {
    "duration": 5,
    "start_time": "2024-08-27T16:20:44.202Z"
   },
   {
    "duration": 6,
    "start_time": "2024-08-27T16:20:45.003Z"
   },
   {
    "duration": 5,
    "start_time": "2024-08-27T16:20:45.666Z"
   },
   {
    "duration": 34,
    "start_time": "2024-08-27T16:20:46.611Z"
   },
   {
    "duration": 11,
    "start_time": "2024-08-27T16:20:48.507Z"
   },
   {
    "duration": 4,
    "start_time": "2024-08-27T16:20:50.211Z"
   },
   {
    "duration": 12,
    "start_time": "2024-08-27T16:20:51.179Z"
   },
   {
    "duration": 20,
    "start_time": "2024-08-27T16:20:54.939Z"
   },
   {
    "duration": 16,
    "start_time": "2024-08-27T16:20:55.714Z"
   },
   {
    "duration": 4,
    "start_time": "2024-08-27T16:20:56.970Z"
   },
   {
    "duration": 10,
    "start_time": "2024-08-27T16:20:58.131Z"
   },
   {
    "duration": 6,
    "start_time": "2024-08-27T16:20:59.642Z"
   },
   {
    "duration": 3,
    "start_time": "2024-08-27T16:21:01.635Z"
   },
   {
    "duration": 8,
    "start_time": "2024-08-27T16:21:02.256Z"
   },
   {
    "duration": 395,
    "start_time": "2024-08-27T16:21:06.443Z"
   },
   {
    "duration": 15,
    "start_time": "2024-08-27T16:21:08.595Z"
   },
   {
    "duration": 197,
    "start_time": "2024-08-27T16:21:10.051Z"
   },
   {
    "duration": 10,
    "start_time": "2024-08-27T16:21:12.524Z"
   },
   {
    "duration": 12,
    "start_time": "2024-08-27T16:21:14.403Z"
   },
   {
    "duration": 171,
    "start_time": "2024-08-27T16:21:15.523Z"
   },
   {
    "duration": 10,
    "start_time": "2024-08-27T16:21:18.532Z"
   },
   {
    "duration": 12,
    "start_time": "2024-08-27T16:21:26.523Z"
   },
   {
    "duration": 8,
    "start_time": "2024-08-27T16:21:27.250Z"
   },
   {
    "duration": 138,
    "start_time": "2024-08-27T16:21:28.931Z"
   },
   {
    "duration": 13,
    "start_time": "2024-08-27T16:21:29.314Z"
   },
   {
    "duration": 167,
    "start_time": "2024-08-27T16:21:29.954Z"
   },
   {
    "duration": 10,
    "start_time": "2024-08-27T16:21:31.683Z"
   },
   {
    "duration": 13,
    "start_time": "2024-08-27T16:21:34.682Z"
   },
   {
    "duration": 9,
    "start_time": "2024-08-27T16:21:41.097Z"
   }
  ],
  "colab": {
   "name": "dpp_template_part2.ipynb",
   "provenance": []
  },
  "kernelspec": {
   "display_name": "Python 3 (ipykernel)",
   "language": "python",
   "name": "python3"
  },
  "language_info": {
   "codemirror_mode": {
    "name": "ipython",
    "version": 3
   },
   "file_extension": ".py",
   "mimetype": "text/x-python",
   "name": "python",
   "nbconvert_exporter": "python",
   "pygments_lexer": "ipython3",
   "version": "3.9.5"
  },
  "toc": {
   "base_numbering": 1,
   "nav_menu": {},
   "number_sections": true,
   "sideBar": true,
   "skip_h1_title": true,
   "title_cell": "Table of Contents",
   "title_sidebar": "Contents",
   "toc_cell": false,
   "toc_position": {},
   "toc_section_display": true,
   "toc_window_display": false
  }
 },
 "nbformat": 4,
 "nbformat_minor": 5
}
