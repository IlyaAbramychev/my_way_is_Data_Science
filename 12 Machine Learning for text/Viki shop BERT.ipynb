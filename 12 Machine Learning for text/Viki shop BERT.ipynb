{
 "cells": [
  {
   "cell_type": "markdown",
   "metadata": {},
   "source": [
    "#### Проект для \"Викишоп\" с BERT\n",
    "Интернет-магазин \"Викишоп\" запускает новый сервис. Теперь пользователи могут редкатировать и дополнять описания товаров, как в вики-сообществах. То есть клиенты предлагают свои правки и комментируют изменения других. Магазину нужен инструмент, который будет искать токсичные комментарии и отправлять их на модерацию. \n",
    "\n",
    "1. Нужно обучить модель классифицировать комментарии на позитивные и негативные. В нашем распоряжении набор данных с разметкой о токсичности правок.\n",
    "\n",
    "2. Нужно построить модель со значением метрики качества `F1` не меньше `0.75`. "
   ]
  },
  {
   "cell_type": "markdown",
   "metadata": {
    "vscode": {
     "languageId": "plaintext"
    }
   },
   "source": [
    "***Исходные данные:***\n",
    "\n",
    "- `text` - в нём содержит текст комментария;\n",
    "- `toxic` - целевой признак."
   ]
  },
  {
   "cell_type": "code",
   "execution_count": 25,
   "metadata": {},
   "outputs": [],
   "source": [
    "import os\n",
    "import re\n",
    "import pandas as pd\n",
    "import numpy as np\n",
    "import matplotlib.pyplot as plt\n",
    "\n",
    "import torch\n",
    "import optuna\n",
    "import transformers\n",
    "from transformers import TFBertModel\n",
    "\n",
    "from tqdm import tqdm\n",
    "import ipywidgets as widgets\n",
    "\n",
    "from sklearn.utils import resample\n",
    "from lightgbm import LGBMClassifier\n",
    "from sklearn.metrics import f1_score\n",
    "from sklearn.pipeline import Pipeline\n",
    "from optuna.samplers import TPESampler\n",
    "from catboost import CatBoostClassifier\n",
    "from sklearn.tree import DecisionTreeClassifier\n",
    "from sklearn.metrics import classification_report\n",
    "from sklearn.model_selection import StratifiedKFold\n",
    "from sklearn.linear_model import LogisticRegression\n",
    "from sklearn.model_selection import cross_val_score\n",
    "from sklearn.model_selection import train_test_split\n",
    "\n",
    "import spacy\n",
    "from imblearn.over_sampling import SMOTE\n",
    "from sklearn.feature_extraction.text import TfidfVectorizer, CountVectorizer"
   ]
  },
  {
   "cell_type": "code",
   "execution_count": 2,
   "metadata": {},
   "outputs": [
    {
     "name": "stdout",
     "output_type": "stream",
     "text": [
      "Torch version: 2.5.1+cu121\n",
      "CUDA available: True\n",
      "CUDA version: 12.1\n",
      "cuDNN version: 90100\n",
      "Device count: 1\n",
      "GPU: NVIDIA GeForce RTX 3060\n"
     ]
    }
   ],
   "source": [
    "print(\"Torch version:\", torch.__version__)\n",
    "print(\"CUDA available:\", torch.cuda.is_available())\n",
    "print(\"CUDA version:\", torch.version.cuda)\n",
    "print(\"cuDNN version:\", torch.backends.cudnn.version() if torch.backends.cudnn.is_available() else \"Not available\")\n",
    "print(\"Device count:\", torch.cuda.device_count())\n",
    "\n",
    "if torch.cuda.is_available():\n",
    "    print(\"GPU:\", torch.cuda.get_device_name(0))\n",
    "else:\n",
    "    print(\"CUDA is NOT available! PyTorch is using CPU.\")"
   ]
  },
  {
   "cell_type": "code",
   "execution_count": 3,
   "metadata": {},
   "outputs": [],
   "source": [
    "pth1 = '/toxic_comments.csv'\n",
    "pth2 = '/datasets/toxic_comments.csv'\n",
    "pth3 = 'C:/Users/abram/Downloads/toxic_comments.csv'\n",
    "\n",
    "if os.path.exists(pth1):\n",
    "    df_toxic = pd.read_csv(pth1)\n",
    "elif os.path.exists(pth2):\n",
    "    df_toxic = pd.read_csv(pth2)\n",
    "elif os.path.exists(pth3):\n",
    "    df_toxic = pd.read_csv(pth3)  \n",
    "else:\n",
    "    print('Something is wrong')"
   ]
  },
  {
   "cell_type": "code",
   "execution_count": 4,
   "metadata": {},
   "outputs": [
    {
     "data": {
      "text/html": [
       "<div>\n",
       "<style scoped>\n",
       "    .dataframe tbody tr th:only-of-type {\n",
       "        vertical-align: middle;\n",
       "    }\n",
       "\n",
       "    .dataframe tbody tr th {\n",
       "        vertical-align: top;\n",
       "    }\n",
       "\n",
       "    .dataframe thead th {\n",
       "        text-align: right;\n",
       "    }\n",
       "</style>\n",
       "<table border=\"1\" class=\"dataframe\">\n",
       "  <thead>\n",
       "    <tr style=\"text-align: right;\">\n",
       "      <th></th>\n",
       "      <th>Unnamed: 0</th>\n",
       "      <th>text</th>\n",
       "      <th>toxic</th>\n",
       "    </tr>\n",
       "  </thead>\n",
       "  <tbody>\n",
       "    <tr>\n",
       "      <th>0</th>\n",
       "      <td>0</td>\n",
       "      <td>Explanation\\nWhy the edits made under my usern...</td>\n",
       "      <td>0</td>\n",
       "    </tr>\n",
       "    <tr>\n",
       "      <th>1</th>\n",
       "      <td>1</td>\n",
       "      <td>D'aww! He matches this background colour I'm s...</td>\n",
       "      <td>0</td>\n",
       "    </tr>\n",
       "    <tr>\n",
       "      <th>2</th>\n",
       "      <td>2</td>\n",
       "      <td>Hey man, I'm really not trying to edit war. It...</td>\n",
       "      <td>0</td>\n",
       "    </tr>\n",
       "    <tr>\n",
       "      <th>3</th>\n",
       "      <td>3</td>\n",
       "      <td>\"\\nMore\\nI can't make any real suggestions on ...</td>\n",
       "      <td>0</td>\n",
       "    </tr>\n",
       "    <tr>\n",
       "      <th>4</th>\n",
       "      <td>4</td>\n",
       "      <td>You, sir, are my hero. Any chance you remember...</td>\n",
       "      <td>0</td>\n",
       "    </tr>\n",
       "  </tbody>\n",
       "</table>\n",
       "</div>"
      ],
      "text/plain": [
       "   Unnamed: 0                                               text  toxic\n",
       "0           0  Explanation\\nWhy the edits made under my usern...      0\n",
       "1           1  D'aww! He matches this background colour I'm s...      0\n",
       "2           2  Hey man, I'm really not trying to edit war. It...      0\n",
       "3           3  \"\\nMore\\nI can't make any real suggestions on ...      0\n",
       "4           4  You, sir, are my hero. Any chance you remember...      0"
      ]
     },
     "execution_count": 4,
     "metadata": {},
     "output_type": "execute_result"
    }
   ],
   "source": [
    "df_toxic.head()"
   ]
  },
  {
   "cell_type": "code",
   "execution_count": 5,
   "metadata": {},
   "outputs": [],
   "source": [
    "df_toxic = df_toxic.drop(columns=['Unnamed: 0'])"
   ]
  },
  {
   "cell_type": "code",
   "execution_count": 6,
   "metadata": {},
   "outputs": [],
   "source": [
    "# Разделяем данные по классам\n",
    "df_majority = df_toxic[df_toxic['toxic'] == 0]  # Нейтральные\n",
    "df_minority = df_toxic[df_toxic['toxic'] == 1]  # Токсичные"
   ]
  },
  {
   "cell_type": "code",
   "execution_count": 7,
   "metadata": {},
   "outputs": [
    {
     "data": {
      "image/png": "[encoded data removed]",
      "text/plain": [
       "<Figure size 1000x1400 with 1 Axes>"
      ]
     },
     "metadata": {},
     "output_type": "display_data"
    }
   ],
   "source": [
    "plt.figure(figsize=(10,14))\n",
    "plt.hist(x=df_toxic, bins=20)\n",
    "\n",
    "plt.xlabel(\"Класс токсичности\")\n",
    "plt.ylabel(\"Количество примеров\")\n",
    "plt.title(\"Распределение классов токсичности в датасете\")\n",
    "plt.xticks(ticks=[0, 1], labels=[\"Нейтральный\", \"Токсичный\"])\n",
    "plt.show()"
   ]
  },
  {
   "cell_type": "code",
   "execution_count": 8,
   "metadata": {},
   "outputs": [
    {
     "data": {
      "text/html": [
       "<div>\n",
       "<style scoped>\n",
       "    .dataframe tbody tr th:only-of-type {\n",
       "        vertical-align: middle;\n",
       "    }\n",
       "\n",
       "    .dataframe tbody tr th {\n",
       "        vertical-align: top;\n",
       "    }\n",
       "\n",
       "    .dataframe thead th {\n",
       "        text-align: right;\n",
       "    }\n",
       "</style>\n",
       "<table border=\"1\" class=\"dataframe\">\n",
       "  <thead>\n",
       "    <tr style=\"text-align: right;\">\n",
       "      <th></th>\n",
       "      <th>text</th>\n",
       "      <th>toxic</th>\n",
       "    </tr>\n",
       "  </thead>\n",
       "  <tbody>\n",
       "    <tr>\n",
       "      <th>0</th>\n",
       "      <td>Explanation\\nWhy the edits made under my usern...</td>\n",
       "      <td>0</td>\n",
       "    </tr>\n",
       "    <tr>\n",
       "      <th>1</th>\n",
       "      <td>D'aww! He matches this background colour I'm s...</td>\n",
       "      <td>0</td>\n",
       "    </tr>\n",
       "    <tr>\n",
       "      <th>2</th>\n",
       "      <td>Hey man, I'm really not trying to edit war. It...</td>\n",
       "      <td>0</td>\n",
       "    </tr>\n",
       "    <tr>\n",
       "      <th>3</th>\n",
       "      <td>\"\\nMore\\nI can't make any real suggestions on ...</td>\n",
       "      <td>0</td>\n",
       "    </tr>\n",
       "    <tr>\n",
       "      <th>4</th>\n",
       "      <td>You, sir, are my hero. Any chance you remember...</td>\n",
       "      <td>0</td>\n",
       "    </tr>\n",
       "    <tr>\n",
       "      <th>...</th>\n",
       "      <td>...</td>\n",
       "      <td>...</td>\n",
       "    </tr>\n",
       "    <tr>\n",
       "      <th>159287</th>\n",
       "      <td>\":::::And for the second time of asking, when ...</td>\n",
       "      <td>0</td>\n",
       "    </tr>\n",
       "    <tr>\n",
       "      <th>159288</th>\n",
       "      <td>You should be ashamed of yourself \\n\\nThat is ...</td>\n",
       "      <td>0</td>\n",
       "    </tr>\n",
       "    <tr>\n",
       "      <th>159289</th>\n",
       "      <td>Spitzer \\n\\nUmm, theres no actual article for ...</td>\n",
       "      <td>0</td>\n",
       "    </tr>\n",
       "    <tr>\n",
       "      <th>159290</th>\n",
       "      <td>And it looks like it was actually you who put ...</td>\n",
       "      <td>0</td>\n",
       "    </tr>\n",
       "    <tr>\n",
       "      <th>159291</th>\n",
       "      <td>\"\\nAnd ... I really don't think you understand...</td>\n",
       "      <td>0</td>\n",
       "    </tr>\n",
       "  </tbody>\n",
       "</table>\n",
       "<p>143106 rows × 2 columns</p>\n",
       "</div>"
      ],
      "text/plain": [
       "                                                     text  toxic\n",
       "0       Explanation\\nWhy the edits made under my usern...      0\n",
       "1       D'aww! He matches this background colour I'm s...      0\n",
       "2       Hey man, I'm really not trying to edit war. It...      0\n",
       "3       \"\\nMore\\nI can't make any real suggestions on ...      0\n",
       "4       You, sir, are my hero. Any chance you remember...      0\n",
       "...                                                   ...    ...\n",
       "159287  \":::::And for the second time of asking, when ...      0\n",
       "159288  You should be ashamed of yourself \\n\\nThat is ...      0\n",
       "159289  Spitzer \\n\\nUmm, theres no actual article for ...      0\n",
       "159290  And it looks like it was actually you who put ...      0\n",
       "159291  \"\\nAnd ... I really don't think you understand...      0\n",
       "\n",
       "[143106 rows x 2 columns]"
      ]
     },
     "execution_count": 8,
     "metadata": {},
     "output_type": "execute_result"
    }
   ],
   "source": [
    "df_majority"
   ]
  },
  {
   "cell_type": "code",
   "execution_count": 9,
   "metadata": {},
   "outputs": [
    {
     "data": {
      "text/html": [
       "<div>\n",
       "<style scoped>\n",
       "    .dataframe tbody tr th:only-of-type {\n",
       "        vertical-align: middle;\n",
       "    }\n",
       "\n",
       "    .dataframe tbody tr th {\n",
       "        vertical-align: top;\n",
       "    }\n",
       "\n",
       "    .dataframe thead th {\n",
       "        text-align: right;\n",
       "    }\n",
       "</style>\n",
       "<table border=\"1\" class=\"dataframe\">\n",
       "  <thead>\n",
       "    <tr style=\"text-align: right;\">\n",
       "      <th></th>\n",
       "      <th>text</th>\n",
       "      <th>toxic</th>\n",
       "    </tr>\n",
       "  </thead>\n",
       "  <tbody>\n",
       "    <tr>\n",
       "      <th>6</th>\n",
       "      <td>COCKSUCKER BEFORE YOU PISS AROUND ON MY WORK</td>\n",
       "      <td>1</td>\n",
       "    </tr>\n",
       "    <tr>\n",
       "      <th>12</th>\n",
       "      <td>Hey... what is it..\\n@ | talk .\\nWhat is it......</td>\n",
       "      <td>1</td>\n",
       "    </tr>\n",
       "    <tr>\n",
       "      <th>16</th>\n",
       "      <td>Bye! \\n\\nDon't look, come or think of comming ...</td>\n",
       "      <td>1</td>\n",
       "    </tr>\n",
       "    <tr>\n",
       "      <th>42</th>\n",
       "      <td>You are gay or antisemmitian? \\n\\nArchangel WH...</td>\n",
       "      <td>1</td>\n",
       "    </tr>\n",
       "    <tr>\n",
       "      <th>43</th>\n",
       "      <td>FUCK YOUR FILTHY MOTHER IN THE ASS, DRY!</td>\n",
       "      <td>1</td>\n",
       "    </tr>\n",
       "    <tr>\n",
       "      <th>...</th>\n",
       "      <td>...</td>\n",
       "      <td>...</td>\n",
       "    </tr>\n",
       "    <tr>\n",
       "      <th>159215</th>\n",
       "      <td>\"\\n\\n our previous conversation \\n\\nyou fuckin...</td>\n",
       "      <td>1</td>\n",
       "    </tr>\n",
       "    <tr>\n",
       "      <th>159235</th>\n",
       "      <td>YOU ARE A MISCHIEVIOUS PUBIC HAIR</td>\n",
       "      <td>1</td>\n",
       "    </tr>\n",
       "    <tr>\n",
       "      <th>159262</th>\n",
       "      <td>Your absurd edits \\n\\nYour absurd edits on gre...</td>\n",
       "      <td>1</td>\n",
       "    </tr>\n",
       "    <tr>\n",
       "      <th>159267</th>\n",
       "      <td>\"\\n\\nHey listen don't you ever!!!! Delete my e...</td>\n",
       "      <td>1</td>\n",
       "    </tr>\n",
       "    <tr>\n",
       "      <th>159275</th>\n",
       "      <td>and i'm going to keep posting the stuff u dele...</td>\n",
       "      <td>1</td>\n",
       "    </tr>\n",
       "  </tbody>\n",
       "</table>\n",
       "<p>16186 rows × 2 columns</p>\n",
       "</div>"
      ],
      "text/plain": [
       "                                                     text  toxic\n",
       "6            COCKSUCKER BEFORE YOU PISS AROUND ON MY WORK      1\n",
       "12      Hey... what is it..\\n@ | talk .\\nWhat is it......      1\n",
       "16      Bye! \\n\\nDon't look, come or think of comming ...      1\n",
       "42      You are gay or antisemmitian? \\n\\nArchangel WH...      1\n",
       "43               FUCK YOUR FILTHY MOTHER IN THE ASS, DRY!      1\n",
       "...                                                   ...    ...\n",
       "159215  \"\\n\\n our previous conversation \\n\\nyou fuckin...      1\n",
       "159235                  YOU ARE A MISCHIEVIOUS PUBIC HAIR      1\n",
       "159262  Your absurd edits \\n\\nYour absurd edits on gre...      1\n",
       "159267  \"\\n\\nHey listen don't you ever!!!! Delete my e...      1\n",
       "159275  and i'm going to keep posting the stuff u dele...      1\n",
       "\n",
       "[16186 rows x 2 columns]"
      ]
     },
     "execution_count": 9,
     "metadata": {},
     "output_type": "execute_result"
    }
   ],
   "source": [
    "df_minority"
   ]
  },
  {
   "cell_type": "markdown",
   "metadata": {},
   "source": [
    "***Вывод по предобработке***\n",
    "\n",
    "Основная проблема – `дисбаланс классов (значительно больше нетоксичных комментариев).`\n",
    "**Решение** – undersampling (урезал большинство класса, чтобы классы были равны)."
   ]
  },
  {
   "cell_type": "code",
   "execution_count": 20,
   "metadata": {},
   "outputs": [],
   "source": [
    "tokenizer = transformers.BertTokenizer.from_pretrained('bert-base-multilingual-cased')"
   ]
  },
  {
   "cell_type": "code",
   "execution_count": 22,
   "metadata": {},
   "outputs": [
    {
     "name": "stdout",
     "output_type": "stream",
     "text": [
      "padded.shape: (32372, 512)\n",
      "attention_mask.shape: (32372, 512)\n"
     ]
    }
   ],
   "source": [
    "tokenized = df_balanced['text'].apply(\n",
    "    lambda x: tokenizer.encode(x, add_special_tokens=True, max_length=512, truncation=True)\n",
    ")\n",
    "\n",
    "max_len = 512  \n",
    "padded = np.array([i[:max_len] + [0] * (max_len - len(i[:max_len])) for i in tokenized.values])\n",
    "\n",
    "attention_mask = np.where(padded != 0, 1, 0)\n",
    "\n",
    "print(f\"padded.shape: {padded.shape}\")\n",
    "print(f\"attention_mask.shape: {attention_mask.shape}\")"
   ]
  },
  {
   "cell_type": "code",
   "execution_count": 23,
   "metadata": {},
   "outputs": [],
   "source": [
    "config = transformers.BertConfig.from_pretrained('bert-base-multilingual-cased')\n",
    "model = transformers.BertModel.from_pretrained('bert-base-multilingual-cased')"
   ]
  },
  {
   "cell_type": "code",
   "execution_count": 24,
   "metadata": {},
   "outputs": [
    {
     "name": "stdout",
     "output_type": "stream",
     "text": [
      "Using device: cuda\n"
     ]
    }
   ],
   "source": [
    "device = torch.device(\"cuda\" if torch.cuda.is_available() else \"cpu\")\n",
    "print(f\"Using device: {device}\")"
   ]
  },
  {
   "cell_type": "code",
   "execution_count": 25,
   "metadata": {},
   "outputs": [
    {
     "data": {
      "text/plain": [
       "BertModel(\n",
       "  (embeddings): BertEmbeddings(\n",
       "    (word_embeddings): Embedding(119547, 768, padding_idx=0)\n",
       "    (position_embeddings): Embedding(512, 768)\n",
       "    (token_type_embeddings): Embedding(2, 768)\n",
       "    (LayerNorm): LayerNorm((768,), eps=1e-12, elementwise_affine=True)\n",
       "    (dropout): Dropout(p=0.1, inplace=False)\n",
       "  )\n",
       "  (encoder): BertEncoder(\n",
       "    (layer): ModuleList(\n",
       "      (0-11): 12 x BertLayer(\n",
       "        (attention): BertAttention(\n",
       "          (self): BertSdpaSelfAttention(\n",
       "            (query): Linear(in_features=768, out_features=768, bias=True)\n",
       "            (key): Linear(in_features=768, out_features=768, bias=True)\n",
       "            (value): Linear(in_features=768, out_features=768, bias=True)\n",
       "            (dropout): Dropout(p=0.1, inplace=False)\n",
       "          )\n",
       "          (output): BertSelfOutput(\n",
       "            (dense): Linear(in_features=768, out_features=768, bias=True)\n",
       "            (LayerNorm): LayerNorm((768,), eps=1e-12, elementwise_affine=True)\n",
       "            (dropout): Dropout(p=0.1, inplace=False)\n",
       "          )\n",
       "        )\n",
       "        (intermediate): BertIntermediate(\n",
       "          (dense): Linear(in_features=768, out_features=3072, bias=True)\n",
       "          (intermediate_act_fn): GELUActivation()\n",
       "        )\n",
       "        (output): BertOutput(\n",
       "          (dense): Linear(in_features=3072, out_features=768, bias=True)\n",
       "          (LayerNorm): LayerNorm((768,), eps=1e-12, elementwise_affine=True)\n",
       "          (dropout): Dropout(p=0.1, inplace=False)\n",
       "        )\n",
       "      )\n",
       "    )\n",
       "  )\n",
       "  (pooler): BertPooler(\n",
       "    (dense): Linear(in_features=768, out_features=768, bias=True)\n",
       "    (activation): Tanh()\n",
       "  )\n",
       ")"
      ]
     },
     "execution_count": 25,
     "metadata": {},
     "output_type": "execute_result"
    }
   ],
   "source": [
    "model.to(device)"
   ]
  },
  {
   "cell_type": "markdown",
   "metadata": {},
   "source": [
    "***Подготовка данных для BERT***\n",
    "\n",
    "BERT Tokenizer преобразовал текст в паддинговую матрицу и маску внимания, а BERT перенес на GPU для быстрого вычисления."
   ]
  },
  {
   "cell_type": "code",
   "execution_count": 26,
   "metadata": {},
   "outputs": [
    {
     "name": "stderr",
     "output_type": "stream",
     "text": [
      "100%|██████████| 323/323 [10:14<00:00,  1.90s/it]\n"
     ]
    }
   ],
   "source": [
    "batch_size = 100\n",
    "embeddings = []\n",
    "\n",
    "# Обработка на GPU\n",
    "for i in tqdm(range(padded.shape[0] // batch_size)):\n",
    "    batch = torch.LongTensor(padded[batch_size * i: batch_size * (i + 1)]).to(device)  \n",
    "    attention_mask_batch = torch.LongTensor(attention_mask[batch_size * i: batch_size * (i + 1)]).to(device)\n",
    "\n",
    "    with torch.no_grad():\n",
    "        batch_embeddings = model(batch, attention_mask=attention_mask_batch)\n",
    "\n",
    "    # Переносим результаты обратно на CPU перед сохранением\n",
    "    embeddings.append(batch_embeddings[0][:, 0, :].cpu().numpy())"
   ]
  },
  {
   "cell_type": "code",
   "execution_count": 27,
   "metadata": {},
   "outputs": [
    {
     "name": "stdout",
     "output_type": "stream",
     "text": [
      "Accuracy score - 0.8482352941176471\n"
     ]
    }
   ],
   "source": [
    "features = np.concatenate(embeddings)\n",
    "\n",
    "X = features\n",
    "y = df_balanced['toxic'][:X.shape[0]]\n",
    "\n",
    "X_train, X_test, y_train, y_test = train_test_split(X, y, test_size=0.5)\n",
    "\n",
    "modelLog = LogisticRegression(class_weight='balanced', max_iter=1000)\n",
    "modelLog.fit(X_train, y_train)\n",
    "\n",
    "accuracy = modelLog.score(X_test, y_test)\n",
    "print(f'Accuracy score - {accuracy}')"
   ]
  },
  {
   "cell_type": "code",
   "execution_count": 28,
   "metadata": {},
   "outputs": [
    {
     "name": "stdout",
     "output_type": "stream",
     "text": [
      "F1 score:\n",
      "              precision    recall  f1-score   support\n",
      "\n",
      "           0     0.8469    0.8500    0.8484      8071\n",
      "           1     0.8496    0.8465    0.8480      8079\n",
      "\n",
      "    accuracy                         0.8482     16150\n",
      "   macro avg     0.8482    0.8482    0.8482     16150\n",
      "weighted avg     0.8482    0.8482    0.8482     16150\n",
      "\n"
     ]
    }
   ],
   "source": [
    "y_pred = modelLog.predict(X_test)\n",
    "\n",
    "f1score = classification_report(y_test, y_pred, digits=4)\n",
    "\n",
    "print(f'F1 score:\\n{f1score}')"
   ]
  },
  {
   "cell_type": "markdown",
   "metadata": {},
   "source": [
    "***Вывод по использованию BERT + Logistic Regression***\n",
    "\n",
    "1. BERT + Logistic Regression показывает `F1-score ≈ 0.85`, что выполняет требования заказчика.\n",
    "\n",
    "2. Сбалансированные `precision` и `recall` - модель хорошо распознаёт токсичные комментарии."
   ]
  },
  {
   "cell_type": "code",
   "execution_count": 10,
   "metadata": {},
   "outputs": [],
   "source": [
    "X_train, X_test, y_train, y_test = train_test_split(\n",
    "    df_toxic[\"text\"], df_toxic[\"toxic\"], test_size=0.3, random_state=42, stratify=df_toxic[\"toxic\"]\n",
    ")"
   ]
  },
  {
   "cell_type": "code",
   "execution_count": 11,
   "metadata": {},
   "outputs": [],
   "source": [
    "nlp = spacy.load(\"en_core_web_sm\")"
   ]
  },
  {
   "cell_type": "code",
   "execution_count": 12,
   "metadata": {},
   "outputs": [],
   "source": [
    "def lemmatize_spacy(text):\n",
    "    doc = nlp(text)\n",
    "    lemm_text = \" \".join([token.lemma_ for token in doc])\n",
    "    return lemm_text"
   ]
  },
  {
   "cell_type": "code",
   "execution_count": 13,
   "metadata": {},
   "outputs": [],
   "source": [
    "X_train_lemmatized = X_train.apply(lemmatize_spacy)\n",
    "X_test_lemmatized = X_test.apply(lemmatize_spacy)"
   ]
  },
  {
   "cell_type": "code",
   "execution_count": 14,
   "metadata": {},
   "outputs": [],
   "source": [
    "tfidf_vectorizer = TfidfVectorizer(stop_words=\"english\", max_features=200000)"
   ]
  },
  {
   "cell_type": "code",
   "execution_count": 15,
   "metadata": {},
   "outputs": [],
   "source": [
    "X_train_tfidf = tfidf_vectorizer.fit_transform(X_train_lemmatized)\n",
    "X_test_tfidf = tfidf_vectorizer.transform(X_test_lemmatized)"
   ]
  },
  {
   "cell_type": "code",
   "execution_count": 16,
   "metadata": {},
   "outputs": [
    {
     "name": "stdout",
     "output_type": "stream",
     "text": [
      "TF-IDF train: (111504, 141748)\n",
      "TF-IDF test: (47788, 141748)\n"
     ]
    }
   ],
   "source": [
    "print(f\"TF-IDF train: {X_train_tfidf.shape}\")\n",
    "print(f\"TF-IDF test: {X_test_tfidf.shape}\")"
   ]
  },
  {
   "cell_type": "code",
   "execution_count": 17,
   "metadata": {},
   "outputs": [],
   "source": [
    "kf = StratifiedKFold(n_splits=3, shuffle=True, random_state=42)"
   ]
  },
  {
   "cell_type": "markdown",
   "metadata": {},
   "source": [
    "***Использовал библиотеку spaCy для лемматизации текста, так как она работает быстрее аналогов. Создал матрицу TF-IDF.***"
   ]
  },
  {
   "cell_type": "code",
   "execution_count": 18,
   "metadata": {},
   "outputs": [],
   "source": [
    "# Оптимизация для Logistic Regression\n",
    "# Оптимизация для DecisionTreeClassifier\n",
    "# Оптимизация для CatBoostClassifier\n",
    "def objective(trial, model_type):\n",
    "    if model_type == \"logreg\":\n",
    "        C = trial.suggest_loguniform(\"C\", 1e-3, 1e3)\n",
    "        solver = trial.suggest_categorical(\"solver\", [\"lbfgs\", \"saga\"])\n",
    "        model = LogisticRegression(C=C, solver=solver, class_weight=\"balanced\", max_iter=2000, random_state=42)\n",
    "\n",
    "    elif model_type == \"tree\":\n",
    "        max_depth = trial.suggest_int(\"max_depth\", 3, 20)\n",
    "        min_samples_split = trial.suggest_int(\"min_samples_split\", 2, 10)\n",
    "        min_samples_leaf = trial.suggest_int(\"min_samples_leaf\", 1, 5)\n",
    "        model = DecisionTreeClassifier(\n",
    "            max_depth=max_depth,\n",
    "            min_samples_split=min_samples_split,\n",
    "            min_samples_leaf=min_samples_leaf,\n",
    "            class_weight=\"balanced\",\n",
    "            random_state=42\n",
    "        )\n",
    "\n",
    "    elif model_type == \"catboost\":\n",
    "        depth = trial.suggest_int(\"depth\", 4, 12)\n",
    "        learning_rate = trial.suggest_float(\"learning_rate\", 0.01, 0.2, log=True)\n",
    "        iterations = trial.suggest_int(\"iterations\", 50, 100)\n",
    "        model = CatBoostClassifier(\n",
    "            depth=depth,\n",
    "            learning_rate=learning_rate,\n",
    "            iterations=iterations,\n",
    "            verbose=0,\n",
    "            random_seed=42\n",
    "        )\n",
    "\n",
    "    else:\n",
    "        raise ValueError(\"Unknown model type\")\n",
    "\n",
    "    # Кросс-валидация с upsampling (SMOTE)\n",
    "    f1_scores = []\n",
    "    for train_index, val_index in kf.split(X_train_tfidf, y_train):\n",
    "        X_train_fold, X_val_fold = X_train_tfidf[train_index], X_train_tfidf[val_index]\n",
    "        y_train_fold, y_val_fold = y_train.iloc[train_index], y_train.iloc[val_index]\n",
    "\n",
    "        smote = SMOTE(random_state=42)\n",
    "        X_train_fold_bal, y_train_fold_bal = smote.fit_resample(X_train_fold, y_train_fold)\n",
    "\n",
    "        model.fit(X_train_fold_bal, y_train_fold_bal)\n",
    "        y_pred = model.predict(X_val_fold)\n",
    "\n",
    "        f1_scores.append(f1_score(y_val_fold, y_pred))\n",
    "\n",
    "    return np.mean(f1_scores)"
   ]
  },
  {
   "cell_type": "code",
   "execution_count": 19,
   "metadata": {},
   "outputs": [
    {
     "name": "stderr",
     "output_type": "stream",
     "text": [
      "[I 2025-03-20 20:11:44,789] A new study created in memory with name: no-name-515758ce-718d-458a-a73e-62bccc07dc19\n",
      "C:\\Users\\abram\\AppData\\Local\\Temp\\ipykernel_10792\\892907106.py:6: FutureWarning: suggest_loguniform has been deprecated in v3.0.0. This feature will be removed in v6.0.0. See https://github.com/optuna/optuna/releases/tag/v3.0.0. Use suggest_float(..., log=True) instead.\n",
      "  C = trial.suggest_loguniform(\"C\", 1e-3, 1e3)\n",
      "[I 2025-03-20 20:11:51,645] Trial 0 finished with value: 0.5324202600192912 and parameters: {'C': 0.025597783268396304, 'solver': 'saga'}. Best is trial 0 with value: 0.5324202600192912.\n",
      "C:\\Users\\abram\\AppData\\Local\\Temp\\ipykernel_10792\\892907106.py:6: FutureWarning: suggest_loguniform has been deprecated in v3.0.0. This feature will be removed in v6.0.0. See https://github.com/optuna/optuna/releases/tag/v3.0.0. Use suggest_float(..., log=True) instead.\n",
      "  C = trial.suggest_loguniform(\"C\", 1e-3, 1e3)\n",
      "[I 2025-03-20 20:12:04,988] Trial 1 finished with value: 0.6680930350066644 and parameters: {'C': 8.612208927740497, 'solver': 'saga'}. Best is trial 1 with value: 0.6680930350066644.\n",
      "C:\\Users\\abram\\AppData\\Local\\Temp\\ipykernel_10792\\892907106.py:6: FutureWarning: suggest_loguniform has been deprecated in v3.0.0. This feature will be removed in v6.0.0. See https://github.com/optuna/optuna/releases/tag/v3.0.0. Use suggest_float(..., log=True) instead.\n",
      "  C = trial.suggest_loguniform(\"C\", 1e-3, 1e3)\n",
      "[I 2025-03-20 20:13:38,497] Trial 2 finished with value: 0.6291352044337546 and parameters: {'C': 223.194611272297, 'solver': 'saga'}. Best is trial 1 with value: 0.6680930350066644.\n",
      "C:\\Users\\abram\\AppData\\Local\\Temp\\ipykernel_10792\\892907106.py:6: FutureWarning: suggest_loguniform has been deprecated in v3.0.0. This feature will be removed in v6.0.0. See https://github.com/optuna/optuna/releases/tag/v3.0.0. Use suggest_float(..., log=True) instead.\n",
      "  C = trial.suggest_loguniform(\"C\", 1e-3, 1e3)\n",
      "[I 2025-03-20 20:13:42,376] Trial 3 finished with value: 0.48801371502106566 and parameters: {'C': 0.004287270775633514, 'solver': 'lbfgs'}. Best is trial 1 with value: 0.6680930350066644.\n",
      "C:\\Users\\abram\\AppData\\Local\\Temp\\ipykernel_10792\\892907106.py:6: FutureWarning: suggest_loguniform has been deprecated in v3.0.0. This feature will be removed in v6.0.0. See https://github.com/optuna/optuna/releases/tag/v3.0.0. Use suggest_float(..., log=True) instead.\n",
      "  C = trial.suggest_loguniform(\"C\", 1e-3, 1e3)\n",
      "[I 2025-03-20 20:13:47,235] Trial 4 finished with value: 0.6428555503931012 and parameters: {'C': 0.49443251912541536, 'solver': 'lbfgs'}. Best is trial 1 with value: 0.6680930350066644.\n",
      "C:\\Users\\abram\\AppData\\Local\\Temp\\ipykernel_10792\\892907106.py:6: FutureWarning: suggest_loguniform has been deprecated in v3.0.0. This feature will be removed in v6.0.0. See https://github.com/optuna/optuna/releases/tag/v3.0.0. Use suggest_float(..., log=True) instead.\n",
      "  C = trial.suggest_loguniform(\"C\", 1e-3, 1e3)\n",
      "[I 2025-03-20 20:13:51,517] Trial 5 finished with value: 0.5144735994180561 and parameters: {'C': 0.01495135379098135, 'solver': 'lbfgs'}. Best is trial 1 with value: 0.6680930350066644.\n",
      "C:\\Users\\abram\\AppData\\Local\\Temp\\ipykernel_10792\\892907106.py:6: FutureWarning: suggest_loguniform has been deprecated in v3.0.0. This feature will be removed in v6.0.0. See https://github.com/optuna/optuna/releases/tag/v3.0.0. Use suggest_float(..., log=True) instead.\n",
      "  C = trial.suggest_loguniform(\"C\", 1e-3, 1e3)\n",
      "[I 2025-03-20 20:13:59,252] Trial 6 finished with value: 0.4853896082641606 and parameters: {'C': 0.0024317096828418514, 'solver': 'saga'}. Best is trial 1 with value: 0.6680930350066644.\n",
      "C:\\Users\\abram\\AppData\\Local\\Temp\\ipykernel_10792\\892907106.py:6: FutureWarning: suggest_loguniform has been deprecated in v3.0.0. This feature will be removed in v6.0.0. See https://github.com/optuna/optuna/releases/tag/v3.0.0. Use suggest_float(..., log=True) instead.\n",
      "  C = trial.suggest_loguniform(\"C\", 1e-3, 1e3)\n",
      "[I 2025-03-20 20:14:05,823] Trial 7 finished with value: 0.515695349808717 and parameters: {'C': 0.015628104073170085, 'solver': 'saga'}. Best is trial 1 with value: 0.6680930350066644.\n",
      "C:\\Users\\abram\\AppData\\Local\\Temp\\ipykernel_10792\\892907106.py:6: FutureWarning: suggest_loguniform has been deprecated in v3.0.0. This feature will be removed in v6.0.0. See https://github.com/optuna/optuna/releases/tag/v3.0.0. Use suggest_float(..., log=True) instead.\n",
      "  C = trial.suggest_loguniform(\"C\", 1e-3, 1e3)\n",
      "[I 2025-03-20 20:16:24,128] Trial 8 finished with value: 0.6209161290809729 and parameters: {'C': 577.318143671192, 'solver': 'saga'}. Best is trial 1 with value: 0.6680930350066644.\n",
      "C:\\Users\\abram\\AppData\\Local\\Temp\\ipykernel_10792\\892907106.py:6: FutureWarning: suggest_loguniform has been deprecated in v3.0.0. This feature will be removed in v6.0.0. See https://github.com/optuna/optuna/releases/tag/v3.0.0. Use suggest_float(..., log=True) instead.\n",
      "  C = trial.suggest_loguniform(\"C\", 1e-3, 1e3)\n",
      "[I 2025-03-20 20:16:30,567] Trial 9 finished with value: 0.6737646259293079 and parameters: {'C': 4.37664590377538, 'solver': 'lbfgs'}. Best is trial 9 with value: 0.6737646259293079.\n",
      "C:\\Users\\abram\\AppData\\Local\\Temp\\ipykernel_10792\\892907106.py:6: FutureWarning: suggest_loguniform has been deprecated in v3.0.0. This feature will be removed in v6.0.0. See https://github.com/optuna/optuna/releases/tag/v3.0.0. Use suggest_float(..., log=True) instead.\n",
      "  C = trial.suggest_loguniform(\"C\", 1e-3, 1e3)\n",
      "[I 2025-03-20 20:16:39,067] Trial 10 finished with value: 0.6730619443553101 and parameters: {'C': 10.371543401337664, 'solver': 'lbfgs'}. Best is trial 9 with value: 0.6737646259293079.\n",
      "C:\\Users\\abram\\AppData\\Local\\Temp\\ipykernel_10792\\892907106.py:6: FutureWarning: suggest_loguniform has been deprecated in v3.0.0. This feature will be removed in v6.0.0. See https://github.com/optuna/optuna/releases/tag/v3.0.0. Use suggest_float(..., log=True) instead.\n",
      "  C = trial.suggest_loguniform(\"C\", 1e-3, 1e3)\n",
      "[I 2025-03-20 20:16:47,076] Trial 11 finished with value: 0.6721375168094966 and parameters: {'C': 7.748971660217252, 'solver': 'lbfgs'}. Best is trial 9 with value: 0.6737646259293079.\n",
      "C:\\Users\\abram\\AppData\\Local\\Temp\\ipykernel_10792\\892907106.py:6: FutureWarning: suggest_loguniform has been deprecated in v3.0.0. This feature will be removed in v6.0.0. See https://github.com/optuna/optuna/releases/tag/v3.0.0. Use suggest_float(..., log=True) instead.\n",
      "  C = trial.suggest_loguniform(\"C\", 1e-3, 1e3)\n",
      "[I 2025-03-20 20:16:54,653] Trial 12 finished with value: 0.6619299608778809 and parameters: {'C': 1.0842317734382574, 'solver': 'lbfgs'}. Best is trial 9 with value: 0.6737646259293079.\n",
      "C:\\Users\\abram\\AppData\\Local\\Temp\\ipykernel_10792\\892907106.py:6: FutureWarning: suggest_loguniform has been deprecated in v3.0.0. This feature will be removed in v6.0.0. See https://github.com/optuna/optuna/releases/tag/v3.0.0. Use suggest_float(..., log=True) instead.\n",
      "  C = trial.suggest_loguniform(\"C\", 1e-3, 1e3)\n",
      "[I 2025-03-20 20:17:06,010] Trial 13 finished with value: 0.6621737744096968 and parameters: {'C': 46.37892956832263, 'solver': 'lbfgs'}. Best is trial 9 with value: 0.6737646259293079.\n",
      "C:\\Users\\abram\\AppData\\Local\\Temp\\ipykernel_10792\\892907106.py:6: FutureWarning: suggest_loguniform has been deprecated in v3.0.0. This feature will be removed in v6.0.0. See https://github.com/optuna/optuna/releases/tag/v3.0.0. Use suggest_float(..., log=True) instead.\n",
      "  C = trial.suggest_loguniform(\"C\", 1e-3, 1e3)\n",
      "[I 2025-03-20 20:17:12,677] Trial 14 finished with value: 0.6567423674188451 and parameters: {'C': 0.8451082981710524, 'solver': 'lbfgs'}. Best is trial 9 with value: 0.6737646259293079.\n",
      "C:\\Users\\abram\\AppData\\Local\\Temp\\ipykernel_10792\\892907106.py:6: FutureWarning: suggest_loguniform has been deprecated in v3.0.0. This feature will be removed in v6.0.0. See https://github.com/optuna/optuna/releases/tag/v3.0.0. Use suggest_float(..., log=True) instead.\n",
      "  C = trial.suggest_loguniform(\"C\", 1e-3, 1e3)\n",
      "[I 2025-03-20 20:17:22,086] Trial 15 finished with value: 0.6751069771579082 and parameters: {'C': 11.975541846016647, 'solver': 'lbfgs'}. Best is trial 15 with value: 0.6751069771579082.\n",
      "C:\\Users\\abram\\AppData\\Local\\Temp\\ipykernel_10792\\892907106.py:6: FutureWarning: suggest_loguniform has been deprecated in v3.0.0. This feature will be removed in v6.0.0. See https://github.com/optuna/optuna/releases/tag/v3.0.0. Use suggest_float(..., log=True) instead.\n",
      "  C = trial.suggest_loguniform(\"C\", 1e-3, 1e3)\n",
      "[I 2025-03-20 20:17:26,675] Trial 16 finished with value: 0.6135460578556714 and parameters: {'C': 0.19987465853152409, 'solver': 'lbfgs'}. Best is trial 15 with value: 0.6751069771579082.\n",
      "C:\\Users\\abram\\AppData\\Local\\Temp\\ipykernel_10792\\892907106.py:6: FutureWarning: suggest_loguniform has been deprecated in v3.0.0. This feature will be removed in v6.0.0. See https://github.com/optuna/optuna/releases/tag/v3.0.0. Use suggest_float(..., log=True) instead.\n",
      "  C = trial.suggest_loguniform(\"C\", 1e-3, 1e3)\n",
      "[I 2025-03-20 20:17:35,658] Trial 17 finished with value: 0.6678915385149501 and parameters: {'C': 36.280421650422376, 'solver': 'lbfgs'}. Best is trial 15 with value: 0.6751069771579082.\n",
      "C:\\Users\\abram\\AppData\\Local\\Temp\\ipykernel_10792\\892907106.py:6: FutureWarning: suggest_loguniform has been deprecated in v3.0.0. This feature will be removed in v6.0.0. See https://github.com/optuna/optuna/releases/tag/v3.0.0. Use suggest_float(..., log=True) instead.\n",
      "  C = trial.suggest_loguniform(\"C\", 1e-3, 1e3)\n",
      "[I 2025-03-20 20:17:42,756] Trial 18 finished with value: 0.6715335563078773 and parameters: {'C': 2.6367382291211134, 'solver': 'lbfgs'}. Best is trial 15 with value: 0.6751069771579082.\n",
      "C:\\Users\\abram\\AppData\\Local\\Temp\\ipykernel_10792\\892907106.py:6: FutureWarning: suggest_loguniform has been deprecated in v3.0.0. This feature will be removed in v6.0.0. See https://github.com/optuna/optuna/releases/tag/v3.0.0. Use suggest_float(..., log=True) instead.\n",
      "  C = trial.suggest_loguniform(\"C\", 1e-3, 1e3)\n",
      "[I 2025-03-20 20:17:47,516] Trial 19 finished with value: 0.5913450252002805 and parameters: {'C': 0.11568411739659462, 'solver': 'lbfgs'}. Best is trial 15 with value: 0.6751069771579082.\n",
      "[I 2025-03-20 20:17:47,519] A new study created in memory with name: no-name-552930d8-22d3-42d3-b3f9-18994b81580b\n"
     ]
    },
    {
     "name": "stdout",
     "output_type": "stream",
     "text": [
      "Лучшие параметры для Logistic Regression: {'C': 11.975541846016647, 'solver': 'lbfgs'}\n"
     ]
    },
    {
     "name": "stderr",
     "output_type": "stream",
     "text": [
      "[I 2025-03-20 20:18:33,764] Trial 0 finished with value: 0.5916071277148899 and parameters: {'max_depth': 15, 'min_samples_split': 2, 'min_samples_leaf': 3}. Best is trial 0 with value: 0.5916071277148899.\n",
      "[I 2025-03-20 20:19:25,520] Trial 1 finished with value: 0.6074387249469159 and parameters: {'max_depth': 18, 'min_samples_split': 8, 'min_samples_leaf': 4}. Best is trial 1 with value: 0.6074387249469159.\n",
      "[I 2025-03-20 20:20:09,888] Trial 2 finished with value: 0.594777905904501 and parameters: {'max_depth': 14, 'min_samples_split': 6, 'min_samples_leaf': 2}. Best is trial 1 with value: 0.6074387249469159.\n",
      "[I 2025-03-20 20:20:56,673] Trial 3 finished with value: 0.5916071277148899 and parameters: {'max_depth': 15, 'min_samples_split': 6, 'min_samples_leaf': 3}. Best is trial 1 with value: 0.6074387249469159.\n",
      "[I 2025-03-20 20:21:41,759] Trial 4 finished with value: 0.5953296772012723 and parameters: {'max_depth': 14, 'min_samples_split': 5, 'min_samples_leaf': 5}. Best is trial 1 with value: 0.6074387249469159.\n",
      "[I 2025-03-20 20:22:26,899] Trial 5 finished with value: 0.5945492398183706 and parameters: {'max_depth': 15, 'min_samples_split': 10, 'min_samples_leaf': 1}. Best is trial 1 with value: 0.6074387249469159.\n",
      "[I 2025-03-20 20:23:19,547] Trial 6 finished with value: 0.6234590404744469 and parameters: {'max_depth': 20, 'min_samples_split': 7, 'min_samples_leaf': 5}. Best is trial 6 with value: 0.6234590404744469.\n",
      "[I 2025-03-20 20:23:52,505] Trial 7 finished with value: 0.4750706253409999 and parameters: {'max_depth': 7, 'min_samples_split': 8, 'min_samples_leaf': 3}. Best is trial 6 with value: 0.6234590404744469.\n",
      "[I 2025-03-20 20:24:38,429] Trial 8 finished with value: 0.5996932851810945 and parameters: {'max_depth': 16, 'min_samples_split': 2, 'min_samples_leaf': 5}. Best is trial 6 with value: 0.6234590404744469.\n",
      "[I 2025-03-20 20:25:18,466] Trial 9 finished with value: 0.5738429480905357 and parameters: {'max_depth': 12, 'min_samples_split': 4, 'min_samples_leaf': 4}. Best is trial 6 with value: 0.6234590404744469.\n",
      "[I 2025-03-20 20:26:10,992] Trial 10 finished with value: 0.6234590404744469 and parameters: {'max_depth': 20, 'min_samples_split': 8, 'min_samples_leaf': 5}. Best is trial 6 with value: 0.6234590404744469.\n",
      "[I 2025-03-20 20:27:03,580] Trial 11 finished with value: 0.6234590404744469 and parameters: {'max_depth': 20, 'min_samples_split': 8, 'min_samples_leaf': 5}. Best is trial 6 with value: 0.6234590404744469.\n",
      "[I 2025-03-20 20:27:55,822] Trial 12 finished with value: 0.6220801278940463 and parameters: {'max_depth': 20, 'min_samples_split': 10, 'min_samples_leaf': 4}. Best is trial 6 with value: 0.6234590404744469.\n",
      "[I 2025-03-20 20:28:28,705] Trial 13 finished with value: 0.4747710772855141 and parameters: {'max_depth': 7, 'min_samples_split': 8, 'min_samples_leaf': 5}. Best is trial 6 with value: 0.6234590404744469.\n",
      "[I 2025-03-20 20:28:58,043] Trial 14 finished with value: 0.2424070748395606 and parameters: {'max_depth': 4, 'min_samples_split': 7, 'min_samples_leaf': 4}. Best is trial 6 with value: 0.6234590404744469.\n",
      "[I 2025-03-20 20:29:46,988] Trial 15 finished with value: 0.6105355598127451 and parameters: {'max_depth': 18, 'min_samples_split': 9, 'min_samples_leaf': 5}. Best is trial 6 with value: 0.6234590404744469.\n",
      "[I 2025-03-20 20:30:24,227] Trial 16 finished with value: 0.5636315840234118 and parameters: {'max_depth': 10, 'min_samples_split': 4, 'min_samples_leaf': 2}. Best is trial 6 with value: 0.6234590404744469.\n",
      "[I 2025-03-20 20:31:13,765] Trial 17 finished with value: 0.6074387249469159 and parameters: {'max_depth': 18, 'min_samples_split': 7, 'min_samples_leaf': 4}. Best is trial 6 with value: 0.6234590404744469.\n",
      "[I 2025-03-20 20:32:06,360] Trial 18 finished with value: 0.6234590404744469 and parameters: {'max_depth': 20, 'min_samples_split': 9, 'min_samples_leaf': 5}. Best is trial 6 with value: 0.6234590404744469.\n",
      "[I 2025-03-20 20:32:45,398] Trial 19 finished with value: 0.5637110648565103 and parameters: {'max_depth': 11, 'min_samples_split': 5, 'min_samples_leaf': 1}. Best is trial 6 with value: 0.6234590404744469.\n",
      "[I 2025-03-20 20:32:45,399] A new study created in memory with name: no-name-beba086a-b7a2-4261-9de4-2b06aafffd01\n"
     ]
    },
    {
     "name": "stdout",
     "output_type": "stream",
     "text": [
      "Лучшие параметры для Decision Tree: {'max_depth': 20, 'min_samples_split': 7, 'min_samples_leaf': 5}\n"
     ]
    },
    {
     "name": "stderr",
     "output_type": "stream",
     "text": [
      "[I 2025-03-20 20:57:53,675] Trial 0 finished with value: 0.6974833083129881 and parameters: {'depth': 10, 'learning_rate': 0.052968822477109434, 'iterations': 85}. Best is trial 0 with value: 0.6974833083129881.\n",
      "[I 2025-03-20 21:07:55,575] Trial 1 finished with value: 0.6997800146399089 and parameters: {'depth': 9, 'learning_rate': 0.08204757530149788, 'iterations': 78}. Best is trial 1 with value: 0.6997800146399089.\n",
      "[I 2025-03-20 21:13:28,384] Trial 2 finished with value: 0.6971779942402199 and parameters: {'depth': 8, 'learning_rate': 0.0685547987084339, 'iterations': 79}. Best is trial 1 with value: 0.6997800146399089.\n",
      "[I 2025-03-20 21:17:03,825] Trial 3 finished with value: 0.6913121999469322 and parameters: {'depth': 7, 'learning_rate': 0.05233689320963202, 'iterations': 83}. Best is trial 1 with value: 0.6997800146399089.\n",
      "[I 2025-03-20 21:38:07,758] Trial 4 finished with value: 0.6811165662296977 and parameters: {'depth': 10, 'learning_rate': 0.029747149208721232, 'iterations': 70}. Best is trial 1 with value: 0.6997800146399089.\n",
      "[I 2025-03-20 21:47:10,128] Trial 5 finished with value: 0.6511401024285016 and parameters: {'depth': 9, 'learning_rate': 0.01545896629632598, 'iterations': 74}. Best is trial 1 with value: 0.6997800146399089.\n",
      "[I 2025-03-20 22:38:50,028] Trial 6 finished with value: 0.7207351881101381 and parameters: {'depth': 11, 'learning_rate': 0.1564934925822418, 'iterations': 93}. Best is trial 6 with value: 0.7207351881101381.\n",
      "[I 2025-03-20 22:56:02,295] Trial 7 finished with value: 0.68993942643305 and parameters: {'depth': 10, 'learning_rate': 0.05387222113688038, 'iterations': 56}. Best is trial 6 with value: 0.7207351881101381.\n",
      "[I 2025-03-20 22:58:00,089] Trial 8 finished with value: 0.6500194729362975 and parameters: {'depth': 6, 'learning_rate': 0.019602828564454115, 'iterations': 63}. Best is trial 6 with value: 0.7207351881101381.\n",
      "[I 2025-03-20 23:03:17,906] Trial 9 finished with value: 0.7032926027030286 and parameters: {'depth': 8, 'learning_rate': 0.11422260284010803, 'iterations': 75}. Best is trial 6 with value: 0.7207351881101381.\n"
     ]
    },
    {
     "name": "stdout",
     "output_type": "stream",
     "text": [
      "Лучшие параметры для CatBoost: {'depth': 11, 'learning_rate': 0.1564934925822418, 'iterations': 93}\n"
     ]
    }
   ],
   "source": [
    "study_log = optuna.create_study(direction=\"maximize\")\n",
    "study_log.optimize(lambda trial: objective(trial, \"logreg\"), n_trials=20)\n",
    "print(\"Лучшие параметры для Logistic Regression:\", study_log.best_params)\n",
    "\n",
    "study_tree = optuna.create_study(direction=\"maximize\")\n",
    "study_tree.optimize(lambda trial: objective(trial, \"tree\"), n_trials=20)\n",
    "print(\"Лучшие параметры для Decision Tree:\", study_tree.best_params)\n",
    "\n",
    "study_cat = optuna.create_study(direction=\"maximize\")\n",
    "study_cat.optimize(lambda trial: objective(trial, \"catboost\"), n_trials=10)\n",
    "print(\"Лучшие параметры для CatBoost:\", study_cat.best_params)"
   ]
  },
  {
   "cell_type": "code",
   "execution_count": 20,
   "metadata": {},
   "outputs": [
    {
     "name": "stdout",
     "output_type": "stream",
     "text": [
      "Лучшая модель: CatBoost с F1-score на CV: 0.7207\n"
     ]
    }
   ],
   "source": [
    "models_scores = [\n",
    "    ('LogReg', study_log.best_value),\n",
    "    ('Tree', study_tree.best_value),\n",
    "    ('CatBoost', study_cat.best_value)\n",
    "]\n",
    "\n",
    "best_model_name = None\n",
    "best_f1 = -1\n",
    "\n",
    "# Перебираем модели и находим лучшую по F1-score\n",
    "for model_name, f1_score in models_scores:\n",
    "    if f1_score > best_f1:\n",
    "        best_model_name = model_name\n",
    "        best_f1 = f1_score\n",
    "\n",
    "print(f\"Лучшая модель: {best_model_name} с F1-score на CV: {best_f1:.4f}\")"
   ]
  },
  {
   "cell_type": "code",
   "execution_count": 21,
   "metadata": {},
   "outputs": [],
   "source": [
    "# Обучаем только лучшую модель\n",
    "if best_model_name == 'LogReg':\n",
    "    final_model = LogisticRegression(**study_log.best_params, class_weight=\"balanced\", max_iter=2000, random_state=42)\n",
    "elif best_model_name == 'Tree':\n",
    "    final_model = DecisionTreeClassifier(**study_tree.best_params, class_weight=\"balanced\", random_state=42)\n",
    "elif best_model_name == 'CatBoost':\n",
    "    final_model = CatBoostClassifier(**study_cat.best_params, verbose=0, random_seed=42)"
   ]
  },
  {
   "cell_type": "code",
   "execution_count": 22,
   "metadata": {},
   "outputs": [
    {
     "name": "stdout",
     "output_type": "stream",
     "text": [
      "\n",
      "Результаты на test для CatBoost:\n",
      "              precision    recall  f1-score   support\n",
      "\n",
      "           0     0.9735    0.9574    0.9654     42932\n",
      "           1     0.6713    0.7696    0.7171      4856\n",
      "\n",
      "    accuracy                         0.9383     47788\n",
      "   macro avg     0.8224    0.8635    0.8412     47788\n",
      "weighted avg     0.9428    0.9383    0.9401     47788\n",
      "\n"
     ]
    }
   ],
   "source": [
    "smote = SMOTE(random_state=42)\n",
    "X_train_balanced, y_train_balanced = smote.fit_resample(X_train_tfidf, y_train)\n",
    "\n",
    "# Обучаем лучшую модель\n",
    "final_model.fit(X_train_balanced, y_train_balanced)\n",
    "\n",
    "# Делаем предсказания на тестовой выборке\n",
    "y_pred = final_model.predict(X_test_tfidf)\n",
    "\n",
    "print(f\"\\nРезультаты на test для {best_model_name}:\")\n",
    "print(classification_report(y_test, y_pred, digits=4))"
   ]
  },
  {
   "cell_type": "code",
   "execution_count": 28,
   "metadata": {},
   "outputs": [
    {
     "name": "stderr",
     "output_type": "stream",
     "text": [
      "[I 2025-03-20 23:43:20,199] A new study created in memory with name: no-name-4e6297f3-8a9f-4ffd-8c02-dd7bb4ee668d\n"
     ]
    },
    {
     "name": "stdout",
     "output_type": "stream",
     "text": [
      "\n",
      "Оптимизируем LGBM...\n"
     ]
    },
    {
     "name": "stderr",
     "output_type": "stream",
     "text": [
      "c:\\Users\\abram\\.conda\\envs\\machinelearn\\Lib\\site-packages\\sklearn\\utils\\validation.py:2739: UserWarning: X does not have valid feature names, but LGBMClassifier was fitted with feature names\n",
      "  warnings.warn(\n",
      "c:\\Users\\abram\\.conda\\envs\\machinelearn\\Lib\\site-packages\\sklearn\\utils\\validation.py:2739: UserWarning: X does not have valid feature names, but LGBMClassifier was fitted with feature names\n",
      "  warnings.warn(\n",
      "c:\\Users\\abram\\.conda\\envs\\machinelearn\\Lib\\site-packages\\sklearn\\utils\\validation.py:2739: UserWarning: X does not have valid feature names, but LGBMClassifier was fitted with feature names\n",
      "  warnings.warn(\n",
      "[I 2025-03-20 23:44:02,494] Trial 0 finished with value: 0.3767648820978706 and parameters: {'learning_rate': 0.09814279034985664, 'num_leaves': 50, 'max_depth': 25, 'min_data_in_leaf': 30, 'reg_alpha': 0.02522435520539364, 'reg_lambda': 0.01426481380377407}. Best is trial 0 with value: 0.3767648820978706.\n",
      "c:\\Users\\abram\\.conda\\envs\\machinelearn\\Lib\\site-packages\\sklearn\\utils\\validation.py:2739: UserWarning: X does not have valid feature names, but LGBMClassifier was fitted with feature names\n",
      "  warnings.warn(\n",
      "c:\\Users\\abram\\.conda\\envs\\machinelearn\\Lib\\site-packages\\sklearn\\utils\\validation.py:2739: UserWarning: X does not have valid feature names, but LGBMClassifier was fitted with feature names\n",
      "  warnings.warn(\n",
      "c:\\Users\\abram\\.conda\\envs\\machinelearn\\Lib\\site-packages\\sklearn\\utils\\validation.py:2739: UserWarning: X does not have valid feature names, but LGBMClassifier was fitted with feature names\n",
      "  warnings.warn(\n",
      "[I 2025-03-20 23:44:47,180] Trial 1 finished with value: 0.21169921992384055 and parameters: {'learning_rate': 0.010314623436126574, 'num_leaves': 146, 'max_depth': 6, 'min_data_in_leaf': 10, 'reg_alpha': 0.1453786554212447, 'reg_lambda': 0.1600919911049609}. Best is trial 0 with value: 0.3767648820978706.\n",
      "c:\\Users\\abram\\.conda\\envs\\machinelearn\\Lib\\site-packages\\sklearn\\utils\\validation.py:2739: UserWarning: X does not have valid feature names, but LGBMClassifier was fitted with feature names\n",
      "  warnings.warn(\n",
      "c:\\Users\\abram\\.conda\\envs\\machinelearn\\Lib\\site-packages\\sklearn\\utils\\validation.py:2739: UserWarning: X does not have valid feature names, but LGBMClassifier was fitted with feature names\n",
      "  warnings.warn(\n",
      "c:\\Users\\abram\\.conda\\envs\\machinelearn\\Lib\\site-packages\\sklearn\\utils\\validation.py:2739: UserWarning: X does not have valid feature names, but LGBMClassifier was fitted with feature names\n",
      "  warnings.warn(\n",
      "[I 2025-03-20 23:45:23,591] Trial 2 finished with value: 0.29572942892412163 and parameters: {'learning_rate': 0.0754801200719951, 'num_leaves': 117, 'max_depth': 12, 'min_data_in_leaf': 35, 'reg_alpha': 0.15313368951066844, 'reg_lambda': 0.6526095613447019}. Best is trial 0 with value: 0.3767648820978706.\n",
      "c:\\Users\\abram\\.conda\\envs\\machinelearn\\Lib\\site-packages\\sklearn\\utils\\validation.py:2739: UserWarning: X does not have valid feature names, but LGBMClassifier was fitted with feature names\n",
      "  warnings.warn(\n",
      "c:\\Users\\abram\\.conda\\envs\\machinelearn\\Lib\\site-packages\\sklearn\\utils\\validation.py:2739: UserWarning: X does not have valid feature names, but LGBMClassifier was fitted with feature names\n",
      "  warnings.warn(\n",
      "c:\\Users\\abram\\.conda\\envs\\machinelearn\\Lib\\site-packages\\sklearn\\utils\\validation.py:2739: UserWarning: X does not have valid feature names, but LGBMClassifier was fitted with feature names\n",
      "  warnings.warn(\n",
      "[I 2025-03-20 23:46:09,909] Trial 3 finished with value: 0.51137546958915 and parameters: {'learning_rate': 0.2537048406337495, 'num_leaves': 104, 'max_depth': 25, 'min_data_in_leaf': 23, 'reg_alpha': 3.3212254866233577, 'reg_lambda': 0.7790760118916901}. Best is trial 3 with value: 0.51137546958915.\n",
      "c:\\Users\\abram\\.conda\\envs\\machinelearn\\Lib\\site-packages\\sklearn\\utils\\validation.py:2739: UserWarning: X does not have valid feature names, but LGBMClassifier was fitted with feature names\n",
      "  warnings.warn(\n",
      "c:\\Users\\abram\\.conda\\envs\\machinelearn\\Lib\\site-packages\\sklearn\\utils\\validation.py:2739: UserWarning: X does not have valid feature names, but LGBMClassifier was fitted with feature names\n",
      "  warnings.warn(\n",
      "c:\\Users\\abram\\.conda\\envs\\machinelearn\\Lib\\site-packages\\sklearn\\utils\\validation.py:2739: UserWarning: X does not have valid feature names, but LGBMClassifier was fitted with feature names\n",
      "  warnings.warn(\n",
      "[I 2025-03-20 23:47:02,183] Trial 4 finished with value: 0.26365564065227054 and parameters: {'learning_rate': 0.02164907070776987, 'num_leaves': 124, 'max_depth': 18, 'min_data_in_leaf': 42, 'reg_alpha': 0.03813677360189777, 'reg_lambda': 0.022906612993777282}. Best is trial 3 with value: 0.51137546958915.\n",
      "c:\\Users\\abram\\.conda\\envs\\machinelearn\\Lib\\site-packages\\sklearn\\utils\\validation.py:2739: UserWarning: X does not have valid feature names, but LGBMClassifier was fitted with feature names\n",
      "  warnings.warn(\n",
      "c:\\Users\\abram\\.conda\\envs\\machinelearn\\Lib\\site-packages\\sklearn\\utils\\validation.py:2739: UserWarning: X does not have valid feature names, but LGBMClassifier was fitted with feature names\n",
      "  warnings.warn(\n",
      "c:\\Users\\abram\\.conda\\envs\\machinelearn\\Lib\\site-packages\\sklearn\\utils\\validation.py:2739: UserWarning: X does not have valid feature names, but LGBMClassifier was fitted with feature names\n",
      "  warnings.warn(\n",
      "[I 2025-03-20 23:48:08,879] Trial 5 finished with value: 0.27533909842266757 and parameters: {'learning_rate': 0.028894661941590242, 'num_leaves': 102, 'max_depth': 20, 'min_data_in_leaf': 22, 'reg_alpha': 0.4106941999589178, 'reg_lambda': 0.14418439399506952}. Best is trial 3 with value: 0.51137546958915.\n",
      "c:\\Users\\abram\\.conda\\envs\\machinelearn\\Lib\\site-packages\\sklearn\\utils\\validation.py:2739: UserWarning: X does not have valid feature names, but LGBMClassifier was fitted with feature names\n",
      "  warnings.warn(\n",
      "c:\\Users\\abram\\.conda\\envs\\machinelearn\\Lib\\site-packages\\sklearn\\utils\\validation.py:2739: UserWarning: X does not have valid feature names, but LGBMClassifier was fitted with feature names\n",
      "  warnings.warn(\n",
      "c:\\Users\\abram\\.conda\\envs\\machinelearn\\Lib\\site-packages\\sklearn\\utils\\validation.py:2739: UserWarning: X does not have valid feature names, but LGBMClassifier was fitted with feature names\n",
      "  warnings.warn(\n",
      "[I 2025-03-20 23:48:57,623] Trial 6 finished with value: 0.25231682246410364 and parameters: {'learning_rate': 0.03138807630842619, 'num_leaves': 36, 'max_depth': 20, 'min_data_in_leaf': 30, 'reg_alpha': 0.017500348892551473, 'reg_lambda': 0.07136095267009691}. Best is trial 3 with value: 0.51137546958915.\n",
      "c:\\Users\\abram\\.conda\\envs\\machinelearn\\Lib\\site-packages\\sklearn\\utils\\validation.py:2739: UserWarning: X does not have valid feature names, but LGBMClassifier was fitted with feature names\n",
      "  warnings.warn(\n",
      "c:\\Users\\abram\\.conda\\envs\\machinelearn\\Lib\\site-packages\\sklearn\\utils\\validation.py:2739: UserWarning: X does not have valid feature names, but LGBMClassifier was fitted with feature names\n",
      "  warnings.warn(\n",
      "c:\\Users\\abram\\.conda\\envs\\machinelearn\\Lib\\site-packages\\sklearn\\utils\\validation.py:2739: UserWarning: X does not have valid feature names, but LGBMClassifier was fitted with feature names\n",
      "  warnings.warn(\n",
      "[I 2025-03-20 23:50:29,279] Trial 7 finished with value: 0.2746395403512381 and parameters: {'learning_rate': 0.033287198122518694, 'num_leaves': 108, 'max_depth': 18, 'min_data_in_leaf': 6, 'reg_alpha': 0.4151973192997678, 'reg_lambda': 4.647234188634731}. Best is trial 3 with value: 0.51137546958915.\n",
      "c:\\Users\\abram\\.conda\\envs\\machinelearn\\Lib\\site-packages\\sklearn\\utils\\validation.py:2739: UserWarning: X does not have valid feature names, but LGBMClassifier was fitted with feature names\n",
      "  warnings.warn(\n",
      "c:\\Users\\abram\\.conda\\envs\\machinelearn\\Lib\\site-packages\\sklearn\\utils\\validation.py:2739: UserWarning: X does not have valid feature names, but LGBMClassifier was fitted with feature names\n",
      "  warnings.warn(\n",
      "c:\\Users\\abram\\.conda\\envs\\machinelearn\\Lib\\site-packages\\sklearn\\utils\\validation.py:2739: UserWarning: X does not have valid feature names, but LGBMClassifier was fitted with feature names\n",
      "  warnings.warn(\n",
      "[I 2025-03-20 23:51:17,846] Trial 8 finished with value: 0.2637462983639822 and parameters: {'learning_rate': 0.03528403681004852, 'num_leaves': 120, 'max_depth': 14, 'min_data_in_leaf': 25, 'reg_alpha': 0.4802681047671527, 'reg_lambda': 0.5901202697355238}. Best is trial 3 with value: 0.51137546958915.\n",
      "c:\\Users\\abram\\.conda\\envs\\machinelearn\\Lib\\site-packages\\sklearn\\utils\\validation.py:2739: UserWarning: X does not have valid feature names, but LGBMClassifier was fitted with feature names\n",
      "  warnings.warn(\n",
      "c:\\Users\\abram\\.conda\\envs\\machinelearn\\Lib\\site-packages\\sklearn\\utils\\validation.py:2739: UserWarning: X does not have valid feature names, but LGBMClassifier was fitted with feature names\n",
      "  warnings.warn(\n",
      "c:\\Users\\abram\\.conda\\envs\\machinelearn\\Lib\\site-packages\\sklearn\\utils\\validation.py:2739: UserWarning: X does not have valid feature names, but LGBMClassifier was fitted with feature names\n",
      "  warnings.warn(\n",
      "[I 2025-03-20 23:52:18,344] Trial 9 finished with value: 0.3296400904808579 and parameters: {'learning_rate': 0.07237608932289946, 'num_leaves': 143, 'max_depth': 17, 'min_data_in_leaf': 15, 'reg_alpha': 0.46873453243507823, 'reg_lambda': 0.267344322698818}. Best is trial 3 with value: 0.51137546958915.\n"
     ]
    },
    {
     "name": "stdout",
     "output_type": "stream",
     "text": [
      "\n",
      "Лучшие параметры для LGBM: {'learning_rate': 0.2537048406337495, 'num_leaves': 104, 'max_depth': 25, 'min_data_in_leaf': 23, 'reg_alpha': 3.3212254866233577, 'reg_lambda': 0.7790760118916901}\n",
      "Лучший F1-score на CV: 0.5114\n"
     ]
    }
   ],
   "source": [
    "def objective_lgbm(trial):\n",
    "    param = {\n",
    "        \"objective\": \"binary\",\n",
    "        \"metric\": \"binary_logloss\",\n",
    "        \"boosting_type\": \"gbdt\",\n",
    "        \"learning_rate\": trial.suggest_float(\"learning_rate\", 0.01, 0.3, log=True),\n",
    "        \"num_leaves\": trial.suggest_int(\"num_leaves\", 30, 150),\n",
    "        \"max_depth\": trial.suggest_int(\"max_depth\", 6, 25),\n",
    "        \"min_data_in_leaf\": trial.suggest_int(\"min_data_in_leaf\", 5, 50),\n",
    "        \"reg_alpha\": trial.suggest_float(\"reg_alpha\", 0.01, 5.0, log=True),\n",
    "        \"reg_lambda\": trial.suggest_float(\"reg_lambda\", 0.01, 5.0, log=True),\n",
    "        \"verbosity\": -1,\n",
    "        \"scale_pos_weight\": len(y_train[y_train == 0]) / len(y_train[y_train == 1]),\n",
    "    }\n",
    "\n",
    "    model = LGBMClassifier(**param)\n",
    "\n",
    "    f1_scores = []\n",
    "    for train_index, val_index in kf.split(X_train_tfidf, y_train):\n",
    "        X_train_fold, X_val_fold = X_train_tfidf[train_index], X_train_tfidf[val_index]\n",
    "        y_train_fold, y_val_fold = y_train.iloc[train_index], y_train.iloc[val_index]\n",
    "\n",
    "        smote = SMOTE(random_state=42)\n",
    "        X_train_fold_bal, y_train_fold_bal = smote.fit_resample(X_train_fold, y_train_fold)\n",
    "\n",
    "        model.fit(X_train_fold_bal, y_train_fold_bal)\n",
    "        y_pred = model.predict(X_val_fold)\n",
    "\n",
    "        f1_scores.append(f1_score(y_val_fold, y_pred))\n",
    "\n",
    "    return np.mean(f1_scores)\n",
    "\n",
    "# Запуск оптимизации\n",
    "print(\"\\nОптимизируем LGBM...\")\n",
    "study_lgbm = optuna.create_study(direction=\"maximize\", sampler=TPESampler())\n",
    "study_lgbm.optimize(objective_lgbm, n_trials=10)\n",
    "\n",
    "# Вывод лучших параметров\n",
    "print(f\"\\nЛучшие параметры для LGBM: {study_lgbm.best_params}\")\n",
    "print(f\"Лучший F1-score на CV: {study_lgbm.best_value:.4f}\")"
   ]
  },
  {
   "cell_type": "code",
   "execution_count": 29,
   "metadata": {},
   "outputs": [
    {
     "name": "stdout",
     "output_type": "stream",
     "text": [
      "Результаты на test для LGBM:\n",
      "              precision    recall  f1-score   support\n",
      "\n",
      "           0     0.9632    0.9906    0.9767     42932\n",
      "           1     0.8891    0.6654    0.7611      4856\n",
      "\n",
      "    accuracy                         0.9576     47788\n",
      "   macro avg     0.9261    0.8280    0.8689     47788\n",
      "weighted avg     0.9557    0.9576    0.9548     47788\n",
      "\n"
     ]
    },
    {
     "name": "stderr",
     "output_type": "stream",
     "text": [
      "c:\\Users\\abram\\.conda\\envs\\machinelearn\\Lib\\site-packages\\sklearn\\utils\\validation.py:2739: UserWarning: X does not have valid feature names, but LGBMClassifier was fitted with feature names\n",
      "  warnings.warn(\n"
     ]
    }
   ],
   "source": [
    "best_lgbm = LGBMClassifier(**study_lgbm.best_params, random_state=42)\n",
    "best_lgbm.fit(X_train_tfidf, y_train)\n",
    "y_pred_lgbm = best_lgbm.predict(X_test_tfidf)\n",
    "\n",
    "print(\"Результаты на test для LGBM:\")\n",
    "print(classification_report(y_test, y_pred_lgbm, digits=4))"
   ]
  },
  {
   "cell_type": "markdown",
   "metadata": {},
   "source": [
    "## **1. Лучшая модель**  \n",
    "**`LGBM (F1 = 0.7611 на классе 1, Accuracy = 0.9576)`**  \n",
    "- LGBM показал наилучший баланс точности и скорости.  \n",
    "- Обеспечивает высокую точность и обобщающую способность.  \n",
    "\n",
    "## **2. `CatBoost` также показал хороший результат, но:**  \n",
    "- Требует больше вычислительных мощностей для подбора гиперпараметров.  \n",
    "- F1-score (0.7372) немного ниже, чем у LGBM, но все равно достойный результат.  \n",
    "- Может быть полезен, если есть достаточно ресурсов для долгого обучения.  \n",
    "\n",
    "## **3. `Decision Tree` не подходит**  \n",
    "- Низкая точность.  \n",
    "- Слабая обобщающая способность, переобучается на данных.  \n",
    "\n",
    "## **4. `BERT + LogReg`**  \n",
    "- Показал высокий F1-score для токсичных комментариев, но:  \n",
    "  - Уступает TF-IDF по accuracy.  \n",
    "  - Обучение значительно дольше, что делает его менее практичным.  \n",
    "\n",
    "---\n",
    "\n",
    "# **Рекомендация**\n",
    "### **Финальная модель – `LGBM на TF-IDF`**  \n",
    "Лучший баланс точности (**F1=0.7611**) и скорости обучения.  \n",
    "Подходит для быстрого и эффективного детектирования токсичных комментариев.  \n",
    "\n",
    "### **Если есть ресурсы, можно попробовать `CatBoost`**  \n",
    "Может показать стабильные результаты, но требует больше вычислительных мощностей.  \n",
    "\n",
    "### **`BERT + LogReg`**  \n",
    "Вариант для более глубокого анализа, но требует дополнительных ресурсов.  "
   ]
  }
 ],
 "metadata": {
  "ExecuteTimeLog": [
   {
    "duration": 1682,
    "start_time": "2025-03-18T08:49:57.304Z"
   }
  ],
  "kernelspec": {
   "display_name": "Python 3 (ipykernel)",
   "language": "python",
   "name": "python3"
  },
  "language_info": {
   "codemirror_mode": {
    "name": "ipython",
    "version": 3
   },
   "file_extension": ".py",
   "mimetype": "text/x-python",
   "name": "python",
   "nbconvert_exporter": "python",
   "pygments_lexer": "ipython3",
   "version": "3.9.5"
  },
  "toc": {
   "base_numbering": 1,
   "nav_menu": {},
   "number_sections": true,
   "sideBar": true,
   "skip_h1_title": true,
   "title_cell": "Table of Contents",
   "title_sidebar": "Contents",
   "toc_cell": false,
   "toc_position": {},
   "toc_section_display": true,
   "toc_window_display": false
  }
 },
 "nbformat": 4,
 "nbformat_minor": 2
}
