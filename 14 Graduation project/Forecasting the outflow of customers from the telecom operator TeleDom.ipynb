{
 "cells": [
  {
   "cell_type": "markdown",
   "id": "e163651d",
   "metadata": {},
   "source": [
    "# Выпускной проект по телекоммуникациям"
   ]
  },
  {
   "cell_type": "markdown",
   "id": "6c7868bf",
   "metadata": {},
   "source": [
    "# Прогнозирование оттока клиентов у оператора связи \"ТелеДом\"."
   ]
  },
  {
   "cell_type": "markdown",
   "id": "5806f798",
   "metadata": {},
   "source": [
    "# Описание задачи:\n",
    "\n",
    "Заказчик хочет начать бороться c оттоком клиентов и для этого он вводит промокоды и специальные условия всем, кто планирует отказаться от услуг. \"ТелеДом\" собрал персональные данные о клиентах, их тарифах и услугах и предоставил их нам для разработки модели, которая будет предсказывать, `разорвет ли абонент договор`. Наша задача - `обучить на этих данных модель, которая будет предсказывать отток клиентов`."
   ]
  },
  {
   "cell_type": "markdown",
   "id": "ae8f6bb1",
   "metadata": {},
   "source": [
    "# Что предоставил заказчик:\n",
    "\n",
    "- ***Описание услуг***\n",
    "\n",
    "    1. Оператор предоставляет два основных типа услуг: \n",
    "    \n",
    "    - Стационарную телефонную связь. Телефон можно подключить к нескольким линиям одновременно.\n",
    "    - Интернет. Подключение может быть двух типов: через телефонную линию (`DSL, от англ. digital subscriber line — «цифровая абонентская линия»`) или оптоволоконный кабель (`Fiber optic`).\n",
    "    \n",
    "    2. Также доступны такие услуги:\n",
    "    \n",
    "    - Интернет-безопасность: антивирус (`DeviceProtection`) и блокировка небезопасных сайтов (`OnlineSecurity`);\n",
    "    - Выделенная линия технической поддержки (`TechSupport`);\n",
    "    - Облачное хранилище файлов для резервного копирования данных (`OnlineBackup`);\n",
    "    - Стриминговое телевидение (`StreamingTV`) и каталог фильмов (`StreamingMovies`).\n",
    "    \n",
    "  Клиенты могут платить за услуги каждый месяц или заключить договор на 1–2 года. Возможно оплатить счёт разными способами, а также получить электронный чек.\n",
    "  \n",
    "  \n",
    "- ***Описание данных***\n",
    "\n",
    "    ***Данные состоят из нескольких файлов, полученных из разных источников:***\n",
    "    \n",
    "     - `contract_new.csv` — информация о договоре;\n",
    "     - `personal_new.csv` — персональные данные клиента;\n",
    "     - `internet_new.csv` — информация об интернет-услугах;\n",
    "     - `phone_new.csv` — информация об услугах телефонии.\n",
    "        \n",
    "   **Файл contract_new.csv**\n",
    "\n",
    "         - `customerID` — идентификатор абонента;\n",
    "         - `BeginDate` — дата начала действия договора;\n",
    "         - `EndDate` — дата окончания действия договора;\n",
    "         - `Type` — тип оплаты: раз в год-два или ежемесячно;\n",
    "         - `PaperlessBilling` — электронный расчётный лист;\n",
    "         - `PaymentMethod` — тип платежа;\n",
    "         - `MonthlyCharges` — расходы за месяц;\n",
    "         - `TotalCharges` — общие расходы абонента.\n",
    "   \n",
    "   **Файл personal_new.csv**\n",
    "\n",
    "        - `customerID` — идентификатор пользователя;\n",
    "        - `gender` — пол;\n",
    "        - `SeniorCitizen` — является ли абонент пенсионером;\n",
    "        - `Partner` — есть ли у абонента супруг или супруга;\n",
    "        - `Dependents` — есть ли у абонента дети.\n",
    "\n",
    "   **Файл internet_new.csv**\n",
    "\n",
    "        - `customerID` — идентификатор пользователя;\n",
    "        - `InternetService` — тип подключения;\n",
    "        - `OnlineSecurity` — блокировка опасных сайтов;\n",
    "        - `OnlineBackup` — облачное хранилище файлов для резервного копирования данных;\n",
    "        - `DeviceProtection` — антивирус;\n",
    "        - `TechSupport` — выделенная линия технической поддержки;\n",
    "        - `StreamingTV` — стриминговое телевидение;\n",
    "        - `StreamingMovies` — каталог фильмов.\n",
    "   \n",
    "   **Файл phone_new.csv**\n",
    "\n",
    "        - `customerID` — идентификатор пользователя;\n",
    "        - `MultipleLines` — подключение телефона к нескольким линиям одновременно.\n",
    "\n",
    "\n",
    "Во всех файлах столбец `customerID` содержит код клиента. Информация о договорах актуальна на 1 февраля 2020 года."
   ]
  },
  {
   "cell_type": "markdown",
   "id": "fdf1b0cd",
   "metadata": {},
   "source": [
    "# План работы\n",
    "\n",
    "**Шаг 1. Загрузка данных.**\n",
    "\n",
    "    Загрузить данные и выполнить их первичный осмотр.\n",
    "\n",
    "**Шаг 2. Исследовательский анализ и предобработка данных.**\n",
    "\n",
    "    Выполнить исследовательский анализ каждого датафрейма и при необходимости выполните предобработку. Сделать выводы об имеющихся признаках: понадобятся ли они для обучения моделей.\n",
    "\n",
    "**Шаг 3. Объединение данных.**\n",
    "\n",
    "    Объединить выбранные признаки в один датафрейм по ключу.\n",
    "\n",
    "**Шаг 4. Исследовательский анализ и предобработка данных объединённого датафрейма.**\n",
    "\n",
    "    Выполнить исследовательский анализ объединённого датафрейма, визуализировать распределения признаков и при необходимости выполните предобработку. Проведите корреляционный анализ. Можно использовать не только имеющиеся признаки, но и генерировать новые.\n",
    "\n",
    "**Шаг 5. Подготовка данных.**\n",
    "\n",
    "    Выполнить подготовку данных для обучения модели. Разделить данные на две выборки, при масштабировании и кодировании учитывать особенности данных и моделей.\n",
    "\n",
    "**Шаг 6. Обучение моделей машинного обучения.**\n",
    "\n",
    "    Обучить как минимум две модели. Хотя бы для одной из них подберать как минимум два гиперпараметра.\n",
    "\n",
    "**Шаг 7. Выбор лучшей модели.**\n",
    "\n",
    "    Выберать лучшую модель и проверить её качество на тестовой выборке.\n",
    "\n",
    "**Шаг 8. Общий вывод и рекомендации заказчику.**\n",
    "\n",
    "    Сделать общий вывод о проделанной работе: описать основные этапы работы, полученные результаты и дать рекомендации для бизнеса."
   ]
  },
  {
   "cell_type": "code",
   "execution_count": 1,
   "id": "716a2404",
   "metadata": {},
   "outputs": [
    {
     "name": "stdout",
     "output_type": "stream",
     "text": [
      "Collecting optuna\n",
      "  Downloading optuna-4.3.0-py3-none-any.whl (386 kB)\n",
      "\u001b[K     |████████████████████████████████| 386 kB 2.3 MB/s eta 0:00:01\n",
      "\u001b[?25hRequirement already satisfied: sqlalchemy>=1.4.2 in /opt/conda/lib/python3.9/site-packages (from optuna) (1.4.20)\n",
      "Requirement already satisfied: packaging>=20.0 in /opt/conda/lib/python3.9/site-packages (from optuna) (21.3)\n",
      "Requirement already satisfied: PyYAML in /opt/conda/lib/python3.9/site-packages (from optuna) (6.0)\n",
      "Requirement already satisfied: alembic>=1.5.0 in /opt/conda/lib/python3.9/site-packages (from optuna) (1.6.5)\n",
      "Collecting colorlog\n",
      "  Downloading colorlog-6.9.0-py3-none-any.whl (11 kB)\n",
      "Requirement already satisfied: numpy in /opt/conda/lib/python3.9/site-packages (from optuna) (1.21.1)\n",
      "Requirement already satisfied: tqdm in /opt/conda/lib/python3.9/site-packages (from optuna) (4.61.2)\n",
      "Requirement already satisfied: python-editor>=0.3 in /opt/conda/lib/python3.9/site-packages (from alembic>=1.5.0->optuna) (1.0.4)\n",
      "Requirement already satisfied: python-dateutil in /opt/conda/lib/python3.9/site-packages (from alembic>=1.5.0->optuna) (2.8.1)\n",
      "Requirement already satisfied: Mako in /opt/conda/lib/python3.9/site-packages (from alembic>=1.5.0->optuna) (1.1.4)\n",
      "Requirement already satisfied: pyparsing!=3.0.5,>=2.0.2 in /opt/conda/lib/python3.9/site-packages (from packaging>=20.0->optuna) (2.4.7)\n",
      "Requirement already satisfied: greenlet!=0.4.17 in /opt/conda/lib/python3.9/site-packages (from sqlalchemy>=1.4.2->optuna) (1.1.0)\n",
      "Requirement already satisfied: MarkupSafe>=0.9.2 in /opt/conda/lib/python3.9/site-packages (from Mako->alembic>=1.5.0->optuna) (2.1.1)\n",
      "Requirement already satisfied: six>=1.5 in /opt/conda/lib/python3.9/site-packages (from python-dateutil->alembic>=1.5.0->optuna) (1.16.0)\n",
      "Installing collected packages: colorlog, optuna\n",
      "Successfully installed colorlog-6.9.0 optuna-4.3.0\n"
     ]
    }
   ],
   "source": [
    "!pip install optuna"
   ]
  },
  {
   "cell_type": "code",
   "execution_count": 2,
   "id": "feba1c63",
   "metadata": {},
   "outputs": [
    {
     "name": "stdout",
     "output_type": "stream",
     "text": [
      "Requirement already satisfied: scikit-learn in /opt/conda/lib/python3.9/site-packages (0.24.1)\n",
      "Collecting scikit-learn\n",
      "  Downloading scikit_learn-1.6.1-cp39-cp39-manylinux_2_17_x86_64.manylinux2014_x86_64.whl (13.5 MB)\n",
      "\u001b[K     |████████████████████████████████| 13.5 MB 2.4 MB/s eta 0:00:01\n",
      "\u001b[?25hCollecting joblib>=1.2.0\n",
      "  Downloading joblib-1.4.2-py3-none-any.whl (301 kB)\n",
      "\u001b[K     |████████████████████████████████| 301 kB 62.8 MB/s eta 0:00:01\n",
      "\u001b[?25hRequirement already satisfied: threadpoolctl>=3.1.0 in /opt/conda/lib/python3.9/site-packages (from scikit-learn) (3.1.0)\n",
      "Requirement already satisfied: scipy>=1.6.0 in /opt/conda/lib/python3.9/site-packages (from scikit-learn) (1.9.1)\n",
      "Requirement already satisfied: numpy>=1.19.5 in /opt/conda/lib/python3.9/site-packages (from scikit-learn) (1.21.1)\n",
      "Installing collected packages: joblib, scikit-learn\n",
      "  Attempting uninstall: joblib\n",
      "    Found existing installation: joblib 1.1.0\n",
      "    Uninstalling joblib-1.1.0:\n",
      "      Successfully uninstalled joblib-1.1.0\n",
      "  Attempting uninstall: scikit-learn\n",
      "    Found existing installation: scikit-learn 0.24.1\n",
      "    Uninstalling scikit-learn-0.24.1:\n",
      "      Successfully uninstalled scikit-learn-0.24.1\n",
      "Successfully installed joblib-1.4.2 scikit-learn-1.6.1\n"
     ]
    }
   ],
   "source": [
    "!pip install -U scikit-learn"
   ]
  },
  {
   "cell_type": "markdown",
   "id": "24a47c55",
   "metadata": {},
   "source": [
    "## Шаг 1. Загрузка даных."
   ]
  },
  {
   "cell_type": "code",
   "execution_count": 3,
   "id": "e3bd7246",
   "metadata": {},
   "outputs": [],
   "source": [
    "import os\n",
    "import numpy as np\n",
    "import pandas as pd\n",
    "from typing import List, Tuple, Any, Dict\n",
    "import matplotlib.pyplot as plt\n",
    "\n",
    "from sklearn.model_selection import train_test_split, StratifiedKFold, RandomizedSearchCV\n",
    "from sklearn.pipeline import Pipeline\n",
    "from sklearn.impute import SimpleImputer\n",
    "from sklearn.preprocessing import StandardScaler, OneHotEncoder\n",
    "from sklearn.compose import ColumnTransformer\n",
    "from sklearn.linear_model import LogisticRegression\n",
    "from sklearn.ensemble import RandomForestClassifier, AdaBoostClassifier\n",
    "from sklearn.metrics import roc_auc_score,\\\n",
    "                            accuracy_score,\\\n",
    "                            confusion_matrix,\\\n",
    "                            RocCurveDisplay,\\\n",
    "                            ConfusionMatrixDisplay,\\\n",
    "                            classification_report\n",
    "from catboost import CatBoostClassifier\n",
    "import optuna\n",
    "import scipy.stats as stats\n",
    "import sklearn"
   ]
  },
  {
   "cell_type": "code",
   "execution_count": 4,
   "id": "fa6d55e0",
   "metadata": {},
   "outputs": [
    {
     "name": "stdout",
     "output_type": "stream",
     "text": [
      "1.6.1\n"
     ]
    }
   ],
   "source": [
    "print(sklearn.__version__)"
   ]
  },
  {
   "cell_type": "code",
   "execution_count": 5,
   "id": "5ab85874",
   "metadata": {},
   "outputs": [],
   "source": [
    "PATH1 = '/datasets/contract_new.csv'\n",
    "PATH2 = '/datasets/personal_new.csv'\n",
    "PATH3 = '/datasets/internet_new.csv'\n",
    "PATH4 = '/datasets/phone_new.csv'\n",
    "RANDOM_STATE = 210425"
   ]
  },
  {
   "cell_type": "code",
   "execution_count": 6,
   "id": "5e520cd9",
   "metadata": {},
   "outputs": [],
   "source": [
    "try:\n",
    "    df_contract = pd.read_csv(PATH1)\n",
    "    df_personal = pd.read_csv(PATH2)\n",
    "    df_internet = pd.read_csv(PATH3)\n",
    "    df_phone = pd.read_csv(PATH4)\n",
    "except:\n",
    "    df_contract = pd.read_csv('/contract_new.csv')\n",
    "    df_personal = pd.read_csv('/personal_new.csv')\n",
    "    df_internet = pd.read_csv('/internet_new.csv')\n",
    "    df_phone = pd.read_csv('/cphone_new.csv')"
   ]
  },
  {
   "cell_type": "code",
   "execution_count": 7,
   "id": "a6ff2905",
   "metadata": {},
   "outputs": [],
   "source": [
    "data_all: dict[str, pd.DataFrame] = {\n",
    "    'df_contract': df_contract,\n",
    "    'df_personal': df_personal,\n",
    "    'df_internet': df_internet,\n",
    "    'df_phone': df_phone\n",
    "}"
   ]
  },
  {
   "cell_type": "code",
   "execution_count": 8,
   "id": "bf60769c",
   "metadata": {},
   "outputs": [],
   "source": [
    "def analysis_df(named_dfs):\n",
    "    for name, df in named_dfs.items():\n",
    "        print(f\"{'-'*80}\\n\\nДатасет: {name}\")\n",
    "        \n",
    "        print('All info')\n",
    "        print('Первые 5 строк датасета')\n",
    "        print(df.head(), end=\"\\n\\n\")\n",
    "        print('Общая информация')\n",
    "        print(df.info(), end=\"\\n\\n\")\n",
    "        \n",
    "        print(80 * '-', end=\"\\n\\n\")\n",
    "        print()\n",
    "        print('Кол-во пропусков')\n",
    "        print(df.isna().sum(), end=\"\\n\\n\")\n",
    "        \n",
    "        print(80 * '-', end=\"\\n\\n\")\n",
    "        print()\n",
    "        print('Statistic info')\n",
    "        print(df.describe(), end=\"\\n\\n\")\n",
    "        \n",
    "        print(80 * '-', end=\"\\n\\n\")\n",
    "        print()\n",
    "        print('Кол-во дубликатов')\n",
    "        print(df.duplicated().sum())"
   ]
  },
  {
   "cell_type": "code",
   "execution_count": 9,
   "id": "51c1f937",
   "metadata": {
    "scrolled": true
   },
   "outputs": [
    {
     "name": "stdout",
     "output_type": "stream",
     "text": [
      "--------------------------------------------------------------------------------\n",
      "\n",
      "Датасет: df_contract\n",
      "All info\n",
      "Первые 5 строк датасета\n",
      "   customerID   BeginDate EndDate            Type PaperlessBilling  \\\n",
      "0  7590-VHVEG  2020-01-01      No  Month-to-month              Yes   \n",
      "1  5575-GNVDE  2017-04-01      No        One year               No   \n",
      "2  3668-QPYBK  2019-10-01      No  Month-to-month              Yes   \n",
      "3  7795-CFOCW  2016-05-01      No        One year               No   \n",
      "4  9237-HQITU  2019-09-01      No  Month-to-month              Yes   \n",
      "\n",
      "               PaymentMethod  MonthlyCharges TotalCharges  \n",
      "0           Electronic check           29.85        31.04  \n",
      "1               Mailed check           56.95      2071.84  \n",
      "2               Mailed check           53.85       226.17  \n",
      "3  Bank transfer (automatic)           42.30       1960.6  \n",
      "4           Electronic check           70.70        353.5  \n",
      "\n",
      "Общая информация\n",
      "<class 'pandas.core.frame.DataFrame'>\n",
      "RangeIndex: 7043 entries, 0 to 7042\n",
      "Data columns (total 8 columns):\n",
      " #   Column            Non-Null Count  Dtype  \n",
      "---  ------            --------------  -----  \n",
      " 0   customerID        7043 non-null   object \n",
      " 1   BeginDate         7043 non-null   object \n",
      " 2   EndDate           7043 non-null   object \n",
      " 3   Type              7043 non-null   object \n",
      " 4   PaperlessBilling  7043 non-null   object \n",
      " 5   PaymentMethod     7043 non-null   object \n",
      " 6   MonthlyCharges    7043 non-null   float64\n",
      " 7   TotalCharges      7043 non-null   object \n",
      "dtypes: float64(1), object(7)\n",
      "memory usage: 440.3+ KB\n",
      "None\n",
      "\n",
      "--------------------------------------------------------------------------------\n",
      "\n",
      "\n",
      "Кол-во пропусков\n",
      "customerID          0\n",
      "BeginDate           0\n",
      "EndDate             0\n",
      "Type                0\n",
      "PaperlessBilling    0\n",
      "PaymentMethod       0\n",
      "MonthlyCharges      0\n",
      "TotalCharges        0\n",
      "dtype: int64\n",
      "\n",
      "--------------------------------------------------------------------------------\n",
      "\n",
      "\n",
      "Statistic info\n",
      "       MonthlyCharges\n",
      "count     7043.000000\n",
      "mean        64.761692\n",
      "std         30.090047\n",
      "min         18.250000\n",
      "25%         35.500000\n",
      "50%         70.350000\n",
      "75%         89.850000\n",
      "max        118.750000\n",
      "\n",
      "--------------------------------------------------------------------------------\n",
      "\n",
      "\n",
      "Кол-во дубликатов\n",
      "0\n",
      "--------------------------------------------------------------------------------\n",
      "\n",
      "Датасет: df_personal\n",
      "All info\n",
      "Первые 5 строк датасета\n",
      "   customerID  gender  SeniorCitizen Partner Dependents\n",
      "0  7590-VHVEG  Female              0     Yes         No\n",
      "1  5575-GNVDE    Male              0      No         No\n",
      "2  3668-QPYBK    Male              0      No         No\n",
      "3  7795-CFOCW    Male              0      No         No\n",
      "4  9237-HQITU  Female              0      No         No\n",
      "\n",
      "Общая информация\n",
      "<class 'pandas.core.frame.DataFrame'>\n",
      "RangeIndex: 7043 entries, 0 to 7042\n",
      "Data columns (total 5 columns):\n",
      " #   Column         Non-Null Count  Dtype \n",
      "---  ------         --------------  ----- \n",
      " 0   customerID     7043 non-null   object\n",
      " 1   gender         7043 non-null   object\n",
      " 2   SeniorCitizen  7043 non-null   int64 \n",
      " 3   Partner        7043 non-null   object\n",
      " 4   Dependents     7043 non-null   object\n",
      "dtypes: int64(1), object(4)\n",
      "memory usage: 275.2+ KB\n",
      "None\n",
      "\n",
      "--------------------------------------------------------------------------------\n",
      "\n",
      "\n",
      "Кол-во пропусков\n",
      "customerID       0\n",
      "gender           0\n",
      "SeniorCitizen    0\n",
      "Partner          0\n",
      "Dependents       0\n",
      "dtype: int64\n",
      "\n",
      "--------------------------------------------------------------------------------\n",
      "\n",
      "\n",
      "Statistic info\n",
      "       SeniorCitizen\n",
      "count    7043.000000\n",
      "mean        0.162147\n",
      "std         0.368612\n",
      "min         0.000000\n",
      "25%         0.000000\n",
      "50%         0.000000\n",
      "75%         0.000000\n",
      "max         1.000000\n",
      "\n",
      "--------------------------------------------------------------------------------\n",
      "\n",
      "\n",
      "Кол-во дубликатов\n",
      "0\n",
      "--------------------------------------------------------------------------------\n",
      "\n",
      "Датасет: df_internet\n",
      "All info\n",
      "Первые 5 строк датасета\n",
      "   customerID InternetService OnlineSecurity OnlineBackup DeviceProtection  \\\n",
      "0  7590-VHVEG             DSL             No          Yes               No   \n",
      "1  5575-GNVDE             DSL            Yes           No              Yes   \n",
      "2  3668-QPYBK             DSL            Yes          Yes               No   \n",
      "3  7795-CFOCW             DSL            Yes           No              Yes   \n",
      "4  9237-HQITU     Fiber optic             No           No               No   \n",
      "\n",
      "  TechSupport StreamingTV StreamingMovies  \n",
      "0          No          No              No  \n",
      "1          No          No              No  \n",
      "2          No          No              No  \n",
      "3         Yes          No              No  \n",
      "4          No          No              No  \n",
      "\n",
      "Общая информация\n",
      "<class 'pandas.core.frame.DataFrame'>\n",
      "RangeIndex: 5517 entries, 0 to 5516\n",
      "Data columns (total 8 columns):\n",
      " #   Column            Non-Null Count  Dtype \n",
      "---  ------            --------------  ----- \n",
      " 0   customerID        5517 non-null   object\n",
      " 1   InternetService   5517 non-null   object\n",
      " 2   OnlineSecurity    5517 non-null   object\n",
      " 3   OnlineBackup      5517 non-null   object\n",
      " 4   DeviceProtection  5517 non-null   object\n",
      " 5   TechSupport       5517 non-null   object\n",
      " 6   StreamingTV       5517 non-null   object\n",
      " 7   StreamingMovies   5517 non-null   object\n",
      "dtypes: object(8)\n",
      "memory usage: 344.9+ KB\n",
      "None\n",
      "\n",
      "--------------------------------------------------------------------------------\n",
      "\n",
      "\n",
      "Кол-во пропусков\n",
      "customerID          0\n",
      "InternetService     0\n",
      "OnlineSecurity      0\n",
      "OnlineBackup        0\n",
      "DeviceProtection    0\n",
      "TechSupport         0\n",
      "StreamingTV         0\n",
      "StreamingMovies     0\n",
      "dtype: int64\n",
      "\n",
      "--------------------------------------------------------------------------------\n",
      "\n",
      "\n",
      "Statistic info\n",
      "        customerID InternetService OnlineSecurity OnlineBackup  \\\n",
      "count         5517            5517           5517         5517   \n",
      "unique        5517               2              2            2   \n",
      "top     0201-MIBOL     Fiber optic             No           No   \n",
      "freq             1            3096           3498         3088   \n",
      "\n",
      "       DeviceProtection TechSupport StreamingTV StreamingMovies  \n",
      "count              5517        5517        5517            5517  \n",
      "unique                2           2           2               2  \n",
      "top                  No          No          No              No  \n",
      "freq               3095        3473        2810            2785  \n",
      "\n",
      "--------------------------------------------------------------------------------\n",
      "\n",
      "\n",
      "Кол-во дубликатов\n",
      "0\n",
      "--------------------------------------------------------------------------------\n",
      "\n",
      "Датасет: df_phone\n",
      "All info\n",
      "Первые 5 строк датасета\n",
      "   customerID MultipleLines\n",
      "0  5575-GNVDE            No\n",
      "1  3668-QPYBK            No\n",
      "2  9237-HQITU            No\n",
      "3  9305-CDSKC           Yes\n",
      "4  1452-KIOVK           Yes\n",
      "\n",
      "Общая информация\n",
      "<class 'pandas.core.frame.DataFrame'>\n",
      "RangeIndex: 6361 entries, 0 to 6360\n",
      "Data columns (total 2 columns):\n",
      " #   Column         Non-Null Count  Dtype \n",
      "---  ------         --------------  ----- \n",
      " 0   customerID     6361 non-null   object\n",
      " 1   MultipleLines  6361 non-null   object\n",
      "dtypes: object(2)\n",
      "memory usage: 99.5+ KB\n",
      "None\n",
      "\n",
      "--------------------------------------------------------------------------------\n",
      "\n",
      "\n",
      "Кол-во пропусков\n",
      "customerID       0\n",
      "MultipleLines    0\n",
      "dtype: int64\n",
      "\n",
      "--------------------------------------------------------------------------------\n",
      "\n",
      "\n",
      "Statistic info\n",
      "        customerID MultipleLines\n",
      "count         6361          6361\n",
      "unique        6361             2\n",
      "top     0201-MIBOL            No\n",
      "freq             1          3390\n",
      "\n",
      "--------------------------------------------------------------------------------\n",
      "\n",
      "\n",
      "Кол-во дубликатов\n",
      "0\n"
     ]
    }
   ],
   "source": [
    "analysis_df(data_all)"
   ]
  },
  {
   "cell_type": "markdown",
   "id": "f365fe1e",
   "metadata": {},
   "source": [
    "### Анализ информации из датасета\n",
    "\n",
    "**1. Датасет df_contract:**\n",
    "\n",
    "    - Датасет имеет 8 столбцов.\n",
    "    - Не содержит пропусков и неявных дубликатов.\n",
    "    - Необходимо привести столбец BeginDate и EndDate к формату datetime&\n",
    "    - TotalCharges необходимо привести к типу float64.\n",
    "    - Метод describe показал нормальное распределение в данных.\n",
    "\n",
    "**2. Датасет df_personal:**\n",
    "\n",
    "    - Датасет содержит 5 столбцов.\n",
    "    - Один столбец формата int - является ли пользователь пенсионером.\n",
    "    - Явные дубликаты и прпоуски отсутствуют.\n",
    "    - Метод describe показывает нормальное распределение в данных.\n",
    "\n",
    "**3. Датасет df_internet:**\n",
    "\n",
    "    - Датасет содержит 8 столбцов.\n",
    "    - Отсутствуют неявные дубликаты и пропуски в данных.\n",
    "    \n",
    "**4. Датасет df_phone:**\n",
    "\n",
    "    - Датасет содержит 2 колонки.\n",
    "    - Отсутствуют пропуски и неявные дубликаты."
   ]
  },
  {
   "cell_type": "markdown",
   "id": "7c687b88",
   "metadata": {},
   "source": [
    "## Шаг 2. Исследовательский анализ и предобработка данных"
   ]
  },
  {
   "cell_type": "markdown",
   "id": "2317beb1",
   "metadata": {},
   "source": [
    "### Подготовка df_contract"
   ]
  },
  {
   "cell_type": "code",
   "execution_count": 10,
   "id": "dc9e8a76",
   "metadata": {},
   "outputs": [],
   "source": [
    "df_contract['BeginDate'] = pd.to_datetime(df_contract['BeginDate'], errors='coerce')\n",
    "df_contract['EndDate'] = pd.to_datetime(df_contract['EndDate'], errors='coerce')"
   ]
  },
  {
   "cell_type": "code",
   "execution_count": 11,
   "id": "9b668714",
   "metadata": {},
   "outputs": [],
   "source": [
    "snapshot = pd.to_datetime('2020-02-01')\n",
    "df_contract['TenureDays'] = (\n",
    "    df_contract['EndDate'].fillna(snapshot) - df_contract['BeginDate']\n",
    ").dt.days"
   ]
  },
  {
   "cell_type": "code",
   "execution_count": 12,
   "id": "00e003b2",
   "metadata": {},
   "outputs": [
    {
     "name": "stdout",
     "output_type": "stream",
     "text": [
      "0\n"
     ]
    }
   ],
   "source": [
    "print(df_contract['PaperlessBilling'].isna().sum())"
   ]
  },
  {
   "cell_type": "code",
   "execution_count": 13,
   "id": "ce857487",
   "metadata": {},
   "outputs": [],
   "source": [
    "df_contract['PaperlessBilling'] = (\n",
    "    df_contract['PaperlessBilling'].map({'No': 0, 'Yes': 1}).astype(int))\n",
    "\n",
    "# Категории с Unknown\n",
    "for col in ['Type', 'PaymentMethod']:\n",
    "    df_contract[col] = (df_contract[col].astype('category')\n",
    "                                        .cat.add_categories('Unknown')\n",
    "                                        .fillna('Unknown'))"
   ]
  },
  {
   "cell_type": "markdown",
   "id": "17583a1e",
   "metadata": {},
   "source": [
    "### Подготовка df_personal"
   ]
  },
  {
   "cell_type": "code",
   "execution_count": 15,
   "id": "d696b4d2",
   "metadata": {},
   "outputs": [],
   "source": [
    "df_personal['gender'] = df_personal['gender'].map({'Female': 0, 'Male': 1})\n",
    "df_personal['Partner'] = df_personal['Partner'].map({'No': 0, 'Yes': 1})\n",
    "df_personal['Dependents'] = df_personal['Dependents'].map({'No': 0, 'Yes': 1})"
   ]
  },
  {
   "cell_type": "markdown",
   "id": "096c8145",
   "metadata": {},
   "source": [
    "### Подготовка df_phone"
   ]
  },
  {
   "cell_type": "code",
   "execution_count": 16,
   "id": "4edb596e",
   "metadata": {},
   "outputs": [],
   "source": [
    "def make_three_level(df, col):\n",
    "    df[col] = (df[col].map({'Yes':'Yes', 'No':'No'})\n",
    "                      .astype('category')\n",
    "                      .cat.add_categories('NotUsed')\n",
    "                      .fillna('NotUsed'))"
   ]
  },
  {
   "cell_type": "code",
   "execution_count": 17,
   "id": "9b74ac92",
   "metadata": {},
   "outputs": [],
   "source": [
    "for col in ['OnlineSecurity','OnlineBackup','DeviceProtection',\n",
    "            'TechSupport','StreamingTV','StreamingMovies']:\n",
    "    make_three_level(df_internet, col)\n",
    "\n",
    "make_three_level(df_phone, 'MultipleLines')"
   ]
  },
  {
   "cell_type": "markdown",
   "id": "44d10d89",
   "metadata": {},
   "source": [
    "### Подготовка df_internet"
   ]
  },
  {
   "cell_type": "code",
   "execution_count": 18,
   "id": "2450f8e3",
   "metadata": {},
   "outputs": [],
   "source": [
    "df_internet['InternetService'] = (df_internet['InternetService'].astype('category')\n",
    "                                                                .cat.add_categories('NotUsed')\n",
    "                                                                .fillna('NotUsed'))"
   ]
  },
  {
   "cell_type": "markdown",
   "id": "193200c4",
   "metadata": {},
   "source": [
    "## Шаг 3. Объединение данных"
   ]
  },
  {
   "cell_type": "code",
   "execution_count": 19,
   "id": "1dde271b",
   "metadata": {},
   "outputs": [],
   "source": [
    "df = df_contract.merge(df_personal, on='customerID', how='left') \\\n",
    "                .merge(df_internet, on='customerID', how='left') \\\n",
    "                .merge(df_phone, on='customerID', how='left')"
   ]
  },
  {
   "cell_type": "code",
   "execution_count": 20,
   "id": "fffa1e10",
   "metadata": {},
   "outputs": [],
   "source": [
    "service_cols = ['OnlineSecurity','OnlineBackup','DeviceProtection',\n",
    "                'TechSupport','StreamingTV','StreamingMovies','MultipleLines']\n",
    "df['ServiceCount'] = df[service_cols].apply(lambda row: (row=='Yes').sum(), axis=1)"
   ]
  },
  {
   "cell_type": "code",
   "execution_count": 21,
   "id": "d08e26b5",
   "metadata": {},
   "outputs": [
    {
     "name": "stdout",
     "output_type": "stream",
     "text": [
      "Найдено неявных пропусков TotalCharges: 11\n"
     ]
    }
   ],
   "source": [
    "mask_missing = df_contract['TotalCharges'].astype(str).str.strip() == ''\n",
    "implicit_missing = df_contract[mask_missing]\n",
    "\n",
    "print(f\"Найдено неявных пропусков TotalCharges: {len(implicit_missing)}\")"
   ]
  },
  {
   "cell_type": "code",
   "execution_count": 22,
   "id": "f38cd97d",
   "metadata": {},
   "outputs": [
    {
     "name": "stdout",
     "output_type": "stream",
     "text": [
      "      customerID  BeginDate EndDate  MonthlyCharges TotalCharges\n",
      "488   4472-LVYGI 2020-02-01     NaT           52.55             \n",
      "753   3115-CZMZD 2020-02-01     NaT           20.25             \n",
      "936   5709-LVOEQ 2020-02-01     NaT           80.85             \n",
      "1082  4367-NUYAO 2020-02-01     NaT           25.75             \n",
      "1340  1371-DWPAZ 2020-02-01     NaT           56.05             \n",
      "3331  7644-OMVMY 2020-02-01     NaT           19.85             \n",
      "3826  3213-VVOLG 2020-02-01     NaT           25.35             \n",
      "4380  2520-SGTTA 2020-02-01     NaT           20.00             \n",
      "5218  2923-ARZLG 2020-02-01     NaT           19.70             \n",
      "6670  4075-WKNIU 2020-02-01     NaT           73.35             \n",
      "6754  2775-SEFEE 2020-02-01     NaT           61.90             \n"
     ]
    }
   ],
   "source": [
    "print(implicit_missing[['customerID', 'BeginDate', 'EndDate', 'MonthlyCharges', 'TotalCharges']])"
   ]
  },
  {
   "cell_type": "markdown",
   "id": "aabcecd6",
   "metadata": {},
   "source": [
    "Все 11 записей с `пустыми` **TotalCharges** оказались абонентами, которые присоединились ровно в день `среза` — `1 февраля 2020` (*BeginDate = 2020-02-01*), у которых ещё не было ни одного полного месячного расчёта. Отсюда и пустая строка вместо числа:\n",
    "\n",
    "- TenureDays = 0 для всех 11 клиентов\n",
    "\n",
    "- EndDate = NaT (они активны)\n",
    "\n",
    "- Ещё не было времени накопить любые расходы, поэтому счёт попросту не сформирован.\n",
    "\n",
    "***Вывод:*** эти пропуски не являются `ошибками ввода`, а естественным результатом того, что контракт начался в день последней даты учёта. Заполняем `TotalCharges = 0` для этих 11 абонентов, так как они пока `ничего не потратили`."
   ]
  },
  {
   "cell_type": "code",
   "execution_count": 23,
   "id": "047590cc",
   "metadata": {},
   "outputs": [],
   "source": [
    "df['MonthlyCharges'] = pd.to_numeric(df['MonthlyCharges'], errors='coerce')\n",
    "df['TotalCharges']   = pd.to_numeric(df['TotalCharges'],   errors='coerce')"
   ]
  },
  {
   "cell_type": "code",
   "execution_count": 24,
   "id": "ed49bdeb",
   "metadata": {},
   "outputs": [],
   "source": [
    "df['TotalCharges'].fillna(0, inplace=True)"
   ]
  },
  {
   "cell_type": "code",
   "execution_count": 25,
   "id": "223c541f",
   "metadata": {},
   "outputs": [],
   "source": [
    "df['TenureMonths'] = (df['TenureDays'] / 30).round().astype(int).clip(lower=1)\n",
    "df['ChargeDelta']  = df['MonthlyCharges'] * df['TenureMonths'] - df['TotalCharges']"
   ]
  },
  {
   "cell_type": "code",
   "execution_count": 26,
   "id": "9818fd17",
   "metadata": {},
   "outputs": [
    {
     "name": "stdout",
     "output_type": "stream",
     "text": [
      "   TenureDays  TenureMonths  MonthlyCharges  TotalCharges  ChargeDelta\n",
      "0          31             1           29.85         31.04        -1.19\n",
      "1        1036            35           56.95       2071.84       -78.59\n",
      "2         123             4           53.85        226.17       -10.77\n",
      "3        1371            46           42.30       1960.60       -14.80\n",
      "4         153             5           70.70        353.50         0.00\n",
      "5         337            11           99.65       1150.96       -54.81\n",
      "6         671            22           89.10       2058.21       -98.01\n",
      "7         306            10           29.75        300.48        -2.98\n",
      "8         945            32          104.80       3573.68      -220.08\n",
      "9         882            29           56.15       1628.35         0.00\n",
      "MonthlyCharges    float64\n",
      "TotalCharges      float64\n",
      "ChargeDelta       float64\n",
      "dtype: object\n"
     ]
    }
   ],
   "source": [
    "print(df[['TenureDays','TenureMonths','MonthlyCharges','TotalCharges','ChargeDelta']].head(10))\n",
    "print(df[['MonthlyCharges','TotalCharges','ChargeDelta']].dtypes)"
   ]
  },
  {
   "cell_type": "code",
   "execution_count": 27,
   "id": "3646c3b3",
   "metadata": {},
   "outputs": [
    {
     "name": "stdout",
     "output_type": "stream",
     "text": [
      "<class 'pandas.core.frame.DataFrame'>\n",
      "Int64Index: 7043 entries, 0 to 7042\n",
      "Data columns (total 24 columns):\n",
      " #   Column            Non-Null Count  Dtype         \n",
      "---  ------            --------------  -----         \n",
      " 0   customerID        7043 non-null   object        \n",
      " 1   BeginDate         7043 non-null   datetime64[ns]\n",
      " 2   EndDate           1101 non-null   datetime64[ns]\n",
      " 3   Type              7043 non-null   category      \n",
      " 4   PaperlessBilling  7043 non-null   int64         \n",
      " 5   PaymentMethod     7043 non-null   category      \n",
      " 6   MonthlyCharges    7043 non-null   float64       \n",
      " 7   TotalCharges      7043 non-null   float64       \n",
      " 8   TenureDays        7043 non-null   int64         \n",
      " 9   gender            7043 non-null   int64         \n",
      " 10  SeniorCitizen     7043 non-null   int64         \n",
      " 11  Partner           7043 non-null   int64         \n",
      " 12  Dependents        7043 non-null   int64         \n",
      " 13  InternetService   5517 non-null   category      \n",
      " 14  OnlineSecurity    5517 non-null   category      \n",
      " 15  OnlineBackup      5517 non-null   category      \n",
      " 16  DeviceProtection  5517 non-null   category      \n",
      " 17  TechSupport       5517 non-null   category      \n",
      " 18  StreamingTV       5517 non-null   category      \n",
      " 19  StreamingMovies   5517 non-null   category      \n",
      " 20  MultipleLines     6361 non-null   category      \n",
      " 21  ServiceCount      7043 non-null   int64         \n",
      " 22  TenureMonths      7043 non-null   int64         \n",
      " 23  ChargeDelta       7043 non-null   float64       \n",
      "dtypes: category(10), datetime64[ns](2), float64(3), int64(8), object(1)\n",
      "memory usage: 895.6+ KB\n"
     ]
    },
    {
     "data": {
      "text/html": [
       "<div>\n",
       "<style scoped>\n",
       "    .dataframe tbody tr th:only-of-type {\n",
       "        vertical-align: middle;\n",
       "    }\n",
       "\n",
       "    .dataframe tbody tr th {\n",
       "        vertical-align: top;\n",
       "    }\n",
       "\n",
       "    .dataframe thead th {\n",
       "        text-align: right;\n",
       "    }\n",
       "</style>\n",
       "<table border=\"1\" class=\"dataframe\">\n",
       "  <thead>\n",
       "    <tr style=\"text-align: right;\">\n",
       "      <th></th>\n",
       "      <th>customerID</th>\n",
       "      <th>BeginDate</th>\n",
       "      <th>EndDate</th>\n",
       "      <th>Type</th>\n",
       "      <th>PaperlessBilling</th>\n",
       "      <th>PaymentMethod</th>\n",
       "      <th>MonthlyCharges</th>\n",
       "      <th>TotalCharges</th>\n",
       "      <th>TenureDays</th>\n",
       "      <th>gender</th>\n",
       "      <th>...</th>\n",
       "      <th>OnlineSecurity</th>\n",
       "      <th>OnlineBackup</th>\n",
       "      <th>DeviceProtection</th>\n",
       "      <th>TechSupport</th>\n",
       "      <th>StreamingTV</th>\n",
       "      <th>StreamingMovies</th>\n",
       "      <th>MultipleLines</th>\n",
       "      <th>ServiceCount</th>\n",
       "      <th>TenureMonths</th>\n",
       "      <th>ChargeDelta</th>\n",
       "    </tr>\n",
       "  </thead>\n",
       "  <tbody>\n",
       "    <tr>\n",
       "      <th>0</th>\n",
       "      <td>7590-VHVEG</td>\n",
       "      <td>2020-01-01</td>\n",
       "      <td>NaT</td>\n",
       "      <td>Month-to-month</td>\n",
       "      <td>1</td>\n",
       "      <td>Electronic check</td>\n",
       "      <td>29.85</td>\n",
       "      <td>31.04</td>\n",
       "      <td>31</td>\n",
       "      <td>0</td>\n",
       "      <td>...</td>\n",
       "      <td>No</td>\n",
       "      <td>Yes</td>\n",
       "      <td>No</td>\n",
       "      <td>No</td>\n",
       "      <td>No</td>\n",
       "      <td>No</td>\n",
       "      <td>NaN</td>\n",
       "      <td>1</td>\n",
       "      <td>1</td>\n",
       "      <td>-1.19</td>\n",
       "    </tr>\n",
       "    <tr>\n",
       "      <th>1</th>\n",
       "      <td>5575-GNVDE</td>\n",
       "      <td>2017-04-01</td>\n",
       "      <td>NaT</td>\n",
       "      <td>One year</td>\n",
       "      <td>0</td>\n",
       "      <td>Mailed check</td>\n",
       "      <td>56.95</td>\n",
       "      <td>2071.84</td>\n",
       "      <td>1036</td>\n",
       "      <td>1</td>\n",
       "      <td>...</td>\n",
       "      <td>Yes</td>\n",
       "      <td>No</td>\n",
       "      <td>Yes</td>\n",
       "      <td>No</td>\n",
       "      <td>No</td>\n",
       "      <td>No</td>\n",
       "      <td>No</td>\n",
       "      <td>2</td>\n",
       "      <td>35</td>\n",
       "      <td>-78.59</td>\n",
       "    </tr>\n",
       "    <tr>\n",
       "      <th>2</th>\n",
       "      <td>3668-QPYBK</td>\n",
       "      <td>2019-10-01</td>\n",
       "      <td>NaT</td>\n",
       "      <td>Month-to-month</td>\n",
       "      <td>1</td>\n",
       "      <td>Mailed check</td>\n",
       "      <td>53.85</td>\n",
       "      <td>226.17</td>\n",
       "      <td>123</td>\n",
       "      <td>1</td>\n",
       "      <td>...</td>\n",
       "      <td>Yes</td>\n",
       "      <td>Yes</td>\n",
       "      <td>No</td>\n",
       "      <td>No</td>\n",
       "      <td>No</td>\n",
       "      <td>No</td>\n",
       "      <td>No</td>\n",
       "      <td>2</td>\n",
       "      <td>4</td>\n",
       "      <td>-10.77</td>\n",
       "    </tr>\n",
       "    <tr>\n",
       "      <th>3</th>\n",
       "      <td>7795-CFOCW</td>\n",
       "      <td>2016-05-01</td>\n",
       "      <td>NaT</td>\n",
       "      <td>One year</td>\n",
       "      <td>0</td>\n",
       "      <td>Bank transfer (automatic)</td>\n",
       "      <td>42.30</td>\n",
       "      <td>1960.60</td>\n",
       "      <td>1371</td>\n",
       "      <td>1</td>\n",
       "      <td>...</td>\n",
       "      <td>Yes</td>\n",
       "      <td>No</td>\n",
       "      <td>Yes</td>\n",
       "      <td>Yes</td>\n",
       "      <td>No</td>\n",
       "      <td>No</td>\n",
       "      <td>NaN</td>\n",
       "      <td>3</td>\n",
       "      <td>46</td>\n",
       "      <td>-14.80</td>\n",
       "    </tr>\n",
       "    <tr>\n",
       "      <th>4</th>\n",
       "      <td>9237-HQITU</td>\n",
       "      <td>2019-09-01</td>\n",
       "      <td>NaT</td>\n",
       "      <td>Month-to-month</td>\n",
       "      <td>1</td>\n",
       "      <td>Electronic check</td>\n",
       "      <td>70.70</td>\n",
       "      <td>353.50</td>\n",
       "      <td>153</td>\n",
       "      <td>0</td>\n",
       "      <td>...</td>\n",
       "      <td>No</td>\n",
       "      <td>No</td>\n",
       "      <td>No</td>\n",
       "      <td>No</td>\n",
       "      <td>No</td>\n",
       "      <td>No</td>\n",
       "      <td>No</td>\n",
       "      <td>0</td>\n",
       "      <td>5</td>\n",
       "      <td>0.00</td>\n",
       "    </tr>\n",
       "  </tbody>\n",
       "</table>\n",
       "<p>5 rows × 24 columns</p>\n",
       "</div>"
      ],
      "text/plain": [
       "   customerID  BeginDate EndDate            Type  PaperlessBilling  \\\n",
       "0  7590-VHVEG 2020-01-01     NaT  Month-to-month                 1   \n",
       "1  5575-GNVDE 2017-04-01     NaT        One year                 0   \n",
       "2  3668-QPYBK 2019-10-01     NaT  Month-to-month                 1   \n",
       "3  7795-CFOCW 2016-05-01     NaT        One year                 0   \n",
       "4  9237-HQITU 2019-09-01     NaT  Month-to-month                 1   \n",
       "\n",
       "               PaymentMethod  MonthlyCharges  TotalCharges  TenureDays  \\\n",
       "0           Electronic check           29.85         31.04          31   \n",
       "1               Mailed check           56.95       2071.84        1036   \n",
       "2               Mailed check           53.85        226.17         123   \n",
       "3  Bank transfer (automatic)           42.30       1960.60        1371   \n",
       "4           Electronic check           70.70        353.50         153   \n",
       "\n",
       "   gender  ...  OnlineSecurity  OnlineBackup  DeviceProtection TechSupport  \\\n",
       "0       0  ...              No           Yes                No          No   \n",
       "1       1  ...             Yes            No               Yes          No   \n",
       "2       1  ...             Yes           Yes                No          No   \n",
       "3       1  ...             Yes            No               Yes         Yes   \n",
       "4       0  ...              No            No                No          No   \n",
       "\n",
       "  StreamingTV StreamingMovies MultipleLines ServiceCount TenureMonths  \\\n",
       "0          No              No           NaN            1            1   \n",
       "1          No              No            No            2           35   \n",
       "2          No              No            No            2            4   \n",
       "3          No              No           NaN            3           46   \n",
       "4          No              No            No            0            5   \n",
       "\n",
       "  ChargeDelta  \n",
       "0       -1.19  \n",
       "1      -78.59  \n",
       "2      -10.77  \n",
       "3      -14.80  \n",
       "4        0.00  \n",
       "\n",
       "[5 rows x 24 columns]"
      ]
     },
     "execution_count": 27,
     "metadata": {},
     "output_type": "execute_result"
    }
   ],
   "source": [
    "df.info()\n",
    "df.head()"
   ]
  },
  {
   "cell_type": "code",
   "execution_count": 29,
   "id": "e46c6cc9",
   "metadata": {},
   "outputs": [],
   "source": [
    "service_cols = [\n",
    "    'InternetService', 'OnlineSecurity', 'OnlineBackup', 'DeviceProtection',\n",
    "    'TechSupport', 'StreamingTV', 'StreamingMovies', 'MultipleLines'\n",
    "]\n",
    "\n",
    "for col in service_cols:\n",
    "    if 'NotUsed' not in df[col].cat.categories:\n",
    "        df[col] = df[col].cat.add_categories('NotUsed')\n",
    "    df[col] = df[col].fillna('NotUsed')"
   ]
  },
  {
   "cell_type": "code",
   "execution_count": 30,
   "id": "cd4cc165",
   "metadata": {},
   "outputs": [
    {
     "name": "stdout",
     "output_type": "stream",
     "text": [
      "Столбец: InternetService\n",
      "Категории: Index(['DSL', 'Fiber optic', 'NotUsed'], dtype='object')\n",
      "Пропуски: 0\n",
      "--------------------------------------------------\n",
      "Столбец: OnlineSecurity\n",
      "Категории: Index(['No', 'Yes', 'NotUsed'], dtype='object')\n",
      "Пропуски: 0\n",
      "--------------------------------------------------\n",
      "Столбец: OnlineBackup\n",
      "Категории: Index(['No', 'Yes', 'NotUsed'], dtype='object')\n",
      "Пропуски: 0\n",
      "--------------------------------------------------\n",
      "Столбец: DeviceProtection\n",
      "Категории: Index(['No', 'Yes', 'NotUsed'], dtype='object')\n",
      "Пропуски: 0\n",
      "--------------------------------------------------\n",
      "Столбец: TechSupport\n",
      "Категории: Index(['No', 'Yes', 'NotUsed'], dtype='object')\n",
      "Пропуски: 0\n",
      "--------------------------------------------------\n",
      "Столбец: StreamingTV\n",
      "Категории: Index(['No', 'Yes', 'NotUsed'], dtype='object')\n",
      "Пропуски: 0\n",
      "--------------------------------------------------\n",
      "Столбец: StreamingMovies\n",
      "Категории: Index(['No', 'Yes', 'NotUsed'], dtype='object')\n",
      "Пропуски: 0\n",
      "--------------------------------------------------\n",
      "Столбец: MultipleLines\n",
      "Категории: Index(['No', 'Yes', 'NotUsed'], dtype='object')\n",
      "Пропуски: 0\n",
      "--------------------------------------------------\n"
     ]
    }
   ],
   "source": [
    "for col in service_cols:\n",
    "    print(f\"Столбец: {col}\")\n",
    "    print(f\"Категории: {df[col].cat.categories}\")\n",
    "    print(f\"Пропуски: {df[col].isna().sum()}\")\n",
    "    print(\"-\" * 50)"
   ]
  },
  {
   "cell_type": "code",
   "execution_count": 34,
   "id": "64f4957e",
   "metadata": {},
   "outputs": [],
   "source": [
    "df['Churn'] = df['EndDate'].notna().astype(int)"
   ]
  },
  {
   "cell_type": "code",
   "execution_count": 35,
   "id": "b360cbf3",
   "metadata": {},
   "outputs": [
    {
     "name": "stdout",
     "output_type": "stream",
     "text": [
      "Клиенты с уходом (EndDate заполнен): 1101\n",
      "Churn = 1: 1101\n",
      "Ошибок для Churn=1: 0\n",
      "Ошибок для Churn=0: 0\n"
     ]
    }
   ],
   "source": [
    "print(\"Клиенты с уходом (EndDate заполнен):\", df['EndDate'].notna().sum())\n",
    "print(\"Churn = 1:\", df['Churn'].sum())\n",
    "\n",
    "mismatch = df[(df['EndDate'].notna()) & (df['Churn'] != 1)]\n",
    "print(f\"Ошибок для Churn=1: {len(mismatch)}\")\n",
    "\n",
    "mismatch = df[(df['EndDate'].isna()) & (df['Churn'] != 0)]\n",
    "print(f\"Ошибок для Churn=0: {len(mismatch)}\")"
   ]
  },
  {
   "cell_type": "markdown",
   "id": "39809ec0",
   "metadata": {},
   "source": [
    "## Шаг 4. Исследовательский анализ"
   ]
  },
  {
   "cell_type": "code",
   "execution_count": 36,
   "id": "efd2cb14",
   "metadata": {},
   "outputs": [
    {
     "data": {
      "image/png": "[encoded data removed]",
      "text/plain": [
       "<Figure size 432x288 with 1 Axes>"
      ]
     },
     "metadata": {
      "needs_background": "light"
     },
     "output_type": "display_data"
    }
   ],
   "source": [
    "# Посмотрим распределение сроков аренды\n",
    "plt.figure()\n",
    "plt.hist(df['TenureMonths'], bins=30)\n",
    "plt.title('Распределение длительности контракта (месяцы)')\n",
    "plt.xlabel('TenureMonths')\n",
    "plt.ylabel('Частота')\n",
    "plt.show()"
   ]
  },
  {
   "cell_type": "markdown",
   "id": "560aac4b",
   "metadata": {},
   "source": [
    "**TenureMonths:** большинство клиентов находятся в диапазоне первых `0–10 месяцев`, затем плавно убывает число абонентов вплоть до максимума (`~75 мес.`), с локальным пиком на «длинных» контрактах (`около 72–75 мес.`)."
   ]
  },
  {
   "cell_type": "code",
   "execution_count": 37,
   "id": "34005479",
   "metadata": {},
   "outputs": [
    {
     "data": {
      "image/png": "[encoded data removed]",
      "text/plain": [
       "<Figure size 432x288 with 1 Axes>"
      ]
     },
     "metadata": {
      "needs_background": "light"
     },
     "output_type": "display_data"
    }
   ],
   "source": [
    "# Распределение ежемесячных платежей\n",
    "plt.figure()\n",
    "plt.hist(df['MonthlyCharges'], bins=30)\n",
    "plt.title('Распределение ежемесячных расходов')\n",
    "plt.xlabel('MonthlyCharges')\n",
    "plt.ylabel('Частота')\n",
    "plt.show()"
   ]
  },
  {
   "cell_type": "markdown",
   "id": "3bf6f238",
   "metadata": {},
   "source": [
    "**MonthlyCharges:** сильная концентрация в диапазоне `20–40 USD`, далее равномерное распределение до `~119 USD` и небольшой хвост."
   ]
  },
  {
   "cell_type": "code",
   "execution_count": 38,
   "id": "829355b1",
   "metadata": {},
   "outputs": [
    {
     "data": {
      "image/png": "[encoded data removed]",
      "text/plain": [
       "<Figure size 432x288 with 1 Axes>"
      ]
     },
     "metadata": {
      "needs_background": "light"
     },
     "output_type": "display_data"
    }
   ],
   "source": [
    "# Распределение общих расходов\n",
    "plt.figure()\n",
    "plt.hist(df['TotalCharges'].dropna(), bins=30)\n",
    "plt.title('Распределение общих расходов')\n",
    "plt.xlabel('TotalCharges')\n",
    "plt.ylabel('Частота')\n",
    "plt.show()"
   ]
  },
  {
   "cell_type": "markdown",
   "id": "eab24761",
   "metadata": {},
   "source": [
    "**TotalCharges:** скошенное вправо распределение: много клиентов с общими расходами до `2000 USD`, длинный хвост до `~9000 USD` (долгосрочные абоненты с высокими суммами)."
   ]
  },
  {
   "cell_type": "code",
   "execution_count": 39,
   "id": "1de387bb",
   "metadata": {},
   "outputs": [
    {
     "data": {
      "image/png": "[encoded data removed]",
      "text/plain": [
       "<Figure size 432x288 with 1 Axes>"
      ]
     },
     "metadata": {
      "needs_background": "light"
     },
     "output_type": "display_data"
    },
    {
     "data": {
      "image/png": "[encoded data removed]",
      "text/plain": [
       "<Figure size 432x288 with 1 Axes>"
      ]
     },
     "metadata": {
      "needs_background": "light"
     },
     "output_type": "display_data"
    },
    {
     "data": {
      "image/png": "[encoded data removed]",
      "text/plain": [
       "<Figure size 432x288 with 1 Axes>"
      ]
     },
     "metadata": {
      "needs_background": "light"
     },
     "output_type": "display_data"
    }
   ],
   "source": [
    "# Посмотрим выбросы\n",
    "for col in ['TenureMonths', 'MonthlyCharges', 'TotalCharges']:\n",
    "    plt.figure()\n",
    "    df.boxplot(column=col)\n",
    "    plt.title(f'Boxplot для {col}')\n",
    "    plt.show()"
   ]
  },
  {
   "cell_type": "markdown",
   "id": "ed5f2449",
   "metadata": {},
   "source": [
    "**Boxplot:**\n",
    "\n",
    "`TenureMonths`: верхние усы доходят до `~77`, выбросов почти нет, все клиенты в диапазоне `0–77 месяцев`.\n",
    "\n",
    "`MonthlyCharges`: значения лежат в пределах `~15–120`, без экстремальных выбросов.\n",
    "\n",
    "`TotalCharges`: заметные выбросы сверху и длинный положительный хвост — абоненты с очень большими общими расходами (`>7000`)."
   ]
  },
  {
   "cell_type": "code",
   "execution_count": 40,
   "id": "57072e33",
   "metadata": {},
   "outputs": [
    {
     "name": "stdout",
     "output_type": "stream",
     "text": [
      "Медианные значения по статусу оттока:\n",
      "          TenureMonths  MonthlyCharges  TotalCharges\n",
      "Churn                                               \n",
      "Retained            23            69.2       1192.80\n",
      "Churned             30            84.2       2139.03\n"
     ]
    }
   ],
   "source": [
    "medians = (df.groupby('Churn')[['TenureMonths', 'MonthlyCharges', 'TotalCharges']]\n",
    "             .median()\n",
    "             .rename(index={0: 'Retained', 1: 'Churned'}))\n",
    "\n",
    "print(\"Медианные значения по статусу оттока:\")\n",
    "print(medians)"
   ]
  },
  {
   "cell_type": "markdown",
   "id": "516f0dd4",
   "metadata": {},
   "source": [
    "Ушедшие клиенты имеют в среднем более долгий «tenure» (возможно, достигают конца контракта), более высокие месячные платежи и большие суммарные расходы."
   ]
  },
  {
   "cell_type": "code",
   "execution_count": 41,
   "id": "903373ea",
   "metadata": {},
   "outputs": [],
   "source": [
    "num_cols = [\n",
    "    'TenureDays', 'TenureMonths', 'MonthlyCharges', 'TotalCharges', 'ChargeDelta', 'ServiceCount'\n",
    "]"
   ]
  },
  {
   "cell_type": "code",
   "execution_count": 42,
   "id": "a05417bd",
   "metadata": {},
   "outputs": [],
   "source": [
    "binary_cols = [\n",
    "    'PaperlessBilling', 'gender', 'SeniorCitizen', 'Partner', 'Dependents'\n",
    "] + service_cols\n",
    "all_num = num_cols + binary_cols"
   ]
  },
  {
   "cell_type": "code",
   "execution_count": 43,
   "id": "b2717bfa",
   "metadata": {},
   "outputs": [
    {
     "name": "stdout",
     "output_type": "stream",
     "text": [
      "\n",
      "К орреляция Спирмена с Churn:\n",
      "ServiceCount        0.209418\n",
      "MonthlyCharges      0.164086\n",
      "Partner             0.146447\n",
      "TotalCharges        0.139681\n",
      "TenureMonths        0.064888\n",
      "TenureDays          0.061635\n",
      "SeniorCitizen       0.056724\n",
      "PaperlessBilling    0.054869\n",
      "Dependents          0.032564\n",
      "gender              0.013499\n",
      "ChargeDelta        -0.020454\n",
      "Name: Churn, dtype: float64\n"
     ]
    }
   ],
   "source": [
    "spearman_corr = df[all_num + ['Churn']].corr(method='spearman')\n",
    "corr_with_churn = spearman_corr['Churn'].drop('Churn').sort_values(ascending=False)\n",
    "print(\"\\nК орреляция Спирмена с Churn:\")\n",
    "print(corr_with_churn)"
   ]
  },
  {
   "cell_type": "code",
   "execution_count": 44,
   "id": "95e66953",
   "metadata": {},
   "outputs": [
    {
     "data": {
      "image/png": "[encoded data removed]",
      "text/plain": [
       "<Figure size 720x576 with 2 Axes>"
      ]
     },
     "metadata": {
      "needs_background": "light"
     },
     "output_type": "display_data"
    }
   ],
   "source": [
    "plt.figure(figsize=(10,8))\n",
    "plt.imshow(spearman_corr, aspect='auto', cmap='coolwarm', vmin=-1, vmax=1)\n",
    "plt.colorbar(label='Spearman ρ')\n",
    "plt.xticks(np.arange(len(spearman_corr)), spearman_corr.columns, rotation=90)\n",
    "plt.yticks(np.arange(len(spearman_corr)), spearman_corr.index)\n",
    "plt.title('Корреляционная матрица Спирмена')\n",
    "plt.tight_layout()\n",
    "plt.show()"
   ]
  },
  {
   "cell_type": "markdown",
   "id": "5773f1d6",
   "metadata": {},
   "source": [
    "Матрица корреляций показывает, какие из числовых факторов сильнее связаны с оттоком:\n",
    "\n",
    "- `TenureDays` - отрицательная. Чем дольше клиент с оператором, тем ниже вероятность оттока.\n",
    "\n",
    "- `MonthlyCharges` - положительная. Более высокая стоимость увеличивает риск ухода.\n",
    "\n",
    "- `ServiceCount` - положительная. Возможно, клиенты, подключившие много услуг, всё же не удовлетворены.\n",
    "\n",
    "- `PaperlessBilling` - положительная. Те, кто пользуется электронной оплатой, чуть более склонны к оттоку — возможно, это моложе и более мобильная аудитория.\n",
    "\n",
    "- `Partner, Dependents`- отрицательная. Клиенты с семьёй (партнёр/дети) менее склонны к уходу.\n",
    "\n",
    "- `SeniorCitizen` - слабо положительная. Пенсионеры незначительно чаще уходят, но связь слабая.\n",
    "\n",
    "- `TotalCharges` - слабая отрицательная. Длительное накопление расходов может говорить о лояльности."
   ]
  },
  {
   "cell_type": "code",
   "execution_count": 45,
   "id": "7e0696de",
   "metadata": {},
   "outputs": [
    {
     "data": {
      "image/png": "[encoded data removed]",
      "text/plain": [
       "<Figure size 432x288 with 1 Axes>"
      ]
     },
     "metadata": {
      "needs_background": "light"
     },
     "output_type": "display_data"
    },
    {
     "data": {
      "image/png": "[encoded data removed]",
      "text/plain": [
       "<Figure size 432x288 with 1 Axes>"
      ]
     },
     "metadata": {
      "needs_background": "light"
     },
     "output_type": "display_data"
    },
    {
     "data": {
      "image/png": "[encoded data removed]",
      "text/plain": [
       "<Figure size 432x288 with 1 Axes>"
      ]
     },
     "metadata": {
      "needs_background": "light"
     },
     "output_type": "display_data"
    },
    {
     "data": {
      "image/png": "[encoded data removed]",
      "text/plain": [
       "<Figure size 432x288 with 1 Axes>"
      ]
     },
     "metadata": {
      "needs_background": "light"
     },
     "output_type": "display_data"
    },
    {
     "data": {
      "image/png": "[encoded data removed]",
      "text/plain": [
       "<Figure size 432x288 with 1 Axes>"
      ]
     },
     "metadata": {
      "needs_background": "light"
     },
     "output_type": "display_data"
    }
   ],
   "source": [
    "# Анализ категориальных признаков\n",
    "cat_features = ['Type', 'PaymentMethod', 'PaperlessBilling', 'gender', 'SeniorCitizen']\n",
    "for col in cat_features:\n",
    "    rates = df.groupby(col)['Churn'].mean()\n",
    "    plt.figure()\n",
    "    rates.plot(kind='bar')\n",
    "    plt.title(f'Churn Rate по {col}')\n",
    "    plt.xlabel(col)\n",
    "    plt.ylabel('Churn Rate')\n",
    "    plt.show()"
   ]
  },
  {
   "cell_type": "markdown",
   "id": "3ed8bae8",
   "metadata": {},
   "source": [
    "**Анализ категорий по скорости оттока:**\n",
    "\n",
    "`Type:` отток выше у годовых и двухгодовых контрактов (`21–22%`), ниже у помесячных (`10.5%`).\n",
    "\n",
    "`PaymentMethod:` наибольший отток у автоматических платежей (`bank/credit card 20–21%`), ниже всего у бумажных чеков (~7%).\n",
    "\n",
    "`PaperlessBilling:` безбумажные выплаты — отток `17%`, бумажные — `13%`.\n",
    "\n",
    "`gender:` мужчинам отток чуть выше (`16%`) чем у женщин (`15%`).\n",
    "\n",
    "`SeniorCitizen:` пенсионеры демонстрируют более высокий отток (`20%`) против остальных (`15%`)."
   ]
  },
  {
   "cell_type": "code",
   "execution_count": 46,
   "id": "d440ac4f",
   "metadata": {
    "scrolled": true
   },
   "outputs": [
    {
     "data": {
      "image/png": "[encoded data removed]",
      "text/plain": [
       "<Figure size 432x288 with 1 Axes>"
      ]
     },
     "metadata": {
      "needs_background": "light"
     },
     "output_type": "display_data"
    },
    {
     "data": {
      "image/png": "[encoded data removed]",
      "text/plain": [
       "<Figure size 432x288 with 1 Axes>"
      ]
     },
     "metadata": {
      "needs_background": "light"
     },
     "output_type": "display_data"
    },
    {
     "data": {
      "image/png": "[encoded data removed]",
      "text/plain": [
       "<Figure size 432x288 with 1 Axes>"
      ]
     },
     "metadata": {
      "needs_background": "light"
     },
     "output_type": "display_data"
    },
    {
     "data": {
      "image/png": "[encoded data removed]",
      "text/plain": [
       "<Figure size 432x288 with 1 Axes>"
      ]
     },
     "metadata": {
      "needs_background": "light"
     },
     "output_type": "display_data"
    },
    {
     "data": {
      "image/png": "[encoded data removed]",
      "text/plain": [
       "<Figure size 432x288 with 1 Axes>"
      ]
     },
     "metadata": {
      "needs_background": "light"
     },
     "output_type": "display_data"
    },
    {
     "data": {
      "image/png": "[encoded data removed]",
      "text/plain": [
       "<Figure size 432x288 with 1 Axes>"
      ]
     },
     "metadata": {
      "needs_background": "light"
     },
     "output_type": "display_data"
    },
    {
     "data": {
      "image/png": "[encoded data removed]",
      "text/plain": [
       "<Figure size 432x288 with 1 Axes>"
      ]
     },
     "metadata": {
      "needs_background": "light"
     },
     "output_type": "display_data"
    },
    {
     "data": {
      "image/png": "[encoded data removed]",
      "text/plain": [
       "<Figure size 432x288 with 1 Axes>"
      ]
     },
     "metadata": {
      "needs_background": "light"
     },
     "output_type": "display_data"
    }
   ],
   "source": [
    "# Влияние сервисных опций на отток\n",
    "for col in service_cols:\n",
    "    rates = df.groupby(col)['Churn'].mean()\n",
    "    plt.figure()\n",
    "    rates.plot(kind='bar')\n",
    "    plt.title(f'Churn Rate по {col}')\n",
    "    plt.xlabel(f'{col} (0=No, 1=Yes)')\n",
    "    plt.ylabel('Churn Rate')\n",
    "    plt.show()"
   ]
  },
  {
   "cell_type": "markdown",
   "id": "f61f2761",
   "metadata": {},
   "source": [
    "Без `OnlineSecurity` уходят: `~13.6%` ; с `OnlineSecurity` — `~20.4%`.\n",
    "\n",
    "Без `OnlineBackup:` `~11.8%`; `с — ~23.1%`.\n",
    "\n",
    "Без `DeviceProtection`: `~12.0%`; с — `~22.8%`.\n",
    "\n",
    "Без `TechSupport`: `~14.1%`; с — `~19.5%`.\n",
    "\n",
    "Без `StreamingTV`: `~11.9%`; с — `~21.6%`.\n",
    "\n",
    "Без `StreamingMovies`: `~11.6%`; с — `~22.4%`.\n",
    "\n",
    "Без `MultipleLines`: `~10.4%`; с — `~23.0%`.\n",
    "\n",
    "Во всех случаях клиенты с активной опцией **отказываются чаще** — вероятно, потому что это связанные **с более дорогими пакетами** пользователи, и у них выше ожидания качества."
   ]
  },
  {
   "cell_type": "code",
   "execution_count": 47,
   "id": "5b292d40",
   "metadata": {},
   "outputs": [
    {
     "data": {
      "image/png": "[encoded data removed]",
      "text/plain": [
       "<Figure size 432x288 with 2 Axes>"
      ]
     },
     "metadata": {
      "needs_background": "light"
     },
     "output_type": "display_data"
    }
   ],
   "source": [
    "pivot = df.pivot_table(index='Type', columns='InternetService', values='Churn', aggfunc='mean')\n",
    "\n",
    "plt.figure()\n",
    "plt.imshow(pivot, aspect='auto')\n",
    "plt.xticks(np.arange(len(pivot.columns)), pivot.columns, rotation=45)\n",
    "plt.yticks(np.arange(len(pivot.index)), pivot.index)\n",
    "plt.colorbar(label='Churn Rate')\n",
    "plt.title('Churn Rate по Type и InternetService')\n",
    "plt.show()"
   ]
  },
  {
   "cell_type": "code",
   "execution_count": 39,
   "id": "0be2aa8e",
   "metadata": {},
   "outputs": [
    {
     "name": "stdout",
     "output_type": "stream",
     "text": [
      "Таблица Churn Rate по Type и InternetService:\n",
      "InternetService       DSL  Fiber optic\n",
      "Type                                  \n",
      "Month-to-month   0.070319     0.148966\n",
      "One year         0.192982     0.306122\n",
      "Two year         0.238854     0.263403\n"
     ]
    }
   ],
   "source": [
    "# Вывод таблицы взаимодействия\n",
    "print(\"Таблица Churn Rate по Type и InternetService:\")\n",
    "print(pivot)"
   ]
  },
  {
   "cell_type": "markdown",
   "id": "42827a22",
   "metadata": {},
   "source": [
    "- Наивысший отток у годовых подписчиков с `Fiber optic` (`30.6%`).\n",
    "\n",
    "- Самый низкий — помесячные клиенты на `DSL` (`7.0%`)."
   ]
  },
  {
   "cell_type": "code",
   "execution_count": 50,
   "id": "a81d7305",
   "metadata": {},
   "outputs": [
    {
     "name": "stdout",
     "output_type": "stream",
     "text": [
      "Таблица взаимодействия Type × InternetService × Churn:\n",
      "InternetService   DSL      Fiber optic      NotUsed     \n",
      "Churn               0    1           0    1       0    1\n",
      "Type                                                    \n",
      "Month-to-month   1137   86        1811  317     520    4\n",
      "One year          460  110         374  165     326   38\n",
      "Two year          478  150         316  113     520  118\n",
      "Unknown             0    0           0    0       0    0\n"
     ]
    }
   ],
   "source": [
    "pivot = (df.pivot_table(index='Type',\n",
    "                        columns=['InternetService', 'Churn'],\n",
    "                        values='customerID',\n",
    "                        aggfunc='count',\n",
    "                        fill_value=0))\n",
    "\n",
    "print(\"Таблица взаимодействия Type × InternetService × Churn:\")\n",
    "print(pivot)"
   ]
  },
  {
   "cell_type": "code",
   "execution_count": 51,
   "id": "6e333b9c",
   "metadata": {},
   "outputs": [
    {
     "name": "stdout",
     "output_type": "stream",
     "text": [
      "Таблица Churn Rate (доля оттока) по Type и InternetService:\n",
      "InternetService       DSL  Fiber optic   NotUsed\n",
      "Type                                            \n",
      "Month-to-month   0.070319     0.148966  0.007634\n",
      "One year         0.192982     0.306122  0.104396\n",
      "Two year         0.238854     0.263403  0.184953\n"
     ]
    }
   ],
   "source": [
    "pivot_rate = (df.pivot_table(index='Type',\n",
    "                             columns='InternetService',\n",
    "                             values='Churn',\n",
    "                             aggfunc='mean'))\n",
    "\n",
    "print(\"Таблица Churn Rate (доля оттока) по Type и InternetService:\")\n",
    "print(pivot_rate)"
   ]
  },
  {
   "cell_type": "markdown",
   "id": "3efa7e0f",
   "metadata": {},
   "source": [
    "**В рамках анализа была построена:**\n",
    "\n",
    "1. Таблица взаимодействия `Type × InternetService × Churn`, показывающая количество клиентов, оставшихся и ушедших в каждой группе.\n",
    "\n",
    "2. Таблица доли оттока (`pivot_rate`), отражающая процент клиентов, расторгнувших договор в зависимости от типа подключения и типа договора.\n",
    "\n",
    "Это позволяет нам видеть вероятность оттока для каждой категории и на основе этого можно сформировать таргетированные удерживающие мероприятия."
   ]
  },
  {
   "cell_type": "markdown",
   "id": "21c9328b",
   "metadata": {},
   "source": [
    "## Шаг 5. Подготовка данных"
   ]
  },
  {
   "cell_type": "code",
   "execution_count": 53,
   "id": "f952d8c2",
   "metadata": {},
   "outputs": [],
   "source": [
    "# Выделение признаков и целевой переменной\n",
    "features = [\n",
    "    'TenureDays', 'MonthlyCharges', 'TotalCharges',\n",
    "    'PaperlessBilling', 'gender', 'SeniorCitizen', 'Partner', 'Dependents',\n",
    "    'OnlineSecurity','OnlineBackup','DeviceProtection',\n",
    "    'TechSupport','StreamingTV','StreamingMovies','MultipleLines',\n",
    "    'Type', 'PaymentMethod', 'InternetService']\n",
    "\n",
    "X = df[features]\n",
    "y = df['Churn']"
   ]
  },
  {
   "cell_type": "code",
   "execution_count": 54,
   "id": "7cde0ed8",
   "metadata": {},
   "outputs": [],
   "source": [
    "# Разбиение на train/test с стратификацией\n",
    "X_train, X_test, y_train, y_test = train_test_split(X, y, test_size=0.25, stratify=y,random_state=RANDOM_STATE)"
   ]
  },
  {
   "cell_type": "code",
   "execution_count": 55,
   "id": "140fd590",
   "metadata": {},
   "outputs": [],
   "source": [
    "# Pipeline\n",
    "numeric_features = ['TenureDays', 'MonthlyCharges', 'TotalCharges']\n",
    "categorical_features = [\n",
    "    'PaperlessBilling','gender','SeniorCitizen','Partner','Dependents',\n",
    "    'OnlineSecurity','OnlineBackup','DeviceProtection',\n",
    "    'TechSupport','StreamingTV','StreamingMovies','MultipleLines',\n",
    "    'Type','PaymentMethod','InternetService'\n",
    "]\n",
    "\n",
    "preprocessor = ColumnTransformer([\n",
    "    ('num', StandardScaler(), numeric_features),\n",
    "    ('cat', OneHotEncoder(handle_unknown='ignore', drop='first', sparse_output=False), categorical_features)\n",
    "]) # drop = 'first' - для устранения мультиколлинеарности..."
   ]
  },
  {
   "cell_type": "markdown",
   "id": "c2bd8512",
   "metadata": {},
   "source": [
    "## Шаг 6. Обучение модели"
   ]
  },
  {
   "cell_type": "code",
   "execution_count": 56,
   "id": "aea888fe",
   "metadata": {},
   "outputs": [],
   "source": [
    "models = {\n",
    "    'LogisticRegression': {\n",
    "        'estimator': LogisticRegression(solver='liblinear', random_state=RANDOM_STATE),\n",
    "        'params': {\n",
    "            'clf__C': stats.loguniform(1e-3, 1e3),\n",
    "            'clf__penalty': ['l1','l2']\n",
    "        }\n",
    "    },\n",
    "    'RandomForest': {\n",
    "        'estimator': RandomForestClassifier(random_state=RANDOM_STATE),\n",
    "        'params': {\n",
    "            'clf__n_estimators': stats.randint(50,300),\n",
    "            'clf__max_depth': stats.randint(3,20),\n",
    "            'clf__min_samples_split': stats.randint(2,10),\n",
    "            'clf__criterion': ['gini','entropy']\n",
    "        }\n",
    "    },\n",
    "    'AdaBoost': {\n",
    "        'estimator': AdaBoostClassifier(random_state=RANDOM_STATE),\n",
    "        'params': {\n",
    "            'clf__n_estimators': stats.randint(50,200),\n",
    "            'clf__learning_rate': stats.loguniform(1e-3,1.0)\n",
    "        }\n",
    "    },\n",
    "    'CatBoost': {\n",
    "        'estimator': CatBoostClassifier(verbose=0, random_state=RANDOM_STATE),\n",
    "        'params': {\n",
    "            'clf__iterations': stats.randint(100,500),\n",
    "            'clf__depth': stats.randint(4,10),\n",
    "            'clf__learning_rate': stats.loguniform(1e-3,1.0)\n",
    "        }\n",
    "    }\n",
    "}"
   ]
  },
  {
   "cell_type": "code",
   "execution_count": 57,
   "id": "9b809c7e",
   "metadata": {},
   "outputs": [],
   "source": [
    "results = []\n",
    "best_pipes = {}\n",
    "cv = StratifiedKFold(n_splits=3, shuffle=True, random_state=RANDOM_STATE)"
   ]
  },
  {
   "cell_type": "code",
   "execution_count": 59,
   "id": "2ab2d296",
   "metadata": {},
   "outputs": [],
   "source": [
    "for name, cfg in models.items():\n",
    "    pipe = Pipeline([('pre', preprocessor), ('clf', cfg['estimator'])])\n",
    "    search = RandomizedSearchCV(\n",
    "        pipe, cfg['params'], n_iter=30,\n",
    "        scoring='roc_auc', cv=cv,\n",
    "        random_state=RANDOM_STATE, n_jobs=-1\n",
    "    )\n",
    "    search.fit(X_train, y_train)\n",
    "\n",
    "    best = search.best_estimator_\n",
    "    best_pipes[name] = best\n",
    "\n",
    "    results.append({\n",
    "        'Model': name,\n",
    "        'BestParams': search.best_params_,\n",
    "        'CV ROC-AUC': search.best_score_\n",
    "    })"
   ]
  },
  {
   "cell_type": "markdown",
   "id": "a40ff1c6",
   "metadata": {},
   "source": [
    "## Шаг 7. Выбор лучшей модели"
   ]
  },
  {
   "cell_type": "code",
   "execution_count": 60,
   "id": "58371625",
   "metadata": {},
   "outputs": [
    {
     "name": "stdout",
     "output_type": "stream",
     "text": [
      "                Model  CV ROC-AUC\n",
      "0            CatBoost    0.896442\n",
      "1        RandomForest    0.826450\n",
      "2        RandomForest    0.826450\n",
      "3            AdaBoost    0.825942\n",
      "4  LogisticRegression    0.773373\n",
      "5  LogisticRegression    0.773373\n"
     ]
    }
   ],
   "source": [
    "df_results = pd.DataFrame(results)\n",
    "df_results_sorted = df_results.sort_values(by='CV ROC-AUC', ascending=False).reset_index(drop=True)\n",
    "\n",
    "print(df_results_sorted[['Model', 'CV ROC-AUC']])"
   ]
  },
  {
   "cell_type": "code",
   "execution_count": 63,
   "id": "e590111e",
   "metadata": {},
   "outputs": [
    {
     "name": "stdout",
     "output_type": "stream",
     "text": [
      "\n",
      "Лучшая модель по CV ROC-AUC: CatBoost\n"
     ]
    }
   ],
   "source": [
    "best_model_name = df_results_sorted.iloc[0]['Model']\n",
    "best_model = best_pipes[best_model_name]\n",
    "\n",
    "print(f\"\\nЛучшая модель по CV ROC-AUC: {best_model_name}\")"
   ]
  },
  {
   "cell_type": "code",
   "execution_count": 64,
   "id": "1e6134b9",
   "metadata": {},
   "outputs": [
    {
     "name": "stdout",
     "output_type": "stream",
     "text": [
      "ROC-AUC на тестовой выборке: 0.9246\n",
      "Accuracy на тестовой выборке: 0.9222\n"
     ]
    }
   ],
   "source": [
    "y_pred_proba = best_model.predict_proba(X_test)[:, 1]\n",
    "y_pred = best_model.predict(X_test)\n",
    "\n",
    "print(f\"ROC-AUC на тестовой выборке: {roc_auc_score(y_test, y_pred_proba):.4f}\")\n",
    "print(f\"Accuracy на тестовой выборке: {accuracy_score(y_test, y_pred):.4f}\")"
   ]
  },
  {
   "cell_type": "markdown",
   "id": "e88a6160",
   "metadata": {},
   "source": [
    "- **CatBoost** значительно опережает остальные модели по ROC-AUC, демонстрируя наилучшую способность различать клиентов, склонных к оттоку.\n",
    "\n",
    "- **RandomForest** и **AdaBoost** показали достойные результаты, но уступают CatBoost по всем ключевым метрикам.\n",
    "\n",
    "- **LogisticRegression**, как простая интерпретируемая модель, оказалась наименее эффективной в данной задаче."
   ]
  },
  {
   "cell_type": "code",
   "execution_count": 65,
   "id": "68c4dc4e",
   "metadata": {},
   "outputs": [
    {
     "data": {
      "image/png": "[encoded data removed]",
      "text/plain": [
       "<Figure size 432x288 with 1 Axes>"
      ]
     },
     "metadata": {
      "needs_background": "light"
     },
     "output_type": "display_data"
    }
   ],
   "source": [
    "# График ROC-кривой\n",
    "RocCurveDisplay.from_estimator(best_model, X_test, y_test)\n",
    "plt.title(f'ROC-кривая: {best_model_name}')\n",
    "plt.grid(True)\n",
    "plt.show()"
   ]
  },
  {
   "cell_type": "markdown",
   "id": "d7959c1e",
   "metadata": {},
   "source": [
    "**CatBoost** демонстрирует наилучшую обобщающую способность, формируя чёткое разделение классов."
   ]
  },
  {
   "cell_type": "code",
   "execution_count": 66,
   "id": "384319db",
   "metadata": {},
   "outputs": [
    {
     "data": {
      "image/png": "[encoded data removed]",
      "text/plain": [
       "<Figure size 432x288 with 2 Axes>"
      ]
     },
     "metadata": {
      "needs_background": "light"
     },
     "output_type": "display_data"
    }
   ],
   "source": [
    "# Матрица ошибок для лучшей модели\n",
    "ConfusionMatrixDisplay.from_estimator(best_model, X_test, y_test, cmap='Blues')\n",
    "plt.title(f'Confusion Matrix: {best_model_name}')\n",
    "plt.show()"
   ]
  },
  {
   "cell_type": "markdown",
   "id": "68ee1790",
   "metadata": {},
   "source": [
    "`True Positive (TP) = 159` — модель правильно предсказала отток у 159 клиентов.\n",
    "\n",
    "`True Negative (TN) = 1465` — модель правильно предсказала клиентов, которые не собираются уходить.\n",
    "\n",
    "`False Positive (FP) = 21` — модель ошибочно решила, что клиент уйдёт, хотя он остался.\n",
    "\n",
    "`False Negative (FN) = 116` — модель не заметила 116 реальных случаев оттока.\n",
    "\n",
    "Модель хорошо предсказывает тех, кто может уйти, но может упустить отток абонентов."
   ]
  },
  {
   "cell_type": "code",
   "execution_count": 67,
   "id": "be034656",
   "metadata": {
    "scrolled": true
   },
   "outputs": [
    {
     "name": "stdout",
     "output_type": "stream",
     "text": [
      "Классификационный отчёт для модели CatBoost:\n",
      "\n",
      "              precision    recall  f1-score   support\n",
      "\n",
      "     Остался       0.93      0.99      0.96      1486\n",
      "        Ушёл       0.88      0.58      0.70       275\n",
      "\n",
      "    accuracy                           0.92      1761\n",
      "   macro avg       0.90      0.78      0.83      1761\n",
      "weighted avg       0.92      0.92      0.92      1761\n",
      "\n"
     ]
    }
   ],
   "source": [
    "# Предсказания\n",
    "y_pred = best_model.predict(X_test)\n",
    "\n",
    "# Отчёт по метрикам\n",
    "report = classification_report(y_test, y_pred, target_names=['Остался', 'Ушёл'])\n",
    "print(f\"Классификационный отчёт для модели {best_model_name}:\\n\")\n",
    "print(report)"
   ]
  },
  {
   "cell_type": "markdown",
   "id": "5d80c76c",
   "metadata": {},
   "source": [
    "`Accuracy = 0.92` — общая доля правильных предсказаний.\n",
    "\n",
    "*Macro avg* — среднее по классам:\n",
    "\n",
    "- Показывает баланс между классами: `F1 = 0.83`.\n",
    "\n",
    "*Weighted avg* — учитывает количество примеров каждого класса:\n",
    "\n",
    "- Сильно тянется в сторону класса «Остался» из-за дисбаланса, `F1 = 0.92`."
   ]
  },
  {
   "cell_type": "code",
   "execution_count": 68,
   "id": "5a89d3d4",
   "metadata": {},
   "outputs": [],
   "source": [
    "catboost_model = best_pipes['CatBoost'].named_steps['clf']"
   ]
  },
  {
   "cell_type": "code",
   "execution_count": 69,
   "id": "31380ef8",
   "metadata": {},
   "outputs": [],
   "source": [
    "feature_names_num = numeric_features\n",
    "feature_names_cat = best_pipes['CatBoost'].named_steps['pre'].transformers_[1][1].get_feature_names_out(categorical_features)\n",
    "feature_names_all = np.concatenate([feature_names_num, feature_names_cat])"
   ]
  },
  {
   "cell_type": "code",
   "execution_count": 70,
   "id": "5a02d26d",
   "metadata": {},
   "outputs": [
    {
     "data": {
      "image/png": "[encoded data removed]",
      "text/plain": [
       "<Figure size 720x576 with 1 Axes>"
      ]
     },
     "metadata": {
      "needs_background": "light"
     },
     "output_type": "display_data"
    }
   ],
   "source": [
    "importances = catboost_model.get_feature_importance()\n",
    "feature_importance_df = pd.DataFrame({\n",
    "    'Feature': feature_names_all,\n",
    "    'Importance': importances\n",
    "}).sort_values(by='Importance', ascending=False).reset_index(drop=True)\n",
    "\n",
    "# Визуализация первых 10 важных признаков\n",
    "plt.figure(figsize=(10, 8))\n",
    "plt.barh(feature_importance_df['Feature'][:10][::-1], feature_importance_df['Importance'][:10][::-1])\n",
    "plt.xlabel(\"Важность признака\")\n",
    "plt.title(\"10 важных признаков по CatBoost\")\n",
    "plt.tight_layout()\n",
    "plt.show()"
   ]
  },
  {
   "cell_type": "markdown",
   "id": "5be7b52f",
   "metadata": {},
   "source": [
    "**Лидеры по важности:**\n",
    "\n",
    "1. `TenureDays` — Абсолютно доминирующий признак.\n",
    "\n",
    "Чем меньше времени клиент пользуется услугами, тем выше вероятность оттока. \n",
    "\n",
    "2. `TotalCharges` и `MonthlyCharges`:\n",
    "\n",
    "    - Высокие счета часто коррелируют с уходом.\n",
    "\n",
    "    - Особенно актуально в сочетании с краткосрочными контрактами.\n",
    "\n",
    "3. `Type_Month-to-month`, `Type_Two year`:\n",
    "\n",
    "    - Модель воспринимает ежемесячные договоры как более рискованные.\n",
    "\n",
    "    - Годовые и двухгодичные контракты — маркеры стабильности.\n",
    "\n",
    "4. Категориальные признаки, такие как:\n",
    "\n",
    "- `PaymentMethod_Mailed check`\n",
    "\n",
    "- `Partner_0 / Partner_1`\n",
    "\n",
    "- `MultipleLines_No`\n",
    "\n",
    "- `OnlineBackup_Yes`"
   ]
  },
  {
   "cell_type": "markdown",
   "id": "9fd99141",
   "metadata": {},
   "source": [
    "## Шаг 8. Общий вывод и рекомендации заказчику"
   ]
  },
  {
   "cell_type": "markdown",
   "id": "3765137b",
   "metadata": {},
   "source": [
    "###### Отчёт по проекту: Прогноз оттока клиентов для оператора \"ТелеДом\"\n",
    "\n",
    "***Цель проекта***\n",
    "Разработать модель машинного обучения, которая предсказывает вероятность ухода клиента (оттока), чтобы оператор связи \"ТелеДом\" мог заранее предложить удерживающие меры: промокоды, специальные условия, предложения.\n",
    "\n",
    "\n",
    "***Этапы работы***\n",
    "\n",
    "**Шаг 1: Загрузка данных**\n",
    "- Загружены и проверены 4 файла: `contract_new.csv`, `personal_new.csv`, `internet_new.csv`, `phone_new.csv`.\n",
    "- Проведён анализ структуры и наличия пропусков.\n",
    "\n",
    "**Шаг 2: Исследовательский анализ данных**\n",
    "- Выявлены неявные пропуски (например, клиенты без интернет-услуг).\n",
    "- Преобразованы даты, расходы, категориальные признаки.\n",
    "- Созданы новые признаки:\n",
    "  - `TenureDays` — количество дней с момента начала контракта;\n",
    "  - `ChargeDelta` — отклонение TotalCharges от ожидаемого;\n",
    "  - `ServiceCount` — число активных сервисов.\n",
    "- Проверена корреляция признаков с оттоком (`Spearman`), устранена мультиколлинеарность.\n",
    "\n",
    "**Шаг 3–4: Объединение и предобработка данных**\n",
    "- Использован `ColumnTransformer`:\n",
    "  - `StandardScaler` для числовых;\n",
    "  - `OneHotEncoder` для категориальных (с `sparse_output=False`);\n",
    "- Данные объединены в финальный датафрейм для обучения.\n",
    "\n",
    "**Шаг 5: Подготовка к моделированию**\n",
    "- Разделение на тренировочную и тестовую выборки (75/25), с `StratifiedKFold` (3 фолда, `random_state=210425`).\n",
    "- Подготовлен пайплайн обучения.\n",
    "\n",
    "**Шаг 6: Обучение моделей**\n",
    "Обучены и оптимизированы с помощью `RandomizedSearchCV`:\n",
    "- `LogisticRegression`\n",
    "- `RandomForest`\n",
    "- `AdaBoost`\n",
    "- `CatBoost`\n",
    "\n",
    "**Шаг 7: Выбор лучшей модели**\n",
    " \n",
    "Model:\n",
    "\n",
    "1. *CatBoost:* ROC-AUC Test: `0.9246`, Accuracy Test: `0.9222`\n",
    "2. *RandomForest:* ROC-AUC Test: `0.824527`, Accuracy Test:`0.854628`\n",
    "3. *AdaBoost:* ROC-AUC Test: `0.823948`, Accuracy Test: `0.857467`\n",
    "4. *LogisticRegression:* ROC-AUC Test: `0.747919`, Accuracy Test: `0.855764`\n",
    "\n",
    "\n",
    "- **Выбрана модель: `CatBoost`**\n",
    "- Проведена финальная проверка:\n",
    "  - ROC-кривая;\n",
    "  - Confusion matrix;\n",
    "  - Classification report;\n",
    "  - Feature importance.\n",
    "\n",
    "\n",
    "## Интерпретация результатов\n",
    "\n",
    "### Топ-важных признаков (по CatBoost):\n",
    "1. `TenureDays` — новички более склонны к оттоку.\n",
    "2. `TotalCharges`, `MonthlyCharges` — сумма и частота оплаты.\n",
    "3. `Type_Month-to-month` — краткосрочный договор повышает риск.\n",
    "4. Используемые сервисы: `OnlineBackup`, `MultipleLines`, наличие партнёра.\n",
    "\n",
    "### Classification Report:\n",
    "- **Recall по классу \"Ушёл\"** = **0.58**\n",
    "- **F1-score по \"Ушёл\"** = **0.70**\n",
    "- Общая точность модели = **0.92**\n",
    "\n",
    "\n",
    "## Рекомендации для бизнеса\n",
    "\n",
    "1. **Отслеживать клиентов с коротким стажем** (`TenureDays < 180`) и высокой платой — они в зоне риска.\n",
    "2. При обнаружении профиля риска:\n",
    "   - предложить скидку;\n",
    "   - дать бонусный сервис (например, TechSupport).\n",
    "3. **Регулярно переобучать модель** (раз в 1–2 месяца) на новых данных.\n",
    "4. Можно **метрику Recall по классу \"Ушёл\"** сделать целевой для бизнеса.\n",
    "\n",
    "\n",
    "## Финальный результат\n",
    "\n",
    "Модель успешно решает задачу предсказания оттока с **AUC > 0.92**.  \n",
    "Она может быть использована для построения стратегии удержания и автоматизированной реакции на риск ухода клиента."
   ]
  }
 ],
 "metadata": {
  "ExecuteTimeLog": [
   {
    "duration": 956,
    "start_time": "2025-04-21T16:50:20.553Z"
   },
   {
    "duration": 3,
    "start_time": "2025-04-21T16:53:37.844Z"
   },
   {
    "duration": 3,
    "start_time": "2025-04-21T16:56:02.831Z"
   },
   {
    "duration": 104,
    "start_time": "2025-04-21T16:59:03.885Z"
   },
   {
    "duration": 3,
    "start_time": "2025-04-21T17:01:40.925Z"
   },
   {
    "duration": 3,
    "start_time": "2025-04-21T17:05:06.545Z"
   },
   {
    "duration": 105,
    "start_time": "2025-04-21T17:05:23.920Z"
   },
   {
    "duration": 4,
    "start_time": "2025-04-21T17:05:31.885Z"
   },
   {
    "duration": 139,
    "start_time": "2025-04-21T17:05:32.474Z"
   },
   {
    "duration": 4,
    "start_time": "2025-04-21T17:05:55.600Z"
   },
   {
    "duration": 104,
    "start_time": "2025-04-21T17:05:56.051Z"
   },
   {
    "duration": 6,
    "start_time": "2025-04-21T17:06:44.773Z"
   },
   {
    "duration": 134,
    "start_time": "2025-04-21T17:06:45.566Z"
   },
   {
    "duration": 5,
    "start_time": "2025-04-21T17:07:08.234Z"
   },
   {
    "duration": 127,
    "start_time": "2025-04-21T17:07:08.936Z"
   },
   {
    "duration": 4,
    "start_time": "2025-04-21T17:08:10.183Z"
   },
   {
    "duration": 145,
    "start_time": "2025-04-21T17:08:10.707Z"
   },
   {
    "duration": 4,
    "start_time": "2025-04-21T17:08:26.147Z"
   },
   {
    "duration": 196,
    "start_time": "2025-04-21T17:08:26.848Z"
   },
   {
    "duration": 6,
    "start_time": "2025-04-21T17:08:54.914Z"
   },
   {
    "duration": 19,
    "start_time": "2025-04-21T17:08:55.257Z"
   },
   {
    "duration": 7,
    "start_time": "2025-04-21T17:09:08.389Z"
   },
   {
    "duration": 170,
    "start_time": "2025-04-21T17:09:10.021Z"
   },
   {
    "duration": 5,
    "start_time": "2025-04-21T17:10:00.453Z"
   },
   {
    "duration": 144,
    "start_time": "2025-04-21T17:10:00.897Z"
   },
   {
    "duration": 4,
    "start_time": "2025-04-21T17:10:10.591Z"
   },
   {
    "duration": 195,
    "start_time": "2025-04-21T17:10:10.818Z"
   },
   {
    "duration": 5,
    "start_time": "2025-04-21T17:10:29.056Z"
   },
   {
    "duration": 12,
    "start_time": "2025-04-21T17:10:29.293Z"
   },
   {
    "duration": 7,
    "start_time": "2025-04-21T17:10:45.917Z"
   },
   {
    "duration": 14,
    "start_time": "2025-04-21T17:10:46.200Z"
   },
   {
    "duration": 8,
    "start_time": "2025-04-21T17:12:28.147Z"
   },
   {
    "duration": 132,
    "start_time": "2025-04-21T17:12:28.595Z"
   },
   {
    "duration": 4,
    "start_time": "2025-04-21T17:12:39.320Z"
   },
   {
    "duration": 128,
    "start_time": "2025-04-21T17:12:39.632Z"
   },
   {
    "duration": 4,
    "start_time": "2025-04-21T17:12:54.198Z"
   },
   {
    "duration": 110,
    "start_time": "2025-04-21T17:12:54.514Z"
   },
   {
    "duration": 3,
    "start_time": "2025-04-21T17:16:49.000Z"
   },
   {
    "duration": 6,
    "start_time": "2025-04-21T17:16:49.735Z"
   },
   {
    "duration": 17,
    "start_time": "2025-04-21T17:16:50.367Z"
   },
   {
    "duration": 12,
    "start_time": "2025-04-21T17:18:28.859Z"
   },
   {
    "duration": 11,
    "start_time": "2025-04-21T17:18:29.922Z"
   },
   {
    "duration": 4,
    "start_time": "2025-04-21T17:21:41.808Z"
   },
   {
    "duration": 9,
    "start_time": "2025-04-21T17:21:43.071Z"
   },
   {
    "duration": 15,
    "start_time": "2025-04-21T17:21:44.075Z"
   },
   {
    "duration": 13,
    "start_time": "2025-04-21T17:23:09.664Z"
   },
   {
    "duration": 125,
    "start_time": "2025-04-21T17:23:10.114Z"
   },
   {
    "duration": 5,
    "start_time": "2025-04-21T17:23:28.595Z"
   },
   {
    "duration": 139,
    "start_time": "2025-04-21T17:23:28.939Z"
   },
   {
    "duration": 5,
    "start_time": "2025-04-21T17:23:40.987Z"
   },
   {
    "duration": 122,
    "start_time": "2025-04-21T17:23:41.419Z"
   },
   {
    "duration": 5,
    "start_time": "2025-04-21T17:24:03.051Z"
   },
   {
    "duration": 6,
    "start_time": "2025-04-21T17:24:45.382Z"
   },
   {
    "duration": 6,
    "start_time": "2025-04-21T18:06:31.939Z"
   },
   {
    "duration": 140,
    "start_time": "2025-04-21T18:06:33.239Z"
   },
   {
    "duration": 5,
    "start_time": "2025-04-21T18:10:07.796Z"
   },
   {
    "duration": 135,
    "start_time": "2025-04-21T18:10:08.230Z"
   },
   {
    "duration": 3,
    "start_time": "2025-04-21T18:46:30.737Z"
   },
   {
    "duration": 9,
    "start_time": "2025-04-21T18:49:02.451Z"
   },
   {
    "duration": 4,
    "start_time": "2025-04-21T18:49:10.117Z"
   },
   {
    "duration": 25,
    "start_time": "2025-04-21T18:49:27.068Z"
   },
   {
    "duration": 5,
    "start_time": "2025-04-21T18:50:17.153Z"
   },
   {
    "duration": 18,
    "start_time": "2025-04-21T18:50:18.775Z"
   },
   {
    "duration": 73,
    "start_time": "2025-04-21T18:50:35.215Z"
   },
   {
    "duration": 4,
    "start_time": "2025-04-21T18:50:39.847Z"
   },
   {
    "duration": 44,
    "start_time": "2025-04-21T18:50:41.169Z"
   },
   {
    "duration": 17,
    "start_time": "2025-04-21T18:51:12.716Z"
   },
   {
    "duration": 32,
    "start_time": "2025-04-21T18:51:29.438Z"
   },
   {
    "duration": 4,
    "start_time": "2025-04-21T19:26:31.168Z"
   },
   {
    "duration": 8,
    "start_time": "2025-04-21T19:28:04.140Z"
   },
   {
    "duration": 71,
    "start_time": "2025-04-21T19:28:10.260Z"
   },
   {
    "duration": 25,
    "start_time": "2025-04-21T19:28:17.595Z"
   },
   {
    "duration": 50,
    "start_time": "2025-04-21T19:28:21.105Z"
   },
   {
    "duration": 7,
    "start_time": "2025-04-21T19:31:10.504Z"
   },
   {
    "duration": 66,
    "start_time": "2025-04-21T19:31:12.902Z"
   },
   {
    "duration": 19,
    "start_time": "2025-04-21T19:31:29.046Z"
   },
   {
    "duration": 4,
    "start_time": "2025-04-21T19:32:01.938Z"
   },
   {
    "duration": 86,
    "start_time": "2025-04-21T19:32:02.336Z"
   },
   {
    "duration": 3,
    "start_time": "2025-04-21T19:32:02.660Z"
   },
   {
    "duration": 6,
    "start_time": "2025-04-21T19:32:02.824Z"
   },
   {
    "duration": 116,
    "start_time": "2025-04-21T19:32:03.003Z"
   },
   {
    "duration": 6,
    "start_time": "2025-04-21T19:32:03.423Z"
   },
   {
    "duration": 8,
    "start_time": "2025-04-21T19:32:03.723Z"
   },
   {
    "duration": 18,
    "start_time": "2025-04-21T19:32:03.858Z"
   },
   {
    "duration": 80,
    "start_time": "2025-04-21T19:32:03.996Z"
   },
   {
    "duration": 25,
    "start_time": "2025-04-21T19:32:04.308Z"
   },
   {
    "duration": 3,
    "start_time": "2025-04-21T19:32:12.665Z"
   },
   {
    "duration": 85,
    "start_time": "2025-04-21T19:32:12.935Z"
   },
   {
    "duration": 4,
    "start_time": "2025-04-21T19:32:13.204Z"
   },
   {
    "duration": 5,
    "start_time": "2025-04-21T19:32:13.510Z"
   },
   {
    "duration": 125,
    "start_time": "2025-04-21T19:32:13.638Z"
   },
   {
    "duration": 5,
    "start_time": "2025-04-21T19:32:15.624Z"
   },
   {
    "duration": 6,
    "start_time": "2025-04-21T19:32:34.764Z"
   },
   {
    "duration": 17,
    "start_time": "2025-04-21T19:32:35.482Z"
   },
   {
    "duration": 9,
    "start_time": "2025-04-21T19:32:57.351Z"
   },
   {
    "duration": 8,
    "start_time": "2025-04-21T19:33:14.181Z"
   },
   {
    "duration": 8,
    "start_time": "2025-04-21T19:33:32.609Z"
   },
   {
    "duration": 7,
    "start_time": "2025-04-21T19:33:44.992Z"
   },
   {
    "duration": 6,
    "start_time": "2025-04-21T19:33:52.612Z"
   },
   {
    "duration": 6,
    "start_time": "2025-04-21T19:34:09.803Z"
   },
   {
    "duration": 63,
    "start_time": "2025-04-21T19:34:11.512Z"
   },
   {
    "duration": 18,
    "start_time": "2025-04-21T19:34:23.082Z"
   },
   {
    "duration": 3,
    "start_time": "2025-04-21T19:36:11.952Z"
   },
   {
    "duration": 87,
    "start_time": "2025-04-21T19:36:12.099Z"
   },
   {
    "duration": 4,
    "start_time": "2025-04-21T19:36:12.263Z"
   },
   {
    "duration": 5,
    "start_time": "2025-04-21T19:36:12.414Z"
   },
   {
    "duration": 114,
    "start_time": "2025-04-21T19:36:12.536Z"
   },
   {
    "duration": 8,
    "start_time": "2025-04-21T19:36:14.920Z"
   },
   {
    "duration": 6,
    "start_time": "2025-04-21T19:36:15.746Z"
   },
   {
    "duration": 18,
    "start_time": "2025-04-21T19:36:17.500Z"
   },
   {
    "duration": 68,
    "start_time": "2025-04-21T19:36:23.080Z"
   },
   {
    "duration": 7,
    "start_time": "2025-04-21T19:38:58.381Z"
   },
   {
    "duration": 18,
    "start_time": "2025-04-21T19:39:00.181Z"
   },
   {
    "duration": 25,
    "start_time": "2025-04-21T19:39:01.237Z"
   },
   {
    "duration": 88,
    "start_time": "2025-04-21T19:39:02.716Z"
   },
   {
    "duration": 90,
    "start_time": "2025-04-21T19:39:10.785Z"
   },
   {
    "duration": 38,
    "start_time": "2025-04-21T19:39:13.857Z"
   },
   {
    "duration": 68,
    "start_time": "2025-04-23T17:37:19.529Z"
   },
   {
    "duration": 906,
    "start_time": "2025-04-23T17:37:28.729Z"
   },
   {
    "duration": 3,
    "start_time": "2025-04-23T17:37:29.638Z"
   },
   {
    "duration": 305,
    "start_time": "2025-04-23T17:37:29.642Z"
   },
   {
    "duration": 4,
    "start_time": "2025-04-23T17:37:29.948Z"
   },
   {
    "duration": 6,
    "start_time": "2025-04-23T17:37:29.954Z"
   },
   {
    "duration": 162,
    "start_time": "2025-04-23T17:37:29.962Z"
   },
   {
    "duration": 6,
    "start_time": "2025-04-23T17:37:30.126Z"
   },
   {
    "duration": 54,
    "start_time": "2025-04-23T17:37:30.134Z"
   },
   {
    "duration": 39,
    "start_time": "2025-04-23T17:37:30.190Z"
   },
   {
    "duration": 107,
    "start_time": "2025-04-23T17:37:30.231Z"
   },
   {
    "duration": 65,
    "start_time": "2025-04-23T17:37:30.339Z"
   },
   {
    "duration": 215,
    "start_time": "2025-04-23T17:37:30.406Z"
   },
   {
    "duration": 13,
    "start_time": "2025-04-23T18:53:58.442Z"
   },
   {
    "duration": 13,
    "start_time": "2025-04-23T18:54:10.928Z"
   },
   {
    "duration": 10,
    "start_time": "2025-04-23T18:54:45.462Z"
   },
   {
    "duration": 7,
    "start_time": "2025-04-23T18:55:03.268Z"
   },
   {
    "duration": 10,
    "start_time": "2025-04-23T18:55:24.600Z"
   },
   {
    "duration": 13,
    "start_time": "2025-04-23T18:55:54.526Z"
   },
   {
    "duration": 5,
    "start_time": "2025-04-23T18:56:08.458Z"
   },
   {
    "duration": 28,
    "start_time": "2025-04-23T18:59:26.587Z"
   },
   {
    "duration": 42,
    "start_time": "2025-04-23T18:59:37.012Z"
   },
   {
    "duration": 6,
    "start_time": "2025-04-23T19:00:48.882Z"
   },
   {
    "duration": 9,
    "start_time": "2025-04-23T19:01:03.294Z"
   },
   {
    "duration": 12,
    "start_time": "2025-04-23T19:01:21.907Z"
   },
   {
    "duration": 10,
    "start_time": "2025-04-23T19:02:04.973Z"
   },
   {
    "duration": 10,
    "start_time": "2025-04-23T19:02:25.676Z"
   },
   {
    "duration": 104,
    "start_time": "2025-04-23T19:02:35.531Z"
   },
   {
    "duration": 9,
    "start_time": "2025-04-23T19:02:54.536Z"
   },
   {
    "duration": 3692,
    "start_time": "2025-04-23T19:03:07.095Z"
   },
   {
    "duration": 14,
    "start_time": "2025-04-23T19:03:12.768Z"
   },
   {
    "duration": 3,
    "start_time": "2025-04-23T19:03:50.367Z"
   },
   {
    "duration": 31,
    "start_time": "2025-04-23T19:04:00.011Z"
   },
   {
    "duration": 23,
    "start_time": "2025-04-23T19:04:08.861Z"
   },
   {
    "duration": 24,
    "start_time": "2025-04-23T19:04:23.894Z"
   },
   {
    "duration": 34,
    "start_time": "2025-04-23T19:04:29.530Z"
   },
   {
    "duration": 42,
    "start_time": "2025-04-23T19:04:34.801Z"
   },
   {
    "duration": 196,
    "start_time": "2025-04-23T19:07:09.407Z"
   },
   {
    "duration": 174,
    "start_time": "2025-04-23T19:07:21.289Z"
   },
   {
    "duration": 205,
    "start_time": "2025-04-23T19:07:30.558Z"
   },
   {
    "duration": 190,
    "start_time": "2025-04-23T19:11:49.910Z"
   },
   {
    "duration": 402,
    "start_time": "2025-04-23T19:12:04.753Z"
   },
   {
    "duration": 12,
    "start_time": "2025-04-23T19:12:19.719Z"
   },
   {
    "duration": 825,
    "start_time": "2025-04-23T19:12:46.914Z"
   },
   {
    "duration": 2,
    "start_time": "2025-04-23T19:20:51.983Z"
   },
   {
    "duration": 12,
    "start_time": "2025-04-23T19:21:03.218Z"
   },
   {
    "duration": 6,
    "start_time": "2025-04-23T19:21:25.854Z"
   },
   {
    "duration": 843,
    "start_time": "2025-04-23T19:21:26.724Z"
   },
   {
    "duration": 236,
    "start_time": "2025-04-23T19:22:04.524Z"
   },
   {
    "duration": 3,
    "start_time": "2025-04-23T19:22:26.634Z"
   },
   {
    "duration": 169,
    "start_time": "2025-04-23T19:22:33.324Z"
   },
   {
    "duration": 7,
    "start_time": "2025-04-23T19:22:38.619Z"
   },
   {
    "duration": 9,
    "start_time": "2025-04-23T19:32:08.055Z"
   },
   {
    "duration": 8,
    "start_time": "2025-04-23T19:32:32.340Z"
   },
   {
    "duration": 10,
    "start_time": "2025-04-23T19:32:33.358Z"
   },
   {
    "duration": 491,
    "start_time": "2025-04-23T19:32:43.498Z"
   },
   {
    "duration": 869,
    "start_time": "2025-04-23T19:38:24.712Z"
   },
   {
    "duration": 13,
    "start_time": "2025-04-23T19:38:50.812Z"
   },
   {
    "duration": 5,
    "start_time": "2025-04-23T19:38:58.882Z"
   },
   {
    "duration": 9,
    "start_time": "2025-04-23T19:39:03.083Z"
   },
   {
    "duration": 5,
    "start_time": "2025-04-23T19:39:15.082Z"
   },
   {
    "duration": 15,
    "start_time": "2025-04-23T19:39:30.022Z"
   },
   {
    "duration": 28,
    "start_time": "2025-04-23T19:39:38.244Z"
   },
   {
    "duration": 5,
    "start_time": "2025-04-23T19:39:43.045Z"
   },
   {
    "duration": 66,
    "start_time": "2025-04-23T19:41:57.988Z"
   },
   {
    "duration": 75,
    "start_time": "2025-04-23T19:43:24.211Z"
   },
   {
    "duration": 3962,
    "start_time": "2025-04-23T19:43:31.044Z"
   },
   {
    "duration": 64,
    "start_time": "2025-04-23T19:43:36.005Z"
   },
   {
    "duration": 3,
    "start_time": "2025-04-23T19:44:02.729Z"
   },
   {
    "duration": 7,
    "start_time": "2025-04-23T19:44:34.560Z"
   },
   {
    "duration": 8,
    "start_time": "2025-04-23T19:46:55.533Z"
   },
   {
    "duration": 42195,
    "start_time": "2025-04-23T19:46:59.043Z"
   },
   {
    "duration": 8,
    "start_time": "2025-04-23T19:48:41.020Z"
   },
   {
    "duration": 207146,
    "start_time": "2025-04-23T19:48:49.371Z"
   },
   {
    "duration": 8,
    "start_time": "2025-04-24T08:51:14.891Z"
   },
   {
    "duration": 44,
    "start_time": "2025-04-24T08:51:42.925Z"
   },
   {
    "duration": 3939,
    "start_time": "2025-04-24T08:51:51.411Z"
   },
   {
    "duration": 1691,
    "start_time": "2025-04-24T08:51:55.353Z"
   },
   {
    "duration": 2,
    "start_time": "2025-04-24T08:51:57.046Z"
   },
   {
    "duration": 96,
    "start_time": "2025-04-24T08:51:57.050Z"
   },
   {
    "duration": 3,
    "start_time": "2025-04-24T08:51:57.148Z"
   },
   {
    "duration": 6,
    "start_time": "2025-04-24T08:51:57.152Z"
   },
   {
    "duration": 129,
    "start_time": "2025-04-24T08:51:57.159Z"
   },
   {
    "duration": 8,
    "start_time": "2025-04-24T08:51:57.290Z"
   },
   {
    "duration": 20,
    "start_time": "2025-04-24T08:51:57.299Z"
   },
   {
    "duration": 19,
    "start_time": "2025-04-24T08:51:57.321Z"
   },
   {
    "duration": 8,
    "start_time": "2025-04-24T08:51:57.341Z"
   },
   {
    "duration": 16,
    "start_time": "2025-04-24T08:51:57.350Z"
   },
   {
    "duration": 22,
    "start_time": "2025-04-24T08:51:57.367Z"
   },
   {
    "duration": 23,
    "start_time": "2025-04-24T08:51:57.392Z"
   },
   {
    "duration": 46,
    "start_time": "2025-04-24T08:51:57.417Z"
   },
   {
    "duration": 7,
    "start_time": "2025-04-24T08:51:57.465Z"
   },
   {
    "duration": 11,
    "start_time": "2025-04-24T08:51:57.473Z"
   },
   {
    "duration": 10,
    "start_time": "2025-04-24T08:51:57.485Z"
   },
   {
    "duration": 8,
    "start_time": "2025-04-24T08:51:57.496Z"
   },
   {
    "duration": 63,
    "start_time": "2025-04-24T08:51:57.505Z"
   },
   {
    "duration": 218,
    "start_time": "2025-04-24T08:51:57.569Z"
   },
   {
    "duration": 165,
    "start_time": "2025-04-24T08:51:57.789Z"
   },
   {
    "duration": 238,
    "start_time": "2025-04-24T08:51:57.956Z"
   },
   {
    "duration": 303,
    "start_time": "2025-04-24T08:51:58.195Z"
   },
   {
    "duration": 12,
    "start_time": "2025-04-24T08:51:58.499Z"
   },
   {
    "duration": 597,
    "start_time": "2025-04-24T08:51:58.512Z"
   },
   {
    "duration": 6,
    "start_time": "2025-04-24T08:51:59.110Z"
   },
   {
    "duration": 832,
    "start_time": "2025-04-24T08:51:59.117Z"
   },
   {
    "duration": 179,
    "start_time": "2025-04-24T08:51:59.951Z"
   },
   {
    "duration": 11,
    "start_time": "2025-04-24T08:52:00.131Z"
   },
   {
    "duration": 36,
    "start_time": "2025-04-24T08:52:00.144Z"
   },
   {
    "duration": 14,
    "start_time": "2025-04-24T08:52:00.182Z"
   },
   {
    "duration": 502,
    "start_time": "2025-04-24T08:52:00.198Z"
   },
   {
    "duration": 5,
    "start_time": "2025-04-24T08:52:00.702Z"
   },
   {
    "duration": 52,
    "start_time": "2025-04-24T08:52:00.709Z"
   },
   {
    "duration": 11,
    "start_time": "2025-04-24T08:52:00.763Z"
   },
   {
    "duration": 22,
    "start_time": "2025-04-24T08:52:00.775Z"
   },
   {
    "duration": 39,
    "start_time": "2025-04-24T08:52:00.799Z"
   },
   {
    "duration": 7,
    "start_time": "2025-04-24T08:52:00.839Z"
   },
   {
    "duration": 17,
    "start_time": "2025-04-24T08:52:00.847Z"
   },
   {
    "duration": 8,
    "start_time": "2025-04-24T08:52:00.868Z"
   },
   {
    "duration": 201448,
    "start_time": "2025-04-24T08:52:00.878Z"
   },
   {
    "duration": 3,
    "start_time": "2025-04-24T08:55:22.328Z"
   },
   {
    "duration": 117,
    "start_time": "2025-04-24T08:55:22.333Z"
   },
   {
    "duration": 0,
    "start_time": "2025-04-24T08:55:22.452Z"
   },
   {
    "duration": 0,
    "start_time": "2025-04-24T08:55:22.453Z"
   },
   {
    "duration": 49,
    "start_time": "2025-04-24T10:26:19.200Z"
   },
   {
    "duration": 3920,
    "start_time": "2025-04-24T10:26:24.811Z"
   },
   {
    "duration": 1688,
    "start_time": "2025-04-24T10:26:28.734Z"
   },
   {
    "duration": 3,
    "start_time": "2025-04-24T10:26:30.424Z"
   },
   {
    "duration": 106,
    "start_time": "2025-04-24T10:26:30.429Z"
   },
   {
    "duration": 4,
    "start_time": "2025-04-24T10:26:30.537Z"
   },
   {
    "duration": 6,
    "start_time": "2025-04-24T10:26:30.542Z"
   },
   {
    "duration": 147,
    "start_time": "2025-04-24T10:26:30.550Z"
   },
   {
    "duration": 10,
    "start_time": "2025-04-24T10:26:30.698Z"
   },
   {
    "duration": 12,
    "start_time": "2025-04-24T10:26:30.710Z"
   },
   {
    "duration": 19,
    "start_time": "2025-04-24T10:26:30.724Z"
   },
   {
    "duration": 28,
    "start_time": "2025-04-24T10:26:30.745Z"
   },
   {
    "duration": 15,
    "start_time": "2025-04-24T10:26:30.774Z"
   },
   {
    "duration": 5,
    "start_time": "2025-04-24T10:26:30.791Z"
   },
   {
    "duration": 36,
    "start_time": "2025-04-24T10:26:30.800Z"
   },
   {
    "duration": 42,
    "start_time": "2025-04-24T10:26:30.838Z"
   },
   {
    "duration": 9,
    "start_time": "2025-04-24T10:26:30.881Z"
   },
   {
    "duration": 28,
    "start_time": "2025-04-24T10:26:30.891Z"
   },
   {
    "duration": 22,
    "start_time": "2025-04-24T10:26:30.920Z"
   },
   {
    "duration": 8,
    "start_time": "2025-04-24T10:26:30.944Z"
   },
   {
    "duration": 108,
    "start_time": "2025-04-24T10:26:30.954Z"
   },
   {
    "duration": 210,
    "start_time": "2025-04-24T10:26:31.063Z"
   },
   {
    "duration": 170,
    "start_time": "2025-04-24T10:26:31.275Z"
   },
   {
    "duration": 264,
    "start_time": "2025-04-24T10:26:31.447Z"
   },
   {
    "duration": 361,
    "start_time": "2025-04-24T10:26:31.713Z"
   },
   {
    "duration": 13,
    "start_time": "2025-04-24T10:26:32.077Z"
   },
   {
    "duration": 663,
    "start_time": "2025-04-24T10:26:32.092Z"
   },
   {
    "duration": 6,
    "start_time": "2025-04-24T10:26:32.757Z"
   },
   {
    "duration": 907,
    "start_time": "2025-04-24T10:26:32.765Z"
   },
   {
    "duration": 194,
    "start_time": "2025-04-24T10:26:33.674Z"
   },
   {
    "duration": 9,
    "start_time": "2025-04-24T10:26:33.869Z"
   },
   {
    "duration": 89,
    "start_time": "2025-04-24T10:26:33.880Z"
   },
   {
    "duration": 50,
    "start_time": "2025-04-24T10:26:33.971Z"
   },
   {
    "duration": 490,
    "start_time": "2025-04-24T10:26:34.024Z"
   },
   {
    "duration": 5,
    "start_time": "2025-04-24T10:26:34.516Z"
   },
   {
    "duration": 31,
    "start_time": "2025-04-24T10:26:34.523Z"
   },
   {
    "duration": 5,
    "start_time": "2025-04-24T10:26:34.556Z"
   },
   {
    "duration": 19,
    "start_time": "2025-04-24T10:26:34.563Z"
   },
   {
    "duration": 32,
    "start_time": "2025-04-24T10:26:34.584Z"
   },
   {
    "duration": 5,
    "start_time": "2025-04-24T10:26:34.618Z"
   },
   {
    "duration": 20,
    "start_time": "2025-04-24T10:26:34.624Z"
   },
   {
    "duration": 13,
    "start_time": "2025-04-24T10:26:34.648Z"
   },
   {
    "duration": 221050,
    "start_time": "2025-04-24T10:26:34.662Z"
   },
   {
    "duration": 3,
    "start_time": "2025-04-24T10:30:15.713Z"
   },
   {
    "duration": 733,
    "start_time": "2025-04-24T10:30:15.718Z"
   },
   {
    "duration": 0,
    "start_time": "2025-04-24T10:30:16.453Z"
   },
   {
    "duration": 0,
    "start_time": "2025-04-24T10:30:16.454Z"
   },
   {
    "duration": 0,
    "start_time": "2025-04-24T10:30:16.455Z"
   },
   {
    "duration": 3174,
    "start_time": "2025-04-24T10:33:50.981Z"
   },
   {
    "duration": 15,
    "start_time": "2025-04-24T10:33:56.699Z"
   },
   {
    "duration": 5,
    "start_time": "2025-04-24T10:34:22.519Z"
   },
   {
    "duration": 8,
    "start_time": "2025-04-24T10:34:26.764Z"
   },
   {
    "duration": 4,
    "start_time": "2025-04-24T10:34:28.611Z"
   },
   {
    "duration": 6,
    "start_time": "2025-04-24T10:34:29.546Z"
   },
   {
    "duration": 2534,
    "start_time": "2025-04-24T11:12:44.794Z"
   },
   {
    "duration": 1560,
    "start_time": "2025-04-24T11:12:47.331Z"
   },
   {
    "duration": 3,
    "start_time": "2025-04-24T11:12:48.892Z"
   },
   {
    "duration": 103,
    "start_time": "2025-04-24T11:12:48.897Z"
   },
   {
    "duration": 2,
    "start_time": "2025-04-24T11:12:49.002Z"
   },
   {
    "duration": 34,
    "start_time": "2025-04-24T11:12:49.006Z"
   },
   {
    "duration": 127,
    "start_time": "2025-04-24T11:12:49.042Z"
   },
   {
    "duration": 12,
    "start_time": "2025-04-24T11:12:49.670Z"
   },
   {
    "duration": 8,
    "start_time": "2025-04-24T11:12:49.994Z"
   },
   {
    "duration": 736,
    "start_time": "2025-04-24T11:12:50.431Z"
   },
   {
    "duration": 6,
    "start_time": "2025-04-24T11:13:17.199Z"
   },
   {
    "duration": 10,
    "start_time": "2025-04-24T11:13:18.771Z"
   },
   {
    "duration": 13,
    "start_time": "2025-04-24T11:13:19.511Z"
   },
   {
    "duration": 4,
    "start_time": "2025-04-24T11:13:21.034Z"
   },
   {
    "duration": 27,
    "start_time": "2025-04-24T11:13:21.870Z"
   },
   {
    "duration": 10,
    "start_time": "2025-04-24T11:13:22.523Z"
   },
   {
    "duration": 13,
    "start_time": "2025-04-24T11:13:44.123Z"
   },
   {
    "duration": 7,
    "start_time": "2025-04-24T11:13:45.164Z"
   },
   {
    "duration": 27,
    "start_time": "2025-04-24T11:13:45.971Z"
   },
   {
    "duration": 8,
    "start_time": "2025-04-24T11:13:47.804Z"
   },
   {
    "duration": 11,
    "start_time": "2025-04-24T11:13:48.920Z"
   },
   {
    "duration": 92,
    "start_time": "2025-04-24T11:14:01.729Z"
   },
   {
    "duration": 10,
    "start_time": "2025-04-24T11:14:06.249Z"
   },
   {
    "duration": 8,
    "start_time": "2025-04-24T11:14:17.660Z"
   },
   {
    "duration": 12,
    "start_time": "2025-04-24T11:14:28.069Z"
   },
   {
    "duration": 10,
    "start_time": "2025-04-24T11:14:31.584Z"
   },
   {
    "duration": 17,
    "start_time": "2025-04-24T11:15:23.815Z"
   },
   {
    "duration": 20,
    "start_time": "2025-04-24T11:15:26.596Z"
   },
   {
    "duration": 15,
    "start_time": "2025-04-24T11:15:27.395Z"
   },
   {
    "duration": 19,
    "start_time": "2025-04-24T11:17:03.195Z"
   },
   {
    "duration": 23,
    "start_time": "2025-04-24T11:17:56.933Z"
   },
   {
    "duration": 4,
    "start_time": "2025-04-24T11:18:09.788Z"
   },
   {
    "duration": 3,
    "start_time": "2025-04-24T11:18:10.281Z"
   },
   {
    "duration": 100,
    "start_time": "2025-04-24T11:18:10.306Z"
   },
   {
    "duration": 3,
    "start_time": "2025-04-24T11:18:10.408Z"
   },
   {
    "duration": 9,
    "start_time": "2025-04-24T11:18:10.413Z"
   },
   {
    "duration": 135,
    "start_time": "2025-04-24T11:18:10.424Z"
   },
   {
    "duration": 9,
    "start_time": "2025-04-24T11:18:10.561Z"
   },
   {
    "duration": 8,
    "start_time": "2025-04-24T11:18:10.576Z"
   },
   {
    "duration": 6,
    "start_time": "2025-04-24T11:18:10.614Z"
   },
   {
    "duration": 9,
    "start_time": "2025-04-24T11:18:10.657Z"
   },
   {
    "duration": 12,
    "start_time": "2025-04-24T11:18:10.734Z"
   },
   {
    "duration": 5,
    "start_time": "2025-04-24T11:18:10.795Z"
   },
   {
    "duration": 26,
    "start_time": "2025-04-24T11:18:11.515Z"
   },
   {
    "duration": 9,
    "start_time": "2025-04-24T11:18:11.846Z"
   },
   {
    "duration": 10,
    "start_time": "2025-04-24T11:18:12.145Z"
   },
   {
    "duration": 8,
    "start_time": "2025-04-24T11:18:12.456Z"
   },
   {
    "duration": 12,
    "start_time": "2025-04-24T11:18:14.057Z"
   },
   {
    "duration": 16,
    "start_time": "2025-04-24T11:18:15.426Z"
   },
   {
    "duration": 10,
    "start_time": "2025-04-24T11:19:28.966Z"
   },
   {
    "duration": 8,
    "start_time": "2025-04-24T11:19:30.796Z"
   },
   {
    "duration": 40,
    "start_time": "2025-04-24T11:19:32.856Z"
   },
   {
    "duration": 1242,
    "start_time": "2025-04-24T11:19:47.707Z"
   },
   {
    "duration": 0,
    "start_time": "2025-04-24T11:19:48.951Z"
   },
   {
    "duration": 0,
    "start_time": "2025-04-24T11:19:48.952Z"
   },
   {
    "duration": 0,
    "start_time": "2025-04-24T11:19:48.954Z"
   },
   {
    "duration": 0,
    "start_time": "2025-04-24T11:19:48.955Z"
   },
   {
    "duration": 732,
    "start_time": "2025-04-24T11:19:49.215Z"
   },
   {
    "duration": 8,
    "start_time": "2025-04-24T11:19:49.950Z"
   },
   {
    "duration": 817,
    "start_time": "2025-04-24T11:19:49.960Z"
   },
   {
    "duration": 187,
    "start_time": "2025-04-24T11:19:50.780Z"
   },
   {
    "duration": 7,
    "start_time": "2025-04-24T11:19:50.970Z"
   },
   {
    "duration": 17,
    "start_time": "2025-04-24T11:19:51.080Z"
   },
   {
    "duration": 7,
    "start_time": "2025-04-24T11:20:23.670Z"
   },
   {
    "duration": 9,
    "start_time": "2025-04-24T11:20:24.428Z"
   },
   {
    "duration": 441,
    "start_time": "2025-04-24T11:20:25.754Z"
   },
   {
    "duration": 5,
    "start_time": "2025-04-24T11:20:54.462Z"
   },
   {
    "duration": 9,
    "start_time": "2025-04-24T11:20:55.514Z"
   },
   {
    "duration": 4,
    "start_time": "2025-04-24T11:20:56.563Z"
   },
   {
    "duration": 12,
    "start_time": "2025-04-24T11:20:57.984Z"
   },
   {
    "duration": 1323,
    "start_time": "2025-04-24T11:20:59.960Z"
   },
   {
    "duration": 4,
    "start_time": "2025-04-24T11:21:21.301Z"
   },
   {
    "duration": 11,
    "start_time": "2025-04-24T11:21:22.733Z"
   },
   {
    "duration": 27,
    "start_time": "2025-04-24T11:21:23.254Z"
   },
   {
    "duration": 7,
    "start_time": "2025-04-24T11:21:24.678Z"
   },
   {
    "duration": 3,
    "start_time": "2025-04-24T11:21:29.110Z"
   },
   {
    "duration": 8,
    "start_time": "2025-04-24T11:21:30.675Z"
   },
   {
    "duration": 8,
    "start_time": "2025-04-24T11:24:23.770Z"
   },
   {
    "duration": 192443,
    "start_time": "2025-04-24T11:24:23.780Z"
   },
   {
    "duration": 4195,
    "start_time": "2025-04-24T18:16:39.746Z"
   },
   {
    "duration": 1996,
    "start_time": "2025-04-24T18:16:45.762Z"
   },
   {
    "duration": 4,
    "start_time": "2025-04-24T18:16:47.760Z"
   },
   {
    "duration": 97,
    "start_time": "2025-04-24T18:16:47.765Z"
   },
   {
    "duration": 3,
    "start_time": "2025-04-24T18:16:49.309Z"
   },
   {
    "duration": 6,
    "start_time": "2025-04-24T18:16:49.640Z"
   },
   {
    "duration": 138,
    "start_time": "2025-04-24T18:16:51.002Z"
   },
   {
    "duration": 10,
    "start_time": "2025-04-24T18:17:14.410Z"
   },
   {
    "duration": 6,
    "start_time": "2025-04-24T18:17:27.049Z"
   },
   {
    "duration": 11,
    "start_time": "2025-04-24T18:18:16.772Z"
   },
   {
    "duration": 8,
    "start_time": "2025-04-24T18:18:25.157Z"
   },
   {
    "duration": 6,
    "start_time": "2025-04-24T18:19:38.284Z"
   },
   {
    "duration": 86,
    "start_time": "2025-04-24T18:19:54.876Z"
   },
   {
    "duration": 26,
    "start_time": "2025-04-24T18:19:59.582Z"
   },
   {
    "duration": 6,
    "start_time": "2025-04-24T18:21:34.730Z"
   },
   {
    "duration": 29,
    "start_time": "2025-04-24T18:21:48.695Z"
   },
   {
    "duration": 3720,
    "start_time": "2025-04-24T18:22:20.493Z"
   },
   {
    "duration": 138,
    "start_time": "2025-04-24T18:22:25.969Z"
   },
   {
    "duration": 9,
    "start_time": "2025-04-24T18:52:35.016Z"
   },
   {
    "duration": 10,
    "start_time": "2025-04-24T18:52:45.076Z"
   },
   {
    "duration": 17,
    "start_time": "2025-04-24T18:52:58.801Z"
   },
   {
    "duration": 8,
    "start_time": "2025-04-24T18:57:24.006Z"
   },
   {
    "duration": 4,
    "start_time": "2025-04-24T18:57:35.840Z"
   },
   {
    "duration": 8,
    "start_time": "2025-04-24T18:57:46.624Z"
   },
   {
    "duration": 12,
    "start_time": "2025-04-24T18:57:54.561Z"
   },
   {
    "duration": 45,
    "start_time": "2025-04-24T18:58:39.157Z"
   },
   {
    "duration": 195,
    "start_time": "2025-04-24T18:58:52.912Z"
   },
   {
    "duration": 170,
    "start_time": "2025-04-24T18:58:54.889Z"
   },
   {
    "duration": 253,
    "start_time": "2025-04-24T18:58:55.670Z"
   },
   {
    "duration": 360,
    "start_time": "2025-04-24T18:58:56.028Z"
   },
   {
    "duration": 18,
    "start_time": "2025-04-24T18:58:57.622Z"
   },
   {
    "duration": 4,
    "start_time": "2025-04-24T19:00:42.015Z"
   },
   {
    "duration": 12,
    "start_time": "2025-04-24T19:01:15.787Z"
   },
   {
    "duration": 3,
    "start_time": "2025-04-24T19:01:46.584Z"
   },
   {
    "duration": 3,
    "start_time": "2025-04-24T19:01:59.757Z"
   },
   {
    "duration": 20,
    "start_time": "2025-04-24T19:02:11.754Z"
   },
   {
    "duration": 513,
    "start_time": "2025-04-24T19:02:29.319Z"
   },
   {
    "duration": 21,
    "start_time": "2025-04-24T19:04:28.285Z"
   },
   {
    "duration": 502,
    "start_time": "2025-04-24T19:04:32.425Z"
   },
   {
    "duration": 692,
    "start_time": "2025-04-24T19:05:03.799Z"
   },
   {
    "duration": 24,
    "start_time": "2025-04-24T19:05:05.118Z"
   },
   {
    "duration": 1029,
    "start_time": "2025-04-24T19:05:05.434Z"
   },
   {
    "duration": 879,
    "start_time": "2025-04-24T19:05:11.616Z"
   },
   {
    "duration": 185,
    "start_time": "2025-04-24T19:05:13.639Z"
   },
   {
    "duration": 6,
    "start_time": "2025-04-24T19:05:20.732Z"
   },
   {
    "duration": 3,
    "start_time": "2025-04-24T19:06:54.916Z"
   },
   {
    "duration": 5,
    "start_time": "2025-04-24T19:08:57.686Z"
   },
   {
    "duration": 10,
    "start_time": "2025-04-24T19:08:59.953Z"
   },
   {
    "duration": 4,
    "start_time": "2025-04-24T19:09:25.962Z"
   },
   {
    "duration": 13,
    "start_time": "2025-04-24T19:09:53.727Z"
   },
   {
    "duration": 4,
    "start_time": "2025-04-24T19:10:56.145Z"
   },
   {
    "duration": 18939,
    "start_time": "2025-04-24T19:11:03.944Z"
   },
   {
    "duration": 5,
    "start_time": "2025-04-24T19:13:12.855Z"
   },
   {
    "duration": 10,
    "start_time": "2025-04-24T19:13:14.566Z"
   },
   {
    "duration": 4,
    "start_time": "2025-04-24T19:13:15.116Z"
   },
   {
    "duration": 4,
    "start_time": "2025-04-24T19:13:52.861Z"
   },
   {
    "duration": 11,
    "start_time": "2025-04-24T19:14:04.320Z"
   },
   {
    "duration": 11,
    "start_time": "2025-04-24T19:14:28.965Z"
   },
   {
    "duration": 3,
    "start_time": "2025-04-24T19:15:07.021Z"
   },
   {
    "duration": 414018,
    "start_time": "2025-04-24T19:15:26.761Z"
   },
   {
    "duration": 9,
    "start_time": "2025-04-24T19:22:20.780Z"
   },
   {
    "duration": 13,
    "start_time": "2025-04-24T19:35:11.949Z"
   },
   {
    "duration": 12,
    "start_time": "2025-04-24T19:36:14.075Z"
   },
   {
    "duration": 15,
    "start_time": "2025-04-24T19:36:22.796Z"
   },
   {
    "duration": 4,
    "start_time": "2025-04-24T19:37:24.252Z"
   },
   {
    "duration": 14,
    "start_time": "2025-04-24T19:37:35.457Z"
   },
   {
    "duration": 386,
    "start_time": "2025-04-24T19:38:07.932Z"
   },
   {
    "duration": 12,
    "start_time": "2025-04-24T19:40:47.915Z"
   },
   {
    "duration": 4,
    "start_time": "2025-04-24T19:47:18.301Z"
   },
   {
    "duration": 5,
    "start_time": "2025-04-24T19:50:01.663Z"
   },
   {
    "duration": 3,
    "start_time": "2025-04-24T19:50:06.072Z"
   },
   {
    "duration": 2869,
    "start_time": "2025-04-24T19:50:44.054Z"
   },
   {
    "duration": 11,
    "start_time": "2025-04-24T19:53:19.733Z"
   },
   {
    "duration": 3,
    "start_time": "2025-04-24T19:53:20.280Z"
   },
   {
    "duration": 408059,
    "start_time": "2025-04-24T19:53:20.916Z"
   },
   {
    "duration": 10,
    "start_time": "2025-04-24T20:00:08.977Z"
   },
   {
    "duration": 38,
    "start_time": "2025-04-24T20:00:08.989Z"
   },
   {
    "duration": 1,
    "start_time": "2025-04-24T20:00:09.028Z"
   },
   {
    "duration": 5,
    "start_time": "2025-04-24T20:01:37.244Z"
   },
   {
    "duration": 16,
    "start_time": "2025-04-24T20:01:45.932Z"
   },
   {
    "duration": 7167,
    "start_time": "2025-04-24T20:02:49.968Z"
   },
   {
    "duration": 7,
    "start_time": "2025-04-24T20:02:57.769Z"
   },
   {
    "duration": 25,
    "start_time": "2025-04-24T20:03:02.119Z"
   },
   {
    "duration": 5,
    "start_time": "2025-04-24T20:03:25.532Z"
   },
   {
    "duration": 19,
    "start_time": "2025-04-24T20:03:29.136Z"
   },
   {
    "duration": 19,
    "start_time": "2025-04-24T20:03:41.225Z"
   },
   {
    "duration": 5,
    "start_time": "2025-04-24T20:04:50.163Z"
   },
   {
    "duration": 4,
    "start_time": "2025-04-24T20:04:51.049Z"
   },
   {
    "duration": 5,
    "start_time": "2025-04-24T20:05:44.227Z"
   },
   {
    "duration": 918,
    "start_time": "2025-04-24T20:05:58.417Z"
   },
   {
    "duration": 836,
    "start_time": "2025-04-24T20:07:41.693Z"
   },
   {
    "duration": 10,
    "start_time": "2025-04-24T20:09:17.215Z"
   },
   {
    "duration": 856,
    "start_time": "2025-04-24T20:09:47.596Z"
   },
   {
    "duration": 12,
    "start_time": "2025-04-24T20:10:22.190Z"
   },
   {
    "duration": 15,
    "start_time": "2025-04-24T20:11:08.844Z"
   },
   {
    "duration": 293,
    "start_time": "2025-04-24T20:11:15.848Z"
   },
   {
    "duration": 781,
    "start_time": "2025-04-24T20:12:02.129Z"
   },
   {
    "duration": 3,
    "start_time": "2025-04-24T20:13:48.843Z"
   },
   {
    "duration": 420733,
    "start_time": "2025-04-24T20:13:51.160Z"
   },
   {
    "duration": 21,
    "start_time": "2025-04-24T20:20:51.895Z"
   },
   {
    "duration": 35,
    "start_time": "2025-04-24T20:21:41.098Z"
   },
   {
    "duration": 14,
    "start_time": "2025-04-24T20:22:27.044Z"
   },
   {
    "duration": 15,
    "start_time": "2025-04-24T20:22:41.719Z"
   },
   {
    "duration": 2766,
    "start_time": "2025-04-24T20:22:57.326Z"
   },
   {
    "duration": 3571,
    "start_time": "2025-04-24T20:23:00.095Z"
   },
   {
    "duration": 1369,
    "start_time": "2025-04-24T20:23:03.667Z"
   },
   {
    "duration": 4,
    "start_time": "2025-04-24T20:23:05.038Z"
   },
   {
    "duration": 26,
    "start_time": "2025-04-24T20:23:05.044Z"
   },
   {
    "duration": 103,
    "start_time": "2025-04-24T20:23:05.071Z"
   },
   {
    "duration": 3,
    "start_time": "2025-04-24T20:23:05.176Z"
   },
   {
    "duration": 14,
    "start_time": "2025-04-24T20:23:05.181Z"
   },
   {
    "duration": 155,
    "start_time": "2025-04-24T20:23:05.197Z"
   },
   {
    "duration": 10,
    "start_time": "2025-04-24T20:23:05.353Z"
   },
   {
    "duration": 12,
    "start_time": "2025-04-24T20:23:05.365Z"
   },
   {
    "duration": 22,
    "start_time": "2025-04-24T20:23:05.378Z"
   },
   {
    "duration": 16,
    "start_time": "2025-04-24T20:23:05.405Z"
   },
   {
    "duration": 33,
    "start_time": "2025-04-24T20:23:05.426Z"
   },
   {
    "duration": 33,
    "start_time": "2025-04-24T20:23:05.460Z"
   },
   {
    "duration": 5,
    "start_time": "2025-04-24T20:23:05.495Z"
   },
   {
    "duration": 154,
    "start_time": "2025-04-24T20:23:05.502Z"
   },
   {
    "duration": 3970,
    "start_time": "2025-04-24T20:23:05.657Z"
   },
   {
    "duration": 10,
    "start_time": "2025-04-24T20:23:09.629Z"
   },
   {
    "duration": 14,
    "start_time": "2025-04-24T20:23:09.641Z"
   },
   {
    "duration": 10,
    "start_time": "2025-04-24T20:23:09.657Z"
   },
   {
    "duration": 8,
    "start_time": "2025-04-24T20:23:09.669Z"
   },
   {
    "duration": 37,
    "start_time": "2025-04-24T20:23:09.678Z"
   },
   {
    "duration": 44,
    "start_time": "2025-04-24T20:23:09.717Z"
   },
   {
    "duration": 55,
    "start_time": "2025-04-24T20:23:09.763Z"
   },
   {
    "duration": 199,
    "start_time": "2025-04-24T20:23:09.819Z"
   },
   {
    "duration": 164,
    "start_time": "2025-04-24T20:23:10.020Z"
   },
   {
    "duration": 259,
    "start_time": "2025-04-24T20:23:10.186Z"
   },
   {
    "duration": 355,
    "start_time": "2025-04-24T20:23:10.446Z"
   },
   {
    "duration": 12,
    "start_time": "2025-04-24T20:23:10.803Z"
   },
   {
    "duration": 80,
    "start_time": "2025-04-24T20:23:10.818Z"
   },
   {
    "duration": 7,
    "start_time": "2025-04-24T20:23:10.900Z"
   },
   {
    "duration": 4,
    "start_time": "2025-04-24T20:23:10.916Z"
   },
   {
    "duration": 23,
    "start_time": "2025-04-24T20:23:10.922Z"
   },
   {
    "duration": 461,
    "start_time": "2025-04-24T20:23:10.947Z"
   },
   {
    "duration": 657,
    "start_time": "2025-04-24T20:23:11.409Z"
   },
   {
    "duration": 964,
    "start_time": "2025-04-24T20:23:12.067Z"
   },
   {
    "duration": 201,
    "start_time": "2025-04-24T20:23:13.034Z"
   },
   {
    "duration": 6,
    "start_time": "2025-04-24T20:23:13.236Z"
   },
   {
    "duration": 8,
    "start_time": "2025-04-24T20:23:13.244Z"
   },
   {
    "duration": 21,
    "start_time": "2025-04-24T20:23:13.255Z"
   },
   {
    "duration": 147,
    "start_time": "2025-04-24T20:23:13.277Z"
   },
   {
    "duration": 0,
    "start_time": "2025-04-24T20:23:13.426Z"
   },
   {
    "duration": 0,
    "start_time": "2025-04-24T20:23:13.427Z"
   },
   {
    "duration": 0,
    "start_time": "2025-04-24T20:23:13.428Z"
   },
   {
    "duration": 0,
    "start_time": "2025-04-24T20:23:13.430Z"
   },
   {
    "duration": 0,
    "start_time": "2025-04-24T20:23:13.431Z"
   },
   {
    "duration": 0,
    "start_time": "2025-04-24T20:23:13.432Z"
   },
   {
    "duration": 3472,
    "start_time": "2025-04-24T20:24:04.199Z"
   },
   {
    "duration": 5,
    "start_time": "2025-04-24T20:24:54.972Z"
   },
   {
    "duration": 22,
    "start_time": "2025-04-24T20:24:56.262Z"
   },
   {
    "duration": 5,
    "start_time": "2025-04-24T20:25:36.882Z"
   },
   {
    "duration": 16,
    "start_time": "2025-04-24T20:25:40.336Z"
   },
   {
    "duration": 3,
    "start_time": "2025-04-24T20:25:41.369Z"
   },
   {
    "duration": 419387,
    "start_time": "2025-04-24T20:25:42.108Z"
   },
   {
    "duration": 19,
    "start_time": "2025-04-24T20:32:41.497Z"
   },
   {
    "duration": 1129,
    "start_time": "2025-04-24T20:32:41.518Z"
   },
   {
    "duration": 321,
    "start_time": "2025-04-24T20:32:42.649Z"
   },
   {
    "duration": 5,
    "start_time": "2025-04-24T20:34:36.377Z"
   },
   {
    "duration": 64,
    "start_time": "2025-04-24T20:34:54.347Z"
   },
   {
    "duration": 12,
    "start_time": "2025-04-24T20:37:15.782Z"
   },
   {
    "duration": 3,
    "start_time": "2025-04-24T20:37:34.944Z"
   },
   {
    "duration": 17,
    "start_time": "2025-04-24T20:37:36.499Z"
   },
   {
    "duration": 3,
    "start_time": "2025-04-24T20:37:55.624Z"
   },
   {
    "duration": 508,
    "start_time": "2025-04-24T20:37:56.537Z"
   },
   {
    "duration": 217,
    "start_time": "2025-04-24T20:38:21.680Z"
   },
   {
    "duration": 345,
    "start_time": "2025-04-24T20:38:33.845Z"
   },
   {
    "duration": 4682,
    "start_time": "2025-04-25T21:41:41.093Z"
   },
   {
    "duration": 7251,
    "start_time": "2025-04-25T21:41:45.778Z"
   },
   {
    "duration": 1620,
    "start_time": "2025-04-25T21:41:53.031Z"
   },
   {
    "duration": 4,
    "start_time": "2025-04-25T21:41:54.654Z"
   },
   {
    "duration": 18,
    "start_time": "2025-04-25T21:41:54.660Z"
   },
   {
    "duration": 92,
    "start_time": "2025-04-25T21:41:54.680Z"
   },
   {
    "duration": 3,
    "start_time": "2025-04-25T21:41:57.446Z"
   },
   {
    "duration": 5,
    "start_time": "2025-04-25T21:41:57.820Z"
   },
   {
    "duration": 131,
    "start_time": "2025-04-25T21:41:58.289Z"
   },
   {
    "duration": 13,
    "start_time": "2025-04-25T21:42:01.513Z"
   },
   {
    "duration": 6,
    "start_time": "2025-04-25T21:42:02.158Z"
   },
   {
    "duration": 4,
    "start_time": "2025-04-25T21:42:42.315Z"
   },
   {
    "duration": 11,
    "start_time": "2025-04-25T21:43:22.514Z"
   },
   {
    "duration": 129,
    "start_time": "2025-04-25T21:45:49.428Z"
   },
   {
    "duration": 9,
    "start_time": "2025-04-25T21:45:57.016Z"
   },
   {
    "duration": 4,
    "start_time": "2025-04-25T21:45:57.856Z"
   },
   {
    "duration": 26,
    "start_time": "2025-04-25T21:45:58.110Z"
   },
   {
    "duration": 6,
    "start_time": "2025-04-25T21:45:58.591Z"
   },
   {
    "duration": 30,
    "start_time": "2025-04-25T21:45:59.312Z"
   },
   {
    "duration": 3940,
    "start_time": "2025-04-25T21:45:59.778Z"
   },
   {
    "duration": 9,
    "start_time": "2025-04-25T21:46:03.720Z"
   },
   {
    "duration": 21,
    "start_time": "2025-04-25T21:46:03.730Z"
   },
   {
    "duration": 7,
    "start_time": "2025-04-25T21:46:04.413Z"
   },
   {
    "duration": 4,
    "start_time": "2025-04-25T21:46:05.118Z"
   },
   {
    "duration": 7,
    "start_time": "2025-04-25T21:46:05.446Z"
   },
   {
    "duration": 11,
    "start_time": "2025-04-25T21:46:06.782Z"
   },
   {
    "duration": 43,
    "start_time": "2025-04-25T21:46:08.283Z"
   },
   {
    "duration": 15,
    "start_time": "2025-04-25T21:46:10.321Z"
   },
   {
    "duration": 10,
    "start_time": "2025-04-25T21:46:50.674Z"
   },
   {
    "duration": 12,
    "start_time": "2025-04-25T21:49:11.196Z"
   },
   {
    "duration": 15,
    "start_time": "2025-04-25T21:50:21.931Z"
   },
   {
    "duration": 1437,
    "start_time": "2025-04-25T21:50:43.254Z"
   },
   {
    "duration": 1383,
    "start_time": "2025-04-25T21:50:57.309Z"
   },
   {
    "duration": 4,
    "start_time": "2025-04-25T21:51:24.550Z"
   },
   {
    "duration": 11,
    "start_time": "2025-04-25T21:51:28.269Z"
   },
   {
    "duration": 213,
    "start_time": "2025-04-25T21:52:54.775Z"
   },
   {
    "duration": 172,
    "start_time": "2025-04-25T21:52:56.606Z"
   },
   {
    "duration": 245,
    "start_time": "2025-04-25T21:52:57.599Z"
   },
   {
    "duration": 337,
    "start_time": "2025-04-25T21:52:58.526Z"
   },
   {
    "duration": 10,
    "start_time": "2025-04-25T21:52:59.981Z"
   },
   {
    "duration": 3,
    "start_time": "2025-04-25T21:53:00.550Z"
   },
   {
    "duration": 3,
    "start_time": "2025-04-25T21:53:00.775Z"
   },
   {
    "duration": 19,
    "start_time": "2025-04-25T21:53:01.120Z"
   },
   {
    "duration": 548,
    "start_time": "2025-04-25T21:53:01.979Z"
   },
   {
    "duration": 695,
    "start_time": "2025-04-25T21:53:02.966Z"
   },
   {
    "duration": 1066,
    "start_time": "2025-04-25T21:53:06.116Z"
   },
   {
    "duration": 177,
    "start_time": "2025-04-25T21:53:07.765Z"
   },
   {
    "duration": 26,
    "start_time": "2025-04-25T21:55:39.567Z"
   },
   {
    "duration": 23,
    "start_time": "2025-04-25T21:55:50.775Z"
   },
   {
    "duration": 26,
    "start_time": "2025-04-25T21:56:15.750Z"
   },
   {
    "duration": 23,
    "start_time": "2025-04-25T21:56:43.712Z"
   },
   {
    "duration": 4,
    "start_time": "2025-04-25T22:02:34.794Z"
   },
   {
    "duration": 5,
    "start_time": "2025-04-25T22:02:52.329Z"
   },
   {
    "duration": 9,
    "start_time": "2025-04-25T22:02:52.958Z"
   },
   {
    "duration": 5,
    "start_time": "2025-04-25T22:02:53.351Z"
   },
   {
    "duration": 13,
    "start_time": "2025-04-25T22:03:01.943Z"
   },
   {
    "duration": 3,
    "start_time": "2025-04-25T22:03:03.189Z"
   },
   {
    "duration": 105849,
    "start_time": "2025-04-25T22:06:04.069Z"
   },
   {
    "duration": 359297,
    "start_time": "2025-04-25T22:07:55.846Z"
   },
   {
    "duration": 9,
    "start_time": "2025-04-25T22:13:55.145Z"
   },
   {
    "duration": 4,
    "start_time": "2025-04-25T22:13:55.233Z"
   },
   {
    "duration": 79,
    "start_time": "2025-04-25T22:13:55.238Z"
   },
   {
    "duration": 190,
    "start_time": "2025-04-25T22:13:55.319Z"
   },
   {
    "duration": 201,
    "start_time": "2025-04-25T22:13:55.510Z"
   },
   {
    "duration": 45,
    "start_time": "2025-04-25T22:16:43.286Z"
   },
   {
    "duration": 3,
    "start_time": "2025-04-25T22:16:53.786Z"
   },
   {
    "duration": 4,
    "start_time": "2025-04-25T22:16:54.686Z"
   },
   {
    "duration": 429,
    "start_time": "2025-04-25T22:16:55.336Z"
   }
  ],
  "kernelspec": {
   "display_name": "Python 3 (ipykernel)",
   "language": "python",
   "name": "python3"
  },
  "language_info": {
   "codemirror_mode": {
    "name": "ipython",
    "version": 3
   },
   "file_extension": ".py",
   "mimetype": "text/x-python",
   "name": "python",
   "nbconvert_exporter": "python",
   "pygments_lexer": "ipython3",
   "version": "3.9.5"
  },
  "toc": {
   "base_numbering": 1,
   "nav_menu": {
    "height": "367px",
    "width": "310px"
   },
   "number_sections": true,
   "sideBar": true,
   "skip_h1_title": true,
   "title_cell": "Table of Contents",
   "title_sidebar": "Contents",
   "toc_cell": false,
   "toc_position": {
    "height": "calc(100% - 180px)",
    "left": "10px",
    "top": "150px",
    "width": "280px"
   },
   "toc_section_display": true,
   "toc_window_display": true
  }
 },
 "nbformat": 4,
 "nbformat_minor": 5
}
