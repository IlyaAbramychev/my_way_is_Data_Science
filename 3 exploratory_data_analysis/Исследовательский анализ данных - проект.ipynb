{
 "cells": [
  {
   "cell_type": "markdown",
   "metadata": {
    "id": "-VFbjcb3Awb7"
   },
   "source": [
    "# Исследование объявлений о продаже квартир\n",
    "\n",
    "В вашем распоряжении данные сервиса Яндекс Недвижимость — архив объявлений о продаже квартир в Санкт-Петербурге и соседних населённых пунктах за несколько лет. Вам нужно научиться определять рыночную стоимость объектов недвижимости. Для этого проведите исследовательский анализ данных и установите параметры, влияющие на цену объектов. Это позволит построить автоматизированную систему: она отследит аномалии и мошенническую деятельность.\n",
    "\n",
    "По каждой квартире на продажу доступны два вида данных. Первые вписаны пользователем, вторые — получены автоматически на основе картографических данных. Например, расстояние до центра, аэропорта и других объектов — эти данные автоматически получены из геосервисов. Количество парков и водоёмов также заполняется без участия пользователя."
   ]
  },
  {
   "cell_type": "markdown",
   "metadata": {},
   "source": [
    "\n",
    "Для анализа даны данные сервиса Яндекс Недвижимость — архив объявлений о продаже квартир в Санкт-Петербурге и соседних населённых пунктах за несколько лет. Нужно научиться определять рыночную стоимость объектов недвижимости. Для этого проведем исследовательский анализ данных и установите параметры, влияющие на цену объектов. Это позволит построить автоматизированную систему: она отследит аномалии и мошенническую деятельность. \n",
    "По каждой квартире на продажу доступны два вида данных. Первые вписаны пользователем, вторые — получены автоматически на основе картографических данных. Например, расстояние до центра, аэропорта и других объектов — эти данные автоматически получены из геосервисов. Количество парков и водоёмов также заполняется без участия пользователя.\n",
    "\n",
    "***ОПИСАНИЕ ДАННЫХ***:\n",
    "\n",
    "- `airports_nearest` — расстояние до ближайшего аэропорта в метрах (м);\n",
    "- `balcony` — число балконов;\n",
    "- `ceiling_height` — высота потолков (м);\n",
    "- `cityCenters_nearest` — расстояние до центра города (м);\n",
    "- `days_exposition` — сколько дней было размещено объявление (от публикации до снятия);\n",
    "- `first_day_exposition` — дата публикации;\n",
    "- `floor` — этаж;\n",
    "- `floors_total` — всего этажей в доме;\n",
    "- `is_apartment` — апартаменты (булев тип);\n",
    "- `kitchen_area` — площадь кухни в квадратных метрах (м²);\n",
    "- `last_price` — цена на момент снятия с публикации;\n",
    "- `living_area` — жилая площадь в квадратных метрах (м²);\n",
    "- `locality_name` — название населённого пункта;\n",
    "- `open_plan` — свободная планировка (булев тип);\n",
    "- `parks_around3000` — число парков в радиусе 3 км;\n",
    "- `parks_nearest` — расстояние до ближайшего парка (м);\n",
    "- `ponds_around3000` — число водоёмов в радиусе 3 км;\n",
    "- `ponds_nearest` — расстояние до ближайшего водоёма (м);\n",
    "- `rooms` — число комнат;\n",
    "- `studio` — квартира-студия (булев тип);\n",
    "- `total_area` — общая площадь квартиры в квадратных метрах (м²);\n",
    "- `total_images` — число фотографий квартиры в объявлении"
   ]
  },
  {
   "cell_type": "code",
   "execution_count": 1,
   "metadata": {},
   "outputs": [],
   "source": [
    "import pandas as pd\n",
    "import matplotlib.pyplot as plt"
   ]
  },
  {
   "cell_type": "markdown",
   "metadata": {
    "id": "aeFLH07FAwb9"
   },
   "source": [
    "### Откройте файл с данными и изучите общую информацию"
   ]
  },
  {
   "cell_type": "code",
   "execution_count": 2,
   "metadata": {
    "id": "7MZxY65pAwb9"
   },
   "outputs": [
    {
     "name": "stdout",
     "output_type": "stream",
     "text": [
      "<class 'pandas.core.frame.DataFrame'>\n",
      "RangeIndex: 23699 entries, 0 to 23698\n",
      "Data columns (total 22 columns):\n",
      " #   Column                Non-Null Count  Dtype  \n",
      "---  ------                --------------  -----  \n",
      " 0   total_images          23699 non-null  int64  \n",
      " 1   last_price            23699 non-null  float64\n",
      " 2   total_area            23699 non-null  float64\n",
      " 3   first_day_exposition  23699 non-null  object \n",
      " 4   rooms                 23699 non-null  int64  \n",
      " 5   ceiling_height        14504 non-null  float64\n",
      " 6   floors_total          23613 non-null  float64\n",
      " 7   living_area           21796 non-null  float64\n",
      " 8   floor                 23699 non-null  int64  \n",
      " 9   is_apartment          2775 non-null   object \n",
      " 10  studio                23699 non-null  bool   \n",
      " 11  open_plan             23699 non-null  bool   \n",
      " 12  kitchen_area          21421 non-null  float64\n",
      " 13  balcony               12180 non-null  float64\n",
      " 14  locality_name         23650 non-null  object \n",
      " 15  airports_nearest      18157 non-null  float64\n",
      " 16  cityCenters_nearest   18180 non-null  float64\n",
      " 17  parks_around3000      18181 non-null  float64\n",
      " 18  parks_nearest         8079 non-null   float64\n",
      " 19  ponds_around3000      18181 non-null  float64\n",
      " 20  ponds_nearest         9110 non-null   float64\n",
      " 21  days_exposition       20518 non-null  float64\n",
      "dtypes: bool(2), float64(14), int64(3), object(3)\n",
      "memory usage: 3.7+ MB\n"
     ]
    }
   ],
   "source": [
    "data = pd.read_csv('/datasets/real_estate_data.csv', sep = '\\t')\n",
    "data.info()"
   ]
  },
  {
   "cell_type": "code",
   "execution_count": 3,
   "metadata": {},
   "outputs": [
    {
     "data": {
      "text/html": [
       "<div>\n",
       "<style scoped>\n",
       "    .dataframe tbody tr th:only-of-type {\n",
       "        vertical-align: middle;\n",
       "    }\n",
       "\n",
       "    .dataframe tbody tr th {\n",
       "        vertical-align: top;\n",
       "    }\n",
       "\n",
       "    .dataframe thead th {\n",
       "        text-align: right;\n",
       "    }\n",
       "</style>\n",
       "<table border=\"1\" class=\"dataframe\">\n",
       "  <thead>\n",
       "    <tr style=\"text-align: right;\">\n",
       "      <th></th>\n",
       "      <th>total_images</th>\n",
       "      <th>last_price</th>\n",
       "      <th>total_area</th>\n",
       "      <th>first_day_exposition</th>\n",
       "      <th>rooms</th>\n",
       "      <th>ceiling_height</th>\n",
       "      <th>floors_total</th>\n",
       "      <th>living_area</th>\n",
       "      <th>floor</th>\n",
       "      <th>is_apartment</th>\n",
       "      <th>...</th>\n",
       "      <th>kitchen_area</th>\n",
       "      <th>balcony</th>\n",
       "      <th>locality_name</th>\n",
       "      <th>airports_nearest</th>\n",
       "      <th>cityCenters_nearest</th>\n",
       "      <th>parks_around3000</th>\n",
       "      <th>parks_nearest</th>\n",
       "      <th>ponds_around3000</th>\n",
       "      <th>ponds_nearest</th>\n",
       "      <th>days_exposition</th>\n",
       "    </tr>\n",
       "  </thead>\n",
       "  <tbody>\n",
       "    <tr>\n",
       "      <th>0</th>\n",
       "      <td>20</td>\n",
       "      <td>13000000.0</td>\n",
       "      <td>108.00</td>\n",
       "      <td>2019-03-07T00:00:00</td>\n",
       "      <td>3</td>\n",
       "      <td>2.70</td>\n",
       "      <td>16.0</td>\n",
       "      <td>51.00</td>\n",
       "      <td>8</td>\n",
       "      <td>NaN</td>\n",
       "      <td>...</td>\n",
       "      <td>25.00</td>\n",
       "      <td>NaN</td>\n",
       "      <td>Санкт-Петербург</td>\n",
       "      <td>18863.0</td>\n",
       "      <td>16028.0</td>\n",
       "      <td>1.0</td>\n",
       "      <td>482.0</td>\n",
       "      <td>2.0</td>\n",
       "      <td>755.0</td>\n",
       "      <td>NaN</td>\n",
       "    </tr>\n",
       "    <tr>\n",
       "      <th>1</th>\n",
       "      <td>7</td>\n",
       "      <td>3350000.0</td>\n",
       "      <td>40.40</td>\n",
       "      <td>2018-12-04T00:00:00</td>\n",
       "      <td>1</td>\n",
       "      <td>NaN</td>\n",
       "      <td>11.0</td>\n",
       "      <td>18.60</td>\n",
       "      <td>1</td>\n",
       "      <td>NaN</td>\n",
       "      <td>...</td>\n",
       "      <td>11.00</td>\n",
       "      <td>2.0</td>\n",
       "      <td>посёлок Шушары</td>\n",
       "      <td>12817.0</td>\n",
       "      <td>18603.0</td>\n",
       "      <td>0.0</td>\n",
       "      <td>NaN</td>\n",
       "      <td>0.0</td>\n",
       "      <td>NaN</td>\n",
       "      <td>81.0</td>\n",
       "    </tr>\n",
       "    <tr>\n",
       "      <th>2</th>\n",
       "      <td>10</td>\n",
       "      <td>5196000.0</td>\n",
       "      <td>56.00</td>\n",
       "      <td>2015-08-20T00:00:00</td>\n",
       "      <td>2</td>\n",
       "      <td>NaN</td>\n",
       "      <td>5.0</td>\n",
       "      <td>34.30</td>\n",
       "      <td>4</td>\n",
       "      <td>NaN</td>\n",
       "      <td>...</td>\n",
       "      <td>8.30</td>\n",
       "      <td>0.0</td>\n",
       "      <td>Санкт-Петербург</td>\n",
       "      <td>21741.0</td>\n",
       "      <td>13933.0</td>\n",
       "      <td>1.0</td>\n",
       "      <td>90.0</td>\n",
       "      <td>2.0</td>\n",
       "      <td>574.0</td>\n",
       "      <td>558.0</td>\n",
       "    </tr>\n",
       "    <tr>\n",
       "      <th>3</th>\n",
       "      <td>0</td>\n",
       "      <td>64900000.0</td>\n",
       "      <td>159.00</td>\n",
       "      <td>2015-07-24T00:00:00</td>\n",
       "      <td>3</td>\n",
       "      <td>NaN</td>\n",
       "      <td>14.0</td>\n",
       "      <td>NaN</td>\n",
       "      <td>9</td>\n",
       "      <td>NaN</td>\n",
       "      <td>...</td>\n",
       "      <td>NaN</td>\n",
       "      <td>0.0</td>\n",
       "      <td>Санкт-Петербург</td>\n",
       "      <td>28098.0</td>\n",
       "      <td>6800.0</td>\n",
       "      <td>2.0</td>\n",
       "      <td>84.0</td>\n",
       "      <td>3.0</td>\n",
       "      <td>234.0</td>\n",
       "      <td>424.0</td>\n",
       "    </tr>\n",
       "    <tr>\n",
       "      <th>4</th>\n",
       "      <td>2</td>\n",
       "      <td>10000000.0</td>\n",
       "      <td>100.00</td>\n",
       "      <td>2018-06-19T00:00:00</td>\n",
       "      <td>2</td>\n",
       "      <td>3.03</td>\n",
       "      <td>14.0</td>\n",
       "      <td>32.00</td>\n",
       "      <td>13</td>\n",
       "      <td>NaN</td>\n",
       "      <td>...</td>\n",
       "      <td>41.00</td>\n",
       "      <td>NaN</td>\n",
       "      <td>Санкт-Петербург</td>\n",
       "      <td>31856.0</td>\n",
       "      <td>8098.0</td>\n",
       "      <td>2.0</td>\n",
       "      <td>112.0</td>\n",
       "      <td>1.0</td>\n",
       "      <td>48.0</td>\n",
       "      <td>121.0</td>\n",
       "    </tr>\n",
       "    <tr>\n",
       "      <th>5</th>\n",
       "      <td>10</td>\n",
       "      <td>2890000.0</td>\n",
       "      <td>30.40</td>\n",
       "      <td>2018-09-10T00:00:00</td>\n",
       "      <td>1</td>\n",
       "      <td>NaN</td>\n",
       "      <td>12.0</td>\n",
       "      <td>14.40</td>\n",
       "      <td>5</td>\n",
       "      <td>NaN</td>\n",
       "      <td>...</td>\n",
       "      <td>9.10</td>\n",
       "      <td>NaN</td>\n",
       "      <td>городской посёлок Янино-1</td>\n",
       "      <td>NaN</td>\n",
       "      <td>NaN</td>\n",
       "      <td>NaN</td>\n",
       "      <td>NaN</td>\n",
       "      <td>NaN</td>\n",
       "      <td>NaN</td>\n",
       "      <td>55.0</td>\n",
       "    </tr>\n",
       "    <tr>\n",
       "      <th>6</th>\n",
       "      <td>6</td>\n",
       "      <td>3700000.0</td>\n",
       "      <td>37.30</td>\n",
       "      <td>2017-11-02T00:00:00</td>\n",
       "      <td>1</td>\n",
       "      <td>NaN</td>\n",
       "      <td>26.0</td>\n",
       "      <td>10.60</td>\n",
       "      <td>6</td>\n",
       "      <td>NaN</td>\n",
       "      <td>...</td>\n",
       "      <td>14.40</td>\n",
       "      <td>1.0</td>\n",
       "      <td>посёлок Парголово</td>\n",
       "      <td>52996.0</td>\n",
       "      <td>19143.0</td>\n",
       "      <td>0.0</td>\n",
       "      <td>NaN</td>\n",
       "      <td>0.0</td>\n",
       "      <td>NaN</td>\n",
       "      <td>155.0</td>\n",
       "    </tr>\n",
       "    <tr>\n",
       "      <th>7</th>\n",
       "      <td>5</td>\n",
       "      <td>7915000.0</td>\n",
       "      <td>71.60</td>\n",
       "      <td>2019-04-18T00:00:00</td>\n",
       "      <td>2</td>\n",
       "      <td>NaN</td>\n",
       "      <td>24.0</td>\n",
       "      <td>NaN</td>\n",
       "      <td>22</td>\n",
       "      <td>NaN</td>\n",
       "      <td>...</td>\n",
       "      <td>18.90</td>\n",
       "      <td>2.0</td>\n",
       "      <td>Санкт-Петербург</td>\n",
       "      <td>23982.0</td>\n",
       "      <td>11634.0</td>\n",
       "      <td>0.0</td>\n",
       "      <td>NaN</td>\n",
       "      <td>0.0</td>\n",
       "      <td>NaN</td>\n",
       "      <td>NaN</td>\n",
       "    </tr>\n",
       "    <tr>\n",
       "      <th>8</th>\n",
       "      <td>20</td>\n",
       "      <td>2900000.0</td>\n",
       "      <td>33.16</td>\n",
       "      <td>2018-05-23T00:00:00</td>\n",
       "      <td>1</td>\n",
       "      <td>NaN</td>\n",
       "      <td>27.0</td>\n",
       "      <td>15.43</td>\n",
       "      <td>26</td>\n",
       "      <td>NaN</td>\n",
       "      <td>...</td>\n",
       "      <td>8.81</td>\n",
       "      <td>NaN</td>\n",
       "      <td>посёлок Мурино</td>\n",
       "      <td>NaN</td>\n",
       "      <td>NaN</td>\n",
       "      <td>NaN</td>\n",
       "      <td>NaN</td>\n",
       "      <td>NaN</td>\n",
       "      <td>NaN</td>\n",
       "      <td>189.0</td>\n",
       "    </tr>\n",
       "    <tr>\n",
       "      <th>9</th>\n",
       "      <td>18</td>\n",
       "      <td>5400000.0</td>\n",
       "      <td>61.00</td>\n",
       "      <td>2017-02-26T00:00:00</td>\n",
       "      <td>3</td>\n",
       "      <td>2.50</td>\n",
       "      <td>9.0</td>\n",
       "      <td>43.60</td>\n",
       "      <td>7</td>\n",
       "      <td>NaN</td>\n",
       "      <td>...</td>\n",
       "      <td>6.50</td>\n",
       "      <td>2.0</td>\n",
       "      <td>Санкт-Петербург</td>\n",
       "      <td>50898.0</td>\n",
       "      <td>15008.0</td>\n",
       "      <td>0.0</td>\n",
       "      <td>NaN</td>\n",
       "      <td>0.0</td>\n",
       "      <td>NaN</td>\n",
       "      <td>289.0</td>\n",
       "    </tr>\n",
       "  </tbody>\n",
       "</table>\n",
       "<p>10 rows × 22 columns</p>\n",
       "</div>"
      ],
      "text/plain": [
       "   total_images  last_price  total_area first_day_exposition  rooms  \\\n",
       "0            20  13000000.0      108.00  2019-03-07T00:00:00      3   \n",
       "1             7   3350000.0       40.40  2018-12-04T00:00:00      1   \n",
       "2            10   5196000.0       56.00  2015-08-20T00:00:00      2   \n",
       "3             0  64900000.0      159.00  2015-07-24T00:00:00      3   \n",
       "4             2  10000000.0      100.00  2018-06-19T00:00:00      2   \n",
       "5            10   2890000.0       30.40  2018-09-10T00:00:00      1   \n",
       "6             6   3700000.0       37.30  2017-11-02T00:00:00      1   \n",
       "7             5   7915000.0       71.60  2019-04-18T00:00:00      2   \n",
       "8            20   2900000.0       33.16  2018-05-23T00:00:00      1   \n",
       "9            18   5400000.0       61.00  2017-02-26T00:00:00      3   \n",
       "\n",
       "   ceiling_height  floors_total  living_area  floor is_apartment  ...  \\\n",
       "0            2.70          16.0        51.00      8          NaN  ...   \n",
       "1             NaN          11.0        18.60      1          NaN  ...   \n",
       "2             NaN           5.0        34.30      4          NaN  ...   \n",
       "3             NaN          14.0          NaN      9          NaN  ...   \n",
       "4            3.03          14.0        32.00     13          NaN  ...   \n",
       "5             NaN          12.0        14.40      5          NaN  ...   \n",
       "6             NaN          26.0        10.60      6          NaN  ...   \n",
       "7             NaN          24.0          NaN     22          NaN  ...   \n",
       "8             NaN          27.0        15.43     26          NaN  ...   \n",
       "9            2.50           9.0        43.60      7          NaN  ...   \n",
       "\n",
       "   kitchen_area  balcony              locality_name  airports_nearest  \\\n",
       "0         25.00      NaN            Санкт-Петербург           18863.0   \n",
       "1         11.00      2.0             посёлок Шушары           12817.0   \n",
       "2          8.30      0.0            Санкт-Петербург           21741.0   \n",
       "3           NaN      0.0            Санкт-Петербург           28098.0   \n",
       "4         41.00      NaN            Санкт-Петербург           31856.0   \n",
       "5          9.10      NaN  городской посёлок Янино-1               NaN   \n",
       "6         14.40      1.0          посёлок Парголово           52996.0   \n",
       "7         18.90      2.0            Санкт-Петербург           23982.0   \n",
       "8          8.81      NaN             посёлок Мурино               NaN   \n",
       "9          6.50      2.0            Санкт-Петербург           50898.0   \n",
       "\n",
       "  cityCenters_nearest  parks_around3000  parks_nearest  ponds_around3000  \\\n",
       "0             16028.0               1.0          482.0               2.0   \n",
       "1             18603.0               0.0            NaN               0.0   \n",
       "2             13933.0               1.0           90.0               2.0   \n",
       "3              6800.0               2.0           84.0               3.0   \n",
       "4              8098.0               2.0          112.0               1.0   \n",
       "5                 NaN               NaN            NaN               NaN   \n",
       "6             19143.0               0.0            NaN               0.0   \n",
       "7             11634.0               0.0            NaN               0.0   \n",
       "8                 NaN               NaN            NaN               NaN   \n",
       "9             15008.0               0.0            NaN               0.0   \n",
       "\n",
       "   ponds_nearest  days_exposition  \n",
       "0          755.0              NaN  \n",
       "1            NaN             81.0  \n",
       "2          574.0            558.0  \n",
       "3          234.0            424.0  \n",
       "4           48.0            121.0  \n",
       "5            NaN             55.0  \n",
       "6            NaN            155.0  \n",
       "7            NaN              NaN  \n",
       "8            NaN            189.0  \n",
       "9            NaN            289.0  \n",
       "\n",
       "[10 rows x 22 columns]"
      ]
     },
     "execution_count": 3,
     "metadata": {},
     "output_type": "execute_result"
    }
   ],
   "source": [
    "data.head(10)"
   ]
  },
  {
   "cell_type": "code",
   "execution_count": 4,
   "metadata": {},
   "outputs": [
    {
     "data": {
      "text/plain": [
       "0"
      ]
     },
     "execution_count": 4,
     "metadata": {},
     "output_type": "execute_result"
    }
   ],
   "source": [
    "data.duplicated().sum()"
   ]
  },
  {
   "cell_type": "code",
   "execution_count": 5,
   "metadata": {},
   "outputs": [
    {
     "data": {
      "image/png": "[encoded data removed]",
      "text/plain": [
       "<Figure size 1080x1440 with 20 Axes>"
      ]
     },
     "metadata": {
      "needs_background": "light"
     },
     "output_type": "display_data"
    }
   ],
   "source": [
    "data.hist(figsize = (15, 20))\n",
    "plt.show()"
   ]
  },
  {
   "cell_type": "markdown",
   "metadata": {},
   "source": [
    "После ознакомления с данными можно сказать, что в данных присутствуют пропуски, так как всего в наборе 23699 строк. Неполные наборы данных в следующих колонках:\n",
    "- ceiling_height;\n",
    "- floors_total;\n",
    "- living_area;\n",
    "- is_apartment;\n",
    "- kitchen_area;\n",
    "- balcony;\n",
    "- locality_name;\n",
    "- airports_nearest;\n",
    "- cityCenters_nearest;\n",
    "- parks_around3000;\n",
    "- parks_nearest;\n",
    "- ponds_around3000\n",
    "- ponds_nearest;\n",
    "- days_exposition.\n",
    "\n",
    "Помимо неполного набора данных следует привести колонку first_day_exposition к формату date_time.\n",
    "\n",
    "Дубликатов обнаружено не было.\n",
    "\n",
    "Из полученных гистрограмм можно подтвердить, что в данных есть пропуски, так как есть аномальные значения. "
   ]
  },
  {
   "cell_type": "markdown",
   "metadata": {
    "id": "-O5NtivEAwb9"
   },
   "source": [
    "### Выполните предобработку данных"
   ]
  },
  {
   "cell_type": "code",
   "execution_count": 6,
   "metadata": {
    "id": "7v3vAeTuAwb-"
   },
   "outputs": [
    {
     "data": {
      "text/html": [
       "<div>\n",
       "<style scoped>\n",
       "    .dataframe tbody tr th:only-of-type {\n",
       "        vertical-align: middle;\n",
       "    }\n",
       "\n",
       "    .dataframe tbody tr th {\n",
       "        vertical-align: top;\n",
       "    }\n",
       "\n",
       "    .dataframe thead th {\n",
       "        text-align: right;\n",
       "    }\n",
       "</style>\n",
       "<table border=\"1\" class=\"dataframe\">\n",
       "  <thead>\n",
       "    <tr style=\"text-align: right;\">\n",
       "      <th></th>\n",
       "      <th>total_images</th>\n",
       "      <th>last_price</th>\n",
       "      <th>total_area</th>\n",
       "      <th>first_day_exposition</th>\n",
       "      <th>rooms</th>\n",
       "      <th>ceiling_height</th>\n",
       "      <th>floors_total</th>\n",
       "      <th>living_area</th>\n",
       "      <th>floor</th>\n",
       "      <th>is_apartment</th>\n",
       "      <th>...</th>\n",
       "      <th>kitchen_area</th>\n",
       "      <th>balcony</th>\n",
       "      <th>locality_name</th>\n",
       "      <th>airports_nearest</th>\n",
       "      <th>cityCenters_nearest</th>\n",
       "      <th>parks_around3000</th>\n",
       "      <th>parks_nearest</th>\n",
       "      <th>ponds_around3000</th>\n",
       "      <th>ponds_nearest</th>\n",
       "      <th>days_exposition</th>\n",
       "    </tr>\n",
       "  </thead>\n",
       "  <tbody>\n",
       "    <tr>\n",
       "      <th>0</th>\n",
       "      <td>20</td>\n",
       "      <td>13000000.0</td>\n",
       "      <td>108.0</td>\n",
       "      <td>2019-03-07</td>\n",
       "      <td>3</td>\n",
       "      <td>2.70</td>\n",
       "      <td>16.0</td>\n",
       "      <td>51.0</td>\n",
       "      <td>8</td>\n",
       "      <td>NaN</td>\n",
       "      <td>...</td>\n",
       "      <td>25.0</td>\n",
       "      <td>NaN</td>\n",
       "      <td>Санкт-Петербург</td>\n",
       "      <td>18863.0</td>\n",
       "      <td>16028.0</td>\n",
       "      <td>1.0</td>\n",
       "      <td>482.0</td>\n",
       "      <td>2.0</td>\n",
       "      <td>755.0</td>\n",
       "      <td>NaN</td>\n",
       "    </tr>\n",
       "    <tr>\n",
       "      <th>1</th>\n",
       "      <td>7</td>\n",
       "      <td>3350000.0</td>\n",
       "      <td>40.4</td>\n",
       "      <td>2018-12-04</td>\n",
       "      <td>1</td>\n",
       "      <td>NaN</td>\n",
       "      <td>11.0</td>\n",
       "      <td>18.6</td>\n",
       "      <td>1</td>\n",
       "      <td>NaN</td>\n",
       "      <td>...</td>\n",
       "      <td>11.0</td>\n",
       "      <td>2.0</td>\n",
       "      <td>посёлок Шушары</td>\n",
       "      <td>12817.0</td>\n",
       "      <td>18603.0</td>\n",
       "      <td>0.0</td>\n",
       "      <td>NaN</td>\n",
       "      <td>0.0</td>\n",
       "      <td>NaN</td>\n",
       "      <td>81.0</td>\n",
       "    </tr>\n",
       "    <tr>\n",
       "      <th>2</th>\n",
       "      <td>10</td>\n",
       "      <td>5196000.0</td>\n",
       "      <td>56.0</td>\n",
       "      <td>2015-08-20</td>\n",
       "      <td>2</td>\n",
       "      <td>NaN</td>\n",
       "      <td>5.0</td>\n",
       "      <td>34.3</td>\n",
       "      <td>4</td>\n",
       "      <td>NaN</td>\n",
       "      <td>...</td>\n",
       "      <td>8.3</td>\n",
       "      <td>0.0</td>\n",
       "      <td>Санкт-Петербург</td>\n",
       "      <td>21741.0</td>\n",
       "      <td>13933.0</td>\n",
       "      <td>1.0</td>\n",
       "      <td>90.0</td>\n",
       "      <td>2.0</td>\n",
       "      <td>574.0</td>\n",
       "      <td>558.0</td>\n",
       "    </tr>\n",
       "    <tr>\n",
       "      <th>3</th>\n",
       "      <td>0</td>\n",
       "      <td>64900000.0</td>\n",
       "      <td>159.0</td>\n",
       "      <td>2015-07-24</td>\n",
       "      <td>3</td>\n",
       "      <td>NaN</td>\n",
       "      <td>14.0</td>\n",
       "      <td>NaN</td>\n",
       "      <td>9</td>\n",
       "      <td>NaN</td>\n",
       "      <td>...</td>\n",
       "      <td>NaN</td>\n",
       "      <td>0.0</td>\n",
       "      <td>Санкт-Петербург</td>\n",
       "      <td>28098.0</td>\n",
       "      <td>6800.0</td>\n",
       "      <td>2.0</td>\n",
       "      <td>84.0</td>\n",
       "      <td>3.0</td>\n",
       "      <td>234.0</td>\n",
       "      <td>424.0</td>\n",
       "    </tr>\n",
       "    <tr>\n",
       "      <th>4</th>\n",
       "      <td>2</td>\n",
       "      <td>10000000.0</td>\n",
       "      <td>100.0</td>\n",
       "      <td>2018-06-19</td>\n",
       "      <td>2</td>\n",
       "      <td>3.03</td>\n",
       "      <td>14.0</td>\n",
       "      <td>32.0</td>\n",
       "      <td>13</td>\n",
       "      <td>NaN</td>\n",
       "      <td>...</td>\n",
       "      <td>41.0</td>\n",
       "      <td>NaN</td>\n",
       "      <td>Санкт-Петербург</td>\n",
       "      <td>31856.0</td>\n",
       "      <td>8098.0</td>\n",
       "      <td>2.0</td>\n",
       "      <td>112.0</td>\n",
       "      <td>1.0</td>\n",
       "      <td>48.0</td>\n",
       "      <td>121.0</td>\n",
       "    </tr>\n",
       "  </tbody>\n",
       "</table>\n",
       "<p>5 rows × 22 columns</p>\n",
       "</div>"
      ],
      "text/plain": [
       "   total_images  last_price  total_area first_day_exposition  rooms  \\\n",
       "0            20  13000000.0       108.0           2019-03-07      3   \n",
       "1             7   3350000.0        40.4           2018-12-04      1   \n",
       "2            10   5196000.0        56.0           2015-08-20      2   \n",
       "3             0  64900000.0       159.0           2015-07-24      3   \n",
       "4             2  10000000.0       100.0           2018-06-19      2   \n",
       "\n",
       "   ceiling_height  floors_total  living_area  floor is_apartment  ...  \\\n",
       "0            2.70          16.0         51.0      8          NaN  ...   \n",
       "1             NaN          11.0         18.6      1          NaN  ...   \n",
       "2             NaN           5.0         34.3      4          NaN  ...   \n",
       "3             NaN          14.0          NaN      9          NaN  ...   \n",
       "4            3.03          14.0         32.0     13          NaN  ...   \n",
       "\n",
       "   kitchen_area  balcony    locality_name  airports_nearest  \\\n",
       "0          25.0      NaN  Санкт-Петербург           18863.0   \n",
       "1          11.0      2.0   посёлок Шушары           12817.0   \n",
       "2           8.3      0.0  Санкт-Петербург           21741.0   \n",
       "3           NaN      0.0  Санкт-Петербург           28098.0   \n",
       "4          41.0      NaN  Санкт-Петербург           31856.0   \n",
       "\n",
       "  cityCenters_nearest  parks_around3000  parks_nearest  ponds_around3000  \\\n",
       "0             16028.0               1.0          482.0               2.0   \n",
       "1             18603.0               0.0            NaN               0.0   \n",
       "2             13933.0               1.0           90.0               2.0   \n",
       "3              6800.0               2.0           84.0               3.0   \n",
       "4              8098.0               2.0          112.0               1.0   \n",
       "\n",
       "   ponds_nearest  days_exposition  \n",
       "0          755.0              NaN  \n",
       "1            NaN             81.0  \n",
       "2          574.0            558.0  \n",
       "3          234.0            424.0  \n",
       "4           48.0            121.0  \n",
       "\n",
       "[5 rows x 22 columns]"
      ]
     },
     "execution_count": 6,
     "metadata": {},
     "output_type": "execute_result"
    }
   ],
   "source": [
    "data['first_day_exposition'] = pd.to_datetime(data['first_day_exposition'],\n",
    "                                             format = '%Y-%m-%dT%H:%M:%S')\n",
    "data.head(5)"
   ]
  },
  {
   "cell_type": "code",
   "execution_count": 7,
   "metadata": {},
   "outputs": [],
   "source": [
    "data.rename(columns={'cityCenters_nearest': 'city_centers_nearest'}, inplace = True)"
   ]
  },
  {
   "cell_type": "markdown",
   "metadata": {},
   "source": [
    "Переименовали столбец cityCenters_nearest --> city_centers_nearest"
   ]
  },
  {
   "cell_type": "code",
   "execution_count": 8,
   "metadata": {},
   "outputs": [
    {
     "data": {
      "text/plain": [
       "total_images                0\n",
       "last_price                  0\n",
       "total_area                  0\n",
       "first_day_exposition        0\n",
       "rooms                       0\n",
       "ceiling_height           9195\n",
       "floors_total               86\n",
       "living_area              1903\n",
       "floor                       0\n",
       "is_apartment            20924\n",
       "studio                      0\n",
       "open_plan                   0\n",
       "kitchen_area             2278\n",
       "balcony                 11519\n",
       "locality_name              49\n",
       "airports_nearest         5542\n",
       "city_centers_nearest     5519\n",
       "parks_around3000         5518\n",
       "parks_nearest           15620\n",
       "ponds_around3000         5518\n",
       "ponds_nearest           14589\n",
       "days_exposition          3181\n",
       "dtype: int64"
      ]
     },
     "execution_count": 8,
     "metadata": {},
     "output_type": "execute_result"
    }
   ],
   "source": [
    "data.isna().sum() # сумма пропусков по колонкам"
   ]
  },
  {
   "cell_type": "code",
   "execution_count": 9,
   "metadata": {},
   "outputs": [
    {
     "data": {
      "text/plain": [
       "total_images             0.000000\n",
       "last_price               0.000000\n",
       "total_area               0.000000\n",
       "first_day_exposition     0.000000\n",
       "rooms                    0.000000\n",
       "ceiling_height          38.799105\n",
       "floors_total             0.362885\n",
       "living_area              8.029875\n",
       "floor                    0.000000\n",
       "is_apartment            88.290645\n",
       "studio                   0.000000\n",
       "open_plan                0.000000\n",
       "kitchen_area             9.612220\n",
       "balcony                 48.605426\n",
       "locality_name            0.206760\n",
       "airports_nearest        23.384953\n",
       "city_centers_nearest    23.287902\n",
       "parks_around3000        23.283683\n",
       "parks_nearest           65.909954\n",
       "ponds_around3000        23.283683\n",
       "ponds_nearest           61.559559\n",
       "days_exposition         13.422507\n",
       "dtype: float64"
      ]
     },
     "execution_count": 9,
     "metadata": {},
     "output_type": "execute_result"
    }
   ],
   "source": [
    "#второй вариант\n",
    "data.isnull().sum()*100/len(data)"
   ]
  },
  {
   "cell_type": "code",
   "execution_count": 10,
   "metadata": {},
   "outputs": [
    {
     "data": {
      "text/plain": [
       "0        20\n",
       "1         7\n",
       "2        10\n",
       "3         0\n",
       "4         2\n",
       "         ..\n",
       "23694     9\n",
       "23695    14\n",
       "23696    18\n",
       "23697    13\n",
       "23698     4\n",
       "Name: total_images, Length: 23699, dtype: int64"
      ]
     },
     "execution_count": 10,
     "metadata": {},
     "output_type": "execute_result"
    }
   ],
   "source": [
    "data['total_images'].astype('int')"
   ]
  },
  {
   "cell_type": "code",
   "execution_count": 11,
   "metadata": {},
   "outputs": [
    {
     "data": {
      "text/plain": [
       "0        13000000\n",
       "1         3350000\n",
       "2         5196000\n",
       "3        64900000\n",
       "4        10000000\n",
       "           ...   \n",
       "23694     9700000\n",
       "23695     3100000\n",
       "23696     2500000\n",
       "23697    11475000\n",
       "23698     1350000\n",
       "Name: last_price, Length: 23699, dtype: int64"
      ]
     },
     "execution_count": 11,
     "metadata": {},
     "output_type": "execute_result"
    }
   ],
   "source": [
    "data['last_price'].astype('int')"
   ]
  },
  {
   "cell_type": "code",
   "execution_count": 12,
   "metadata": {},
   "outputs": [
    {
     "data": {
      "text/plain": [
       "0        108.00\n",
       "1         40.40\n",
       "2         56.00\n",
       "3        159.00\n",
       "4        100.00\n",
       "          ...  \n",
       "23694    133.81\n",
       "23695     59.00\n",
       "23696     56.70\n",
       "23697     76.75\n",
       "23698     32.30\n",
       "Name: total_area, Length: 23699, dtype: float64"
      ]
     },
     "execution_count": 12,
     "metadata": {},
     "output_type": "execute_result"
    }
   ],
   "source": [
    "data['total_area'].round(2)"
   ]
  },
  {
   "cell_type": "code",
   "execution_count": 13,
   "metadata": {
    "scrolled": true
   },
   "outputs": [
    {
     "data": {
      "text/plain": [
       "array(['Санкт-Петербург', 'посёлок Шушары', 'городской посёлок Янино-1',\n",
       "       'посёлок Парголово', 'посёлок Мурино', 'Ломоносов', 'Сертолово',\n",
       "       'Петергоф', 'Пушкин', 'деревня Кудрово', 'Коммунар', 'Колпино',\n",
       "       'поселок городского типа Красный Бор', 'Гатчина', 'поселок Мурино',\n",
       "       'деревня Фёдоровское', 'Выборг', 'Кронштадт', 'Кировск',\n",
       "       'деревня Новое Девяткино', 'посёлок Металлострой',\n",
       "       'посёлок городского типа Лебяжье',\n",
       "       'посёлок городского типа Сиверский', 'поселок Молодцово',\n",
       "       'поселок городского типа Кузьмоловский',\n",
       "       'садовое товарищество Новая Ропша', 'Павловск',\n",
       "       'деревня Пикколово', 'Всеволожск', 'Волхов', 'Кингисепп',\n",
       "       'Приозерск', 'Сестрорецк', 'деревня Куттузи', 'посёлок Аннино',\n",
       "       'поселок городского типа Ефимовский', 'посёлок Плодовое',\n",
       "       'деревня Заклинье', 'поселок Торковичи', 'поселок Первомайское',\n",
       "       'Красное Село', 'посёлок Понтонный', 'Сясьстрой', 'деревня Старая',\n",
       "       'деревня Лесколово', 'посёлок Новый Свет', 'Сланцы',\n",
       "       'село Путилово', 'Ивангород', 'Мурино', 'Шлиссельбург',\n",
       "       'Никольское', 'Зеленогорск', 'Сосновый Бор', 'поселок Новый Свет',\n",
       "       'деревня Оржицы', 'деревня Кальтино', 'Кудрово',\n",
       "       'поселок Романовка', 'посёлок Бугры', 'поселок Бугры',\n",
       "       'поселок городского типа Рощино', 'Кириши', 'Луга', 'Волосово',\n",
       "       'Отрадное', 'село Павлово', 'поселок Оредеж', 'село Копорье',\n",
       "       'посёлок городского типа Красный Бор', 'посёлок Молодёжное',\n",
       "       'Тихвин', 'посёлок Победа', 'деревня Нурма',\n",
       "       'поселок городского типа Синявино', 'Тосно',\n",
       "       'посёлок городского типа Кузьмоловский', 'посёлок Стрельна',\n",
       "       'Бокситогорск', 'посёлок Александровская', 'деревня Лопухинка',\n",
       "       'Пикалёво', 'поселок Терволово',\n",
       "       'поселок городского типа Советский', 'Подпорожье',\n",
       "       'посёлок Петровское', 'посёлок городского типа Токсово',\n",
       "       'поселок Сельцо', 'посёлок городского типа Вырица',\n",
       "       'деревня Кипень', 'деревня Келози', 'деревня Вартемяги',\n",
       "       'посёлок Тельмана', 'поселок Севастьяново',\n",
       "       'городской поселок Большая Ижора', nan,\n",
       "       'городской посёлок Павлово', 'деревня Агалатово',\n",
       "       'посёлок Новогорелово', 'городской посёлок Лесогорский',\n",
       "       'деревня Лаголово', 'поселок Цвелодубово',\n",
       "       'поселок городского типа Рахья', 'поселок городского типа Вырица',\n",
       "       'деревня Белогорка', 'поселок Заводской',\n",
       "       'городской посёлок Новоселье', 'деревня Большие Колпаны',\n",
       "       'деревня Горбунки', 'деревня Батово', 'деревня Заневка',\n",
       "       'деревня Иссад', 'Приморск', 'городской посёлок Фёдоровское',\n",
       "       'деревня Мистолово', 'Новая Ладога', 'поселок Зимитицы',\n",
       "       'поселок Барышево', 'деревня Разметелево',\n",
       "       'поселок городского типа имени Свердлова', 'деревня Пеники',\n",
       "       'поселок Рябово', 'деревня Пудомяги', 'поселок станции Корнево',\n",
       "       'деревня Низино', 'деревня Бегуницы', 'посёлок Поляны',\n",
       "       'городской посёлок Мга', 'поселок Елизаветино',\n",
       "       'посёлок городского типа Кузнечное', 'деревня Колтуши',\n",
       "       'поселок Запорожское', 'посёлок городского типа Рощино',\n",
       "       'деревня Гостилицы', 'деревня Малое Карлино',\n",
       "       'посёлок Мичуринское', 'посёлок городского типа имени Морозова',\n",
       "       'посёлок Песочный', 'посёлок Сосново', 'деревня Аро',\n",
       "       'поселок Ильичёво', 'посёлок городского типа Тайцы',\n",
       "       'деревня Малое Верево', 'деревня Извара', 'поселок станции Вещево',\n",
       "       'село Паша', 'деревня Калитино',\n",
       "       'посёлок городского типа Ульяновка', 'деревня Чудской Бор',\n",
       "       'поселок городского типа Дубровка', 'деревня Мины',\n",
       "       'поселок Войсковицы', 'посёлок городского типа имени Свердлова',\n",
       "       'деревня Коркино', 'посёлок Ропша',\n",
       "       'поселок городского типа Приладожский', 'посёлок Щеглово',\n",
       "       'посёлок Гаврилово', 'Лодейное Поле', 'деревня Рабитицы',\n",
       "       'поселок городского типа Никольский', 'деревня Кузьмолово',\n",
       "       'деревня Малые Колпаны', 'поселок Тельмана',\n",
       "       'посёлок Петро-Славянка', 'городской посёлок Назия',\n",
       "       'посёлок Репино', 'посёлок Ильичёво', 'поселок Углово',\n",
       "       'поселок Старая Малукса', 'садовое товарищество Рахья',\n",
       "       'поселок Аннино', 'поселок Победа', 'деревня Меньково',\n",
       "       'деревня Старые Бегуницы', 'посёлок Сапёрный', 'поселок Семрино',\n",
       "       'поселок Гаврилово', 'поселок Глажево', 'поселок Кобринское',\n",
       "       'деревня Гарболово', 'деревня Юкки',\n",
       "       'поселок станции Приветнинское', 'деревня Мануйлово',\n",
       "       'деревня Пчева', 'поселок Поляны', 'поселок Цвылёво',\n",
       "       'поселок Мельниково', 'посёлок Пудость', 'посёлок Усть-Луга',\n",
       "       'Светогорск', 'Любань', 'поселок Селезнёво',\n",
       "       'поселок городского типа Рябово', 'Каменногорск', 'деревня Кривко',\n",
       "       'поселок Глебычево', 'деревня Парицы', 'поселок Жилпосёлок',\n",
       "       'посёлок городского типа Мга', 'городской поселок Янино-1',\n",
       "       'посёлок Войскорово', 'село Никольское', 'посёлок Терволово',\n",
       "       'поселок Стеклянный', 'посёлок городского типа Важины',\n",
       "       'посёлок Мыза-Ивановка', 'село Русско-Высоцкое',\n",
       "       'поселок городского типа Лебяжье',\n",
       "       'поселок городского типа Форносово', 'село Старая Ладога',\n",
       "       'поселок Житково', 'городской посёлок Виллози', 'деревня Лампово',\n",
       "       'деревня Шпаньково', 'деревня Лаврики', 'посёлок Сумино',\n",
       "       'посёлок Возрождение', 'деревня Старосиверская',\n",
       "       'посёлок Кикерино', 'поселок Возрождение',\n",
       "       'деревня Старое Хинколово', 'посёлок Пригородный',\n",
       "       'посёлок Торфяное', 'городской посёлок Будогощь',\n",
       "       'поселок Суходолье', 'поселок Красная Долина', 'деревня Хапо-Ое',\n",
       "       'поселок городского типа Дружная Горка', 'поселок Лисий Нос',\n",
       "       'деревня Яльгелево', 'посёлок Стеклянный', 'село Рождествено',\n",
       "       'деревня Старополье', 'посёлок Левашово', 'деревня Сяськелево',\n",
       "       'деревня Камышовка',\n",
       "       'садоводческое некоммерческое товарищество Лесная Поляна',\n",
       "       'деревня Хязельки', 'поселок Жилгородок',\n",
       "       'посёлок городского типа Павлово', 'деревня Ялгино',\n",
       "       'поселок Новый Учхоз', 'городской посёлок Рощино',\n",
       "       'поселок Гончарово', 'поселок Почап', 'посёлок Сапёрное',\n",
       "       'посёлок Платформа 69-й километр', 'поселок Каложицы',\n",
       "       'деревня Фалилеево', 'деревня Пельгора',\n",
       "       'поселок городского типа Лесогорский', 'деревня Торошковичи',\n",
       "       'посёлок Белоостров', 'посёлок Алексеевка', 'поселок Серебрянский',\n",
       "       'поселок Лукаши', 'поселок Петровское', 'деревня Щеглово',\n",
       "       'поселок Мичуринское', 'деревня Тарасово', 'поселок Кингисеппский',\n",
       "       'посёлок при железнодорожной станции Вещево', 'поселок Ушаки',\n",
       "       'деревня Котлы', 'деревня Сижно', 'деревня Торосово',\n",
       "       'посёлок Форт Красная Горка', 'поселок городского типа Токсово',\n",
       "       'деревня Новолисино', 'посёлок станции Громово', 'деревня Глинка',\n",
       "       'посёлок Мельниково', 'поселок городского типа Назия',\n",
       "       'деревня Старая Пустошь', 'поселок Коммунары', 'поселок Починок',\n",
       "       'посёлок городского типа Вознесенье', 'деревня Разбегаево',\n",
       "       'посёлок городского типа Рябово', 'поселок Гладкое',\n",
       "       'посёлок при железнодорожной станции Приветнинское',\n",
       "       'поселок Тёсово-4', 'посёлок Жилгородок', 'деревня Бор',\n",
       "       'посёлок Коробицыно', 'деревня Большая Вруда', 'деревня Курковицы',\n",
       "       'посёлок Лисий Нос', 'городской посёлок Советский',\n",
       "       'посёлок Кобралово', 'деревня Суоранда', 'поселок Кобралово',\n",
       "       'поселок городского типа Кондратьево',\n",
       "       'коттеджный поселок Счастье', 'поселок Любань', 'деревня Реброво',\n",
       "       'деревня Зимитицы', 'деревня Тойворово', 'поселок Семиозерье',\n",
       "       'поселок Лесное', 'поселок Совхозный', 'поселок Усть-Луга',\n",
       "       'посёлок Ленинское', 'посёлок Суйда',\n",
       "       'посёлок городского типа Форносово', 'деревня Нижние Осельки',\n",
       "       'посёлок станции Свирь', 'поселок Перово', 'Высоцк',\n",
       "       'поселок Гарболово', 'село Шум', 'поселок Котельский',\n",
       "       'поселок станции Лужайка', 'деревня Большая Пустомержа',\n",
       "       'поселок Красносельское', 'деревня Вахнова Кара', 'деревня Пижма',\n",
       "       'коттеджный поселок Кивеннапа Север', 'поселок Коробицыно',\n",
       "       'поселок Ромашки', 'посёлок Перово', 'деревня Каськово',\n",
       "       'деревня Куровицы', 'посёлок Плоское', 'поселок Сумино',\n",
       "       'поселок городского типа Большая Ижора', 'поселок Кирпичное',\n",
       "       'деревня Ям-Тесово', 'деревня Раздолье', 'деревня Терпилицы',\n",
       "       'посёлок Шугозеро', 'деревня Ваганово', 'поселок Пушное',\n",
       "       'садовое товарищество Садко', 'посёлок Усть-Ижора',\n",
       "       'деревня Выскатка', 'городской посёлок Свирьстрой',\n",
       "       'поселок Громово', 'деревня Кисельня', 'посёлок Старая Малукса',\n",
       "       'деревня Трубников Бор', 'поселок Калитино',\n",
       "       'посёлок Высокоключевой', 'садовое товарищество Приладожский',\n",
       "       'посёлок Пансионат Зелёный Бор', 'деревня Ненимяки',\n",
       "       'поселок Пансионат Зелёный Бор', 'деревня Снегирёвка',\n",
       "       'деревня Рапполово', 'деревня Пустынка', 'поселок Рабитицы',\n",
       "       'деревня Большой Сабск', 'деревня Русско', 'деревня Лупполово',\n",
       "       'деревня Большое Рейзино', 'деревня Малая Романовка',\n",
       "       'поселок Дружноселье', 'поселок Пчевжа', 'поселок Володарское',\n",
       "       'деревня Нижняя', 'коттеджный посёлок Лесное', 'деревня Тихковицы',\n",
       "       'деревня Борисова Грива', 'посёлок Дзержинского'], dtype=object)"
      ]
     },
     "execution_count": 13,
     "metadata": {},
     "output_type": "execute_result"
    }
   ],
   "source": [
    "data['locality_name'].unique()"
   ]
  },
  {
   "cell_type": "code",
   "execution_count": 14,
   "metadata": {
    "scrolled": true
   },
   "outputs": [
    {
     "data": {
      "text/plain": [
       "array(['санкт-петербург', 'шушары', ' янино-1', 'парголово', 'мурино',\n",
       "       'ломоносов', 'сертолово', 'петергоф', 'пушкин', 'кудрово',\n",
       "       'коммунар', 'колпино', 'красный бор', 'гатчина', 'федоровское',\n",
       "       'выборг', 'кронштадт', 'кировск', 'новое девяткино',\n",
       "       'металлострой', 'лебяжье', 'сиверский', 'молодцово',\n",
       "       'кузьмоловский', 'новая ропша', 'павловск', 'пикколово',\n",
       "       'всеволожск', 'волхов', 'кингисепп', 'приозерск', 'сестрорецк',\n",
       "       'куттузи', 'аннино', 'ефимовский', 'плодовое', 'заклинье',\n",
       "       'торковичи', 'первомайское', 'красное село', 'понтонный',\n",
       "       'сясьстрой', 'старая', 'лесколово', 'новый свет', 'сланцы',\n",
       "       'путилово', 'ивангород', 'шлиссельбург', 'никольское',\n",
       "       'зеленогорск', 'сосновый бор', 'оржицы', 'кальтино', 'романовка',\n",
       "       'бугры', 'рощино', 'кириши', 'луга', 'волосово', 'отрадное',\n",
       "       'павлово', 'оредеж', 'копорье', 'молодежное', 'тихвин', 'победа',\n",
       "       'нурма', 'синявино', 'тосно', 'стрельна', 'бокситогорск',\n",
       "       'александровская', 'лопухинка', 'пикалево', 'терволово',\n",
       "       'советский', 'подпорожье', 'петровское', 'токсово', 'сельцо',\n",
       "       'вырица', 'кипень', 'келози', 'вартемяги', 'тельмана',\n",
       "       'севастьяново', ' большая ижора', nan, ' павлово', 'агалатово',\n",
       "       'новогорелово', ' лесогорский', 'лаголово', 'цвелодубово', 'рахья',\n",
       "       'белогорка', 'заводской', ' новоселье', 'большие колпаны',\n",
       "       'горбунки', 'батово', 'заневка', 'иссад', 'приморск',\n",
       "       ' федоровское', 'мистолово', 'новая ладога', 'зимитицы',\n",
       "       'барышево', 'разметелево', 'имени свердлова', 'пеники', 'рябово',\n",
       "       'пудомяги', 'корнево', 'низино', 'бегуницы', 'поляны', ' мга',\n",
       "       'елизаветино', 'кузнечное', 'колтуши', 'запорожское', 'гостилицы',\n",
       "       'малое карлино', 'мичуринское', 'имени морозова', 'песочный',\n",
       "       'сосново', 'аро', 'ильичево', 'тайцы', 'малое верево', 'извара',\n",
       "       'вещево', 'паша', 'калитино', 'ульяновка', 'чудской бор',\n",
       "       'дубровка', 'мины', 'войсковицы', 'коркино', 'ропша',\n",
       "       'приладожский', 'щеглово', 'гаврилово', 'лодейное поле',\n",
       "       'рабитицы', 'никольский', 'кузьмолово', 'малые колпаны',\n",
       "       'петро-славянка', ' назия', 'репино', 'углово', 'старая малукса',\n",
       "       'меньково', 'старые бегуницы', 'саперный', 'семрино', 'глажево',\n",
       "       'кобринское', 'гарболово', 'юкки', 'приветнинское', 'мануйлово',\n",
       "       'пчева', 'цвылево', 'мельниково', 'пудость', 'усть-луга',\n",
       "       'светогорск', 'любань', 'селезнево', 'каменногорск', 'кривко',\n",
       "       'глебычево', 'парицы', 'жилпоселок', 'мга', 'войскорово',\n",
       "       'стеклянный', 'важины', 'мыза-ивановка', 'русско-высоцкое',\n",
       "       'форносово', 'старая ладога', 'житково', ' виллози', 'лампово',\n",
       "       'шпаньково', 'лаврики', 'сумино', 'возрождение', 'старосиверская',\n",
       "       'кикерино', 'старое хинколово', 'пригородный', 'торфяное',\n",
       "       ' будогощь', 'суходолье', 'красная долина', 'хапо-ое',\n",
       "       'дружная горка', 'лисий нос', 'яльгелево', 'рождествено',\n",
       "       'старополье', 'левашово', 'сяськелево', 'камышовка',\n",
       "       'лесная поляна', 'хязельки', 'жилгородок', 'ялгино', 'новый учхоз',\n",
       "       ' рощино', 'гончарово', 'почап', 'саперное', '69-й километр',\n",
       "       'каложицы', 'фалилеево', 'пельгора', 'лесогорский', 'торошковичи',\n",
       "       'белоостров', 'алексеевка', 'серебрянский', 'лукаши', 'тарасово',\n",
       "       'кингисеппский', 'ушаки', 'котлы', 'сижно', 'торосово',\n",
       "       'форт красная горка', 'новолисино', 'громово', 'глинка', 'назия',\n",
       "       'старая пустошь', 'коммунары', 'починок', 'вознесенье',\n",
       "       'разбегаево', 'гладкое', 'тесово-4', 'бор', 'коробицыно',\n",
       "       'большая вруда', 'курковицы', ' советский', 'кобралово',\n",
       "       'суоранда', 'кондратьево', ' счастье', 'реброво', 'тойворово',\n",
       "       'семиозерье', 'лесное', 'совхозный', 'ленинское', 'суйда',\n",
       "       'нижние осельки', 'свирь', 'перово', 'высоцк', 'шум', 'котельский',\n",
       "       'лужайка', 'большая пустомержа', 'красносельское', 'вахнова кара',\n",
       "       'пижма', ' кивеннапа север', 'ромашки', 'каськово', 'куровицы',\n",
       "       'плоское', 'большая ижора', 'кирпичное', 'ям-тесово', 'раздолье',\n",
       "       'терпилицы', 'шугозеро', 'ваганово', 'пушное', 'садко',\n",
       "       'усть-ижора', 'выскатка', ' свирьстрой', 'кисельня',\n",
       "       'трубников бор', 'высокоключевой', 'зеленый бор', 'ненимяки',\n",
       "       'снегиревка', 'рапполово', 'пустынка', 'большой сабск', 'русско',\n",
       "       'лупполово', 'большое рейзино', 'малая романовка', 'дружноселье',\n",
       "       'пчевжа', 'володарское', 'нижняя', ' лесное', 'тихковицы',\n",
       "       'борисова грива', 'дзержинского'], dtype=object)"
      ]
     },
     "execution_count": 14,
     "metadata": {},
     "output_type": "execute_result"
    }
   ],
   "source": [
    "data['locality_name'] = data['locality_name'].str.lower().str.strip()\n",
    "data['locality_name'] = (\n",
    "    data['locality_name']\n",
    "    .str.replace('ё', 'е')\n",
    "    .replace(['поселок ','при железнодорожной станции ', 'платформа ', 'садоводческое некоммерческое товарищество ',\n",
    "             'садовое товарищество ', 'станции ', 'село ', 'пансионат ', 'городского типа ',\n",
    "             'деревня ', 'городской поселок ', 'городской', 'коттеджный'], '', regex=True)\n",
    ") \n",
    "data['locality_name'].unique()"
   ]
  },
  {
   "cell_type": "code",
   "execution_count": 15,
   "metadata": {},
   "outputs": [
    {
     "data": {
      "text/plain": [
       "49"
      ]
     },
     "execution_count": 15,
     "metadata": {},
     "output_type": "execute_result"
    }
   ],
   "source": [
    "data['locality_name'].isna().sum() # 49 пропусков"
   ]
  },
  {
   "cell_type": "code",
   "execution_count": 16,
   "metadata": {},
   "outputs": [
    {
     "data": {
      "text/plain": [
       "0"
      ]
     },
     "execution_count": 16,
     "metadata": {},
     "output_type": "execute_result"
    }
   ],
   "source": [
    "data['locality_name'] = data['locality_name'].fillna('unknown') # замена на \"неизвестно\"\n",
    "data['locality_name'].isna().sum()"
   ]
  },
  {
   "cell_type": "code",
   "execution_count": 17,
   "metadata": {},
   "outputs": [
    {
     "data": {
      "text/plain": [
       "0        18863.0\n",
       "1        12817.0\n",
       "2        21741.0\n",
       "3        28098.0\n",
       "4        31856.0\n",
       "          ...   \n",
       "23694    24665.0\n",
       "23695        NaN\n",
       "23696        NaN\n",
       "23697    39140.0\n",
       "23698        NaN\n",
       "Name: airports_nearest, Length: 23699, dtype: float64"
      ]
     },
     "execution_count": 17,
     "metadata": {},
     "output_type": "execute_result"
    }
   ],
   "source": [
    "data['airports_nearest'].round(2)"
   ]
  },
  {
   "cell_type": "code",
   "execution_count": 18,
   "metadata": {},
   "outputs": [
    {
     "data": {
      "text/plain": [
       "0.018018018018018018"
      ]
     },
     "execution_count": 18,
     "metadata": {},
     "output_type": "execute_result"
    }
   ],
   "source": [
    "data['is_apartment'].isna().sum()\n",
    "data['is_apartment'].mean() # 88% составляют аппартаменты от заполненых анкет. МОжно пропуски заменить на False"
   ]
  },
  {
   "cell_type": "code",
   "execution_count": 19,
   "metadata": {},
   "outputs": [
    {
     "data": {
      "text/plain": [
       "0.0"
      ]
     },
     "execution_count": 19,
     "metadata": {},
     "output_type": "execute_result"
    }
   ],
   "source": [
    "data['is_apartment'] = data['is_apartment'].astype(bool)\n",
    "data['is_apartment'].isna().sum()*100/len(data)"
   ]
  },
  {
   "cell_type": "code",
   "execution_count": 20,
   "metadata": {},
   "outputs": [],
   "source": [
    "data['ceiling_height'] = data['ceiling_height'].fillna(data['ceiling_height'].median()) # заполнение ceiling_height, NaN заменяем на median"
   ]
  },
  {
   "cell_type": "code",
   "execution_count": 21,
   "metadata": {},
   "outputs": [
    {
     "data": {
      "text/plain": [
       "22869    100.0\n",
       "3148      32.0\n",
       "22336     32.0\n",
       "21377     27.5\n",
       "4876      27.0\n",
       "17857     27.0\n",
       "5246      27.0\n",
       "20478     27.0\n",
       "22938     27.0\n",
       "5807      27.0\n",
       "21824     27.0\n",
       "10773     27.0\n",
       "5669      26.0\n",
       "18545     25.0\n",
       "4643      25.0\n",
       "9379      25.0\n",
       "11285     25.0\n",
       "14382     25.0\n",
       "355       25.0\n",
       "6246      25.0\n",
       "Name: ceiling_height, dtype: float64"
      ]
     },
     "execution_count": 21,
     "metadata": {},
     "output_type": "execute_result"
    }
   ],
   "source": [
    "# изучим аномально большие значения\n",
    "data['ceiling_height'].sort_values(ascending = False).head(20) #вероятно, что заполнитель формы неправильно указал запятую при вводе высоты потолка"
   ]
  },
  {
   "cell_type": "code",
   "execution_count": 22,
   "metadata": {},
   "outputs": [
    {
     "data": {
      "text/plain": [
       "15061    14.00\n",
       "22309    10.30\n",
       "22869    10.00\n",
       "5863      8.30\n",
       "17442     8.00\n",
       "15743     8.00\n",
       "3474      8.00\n",
       "20264     6.00\n",
       "21227     5.80\n",
       "1388      5.60\n",
       "7578      5.50\n",
       "1026      5.30\n",
       "12628     5.30\n",
       "464       5.20\n",
       "1053      5.00\n",
       "21923     4.90\n",
       "2802      4.80\n",
       "19142     4.70\n",
       "1300      4.70\n",
       "12401     4.65\n",
       "Name: ceiling_height, dtype: float64"
      ]
     },
     "execution_count": 22,
     "metadata": {},
     "output_type": "execute_result"
    }
   ],
   "source": [
    "data.loc[data['ceiling_height'] >= 20, 'ceiling_height'] = data['ceiling_height'] / 10\n",
    "data['ceiling_height'].sort_values(ascending = False).head(20)"
   ]
  },
  {
   "cell_type": "code",
   "execution_count": 23,
   "metadata": {},
   "outputs": [
    {
     "data": {
      "text/plain": [
       "0        16028.0\n",
       "1        18603.0\n",
       "2        13933.0\n",
       "3         6800.0\n",
       "4         8098.0\n",
       "          ...   \n",
       "23694     4232.0\n",
       "23695        NaN\n",
       "23696        NaN\n",
       "23697    10364.0\n",
       "23698        NaN\n",
       "Name: city_centers_nearest, Length: 23699, dtype: float64"
      ]
     },
     "execution_count": 23,
     "metadata": {},
     "output_type": "execute_result"
    }
   ],
   "source": [
    "data['city_centers_nearest'].round(2) # Незаполненные пропуски скорее всего, указывают,что объект продажи находится не в городе.\n",
    "# Оставим значения неизменным."
   ]
  },
  {
   "cell_type": "code",
   "execution_count": 24,
   "metadata": {},
   "outputs": [
    {
     "data": {
      "text/plain": [
       "0        482.0\n",
       "1          NaN\n",
       "2         90.0\n",
       "3         84.0\n",
       "4        112.0\n",
       "         ...  \n",
       "23694    796.0\n",
       "23695      NaN\n",
       "23696      NaN\n",
       "23697    173.0\n",
       "23698      NaN\n",
       "Name: parks_nearest, Length: 23699, dtype: float64"
      ]
     },
     "execution_count": 24,
     "metadata": {},
     "output_type": "execute_result"
    }
   ],
   "source": [
    "data['parks_nearest'].round(2) # Незаполненные пропуски скорее всего, указывают,что объект продажи находится далеко от парка.\n",
    "# Оставим значения неизменным."
   ]
  },
  {
   "cell_type": "code",
   "execution_count": 25,
   "metadata": {},
   "outputs": [
    {
     "data": {
      "text/plain": [
       "0        755.0\n",
       "1          NaN\n",
       "2        574.0\n",
       "3        234.0\n",
       "4         48.0\n",
       "         ...  \n",
       "23694    381.0\n",
       "23695      NaN\n",
       "23696      NaN\n",
       "23697    196.0\n",
       "23698      NaN\n",
       "Name: ponds_nearest, Length: 23699, dtype: float64"
      ]
     },
     "execution_count": 25,
     "metadata": {},
     "output_type": "execute_result"
    }
   ],
   "source": [
    "data['ponds_nearest'].round(2) # Незаполненные пропуски скорее всего, указывают,что объект продажи находится далеко от водоема.\n",
    "# Оставим значения неизменным."
   ]
  },
  {
   "cell_type": "code",
   "execution_count": 26,
   "metadata": {},
   "outputs": [
    {
     "data": {
      "text/html": [
       "<div>\n",
       "<style scoped>\n",
       "    .dataframe tbody tr th:only-of-type {\n",
       "        vertical-align: middle;\n",
       "    }\n",
       "\n",
       "    .dataframe tbody tr th {\n",
       "        vertical-align: top;\n",
       "    }\n",
       "\n",
       "    .dataframe thead th {\n",
       "        text-align: right;\n",
       "    }\n",
       "</style>\n",
       "<table border=\"1\" class=\"dataframe\">\n",
       "  <thead>\n",
       "    <tr style=\"text-align: right;\">\n",
       "      <th></th>\n",
       "      <th>total_images</th>\n",
       "      <th>last_price</th>\n",
       "      <th>total_area</th>\n",
       "      <th>first_day_exposition</th>\n",
       "      <th>rooms</th>\n",
       "      <th>ceiling_height</th>\n",
       "      <th>floors_total</th>\n",
       "      <th>living_area</th>\n",
       "      <th>floor</th>\n",
       "      <th>is_apartment</th>\n",
       "      <th>...</th>\n",
       "      <th>kitchen_area</th>\n",
       "      <th>balcony</th>\n",
       "      <th>locality_name</th>\n",
       "      <th>airports_nearest</th>\n",
       "      <th>city_centers_nearest</th>\n",
       "      <th>parks_around3000</th>\n",
       "      <th>parks_nearest</th>\n",
       "      <th>ponds_around3000</th>\n",
       "      <th>ponds_nearest</th>\n",
       "      <th>days_exposition</th>\n",
       "    </tr>\n",
       "  </thead>\n",
       "  <tbody>\n",
       "  </tbody>\n",
       "</table>\n",
       "<p>0 rows × 22 columns</p>\n",
       "</div>"
      ],
      "text/plain": [
       "Empty DataFrame\n",
       "Columns: [total_images, last_price, total_area, first_day_exposition, rooms, ceiling_height, floors_total, living_area, floor, is_apartment, studio, open_plan, kitchen_area, balcony, locality_name, airports_nearest, city_centers_nearest, parks_around3000, parks_nearest, ponds_around3000, ponds_nearest, days_exposition]\n",
       "Index: []\n",
       "\n",
       "[0 rows x 22 columns]"
      ]
     },
     "execution_count": 26,
     "metadata": {},
     "output_type": "execute_result"
    }
   ],
   "source": [
    "# Замена пропусков median значением\n",
    "def floors_total(row):\n",
    "    if pd.notnull(row['floors_total']):\n",
    "        return row['floors_total']\n",
    "    else:\n",
    "        # Вычисляем медиану floors_total для заданного этажа\n",
    "        median_floors = data[data['floor'] == row['floor']]['floors_total'].median()\n",
    "        \n",
    "        # Если медиана не найдена, используем значение floor\n",
    "        if pd.isnull(median_floors):\n",
    "            return row['floor']\n",
    "        else:\n",
    "            # Убеждаемся, что floors_total не меньше floor\n",
    "            return max(row['floor'], median_floors)\n",
    "        \n",
    "data['floors_total'] = data.apply(floors_total, axis=1)\n",
    "data['floors_total'] = data['floors_total'].astype(int)\n",
    "# Найдем строки, где floor > floors_total\n",
    "invalid_cases = data[data['floor'] > data['floors_total']]\n",
    "invalid_cases"
   ]
  },
  {
   "cell_type": "markdown",
   "metadata": {},
   "source": [
    "В данных больше нет случаев, где этаж квартиры (floor) превышает общее количество этажей в доме (floors_total)."
   ]
  },
  {
   "cell_type": "code",
   "execution_count": 27,
   "metadata": {},
   "outputs": [
    {
     "name": "stdout",
     "output_type": "stream",
     "text": [
      "kitchen_area      1.000000\n",
      "total_area        0.609121\n",
      "last_price        0.519869\n",
      "living_area       0.428674\n",
      "ceiling_height    0.299071\n",
      "Name: kitchen_area, dtype: float64\n"
     ]
    }
   ],
   "source": [
    "# Зависимость кухонной зоны от других значений\n",
    "print(data.corr().sort_values(by='kitchen_area', ascending=False)['kitchen_area'].head())\n",
    "# Зависимоти нет, можно заменить на 0"
   ]
  },
  {
   "cell_type": "code",
   "execution_count": 28,
   "metadata": {},
   "outputs": [],
   "source": [
    "# Отношение kitchen_area к total_area\n",
    "data['kitchen_ratio'] = data['kitchen_area'] / data['total_area']\n",
    "\n",
    "# Медианное отношение\n",
    "median_kitchen_ratio = data['kitchen_ratio'].median()\n",
    "\n",
    "# Индексы с пропусками в kitchen_area\n",
    "missing_kitchen_area = data['kitchen_area'].isnull()\n",
    "\n",
    "# Заполняем пропуски\n",
    "data.loc[missing_kitchen_area, 'kitchen_area'] = data.loc[missing_kitchen_area, 'total_area'] * median_kitchen_ratio\n",
    "\n",
    "# Удаляю столбец с отношение kitchen_area к total_area\n",
    "data.drop('kitchen_ratio', axis=1, inplace=True)"
   ]
  },
  {
   "cell_type": "code",
   "execution_count": 29,
   "metadata": {},
   "outputs": [
    {
     "name": "stdout",
     "output_type": "stream",
     "text": [
      "balcony         1.000000\n",
      "floors_total    0.192026\n",
      "floor           0.168773\n",
      "total_images    0.121693\n",
      "kitchen_area    0.082705\n",
      "Name: balcony, dtype: float64\n"
     ]
    }
   ],
   "source": [
    "# Также проверим зависимость зоны балкона от других значений\n",
    "print(data.corr().sort_values(by='balcony', ascending=False)['balcony'].head())\n",
    "# Зависимость также не наблюдается, приведем к нулю пропуски"
   ]
  },
  {
   "cell_type": "code",
   "execution_count": 30,
   "metadata": {},
   "outputs": [],
   "source": [
    "# Незаполненные пропуски в parks_around3000 могут значить, что на таком расстоянии нет парков. Можно заменить на 0\n",
    "data['parks_around3000'] = data['parks_around3000'].fillna(0)\n",
    "data['parks_around3000'] = data['parks_around3000'].astype(int)"
   ]
  },
  {
   "cell_type": "code",
   "execution_count": 31,
   "metadata": {},
   "outputs": [],
   "source": [
    "data['ponds_around3000'] = data['ponds_around3000'].fillna(0) # Вероятно, если значение отсутствует, то водоем находится далеко\n",
    "data['ponds_around3000'] = data['ponds_around3000'].astype(int)"
   ]
  },
  {
   "cell_type": "code",
   "execution_count": 32,
   "metadata": {},
   "outputs": [
    {
     "data": {
      "text/plain": [
       "total_images                0\n",
       "last_price                  0\n",
       "total_area                  0\n",
       "first_day_exposition        0\n",
       "rooms                       0\n",
       "ceiling_height              0\n",
       "floors_total                0\n",
       "living_area              1903\n",
       "floor                       0\n",
       "is_apartment                0\n",
       "studio                      0\n",
       "open_plan                   0\n",
       "kitchen_area                0\n",
       "balcony                 11519\n",
       "locality_name               0\n",
       "airports_nearest         5542\n",
       "city_centers_nearest     5519\n",
       "parks_around3000            0\n",
       "parks_nearest           15620\n",
       "ponds_around3000            0\n",
       "ponds_nearest           14589\n",
       "days_exposition          3181\n",
       "dtype: int64"
      ]
     },
     "execution_count": 32,
     "metadata": {},
     "output_type": "execute_result"
    }
   ],
   "source": [
    "data.isna().sum()"
   ]
  },
  {
   "cell_type": "markdown",
   "metadata": {},
   "source": [
    "Была выполнена предобработка данных и уменьшили количество пропусков в таблице\n",
    "\n",
    "Основными причинами пропусков могли стать:\n",
    "\n",
    "1. Человеческий фактор.\n",
    "2. Несовершенство программной оболочки (не все поля обязательные, нет чекбоксов с выбором, нет проверки данных)\n",
    "3. Возможны программные сбои\n",
    "4. Доработка системы во время её работы (ранее введенные данные не откорректированы)\n",
    "\n",
    "В процессе предобработки данных:\n",
    "\n",
    "1. Переименовали название столбца `cityCenters_nearest` на `city_centers_nearest`.\n",
    "2. Заполнили явные пропуски в таблице, округлили значение до значащих величин.\n",
    "3. Изменили тип данных, в соответствии с данными находяшимися в столбцах."
   ]
  },
  {
   "cell_type": "markdown",
   "metadata": {
    "id": "QCcvyY6YAwb-"
   },
   "source": [
    "### Добавьте в таблицу новые столбцы"
   ]
  },
  {
   "cell_type": "code",
   "execution_count": 33,
   "metadata": {
    "id": "Z8eJek3IAwb-"
   },
   "outputs": [
    {
     "data": {
      "text/plain": [
       "array([120370.37,  82920.79,  92785.71, ...,  44091.71, 149511.4 ,\n",
       "        41795.67])"
      ]
     },
     "execution_count": 33,
     "metadata": {},
     "output_type": "execute_result"
    }
   ],
   "source": [
    "data['price_meter'] = (data['last_price'] / data['total_area']).round(2) # Добавлен столбец с ценой за 1 квадратного метра\n",
    "data['price_meter'].unique()"
   ]
  },
  {
   "cell_type": "code",
   "execution_count": 34,
   "metadata": {},
   "outputs": [
    {
     "data": {
      "text/plain": [
       "array([3, 1, 4, 0, 2, 6, 5])"
      ]
     },
     "execution_count": 34,
     "metadata": {},
     "output_type": "execute_result"
    }
   ],
   "source": [
    "data['day_publication'] = data['first_day_exposition'].dt.weekday  # Добавлен столбец с днем публикации от 0 до 6\n",
    "data['day_publication'].unique()"
   ]
  },
  {
   "cell_type": "code",
   "execution_count": 35,
   "metadata": {},
   "outputs": [
    {
     "data": {
      "text/plain": [
       "array([ 3, 12,  8,  7,  6,  9, 11,  4,  5,  2,  1, 10])"
      ]
     },
     "execution_count": 35,
     "metadata": {},
     "output_type": "execute_result"
    }
   ],
   "source": [
    "data['month_publication'] = data['first_day_exposition'].dt.month # Добавлен столбец с месяцем публикации от 1 до 12\n",
    "data['month_publication'].unique()"
   ]
  },
  {
   "cell_type": "code",
   "execution_count": 36,
   "metadata": {},
   "outputs": [
    {
     "data": {
      "text/plain": [
       "array([2019, 2018, 2015, 2017, 2016, 2014])"
      ]
     },
     "execution_count": 36,
     "metadata": {},
     "output_type": "execute_result"
    }
   ],
   "source": [
    "data['year_publication'] = data['first_day_exposition'].dt.year # Добавлен столбец с годом публикации\n",
    "data['year_publication'].unique()"
   ]
  },
  {
   "cell_type": "code",
   "execution_count": 37,
   "metadata": {},
   "outputs": [
    {
     "data": {
      "text/plain": [
       "array(['другой', 'первый', 'последний'], dtype=object)"
      ]
     },
     "execution_count": 37,
     "metadata": {},
     "output_type": "execute_result"
    }
   ],
   "source": [
    "def floor(row):\n",
    "    if row['floor'] == 1:\n",
    "        return 'первый'\n",
    "    if row['floor'] == row['floors_total']:\n",
    "        return 'последний'\n",
    "    else:\n",
    "        return 'другой'\n",
    "# Добавлен столбец type_apartment_floor тип этажа квартиры (значения — «первый», «последний», «другой»)\n",
    "data['type_apartment_floor'] = data.apply(floor, axis=1) \n",
    "data['type_apartment_floor'].unique()"
   ]
  },
  {
   "cell_type": "code",
   "execution_count": 38,
   "metadata": {},
   "outputs": [
    {
     "data": {
      "text/plain": [
       "array([16., 19., 14.,  7.,  8., nan, 12., 15., 52., 33., 31., 11., 13.,\n",
       "       10.,  2., 32.,  4., 17., 30.,  5., 51., 50., 24., 18.,  9., 28.,\n",
       "        3.,  6., 27., 21., 49., 35., 36., 34.,  1., 29., 26., 53., 22.,\n",
       "       55., 20., 23., 25.,  0., 66., 47., 40., 57., 37., 41., 43., 48.,\n",
       "       62., 60., 39., 42., 65., 54., 59., 45., 61., 63.])"
      ]
     },
     "execution_count": 38,
     "metadata": {},
     "output_type": "execute_result"
    }
   ],
   "source": [
    "data['distance_city_center'] = (data['city_centers_nearest'] / 1000).round(0) # Добавлен столбец distance_city_center расстояние до центра города в километрах\n",
    "data['distance_city_center'].unique()                                         # (переведены из м в км и округлено значение до ближайших целых значений)"
   ]
  },
  {
   "cell_type": "markdown",
   "metadata": {
    "id": "pPyxrKWTAwb-"
   },
   "source": [
    "### Проведите исследовательский анализ данных"
   ]
  },
  {
   "cell_type": "markdown",
   "metadata": {},
   "source": [
    "#### Общая площадь"
   ]
  },
  {
   "cell_type": "code",
   "execution_count": 39,
   "metadata": {
    "id": "V2f0D3kLAwb-"
   },
   "outputs": [
    {
     "data": {
      "text/plain": [
       "count    23699.000000\n",
       "mean        60.348651\n",
       "std         35.654083\n",
       "min         12.000000\n",
       "25%         40.000000\n",
       "50%         52.000000\n",
       "75%         69.900000\n",
       "max        900.000000\n",
       "Name: total_area, dtype: float64"
      ]
     },
     "execution_count": 39,
     "metadata": {},
     "output_type": "execute_result"
    }
   ],
   "source": [
    "data['total_area'].describe()"
   ]
  },
  {
   "cell_type": "code",
   "execution_count": 40,
   "metadata": {},
   "outputs": [
    {
     "data": {
      "image/png": "[encoded data removed]",
      "text/plain": [
       "<Figure size 432x288 with 1 Axes>"
      ]
     },
     "metadata": {
      "needs_background": "light"
     },
     "output_type": "display_data"
    }
   ],
   "source": [
    "#Оставим значения от минимального 12 до 100 кв. метров построим гистограмму\n",
    "data.hist('total_area', bins=100, range=(12,100))\n",
    "plt.title('Зависимость квартир в продаже от площади квартир')\n",
    "plt.xlabel('Квадратные метры')\n",
    "plt.ylabel('Количество квартир')\n",
    "plt.show()"
   ]
  },
  {
   "cell_type": "markdown",
   "metadata": {},
   "source": [
    "***Вывод:***\n",
    "\n",
    "На рынке самое большое предложение квартир с общей площадью от 40 до 69 кв. метров с максимумом около 52 кв. метров."
   ]
  },
  {
   "cell_type": "markdown",
   "metadata": {},
   "source": [
    "#### Жилая площадь"
   ]
  },
  {
   "cell_type": "code",
   "execution_count": 41,
   "metadata": {},
   "outputs": [
    {
     "data": {
      "text/plain": [
       "count    21796.000000\n",
       "mean        34.457852\n",
       "std         22.030445\n",
       "min          2.000000\n",
       "25%         18.600000\n",
       "50%         30.000000\n",
       "75%         42.300000\n",
       "max        409.700000\n",
       "Name: living_area, dtype: float64"
      ]
     },
     "execution_count": 41,
     "metadata": {},
     "output_type": "execute_result"
    }
   ],
   "source": [
    "data['living_area'].describe()"
   ]
  },
  {
   "cell_type": "code",
   "execution_count": 42,
   "metadata": {},
   "outputs": [
    {
     "data": {
      "image/png": "[encoded data removed]",
      "text/plain": [
       "<Figure size 432x288 with 1 Axes>"
      ]
     },
     "metadata": {
      "needs_background": "light"
     },
     "output_type": "display_data"
    }
   ],
   "source": [
    "plt.hist(data['living_area'], bins=100, range=(12,42))\n",
    "plt.title('Зависимость квартир в продаже от жилой площади')\n",
    "plt.xlabel('Квадратные метры')\n",
    "plt.ylabel('Количество квартир')\n",
    "plt.show()"
   ]
  },
  {
   "cell_type": "markdown",
   "metadata": {},
   "source": [
    "***Вывод:***\n",
    "\n",
    "Больше всего продают квартир с жилой площадью около 18 кв. м и 30 кв. метров при этом прослеживается спад предложений в средней зоне 23 кв. метра."
   ]
  },
  {
   "cell_type": "markdown",
   "metadata": {},
   "source": [
    "#### Площадь кухни"
   ]
  },
  {
   "cell_type": "code",
   "execution_count": 43,
   "metadata": {},
   "outputs": [
    {
     "data": {
      "text/plain": [
       "count    23699.000000\n",
       "mean        10.491431\n",
       "std          6.029020\n",
       "min          1.300000\n",
       "25%          7.000000\n",
       "50%          9.000000\n",
       "75%         12.000000\n",
       "max        112.000000\n",
       "Name: kitchen_area, dtype: float64"
      ]
     },
     "execution_count": 43,
     "metadata": {},
     "output_type": "execute_result"
    }
   ],
   "source": [
    "data['kitchen_area'].describe()"
   ]
  },
  {
   "cell_type": "code",
   "execution_count": 44,
   "metadata": {},
   "outputs": [
    {
     "data": {
      "image/png": "[encoded data removed]",
      "text/plain": [
       "<Figure size 432x288 with 1 Axes>"
      ]
     },
     "metadata": {
      "needs_background": "light"
     },
     "output_type": "display_data"
    }
   ],
   "source": [
    "plt.hist(data['kitchen_area'], bins=100, range=(6,12))\n",
    "plt.title('Зависимость квартир в продаже от площади кухни')\n",
    "plt.xlabel('Квадратные метры')\n",
    "plt.ylabel('Количество квартир')\n",
    "plt.show()"
   ]
  },
  {
   "cell_type": "markdown",
   "metadata": {},
   "source": [
    "***Вывод:***\n",
    "\n",
    "Прослеживается тенденция что больше всего предложений с площадью кухни в 6 метров затем 10 и чередом 7,8,9 кв. метров, при этом в анкетах заметны явные всплески на целых числах."
   ]
  },
  {
   "cell_type": "markdown",
   "metadata": {},
   "source": [
    "#### Цена объекта"
   ]
  },
  {
   "cell_type": "code",
   "execution_count": 45,
   "metadata": {},
   "outputs": [
    {
     "data": {
      "text/plain": [
       "count    2.369900e+04\n",
       "mean     6.541549e+06\n",
       "std      1.088701e+07\n",
       "min      1.219000e+04\n",
       "25%      3.400000e+06\n",
       "50%      4.650000e+06\n",
       "75%      6.800000e+06\n",
       "max      7.630000e+08\n",
       "Name: last_price, dtype: float64"
      ]
     },
     "execution_count": 45,
     "metadata": {},
     "output_type": "execute_result"
    }
   ],
   "source": [
    "data['last_price'].describe()"
   ]
  },
  {
   "cell_type": "code",
   "execution_count": 46,
   "metadata": {},
   "outputs": [
    {
     "data": {
      "image/png": "[encoded data removed]",
      "text/plain": [
       "<Figure size 432x288 with 1 Axes>"
      ]
     },
     "metadata": {
      "needs_background": "light"
     },
     "output_type": "display_data"
    }
   ],
   "source": [
    "plt.hist(data['last_price'], bins=100, range=(1.219000e+04,9.00000e+06))\n",
    "plt.title('Зависимость квартир в продаже от цены на момент снятия с публикации')\n",
    "plt.xlabel('Цена в млн. руб.')\n",
    "plt.ylabel('Количество квартир')\n",
    "plt.show()"
   ]
  },
  {
   "cell_type": "markdown",
   "metadata": {},
   "source": [
    "***Вывод:***\n",
    "\n",
    "Из гисторгаммы следует, что наиболее часто цена объекта составляет 3,8 - 4,2 миллниона."
   ]
  },
  {
   "cell_type": "markdown",
   "metadata": {},
   "source": [
    "#### Количество комнат"
   ]
  },
  {
   "cell_type": "code",
   "execution_count": 47,
   "metadata": {},
   "outputs": [
    {
     "data": {
      "image/png": "[encoded data removed]",
      "text/plain": [
       "<Figure size 432x288 with 1 Axes>"
      ]
     },
     "metadata": {
      "needs_background": "light"
     },
     "output_type": "display_data"
    }
   ],
   "source": [
    "plt.hist(data['rooms'], bins=7, range=(0,7))\n",
    "plt.title('Зависимость квартир в продаже от комнат')\n",
    "plt.xlabel('Количество комнат')\n",
    "plt.ylabel('Количество квартир')\n",
    "plt.show()"
   ]
  },
  {
   "cell_type": "markdown",
   "metadata": {},
   "source": [
    "***Вывод:***\n",
    "\n",
    "Среди предложений больше всего однокомнатных квартир. С увеличением комнат количество предложений снижается почти линейно."
   ]
  },
  {
   "cell_type": "markdown",
   "metadata": {},
   "source": [
    "#### Высота потолков"
   ]
  },
  {
   "cell_type": "code",
   "execution_count": 48,
   "metadata": {},
   "outputs": [
    {
     "data": {
      "text/plain": [
       "count    23699.000000\n",
       "mean         2.698721\n",
       "std          0.253208\n",
       "min          1.000000\n",
       "25%          2.600000\n",
       "50%          2.650000\n",
       "75%          2.700000\n",
       "max         14.000000\n",
       "Name: ceiling_height, dtype: float64"
      ]
     },
     "execution_count": 48,
     "metadata": {},
     "output_type": "execute_result"
    }
   ],
   "source": [
    "data['ceiling_height'].describe()"
   ]
  },
  {
   "cell_type": "code",
   "execution_count": 49,
   "metadata": {},
   "outputs": [
    {
     "data": {
      "image/png": "[encoded data removed]",
      "text/plain": [
       "<Figure size 432x288 with 1 Axes>"
      ]
     },
     "metadata": {
      "needs_background": "light"
     },
     "output_type": "display_data"
    }
   ],
   "source": [
    "plt.hist(data.query('(ceiling_height > 2) & (ceiling_height < 4)')['ceiling_height'], bins=50, range=(2.4,3))\n",
    "plt.title('Зависимость квартир в продаже от высоты потолков')\n",
    "plt.xlabel('Метры')\n",
    "plt.ylabel('Количество квартир')\n",
    "plt.show()"
   ]
  },
  {
   "cell_type": "markdown",
   "metadata": {},
   "source": [
    "***Вывод:***\n",
    "\n",
    "Среди большинства предложений высота составляет 2.65 метров, далее 2.5, 2.6, 2.7, 2.55 метров."
   ]
  },
  {
   "cell_type": "markdown",
   "metadata": {},
   "source": [
    "#### Тип этажа квартиры («первый», «последний», «другой»)"
   ]
  },
  {
   "cell_type": "code",
   "execution_count": 50,
   "metadata": {},
   "outputs": [
    {
     "data": {
      "image/png": "[encoded data removed]",
      "text/plain": [
       "<Figure size 576x432 with 1 Axes>"
      ]
     },
     "metadata": {
      "needs_background": "light"
     },
     "output_type": "display_data"
    }
   ],
   "source": [
    "(\n",
    "    data.pivot_table(index='type_apartment_floor', values='last_price', aggfunc='median').sort_values(by='last_price', ascending=False)\n",
    "    .plot(kind='bar', grid=True, figsize=(8, 6), legend=False, title='Зависимость цены от этажа расположения квартиры'\n",
    ")\n",
    ")\n",
    "plt.xlabel('Расположение квартиры по этажам')\n",
    "plt.ylabel('Медианная цена')\n",
    "plt.show()"
   ]
  },
  {
   "cell_type": "code",
   "execution_count": 51,
   "metadata": {},
   "outputs": [
    {
     "data": {
      "image/png": "[encoded data removed]",
      "text/plain": [
       "<Figure size 720x504 with 1 Axes>"
      ]
     },
     "metadata": {},
     "output_type": "display_data"
    }
   ],
   "source": [
    "data.pivot_table(index='type_apartment_floor',values='last_price',aggfunc='count') \\\n",
    "  .plot.pie(y='last_price', figsize=(10,7), label='', title='Диаграмма количественного отношения распределения предложений в зависимости от этажа')\n",
    "\n",
    "plt.show()"
   ]
  },
  {
   "cell_type": "markdown",
   "metadata": {},
   "source": [
    "***Вывод:***\n",
    "\n",
    "Менее ценными считаются квартиры на \"Первом\" и \"Последнем\" этаже. На круговой диаграмме заметно, что общее количество предложений \"Первого\" и \"Последнего\" этажа составляет чуть больше 25% от общего количества предложений, значит люди хотят сьехать с этих этажей."
   ]
  },
  {
   "cell_type": "markdown",
   "metadata": {},
   "source": [
    "#### Общее количество этажей в доме"
   ]
  },
  {
   "cell_type": "code",
   "execution_count": 52,
   "metadata": {},
   "outputs": [
    {
     "data": {
      "text/plain": [
       "count    23699.000000\n",
       "mean        10.681759\n",
       "std          6.599383\n",
       "min          1.000000\n",
       "25%          5.000000\n",
       "50%          9.000000\n",
       "75%         16.000000\n",
       "max         60.000000\n",
       "Name: floors_total, dtype: float64"
      ]
     },
     "execution_count": 52,
     "metadata": {},
     "output_type": "execute_result"
    }
   ],
   "source": [
    "data['floors_total'].describe()"
   ]
  },
  {
   "cell_type": "code",
   "execution_count": 53,
   "metadata": {},
   "outputs": [
    {
     "data": {
      "image/png": "[encoded data removed]",
      "text/plain": [
       "<Figure size 432x288 with 1 Axes>"
      ]
     },
     "metadata": {
      "needs_background": "light"
     },
     "output_type": "display_data"
    }
   ],
   "source": [
    "plt.hist(data['floors_total'], bins=100, range=(1,30))\n",
    "plt.title('Зависимость квартир в продаже от общего количество этажей в доме')\n",
    "plt.xlabel('Этаж')\n",
    "plt.ylabel('Количество квартир')\n",
    "plt.show()"
   ]
  },
  {
   "cell_type": "markdown",
   "metadata": {},
   "source": [
    "***Вывод:***\n",
    "\n",
    "Больше всего предложений о продаже квартир в пятиэтажных домах, а потом в девятиэтажках."
   ]
  },
  {
   "cell_type": "markdown",
   "metadata": {},
   "source": [
    "#### Расстояние до центра города в метрах"
   ]
  },
  {
   "cell_type": "code",
   "execution_count": 54,
   "metadata": {},
   "outputs": [
    {
     "data": {
      "text/plain": [
       "count    18180.000000\n",
       "mean     14191.277833\n",
       "std       8608.386210\n",
       "min        181.000000\n",
       "25%       9238.000000\n",
       "50%      13098.500000\n",
       "75%      16293.000000\n",
       "max      65968.000000\n",
       "Name: city_centers_nearest, dtype: float64"
      ]
     },
     "execution_count": 54,
     "metadata": {},
     "output_type": "execute_result"
    }
   ],
   "source": [
    "data['city_centers_nearest'].describe()"
   ]
  },
  {
   "cell_type": "code",
   "execution_count": 55,
   "metadata": {},
   "outputs": [
    {
     "data": {
      "image/png": "[encoded data removed]",
      "text/plain": [
       "<Figure size 432x288 with 1 Axes>"
      ]
     },
     "metadata": {
      "needs_background": "light"
     },
     "output_type": "display_data"
    }
   ],
   "source": [
    "plt.hist(data['city_centers_nearest'], bins=100, range=(0,25000))\n",
    "plt.title('Зависимость квартир в продаже от центра удаленности от центра города')\n",
    "plt.xlabel('Расстояние до центра города (метров)')\n",
    "plt.ylabel('Количество квартир')\n",
    "plt.show()"
   ]
  },
  {
   "cell_type": "markdown",
   "metadata": {},
   "source": [
    "***Вывод:***\n",
    "\n",
    "Больше всего предложений о продаже в спальных районах на окраинах города (на расстоянии 12000 -15000 метров)), и значительным всплеском на расстоянии в 5000 метров от центра города."
   ]
  },
  {
   "cell_type": "markdown",
   "metadata": {},
   "source": [
    "#### Расстояние до ближайшего парка"
   ]
  },
  {
   "cell_type": "code",
   "execution_count": 56,
   "metadata": {},
   "outputs": [
    {
     "data": {
      "text/plain": [
       "count    8079.000000\n",
       "mean      490.804555\n",
       "std       342.317995\n",
       "min         1.000000\n",
       "25%       288.000000\n",
       "50%       455.000000\n",
       "75%       612.000000\n",
       "max      3190.000000\n",
       "Name: parks_nearest, dtype: float64"
      ]
     },
     "execution_count": 56,
     "metadata": {},
     "output_type": "execute_result"
    }
   ],
   "source": [
    "data['parks_nearest'].describe()"
   ]
  },
  {
   "cell_type": "code",
   "execution_count": 57,
   "metadata": {},
   "outputs": [
    {
     "data": {
      "image/png": "[encoded data removed]",
      "text/plain": [
       "<Figure size 432x288 with 1 Axes>"
      ]
     },
     "metadata": {
      "needs_background": "light"
     },
     "output_type": "display_data"
    }
   ],
   "source": [
    "plt.hist(data['parks_nearest'], bins=100, range=(100,800))\n",
    "plt.title('Зависимость квартир в продаже от удаленности от парка')\n",
    "plt.xlabel('Расстояние до марка (метров)')\n",
    "plt.ylabel('Количество квартир')\n",
    "plt.show()"
   ]
  },
  {
   "cell_type": "markdown",
   "metadata": {},
   "source": [
    "***Вывод:***\n",
    "\n",
    "Количество предложений не сильно зависит от удаленности от ближайшего парка. Среднее расстояние до парка премерно составляет 200 - 700 метров."
   ]
  },
  {
   "cell_type": "markdown",
   "metadata": {},
   "source": [
    "# Как быстро продавались квартиры (столбец `days_exposition`)"
   ]
  },
  {
   "cell_type": "code",
   "execution_count": 58,
   "metadata": {},
   "outputs": [
    {
     "name": "stdout",
     "output_type": "stream",
     "text": [
      "count    20518.000000\n",
      "mean       180.888634\n",
      "std        219.727988\n",
      "min          1.000000\n",
      "25%         45.000000\n",
      "50%         95.000000\n",
      "75%        232.000000\n",
      "max       1580.000000\n",
      "Name: days_exposition, dtype: float64\n"
     ]
    }
   ],
   "source": [
    "print(data['days_exposition'].describe())"
   ]
  },
  {
   "cell_type": "code",
   "execution_count": 59,
   "metadata": {},
   "outputs": [
    {
     "data": {
      "image/png": "[encoded data removed]",
      "text/plain": [
       "<Figure size 432x288 with 1 Axes>"
      ]
     },
     "metadata": {
      "needs_background": "light"
     },
     "output_type": "display_data"
    }
   ],
   "source": [
    "plt.hist(data['days_exposition'], bins=100, range=(0,250))\n",
    "plt.title('Распределение количества продаж по времени')\n",
    "plt.xlabel('Сколько дней было размещено объявление (от публикации до снятия)')\n",
    "plt.ylabel('Количество объявлений')\n",
    "plt.show()"
   ]
  },
  {
   "cell_type": "markdown",
   "metadata": {},
   "source": [
    "***Анализ времени продажи квартир***\n",
    "\n",
    "Среднее время продажи составляет примерно 180 дней. Однако более точным показателем является медианное значение, которое составляет 95 дней и не зависит от выбросов и аномальных значений.\n",
    "\n",
    "В среднем, продажа квартиры занимает 2–3 месяца, в зависимости от таких факторов, как площадь, цена и удалённость от центра города.\n",
    "\n",
    "К быстрым продажам можно отнести сделки, заключённые в течение 45 дней (в первом квартиле), а к длительным — после 232 дней и более (после третьего квартиля), когда продажа может так и не состояться."
   ]
  },
  {
   "cell_type": "code",
   "execution_count": 60,
   "metadata": {},
   "outputs": [
    {
     "name": "stdout",
     "output_type": "stream",
     "text": [
      "                   last_price  total_area  living_area  kitchen_area  \\\n",
      "last_price           1.000000    0.653675     0.566492      0.513476   \n",
      "total_area           0.653675    1.000000     0.939537      0.659934   \n",
      "living_area          0.566492    0.939537     1.000000      0.453623   \n",
      "kitchen_area         0.513476    0.659934     0.453623      1.000000   \n",
      "rooms                0.363343    0.758344     0.845977      0.326198   \n",
      "day_publication      0.001550   -0.004695    -0.005605     -0.005570   \n",
      "month_publication    0.002779    0.004920    -0.002483      0.003495   \n",
      "year_publication    -0.043089   -0.079912    -0.072696     -0.059935   \n",
      "\n",
      "                      rooms  day_publication  month_publication  \\\n",
      "last_price         0.363343         0.001550           0.002779   \n",
      "total_area         0.758344        -0.004695           0.004920   \n",
      "living_area        0.845977        -0.005605          -0.002483   \n",
      "kitchen_area       0.326198        -0.005570           0.003495   \n",
      "rooms              1.000000        -0.004134          -0.004469   \n",
      "day_publication   -0.004134         1.000000           0.011496   \n",
      "month_publication -0.004469         0.011496           1.000000   \n",
      "year_publication  -0.055418        -0.004799          -0.269642   \n",
      "\n",
      "                   year_publication  \n",
      "last_price                -0.043089  \n",
      "total_area                -0.079912  \n",
      "living_area               -0.072696  \n",
      "kitchen_area              -0.059935  \n",
      "rooms                     -0.055418  \n",
      "day_publication           -0.004799  \n",
      "month_publication         -0.269642  \n",
      "year_publication           1.000000  \n"
     ]
    }
   ],
   "source": [
    "print(data[['last_price', 'total_area', 'living_area', 'kitchen_area', 'rooms', \n",
    "                'day_publication', 'month_publication', 'year_publication']].corr())"
   ]
  },
  {
   "cell_type": "markdown",
   "metadata": {},
   "source": [
    "#### Выявим ключевые факторы, оказывающие наибольшее воздействие на итоговую стоимость объекта.\n",
    "\n",
    "Проанализируем взаимосвязь между ценой `last_price` и числовыми показателями, используя метод корреляционного анализа.\n",
    "\n",
    "- `total_area` - общая площадь\n",
    "- `living_area` - жилая площадь\n",
    "- `kitchen_area` - площадь кухни\n",
    "- `rooms` - количество комнат\n",
    "- `day_publication` - день публикации\n",
    "- `month_publication` - месяц публикации\n",
    "- `year_publication` - год публикации"
   ]
  },
  {
   "cell_type": "code",
   "execution_count": 61,
   "metadata": {},
   "outputs": [
    {
     "name": "stdout",
     "output_type": "stream",
     "text": [
      "                   last_price  total_area  living_area  kitchen_area  \\\n",
      "last_price           1.000000    0.653675     0.566492      0.513476   \n",
      "total_area           0.653675    1.000000     0.939537      0.659934   \n",
      "living_area          0.566492    0.939537     1.000000      0.453623   \n",
      "kitchen_area         0.513476    0.659934     0.453623      1.000000   \n",
      "rooms                0.363343    0.758344     0.845977      0.326198   \n",
      "day_publication      0.001550   -0.004695    -0.005605     -0.005570   \n",
      "month_publication    0.002779    0.004920    -0.002483      0.003495   \n",
      "year_publication    -0.043089   -0.079912    -0.072696     -0.059935   \n",
      "\n",
      "                      rooms  day_publication  month_publication  \\\n",
      "last_price         0.363343         0.001550           0.002779   \n",
      "total_area         0.758344        -0.004695           0.004920   \n",
      "living_area        0.845977        -0.005605          -0.002483   \n",
      "kitchen_area       0.326198        -0.005570           0.003495   \n",
      "rooms              1.000000        -0.004134          -0.004469   \n",
      "day_publication   -0.004134         1.000000           0.011496   \n",
      "month_publication -0.004469         0.011496           1.000000   \n",
      "year_publication  -0.055418        -0.004799          -0.269642   \n",
      "\n",
      "                   year_publication  \n",
      "last_price                -0.043089  \n",
      "total_area                -0.079912  \n",
      "living_area               -0.072696  \n",
      "kitchen_area              -0.059935  \n",
      "rooms                     -0.055418  \n",
      "day_publication           -0.004799  \n",
      "month_publication         -0.269642  \n",
      "year_publication           1.000000  \n"
     ]
    }
   ],
   "source": [
    "print(data[['last_price','total_area','living_area','kitchen_area',\n",
    "            'rooms','day_publication','month_publication','year_publication']].corr())"
   ]
  },
  {
   "cell_type": "code",
   "execution_count": 62,
   "metadata": {},
   "outputs": [
    {
     "name": "stdout",
     "output_type": "stream",
     "text": [
      "              last_price  total_area  living_area  kitchen_area     rooms\n",
      "last_price      1.000000    0.653675     0.566492      0.513476  0.363343\n",
      "total_area      0.653675    1.000000     0.939537      0.659934  0.758344\n",
      "living_area     0.566492    0.939537     1.000000      0.453623  0.845977\n",
      "kitchen_area    0.513476    0.659934     0.453623      1.000000  0.326198\n",
      "rooms           0.363343    0.758344     0.845977      0.326198  1.000000\n"
     ]
    }
   ],
   "source": [
    "print(data[['last_price','total_area','living_area','kitchen_area','rooms']].corr())"
   ]
  },
  {
   "cell_type": "markdown",
   "metadata": {},
   "source": [
    "Анализ данных показывает, что между ними отсутствует прямая взаимосвязь. Вероятно, это обусловлено присутствием множества необычных и аномальных значений."
   ]
  },
  {
   "cell_type": "code",
   "execution_count": 63,
   "metadata": {},
   "outputs": [
    {
     "name": "stdout",
     "output_type": "stream",
     "text": [
      "Столбец 'last_price': удалено 8.58% данных при IQR факторе 1.5\n",
      "Столбец 'total_area': удалено 5.23% данных при IQR факторе 1.5\n",
      "Столбец 'living_area': после смягчения удалено 9.60% данных при максимальном IQR 2.500000000000001\n",
      "Столбец 'kitchen_area': после смягчения удалено 3.03% данных при максимальном IQR 2.500000000000001\n",
      "Столбец 'rooms': удалено 0.38% данных при IQR факторе 1.5\n",
      "Столбец 'ceiling_height': после смягчения удалено 11.41% данных при максимальном IQR 2.500000000000001\n",
      "Общий процент удалённых данных: 9.35%\n"
     ]
    }
   ],
   "source": [
    "# Функция для расчёта границ выбросов\n",
    "def calculate_iqr_bounds(data, column, iqr_factor=1.5):\n",
    "    q1 = data[column].quantile(0.25)\n",
    "    q3 = data[column].quantile(0.75)\n",
    "    iqr = q3 - q1\n",
    "    lower_bound = q1 - iqr_factor * iqr\n",
    "    upper_bound = q3 + iqr_factor * iqr\n",
    "    return lower_bound, upper_bound\n",
    "\n",
    "list_features = ['last_price', 'total_area', 'living_area', 'kitchen_area', 'rooms', 'ceiling_height']# Список столбцов с выбросами\n",
    "data_cleaned = data.copy()\n",
    "\n",
    "overall_mask = pd.Series(True, index=data.index)\n",
    "\n",
    "total_removed_percentage = 0\n",
    "\n",
    "initial_iqr_factor = 1.5 # НАч фактор IQR\n",
    "max_iqr_factor = 2.5 # Макс фактор \n",
    "\n",
    "for col in list_features:\n",
    "    \n",
    "    iqr_factor = initial_iqr_factor # Устанавливаем начальный фактор IQR\n",
    "    \n",
    "    while True:\n",
    "        lower_bound, upper_bound = calculate_iqr_bounds(data_cleaned, col, iqr_factor=iqr_factor)# Рассчитываем границы выбросов\n",
    "        \n",
    "        mask = (data_cleaned[col] >= lower_bound) & (data_cleaned[col] <= upper_bound)\n",
    "        removed_percentage = (1 - mask.mean()) * 100\n",
    "        \n",
    "        new_overall_mask = overall_mask & mask\n",
    "        new_total_removed_percentage = (1 - new_overall_mask.mean()) * 100\n",
    "\n",
    "        if new_total_removed_percentage <= 10 or iqr_factor >= max_iqr_factor:\n",
    "            overall_mask = new_overall_mask\n",
    "            total_removed_percentage = new_total_removed_percentage\n",
    "            print(f\"Столбец '{col}': удалено {removed_percentage:.2f}% данных при IQR факторе {iqr_factor}\")\n",
    "            break\n",
    "        else:\n",
    "            iqr_factor += 0.1 # Увеличиваем фактор IQR на шаг 0.1\n",
    "            \n",
    "        if iqr_factor > max_iqr_factor: # Если макс фактор, то выходим\n",
    "            print(f\"Столбец '{col}': после смягчения удалено {removed_percentage:.2f}% данных при максимальном IQR {iqr_factor}\")\n",
    "            break\n",
    "    \n",
    "    \n",
    "    if total_removed_percentage > 10: # Проверка на общ процент удаленных данных, если превышает - выходим\n",
    "        print(f\"Процесс удаления остановлен. Общий процент удалённых данных превышает 10% после обработки столбца '{col}'.\")\n",
    "        break\n",
    "\n",
    "data_cleaned = data_cleaned[overall_mask]\n",
    "print(f\"Общий процент удалённых данных: {total_removed_percentage:.2f}%\")"
   ]
  },
  {
   "cell_type": "code",
   "execution_count": 64,
   "metadata": {},
   "outputs": [
    {
     "name": "stdout",
     "output_type": "stream",
     "text": [
      "              last_price  total_area  living_area  kitchen_area     rooms\n",
      "last_price      1.000000    0.653675     0.566492      0.513476  0.363343\n",
      "total_area      0.653675    1.000000     0.939537      0.659934  0.758344\n",
      "living_area     0.566492    0.939537     1.000000      0.453623  0.845977\n",
      "kitchen_area    0.513476    0.659934     0.453623      1.000000  0.326198\n",
      "rooms           0.363343    0.758344     0.845977      0.326198  1.000000\n"
     ]
    }
   ],
   "source": [
    "print(data[['last_price','total_area','living_area','kitchen_area','rooms']].corr())"
   ]
  },
  {
   "cell_type": "markdown",
   "metadata": {},
   "source": [
    "***Предварительный анализ***\n",
    "\n",
    "После удаления выбросов из данных датафрейма, результаты стали более надёжными и точными. Наблюдается почти линейная корреляция между:\n",
    "- стоимостью и общей площадью;\n",
    "\n",
    "- тоимостью и количеством комнат.\n",
    "\n",
    "Корреляция между:\n",
    "\n",
    "- стоимостью и датой публикации;\n",
    "\n",
    "- стоимостью и площадью кухни — слабая.\n",
    "\n",
    "Для остальных показателей корреляция отсутствует. Прямой зависимости нет"
   ]
  },
  {
   "cell_type": "code",
   "execution_count": 65,
   "metadata": {},
   "outputs": [
    {
     "data": {
      "image/png": "[encoded data removed]",
      "text/plain": [
       "<Figure size 432x288 with 1 Axes>"
      ]
     },
     "metadata": {
      "needs_background": "light"
     },
     "output_type": "display_data"
    }
   ],
   "source": [
    "plt.figure(figsize=(6, 4))\n",
    "plt.scatter(data['total_area'], data['last_price'], alpha=0.5)\n",
    "plt.grid(True)\n",
    "plt.title('Зависимость цены от общей площади')\n",
    "plt.xlabel('Общая площадь (кв. м)')\n",
    "plt.ylabel('Цена')\n",
    "plt.show()"
   ]
  },
  {
   "cell_type": "code",
   "execution_count": 66,
   "metadata": {},
   "outputs": [
    {
     "data": {
      "image/png": "[encoded data removed]",
      "text/plain": [
       "<Figure size 432x288 with 1 Axes>"
      ]
     },
     "metadata": {
      "needs_background": "light"
     },
     "output_type": "display_data"
    }
   ],
   "source": [
    "# Зависимость цены от жилой площади\n",
    "plt.figure(figsize=(6, 4))\n",
    "plt.scatter(data['living_area'], data['last_price'], alpha=0.5)\n",
    "plt.grid(True)\n",
    "plt.title('Зависимость цены от жилой площади')\n",
    "plt.xlabel('Жилая площадь (кв. м)')\n",
    "plt.ylabel('Цена')\n",
    "plt.show()"
   ]
  },
  {
   "cell_type": "code",
   "execution_count": 67,
   "metadata": {},
   "outputs": [
    {
     "data": {
      "image/png": "[encoded data removed]",
      "text/plain": [
       "<Figure size 432x288 with 1 Axes>"
      ]
     },
     "metadata": {
      "needs_background": "light"
     },
     "output_type": "display_data"
    }
   ],
   "source": [
    "# Зависимость цены от площади кухни\n",
    "plt.figure(figsize=(6, 4))\n",
    "plt.scatter(data['kitchen_area'], data['last_price'], alpha=0.5)\n",
    "plt.grid(True)\n",
    "plt.title('Зависимость цены от площади кухни')\n",
    "plt.xlabel('Площадь кухни (кв. м)')\n",
    "plt.ylabel('Цена')\n",
    "plt.show()"
   ]
  },
  {
   "cell_type": "code",
   "execution_count": 68,
   "metadata": {},
   "outputs": [
    {
     "data": {
      "image/png": "[encoded data removed]",
      "text/plain": [
       "<Figure size 360x360 with 1 Axes>"
      ]
     },
     "metadata": {
      "needs_background": "light"
     },
     "output_type": "display_data"
    }
   ],
   "source": [
    "(\n",
    "    data.pivot_table(index='rooms', values='last_price')\n",
    "    .plot(grid=True, style='o-', figsize=(5, 5))\n",
    ")\n",
    "plt.title('Зависимость цены от числа комнат')\n",
    "plt.show()"
   ]
  },
  {
   "cell_type": "code",
   "execution_count": 69,
   "metadata": {},
   "outputs": [
    {
     "data": {
      "image/png": "[encoded data removed]",
      "text/plain": [
       "<Figure size 360x360 with 1 Axes>"
      ]
     },
     "metadata": {
      "needs_background": "light"
     },
     "output_type": "display_data"
    }
   ],
   "source": [
    "(\n",
    "    data.pivot_table(index='type_apartment_floor', values='last_price')\n",
    "    .plot(grid=True, style='o-', figsize=(5, 5))\n",
    ")\n",
    "plt.title('Зависимость цены типа этажа расположения')\n",
    "plt.show()"
   ]
  },
  {
   "cell_type": "code",
   "execution_count": 70,
   "metadata": {},
   "outputs": [
    {
     "data": {
      "image/png": "[encoded data removed]",
      "text/plain": [
       "<Figure size 360x360 with 1 Axes>"
      ]
     },
     "metadata": {
      "needs_background": "light"
     },
     "output_type": "display_data"
    }
   ],
   "source": [
    "(\n",
    "    data.pivot_table(index='day_publication', values='last_price')\n",
    "    .plot(grid=True, style='o-', figsize=(5, 5))\n",
    ")\n",
    "plt.title('Зависимость цены от дня публикации')\n",
    "plt.show()"
   ]
  },
  {
   "cell_type": "code",
   "execution_count": 71,
   "metadata": {},
   "outputs": [
    {
     "data": {
      "image/png": "[encoded data removed]",
      "text/plain": [
       "<Figure size 360x360 with 1 Axes>"
      ]
     },
     "metadata": {
      "needs_background": "light"
     },
     "output_type": "display_data"
    }
   ],
   "source": [
    "(\n",
    "    data.pivot_table(index='month_publication', values='last_price', aggfunc='median')\n",
    "    .plot(grid=True, style='o-', figsize=(5, 5))\n",
    ")\n",
    "plt.title('Зависимость цены от месяца публикации')\n",
    "plt.show()"
   ]
  },
  {
   "cell_type": "code",
   "execution_count": 72,
   "metadata": {},
   "outputs": [
    {
     "data": {
      "image/png": "[encoded data removed]",
      "text/plain": [
       "<Figure size 360x360 with 1 Axes>"
      ]
     },
     "metadata": {
      "needs_background": "light"
     },
     "output_type": "display_data"
    }
   ],
   "source": [
    "(\n",
    "    data.pivot_table(index='year_publication', values='last_price')\n",
    "    .plot(grid=True, style='o-', figsize=(5, 5))\n",
    ")\n",
    "plt.title('Зависимость цены от года публикации')\n",
    "plt.show()"
   ]
  },
  {
   "cell_type": "markdown",
   "metadata": {},
   "source": [
    "***Вывод:***\n",
    "\n",
    "Результаты исследования подтвердили предварительные выводы:\n",
    "\n",
    "— Чем больше площадь квартиры, тем выше её стоимость. Между этими параметрами наблюдается сильная корреляция.\n",
    "\n",
    "— Количество комнат также влияет на цену квартиры: чем больше комнат, тем больше жилая площадь и, как следствие, выше цена. Однако эта зависимость менее выражена, чем зависимость от общей площади, поскольку существуют квартиры с большими комнатами и квартиры в центре города с малым количеством комнат, которые при этом стоят дорого.\n",
    "\n",
    "— Расположение квартиры на этаже также влияет на её стоимость: квартиры на первом этаже, как правило, стоят дешевле, чем квартиры на других этажах. Квартиры на последнем этаже стоят чуть дороже, чем квартиры на других этажах. Квартиры, расположенные не на первом и не на последнем этаже, имеют самую высокую стоимость."
   ]
  },
  {
   "cell_type": "markdown",
   "metadata": {},
   "source": [
    "#### Рассчитаем среднюю стоимость квадратного метра в 10 городах с наибольшим количеством объявлений."
   ]
  },
  {
   "cell_type": "code",
   "execution_count": 73,
   "metadata": {},
   "outputs": [
    {
     "data": {
      "text/html": [
       "<div>\n",
       "<style scoped>\n",
       "    .dataframe tbody tr th:only-of-type {\n",
       "        vertical-align: middle;\n",
       "    }\n",
       "\n",
       "    .dataframe tbody tr th {\n",
       "        vertical-align: top;\n",
       "    }\n",
       "\n",
       "    .dataframe thead th {\n",
       "        text-align: right;\n",
       "    }\n",
       "</style>\n",
       "<table border=\"1\" class=\"dataframe\">\n",
       "  <thead>\n",
       "    <tr style=\"text-align: right;\">\n",
       "      <th></th>\n",
       "      <th>count</th>\n",
       "      <th>price_meter</th>\n",
       "    </tr>\n",
       "    <tr>\n",
       "      <th>locality_name</th>\n",
       "      <th></th>\n",
       "      <th></th>\n",
       "    </tr>\n",
       "  </thead>\n",
       "  <tbody>\n",
       "    <tr>\n",
       "      <th>санкт-петербург</th>\n",
       "      <td>15721</td>\n",
       "      <td>114849.01</td>\n",
       "    </tr>\n",
       "    <tr>\n",
       "      <th>пушкин</th>\n",
       "      <td>369</td>\n",
       "      <td>103125.82</td>\n",
       "    </tr>\n",
       "    <tr>\n",
       "      <th>кудрово</th>\n",
       "      <td>472</td>\n",
       "      <td>95324.93</td>\n",
       "    </tr>\n",
       "    <tr>\n",
       "      <th>парголово</th>\n",
       "      <td>327</td>\n",
       "      <td>90175.91</td>\n",
       "    </tr>\n",
       "    <tr>\n",
       "      <th>мурино</th>\n",
       "      <td>590</td>\n",
       "      <td>86087.51</td>\n",
       "    </tr>\n",
       "    <tr>\n",
       "      <th>шушары</th>\n",
       "      <td>440</td>\n",
       "      <td>78677.36</td>\n",
       "    </tr>\n",
       "    <tr>\n",
       "      <th>колпино</th>\n",
       "      <td>338</td>\n",
       "      <td>75424.58</td>\n",
       "    </tr>\n",
       "    <tr>\n",
       "      <th>гатчина</th>\n",
       "      <td>307</td>\n",
       "      <td>68746.15</td>\n",
       "    </tr>\n",
       "    <tr>\n",
       "      <th>всеволожск</th>\n",
       "      <td>398</td>\n",
       "      <td>68654.47</td>\n",
       "    </tr>\n",
       "    <tr>\n",
       "      <th>выборг</th>\n",
       "      <td>237</td>\n",
       "      <td>58141.91</td>\n",
       "    </tr>\n",
       "  </tbody>\n",
       "</table>\n",
       "</div>"
      ],
      "text/plain": [
       "                 count  price_meter\n",
       "locality_name                      \n",
       "санкт-петербург  15721    114849.01\n",
       "пушкин             369    103125.82\n",
       "кудрово            472     95324.93\n",
       "парголово          327     90175.91\n",
       "мурино             590     86087.51\n",
       "шушары             440     78677.36\n",
       "колпино            338     75424.58\n",
       "гатчина            307     68746.15\n",
       "всеволожск         398     68654.47\n",
       "выборг             237     58141.91"
      ]
     },
     "execution_count": 73,
     "metadata": {},
     "output_type": "execute_result"
    }
   ],
   "source": [
    "price_sm_name = data.pivot_table(index='locality_name', values='last_price', aggfunc=['count'])\n",
    "price_sm_name.columns = ['count']\n",
    "price_sm_name = price_sm_name.sort_values(by='count', ascending=False).head(10)\n",
    "price_sm_name['price_meter'] = data.pivot_table(index='locality_name', values='price_meter').round(2)\n",
    "price_sm_name.sort_values(by='price_meter', ascending=False)"
   ]
  },
  {
   "cell_type": "code",
   "execution_count": 74,
   "metadata": {},
   "outputs": [
    {
     "data": {
      "text/plain": [
       "<Figure size 864x432 with 0 Axes>"
      ]
     },
     "metadata": {},
     "output_type": "display_data"
    },
    {
     "data": {
      "image/png": "[encoded data removed]",
      "text/plain": [
       "<Figure size 432x288 with 1 Axes>"
      ]
     },
     "metadata": {
      "needs_background": "light"
     },
     "output_type": "display_data"
    }
   ],
   "source": [
    "plt.figure(figsize=(12, 6))\n",
    "price_sm_name.plot(kind='bar', color='skyblue')\n",
    "plt.title('Средняя цена за квадратный метр в топ-10 населённых пунктах')\n",
    "plt.xlabel('Населённый пункт')\n",
    "plt.ylabel('Средняя цена за квадратный метр')\n",
    "plt.xticks(rotation=45)\n",
    "plt.grid(axis='y')\n",
    "plt.tight_layout()\n",
    "plt.show()"
   ]
  },
  {
   "cell_type": "markdown",
   "metadata": {},
   "source": [
    "***Вывод:***\n",
    "\n",
    "Как и ожидалось, самая высокая средняя стоимость квадратного метра жилья наблюдается в Санкт-Петербурге. Далее следует Пушкин, что, возможно, связано с его развитой инфраструктурой и обилием зелёных зон. Затем идут районы, которые фактически являются частью Санкт-Петербурга и примыкают к нему. Наименьшая стоимость жилья зафиксирована в Гатчине и Всеволожске, до которых достаточно далеко добираться из Санкт-Петербурга, а также в Выборге, который находится на значительном расстоянии от города и имеет небольшую численность населения."
   ]
  },
  {
   "cell_type": "markdown",
   "metadata": {},
   "source": [
    "#### Проанализируем рынок недвижимости в Санкт-Петербурге, используя столбец locality_name, и определим среднюю стоимость квартир в зависимости от их удалённости от центра города."
   ]
  },
  {
   "cell_type": "code",
   "execution_count": 75,
   "metadata": {},
   "outputs": [
    {
     "data": {
      "text/plain": [
       "count    15660.000000\n",
       "mean        11.596041\n",
       "std          4.863594\n",
       "min          0.000000\n",
       "25%          8.000000\n",
       "50%         12.000000\n",
       "75%         15.000000\n",
       "max         29.000000\n",
       "Name: distance_city_center, dtype: float64"
      ]
     },
     "execution_count": 75,
     "metadata": {},
     "output_type": "execute_result"
    }
   ],
   "source": [
    "data.query('locality_name == \"санкт-петербург\"')['distance_city_center'].describe()"
   ]
  },
  {
   "cell_type": "code",
   "execution_count": 76,
   "metadata": {},
   "outputs": [
    {
     "data": {
      "image/png": "[encoded data removed]",
      "text/plain": [
       "<Figure size 720x360 with 1 Axes>"
      ]
     },
     "metadata": {
      "needs_background": "light"
     },
     "output_type": "display_data"
    },
    {
     "name": "stdout",
     "output_type": "stream",
     "text": [
      "В таблице представлена информация о средней стоимости квартир в зависимости от удалённости от центра Санкт-Петербурга.\n"
     ]
    },
    {
     "data": {
      "text/html": [
       "<div>\n",
       "<style scoped>\n",
       "    .dataframe tbody tr th:only-of-type {\n",
       "        vertical-align: middle;\n",
       "    }\n",
       "\n",
       "    .dataframe tbody tr th {\n",
       "        vertical-align: top;\n",
       "    }\n",
       "\n",
       "    .dataframe thead th {\n",
       "        text-align: right;\n",
       "    }\n",
       "</style>\n",
       "<table border=\"1\" class=\"dataframe\">\n",
       "  <thead>\n",
       "    <tr style=\"text-align: right;\">\n",
       "      <th></th>\n",
       "      <th>last_price</th>\n",
       "    </tr>\n",
       "    <tr>\n",
       "      <th>distance_city_center</th>\n",
       "      <th></th>\n",
       "    </tr>\n",
       "  </thead>\n",
       "  <tbody>\n",
       "    <tr>\n",
       "      <th>0.0</th>\n",
       "      <td>3.144912e+07</td>\n",
       "    </tr>\n",
       "    <tr>\n",
       "      <th>1.0</th>\n",
       "      <td>2.120672e+07</td>\n",
       "    </tr>\n",
       "    <tr>\n",
       "      <th>2.0</th>\n",
       "      <td>1.778832e+07</td>\n",
       "    </tr>\n",
       "    <tr>\n",
       "      <th>3.0</th>\n",
       "      <td>1.112658e+07</td>\n",
       "    </tr>\n",
       "    <tr>\n",
       "      <th>4.0</th>\n",
       "      <td>1.330428e+07</td>\n",
       "    </tr>\n",
       "    <tr>\n",
       "      <th>5.0</th>\n",
       "      <td>1.449912e+07</td>\n",
       "    </tr>\n",
       "    <tr>\n",
       "      <th>6.0</th>\n",
       "      <td>1.533842e+07</td>\n",
       "    </tr>\n",
       "    <tr>\n",
       "      <th>7.0</th>\n",
       "      <td>1.477515e+07</td>\n",
       "    </tr>\n",
       "    <tr>\n",
       "      <th>8.0</th>\n",
       "      <td>9.957717e+06</td>\n",
       "    </tr>\n",
       "    <tr>\n",
       "      <th>9.0</th>\n",
       "      <td>6.950659e+06</td>\n",
       "    </tr>\n",
       "  </tbody>\n",
       "</table>\n",
       "</div>"
      ],
      "text/plain": [
       "                        last_price\n",
       "distance_city_center              \n",
       "0.0                   3.144912e+07\n",
       "1.0                   2.120672e+07\n",
       "2.0                   1.778832e+07\n",
       "3.0                   1.112658e+07\n",
       "4.0                   1.330428e+07\n",
       "5.0                   1.449912e+07\n",
       "6.0                   1.533842e+07\n",
       "7.0                   1.477515e+07\n",
       "8.0                   9.957717e+06\n",
       "9.0                   6.950659e+06"
      ]
     },
     "execution_count": 76,
     "metadata": {},
     "output_type": "execute_result"
    }
   ],
   "source": [
    "(\n",
    "    data.query('locality_name == \"санкт-петербург\"')\n",
    "    .pivot_table(index='distance_city_center', values='last_price')\n",
    "    .plot(grid=True, style='o-', figsize=(10, 5))\n",
    ")\n",
    "plt.title('Зависимость цены от удаления от центра города в Санкт-Петербурге')\n",
    "plt.xlabel('Расстояние от центра города (километр)')\n",
    "plt.ylabel('Цена (млн. руб.)')\n",
    "plt.show()\n",
    "print('В таблице представлена информация о средней стоимости квартир в зависимости от удалённости от центра Санкт-Петербурга.')\n",
    "data.query('locality_name == \"санкт-петербург\" and distance_city_center<10').pivot_table(values='last_price', index='distance_city_center')"
   ]
  },
  {
   "cell_type": "markdown",
   "metadata": {},
   "source": [
    "***Вывод:***\n",
    "\n",
    "В центре Санкт-Петербурга находятся наиболее дорогие квартиры, с максимальными ценами на расстоянии до 1 км от центра, что соответствует элитной недвижимости с ценой около 30 млн рублей.\n",
    "\n",
    "Начиная с расстояния в 3 км, цена на квартиры начинает снижаться достаточно резко, достигнув средней стоимости в районе 11-15 млн рублей на расстоянии до 5 км. Затем наблюдается постепенное снижение стоимости до отметки около 7 млн рублей на расстоянии 9-10 км от центра.\n",
    "\n",
    "После этого, начиная с расстояния около 10 км и далее, цены остаются относительно стабильными на уровне 5-10 млн рублей. Однако наблюдается один всплеск цен около 25 км, который может быть связан с отдельными элитными районами или загородной недвижимостью.\n",
    "\n",
    "Таким образом, наибольшее снижение цен наблюдается на расстоянии до 7-10 км от центра, после чего стоимость квартир стабилизируется, с редкими исключениями."
   ]
  },
  {
   "cell_type": "markdown",
   "metadata": {
    "id": "h7VpzkIDAwb-"
   },
   "source": [
    "### Напишите общий вывод"
   ]
  },
  {
   "cell_type": "markdown",
   "metadata": {
    "id": "3H4lnp_KAwb-"
   },
   "source": [
    "***Общий вывод***\n",
    "\n",
    "В процессе анализа объявлений о продаже квартир были выполнены следующие шаги и сделаны выводы:\n",
    "\n",
    "1. Изучена общуая информация о данных.\n",
    "\n",
    "В данных было обнаружено 23699 записей. Для ряда столбцов были выявлены пропущенные значения и некорректный тип данных. По гистограммам видно, что в данных есть аномальные значения. Явных дубликатов не обнаружено. Данные были признаны полными и достаточными для исследования.\n",
    "\n",
    "2. Была выполнена предварительная обработка данных.\n",
    "\n",
    " - Мы переименовали название столбца `cityCenters_nearest` в `city_centers_nearest`.\n",
    "\n",
    " - Мы заполнили явные пропуски в таблице и округлили значения до значащих величин.\n",
    "\n",
    " - Мы изменили тип данных в соответствии с данными, находящимися в столбцах.\n",
    "\n",
    " - Мы сделали вывод о причинах появления пропусков:\n",
    "\n",
    "          1.Человеческий фактор.\n",
    "          2.Несовершенство программной оболочки (не все поля обязательные, нет чекбоксов с выбором, нет проверки данных).\n",
    "          3.Возможны программные сбои.\n",
    "          4.Доработка системы во время её работы (ранее введённые данные не были скорректированы).\n",
    "          \n",
    "3. В таблицу добавлены новые поля для следующего шага:\n",
    "\n",
    " - `price_square_meter` — стоимость квадратного метра с точностью до двух знаков после запятой.\n",
    "\n",
    " - `day_publication` — день недели, в который было опубликовано объявление (0 — понедельник, 1 — вторник и т. д.).\n",
    "\n",
    " - `month_publication` — месяц публикации.\n",
    "\n",
    " - `year_publication` — год публикации.\n",
    "\n",
    " - `type_apartment_floor` — тип этажа квартиры (значения — «первый», «последний», «другой»).\n",
    "\n",
    " - `distance_city_center` — расстояние до центра города в целых километрах.\n",
    " \n",
    "4. Проведен исследовательский анализ данных.\n",
    "\n",
    "   1. Были изучены и описаны характеристики среднестатистической квартиры. Это жильё в пятиэтажном доме площадью 52 квадратных метра, с кухней в 6 квадратных метров и потолками высотой 2,65 метра. Скорее всего, это будет однокомнатная или двухкомнатная квартира с небольшими комнатами. Она расположена на расстоянии 13 или 5 километров от центра города.\n",
    "\n",
    "   2. Было исследовано, как быстро продаются квартиры. Среднее время продажи составляет 180 дней, а медианное значение — 95 дней. Последнее значение более точно отражает среднее время продажи, поскольку оно не зависит от выбросов и необычных значений.\n",
    "\n",
    "      - В среднем продажа среднестатистической квартиры занимает от двух до трёх месяцев, в зависимости от таких факторов, как площадь, цена и удалённость от центра.\n",
    "\n",
    "      - Быстрыми продажами можно считать те, которые состоялись за 45 дней (в первом квартиле), а необычно длительные продажи — после 232 дней (после третьего квартиля), когда квартира может вообще не продаться.\n",
    "\n",
    "   3. Были определены факторы, которые больше всего влияют на общую стоимость объекта. Чем больше общая площадь, тем выше стоимость. Корреляция между этими параметрами очень высокая.\n",
    "\n",
    "      - Количество комнат также влияет на цену: чем больше комнат, тем больше жилая площадь и тем выше цена. Однако эта зависимость слабее, чем у площади, поскольку бывают квартиры с большими комнатами и квартиры в центре, состоящие из небольшого числа комнат, но стоящие дорого.\n",
    "\n",
    "      - Первый этаж также влияет на стоимость квартиры: в среднем квартиры на первом этаже значительно дешевле. Чуть дороже квартиры на последнем этаже. Наибольшая стоимость у квартир, расположенных не на первом и не на последнем этаже.\n",
    "\n",
    "   4. Была рассчитана средняя цена квадратного метра в 10 населённых пунктах с наибольшим числом объявлений.\n",
    "\n",
    "      - Наибольшая средняя стоимость квадратного метра, как и ожидалось, в Санкт-Петербурге. Затем идёт Пушкин, что, вероятно, связано с хорошей застройкой и большим количеством парков. Затем идут районы, которые фактически являются Санкт-Петербургом и прилегают к нему. Из топ-10 наименьшая стоимость в Гатчине и Всеволожске, которые находятся далеко от Санкт-Петербурга, а также в Выборге, который расположен на большом расстоянии от Санкт-Петербурга и имеет небольшую численность населения.\n",
    "\n",
    "   5. Была вычислена средняя стоимость квартиры на разном удалении от центра Санкт-Петербурга. Самые дорогие квартиры в центре города, и их стоимость уменьшается с увеличением расстояния от центра города до 7 километров, после чего стоимость перестаёт зависеть от удалённости.\n",
    "   \n",
    "      - В центре города квартиры имеют максимальные цены, которые достигают своего пика (около 30 млн руб.) на расстоянии до 1 км от центра.\n",
    "      - По мере удаления от центра до 7 км цены резко снижаются, достигнув уровня около 10 млн руб.\n",
    "      - На расстоянии 10 км и более цены стабилизируются на уровне 5-7 млн руб., с редкими исключениями.\n",
    "      - Был обнаружен всплеск цен на расстоянии около 27 км, что может быть связано с элитной загородной недвижимостью.\n"
   ]
  },
  {
   "cell_type": "markdown",
   "metadata": {
    "id": "A90mc0BgAwb-"
   },
   "source": [
    "**Чек-лист готовности проекта**\n",
    "\n",
    "Поставьте 'x' в выполненных пунктах. Далее нажмите Shift+Enter."
   ]
  },
  {
   "cell_type": "markdown",
   "metadata": {
    "id": "ME3sTWm6Awb-"
   },
   "source": [
    "- [x]  Файл с данными открыт.\n",
    "- [x]  Файл с данными изучен: выведены первые строки, использован метод `info()`, построены гистограммы.\n",
    "- [x]  Найдены пропущенные значения.\n",
    "- [x]  Пропущенные значения заполнены там, где это возможно.\n",
    "- [x]  Объяснено, какие пропущенные значения обнаружены.\n",
    "- [x]  В каждом столбце установлен корректный тип данных.\n",
    "- [x]  Объяснено, в каких столбцах изменён тип данных и почему.\n",
    "- [x]  Устранены неявные дубликаты в названиях населённых пунктов.\n",
    "- [x]  Обработаны редкие и выбивающиеся значения (аномалии).\n",
    "- [x]  В таблицу добавлены новые параметры:\n",
    "       – цена одного квадратного метра;\n",
    "       – день публикации объявления (0 - понедельник, 1 - вторник и т. д.);\n",
    "       – месяц публикации объявления;\n",
    "       – год публикации объявления;\n",
    "       – тип этажа квартиры (значения — «первый», «последний», «другой»);\n",
    "       – расстояние до центра города в километрах.\n",
    "- [x]  Изучены и описаны параметры:\n",
    "        - общая площадь;\n",
    "        - жилая площадь;\n",
    "        - площадь кухни;\n",
    "        - цена объекта;\n",
    "        - количество комнат;\n",
    "        - высота потолков;\n",
    "        - тип этажа квартиры («первый», «последний», «другой»);\n",
    "        - общее количество этажей в доме;\n",
    "        - расстояние до центра города в метрах;\n",
    "        - расстояние до ближайшего парка.\n",
    "- [x]  Выполнено задание «Изучите, как быстро продавались квартиры (столбец `days_exposition`)»:\n",
    "    - построена гистограмма;\n",
    "    - рассчитаны среднее и медиана;\n",
    "    - описано, сколько обычно занимает продажа и указано, какие продажи можно считать быстрыми, а какие — необычно долгими.\n",
    "- [x]  Выполнено задание «Определите факторы, которые больше всего влияют на общую (полную) стоимость объекта». Построены графики, которые показывают зависимость цены от параметров:\n",
    "        - общая площадь;\n",
    "        - жилая площадь;\n",
    "        - площадь кухни;\n",
    "        - количество комнат;\n",
    "        - тип этажа, на котором расположена квартира (первый, последний, другой);\n",
    "        - дата размещения (день недели, месяц, год).\n",
    "- [x]  Выполнено задание «Посчитайте среднюю цену одного квадратного метра в 10 населённых пунктах с наибольшим числом объявлений»:\n",
    "    - выделены населённые пункты с самой высокой и низкой стоимостью квадратного метра.\n",
    "- [x]  Выполнено задание «Выделите квартиры в Санкт-Петербурге с помощью столбца `locality_name` и вычислите их среднюю стоимость на разном удалении от центра»:\n",
    "    -  учтён каждый километр расстояния, известны средние цены квартир в одном километре от центра, в двух и так далее;\n",
    "    -  описано, как стоимость объекта зависит от расстояния до центра города;\n",
    "    -  построен график изменения средней цены для каждого километра от центра Петербурга.\n",
    "- [x]  На каждом этапе сделаны промежуточные выводы.\n",
    "- [x]  В конце проекта сделан общий вывод."
   ]
  }
 ],
 "metadata": {
  "ExecuteTimeLog": [
   {
    "duration": 412,
    "start_time": "2024-09-14T14:03:43.434Z"
   },
   {
    "duration": 337,
    "start_time": "2024-09-14T14:09:10.801Z"
   },
   {
    "duration": 117,
    "start_time": "2024-09-14T14:09:15.110Z"
   },
   {
    "duration": 57,
    "start_time": "2024-09-14T14:09:23.530Z"
   },
   {
    "duration": 110,
    "start_time": "2024-09-14T14:09:29.620Z"
   },
   {
    "duration": 46,
    "start_time": "2024-09-14T14:09:37.669Z"
   },
   {
    "duration": 100,
    "start_time": "2024-09-14T14:09:40.781Z"
   },
   {
    "duration": 49,
    "start_time": "2024-09-14T14:09:47.764Z"
   },
   {
    "duration": 106,
    "start_time": "2024-09-14T14:09:52.302Z"
   },
   {
    "duration": 160,
    "start_time": "2024-09-14T14:09:59.556Z"
   },
   {
    "duration": 177,
    "start_time": "2024-09-14T14:10:02.291Z"
   },
   {
    "duration": 489,
    "start_time": "2024-09-14T14:10:37.339Z"
   },
   {
    "duration": 994,
    "start_time": "2024-09-14T14:10:53.690Z"
   },
   {
    "duration": 153,
    "start_time": "2024-09-14T14:11:02.214Z"
   },
   {
    "duration": 111,
    "start_time": "2024-09-14T14:11:59.859Z"
   },
   {
    "duration": 114,
    "start_time": "2024-09-14T14:12:12.763Z"
   },
   {
    "duration": 110,
    "start_time": "2024-09-14T14:12:22.162Z"
   },
   {
    "duration": 113,
    "start_time": "2024-09-14T14:13:30.922Z"
   },
   {
    "duration": 121,
    "start_time": "2024-09-14T14:13:34.810Z"
   },
   {
    "duration": 120,
    "start_time": "2024-09-14T14:14:01.007Z"
   },
   {
    "duration": 113,
    "start_time": "2024-09-14T14:17:39.985Z"
   },
   {
    "duration": 122,
    "start_time": "2024-09-14T14:17:45.265Z"
   },
   {
    "duration": 111,
    "start_time": "2024-09-14T14:17:56.719Z"
   },
   {
    "duration": 45,
    "start_time": "2024-09-14T14:18:00.454Z"
   },
   {
    "duration": 2261,
    "start_time": "2024-09-14T14:18:36.456Z"
   },
   {
    "duration": 655,
    "start_time": "2024-09-14T14:32:14.057Z"
   },
   {
    "duration": 698,
    "start_time": "2024-09-14T14:32:54.410Z"
   },
   {
    "duration": 671,
    "start_time": "2024-09-14T14:33:57.991Z"
   },
   {
    "duration": 788,
    "start_time": "2024-09-14T14:34:16.481Z"
   },
   {
    "duration": 477,
    "start_time": "2024-09-14T14:34:29.833Z"
   },
   {
    "duration": 58,
    "start_time": "2024-09-14T14:38:23.462Z"
   },
   {
    "duration": 82,
    "start_time": "2024-09-14T14:38:58.385Z"
   },
   {
    "duration": 111,
    "start_time": "2024-09-14T14:39:14.341Z"
   },
   {
    "duration": 2,
    "start_time": "2024-09-14T14:48:32.244Z"
   },
   {
    "duration": 4,
    "start_time": "2024-09-14T14:52:39.606Z"
   },
   {
    "duration": 4,
    "start_time": "2024-09-14T14:52:42.798Z"
   },
   {
    "duration": 11,
    "start_time": "2024-09-14T14:53:08.694Z"
   },
   {
    "duration": 4,
    "start_time": "2024-09-14T14:53:19.181Z"
   },
   {
    "duration": 4,
    "start_time": "2024-09-14T14:53:22.213Z"
   },
   {
    "duration": 9,
    "start_time": "2024-09-14T14:54:55.490Z"
   },
   {
    "duration": 53,
    "start_time": "2024-09-14T15:03:05.198Z"
   },
   {
    "duration": 59,
    "start_time": "2024-09-14T15:04:26.686Z"
   },
   {
    "duration": 44,
    "start_time": "2024-09-14T15:04:43.038Z"
   },
   {
    "duration": 11,
    "start_time": "2024-09-14T15:04:49.230Z"
   },
   {
    "duration": 6,
    "start_time": "2024-09-14T15:06:40.918Z"
   },
   {
    "duration": 25,
    "start_time": "2024-09-14T15:09:52.091Z"
   },
   {
    "duration": 4,
    "start_time": "2024-09-14T15:12:12.259Z"
   },
   {
    "duration": 11,
    "start_time": "2024-09-14T15:12:14.210Z"
   },
   {
    "duration": 6,
    "start_time": "2024-09-14T15:15:23.256Z"
   },
   {
    "duration": 8,
    "start_time": "2024-09-14T15:15:26.809Z"
   },
   {
    "duration": 6,
    "start_time": "2024-09-14T15:15:58.256Z"
   },
   {
    "duration": 7,
    "start_time": "2024-09-14T15:23:17.172Z"
   },
   {
    "duration": 42,
    "start_time": "2024-09-14T15:23:48.184Z"
   },
   {
    "duration": 31,
    "start_time": "2024-09-14T15:24:04.564Z"
   },
   {
    "duration": 263,
    "start_time": "2024-09-14T15:26:46.315Z"
   },
   {
    "duration": 267,
    "start_time": "2024-09-14T15:26:53.714Z"
   },
   {
    "duration": 258,
    "start_time": "2024-09-14T15:27:24.027Z"
   },
   {
    "duration": 7,
    "start_time": "2024-09-14T15:27:47.794Z"
   },
   {
    "duration": 13,
    "start_time": "2024-09-14T15:29:13.802Z"
   },
   {
    "duration": 11,
    "start_time": "2024-09-14T15:29:22.282Z"
   },
   {
    "duration": 8,
    "start_time": "2024-09-14T15:29:29.282Z"
   },
   {
    "duration": 10,
    "start_time": "2024-09-14T16:03:59.670Z"
   },
   {
    "duration": 6,
    "start_time": "2024-09-14T16:05:14.934Z"
   },
   {
    "duration": 9,
    "start_time": "2024-09-14T16:06:03.341Z"
   },
   {
    "duration": 9,
    "start_time": "2024-09-14T16:07:29.245Z"
   },
   {
    "duration": 11,
    "start_time": "2024-09-14T16:07:49.140Z"
   },
   {
    "duration": 7,
    "start_time": "2024-09-14T16:09:15.723Z"
   },
   {
    "duration": 13,
    "start_time": "2024-09-14T16:12:09.025Z"
   },
   {
    "duration": 15,
    "start_time": "2024-09-14T16:12:36.793Z"
   },
   {
    "duration": 9,
    "start_time": "2024-09-14T16:12:37.697Z"
   },
   {
    "duration": 5,
    "start_time": "2024-09-14T16:15:12.064Z"
   },
   {
    "duration": 8,
    "start_time": "2024-09-14T16:15:12.560Z"
   },
   {
    "duration": 8,
    "start_time": "2024-09-14T16:26:44.986Z"
   },
   {
    "duration": 8,
    "start_time": "2024-09-14T16:26:51.513Z"
   },
   {
    "duration": 8,
    "start_time": "2024-09-14T16:26:54.514Z"
   },
   {
    "duration": 7,
    "start_time": "2024-09-14T16:27:41.369Z"
   },
   {
    "duration": 7,
    "start_time": "2024-09-14T16:31:42.990Z"
   },
   {
    "duration": 11,
    "start_time": "2024-09-14T16:31:53.303Z"
   },
   {
    "duration": 9,
    "start_time": "2024-09-14T16:32:02.767Z"
   },
   {
    "duration": 9,
    "start_time": "2024-09-14T16:32:28.886Z"
   },
   {
    "duration": 9,
    "start_time": "2024-09-14T16:32:39.566Z"
   },
   {
    "duration": 8,
    "start_time": "2024-09-14T16:32:42.630Z"
   },
   {
    "duration": 11,
    "start_time": "2024-09-14T16:32:44.903Z"
   },
   {
    "duration": 11,
    "start_time": "2024-09-14T16:32:45.406Z"
   },
   {
    "duration": 6,
    "start_time": "2024-09-14T16:32:48.975Z"
   },
   {
    "duration": 9,
    "start_time": "2024-09-14T16:32:49.375Z"
   },
   {
    "duration": 10,
    "start_time": "2024-09-14T16:32:52.008Z"
   },
   {
    "duration": 14,
    "start_time": "2024-09-14T16:32:57.093Z"
   },
   {
    "duration": 381,
    "start_time": "2024-09-14T16:54:20.901Z"
   },
   {
    "duration": 229,
    "start_time": "2024-09-14T16:54:37.953Z"
   },
   {
    "duration": 309,
    "start_time": "2024-09-14T16:55:11.425Z"
   },
   {
    "duration": 234,
    "start_time": "2024-09-14T16:55:35.016Z"
   },
   {
    "duration": 228,
    "start_time": "2024-09-14T16:56:59.255Z"
   },
   {
    "duration": 9,
    "start_time": "2024-09-14T16:57:12.279Z"
   },
   {
    "duration": 42,
    "start_time": "2024-09-14T16:58:28.392Z"
   },
   {
    "duration": 36,
    "start_time": "2024-09-14T17:00:13.406Z"
   },
   {
    "duration": 9,
    "start_time": "2024-09-14T17:00:23.317Z"
   },
   {
    "duration": 4,
    "start_time": "2024-09-14T17:00:31.101Z"
   },
   {
    "duration": 10,
    "start_time": "2024-09-14T17:00:35.885Z"
   },
   {
    "duration": 10,
    "start_time": "2024-09-14T17:02:16.365Z"
   },
   {
    "duration": 34,
    "start_time": "2024-09-14T17:02:23.531Z"
   },
   {
    "duration": 5,
    "start_time": "2024-09-14T17:03:08.892Z"
   },
   {
    "duration": 9,
    "start_time": "2024-09-14T17:03:10.995Z"
   },
   {
    "duration": 5,
    "start_time": "2024-09-14T17:05:18.147Z"
   },
   {
    "duration": 12,
    "start_time": "2024-09-14T17:05:58.507Z"
   },
   {
    "duration": 16,
    "start_time": "2024-09-14T17:06:01.257Z"
   },
   {
    "duration": 9,
    "start_time": "2024-09-14T17:10:45.054Z"
   },
   {
    "duration": 8,
    "start_time": "2024-09-14T17:10:48.600Z"
   },
   {
    "duration": 15,
    "start_time": "2024-09-14T17:11:01.096Z"
   },
   {
    "duration": 6,
    "start_time": "2024-09-14T17:11:44.159Z"
   },
   {
    "duration": 9,
    "start_time": "2024-09-14T17:12:49.222Z"
   },
   {
    "duration": 12,
    "start_time": "2024-09-14T17:16:06.764Z"
   },
   {
    "duration": 7,
    "start_time": "2024-09-14T17:16:17.124Z"
   },
   {
    "duration": 9,
    "start_time": "2024-09-14T17:18:19.676Z"
   },
   {
    "duration": 7,
    "start_time": "2024-09-14T17:18:29.739Z"
   },
   {
    "duration": 7,
    "start_time": "2024-09-14T17:19:00.291Z"
   },
   {
    "duration": 8,
    "start_time": "2024-09-14T17:19:10.282Z"
   },
   {
    "duration": 7,
    "start_time": "2024-09-14T17:19:52.177Z"
   },
   {
    "duration": 356,
    "start_time": "2024-09-14T17:21:09.058Z"
   },
   {
    "duration": 7,
    "start_time": "2024-09-14T17:22:52.400Z"
   },
   {
    "duration": 9,
    "start_time": "2024-09-14T17:27:01.136Z"
   },
   {
    "duration": 9,
    "start_time": "2024-09-14T17:27:24.470Z"
   },
   {
    "duration": 244,
    "start_time": "2024-09-14T17:28:10.406Z"
   },
   {
    "duration": 8,
    "start_time": "2024-09-14T17:30:42.380Z"
   },
   {
    "duration": 3,
    "start_time": "2024-09-14T17:31:00.348Z"
   },
   {
    "duration": 316,
    "start_time": "2024-09-14T17:31:14.260Z"
   },
   {
    "duration": 244,
    "start_time": "2024-09-14T17:31:23.333Z"
   },
   {
    "duration": 9,
    "start_time": "2024-09-14T17:32:49.851Z"
   },
   {
    "duration": 245,
    "start_time": "2024-09-14T17:33:05.412Z"
   },
   {
    "duration": 10,
    "start_time": "2024-09-14T17:33:37.683Z"
   },
   {
    "duration": 283,
    "start_time": "2024-09-14T17:33:47.530Z"
   },
   {
    "duration": 9,
    "start_time": "2024-09-14T17:34:12.147Z"
   },
   {
    "duration": 237,
    "start_time": "2024-09-14T17:34:23.378Z"
   },
   {
    "duration": 168,
    "start_time": "2024-09-14T17:35:09.170Z"
   },
   {
    "duration": 9,
    "start_time": "2024-09-14T17:36:16.186Z"
   },
   {
    "duration": 226,
    "start_time": "2024-09-14T17:39:24.816Z"
   },
   {
    "duration": 8,
    "start_time": "2024-09-14T17:40:40.422Z"
   },
   {
    "duration": 191,
    "start_time": "2024-09-14T17:40:44.456Z"
   },
   {
    "duration": 161,
    "start_time": "2024-09-14T17:41:10.407Z"
   },
   {
    "duration": 217,
    "start_time": "2024-09-14T17:41:36.527Z"
   },
   {
    "duration": 152,
    "start_time": "2024-09-14T17:42:05.605Z"
   },
   {
    "duration": 166,
    "start_time": "2024-09-14T17:42:24.678Z"
   },
   {
    "duration": 11,
    "start_time": "2024-09-14T17:43:08.501Z"
   },
   {
    "duration": 257,
    "start_time": "2024-09-14T18:05:53.273Z"
   },
   {
    "duration": 13,
    "start_time": "2024-09-14T18:06:21.209Z"
   },
   {
    "duration": 293,
    "start_time": "2024-09-14T18:06:31.359Z"
   },
   {
    "duration": 10,
    "start_time": "2024-09-14T18:06:59.775Z"
   },
   {
    "duration": 10,
    "start_time": "2024-09-14T18:07:02.847Z"
   },
   {
    "duration": 367,
    "start_time": "2024-09-14T18:07:12.767Z"
   },
   {
    "duration": 12,
    "start_time": "2024-09-14T18:13:03.598Z"
   },
   {
    "duration": 9,
    "start_time": "2024-09-14T18:13:06.827Z"
   },
   {
    "duration": 258,
    "start_time": "2024-09-14T18:13:16.492Z"
   },
   {
    "duration": 9,
    "start_time": "2024-09-14T18:15:59.715Z"
   },
   {
    "duration": 20,
    "start_time": "2024-09-14T18:16:04.570Z"
   },
   {
    "duration": 17,
    "start_time": "2024-09-14T18:16:21.922Z"
   },
   {
    "duration": 21,
    "start_time": "2024-09-14T18:17:33.402Z"
   },
   {
    "duration": 31,
    "start_time": "2024-09-14T18:18:53.323Z"
   },
   {
    "duration": 7,
    "start_time": "2024-09-14T18:19:03.377Z"
   },
   {
    "duration": 15,
    "start_time": "2024-09-14T18:19:06.921Z"
   },
   {
    "duration": 146,
    "start_time": "2024-09-14T18:20:40.272Z"
   },
   {
    "duration": 9,
    "start_time": "2024-09-14T18:20:49.816Z"
   },
   {
    "duration": 160,
    "start_time": "2024-09-14T18:20:59.424Z"
   },
   {
    "duration": 185,
    "start_time": "2024-09-14T18:21:17.872Z"
   },
   {
    "duration": 175,
    "start_time": "2024-09-14T18:21:34.288Z"
   },
   {
    "duration": 57,
    "start_time": "2024-09-14T18:21:54.455Z"
   },
   {
    "duration": 161,
    "start_time": "2024-09-14T18:21:56.983Z"
   },
   {
    "duration": 156,
    "start_time": "2024-09-14T18:22:14.695Z"
   },
   {
    "duration": 155,
    "start_time": "2024-09-14T18:22:15.623Z"
   },
   {
    "duration": 273,
    "start_time": "2024-09-14T18:22:25.734Z"
   },
   {
    "duration": 169,
    "start_time": "2024-09-14T18:22:39.383Z"
   },
   {
    "duration": 153,
    "start_time": "2024-09-14T18:22:48.151Z"
   },
   {
    "duration": 25,
    "start_time": "2024-09-14T18:26:13.651Z"
   },
   {
    "duration": 19,
    "start_time": "2024-09-14T18:26:28.958Z"
   },
   {
    "duration": 20,
    "start_time": "2024-09-14T18:26:34.093Z"
   },
   {
    "duration": 28,
    "start_time": "2024-09-14T18:27:06.517Z"
   },
   {
    "duration": 23,
    "start_time": "2024-09-14T18:29:27.291Z"
   },
   {
    "duration": 202,
    "start_time": "2024-09-14T18:29:46.852Z"
   },
   {
    "duration": 232,
    "start_time": "2024-09-14T18:30:17.552Z"
   },
   {
    "duration": 725,
    "start_time": "2024-09-15T08:01:59.275Z"
   },
   {
    "duration": 180,
    "start_time": "2024-09-15T08:02:00.002Z"
   },
   {
    "duration": 35,
    "start_time": "2024-09-15T08:02:00.183Z"
   },
   {
    "duration": 26,
    "start_time": "2024-09-15T08:02:00.220Z"
   },
   {
    "duration": 2094,
    "start_time": "2024-09-15T08:02:00.266Z"
   },
   {
    "duration": 36,
    "start_time": "2024-09-15T08:02:02.364Z"
   },
   {
    "duration": 4,
    "start_time": "2024-09-15T08:02:02.402Z"
   },
   {
    "duration": 39,
    "start_time": "2024-09-15T08:02:02.407Z"
   },
   {
    "duration": 26,
    "start_time": "2024-09-15T08:02:02.448Z"
   },
   {
    "duration": 17,
    "start_time": "2024-09-15T08:02:02.477Z"
   },
   {
    "duration": 18,
    "start_time": "2024-09-15T08:02:02.496Z"
   },
   {
    "duration": 35,
    "start_time": "2024-09-15T08:02:02.516Z"
   },
   {
    "duration": 325,
    "start_time": "2024-09-15T08:02:02.553Z"
   },
   {
    "duration": 8,
    "start_time": "2024-09-15T08:02:02.880Z"
   },
   {
    "duration": 18,
    "start_time": "2024-09-15T08:02:02.890Z"
   },
   {
    "duration": 29,
    "start_time": "2024-09-15T08:02:02.910Z"
   },
   {
    "duration": 37,
    "start_time": "2024-09-15T08:02:02.940Z"
   },
   {
    "duration": 24,
    "start_time": "2024-09-15T08:02:02.979Z"
   },
   {
    "duration": 22,
    "start_time": "2024-09-15T08:02:03.004Z"
   },
   {
    "duration": 30,
    "start_time": "2024-09-15T08:02:03.028Z"
   },
   {
    "duration": 38,
    "start_time": "2024-09-15T08:02:03.060Z"
   },
   {
    "duration": 38,
    "start_time": "2024-09-15T08:02:03.100Z"
   },
   {
    "duration": 13,
    "start_time": "2024-09-15T08:02:03.140Z"
   },
   {
    "duration": 25,
    "start_time": "2024-09-15T08:02:03.154Z"
   },
   {
    "duration": 388,
    "start_time": "2024-09-15T08:02:03.181Z"
   },
   {
    "duration": 33,
    "start_time": "2024-09-15T08:02:03.572Z"
   },
   {
    "duration": 4,
    "start_time": "2024-09-15T08:02:03.606Z"
   },
   {
    "duration": 54,
    "start_time": "2024-09-15T08:02:03.615Z"
   },
   {
    "duration": 5,
    "start_time": "2024-09-15T08:02:03.670Z"
   },
   {
    "duration": 7,
    "start_time": "2024-09-15T08:02:03.677Z"
   },
   {
    "duration": 8,
    "start_time": "2024-09-15T08:02:03.686Z"
   },
   {
    "duration": 10,
    "start_time": "2024-09-15T08:02:03.695Z"
   },
   {
    "duration": 7,
    "start_time": "2024-09-15T08:02:03.707Z"
   },
   {
    "duration": 15,
    "start_time": "2024-09-15T08:02:03.716Z"
   },
   {
    "duration": 35,
    "start_time": "2024-09-15T08:02:03.733Z"
   },
   {
    "duration": 9,
    "start_time": "2024-09-15T08:02:03.769Z"
   },
   {
    "duration": 354,
    "start_time": "2024-09-15T08:02:03.780Z"
   },
   {
    "duration": 6,
    "start_time": "2024-09-15T08:02:04.136Z"
   },
   {
    "duration": 29,
    "start_time": "2024-09-15T08:02:04.143Z"
   },
   {
    "duration": 341,
    "start_time": "2024-09-15T08:02:04.174Z"
   },
   {
    "duration": 10,
    "start_time": "2024-09-15T08:02:04.517Z"
   },
   {
    "duration": 258,
    "start_time": "2024-09-15T08:02:04.529Z"
   },
   {
    "duration": 9,
    "start_time": "2024-09-15T08:02:04.789Z"
   },
   {
    "duration": 266,
    "start_time": "2024-09-15T08:02:04.799Z"
   },
   {
    "duration": 11,
    "start_time": "2024-09-15T08:02:05.066Z"
   },
   {
    "duration": 277,
    "start_time": "2024-09-15T08:02:05.078Z"
   },
   {
    "duration": 166,
    "start_time": "2024-09-15T08:02:05.357Z"
   },
   {
    "duration": 10,
    "start_time": "2024-09-15T08:02:05.524Z"
   },
   {
    "duration": 217,
    "start_time": "2024-09-15T08:02:05.535Z"
   },
   {
    "duration": 280,
    "start_time": "2024-09-15T08:02:05.754Z"
   },
   {
    "duration": 177,
    "start_time": "2024-09-15T08:02:06.036Z"
   },
   {
    "duration": 9,
    "start_time": "2024-09-15T08:02:06.215Z"
   },
   {
    "duration": 277,
    "start_time": "2024-09-15T08:02:06.226Z"
   },
   {
    "duration": 12,
    "start_time": "2024-09-15T08:02:06.505Z"
   },
   {
    "duration": 291,
    "start_time": "2024-09-15T08:02:06.520Z"
   },
   {
    "duration": 10,
    "start_time": "2024-09-15T08:02:06.812Z"
   },
   {
    "duration": 297,
    "start_time": "2024-09-15T08:02:06.824Z"
   },
   {
    "duration": 8,
    "start_time": "2024-09-15T08:02:07.123Z"
   },
   {
    "duration": 254,
    "start_time": "2024-09-15T08:02:07.133Z"
   },
   {
    "duration": 20,
    "start_time": "2024-09-15T08:02:07.389Z"
   },
   {
    "duration": 18,
    "start_time": "2024-09-15T08:02:07.411Z"
   },
   {
    "duration": 42,
    "start_time": "2024-09-15T08:02:07.430Z"
   },
   {
    "duration": 28,
    "start_time": "2024-09-15T08:02:07.474Z"
   },
   {
    "duration": 15,
    "start_time": "2024-09-15T08:02:07.503Z"
   },
   {
    "duration": 180,
    "start_time": "2024-09-15T08:02:07.519Z"
   },
   {
    "duration": 272,
    "start_time": "2024-09-15T08:02:07.700Z"
   },
   {
    "duration": 175,
    "start_time": "2024-09-15T08:02:07.974Z"
   },
   {
    "duration": 156,
    "start_time": "2024-09-15T08:02:08.151Z"
   },
   {
    "duration": 161,
    "start_time": "2024-09-15T08:02:08.309Z"
   },
   {
    "duration": 168,
    "start_time": "2024-09-15T08:02:08.472Z"
   },
   {
    "duration": 174,
    "start_time": "2024-09-15T08:02:08.641Z"
   },
   {
    "duration": 178,
    "start_time": "2024-09-15T08:02:08.817Z"
   },
   {
    "duration": 40,
    "start_time": "2024-09-15T08:02:08.996Z"
   },
   {
    "duration": 29,
    "start_time": "2024-09-15T08:02:09.038Z"
   },
   {
    "duration": 218,
    "start_time": "2024-09-15T08:02:09.068Z"
   },
   {
    "duration": 739,
    "start_time": "2024-09-15T08:28:45.343Z"
   },
   {
    "duration": 126,
    "start_time": "2024-09-15T08:28:46.084Z"
   },
   {
    "duration": 36,
    "start_time": "2024-09-15T08:28:46.212Z"
   },
   {
    "duration": 36,
    "start_time": "2024-09-15T08:28:46.250Z"
   },
   {
    "duration": 2141,
    "start_time": "2024-09-15T08:28:46.288Z"
   },
   {
    "duration": 41,
    "start_time": "2024-09-15T08:28:48.431Z"
   },
   {
    "duration": 3,
    "start_time": "2024-09-15T08:28:48.473Z"
   },
   {
    "duration": 16,
    "start_time": "2024-09-15T08:28:48.478Z"
   },
   {
    "duration": 6,
    "start_time": "2024-09-15T08:28:48.495Z"
   },
   {
    "duration": 16,
    "start_time": "2024-09-15T08:28:48.504Z"
   },
   {
    "duration": 19,
    "start_time": "2024-09-15T08:28:48.522Z"
   },
   {
    "duration": 65,
    "start_time": "2024-09-15T08:28:48.543Z"
   },
   {
    "duration": 259,
    "start_time": "2024-09-15T08:28:48.610Z"
   },
   {
    "duration": 7,
    "start_time": "2024-09-15T08:28:48.871Z"
   },
   {
    "duration": 17,
    "start_time": "2024-09-15T08:28:48.880Z"
   },
   {
    "duration": 7,
    "start_time": "2024-09-15T08:28:48.899Z"
   },
   {
    "duration": 8,
    "start_time": "2024-09-15T08:28:48.908Z"
   },
   {
    "duration": 17,
    "start_time": "2024-09-15T08:28:48.918Z"
   },
   {
    "duration": 32,
    "start_time": "2024-09-15T08:28:48.936Z"
   },
   {
    "duration": 13,
    "start_time": "2024-09-15T08:28:48.970Z"
   },
   {
    "duration": 11,
    "start_time": "2024-09-15T08:28:48.984Z"
   },
   {
    "duration": 5,
    "start_time": "2024-09-15T08:28:48.997Z"
   },
   {
    "duration": 6,
    "start_time": "2024-09-15T08:28:49.004Z"
   },
   {
    "duration": 12,
    "start_time": "2024-09-15T08:28:49.011Z"
   },
   {
    "duration": 379,
    "start_time": "2024-09-15T08:28:49.025Z"
   },
   {
    "duration": 33,
    "start_time": "2024-09-15T08:28:49.405Z"
   },
   {
    "duration": 3,
    "start_time": "2024-09-15T08:28:49.440Z"
   },
   {
    "duration": 48,
    "start_time": "2024-09-15T08:28:49.447Z"
   },
   {
    "duration": 5,
    "start_time": "2024-09-15T08:28:49.497Z"
   },
   {
    "duration": 7,
    "start_time": "2024-09-15T08:28:49.503Z"
   },
   {
    "duration": 7,
    "start_time": "2024-09-15T08:28:49.511Z"
   },
   {
    "duration": 8,
    "start_time": "2024-09-15T08:28:49.520Z"
   },
   {
    "duration": 36,
    "start_time": "2024-09-15T08:28:49.530Z"
   },
   {
    "duration": 9,
    "start_time": "2024-09-15T08:28:49.568Z"
   },
   {
    "duration": 8,
    "start_time": "2024-09-15T08:28:49.579Z"
   },
   {
    "duration": 8,
    "start_time": "2024-09-15T08:28:49.589Z"
   },
   {
    "duration": 404,
    "start_time": "2024-09-15T08:28:49.599Z"
   },
   {
    "duration": 9,
    "start_time": "2024-09-15T08:28:50.005Z"
   },
   {
    "duration": 11,
    "start_time": "2024-09-15T08:28:50.016Z"
   },
   {
    "duration": 337,
    "start_time": "2024-09-15T08:28:50.028Z"
   },
   {
    "duration": 9,
    "start_time": "2024-09-15T08:28:50.367Z"
   },
   {
    "duration": 257,
    "start_time": "2024-09-15T08:28:50.377Z"
   },
   {
    "duration": 9,
    "start_time": "2024-09-15T08:28:50.636Z"
   },
   {
    "duration": 304,
    "start_time": "2024-09-15T08:28:50.646Z"
   },
   {
    "duration": 14,
    "start_time": "2024-09-15T08:28:50.952Z"
   },
   {
    "duration": 268,
    "start_time": "2024-09-15T08:28:50.967Z"
   },
   {
    "duration": 158,
    "start_time": "2024-09-15T08:28:51.237Z"
   },
   {
    "duration": 11,
    "start_time": "2024-09-15T08:28:51.397Z"
   },
   {
    "duration": 217,
    "start_time": "2024-09-15T08:28:51.410Z"
   },
   {
    "duration": 284,
    "start_time": "2024-09-15T08:28:51.629Z"
   },
   {
    "duration": 182,
    "start_time": "2024-09-15T08:28:51.914Z"
   },
   {
    "duration": 8,
    "start_time": "2024-09-15T08:28:52.098Z"
   },
   {
    "duration": 260,
    "start_time": "2024-09-15T08:28:52.107Z"
   },
   {
    "duration": 9,
    "start_time": "2024-09-15T08:28:52.369Z"
   },
   {
    "duration": 265,
    "start_time": "2024-09-15T08:28:52.380Z"
   },
   {
    "duration": 9,
    "start_time": "2024-09-15T08:28:52.647Z"
   },
   {
    "duration": 262,
    "start_time": "2024-09-15T08:28:52.665Z"
   },
   {
    "duration": 8,
    "start_time": "2024-09-15T08:28:52.929Z"
   },
   {
    "duration": 277,
    "start_time": "2024-09-15T08:28:52.939Z"
   },
   {
    "duration": 20,
    "start_time": "2024-09-15T08:28:53.218Z"
   },
   {
    "duration": 44,
    "start_time": "2024-09-15T08:28:53.239Z"
   },
   {
    "duration": 20,
    "start_time": "2024-09-15T08:28:53.285Z"
   },
   {
    "duration": 40,
    "start_time": "2024-09-15T08:28:53.307Z"
   },
   {
    "duration": 21,
    "start_time": "2024-09-15T08:28:53.364Z"
   },
   {
    "duration": 174,
    "start_time": "2024-09-15T08:28:53.387Z"
   },
   {
    "duration": 295,
    "start_time": "2024-09-15T08:28:53.565Z"
   },
   {
    "duration": 180,
    "start_time": "2024-09-15T08:28:53.862Z"
   },
   {
    "duration": 149,
    "start_time": "2024-09-15T08:28:54.043Z"
   },
   {
    "duration": 145,
    "start_time": "2024-09-15T08:28:54.194Z"
   },
   {
    "duration": 166,
    "start_time": "2024-09-15T08:28:54.341Z"
   },
   {
    "duration": 163,
    "start_time": "2024-09-15T08:28:54.508Z"
   },
   {
    "duration": 162,
    "start_time": "2024-09-15T08:28:54.673Z"
   },
   {
    "duration": 49,
    "start_time": "2024-09-15T08:28:54.837Z"
   },
   {
    "duration": 18,
    "start_time": "2024-09-15T08:28:54.888Z"
   },
   {
    "duration": 306,
    "start_time": "2024-09-15T08:28:54.964Z"
   },
   {
    "duration": 17,
    "start_time": "2024-09-15T08:36:21.229Z"
   },
   {
    "duration": 7,
    "start_time": "2024-09-15T08:43:19.912Z"
   },
   {
    "duration": 8,
    "start_time": "2024-09-15T08:47:52.481Z"
   },
   {
    "duration": 184,
    "start_time": "2024-09-15T09:06:43.487Z"
   },
   {
    "duration": 131,
    "start_time": "2024-09-15T09:06:54.614Z"
   },
   {
    "duration": 115,
    "start_time": "2024-09-15T09:07:05.470Z"
   },
   {
    "duration": 194,
    "start_time": "2024-09-15T09:08:53.220Z"
   },
   {
    "duration": 190,
    "start_time": "2024-09-15T09:08:58.923Z"
   },
   {
    "duration": 50,
    "start_time": "2024-09-15T13:23:34.187Z"
   },
   {
    "duration": 860,
    "start_time": "2024-09-15T13:23:37.434Z"
   },
   {
    "duration": 183,
    "start_time": "2024-09-15T13:23:38.594Z"
   },
   {
    "duration": 35,
    "start_time": "2024-09-15T13:23:39.658Z"
   },
   {
    "duration": 26,
    "start_time": "2024-09-15T13:23:42.041Z"
   },
   {
    "duration": 2069,
    "start_time": "2024-09-15T13:23:42.490Z"
   },
   {
    "duration": 2061,
    "start_time": "2024-09-15T13:23:52.345Z"
   },
   {
    "duration": 1980,
    "start_time": "2024-09-15T13:24:11.690Z"
   },
   {
    "duration": 1919,
    "start_time": "2024-09-15T13:58:10.528Z"
   },
   {
    "duration": 2062,
    "start_time": "2024-09-15T13:58:42.683Z"
   },
   {
    "duration": 3,
    "start_time": "2024-09-15T13:59:10.973Z"
   },
   {
    "duration": 12,
    "start_time": "2024-09-15T13:59:31.182Z"
   },
   {
    "duration": 325,
    "start_time": "2024-09-15T14:00:17.093Z"
   },
   {
    "duration": 6,
    "start_time": "2024-09-15T14:00:24.164Z"
   },
   {
    "duration": 3,
    "start_time": "2024-09-15T14:00:29.204Z"
   },
   {
    "duration": 119,
    "start_time": "2024-09-15T14:00:30.180Z"
   },
   {
    "duration": 31,
    "start_time": "2024-09-15T14:00:31.101Z"
   },
   {
    "duration": 22,
    "start_time": "2024-09-15T14:00:33.020Z"
   },
   {
    "duration": 2075,
    "start_time": "2024-09-15T14:00:33.869Z"
   },
   {
    "duration": 32,
    "start_time": "2024-09-15T14:00:40.341Z"
   },
   {
    "duration": 5,
    "start_time": "2024-09-15T14:00:43.700Z"
   },
   {
    "duration": 9,
    "start_time": "2024-09-15T14:00:45.404Z"
   },
   {
    "duration": 10,
    "start_time": "2024-09-15T14:00:45.948Z"
   },
   {
    "duration": 6,
    "start_time": "2024-09-15T14:00:48.475Z"
   },
   {
    "duration": 6,
    "start_time": "2024-09-15T14:00:50.940Z"
   },
   {
    "duration": 6,
    "start_time": "2024-09-15T14:00:51.269Z"
   },
   {
    "duration": 7,
    "start_time": "2024-09-15T14:00:52.380Z"
   },
   {
    "duration": 322,
    "start_time": "2024-09-15T14:00:54.420Z"
   },
   {
    "duration": 6,
    "start_time": "2024-09-15T14:00:57.244Z"
   },
   {
    "duration": 9,
    "start_time": "2024-09-15T14:00:57.724Z"
   },
   {
    "duration": 6,
    "start_time": "2024-09-15T14:01:00.148Z"
   },
   {
    "duration": 7,
    "start_time": "2024-09-15T14:01:00.676Z"
   },
   {
    "duration": 4,
    "start_time": "2024-09-15T14:02:13.052Z"
   },
   {
    "duration": 6,
    "start_time": "2024-09-15T14:02:20.436Z"
   },
   {
    "duration": 5,
    "start_time": "2024-09-15T14:02:34.460Z"
   },
   {
    "duration": 5,
    "start_time": "2024-09-15T14:02:51.387Z"
   },
   {
    "duration": 9,
    "start_time": "2024-09-15T14:02:51.836Z"
   },
   {
    "duration": 10,
    "start_time": "2024-09-15T14:02:54.715Z"
   },
   {
    "duration": 6,
    "start_time": "2024-09-15T14:02:56.739Z"
   },
   {
    "duration": 7,
    "start_time": "2024-09-15T14:02:57.066Z"
   },
   {
    "duration": 7,
    "start_time": "2024-09-15T14:02:59.266Z"
   },
   {
    "duration": 8,
    "start_time": "2024-09-15T14:06:45.033Z"
   },
   {
    "duration": 6,
    "start_time": "2024-09-15T14:06:45.505Z"
   },
   {
    "duration": 6,
    "start_time": "2024-09-15T14:06:48.177Z"
   },
   {
    "duration": 8,
    "start_time": "2024-09-15T14:10:55.446Z"
   },
   {
    "duration": 355,
    "start_time": "2024-09-15T14:12:47.877Z"
   },
   {
    "duration": 7,
    "start_time": "2024-09-15T14:12:49.150Z"
   },
   {
    "duration": 394,
    "start_time": "2024-09-15T14:13:25.037Z"
   },
   {
    "duration": 8,
    "start_time": "2024-09-15T14:13:26.925Z"
   },
   {
    "duration": 9,
    "start_time": "2024-09-15T14:14:06.958Z"
   },
   {
    "duration": 297,
    "start_time": "2024-09-15T14:14:12.837Z"
   },
   {
    "duration": 12,
    "start_time": "2024-09-15T14:19:23.315Z"
   },
   {
    "duration": 15,
    "start_time": "2024-09-15T14:19:58.010Z"
   },
   {
    "duration": 14,
    "start_time": "2024-09-15T14:20:13.530Z"
   },
   {
    "duration": 12,
    "start_time": "2024-09-15T14:20:18.266Z"
   },
   {
    "duration": 18,
    "start_time": "2024-09-15T14:23:02.401Z"
   },
   {
    "duration": 3,
    "start_time": "2024-09-15T14:24:54.735Z"
   },
   {
    "duration": 111,
    "start_time": "2024-09-15T14:24:55.702Z"
   },
   {
    "duration": 40,
    "start_time": "2024-09-15T14:24:56.587Z"
   },
   {
    "duration": 21,
    "start_time": "2024-09-15T14:24:58.910Z"
   },
   {
    "duration": 1948,
    "start_time": "2024-09-15T14:24:59.559Z"
   },
   {
    "duration": 38,
    "start_time": "2024-09-15T14:25:01.767Z"
   },
   {
    "duration": 3,
    "start_time": "2024-09-15T14:25:04.599Z"
   },
   {
    "duration": 11,
    "start_time": "2024-09-15T14:25:05.687Z"
   },
   {
    "duration": 10,
    "start_time": "2024-09-15T14:25:06.039Z"
   },
   {
    "duration": 6,
    "start_time": "2024-09-15T14:25:08.310Z"
   },
   {
    "duration": 5,
    "start_time": "2024-09-15T14:25:08.623Z"
   },
   {
    "duration": 6,
    "start_time": "2024-09-15T14:25:11.607Z"
   },
   {
    "duration": 6,
    "start_time": "2024-09-15T14:25:12.071Z"
   },
   {
    "duration": 312,
    "start_time": "2024-09-15T14:25:12.528Z"
   },
   {
    "duration": 5,
    "start_time": "2024-09-15T14:25:14.775Z"
   },
   {
    "duration": 9,
    "start_time": "2024-09-15T14:25:15.039Z"
   },
   {
    "duration": 7,
    "start_time": "2024-09-15T14:25:16.358Z"
   },
   {
    "duration": 8,
    "start_time": "2024-09-15T14:25:17.279Z"
   },
   {
    "duration": 6,
    "start_time": "2024-09-15T14:25:17.679Z"
   },
   {
    "duration": 6,
    "start_time": "2024-09-15T14:25:20.381Z"
   },
   {
    "duration": 7,
    "start_time": "2024-09-15T14:25:20.694Z"
   },
   {
    "duration": 10,
    "start_time": "2024-09-15T14:25:22.255Z"
   },
   {
    "duration": 6,
    "start_time": "2024-09-15T14:25:23.150Z"
   },
   {
    "duration": 6,
    "start_time": "2024-09-15T14:25:24.615Z"
   },
   {
    "duration": 6,
    "start_time": "2024-09-15T14:25:25.015Z"
   },
   {
    "duration": 445,
    "start_time": "2024-09-15T14:25:26.751Z"
   },
   {
    "duration": 33,
    "start_time": "2024-09-15T14:25:28.495Z"
   },
   {
    "duration": 16,
    "start_time": "2024-09-15T14:25:29.766Z"
   },
   {
    "duration": 35,
    "start_time": "2024-09-15T14:25:30.694Z"
   },
   {
    "duration": 6,
    "start_time": "2024-09-15T14:25:31.646Z"
   },
   {
    "duration": 5,
    "start_time": "2024-09-15T14:25:31.895Z"
   },
   {
    "duration": 9,
    "start_time": "2024-09-15T14:25:33.103Z"
   },
   {
    "duration": 7,
    "start_time": "2024-09-15T14:25:34.591Z"
   },
   {
    "duration": 8,
    "start_time": "2024-09-15T14:25:35.015Z"
   },
   {
    "duration": 8,
    "start_time": "2024-09-15T14:25:38.639Z"
   },
   {
    "duration": 8,
    "start_time": "2024-09-15T14:25:38.990Z"
   },
   {
    "duration": 333,
    "start_time": "2024-09-15T14:25:39.439Z"
   },
   {
    "duration": 7,
    "start_time": "2024-09-15T14:25:41.430Z"
   },
   {
    "duration": 9,
    "start_time": "2024-09-15T14:25:43.631Z"
   },
   {
    "duration": 263,
    "start_time": "2024-09-15T14:25:44.166Z"
   },
   {
    "duration": 9,
    "start_time": "2024-09-15T14:25:46.782Z"
   },
   {
    "duration": 341,
    "start_time": "2024-09-15T14:25:47.222Z"
   },
   {
    "duration": 9,
    "start_time": "2024-09-15T14:25:49.565Z"
   },
   {
    "duration": 241,
    "start_time": "2024-09-15T14:25:49.798Z"
   },
   {
    "duration": 11,
    "start_time": "2024-09-15T14:25:52.014Z"
   },
   {
    "duration": 245,
    "start_time": "2024-09-15T14:25:52.246Z"
   },
   {
    "duration": 151,
    "start_time": "2024-09-15T14:25:54.781Z"
   },
   {
    "duration": 9,
    "start_time": "2024-09-15T14:25:56.518Z"
   },
   {
    "duration": 214,
    "start_time": "2024-09-15T14:25:57.902Z"
   },
   {
    "duration": 137,
    "start_time": "2024-09-15T14:26:00.503Z"
   },
   {
    "duration": 184,
    "start_time": "2024-09-15T14:26:07.670Z"
   },
   {
    "duration": 873,
    "start_time": "2024-09-15T14:28:20.740Z"
   },
   {
    "duration": 15,
    "start_time": "2024-09-15T14:28:33.404Z"
   },
   {
    "duration": 14,
    "start_time": "2024-09-15T14:29:25.044Z"
   },
   {
    "duration": 10,
    "start_time": "2024-09-15T14:29:42.237Z"
   },
   {
    "duration": 11,
    "start_time": "2024-09-15T14:32:35.611Z"
   },
   {
    "duration": 29,
    "start_time": "2024-09-15T14:33:01.732Z"
   },
   {
    "duration": 25,
    "start_time": "2024-09-15T14:35:15.090Z"
   },
   {
    "duration": 10,
    "start_time": "2024-09-15T14:35:35.617Z"
   },
   {
    "duration": 197,
    "start_time": "2024-09-15T14:38:00.216Z"
   },
   {
    "duration": 279,
    "start_time": "2024-09-15T14:38:11.576Z"
   },
   {
    "duration": 197,
    "start_time": "2024-09-15T14:38:23.887Z"
   },
   {
    "duration": 11,
    "start_time": "2024-09-15T14:45:56.124Z"
   },
   {
    "duration": 30,
    "start_time": "2024-09-15T14:46:00.236Z"
   },
   {
    "duration": 424,
    "start_time": "2024-09-15T14:46:01.244Z"
   },
   {
    "duration": 191,
    "start_time": "2024-09-15T14:50:49.434Z"
   },
   {
    "duration": 655,
    "start_time": "2024-09-15T16:10:54.056Z"
   },
   {
    "duration": 184,
    "start_time": "2024-09-15T16:10:54.713Z"
   },
   {
    "duration": 34,
    "start_time": "2024-09-15T16:10:54.899Z"
   },
   {
    "duration": 27,
    "start_time": "2024-09-15T16:10:54.935Z"
   },
   {
    "duration": 2099,
    "start_time": "2024-09-15T16:10:54.964Z"
   },
   {
    "duration": 31,
    "start_time": "2024-09-15T16:10:57.065Z"
   },
   {
    "duration": 3,
    "start_time": "2024-09-15T16:10:57.098Z"
   },
   {
    "duration": 12,
    "start_time": "2024-09-15T16:10:57.103Z"
   },
   {
    "duration": 11,
    "start_time": "2024-09-15T16:10:57.117Z"
   },
   {
    "duration": 6,
    "start_time": "2024-09-15T16:10:57.132Z"
   },
   {
    "duration": 10,
    "start_time": "2024-09-15T16:10:57.140Z"
   },
   {
    "duration": 14,
    "start_time": "2024-09-15T16:10:57.151Z"
   },
   {
    "duration": 40,
    "start_time": "2024-09-15T16:10:57.167Z"
   },
   {
    "duration": 320,
    "start_time": "2024-09-15T16:10:57.210Z"
   },
   {
    "duration": 6,
    "start_time": "2024-09-15T16:10:57.532Z"
   },
   {
    "duration": 88,
    "start_time": "2024-09-15T16:10:57.539Z"
   },
   {
    "duration": 6,
    "start_time": "2024-09-15T16:10:57.628Z"
   },
   {
    "duration": 12,
    "start_time": "2024-09-15T16:10:57.636Z"
   },
   {
    "duration": 40,
    "start_time": "2024-09-15T16:10:57.650Z"
   },
   {
    "duration": 27,
    "start_time": "2024-09-15T16:10:57.691Z"
   },
   {
    "duration": 83,
    "start_time": "2024-09-15T16:10:57.720Z"
   },
   {
    "duration": 9,
    "start_time": "2024-09-15T16:10:57.804Z"
   },
   {
    "duration": 5,
    "start_time": "2024-09-15T16:10:57.815Z"
   },
   {
    "duration": 5,
    "start_time": "2024-09-15T16:10:57.822Z"
   },
   {
    "duration": 5,
    "start_time": "2024-09-15T16:10:57.829Z"
   },
   {
    "duration": 482,
    "start_time": "2024-09-15T16:10:57.836Z"
   },
   {
    "duration": 33,
    "start_time": "2024-09-15T16:10:58.321Z"
   },
   {
    "duration": 13,
    "start_time": "2024-09-15T16:10:58.358Z"
   },
   {
    "duration": 50,
    "start_time": "2024-09-15T16:10:58.373Z"
   },
   {
    "duration": 5,
    "start_time": "2024-09-15T16:10:58.425Z"
   },
   {
    "duration": 25,
    "start_time": "2024-09-15T16:10:58.432Z"
   },
   {
    "duration": 34,
    "start_time": "2024-09-15T16:10:58.458Z"
   },
   {
    "duration": 36,
    "start_time": "2024-09-15T16:10:58.494Z"
   },
   {
    "duration": 26,
    "start_time": "2024-09-15T16:10:58.531Z"
   },
   {
    "duration": 72,
    "start_time": "2024-09-15T16:10:58.559Z"
   },
   {
    "duration": 69,
    "start_time": "2024-09-15T16:10:58.633Z"
   },
   {
    "duration": 369,
    "start_time": "2024-09-15T16:10:58.704Z"
   },
   {
    "duration": 7,
    "start_time": "2024-09-15T16:10:59.074Z"
   },
   {
    "duration": 16,
    "start_time": "2024-09-15T16:10:59.082Z"
   },
   {
    "duration": 364,
    "start_time": "2024-09-15T16:10:59.100Z"
   },
   {
    "duration": 10,
    "start_time": "2024-09-15T16:10:59.465Z"
   },
   {
    "duration": 259,
    "start_time": "2024-09-15T16:10:59.477Z"
   },
   {
    "duration": 10,
    "start_time": "2024-09-15T16:10:59.737Z"
   },
   {
    "duration": 289,
    "start_time": "2024-09-15T16:10:59.748Z"
   },
   {
    "duration": 11,
    "start_time": "2024-09-15T16:11:00.039Z"
   },
   {
    "duration": 262,
    "start_time": "2024-09-15T16:11:00.051Z"
   },
   {
    "duration": 155,
    "start_time": "2024-09-15T16:11:00.315Z"
   },
   {
    "duration": 9,
    "start_time": "2024-09-15T16:11:00.472Z"
   },
   {
    "duration": 247,
    "start_time": "2024-09-15T16:11:00.483Z"
   },
   {
    "duration": 212,
    "start_time": "2024-09-15T16:11:00.732Z"
   },
   {
    "duration": 187,
    "start_time": "2024-09-15T16:11:00.945Z"
   },
   {
    "duration": 9,
    "start_time": "2024-09-15T16:11:01.135Z"
   },
   {
    "duration": 272,
    "start_time": "2024-09-15T16:11:01.145Z"
   },
   {
    "duration": 9,
    "start_time": "2024-09-15T16:11:01.421Z"
   },
   {
    "duration": 278,
    "start_time": "2024-09-15T16:11:01.431Z"
   },
   {
    "duration": 16,
    "start_time": "2024-09-15T16:11:01.710Z"
   },
   {
    "duration": 468,
    "start_time": "2024-09-15T16:11:01.727Z"
   },
   {
    "duration": 8,
    "start_time": "2024-09-15T16:11:02.196Z"
   },
   {
    "duration": 265,
    "start_time": "2024-09-15T16:11:02.205Z"
   },
   {
    "duration": 14,
    "start_time": "2024-09-15T16:11:02.472Z"
   },
   {
    "duration": 32,
    "start_time": "2024-09-15T16:11:02.488Z"
   },
   {
    "duration": 13,
    "start_time": "2024-09-15T16:11:02.522Z"
   },
   {
    "duration": 26,
    "start_time": "2024-09-15T16:11:02.537Z"
   },
   {
    "duration": 31,
    "start_time": "2024-09-15T16:11:02.565Z"
   },
   {
    "duration": 208,
    "start_time": "2024-09-15T16:11:02.597Z"
   },
   {
    "duration": 284,
    "start_time": "2024-09-15T16:11:02.807Z"
   },
   {
    "duration": 197,
    "start_time": "2024-09-15T16:11:03.093Z"
   },
   {
    "duration": 156,
    "start_time": "2024-09-15T16:11:03.291Z"
   },
   {
    "duration": 160,
    "start_time": "2024-09-15T16:11:03.448Z"
   },
   {
    "duration": 183,
    "start_time": "2024-09-15T16:11:03.610Z"
   },
   {
    "duration": 177,
    "start_time": "2024-09-15T16:11:03.795Z"
   },
   {
    "duration": 167,
    "start_time": "2024-09-15T16:11:03.973Z"
   },
   {
    "duration": 28,
    "start_time": "2024-09-15T16:11:04.142Z"
   },
   {
    "duration": 366,
    "start_time": "2024-09-15T16:11:04.172Z"
   },
   {
    "duration": 16,
    "start_time": "2024-09-15T16:11:04.539Z"
   },
   {
    "duration": 215,
    "start_time": "2024-09-15T16:11:04.556Z"
   },
   {
    "duration": 857,
    "start_time": "2024-09-15T18:07:15.907Z"
   },
   {
    "duration": 359,
    "start_time": "2024-09-15T18:07:18.544Z"
   },
   {
    "duration": 33,
    "start_time": "2024-09-15T18:07:20.674Z"
   },
   {
    "duration": 23,
    "start_time": "2024-09-15T18:07:21.481Z"
   },
   {
    "duration": 1937,
    "start_time": "2024-09-15T18:07:21.977Z"
   },
   {
    "duration": 30,
    "start_time": "2024-09-15T18:07:24.345Z"
   },
   {
    "duration": 3,
    "start_time": "2024-09-15T18:07:26.825Z"
   },
   {
    "duration": 11,
    "start_time": "2024-09-15T18:07:27.896Z"
   },
   {
    "duration": 12,
    "start_time": "2024-09-15T18:07:30.089Z"
   },
   {
    "duration": 5,
    "start_time": "2024-09-15T18:07:31.402Z"
   },
   {
    "duration": 6,
    "start_time": "2024-09-15T18:07:33.192Z"
   },
   {
    "duration": 7,
    "start_time": "2024-09-15T18:07:33.577Z"
   },
   {
    "duration": 7,
    "start_time": "2024-09-15T18:07:34.184Z"
   },
   {
    "duration": 275,
    "start_time": "2024-09-15T18:07:35.058Z"
   },
   {
    "duration": 6,
    "start_time": "2024-09-15T18:07:36.808Z"
   },
   {
    "duration": 9,
    "start_time": "2024-09-15T18:07:37.081Z"
   },
   {
    "duration": 7,
    "start_time": "2024-09-15T18:07:38.089Z"
   },
   {
    "duration": 7,
    "start_time": "2024-09-15T18:07:39.608Z"
   },
   {
    "duration": 6,
    "start_time": "2024-09-15T18:07:40.129Z"
   },
   {
    "duration": 5,
    "start_time": "2024-09-15T18:07:41.448Z"
   },
   {
    "duration": 8,
    "start_time": "2024-09-15T18:07:41.705Z"
   },
   {
    "duration": 6,
    "start_time": "2024-09-15T18:07:43.104Z"
   },
   {
    "duration": 6,
    "start_time": "2024-09-15T18:07:43.481Z"
   },
   {
    "duration": 6,
    "start_time": "2024-09-15T18:07:44.888Z"
   },
   {
    "duration": 407,
    "start_time": "2024-09-15T18:07:46.512Z"
   },
   {
    "duration": 32,
    "start_time": "2024-09-15T18:07:50.536Z"
   },
   {
    "duration": 16,
    "start_time": "2024-09-15T18:07:51.881Z"
   },
   {
    "duration": 30,
    "start_time": "2024-09-15T18:07:53.729Z"
   },
   {
    "duration": 5,
    "start_time": "2024-09-15T18:07:55.104Z"
   },
   {
    "duration": 5,
    "start_time": "2024-09-15T18:07:56.072Z"
   },
   {
    "duration": 8,
    "start_time": "2024-09-15T18:07:56.376Z"
   },
   {
    "duration": 7,
    "start_time": "2024-09-15T18:07:59.048Z"
   },
   {
    "duration": 8,
    "start_time": "2024-09-15T18:08:00.000Z"
   },
   {
    "duration": 11,
    "start_time": "2024-09-15T18:08:00.365Z"
   },
   {
    "duration": 7,
    "start_time": "2024-09-15T18:08:00.881Z"
   },
   {
    "duration": 321,
    "start_time": "2024-09-15T18:08:01.688Z"
   },
   {
    "duration": 9,
    "start_time": "2024-09-15T18:08:03.216Z"
   },
   {
    "duration": 8,
    "start_time": "2024-09-15T18:08:05.616Z"
   },
   {
    "duration": 324,
    "start_time": "2024-09-15T18:08:06.233Z"
   },
   {
    "duration": 9,
    "start_time": "2024-09-15T18:08:08.384Z"
   },
   {
    "duration": 235,
    "start_time": "2024-09-15T18:08:08.777Z"
   },
   {
    "duration": 9,
    "start_time": "2024-09-15T18:08:10.337Z"
   },
   {
    "duration": 237,
    "start_time": "2024-09-15T18:08:10.881Z"
   },
   {
    "duration": 10,
    "start_time": "2024-09-15T18:08:12.312Z"
   },
   {
    "duration": 236,
    "start_time": "2024-09-15T18:08:12.641Z"
   },
   {
    "duration": 141,
    "start_time": "2024-09-15T18:08:14.144Z"
   },
   {
    "duration": 9,
    "start_time": "2024-09-15T18:08:16.120Z"
   },
   {
    "duration": 184,
    "start_time": "2024-09-15T18:08:16.513Z"
   },
   {
    "duration": 205,
    "start_time": "2024-09-15T18:08:17.936Z"
   },
   {
    "duration": 160,
    "start_time": "2024-09-15T18:08:19.736Z"
   },
   {
    "duration": 9,
    "start_time": "2024-09-15T18:08:21.856Z"
   },
   {
    "duration": 231,
    "start_time": "2024-09-15T18:08:25.601Z"
   },
   {
    "duration": 10,
    "start_time": "2024-09-15T18:08:26.864Z"
   },
   {
    "duration": 238,
    "start_time": "2024-09-15T18:08:27.312Z"
   },
   {
    "duration": 10,
    "start_time": "2024-09-15T18:08:28.680Z"
   },
   {
    "duration": 249,
    "start_time": "2024-09-15T18:08:29.079Z"
   },
   {
    "duration": 9,
    "start_time": "2024-09-15T18:08:31.424Z"
   },
   {
    "duration": 270,
    "start_time": "2024-09-15T18:08:31.992Z"
   },
   {
    "duration": 13,
    "start_time": "2024-09-15T18:08:36.401Z"
   },
   {
    "duration": 14,
    "start_time": "2024-09-15T18:08:39.752Z"
   },
   {
    "duration": 10,
    "start_time": "2024-09-15T18:08:41.864Z"
   },
   {
    "duration": 25,
    "start_time": "2024-09-15T18:11:42.123Z"
   },
   {
    "duration": 10,
    "start_time": "2024-09-15T18:11:59.134Z"
   },
   {
    "duration": 71,
    "start_time": "2024-09-15T18:14:30.477Z"
   },
   {
    "duration": 29,
    "start_time": "2024-09-15T18:14:57.940Z"
   },
   {
    "duration": 155,
    "start_time": "2024-09-15T18:18:34.781Z"
   },
   {
    "duration": 143,
    "start_time": "2024-09-15T18:21:46.287Z"
   },
   {
    "duration": 10,
    "start_time": "2024-09-15T18:21:50.457Z"
   },
   {
    "duration": 183,
    "start_time": "2024-09-15T18:21:52.000Z"
   },
   {
    "duration": 266,
    "start_time": "2024-09-15T18:21:52.873Z"
   },
   {
    "duration": 188,
    "start_time": "2024-09-15T18:21:54.441Z"
   },
   {
    "duration": 139,
    "start_time": "2024-09-15T18:21:57.944Z"
   },
   {
    "duration": 134,
    "start_time": "2024-09-15T18:22:00.401Z"
   },
   {
    "duration": 160,
    "start_time": "2024-09-15T18:22:01.776Z"
   },
   {
    "duration": 151,
    "start_time": "2024-09-15T18:22:03.504Z"
   },
   {
    "duration": 146,
    "start_time": "2024-09-15T18:22:05.057Z"
   },
   {
    "duration": 30,
    "start_time": "2024-09-15T18:22:07.405Z"
   },
   {
    "duration": 421,
    "start_time": "2024-09-15T18:22:09.193Z"
   },
   {
    "duration": 14,
    "start_time": "2024-09-15T18:22:56.432Z"
   },
   {
    "duration": 191,
    "start_time": "2024-09-15T18:22:57.521Z"
   },
   {
    "duration": 739,
    "start_time": "2024-09-15T18:47:35.285Z"
   },
   {
    "duration": 119,
    "start_time": "2024-09-15T18:47:36.026Z"
   },
   {
    "duration": 33,
    "start_time": "2024-09-15T18:47:36.147Z"
   },
   {
    "duration": 24,
    "start_time": "2024-09-15T18:47:36.182Z"
   },
   {
    "duration": 2048,
    "start_time": "2024-09-15T18:47:36.221Z"
   },
   {
    "duration": 31,
    "start_time": "2024-09-15T18:47:38.271Z"
   },
   {
    "duration": 4,
    "start_time": "2024-09-15T18:47:38.303Z"
   },
   {
    "duration": 78,
    "start_time": "2024-09-15T18:47:38.308Z"
   },
   {
    "duration": 11,
    "start_time": "2024-09-15T18:47:38.388Z"
   },
   {
    "duration": 6,
    "start_time": "2024-09-15T18:47:38.402Z"
   },
   {
    "duration": 8,
    "start_time": "2024-09-15T18:47:38.410Z"
   },
   {
    "duration": 8,
    "start_time": "2024-09-15T18:47:38.419Z"
   },
   {
    "duration": 15,
    "start_time": "2024-09-15T18:47:38.428Z"
   },
   {
    "duration": 333,
    "start_time": "2024-09-15T18:47:38.445Z"
   },
   {
    "duration": 6,
    "start_time": "2024-09-15T18:47:38.781Z"
   },
   {
    "duration": 12,
    "start_time": "2024-09-15T18:47:38.789Z"
   },
   {
    "duration": 7,
    "start_time": "2024-09-15T18:47:38.820Z"
   },
   {
    "duration": 17,
    "start_time": "2024-09-15T18:47:38.828Z"
   },
   {
    "duration": 8,
    "start_time": "2024-09-15T18:47:38.846Z"
   },
   {
    "duration": 28,
    "start_time": "2024-09-15T18:47:38.855Z"
   },
   {
    "duration": 11,
    "start_time": "2024-09-15T18:47:38.885Z"
   },
   {
    "duration": 11,
    "start_time": "2024-09-15T18:47:38.897Z"
   },
   {
    "duration": 35,
    "start_time": "2024-09-15T18:47:38.909Z"
   },
   {
    "duration": 12,
    "start_time": "2024-09-15T18:47:38.947Z"
   },
   {
    "duration": 7,
    "start_time": "2024-09-15T18:47:38.961Z"
   },
   {
    "duration": 451,
    "start_time": "2024-09-15T18:47:38.970Z"
   },
   {
    "duration": 40,
    "start_time": "2024-09-15T18:47:39.423Z"
   },
   {
    "duration": 15,
    "start_time": "2024-09-15T18:47:39.470Z"
   },
   {
    "duration": 55,
    "start_time": "2024-09-15T18:47:39.487Z"
   },
   {
    "duration": 6,
    "start_time": "2024-09-15T18:47:39.544Z"
   },
   {
    "duration": 15,
    "start_time": "2024-09-15T18:47:39.552Z"
   },
   {
    "duration": 10,
    "start_time": "2024-09-15T18:47:39.568Z"
   },
   {
    "duration": 11,
    "start_time": "2024-09-15T18:47:39.580Z"
   },
   {
    "duration": 45,
    "start_time": "2024-09-15T18:47:39.592Z"
   },
   {
    "duration": 19,
    "start_time": "2024-09-15T18:47:39.639Z"
   },
   {
    "duration": 23,
    "start_time": "2024-09-15T18:47:39.660Z"
   },
   {
    "duration": 342,
    "start_time": "2024-09-15T18:47:39.685Z"
   },
   {
    "duration": 8,
    "start_time": "2024-09-15T18:47:40.029Z"
   },
   {
    "duration": 16,
    "start_time": "2024-09-15T18:47:40.039Z"
   },
   {
    "duration": 395,
    "start_time": "2024-09-15T18:47:40.057Z"
   },
   {
    "duration": 10,
    "start_time": "2024-09-15T18:47:40.454Z"
   },
   {
    "duration": 256,
    "start_time": "2024-09-15T18:47:40.466Z"
   },
   {
    "duration": 10,
    "start_time": "2024-09-15T18:47:40.724Z"
   },
   {
    "duration": 271,
    "start_time": "2024-09-15T18:47:40.736Z"
   },
   {
    "duration": 18,
    "start_time": "2024-09-15T18:47:41.009Z"
   },
   {
    "duration": 274,
    "start_time": "2024-09-15T18:47:41.029Z"
   },
   {
    "duration": 155,
    "start_time": "2024-09-15T18:47:41.305Z"
   },
   {
    "duration": 8,
    "start_time": "2024-09-15T18:47:41.462Z"
   },
   {
    "duration": 212,
    "start_time": "2024-09-15T18:47:41.471Z"
   },
   {
    "duration": 227,
    "start_time": "2024-09-15T18:47:41.685Z"
   },
   {
    "duration": 191,
    "start_time": "2024-09-15T18:47:41.913Z"
   },
   {
    "duration": 18,
    "start_time": "2024-09-15T18:47:42.105Z"
   },
   {
    "duration": 283,
    "start_time": "2024-09-15T18:47:42.125Z"
   },
   {
    "duration": 15,
    "start_time": "2024-09-15T18:47:42.410Z"
   },
   {
    "duration": 269,
    "start_time": "2024-09-15T18:47:42.427Z"
   },
   {
    "duration": 11,
    "start_time": "2024-09-15T18:47:42.698Z"
   },
   {
    "duration": 270,
    "start_time": "2024-09-15T18:47:42.720Z"
   },
   {
    "duration": 9,
    "start_time": "2024-09-15T18:47:42.992Z"
   },
   {
    "duration": 265,
    "start_time": "2024-09-15T18:47:43.003Z"
   },
   {
    "duration": 15,
    "start_time": "2024-09-15T18:47:43.270Z"
   },
   {
    "duration": 19,
    "start_time": "2024-09-15T18:47:43.286Z"
   },
   {
    "duration": 22,
    "start_time": "2024-09-15T18:47:43.306Z"
   },
   {
    "duration": 132,
    "start_time": "2024-09-15T18:47:43.329Z"
   },
   {
    "duration": 15,
    "start_time": "2024-09-15T18:47:43.464Z"
   },
   {
    "duration": 225,
    "start_time": "2024-09-15T18:47:43.481Z"
   },
   {
    "duration": 297,
    "start_time": "2024-09-15T18:47:43.707Z"
   },
   {
    "duration": 216,
    "start_time": "2024-09-15T18:47:44.006Z"
   },
   {
    "duration": 160,
    "start_time": "2024-09-15T18:47:44.224Z"
   },
   {
    "duration": 155,
    "start_time": "2024-09-15T18:47:44.385Z"
   },
   {
    "duration": 170,
    "start_time": "2024-09-15T18:47:44.542Z"
   },
   {
    "duration": 175,
    "start_time": "2024-09-15T18:47:44.713Z"
   },
   {
    "duration": 183,
    "start_time": "2024-09-15T18:47:44.890Z"
   },
   {
    "duration": 28,
    "start_time": "2024-09-15T18:47:45.075Z"
   },
   {
    "duration": 401,
    "start_time": "2024-09-15T18:47:45.106Z"
   },
   {
    "duration": 21,
    "start_time": "2024-09-15T18:47:45.508Z"
   },
   {
    "duration": 208,
    "start_time": "2024-09-15T18:47:45.530Z"
   },
   {
    "duration": 41,
    "start_time": "2024-09-15T18:49:12.307Z"
   }
  ],
  "colab": {
   "provenance": []
  },
  "kernelspec": {
   "display_name": "Python 3 (ipykernel)",
   "language": "python",
   "name": "python3"
  },
  "language_info": {
   "codemirror_mode": {
    "name": "ipython",
    "version": 3
   },
   "file_extension": ".py",
   "mimetype": "text/x-python",
   "name": "python",
   "nbconvert_exporter": "python",
   "pygments_lexer": "ipython3",
   "version": "3.9.5"
  },
  "toc": {
   "base_numbering": 1,
   "nav_menu": {},
   "number_sections": true,
   "sideBar": true,
   "skip_h1_title": true,
   "title_cell": "Table of Contents",
   "title_sidebar": "Contents",
   "toc_cell": false,
   "toc_position": {},
   "toc_section_display": true,
   "toc_window_display": false
  }
 },
 "nbformat": 4,
 "nbformat_minor": 1
}
