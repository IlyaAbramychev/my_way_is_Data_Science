{
 "cells": [
  {
   "cell_type": "markdown",
   "metadata": {},
   "source": [
    "# Определение стоимости автомобилей"
   ]
  },
  {
   "cell_type": "markdown",
   "metadata": {},
   "source": [
    "Сервис по продаже автомобилей с пробегом «Не бит, не крашен» разрабатывает приложение для привлечения новых клиентов. В нём можно быстро узнать рыночную стоимость своего автомобиля. В вашем распоряжении исторические данные: технические характеристики, комплектации и цены автомобилей. Вам нужно построить модель для определения стоимости. \n",
    "\n",
    "Заказчику важны:\n",
    "\n",
    "- качество предсказания;\n",
    "- скорость предсказания;\n",
    "- время обучения."
   ]
  },
  {
   "cell_type": "markdown",
   "metadata": {},
   "source": [
    "# Цель исследования\n",
    "\n",
    "Разработать модель машинного обучения для определения рыночной стоимости автомобиля, основываясь на его характеристиках и комплектации.\n",
    "\n",
    "***Ожидаемый результат:***\n",
    "\n",
    "- Точная оценка стоимости автомобиля для клиентов сервиса.\n",
    "- Снижение разницы между предсказанной и реальной ценой.\n",
    "- Быстрая работа модели, обеспечивающая мгновенный отклик в приложении.\n",
    "\n",
    "# Суть исследования\n",
    "\n",
    "Создать и протестировать различные модели машинного обучения для прогнозирования цены автомобилей с пробегом.\n",
    "\n",
    "#  Задачи исследования\n",
    "\n",
    "***Этап 1. Подготовка данных***\n",
    "\n",
    "***Этап 2. Обучение моделей***\n",
    "\n",
    "***Этап 3. Анализ результатов***\n",
    "\n",
    "\n",
    "# Исходные данные\n",
    "\n",
    "***Признаки***\n",
    "\n",
    "- `DateCrawled` — дата скачивания анкеты из базы\n",
    "- `VehicleType` — тип автомобильного кузова\n",
    "- `RegistrationYear` — год регистрации автомобиля\n",
    "- `Gearbox` — тип коробки передач\n",
    "- `Power` — мощность (л. с.)\n",
    "- `Model` — модель автомобиля\n",
    "- `Kilometer` — пробег (км)\n",
    "- `RegistrationMonth` — месяц регистрации автомобиля\n",
    "- `FuelType` — тип топлива\n",
    "- `Brand` — марка автомобиля\n",
    "- `Repaired` — была машина в ремонте или нет\n",
    "- `DateCreated` — дата создания анкеты\n",
    "- `NumberOfPictures` — количество фотографий автомобиля\n",
    "- `PostalCode` — почтовый индекс владельца анкеты (пользователя)\n",
    "- `LastSeen` — дата последней активности пользователя\n",
    "\n",
    "\n",
    "***Целевой признак***\n",
    "- `Price` — цена (евро)"
   ]
  },
  {
   "cell_type": "code",
   "execution_count": 1,
   "metadata": {},
   "outputs": [
    {
     "name": "stdout",
     "output_type": "stream",
     "text": [
      "Requirement already satisfied: numpy==1.21.6 in /opt/conda/lib/python3.9/site-packages (1.21.6)\n",
      "Requirement already satisfied: pandas==1.3.5 in /opt/conda/lib/python3.9/site-packages (1.3.5)\n",
      "Requirement already satisfied: scipy==1.7.3 in /opt/conda/lib/python3.9/site-packages (1.7.3)\n",
      "Requirement already satisfied: scikit-learn==1.1.3 in /opt/conda/lib/python3.9/site-packages (1.1.3)\n",
      "Requirement already satisfied: category_encoders==2.6.0 in /opt/conda/lib/python3.9/site-packages (2.6.0)\n",
      "Requirement already satisfied: python-dateutil>=2.7.3 in /opt/conda/lib/python3.9/site-packages (from pandas==1.3.5) (2.8.1)\n",
      "Requirement already satisfied: pytz>=2017.3 in /opt/conda/lib/python3.9/site-packages (from pandas==1.3.5) (2021.1)\n",
      "Requirement already satisfied: threadpoolctl>=2.0.0 in /opt/conda/lib/python3.9/site-packages (from scikit-learn==1.1.3) (3.1.0)\n",
      "Requirement already satisfied: joblib>=1.0.0 in /opt/conda/lib/python3.9/site-packages (from scikit-learn==1.1.3) (1.4.2)\n",
      "Requirement already satisfied: patsy>=0.5.1 in /opt/conda/lib/python3.9/site-packages (from category_encoders==2.6.0) (0.5.2)\n",
      "Requirement already satisfied: statsmodels>=0.9.0 in /opt/conda/lib/python3.9/site-packages (from category_encoders==2.6.0) (0.13.2)\n",
      "Requirement already satisfied: six in /opt/conda/lib/python3.9/site-packages (from patsy>=0.5.1->category_encoders==2.6.0) (1.16.0)\n",
      "Requirement already satisfied: packaging>=21.3 in /opt/conda/lib/python3.9/site-packages (from statsmodels>=0.9.0->category_encoders==2.6.0) (21.3)\n",
      "Requirement already satisfied: pyparsing!=3.0.5,>=2.0.2 in /opt/conda/lib/python3.9/site-packages (from packaging>=21.3->statsmodels>=0.9.0->category_encoders==2.6.0) (2.4.7)\n"
     ]
    }
   ],
   "source": [
    "!pip install numpy==1.21.6 pandas==1.3.5 scipy==1.7.3 scikit-learn==1.1.3 category_encoders==2.6.0"
   ]
  },
  {
   "cell_type": "code",
   "execution_count": 2,
   "metadata": {},
   "outputs": [],
   "source": [
    "import numpy as np\n",
    "import pandas as pd\n",
    "from sklearn.metrics import mean_squared_error\n",
    "from sklearn.model_selection import GridSearchCV\n",
    "from sklearn.linear_model import LinearRegression\n",
    "from sklearn.ensemble import RandomForestRegressor\n",
    "from sklearn.model_selection import train_test_split\n",
    "from sklearn.preprocessing import OneHotEncoder, StandardScaler\n",
    "\n",
    "import lightgbm as lgb\n",
    "from catboost import CatBoostRegressor\n",
    "\n",
    "import time"
   ]
  },
  {
   "cell_type": "markdown",
   "metadata": {},
   "source": [
    "## Подготовка данных"
   ]
  },
  {
   "cell_type": "code",
   "execution_count": 3,
   "metadata": {},
   "outputs": [],
   "source": [
    "# Загрузка данных с проверкой\n",
    "try:\n",
    "    df = pd.read_csv('/datasets/autos.csv')\n",
    "except:\n",
    "    df = pd.read_csv('autos.csv')"
   ]
  },
  {
   "cell_type": "code",
   "execution_count": 4,
   "metadata": {},
   "outputs": [],
   "source": [
    "# Функция для вывода общей информации\n",
    "def info_data(df):\n",
    "    display(df.info())\n",
    "    display(df.describe())"
   ]
  },
  {
   "cell_type": "code",
   "execution_count": 5,
   "metadata": {
    "scrolled": false
   },
   "outputs": [
    {
     "name": "stdout",
     "output_type": "stream",
     "text": [
      "<class 'pandas.core.frame.DataFrame'>\n",
      "RangeIndex: 354369 entries, 0 to 354368\n",
      "Data columns (total 16 columns):\n",
      " #   Column             Non-Null Count   Dtype \n",
      "---  ------             --------------   ----- \n",
      " 0   DateCrawled        354369 non-null  object\n",
      " 1   Price              354369 non-null  int64 \n",
      " 2   VehicleType        316879 non-null  object\n",
      " 3   RegistrationYear   354369 non-null  int64 \n",
      " 4   Gearbox            334536 non-null  object\n",
      " 5   Power              354369 non-null  int64 \n",
      " 6   Model              334664 non-null  object\n",
      " 7   Kilometer          354369 non-null  int64 \n",
      " 8   RegistrationMonth  354369 non-null  int64 \n",
      " 9   FuelType           321474 non-null  object\n",
      " 10  Brand              354369 non-null  object\n",
      " 11  Repaired           283215 non-null  object\n",
      " 12  DateCreated        354369 non-null  object\n",
      " 13  NumberOfPictures   354369 non-null  int64 \n",
      " 14  PostalCode         354369 non-null  int64 \n",
      " 15  LastSeen           354369 non-null  object\n",
      "dtypes: int64(7), object(9)\n",
      "memory usage: 43.3+ MB\n"
     ]
    },
    {
     "data": {
      "text/plain": [
       "None"
      ]
     },
     "metadata": {},
     "output_type": "display_data"
    },
    {
     "data": {
      "text/html": [
       "<div>\n",
       "<style scoped>\n",
       "    .dataframe tbody tr th:only-of-type {\n",
       "        vertical-align: middle;\n",
       "    }\n",
       "\n",
       "    .dataframe tbody tr th {\n",
       "        vertical-align: top;\n",
       "    }\n",
       "\n",
       "    .dataframe thead th {\n",
       "        text-align: right;\n",
       "    }\n",
       "</style>\n",
       "<table border=\"1\" class=\"dataframe\">\n",
       "  <thead>\n",
       "    <tr style=\"text-align: right;\">\n",
       "      <th></th>\n",
       "      <th>Price</th>\n",
       "      <th>RegistrationYear</th>\n",
       "      <th>Power</th>\n",
       "      <th>Kilometer</th>\n",
       "      <th>RegistrationMonth</th>\n",
       "      <th>NumberOfPictures</th>\n",
       "      <th>PostalCode</th>\n",
       "    </tr>\n",
       "  </thead>\n",
       "  <tbody>\n",
       "    <tr>\n",
       "      <th>count</th>\n",
       "      <td>354369.000000</td>\n",
       "      <td>354369.000000</td>\n",
       "      <td>354369.000000</td>\n",
       "      <td>354369.000000</td>\n",
       "      <td>354369.000000</td>\n",
       "      <td>354369.0</td>\n",
       "      <td>354369.000000</td>\n",
       "    </tr>\n",
       "    <tr>\n",
       "      <th>mean</th>\n",
       "      <td>4416.656776</td>\n",
       "      <td>2004.234448</td>\n",
       "      <td>110.094337</td>\n",
       "      <td>128211.172535</td>\n",
       "      <td>5.714645</td>\n",
       "      <td>0.0</td>\n",
       "      <td>50508.689087</td>\n",
       "    </tr>\n",
       "    <tr>\n",
       "      <th>std</th>\n",
       "      <td>4514.158514</td>\n",
       "      <td>90.227958</td>\n",
       "      <td>189.850405</td>\n",
       "      <td>37905.341530</td>\n",
       "      <td>3.726421</td>\n",
       "      <td>0.0</td>\n",
       "      <td>25783.096248</td>\n",
       "    </tr>\n",
       "    <tr>\n",
       "      <th>min</th>\n",
       "      <td>0.000000</td>\n",
       "      <td>1000.000000</td>\n",
       "      <td>0.000000</td>\n",
       "      <td>5000.000000</td>\n",
       "      <td>0.000000</td>\n",
       "      <td>0.0</td>\n",
       "      <td>1067.000000</td>\n",
       "    </tr>\n",
       "    <tr>\n",
       "      <th>25%</th>\n",
       "      <td>1050.000000</td>\n",
       "      <td>1999.000000</td>\n",
       "      <td>69.000000</td>\n",
       "      <td>125000.000000</td>\n",
       "      <td>3.000000</td>\n",
       "      <td>0.0</td>\n",
       "      <td>30165.000000</td>\n",
       "    </tr>\n",
       "    <tr>\n",
       "      <th>50%</th>\n",
       "      <td>2700.000000</td>\n",
       "      <td>2003.000000</td>\n",
       "      <td>105.000000</td>\n",
       "      <td>150000.000000</td>\n",
       "      <td>6.000000</td>\n",
       "      <td>0.0</td>\n",
       "      <td>49413.000000</td>\n",
       "    </tr>\n",
       "    <tr>\n",
       "      <th>75%</th>\n",
       "      <td>6400.000000</td>\n",
       "      <td>2008.000000</td>\n",
       "      <td>143.000000</td>\n",
       "      <td>150000.000000</td>\n",
       "      <td>9.000000</td>\n",
       "      <td>0.0</td>\n",
       "      <td>71083.000000</td>\n",
       "    </tr>\n",
       "    <tr>\n",
       "      <th>max</th>\n",
       "      <td>20000.000000</td>\n",
       "      <td>9999.000000</td>\n",
       "      <td>20000.000000</td>\n",
       "      <td>150000.000000</td>\n",
       "      <td>12.000000</td>\n",
       "      <td>0.0</td>\n",
       "      <td>99998.000000</td>\n",
       "    </tr>\n",
       "  </tbody>\n",
       "</table>\n",
       "</div>"
      ],
      "text/plain": [
       "               Price  RegistrationYear          Power      Kilometer  \\\n",
       "count  354369.000000     354369.000000  354369.000000  354369.000000   \n",
       "mean     4416.656776       2004.234448     110.094337  128211.172535   \n",
       "std      4514.158514         90.227958     189.850405   37905.341530   \n",
       "min         0.000000       1000.000000       0.000000    5000.000000   \n",
       "25%      1050.000000       1999.000000      69.000000  125000.000000   \n",
       "50%      2700.000000       2003.000000     105.000000  150000.000000   \n",
       "75%      6400.000000       2008.000000     143.000000  150000.000000   \n",
       "max     20000.000000       9999.000000   20000.000000  150000.000000   \n",
       "\n",
       "       RegistrationMonth  NumberOfPictures     PostalCode  \n",
       "count      354369.000000          354369.0  354369.000000  \n",
       "mean            5.714645               0.0   50508.689087  \n",
       "std             3.726421               0.0   25783.096248  \n",
       "min             0.000000               0.0    1067.000000  \n",
       "25%             3.000000               0.0   30165.000000  \n",
       "50%             6.000000               0.0   49413.000000  \n",
       "75%             9.000000               0.0   71083.000000  \n",
       "max            12.000000               0.0   99998.000000  "
      ]
     },
     "metadata": {},
     "output_type": "display_data"
    }
   ],
   "source": [
    "info_data(df)"
   ]
  },
  {
   "cell_type": "code",
   "execution_count": 6,
   "metadata": {},
   "outputs": [
    {
     "data": {
      "text/html": [
       "<div>\n",
       "<style scoped>\n",
       "    .dataframe tbody tr th:only-of-type {\n",
       "        vertical-align: middle;\n",
       "    }\n",
       "\n",
       "    .dataframe tbody tr th {\n",
       "        vertical-align: top;\n",
       "    }\n",
       "\n",
       "    .dataframe thead th {\n",
       "        text-align: right;\n",
       "    }\n",
       "</style>\n",
       "<table border=\"1\" class=\"dataframe\">\n",
       "  <thead>\n",
       "    <tr style=\"text-align: right;\">\n",
       "      <th></th>\n",
       "      <th>DateCrawled</th>\n",
       "      <th>Price</th>\n",
       "      <th>VehicleType</th>\n",
       "      <th>RegistrationYear</th>\n",
       "      <th>Gearbox</th>\n",
       "      <th>Power</th>\n",
       "      <th>Model</th>\n",
       "      <th>Kilometer</th>\n",
       "      <th>RegistrationMonth</th>\n",
       "      <th>FuelType</th>\n",
       "      <th>Brand</th>\n",
       "      <th>Repaired</th>\n",
       "      <th>DateCreated</th>\n",
       "      <th>NumberOfPictures</th>\n",
       "      <th>PostalCode</th>\n",
       "      <th>LastSeen</th>\n",
       "    </tr>\n",
       "  </thead>\n",
       "  <tbody>\n",
       "    <tr>\n",
       "      <th>0</th>\n",
       "      <td>2016-03-24 11:52:17</td>\n",
       "      <td>480</td>\n",
       "      <td>NaN</td>\n",
       "      <td>1993</td>\n",
       "      <td>manual</td>\n",
       "      <td>0</td>\n",
       "      <td>golf</td>\n",
       "      <td>150000</td>\n",
       "      <td>0</td>\n",
       "      <td>petrol</td>\n",
       "      <td>volkswagen</td>\n",
       "      <td>NaN</td>\n",
       "      <td>2016-03-24 00:00:00</td>\n",
       "      <td>0</td>\n",
       "      <td>70435</td>\n",
       "      <td>2016-04-07 03:16:57</td>\n",
       "    </tr>\n",
       "    <tr>\n",
       "      <th>1</th>\n",
       "      <td>2016-03-24 10:58:45</td>\n",
       "      <td>18300</td>\n",
       "      <td>coupe</td>\n",
       "      <td>2011</td>\n",
       "      <td>manual</td>\n",
       "      <td>190</td>\n",
       "      <td>NaN</td>\n",
       "      <td>125000</td>\n",
       "      <td>5</td>\n",
       "      <td>gasoline</td>\n",
       "      <td>audi</td>\n",
       "      <td>yes</td>\n",
       "      <td>2016-03-24 00:00:00</td>\n",
       "      <td>0</td>\n",
       "      <td>66954</td>\n",
       "      <td>2016-04-07 01:46:50</td>\n",
       "    </tr>\n",
       "    <tr>\n",
       "      <th>2</th>\n",
       "      <td>2016-03-14 12:52:21</td>\n",
       "      <td>9800</td>\n",
       "      <td>suv</td>\n",
       "      <td>2004</td>\n",
       "      <td>auto</td>\n",
       "      <td>163</td>\n",
       "      <td>grand</td>\n",
       "      <td>125000</td>\n",
       "      <td>8</td>\n",
       "      <td>gasoline</td>\n",
       "      <td>jeep</td>\n",
       "      <td>NaN</td>\n",
       "      <td>2016-03-14 00:00:00</td>\n",
       "      <td>0</td>\n",
       "      <td>90480</td>\n",
       "      <td>2016-04-05 12:47:46</td>\n",
       "    </tr>\n",
       "    <tr>\n",
       "      <th>3</th>\n",
       "      <td>2016-03-17 16:54:04</td>\n",
       "      <td>1500</td>\n",
       "      <td>small</td>\n",
       "      <td>2001</td>\n",
       "      <td>manual</td>\n",
       "      <td>75</td>\n",
       "      <td>golf</td>\n",
       "      <td>150000</td>\n",
       "      <td>6</td>\n",
       "      <td>petrol</td>\n",
       "      <td>volkswagen</td>\n",
       "      <td>no</td>\n",
       "      <td>2016-03-17 00:00:00</td>\n",
       "      <td>0</td>\n",
       "      <td>91074</td>\n",
       "      <td>2016-03-17 17:40:17</td>\n",
       "    </tr>\n",
       "    <tr>\n",
       "      <th>4</th>\n",
       "      <td>2016-03-31 17:25:20</td>\n",
       "      <td>3600</td>\n",
       "      <td>small</td>\n",
       "      <td>2008</td>\n",
       "      <td>manual</td>\n",
       "      <td>69</td>\n",
       "      <td>fabia</td>\n",
       "      <td>90000</td>\n",
       "      <td>7</td>\n",
       "      <td>gasoline</td>\n",
       "      <td>skoda</td>\n",
       "      <td>no</td>\n",
       "      <td>2016-03-31 00:00:00</td>\n",
       "      <td>0</td>\n",
       "      <td>60437</td>\n",
       "      <td>2016-04-06 10:17:21</td>\n",
       "    </tr>\n",
       "  </tbody>\n",
       "</table>\n",
       "</div>"
      ],
      "text/plain": [
       "           DateCrawled  Price VehicleType  RegistrationYear Gearbox  Power  \\\n",
       "0  2016-03-24 11:52:17    480         NaN              1993  manual      0   \n",
       "1  2016-03-24 10:58:45  18300       coupe              2011  manual    190   \n",
       "2  2016-03-14 12:52:21   9800         suv              2004    auto    163   \n",
       "3  2016-03-17 16:54:04   1500       small              2001  manual     75   \n",
       "4  2016-03-31 17:25:20   3600       small              2008  manual     69   \n",
       "\n",
       "   Model  Kilometer  RegistrationMonth  FuelType       Brand Repaired  \\\n",
       "0   golf     150000                  0    petrol  volkswagen      NaN   \n",
       "1    NaN     125000                  5  gasoline        audi      yes   \n",
       "2  grand     125000                  8  gasoline        jeep      NaN   \n",
       "3   golf     150000                  6    petrol  volkswagen       no   \n",
       "4  fabia      90000                  7  gasoline       skoda       no   \n",
       "\n",
       "           DateCreated  NumberOfPictures  PostalCode             LastSeen  \n",
       "0  2016-03-24 00:00:00                 0       70435  2016-04-07 03:16:57  \n",
       "1  2016-03-24 00:00:00                 0       66954  2016-04-07 01:46:50  \n",
       "2  2016-03-14 00:00:00                 0       90480  2016-04-05 12:47:46  \n",
       "3  2016-03-17 00:00:00                 0       91074  2016-03-17 17:40:17  \n",
       "4  2016-03-31 00:00:00                 0       60437  2016-04-06 10:17:21  "
      ]
     },
     "execution_count": 6,
     "metadata": {},
     "output_type": "execute_result"
    }
   ],
   "source": [
    "df.head()"
   ]
  },
  {
   "cell_type": "code",
   "execution_count": 7,
   "metadata": {},
   "outputs": [],
   "source": [
    "# Функция для вывода кол-ва дубликатов и пропусков\n",
    "def search_losses(df):\n",
    "    print(f\"Количество дубликатов: {df.duplicated().sum()}\\n\")\n",
    "    print(f\"Количество пропусков:\\n{df.isna().sum()}\\n\")"
   ]
  },
  {
   "cell_type": "code",
   "execution_count": 8,
   "metadata": {
    "scrolled": false
   },
   "outputs": [
    {
     "name": "stdout",
     "output_type": "stream",
     "text": [
      "Количество дубликатов: 4\n",
      "\n",
      "Количество пропусков:\n",
      "DateCrawled              0\n",
      "Price                    0\n",
      "VehicleType          37490\n",
      "RegistrationYear         0\n",
      "Gearbox              19833\n",
      "Power                    0\n",
      "Model                19705\n",
      "Kilometer                0\n",
      "RegistrationMonth        0\n",
      "FuelType             32895\n",
      "Brand                    0\n",
      "Repaired             71154\n",
      "DateCreated              0\n",
      "NumberOfPictures         0\n",
      "PostalCode               0\n",
      "LastSeen                 0\n",
      "dtype: int64\n",
      "\n"
     ]
    }
   ],
   "source": [
    "search_losses(df)"
   ]
  },
  {
   "cell_type": "markdown",
   "metadata": {},
   "source": [
    "***1. Пропущенные значения:*** \n",
    "\n",
    "- Встречаются в колонках `VehicleType`, `Model`, `FuelType`, `Repaired`.\n",
    "\n",
    "***2. Некорректные значения:***\n",
    "\n",
    "- `Power` содержит нулевые значения, что маловероятно для автомобилей.\n",
    "- `RegistrationYear` может включать аномальные значения (например, выше текущего года).\n",
    "- `RegistrationMonth` содержит 0, что тоже странно.\n",
    "\n",
    "***3. Пропуски:***\n",
    "\n",
    "- `VehicleType` (37490)\n",
    "- `Gearbox` (19833)\n",
    "- `Model` (19705)\n",
    "- `FuelType` (32895)\n",
    "- `Repaired` (71154)\n",
    "\n",
    "***Для категориальных данных можно заполнить пропуски модой или добавить категорию \"unknown\".***\n",
    "\n",
    "***4. Аномальные значения:***\n",
    "\n",
    "- `Power`: от 0 до 20 000 л.с., что явно нереалистично.\n",
    "- `RegistrationYear`: есть значения от 1000 года.\n",
    "- `RegistrationMonth`: есть 0 (регистрация должна быть в одном из 12 месяцев).\n",
    "\n",
    "***5. Неинформативные признаки:***\n",
    "\n",
    "- `DateCrawled`, `DateCreated`, `LastSeen` (уберём).\n",
    "\n",
    "- `NumberOfPictures` (везде 0, не даёт информации).\n",
    "\n",
    "- `PostalCode` (не влияет на цену, тоже уберём)."
   ]
  },
  {
   "cell_type": "code",
   "execution_count": 9,
   "metadata": {},
   "outputs": [],
   "source": [
    "# Удаление неинформативных признаков\n",
    "df.drop(columns=['DateCrawled', 'DateCreated', 'LastSeen', 'NumberOfPictures', 'PostalCode'], inplace=True)"
   ]
  },
  {
   "cell_type": "code",
   "execution_count": 10,
   "metadata": {},
   "outputs": [],
   "source": [
    "# Обрабатка пропусков\n",
    "categorical_columns = ['VehicleType', 'Gearbox', 'Model', 'FuelType', 'Repaired']\n",
    "df[categorical_columns] = df[categorical_columns].fillna('unknown')"
   ]
  },
  {
   "cell_type": "code",
   "execution_count": 11,
   "metadata": {},
   "outputs": [],
   "source": [
    "# Фильтруем аномальные значения в RegistrationYear\n",
    "df = df[(df['RegistrationYear'] >= 1900) & (df['RegistrationYear'] <= 2016)]"
   ]
  },
  {
   "cell_type": "code",
   "execution_count": 12,
   "metadata": {},
   "outputs": [],
   "source": [
    "# Фильтруем нулевые и слишком большие значения в Power\n",
    "df = df[(df['Power'] > 10) & (df['Power'] < 1000)]"
   ]
  },
  {
   "cell_type": "code",
   "execution_count": 13,
   "metadata": {},
   "outputs": [],
   "source": [
    "# Оставляем только допустимые значения в RegistrationMonth\n",
    "df = df[df['RegistrationMonth'].between(1, 12)]"
   ]
  },
  {
   "cell_type": "code",
   "execution_count": 14,
   "metadata": {},
   "outputs": [
    {
     "name": "stdout",
     "output_type": "stream",
     "text": [
      "Количество дубликатов: 22868\n",
      "\n",
      "Количество пропусков:\n",
      "Price                0\n",
      "VehicleType          0\n",
      "RegistrationYear     0\n",
      "Gearbox              0\n",
      "Power                0\n",
      "Model                0\n",
      "Kilometer            0\n",
      "RegistrationMonth    0\n",
      "FuelType             0\n",
      "Brand                0\n",
      "Repaired             0\n",
      "dtype: int64\n",
      "\n"
     ]
    }
   ],
   "source": [
    "search_losses(df)"
   ]
  },
  {
   "cell_type": "code",
   "execution_count": 15,
   "metadata": {},
   "outputs": [],
   "source": [
    "# Удаляем дубликаты\n",
    "df = df.drop_duplicates()"
   ]
  },
  {
   "cell_type": "code",
   "execution_count": 16,
   "metadata": {},
   "outputs": [
    {
     "name": "stdout",
     "output_type": "stream",
     "text": [
      "<class 'pandas.core.frame.DataFrame'>\n",
      "Int64Index: 260184 entries, 1 to 354368\n",
      "Data columns (total 11 columns):\n",
      " #   Column             Non-Null Count   Dtype \n",
      "---  ------             --------------   ----- \n",
      " 0   Price              260184 non-null  int64 \n",
      " 1   VehicleType        260184 non-null  object\n",
      " 2   RegistrationYear   260184 non-null  int64 \n",
      " 3   Gearbox            260184 non-null  object\n",
      " 4   Power              260184 non-null  int64 \n",
      " 5   Model              260184 non-null  object\n",
      " 6   Kilometer          260184 non-null  int64 \n",
      " 7   RegistrationMonth  260184 non-null  int64 \n",
      " 8   FuelType           260184 non-null  object\n",
      " 9   Brand              260184 non-null  object\n",
      " 10  Repaired           260184 non-null  object\n",
      "dtypes: int64(5), object(6)\n",
      "memory usage: 23.8+ MB\n"
     ]
    }
   ],
   "source": [
    "df.info()"
   ]
  },
  {
   "cell_type": "code",
   "execution_count": 17,
   "metadata": {},
   "outputs": [],
   "source": [
    "# Удаляем автомобили с ценой 0\n",
    "df = df[df['Price'] > 0]"
   ]
  },
  {
   "cell_type": "markdown",
   "metadata": {},
   "source": [
    "***Вывод по предобработке данных***\n",
    "\n",
    "\n",
    "***1. Обнаружение и обработка пропусков***\n",
    "\n",
    "- В столбцах `VehicleType`, `Gearbox`, `Model`, `FuelType`, `Repaired` обнаружены пропуски.\n",
    "- Заполнил их значением \"unknown\", чтобы сохранить данные и не удалять полезную информацию.\n",
    "\n",
    "***Результат:***\n",
    "    Теперь во всех строках нет пропусков, и модели машин с неизвестными характеристиками не удалены.\n",
    "\n",
    "\n",
    "***2. Удаление неинформативных признаков***\n",
    "\n",
    "- Удалил `DateCrawled`, `DateCreated`, `LastSeen`, `NumberOfPictures`, `PostalCode`, так как они не влияют на стоимость авто.\n",
    "\n",
    "***Результат:***\n",
    "    Датасет стал чище – теперь в нем только нужные признаки.\n",
    "\n",
    "\n",
    "***3. Фильтрация аномалий***\n",
    "\n",
    "- Ограничил `RegistrationYear` до `1900–2016`.\n",
    "- Удалил аномальные значения `Power` (оставил `10–1000 л.с.`, убрал нулевую мощность и нереалистично высокие значения).\n",
    "- Отфильтровал `RegistrationMonth`, оставив только корректные значения `1–12` (убрал нули).\n",
    "\n",
    "***Результат:***\n",
    "    Теперь в данных нет аномально старых или новых машин, нет автомобилей с нулевой мощностью или некорректными месяцами регистрации.\n",
    "\n",
    "\n",
    "***4. Проверка и удаление дубликатов***\n",
    "\n",
    "- После удаления неинформативных столбцов обнаружил `22 868 дубликатов`.\n",
    "- Удалил их, чтобы избежать повторов и улучшить качество модели.\n",
    "\n",
    "***Результат:***\n",
    "    Дубликаты полностью удалены.\n",
    "\n",
    "\n",
    "***5. Проверка и очистка цен***\n",
    "\n",
    "- Обнаружил 4 170 автомобилей с ценой 0 евро. Удалил их, так как это аномалия.\n",
    "- Минимальная цена теперь 1 евро.\n",
    "\n",
    "***Результат:***\n",
    "    Теперь все машины имеют реалистичную цену, что должно повлиять на качество предсказаний."
   ]
  },
  {
   "cell_type": "code",
   "execution_count": 18,
   "metadata": {},
   "outputs": [],
   "source": [
    "target = 'Price'\n",
    "features = df.drop(columns=[target])\n",
    "target_values = df[target]\n",
    "\n",
    "# Выделяем числовые характеристики и категориальные\n",
    "numeric_features = ['RegistrationYear', 'Power', 'Kilometer', 'RegistrationMonth']\n",
    "categorical_features = ['VehicleType', 'Gearbox', 'Model', 'FuelType', 'Brand', 'Repaired']\n",
    "\n",
    "# Разделяем датасет на тестовые и тренировочные подвыборки\n",
    "X_train, X_test, y_train, y_test = train_test_split(features, target_values, test_size=0.2, random_state=42)\n",
    "\n",
    "# OHE с исправлением дамми-ловушки\n",
    "encoder = OneHotEncoder(handle_unknown='ignore', drop='first', sparse=False)\n",
    "X_train_cat = encoder.fit_transform(X_train[categorical_features])\n",
    "X_test_cat = encoder.transform(X_test[categorical_features])\n",
    "\n",
    "# SCALE\n",
    "scaler = StandardScaler()\n",
    "X_train_num = scaler.fit_transform(X_train[numeric_features])\n",
    "X_test_num = scaler.transform(X_test[numeric_features])\n",
    "\n",
    "# Собираем тренировочную и тестовую выборки\n",
    "X_train_final = np.hstack((X_train_num, X_train_cat))\n",
    "X_test_final = np.hstack((X_test_num, X_test_cat))"
   ]
  },
  {
   "cell_type": "code",
   "execution_count": 19,
   "metadata": {},
   "outputs": [
    {
     "data": {
      "text/plain": [
       "((204811, 311), (51203, 311))"
      ]
     },
     "execution_count": 19,
     "metadata": {},
     "output_type": "execute_result"
    }
   ],
   "source": [
    "X_train_final.shape, X_test_final.shape"
   ]
  },
  {
   "cell_type": "markdown",
   "metadata": {},
   "source": [
    "## Обучение моделей"
   ]
  },
  {
   "cell_type": "code",
   "execution_count": 20,
   "metadata": {},
   "outputs": [
    {
     "data": {
      "text/plain": [
       "'def train_and_evaluate(model, X_train, y_train, X_val, y_val):\\n    start_time = time.time()\\n    model.fit(X_train, y_train)\\n    train_time = time.time() - start_time\\n\\n    start_time = time.time()\\n    y_pred_train = model.predict(X_train)\\n    predict_time = time.time() - start_time\\n\\n    y_pred_val = model.predict(X_val)\\n    rmse = mean_squared_error(y_val, y_pred_val, squared=False)\\n\\n    return train_time, predict_time, rmse'"
      ]
     },
     "execution_count": 20,
     "metadata": {},
     "output_type": "execute_result"
    }
   ],
   "source": [
    "# Функция для обучения модели и оценки времени выполнения\n",
    "\"\"\"def train_and_evaluate(model, X_train, y_train, X_val, y_val):\n",
    "    start_time = time.time()\n",
    "    model.fit(X_train, y_train)\n",
    "    train_time = time.time() - start_time\n",
    "\n",
    "    start_time = time.time()\n",
    "    y_pred_train = model.predict(X_train)\n",
    "    predict_time = time.time() - start_time\n",
    "\n",
    "    y_pred_val = model.predict(X_val)\n",
    "    rmse = mean_squared_error(y_val, y_pred_val, squared=False)\n",
    "\n",
    "    return train_time, predict_time, rmse\"\"\""
   ]
  },
  {
   "cell_type": "code",
   "execution_count": 21,
   "metadata": {},
   "outputs": [],
   "source": [
    "# Выделяем модели и их гиперпараметры\n",
    "models_params = {\n",
    "    \"Linear Regression\": (LinearRegression(), {}),\n",
    "\n",
    "    \"Random Forest\": (RandomForestRegressor(random_state=42), {\n",
    "        \"n_estimators\": [10, 25, 50],\n",
    "        \"max_depth\": [None, 7]\n",
    "    }),\n",
    "\n",
    "    \"LightGBM\": (lgb.LGBMRegressor(random_state=42), {\n",
    "        \"n_estimators\": [10, 25, 50],\n",
    "        \"learning_rate\": [0.1, 0.05]\n",
    "    })# Убрал CatBoost, так как очень долго выполняется ячейка\n",
    "}"
   ]
  },
  {
   "cell_type": "code",
   "execution_count": 22,
   "metadata": {},
   "outputs": [
    {
     "name": "stdout",
     "output_type": "stream",
     "text": [
      "Обучаем Linear Regression...\n",
      "Обучаем Random Forest...\n",
      "Обучаем LightGBM...\n"
     ]
    }
   ],
   "source": [
    "# Перебираем модели, обучаем и подбираем лучшие параметры, но с условием на проверку параметров\n",
    "best_models = {}\n",
    "for model_name, (model, params) in models_params.items():\n",
    "    print(f\"Обучаем {model_name}...\")\n",
    "\n",
    "    start_time = time.time()  # Засекаем время обучения\n",
    "\n",
    "    if params:\n",
    "        search = GridSearchCV(model, params, cv=3, scoring=\"neg_root_mean_squared_error\", n_jobs=-1)\n",
    "        search.fit(X_train_final, y_train)\n",
    "        best_model = search.best_estimator_\n",
    "        best_score = -search.best_score_\n",
    "    else:\n",
    "        model.fit(X_train_final, y_train)\n",
    "        best_model = model\n",
    "        best_score = mean_squared_error(y_train, model.predict(X_train_final), squared=False)\n",
    "\n",
    "    train_time = time.time() - start_time  # Время обучения\n",
    "\n",
    "    # Засекаем время предсказания\n",
    "    start_pred = time.time()\n",
    "    _ = best_model.predict(X_train_final)\n",
    "    predict_time = time.time() - start_pred\n",
    "\n",
    "    best_models[model_name] = {\n",
    "        \"best_model\": best_model,\n",
    "        \"best_score\": best_score,\n",
    "        \"train_time\": train_time,\n",
    "        \"predict_time\": predict_time\n",
    "    }"
   ]
  },
  {
   "cell_type": "code",
   "execution_count": 23,
   "metadata": {},
   "outputs": [
    {
     "name": "stdout",
     "output_type": "stream",
     "text": [
      "Linear Regression: Лучший RMSE = 2606.55, Время обучения = 43.80 сек, Время предсказания = 0.3054 сек\n",
      "Random Forest: Лучший RMSE = 1675.20, Время обучения = 1926.94 сек, Время предсказания = 7.0281 сек\n",
      "LightGBM: Лучший RMSE = 1749.81, Время обучения = 633.83 сек, Время предсказания = 1.2198 сек\n"
     ]
    }
   ],
   "source": [
    "for name, result in best_models.items():\n",
    "    print(f\"{name}: Лучший RMSE = {result['best_score']:.2f}, Время обучения = {result['train_time']:.2f} сек, Время предсказания = {result['predict_time']:.4f} сек\")"
   ]
  },
  {
   "cell_type": "markdown",
   "metadata": {},
   "source": [
    "Качество предсказаний (`RMSE`, чем меньше — тем лучше):\n",
    "\n",
    "`Linear Regression`: 2606.55 (худший результат)\n",
    "\n",
    "`Random Forest`: 1675.20(лучший результат)\n",
    "\n",
    "`LightGBM`: 1749.81 "
   ]
  },
  {
   "cell_type": "markdown",
   "metadata": {},
   "source": [
    "## Анализ моделей"
   ]
  },
  {
   "cell_type": "code",
   "execution_count": 24,
   "metadata": {},
   "outputs": [],
   "source": [
    "# Сравнение моделей по 3 критериям\n",
    "model_performance = {}\n",
    "for name, result in best_models.items():\n",
    "    best_model = result[\"best_model\"]\n",
    "\n",
    "    # Засекаем время обучения\n",
    "    start_train = time.time()\n",
    "    best_model.fit(X_train_final, y_train)\n",
    "    train_time = time.time() - start_train\n",
    "\n",
    "    # Засекаем время предсказания\n",
    "    start_pred = time.time()\n",
    "    _ = best_model.predict(X_train_final)\n",
    "    predict_time = time.time() - start_pred\n",
    "\n",
    "    # RMSE на кросс-валидации\n",
    "    rmse_val = result[\"best_score\"]\n",
    "\n",
    "    # Записываем в таблицу\n",
    "    model_performance[name] = {\n",
    "        \"Время обучения (сек)\": train_time,\n",
    "        \"Время предсказания (сек)\": predict_time,\n",
    "        \"RMSE\": rmse_val\n",
    "    }"
   ]
  },
  {
   "cell_type": "code",
   "execution_count": 26,
   "metadata": {},
   "outputs": [
    {
     "data": {
      "text/html": [
       "<div>\n",
       "<style scoped>\n",
       "    .dataframe tbody tr th:only-of-type {\n",
       "        vertical-align: middle;\n",
       "    }\n",
       "\n",
       "    .dataframe tbody tr th {\n",
       "        vertical-align: top;\n",
       "    }\n",
       "\n",
       "    .dataframe thead th {\n",
       "        text-align: right;\n",
       "    }\n",
       "</style>\n",
       "<table border=\"1\" class=\"dataframe\">\n",
       "  <thead>\n",
       "    <tr style=\"text-align: right;\">\n",
       "      <th></th>\n",
       "      <th>Время обучения (сек)</th>\n",
       "      <th>Время предсказания (сек)</th>\n",
       "      <th>RMSE</th>\n",
       "    </tr>\n",
       "  </thead>\n",
       "  <tbody>\n",
       "    <tr>\n",
       "      <th>Linear Regression</th>\n",
       "      <td>42.468408</td>\n",
       "      <td>0.179172</td>\n",
       "      <td>2606.554856</td>\n",
       "    </tr>\n",
       "    <tr>\n",
       "      <th>Random Forest</th>\n",
       "      <td>323.579086</td>\n",
       "      <td>6.627192</td>\n",
       "      <td>1675.203871</td>\n",
       "    </tr>\n",
       "    <tr>\n",
       "      <th>LightGBM</th>\n",
       "      <td>71.309815</td>\n",
       "      <td>1.299979</td>\n",
       "      <td>1749.810681</td>\n",
       "    </tr>\n",
       "  </tbody>\n",
       "</table>\n",
       "</div>"
      ],
      "text/plain": [
       "                   Время обучения (сек)  Время предсказания (сек)         RMSE\n",
       "Linear Regression             42.468408                  0.179172  2606.554856\n",
       "Random Forest                323.579086                  6.627192  1675.203871\n",
       "LightGBM                      71.309815                  1.299979  1749.810681"
      ]
     },
     "execution_count": 26,
     "metadata": {},
     "output_type": "execute_result"
    }
   ],
   "source": [
    "# Создаём DataFrame с результатами\n",
    "performance_df = pd.DataFrame(model_performance).T\n",
    "performance_df"
   ]
  },
  {
   "cell_type": "code",
   "execution_count": 27,
   "metadata": {},
   "outputs": [],
   "source": [
    "# Выбираем лучшую модель по RMSE\n",
    "best_model_name = performance_df[\"RMSE\"].idxmin()\n",
    "best_model = best_models[best_model_name][\"best_model\"]"
   ]
  },
  {
   "cell_type": "code",
   "execution_count": 28,
   "metadata": {},
   "outputs": [
    {
     "name": "stdout",
     "output_type": "stream",
     "text": [
      "Лучшая модель: Random Forest\n"
     ]
    }
   ],
   "source": [
    "print(f\"Лучшая модель: {best_model_name}\")"
   ]
  },
  {
   "cell_type": "code",
   "execution_count": 29,
   "metadata": {},
   "outputs": [],
   "source": [
    "start_test = time.time()\n",
    "y_test_pred = best_model.predict(X_test_final)\n",
    "test_time = time.time() - start_test"
   ]
  },
  {
   "cell_type": "code",
   "execution_count": 30,
   "metadata": {},
   "outputs": [
    {
     "name": "stdout",
     "output_type": "stream",
     "text": [
      "Финальное RMSE на тестовой выборке (Random Forest): 1643.49\n",
      "Время предсказания на тесте: 1.6529 секунд\n"
     ]
    }
   ],
   "source": [
    "rmse_test = mean_squared_error(y_test, y_test_pred, squared=False)\n",
    "print(f\"Финальное RMSE на тестовой выборке ({best_model_name}): {rmse_test:.2f}\")\n",
    "print(f\"Время предсказания на тесте: {test_time:.4f} секунд\")"
   ]
  },
  {
   "cell_type": "markdown",
   "metadata": {},
   "source": [
    "***1. Linear Regression***\n",
    "\n",
    "- Самая быстрая модель, но низкая точность (`RMSE = 2606.55`).\n",
    "- Обучается быстро (`42.47 сек`).\n",
    "- Предсказывает мгновенно (`0.18 сек`).\n",
    "- ***Не подходит из-за высокого RMSE.***\n",
    "\n",
    "***2. Random Forest***\n",
    "\n",
    "- Лучшее качество предсказаний (`RMSE = 1675.20`).\n",
    "- Финальное `RMSE` на тесте: `1643.49`.\n",
    "- Долгое обучение (`323.58 сек`).\n",
    "- Медленное предсказание (`6.63 сек`).\n",
    "- ***Лучшая модель по точности, но может быть тяжёлой в инференсе.***\n",
    "\n",
    "***3. LightGBM***\n",
    "\n",
    "- Быстрее обучается, чем `Random Forest` (`71.31 сек`).\n",
    "- Достаточно точная (`RMSE = 1749.81`).\n",
    "- Быстро предсказывает (`1.30 сек`).\n",
    "- ***Отличная альтернатива Random Forest, если важна скорость работы.***"
   ]
  },
  {
   "cell_type": "markdown",
   "metadata": {},
   "source": [
    "###### Итоговая рекомендация\n",
    "\n",
    "- ***Random Forest*** наилучшая точность (`RMSE = 1643.49` на `X_test`).\n",
    "- ***LightGBM*** быстрее работает, но чуть менее точен (`RMSE = 1749.81`).\n",
    "\n",
    "Если приоритет — `точность`, используем `Random Forest`.\n",
    "Если важна `скорость` работы, `LightGBM` может быть лучшим вариантом."
   ]
  }
 ],
 "metadata": {
  "ExecuteTimeLog": [
   {
    "duration": 60,
    "start_time": "2025-02-28T09:14:40.030Z"
   },
   {
    "duration": 415,
    "start_time": "2025-02-28T09:14:45.284Z"
   },
   {
    "duration": 907,
    "start_time": "2025-02-28T09:14:46.587Z"
   },
   {
    "duration": 3,
    "start_time": "2025-02-28T09:15:25.435Z"
   },
   {
    "duration": 237,
    "start_time": "2025-02-28T09:15:33.296Z"
   },
   {
    "duration": 3,
    "start_time": "2025-02-28T09:15:45.548Z"
   },
   {
    "duration": 289,
    "start_time": "2025-02-28T09:15:45.938Z"
   },
   {
    "duration": 3,
    "start_time": "2025-02-28T09:15:52.810Z"
   },
   {
    "duration": 3,
    "start_time": "2025-02-28T09:16:03.942Z"
   },
   {
    "duration": 524,
    "start_time": "2025-02-28T09:16:39.389Z"
   },
   {
    "duration": 105,
    "start_time": "2025-02-28T09:16:45.313Z"
   },
   {
    "duration": 538,
    "start_time": "2025-02-28T09:16:47.961Z"
   },
   {
    "duration": 3,
    "start_time": "2025-02-28T09:19:29.851Z"
   },
   {
    "duration": 650,
    "start_time": "2025-02-28T09:19:30.262Z"
   },
   {
    "duration": 81,
    "start_time": "2025-02-28T09:19:37.541Z"
   },
   {
    "duration": 651,
    "start_time": "2025-02-28T09:19:38.182Z"
   },
   {
    "duration": 4,
    "start_time": "2025-02-28T09:19:44.908Z"
   },
   {
    "duration": 641,
    "start_time": "2025-02-28T09:19:47.196Z"
   },
   {
    "duration": 3,
    "start_time": "2025-02-28T09:20:26.222Z"
   },
   {
    "duration": 637,
    "start_time": "2025-02-28T09:20:26.811Z"
   },
   {
    "duration": 3,
    "start_time": "2025-02-28T09:20:33.542Z"
   },
   {
    "duration": 644,
    "start_time": "2025-02-28T09:20:34.085Z"
   },
   {
    "duration": 4,
    "start_time": "2025-02-28T09:20:42.381Z"
   },
   {
    "duration": 637,
    "start_time": "2025-02-28T09:20:42.999Z"
   },
   {
    "duration": 3,
    "start_time": "2025-02-28T09:20:47.977Z"
   },
   {
    "duration": 649,
    "start_time": "2025-02-28T09:20:48.341Z"
   },
   {
    "duration": 13,
    "start_time": "2025-02-28T09:30:53.999Z"
   },
   {
    "duration": 42,
    "start_time": "2025-02-28T09:36:57.255Z"
   },
   {
    "duration": 179,
    "start_time": "2025-02-28T09:37:09.636Z"
   },
   {
    "duration": 37,
    "start_time": "2025-02-28T09:37:18.014Z"
   },
   {
    "duration": 34,
    "start_time": "2025-02-28T09:37:28.095Z"
   },
   {
    "duration": 20,
    "start_time": "2025-02-28T09:37:36.395Z"
   },
   {
    "duration": 15,
    "start_time": "2025-02-28T09:38:00.574Z"
   },
   {
    "duration": 840,
    "start_time": "2025-02-28T09:40:24.759Z"
   },
   {
    "duration": 3,
    "start_time": "2025-02-28T09:41:49.893Z"
   },
   {
    "duration": 1955,
    "start_time": "2025-02-28T09:42:05.415Z"
   },
   {
    "duration": 4,
    "start_time": "2025-02-28T09:42:11.843Z"
   },
   {
    "duration": 157,
    "start_time": "2025-02-28T09:43:04.436Z"
   },
   {
    "duration": 13,
    "start_time": "2025-02-28T09:43:18.461Z"
   },
   {
    "duration": 3,
    "start_time": "2025-02-28T09:43:29.507Z"
   },
   {
    "duration": 1310,
    "start_time": "2025-02-28T09:56:25.000Z"
   },
   {
    "duration": 981,
    "start_time": "2025-02-28T09:56:26.312Z"
   },
   {
    "duration": 3,
    "start_time": "2025-02-28T09:56:27.295Z"
   },
   {
    "duration": 296,
    "start_time": "2025-02-28T09:56:27.301Z"
   },
   {
    "duration": 15,
    "start_time": "2025-02-28T09:56:27.598Z"
   },
   {
    "duration": 3,
    "start_time": "2025-02-28T09:56:27.615Z"
   },
   {
    "duration": 723,
    "start_time": "2025-02-28T09:56:27.620Z"
   },
   {
    "duration": 34,
    "start_time": "2025-02-28T09:56:28.345Z"
   },
   {
    "duration": 164,
    "start_time": "2025-02-28T09:56:28.383Z"
   },
   {
    "duration": 57,
    "start_time": "2025-02-28T09:56:28.550Z"
   },
   {
    "duration": 55,
    "start_time": "2025-02-28T09:56:28.608Z"
   },
   {
    "duration": 24,
    "start_time": "2025-02-28T09:56:28.674Z"
   },
   {
    "duration": 14,
    "start_time": "2025-02-28T09:56:28.699Z"
   },
   {
    "duration": 2021,
    "start_time": "2025-02-28T09:56:28.714Z"
   },
   {
    "duration": 5,
    "start_time": "2025-02-28T09:56:30.736Z"
   },
   {
    "duration": 77,
    "start_time": "2025-02-28T09:56:30.743Z"
   },
   {
    "duration": 7,
    "start_time": "2025-02-28T09:56:30.822Z"
   },
   {
    "duration": 831144,
    "start_time": "2025-02-28T09:56:30.831Z"
   },
   {
    "duration": 0,
    "start_time": "2025-02-28T10:10:22.142Z"
   },
   {
    "duration": 10,
    "start_time": "2025-02-28T10:10:37.801Z"
   },
   {
    "duration": 73,
    "start_time": "2025-02-28T10:13:06.520Z"
   },
   {
    "duration": 50213,
    "start_time": "2025-02-28T10:13:57.123Z"
   },
   {
    "duration": 3,
    "start_time": "2025-02-28T10:14:47.338Z"
   },
   {
    "duration": 38,
    "start_time": "2025-02-28T10:14:47.343Z"
   },
   {
    "duration": 2736,
    "start_time": "2025-02-28T10:21:49.962Z"
   },
   {
    "duration": 6066,
    "start_time": "2025-02-28T10:22:00.882Z"
   },
   {
    "duration": 10,
    "start_time": "2025-02-28T10:22:06.963Z"
   },
   {
    "duration": 1451,
    "start_time": "2025-02-28T10:28:34.539Z"
   },
   {
    "duration": 1007,
    "start_time": "2025-02-28T10:28:35.998Z"
   },
   {
    "duration": 3,
    "start_time": "2025-02-28T10:28:37.006Z"
   },
   {
    "duration": 311,
    "start_time": "2025-02-28T10:28:37.011Z"
   },
   {
    "duration": 13,
    "start_time": "2025-02-28T10:28:37.325Z"
   },
   {
    "duration": 41,
    "start_time": "2025-02-28T10:28:37.340Z"
   },
   {
    "duration": 735,
    "start_time": "2025-02-28T10:28:37.388Z"
   },
   {
    "duration": 44,
    "start_time": "2025-02-28T10:28:38.124Z"
   },
   {
    "duration": 156,
    "start_time": "2025-02-28T10:28:38.175Z"
   },
   {
    "duration": 57,
    "start_time": "2025-02-28T10:28:38.332Z"
   },
   {
    "duration": 25,
    "start_time": "2025-02-28T10:28:38.398Z"
   },
   {
    "duration": 57,
    "start_time": "2025-02-28T10:28:38.424Z"
   },
   {
    "duration": 16,
    "start_time": "2025-02-28T10:28:38.486Z"
   },
   {
    "duration": 2008,
    "start_time": "2025-02-28T10:28:38.504Z"
   },
   {
    "duration": 4,
    "start_time": "2025-02-28T10:28:40.513Z"
   },
   {
    "duration": 5,
    "start_time": "2025-02-28T10:28:40.518Z"
   },
   {
    "duration": 14,
    "start_time": "2025-02-28T10:28:40.524Z"
   },
   {
    "duration": 1432,
    "start_time": "2025-02-28T10:41:18.200Z"
   },
   {
    "duration": 1080,
    "start_time": "2025-02-28T10:41:19.635Z"
   },
   {
    "duration": 3,
    "start_time": "2025-02-28T10:41:20.717Z"
   },
   {
    "duration": 400,
    "start_time": "2025-02-28T10:41:20.722Z"
   },
   {
    "duration": 14,
    "start_time": "2025-02-28T10:41:21.123Z"
   },
   {
    "duration": 3,
    "start_time": "2025-02-28T10:41:21.139Z"
   },
   {
    "duration": 877,
    "start_time": "2025-02-28T10:41:21.162Z"
   },
   {
    "duration": 55,
    "start_time": "2025-02-28T10:41:22.041Z"
   },
   {
    "duration": 178,
    "start_time": "2025-02-28T10:41:22.099Z"
   },
   {
    "duration": 46,
    "start_time": "2025-02-28T10:41:22.290Z"
   },
   {
    "duration": 28,
    "start_time": "2025-02-28T10:41:22.338Z"
   },
   {
    "duration": 27,
    "start_time": "2025-02-28T10:41:22.376Z"
   },
   {
    "duration": 12,
    "start_time": "2025-02-28T10:41:22.409Z"
   },
   {
    "duration": 2188,
    "start_time": "2025-02-28T10:41:22.423Z"
   },
   {
    "duration": 5,
    "start_time": "2025-02-28T10:41:24.613Z"
   },
   {
    "duration": 27,
    "start_time": "2025-02-28T10:41:24.620Z"
   },
   {
    "duration": 28,
    "start_time": "2025-02-28T10:41:24.649Z"
   },
   {
    "duration": 759788,
    "start_time": "2025-02-28T10:41:24.678Z"
   },
   {
    "duration": 13,
    "start_time": "2025-02-28T10:54:04.469Z"
   },
   {
    "duration": 44302,
    "start_time": "2025-02-28T10:54:04.485Z"
   },
   {
    "duration": 4,
    "start_time": "2025-02-28T10:54:48.788Z"
   },
   {
    "duration": 21,
    "start_time": "2025-02-28T10:54:48.794Z"
   },
   {
    "duration": 2773,
    "start_time": "2025-02-28T10:54:48.817Z"
   },
   {
    "duration": 5202,
    "start_time": "2025-02-28T10:54:51.592Z"
   },
   {
    "duration": 4,
    "start_time": "2025-02-28T10:54:56.795Z"
   },
   {
    "duration": 11,
    "start_time": "2025-02-28T10:58:00.567Z"
   },
   {
    "duration": 6,
    "start_time": "2025-02-28T11:13:34.138Z"
   },
   {
    "duration": 123,
    "start_time": "2025-02-28T11:14:06.683Z"
   },
   {
    "duration": 28,
    "start_time": "2025-02-28T11:14:10.059Z"
   },
   {
    "duration": 8,
    "start_time": "2025-02-28T11:14:30.787Z"
   },
   {
    "duration": 11,
    "start_time": "2025-02-28T11:14:33.738Z"
   },
   {
    "duration": 11,
    "start_time": "2025-02-28T11:14:37.558Z"
   },
   {
    "duration": 7,
    "start_time": "2025-02-28T11:14:40.618Z"
   },
   {
    "duration": 12,
    "start_time": "2025-02-28T11:14:43.317Z"
   },
   {
    "duration": 4,
    "start_time": "2025-02-28T11:15:14.927Z"
   },
   {
    "duration": 26,
    "start_time": "2025-02-28T11:15:37.623Z"
   },
   {
    "duration": 35,
    "start_time": "2025-02-28T11:15:38.559Z"
   },
   {
    "duration": 21,
    "start_time": "2025-02-28T11:15:39.119Z"
   },
   {
    "duration": 12,
    "start_time": "2025-02-28T11:15:40.075Z"
   },
   {
    "duration": 1442,
    "start_time": "2025-02-28T11:15:58.521Z"
   },
   {
    "duration": 1028,
    "start_time": "2025-02-28T11:15:59.965Z"
   },
   {
    "duration": 3,
    "start_time": "2025-02-28T11:16:00.995Z"
   },
   {
    "duration": 353,
    "start_time": "2025-02-28T11:16:01.000Z"
   },
   {
    "duration": 32,
    "start_time": "2025-02-28T11:16:01.361Z"
   },
   {
    "duration": 3,
    "start_time": "2025-02-28T11:16:01.398Z"
   },
   {
    "duration": 770,
    "start_time": "2025-02-28T11:16:01.403Z"
   },
   {
    "duration": 32,
    "start_time": "2025-02-28T11:16:02.175Z"
   },
   {
    "duration": 175,
    "start_time": "2025-02-28T11:16:02.208Z"
   },
   {
    "duration": 45,
    "start_time": "2025-02-28T11:16:02.386Z"
   },
   {
    "duration": 87,
    "start_time": "2025-02-28T11:16:02.433Z"
   },
   {
    "duration": 23,
    "start_time": "2025-02-28T11:16:02.521Z"
   },
   {
    "duration": 80,
    "start_time": "2025-02-28T11:16:02.546Z"
   },
   {
    "duration": 2048,
    "start_time": "2025-02-28T11:16:02.628Z"
   },
   {
    "duration": 7,
    "start_time": "2025-02-28T11:16:04.678Z"
   },
   {
    "duration": 7,
    "start_time": "2025-02-28T11:16:04.687Z"
   },
   {
    "duration": 4,
    "start_time": "2025-02-28T11:16:04.696Z"
   },
   {
    "duration": 730467,
    "start_time": "2025-02-28T11:16:04.702Z"
   },
   {
    "duration": 16,
    "start_time": "2025-02-28T11:28:15.183Z"
   },
   {
    "duration": 42406,
    "start_time": "2025-02-28T11:28:15.201Z"
   },
   {
    "duration": 3,
    "start_time": "2025-02-28T11:28:57.608Z"
   },
   {
    "duration": 9,
    "start_time": "2025-02-28T11:28:57.613Z"
   },
   {
    "duration": 1437,
    "start_time": "2025-02-28T15:08:45.411Z"
   },
   {
    "duration": 1013,
    "start_time": "2025-02-28T15:08:46.850Z"
   },
   {
    "duration": 3,
    "start_time": "2025-02-28T15:08:47.865Z"
   },
   {
    "duration": 262,
    "start_time": "2025-02-28T15:08:48.428Z"
   },
   {
    "duration": 13,
    "start_time": "2025-02-28T15:08:51.363Z"
   },
   {
    "duration": 3,
    "start_time": "2025-02-28T15:08:53.372Z"
   },
   {
    "duration": 666,
    "start_time": "2025-02-28T15:08:53.658Z"
   },
   {
    "duration": 25,
    "start_time": "2025-02-28T15:09:02.672Z"
   },
   {
    "duration": 140,
    "start_time": "2025-02-28T15:09:03.445Z"
   },
   {
    "duration": 42,
    "start_time": "2025-02-28T15:09:05.655Z"
   },
   {
    "duration": 23,
    "start_time": "2025-02-28T15:09:08.236Z"
   },
   {
    "duration": 22,
    "start_time": "2025-02-28T15:09:09.470Z"
   },
   {
    "duration": 208,
    "start_time": "2025-02-28T15:09:14.255Z"
   },
   {
    "duration": 148,
    "start_time": "2025-02-28T15:09:31.950Z"
   },
   {
    "duration": 222,
    "start_time": "2025-02-28T15:09:40.983Z"
   },
   {
    "duration": 11,
    "start_time": "2025-02-28T15:09:57.512Z"
   },
   {
    "duration": 112,
    "start_time": "2025-02-28T15:10:02.396Z"
   },
   {
    "duration": 77,
    "start_time": "2025-02-28T15:10:09.251Z"
   },
   {
    "duration": 6,
    "start_time": "2025-02-28T15:10:58.512Z"
   },
   {
    "duration": 17,
    "start_time": "2025-02-28T15:11:16.240Z"
   },
   {
    "duration": 13,
    "start_time": "2025-02-28T15:11:43.731Z"
   },
   {
    "duration": 5,
    "start_time": "2025-02-28T15:11:47.484Z"
   },
   {
    "duration": 948,
    "start_time": "2025-02-28T15:13:03.458Z"
   },
   {
    "duration": 3,
    "start_time": "2025-02-28T15:13:04.408Z"
   },
   {
    "duration": 247,
    "start_time": "2025-02-28T15:13:04.543Z"
   },
   {
    "duration": 14,
    "start_time": "2025-02-28T15:13:06.149Z"
   },
   {
    "duration": 3,
    "start_time": "2025-02-28T15:13:06.534Z"
   },
   {
    "duration": 583,
    "start_time": "2025-02-28T15:13:06.894Z"
   },
   {
    "duration": 18,
    "start_time": "2025-02-28T15:13:08.844Z"
   },
   {
    "duration": 111,
    "start_time": "2025-02-28T15:13:10.412Z"
   },
   {
    "duration": 26,
    "start_time": "2025-02-28T15:13:11.144Z"
   },
   {
    "duration": 97,
    "start_time": "2025-02-28T15:13:11.516Z"
   },
   {
    "duration": 23,
    "start_time": "2025-02-28T15:13:48.861Z"
   },
   {
    "duration": 24,
    "start_time": "2025-02-28T15:13:50.276Z"
   },
   {
    "duration": 85,
    "start_time": "2025-02-28T15:14:00.124Z"
   },
   {
    "duration": 206,
    "start_time": "2025-02-28T15:14:42.291Z"
   },
   {
    "duration": 152,
    "start_time": "2025-02-28T15:15:29.700Z"
   },
   {
    "duration": 79,
    "start_time": "2025-02-28T15:15:45.531Z"
   },
   {
    "duration": 20,
    "start_time": "2025-02-28T15:21:04.239Z"
   },
   {
    "duration": 25,
    "start_time": "2025-02-28T15:23:12.163Z"
   },
   {
    "duration": 19,
    "start_time": "2025-02-28T15:23:23.599Z"
   },
   {
    "duration": 74,
    "start_time": "2025-02-28T15:38:02.721Z"
   },
   {
    "duration": 2732,
    "start_time": "2025-02-28T15:39:41.383Z"
   },
   {
    "duration": 1193,
    "start_time": "2025-02-28T15:39:51.589Z"
   },
   {
    "duration": 119000,
    "start_time": "2025-02-28T15:40:59.334Z"
   },
   {
    "duration": 4,
    "start_time": "2025-02-28T15:43:09.042Z"
   },
   {
    "duration": 105,
    "start_time": "2025-02-28T15:43:17.007Z"
   },
   {
    "duration": 98,
    "start_time": "2025-02-28T15:43:29.750Z"
   },
   {
    "duration": 93,
    "start_time": "2025-02-28T15:44:14.634Z"
   },
   {
    "duration": 9,
    "start_time": "2025-02-28T15:46:05.946Z"
   },
   {
    "duration": 98,
    "start_time": "2025-02-28T15:46:59.349Z"
   },
   {
    "duration": 28276,
    "start_time": "2025-02-28T15:55:56.249Z"
   },
   {
    "duration": 1312,
    "start_time": "2025-02-28T15:56:29.270Z"
   },
   {
    "duration": 927,
    "start_time": "2025-02-28T15:56:31.821Z"
   },
   {
    "duration": 3,
    "start_time": "2025-02-28T15:56:32.750Z"
   },
   {
    "duration": 413,
    "start_time": "2025-02-28T15:56:32.755Z"
   },
   {
    "duration": 14,
    "start_time": "2025-02-28T15:56:33.477Z"
   },
   {
    "duration": 3,
    "start_time": "2025-02-28T15:56:33.725Z"
   },
   {
    "duration": 651,
    "start_time": "2025-02-28T15:56:33.982Z"
   },
   {
    "duration": 31,
    "start_time": "2025-02-28T15:56:34.830Z"
   },
   {
    "duration": 146,
    "start_time": "2025-02-28T15:56:36.173Z"
   },
   {
    "duration": 47,
    "start_time": "2025-02-28T15:56:36.726Z"
   },
   {
    "duration": 27,
    "start_time": "2025-02-28T15:56:38.006Z"
   },
   {
    "duration": 24,
    "start_time": "2025-02-28T15:56:38.550Z"
   },
   {
    "duration": 204,
    "start_time": "2025-02-28T15:56:39.230Z"
   },
   {
    "duration": 147,
    "start_time": "2025-02-28T15:56:41.357Z"
   },
   {
    "duration": 83,
    "start_time": "2025-02-28T15:56:41.622Z"
   },
   {
    "duration": 30,
    "start_time": "2025-02-28T15:56:42.782Z"
   },
   {
    "duration": 2153,
    "start_time": "2025-02-28T15:56:47.015Z"
   },
   {
    "duration": 4,
    "start_time": "2025-02-28T15:57:34.885Z"
   },
   {
    "duration": 4,
    "start_time": "2025-02-28T15:59:29.644Z"
   },
   {
    "duration": 4,
    "start_time": "2025-02-28T16:01:06.369Z"
   },
   {
    "duration": 4,
    "start_time": "2025-02-28T16:02:09.662Z"
   },
   {
    "duration": 2540,
    "start_time": "2025-02-28T16:37:33.464Z"
   },
   {
    "duration": 1191,
    "start_time": "2025-02-28T16:37:36.302Z"
   },
   {
    "duration": 893,
    "start_time": "2025-02-28T16:37:37.580Z"
   },
   {
    "duration": 4,
    "start_time": "2025-02-28T16:37:38.475Z"
   },
   {
    "duration": 341,
    "start_time": "2025-02-28T16:37:38.481Z"
   },
   {
    "duration": 14,
    "start_time": "2025-02-28T16:37:38.824Z"
   },
   {
    "duration": 29,
    "start_time": "2025-02-28T16:37:38.839Z"
   },
   {
    "duration": 645,
    "start_time": "2025-02-28T16:37:38.870Z"
   },
   {
    "duration": 30,
    "start_time": "2025-02-28T16:37:39.517Z"
   },
   {
    "duration": 160,
    "start_time": "2025-02-28T16:37:39.550Z"
   },
   {
    "duration": 42,
    "start_time": "2025-02-28T16:37:39.712Z"
   },
   {
    "duration": 26,
    "start_time": "2025-02-28T16:37:40.266Z"
   },
   {
    "duration": 24,
    "start_time": "2025-02-28T16:37:40.344Z"
   },
   {
    "duration": 205,
    "start_time": "2025-02-28T16:37:40.373Z"
   },
   {
    "duration": 155,
    "start_time": "2025-02-28T16:37:40.581Z"
   },
   {
    "duration": 86,
    "start_time": "2025-02-28T16:37:40.738Z"
   },
   {
    "duration": 29,
    "start_time": "2025-02-28T16:37:40.826Z"
   },
   {
    "duration": 1720,
    "start_time": "2025-02-28T16:37:43.299Z"
   },
   {
    "duration": 4,
    "start_time": "2025-02-28T16:37:45.021Z"
   },
   {
    "duration": 4,
    "start_time": "2025-02-28T16:37:45.222Z"
   },
   {
    "duration": 5,
    "start_time": "2025-02-28T16:37:48.197Z"
   },
   {
    "duration": 5470924,
    "start_time": "2025-02-28T16:37:52.973Z"
   },
   {
    "duration": 4,
    "start_time": "2025-02-28T18:18:32.652Z"
   },
   {
    "duration": 3,
    "start_time": "2025-02-28T18:18:37.536Z"
   },
   {
    "duration": 114,
    "start_time": "2025-02-28T18:18:46.553Z"
   },
   {
    "duration": 2880,
    "start_time": "2025-02-28T18:26:48.690Z"
   },
   {
    "duration": 5929,
    "start_time": "2025-02-28T18:26:51.573Z"
   },
   {
    "duration": 1040,
    "start_time": "2025-02-28T18:26:57.505Z"
   },
   {
    "duration": 3,
    "start_time": "2025-02-28T18:26:58.547Z"
   },
   {
    "duration": 412,
    "start_time": "2025-02-28T18:26:58.551Z"
   },
   {
    "duration": 13,
    "start_time": "2025-02-28T18:26:58.965Z"
   },
   {
    "duration": 5,
    "start_time": "2025-02-28T18:26:58.981Z"
   },
   {
    "duration": 702,
    "start_time": "2025-02-28T18:26:58.988Z"
   },
   {
    "duration": 46,
    "start_time": "2025-02-28T18:26:59.692Z"
   },
   {
    "duration": 279,
    "start_time": "2025-02-28T18:26:59.741Z"
   },
   {
    "duration": 48,
    "start_time": "2025-02-28T18:27:00.023Z"
   },
   {
    "duration": 81,
    "start_time": "2025-02-28T18:27:00.073Z"
   },
   {
    "duration": 50,
    "start_time": "2025-02-28T18:27:00.155Z"
   },
   {
    "duration": 352,
    "start_time": "2025-02-28T18:27:00.208Z"
   },
   {
    "duration": 182,
    "start_time": "2025-02-28T18:27:00.561Z"
   },
   {
    "duration": 101,
    "start_time": "2025-02-28T18:27:00.745Z"
   },
   {
    "duration": 39,
    "start_time": "2025-02-28T18:27:00.848Z"
   },
   {
    "duration": 1898,
    "start_time": "2025-02-28T18:27:00.889Z"
   },
   {
    "duration": 4,
    "start_time": "2025-02-28T18:27:02.789Z"
   },
   {
    "duration": 49,
    "start_time": "2025-02-28T18:27:02.803Z"
   },
   {
    "duration": 58,
    "start_time": "2025-02-28T18:27:02.854Z"
   },
   {
    "duration": 2735,
    "start_time": "2025-02-28T19:16:10.958Z"
   },
   {
    "duration": 1249,
    "start_time": "2025-02-28T19:16:13.695Z"
   },
   {
    "duration": 991,
    "start_time": "2025-02-28T19:16:14.946Z"
   },
   {
    "duration": 3,
    "start_time": "2025-02-28T19:16:15.939Z"
   },
   {
    "duration": 439,
    "start_time": "2025-02-28T19:16:15.945Z"
   },
   {
    "duration": 18,
    "start_time": "2025-02-28T19:16:16.386Z"
   },
   {
    "duration": 80,
    "start_time": "2025-02-28T19:16:16.406Z"
   },
   {
    "duration": 698,
    "start_time": "2025-02-28T19:16:16.488Z"
   },
   {
    "duration": 40,
    "start_time": "2025-02-28T19:16:17.188Z"
   },
   {
    "duration": 173,
    "start_time": "2025-02-28T19:16:17.230Z"
   },
   {
    "duration": 50,
    "start_time": "2025-02-28T19:16:17.406Z"
   },
   {
    "duration": 25,
    "start_time": "2025-02-28T19:16:17.458Z"
   },
   {
    "duration": 34,
    "start_time": "2025-02-28T19:16:17.503Z"
   },
   {
    "duration": 253,
    "start_time": "2025-02-28T19:16:17.539Z"
   },
   {
    "duration": 167,
    "start_time": "2025-02-28T19:16:17.793Z"
   },
   {
    "duration": 88,
    "start_time": "2025-02-28T19:16:17.962Z"
   },
   {
    "duration": 105,
    "start_time": "2025-02-28T19:16:18.052Z"
   },
   {
    "duration": 1732,
    "start_time": "2025-02-28T19:16:18.159Z"
   },
   {
    "duration": 10,
    "start_time": "2025-02-28T19:16:19.893Z"
   },
   {
    "duration": 73,
    "start_time": "2025-02-28T19:16:19.904Z"
   },
   {
    "duration": 4,
    "start_time": "2025-02-28T19:16:19.978Z"
   },
   {
    "duration": 2855,
    "start_time": "2025-02-28T19:27:00.224Z"
   },
   {
    "duration": 1310,
    "start_time": "2025-02-28T19:27:03.081Z"
   },
   {
    "duration": 932,
    "start_time": "2025-02-28T19:27:04.392Z"
   },
   {
    "duration": 3,
    "start_time": "2025-02-28T19:27:05.327Z"
   },
   {
    "duration": 397,
    "start_time": "2025-02-28T19:27:05.332Z"
   },
   {
    "duration": 14,
    "start_time": "2025-02-28T19:27:05.731Z"
   },
   {
    "duration": 88,
    "start_time": "2025-02-28T19:27:05.746Z"
   },
   {
    "duration": 950,
    "start_time": "2025-02-28T19:27:05.836Z"
   },
   {
    "duration": 40,
    "start_time": "2025-02-28T19:27:06.787Z"
   },
   {
    "duration": 177,
    "start_time": "2025-02-28T19:27:06.829Z"
   },
   {
    "duration": 52,
    "start_time": "2025-02-28T19:27:07.009Z"
   },
   {
    "duration": 116,
    "start_time": "2025-02-28T19:27:07.063Z"
   },
   {
    "duration": 89,
    "start_time": "2025-02-28T19:27:07.181Z"
   },
   {
    "duration": 270,
    "start_time": "2025-02-28T19:27:07.273Z"
   },
   {
    "duration": 176,
    "start_time": "2025-02-28T19:27:07.545Z"
   },
   {
    "duration": 88,
    "start_time": "2025-02-28T19:27:07.724Z"
   },
   {
    "duration": 255,
    "start_time": "2025-02-28T19:27:07.815Z"
   },
   {
    "duration": 1969,
    "start_time": "2025-02-28T19:27:08.072Z"
   },
   {
    "duration": 4,
    "start_time": "2025-02-28T19:27:10.043Z"
   },
   {
    "duration": 23,
    "start_time": "2025-02-28T19:27:10.049Z"
   },
   {
    "duration": 90,
    "start_time": "2025-02-28T19:27:10.074Z"
   },
   {
    "duration": 2613237,
    "start_time": "2025-02-28T19:27:10.165Z"
   },
   {
    "duration": 5,
    "start_time": "2025-02-28T20:10:43.405Z"
   },
   {
    "duration": 445512,
    "start_time": "2025-02-28T20:10:43.412Z"
   },
   {
    "duration": 184,
    "start_time": "2025-02-28T20:18:08.926Z"
   },
   {
    "duration": 0,
    "start_time": "2025-02-28T20:18:09.112Z"
   },
   {
    "duration": 0,
    "start_time": "2025-02-28T20:18:09.113Z"
   },
   {
    "duration": 0,
    "start_time": "2025-02-28T20:18:09.115Z"
   },
   {
    "duration": 0,
    "start_time": "2025-02-28T20:18:09.116Z"
   },
   {
    "duration": 9,
    "start_time": "2025-02-28T20:19:48.340Z"
   },
   {
    "duration": 4,
    "start_time": "2025-02-28T20:19:54.485Z"
   },
   {
    "duration": 3,
    "start_time": "2025-02-28T20:19:55.756Z"
   },
   {
    "duration": 1656,
    "start_time": "2025-02-28T20:19:56.517Z"
   },
   {
    "duration": 5,
    "start_time": "2025-02-28T20:19:58.175Z"
   }
  ],
  "kernelspec": {
   "display_name": "Python 3 (ipykernel)",
   "language": "python",
   "name": "python3"
  },
  "language_info": {
   "codemirror_mode": {
    "name": "ipython",
    "version": 3
   },
   "file_extension": ".py",
   "mimetype": "text/x-python",
   "name": "python",
   "nbconvert_exporter": "python",
   "pygments_lexer": "ipython3",
   "version": "3.9.5"
  },
  "toc": {
   "base_numbering": 1,
   "nav_menu": {},
   "number_sections": true,
   "sideBar": true,
   "skip_h1_title": true,
   "title_cell": "Table of Contents",
   "title_sidebar": "Contents",
   "toc_cell": false,
   "toc_position": {},
   "toc_section_display": true,
   "toc_window_display": false
  }
 },
 "nbformat": 4,
 "nbformat_minor": 2
}
